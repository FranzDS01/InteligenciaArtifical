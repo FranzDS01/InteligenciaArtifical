{
  "cells": [
    {
      "cell_type": "markdown",
      "metadata": {
        "id": "view-in-github",
        "colab_type": "text"
      },
      "source": [
        "<a href=\"https://colab.research.google.com/github/FranzDS01/InteligenciaArtifical/blob/main/Laboratorios/lab02/La02_Decifrar_passsword.ipynb\" target=\"_parent\"><img src=\"https://colab.research.google.com/assets/colab-badge.svg\" alt=\"Open In Colab\"/></a>"
      ]
    },
    {
      "cell_type": "markdown",
      "metadata": {
        "id": "1eQuc7U9j97T"
      },
      "source": [
        " #### Nombre: Soria Colque Franz Ronald\n",
        " repositorio:https://github.com/FranzDS01/InteligenciaArtifical/blob/main/Laboratorios/lab02/La02_Decifrar_passsword.ipynb\n",
        " # laboratorio 2\n",
        " ### decifrado de contraseña"
      ]
    },
    {
      "cell_type": "code",
      "execution_count": null,
      "metadata": {
        "id": "0CjNzQBFj97a"
      },
      "outputs": [],
      "source": [
        "class Nodo:\n",
        "    def __init__(self, estado, hijo=None):\n",
        "        self.estado = estado\n",
        "        self.hijo = None\n",
        "        self.padre = None\n",
        "        self.accion = None\n",
        "        self.acciones = None\n",
        "        self.costo = None\n",
        "        self.set_hijo(hijo)\n",
        "\n",
        "    def set_estado(self, estado):\n",
        "        self.estado = estado\n",
        "\n",
        "    def get_estado(self):\n",
        "        return self.estado\n",
        "\n",
        "    def set_hijo(self, hijo):\n",
        "        self.hijo = hijo\n",
        "        if self.hijo is not None:\n",
        "            for s in self.hijo:\n",
        "                s.padre = self\n",
        "\n",
        "    def get_hijo(self):\n",
        "        return self.hijo\n",
        "\n",
        "    def set_padre(self, padre):\n",
        "        self.padre = padre\n",
        "\n",
        "    def get_padre(self):\n",
        "        return self.padre\n",
        "\n",
        "    def set_accion(self, accion):\n",
        "        self.accion = accion\n",
        "\n",
        "    def get_accion(self):\n",
        "        return self.accion\n",
        "\n",
        "    def set_acciones(self, acciones):\n",
        "        self.acciones = acciones\n",
        "\n",
        "    def get_acciones(self):\n",
        "        return self.acciones\n",
        "\n",
        "    def set_costo(self, costo):\n",
        "        self.costo = costo\n",
        "\n",
        "    def get_costo(self):\n",
        "        return self.costo\n",
        "\n",
        "    def equal(self, Nodo):\n",
        "        if self.get_estado() == Nodo.get_estado():\n",
        "            return True\n",
        "        else:\n",
        "            return False\n",
        "\n",
        "    def en_lista(self, lista_nodos):\n",
        "        enlistado = False\n",
        "        for n in lista_nodos:\n",
        "            if self.equal(n):\n",
        "                enlistado = True\n",
        "        return enlistado\n",
        "\n",
        "    def __str__(self):\n",
        "        return str(self.get_estado())\n",
        "\n",
        "\n"
      ]
    },
    {
      "cell_type": "markdown",
      "metadata": {
        "id": "icHxEbl5j97f"
      },
      "source": [
        "Se agrega el nodo actual a la lista de nodos visitados.\n",
        "Se verifica si el nodo actual es la solución buscada. Si es así, se devuelve el nodo actual.\n",
        "En caso contrario, se almacena el estado actual del nodo en la variable nodo_actual y se imprime.\n",
        "Se itera sobre los elementos del estado actual.\n",
        "Si un elemento del estado actual es menor que el correspondiente en la solución, se crea un nuevo estado estado_nuevo incrementando ese elemento en 1.\n",
        "Se crea un nuevo nodo hijo con el estado estado_nuevo.\n",
        "Si el estado del hijo no está en la lista de nodos visitados, se realiza una llamada recursiva a la función busqueda_BPPR con el hijo, la solución y la lista de nodos visitados.\n",
        "Si se obtiene un resultado de la llamada recursiva (es decir, se encontró una solución), se devuelve ese resultado.\n",
        "Si no se encuentra ninguna solución en los hijos del nodo actual, se devuelve None."
      ]
    },
    {
      "cell_type": "code",
      "execution_count": null,
      "metadata": {
        "id": "olMHMt34j97g"
      },
      "outputs": [],
      "source": [
        "def busqueda_BPPR(nodo_inicial, solucion, visitado):\n",
        "    # agre el nodo actual a visitados\n",
        "    visitado.append(nodo_inicial.get_estado())\n",
        "    if nodo_inicial.get_estado() == solucion:  # compara si ese nodo es la solucion\n",
        "        return nodo_inicial\n",
        "    else:\n",
        "        nodo_actual=nodo_inicial.get_estado()\n",
        "        print(nodo_actual)\n",
        "\n",
        "        for i in range(len(nodo_actual)):\n",
        "            if nodo_actual[i]< solucion[i]:\n",
        "                estado_nuevo = nodo_actual[:]\n",
        "                estado_nuevo[i]+=1\n",
        "                hijo=Nodo(estado_nuevo)\n",
        "                if not hijo.get_estado() in visitado:\n",
        "                    resultado = busqueda_BPPR(hijo, solucion, visitado)\n",
        "                    if resultado is not None:\n",
        "                        return resultado\n",
        "\n",
        "        return None\n"
      ]
    },
    {
      "cell_type": "code",
      "execution_count": null,
      "metadata": {
        "id": "iyNLrqnwj97i",
        "outputId": "0c18c6ac-5066-4235-fef2-f38cfcc6e7f6"
      },
      "outputs": [
        {
          "name": "stdout",
          "output_type": "stream",
          "text": [
            "Estado Inicial [0, 0, 0, 0, 0, 0, 0, 0, 0, 0, 0, 0, 0, 0, 0, 0]\n",
            "Solucion [5, 4, 8, 5, 6, 4, 8, 5, 4, 2, 1, 5, 5, 4, 5, 5]\n",
            "[0, 0, 0, 0, 0, 0, 0, 0, 0, 0, 0, 0, 0, 0, 0, 0]\n",
            "[1, 0, 0, 0, 0, 0, 0, 0, 0, 0, 0, 0, 0, 0, 0, 0]\n",
            "[2, 0, 0, 0, 0, 0, 0, 0, 0, 0, 0, 0, 0, 0, 0, 0]\n",
            "[3, 0, 0, 0, 0, 0, 0, 0, 0, 0, 0, 0, 0, 0, 0, 0]\n",
            "[4, 0, 0, 0, 0, 0, 0, 0, 0, 0, 0, 0, 0, 0, 0, 0]\n",
            "[5, 0, 0, 0, 0, 0, 0, 0, 0, 0, 0, 0, 0, 0, 0, 0]\n",
            "[5, 1, 0, 0, 0, 0, 0, 0, 0, 0, 0, 0, 0, 0, 0, 0]\n",
            "[5, 2, 0, 0, 0, 0, 0, 0, 0, 0, 0, 0, 0, 0, 0, 0]\n",
            "[5, 3, 0, 0, 0, 0, 0, 0, 0, 0, 0, 0, 0, 0, 0, 0]\n",
            "[5, 4, 0, 0, 0, 0, 0, 0, 0, 0, 0, 0, 0, 0, 0, 0]\n",
            "[5, 4, 1, 0, 0, 0, 0, 0, 0, 0, 0, 0, 0, 0, 0, 0]\n",
            "[5, 4, 2, 0, 0, 0, 0, 0, 0, 0, 0, 0, 0, 0, 0, 0]\n",
            "[5, 4, 3, 0, 0, 0, 0, 0, 0, 0, 0, 0, 0, 0, 0, 0]\n",
            "[5, 4, 4, 0, 0, 0, 0, 0, 0, 0, 0, 0, 0, 0, 0, 0]\n",
            "[5, 4, 5, 0, 0, 0, 0, 0, 0, 0, 0, 0, 0, 0, 0, 0]\n",
            "[5, 4, 6, 0, 0, 0, 0, 0, 0, 0, 0, 0, 0, 0, 0, 0]\n",
            "[5, 4, 7, 0, 0, 0, 0, 0, 0, 0, 0, 0, 0, 0, 0, 0]\n",
            "[5, 4, 8, 0, 0, 0, 0, 0, 0, 0, 0, 0, 0, 0, 0, 0]\n",
            "[5, 4, 8, 1, 0, 0, 0, 0, 0, 0, 0, 0, 0, 0, 0, 0]\n",
            "[5, 4, 8, 2, 0, 0, 0, 0, 0, 0, 0, 0, 0, 0, 0, 0]\n",
            "[5, 4, 8, 3, 0, 0, 0, 0, 0, 0, 0, 0, 0, 0, 0, 0]\n",
            "[5, 4, 8, 4, 0, 0, 0, 0, 0, 0, 0, 0, 0, 0, 0, 0]\n",
            "[5, 4, 8, 5, 0, 0, 0, 0, 0, 0, 0, 0, 0, 0, 0, 0]\n",
            "[5, 4, 8, 5, 1, 0, 0, 0, 0, 0, 0, 0, 0, 0, 0, 0]\n",
            "[5, 4, 8, 5, 2, 0, 0, 0, 0, 0, 0, 0, 0, 0, 0, 0]\n",
            "[5, 4, 8, 5, 3, 0, 0, 0, 0, 0, 0, 0, 0, 0, 0, 0]\n",
            "[5, 4, 8, 5, 4, 0, 0, 0, 0, 0, 0, 0, 0, 0, 0, 0]\n",
            "[5, 4, 8, 5, 5, 0, 0, 0, 0, 0, 0, 0, 0, 0, 0, 0]\n",
            "[5, 4, 8, 5, 6, 0, 0, 0, 0, 0, 0, 0, 0, 0, 0, 0]\n",
            "[5, 4, 8, 5, 6, 1, 0, 0, 0, 0, 0, 0, 0, 0, 0, 0]\n",
            "[5, 4, 8, 5, 6, 2, 0, 0, 0, 0, 0, 0, 0, 0, 0, 0]\n",
            "[5, 4, 8, 5, 6, 3, 0, 0, 0, 0, 0, 0, 0, 0, 0, 0]\n",
            "[5, 4, 8, 5, 6, 4, 0, 0, 0, 0, 0, 0, 0, 0, 0, 0]\n",
            "[5, 4, 8, 5, 6, 4, 1, 0, 0, 0, 0, 0, 0, 0, 0, 0]\n",
            "[5, 4, 8, 5, 6, 4, 2, 0, 0, 0, 0, 0, 0, 0, 0, 0]\n",
            "[5, 4, 8, 5, 6, 4, 3, 0, 0, 0, 0, 0, 0, 0, 0, 0]\n",
            "[5, 4, 8, 5, 6, 4, 4, 0, 0, 0, 0, 0, 0, 0, 0, 0]\n",
            "[5, 4, 8, 5, 6, 4, 5, 0, 0, 0, 0, 0, 0, 0, 0, 0]\n",
            "[5, 4, 8, 5, 6, 4, 6, 0, 0, 0, 0, 0, 0, 0, 0, 0]\n",
            "[5, 4, 8, 5, 6, 4, 7, 0, 0, 0, 0, 0, 0, 0, 0, 0]\n",
            "[5, 4, 8, 5, 6, 4, 8, 0, 0, 0, 0, 0, 0, 0, 0, 0]\n",
            "[5, 4, 8, 5, 6, 4, 8, 1, 0, 0, 0, 0, 0, 0, 0, 0]\n",
            "[5, 4, 8, 5, 6, 4, 8, 2, 0, 0, 0, 0, 0, 0, 0, 0]\n",
            "[5, 4, 8, 5, 6, 4, 8, 3, 0, 0, 0, 0, 0, 0, 0, 0]\n",
            "[5, 4, 8, 5, 6, 4, 8, 4, 0, 0, 0, 0, 0, 0, 0, 0]\n",
            "[5, 4, 8, 5, 6, 4, 8, 5, 0, 0, 0, 0, 0, 0, 0, 0]\n",
            "[5, 4, 8, 5, 6, 4, 8, 5, 1, 0, 0, 0, 0, 0, 0, 0]\n",
            "[5, 4, 8, 5, 6, 4, 8, 5, 2, 0, 0, 0, 0, 0, 0, 0]\n",
            "[5, 4, 8, 5, 6, 4, 8, 5, 3, 0, 0, 0, 0, 0, 0, 0]\n",
            "[5, 4, 8, 5, 6, 4, 8, 5, 4, 0, 0, 0, 0, 0, 0, 0]\n",
            "[5, 4, 8, 5, 6, 4, 8, 5, 4, 1, 0, 0, 0, 0, 0, 0]\n",
            "[5, 4, 8, 5, 6, 4, 8, 5, 4, 2, 0, 0, 0, 0, 0, 0]\n",
            "[5, 4, 8, 5, 6, 4, 8, 5, 4, 2, 1, 0, 0, 0, 0, 0]\n",
            "[5, 4, 8, 5, 6, 4, 8, 5, 4, 2, 1, 1, 0, 0, 0, 0]\n",
            "[5, 4, 8, 5, 6, 4, 8, 5, 4, 2, 1, 2, 0, 0, 0, 0]\n",
            "[5, 4, 8, 5, 6, 4, 8, 5, 4, 2, 1, 3, 0, 0, 0, 0]\n",
            "[5, 4, 8, 5, 6, 4, 8, 5, 4, 2, 1, 4, 0, 0, 0, 0]\n",
            "[5, 4, 8, 5, 6, 4, 8, 5, 4, 2, 1, 5, 0, 0, 0, 0]\n",
            "[5, 4, 8, 5, 6, 4, 8, 5, 4, 2, 1, 5, 1, 0, 0, 0]\n",
            "[5, 4, 8, 5, 6, 4, 8, 5, 4, 2, 1, 5, 2, 0, 0, 0]\n",
            "[5, 4, 8, 5, 6, 4, 8, 5, 4, 2, 1, 5, 3, 0, 0, 0]\n",
            "[5, 4, 8, 5, 6, 4, 8, 5, 4, 2, 1, 5, 4, 0, 0, 0]\n",
            "[5, 4, 8, 5, 6, 4, 8, 5, 4, 2, 1, 5, 5, 0, 0, 0]\n",
            "[5, 4, 8, 5, 6, 4, 8, 5, 4, 2, 1, 5, 5, 1, 0, 0]\n",
            "[5, 4, 8, 5, 6, 4, 8, 5, 4, 2, 1, 5, 5, 2, 0, 0]\n",
            "[5, 4, 8, 5, 6, 4, 8, 5, 4, 2, 1, 5, 5, 3, 0, 0]\n",
            "[5, 4, 8, 5, 6, 4, 8, 5, 4, 2, 1, 5, 5, 4, 0, 0]\n",
            "[5, 4, 8, 5, 6, 4, 8, 5, 4, 2, 1, 5, 5, 4, 1, 0]\n",
            "[5, 4, 8, 5, 6, 4, 8, 5, 4, 2, 1, 5, 5, 4, 2, 0]\n",
            "[5, 4, 8, 5, 6, 4, 8, 5, 4, 2, 1, 5, 5, 4, 3, 0]\n",
            "[5, 4, 8, 5, 6, 4, 8, 5, 4, 2, 1, 5, 5, 4, 4, 0]\n",
            "[5, 4, 8, 5, 6, 4, 8, 5, 4, 2, 1, 5, 5, 4, 5, 0]\n",
            "[5, 4, 8, 5, 6, 4, 8, 5, 4, 2, 1, 5, 5, 4, 5, 1]\n",
            "[5, 4, 8, 5, 6, 4, 8, 5, 4, 2, 1, 5, 5, 4, 5, 2]\n",
            "[5, 4, 8, 5, 6, 4, 8, 5, 4, 2, 1, 5, 5, 4, 5, 3]\n",
            "[5, 4, 8, 5, 6, 4, 8, 5, 4, 2, 1, 5, 5, 4, 5, 4]\n",
            "[5, 4, 8, 5, 6, 4, 8, 5, 4, 2, 1, 5, 5, 4, 5, 5]\n",
            "Tiempo de ejecucion:  0.0019958019256591797\n"
          ]
        }
      ],
      "source": [
        "import time\n",
        "if __name__ == \"__main__\":\n",
        "    size = input(\"Ingrese la contraseña: \")\n",
        "    solucion = []\n",
        "    estado_inicial = []\n",
        "    for i in size:\n",
        "        solucion.append(int(i))\n",
        "        estado_inicial.append(0)\n",
        "    print(\"Estado Inicial\", estado_inicial)\n",
        "    print(\"Solucion\", solucion)\n",
        "    nodo_solucion = None\n",
        "    visitado = []\n",
        "    nodo_inicial = Nodo(estado_inicial)\n",
        "    inicio = time.time()\n",
        "    nodo_actual = busqueda_BPPR(nodo_inicial, solucion, visitado)\n",
        "    fin = time.time()\n",
        "    print(nodo_actual)\n",
        "    print(\"Tiempo de ejecucion: \", fin - inicio)\n",
        ""
      ]
    },
    {
      "cell_type": "markdown",
      "metadata": {
        "id": "f3kC7X5Nj97l"
      },
      "source": [
        "el algoritmo soporta mas de 30 digitos para encontrar la solucion le toma alrededor de 0.015 segundos"
      ]
    }
  ],
  "metadata": {
    "kernelspec": {
      "display_name": "Python 3",
      "language": "python",
      "name": "python3"
    },
    "language_info": {
      "codemirror_mode": {
        "name": "ipython",
        "version": 3
      },
      "file_extension": ".py",
      "mimetype": "text/x-python",
      "name": "python",
      "nbconvert_exporter": "python",
      "pygments_lexer": "ipython3",
      "version": "3.10.11"
    },
    "orig_nbformat": 4,
    "vscode": {
      "interpreter": {
        "hash": "afb734500600fd355917ca529030176ea0ca205570884b88f2f6f7d791fd3fbe"
      }
    },
    "colab": {
      "provenance": [],
      "include_colab_link": true
    }
  },
  "nbformat": 4,
  "nbformat_minor": 0
}