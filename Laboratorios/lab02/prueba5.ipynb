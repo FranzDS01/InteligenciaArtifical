{
 "cells": [
  {
   "cell_type": "code",
   "execution_count": 16,
   "metadata": {},
   "outputs": [],
   "source": [
    "# from google.colab import drive\n",
    "# drive.mount('/content/gdrive/')\n"
   ]
  },
  {
   "cell_type": "code",
   "execution_count": 17,
   "metadata": {},
   "outputs": [],
   "source": [
    "# import sys\n",
    "# sys.path.append('/content/gdrive/MyDrive/Colab Notebooks/SIS420/Busquedas')\n",
    "                 \n",
    "#from Nodos import Nodo\n",
    "import time"
   ]
  },
  {
   "cell_type": "code",
   "execution_count": 18,
   "metadata": {},
   "outputs": [],
   "source": [
    "class Nodo:\n",
    "    def __init__(self, estado, hijo=None):\n",
    "        self.estado = estado\n",
    "        self.hijo = []\n",
    "        self.padre = None\n",
    "        self.accion = None\n",
    "        self.acciones = None\n",
    "        self.costo = None\n",
    "        self.set_hijo(hijo)\n",
    "\n",
    "    def set_estado(self, estado):\n",
    "        self.estado = estado\n",
    "\n",
    "    def get_estado(self):\n",
    "        return self.estado\n",
    "\n",
    "\n",
    "    def set_hijo(self, hijo):\n",
    "        if (hijo is not None):\n",
    "            self.hijo.append(hijo)\n",
    "            if self.hijo is not None:\n",
    "                for h in self.hijo:\n",
    "                    h.padre = self\n",
    "\n",
    "    def get_hijo(self):\n",
    "        return self.hijo\n",
    "    \n",
    "    def set_padre(self, padre):\n",
    "        self.padre = padre\n",
    "\n",
    "    def get_padre(self):\n",
    "        return self.padre\n",
    "    \n",
    "    def set_accion(self, accion):\n",
    "        self.accion = accion\n",
    "\n",
    "    def get_accion(self):\n",
    "        return self.accion\n",
    "\n",
    "    def set_acciones(self, acciones):\n",
    "        self.acciones = acciones\n",
    "\n",
    "    def get_acciones(self):\n",
    "        return self.acciones\n",
    "\n",
    "    def set_costo(self, costo):\n",
    "        self.costo = costo\n",
    "\n",
    "    def get_costo(self):\n",
    "        return self.costo\n",
    "\n",
    "    def equal(self, Nodo):\n",
    "        if self.get_estado() == Nodo.get_estado():\n",
    "            return True\n",
    "        else:\n",
    "            return False\n",
    "\n",
    "    def en_lista(self, lista_nodos):\n",
    "        enlistado = False\n",
    "        for n in lista_nodos:\n",
    "            if self.equal(n):\n",
    "                enlistado = True\n",
    "        return enlistado\n",
    "\n",
    "    def __str__(self):\n",
    "        return str(self.get_estado())"
   ]
  },
  {
   "cell_type": "code",
   "execution_count": 19,
   "metadata": {},
   "outputs": [],
   "source": [
    "import random\n",
    "def busqueda_BPPR(nodo_inicial, solucion, visitado):\n",
    "    nodo_inicial = random.sample(range(0,5),5)\n",
    "    visitado.append(nodo_inicial.get_estado())\n",
    "    if nodo_inicial.get_estado() == solucion:\n",
    "        return nodo_inicial\n",
    "    else:\n",
    "        for i in range(0, len(solucion)-1):\n",
    "            indice = i\n",
    "                \n",
    "            hijo_datos = nodo_inicial.get_estado().copy()\n",
    "            temp = hijo_datos[indice]\n",
    "            hijo_datos[indice] = hijo_datos[indice+1]\n",
    "            hijo_datos[indice+1] = temp\n",
    "            hijo = Nodo(hijo_datos)\n",
    "            nodo_inicial.set_hijo(hijo)\n",
    "        \n",
    "        for nodo_hijo in nodo_inicial.get_hijo():\n",
    "            if not nodo_hijo.get_estado() in visitado:\n",
    "                # Llamada Recursiva\n",
    "                Solution = busqueda_BPPR(nodo_hijo, solucion, visitado)\n",
    "                if Solution is not None:\n",
    "                    return Solution\n",
    "        return None"
   ]
  },
  {
   "cell_type": "code",
   "execution_count": null,
   "metadata": {},
   "outputs": [],
   "source": [
    "if __name__ == \"__main__\":\n",
    "    n = int(input(\"Ingrese numero de elementos en la lista: \"))\n",
    "    size = input(\"Ingrese la contraseña: \")\n",
    "    solucion = []\n",
    "    estado_inicial=[]\n",
    "    for i in size:\n",
    "        solucion.append(int(i))\n",
    "        estado_inicial.append(0)\n",
    "    mayor = max(solucion)\n",
    "    menor = min(solucion)\n",
    "    print(\"Estado Inicial\", estado_inicial)\n",
    "    print(\"Solucion\", solucion)\n",
    "    nodo_solucion = None\n",
    "    visitado = []\n",
    "    nodo_inicial = Nodo(estado_inicial)\n",
    "    inicio = time.time()\n",
    "    nodo_actual = busqueda_BPPR(nodo_inicial, solucion, visitado)\n",
    "    fin = time.time()\n",
    "     \n",
    "    # Mostrar Resultado\n",
    "    resultado = []\n",
    "    while nodo_actual.get_padre() is not None:\n",
    "        resultado.append(nodo_actual.get_estado())\n",
    "        nodo_actual = nodo_actual.get_padre()\n",
    "    resultado.append(estado_inicial)\n",
    "    resultado.reverse()\n",
    "    print(resultado)\n",
    "    print(\"Tiempo de ejecucion: \", fin - inicio)\n",
    "    "
   ]
  },
  {
   "cell_type": "code",
   "execution_count": 19,
   "metadata": {},
   "outputs": [
    {
     "name": "stdout",
     "output_type": "stream",
     "text": [
      "[2, 1, 0]\n",
      "5 7 6 4 2\n"
     ]
    }
   ],
   "source": [
    "import random\n",
    "a = random.sample(range(0,3),3)\n",
    "print(a)\n",
    "print(\"5 7 6 4 2\")"
   ]
  },
  {
   "cell_type": "code",
   "execution_count": 31,
   "metadata": {},
   "outputs": [
    {
     "name": "stdout",
     "output_type": "stream",
     "text": [
      "[4, 6, 7, 2, 5]\n"
     ]
    }
   ],
   "source": [
    "import random\n",
    "\n",
    "numeros_aleatorios = random.choices(range(2, 8), k=5)\n",
    "print(numeros_aleatorios)\n"
   ]
  },
  {
   "cell_type": "code",
   "execution_count": 34,
   "metadata": {},
   "outputs": [
    {
     "name": "stdout",
     "output_type": "stream",
     "text": [
      "[1, 0, 0, 0, 0]\n",
      "[2, 0, 0, 0, 0]\n",
      "[3, 0, 0, 0, 0]\n",
      "[4, 0, 0, 0, 0]\n",
      "[4, 1, 0, 0, 0]\n",
      "[4, 2, 0, 0, 0]\n",
      "[4, 2, 1, 0, 0]\n",
      "[4, 2, 1, 1, 0]\n",
      "[4, 2, 1, 2, 0]\n",
      "[4, 2, 1, 3, 0]\n",
      "[4, 2, 1, 4, 0]\n",
      "[4, 2, 1, 5, 0]\n",
      "[4, 2, 1, 6, 0]\n",
      "[4, 2, 1, 6, 1]\n",
      "[4, 2, 1, 6, 2]\n",
      "[4, 2, 1, 6, 3]\n",
      "[4, 2, 1, 6, 4]\n",
      "[4, 2, 1, 6, 5]\n",
      "[4, 2, 1, 6, 6]\n",
      "[4, 2, 1, 6, 7]\n",
      "[4, 2, 1, 6, 8]\n",
      "[4, 2, 1, 6, 9]\n",
      "Solución encontrada: [4, 2, 1, 6, 9]\n"
     ]
    }
   ],
   "source": [
    "def dfs(current_state, goal_state, visited):\n",
    "    if current_state == goal_state:\n",
    "        return current_state\n",
    "\n",
    "    visited.add(tuple(current_state))\n",
    "\n",
    "    for i in range(len(current_state)):\n",
    "        if current_state[i] < goal_state[i]:\n",
    "            new_state = current_state.copy()\n",
    "            new_state[i] += 1\n",
    "            print(new_state)\n",
    "            if tuple(new_state) not in visited:\n",
    "                print(\"true\",i)\n",
    "                result = dfs(new_state, goal_state, visited)\n",
    "                if result:\n",
    "                    return result\n",
    "\n",
    "    return None\n",
    "\n",
    "\n",
    "initial_state = [0, 0, 0, 0 ,0]\n",
    "goal_state = [4, 2, 1, 6, 9]\n",
    "visited = set()\n",
    "\n",
    "result = dfs(initial_state, goal_state, visited)\n",
    "\n",
    "if result:\n",
    "    print(\"Solución encontrada:\", result)\n",
    "else:\n",
    "    print(\"No se encontró solución\")\n"
   ]
  }
 ],
 "metadata": {
  "kernelspec": {
   "display_name": "Python 3",
   "language": "python",
   "name": "python3"
  },
  "language_info": {
   "codemirror_mode": {
    "name": "ipython",
    "version": 3
   },
   "file_extension": ".py",
   "mimetype": "text/x-python",
   "name": "python",
   "nbconvert_exporter": "python",
   "pygments_lexer": "ipython3",
   "version": "3.10.7"
  },
  "orig_nbformat": 4,
  "vscode": {
   "interpreter": {
    "hash": "afb734500600fd355917ca529030176ea0ca205570884b88f2f6f7d791fd3fbe"
   }
  }
 },
 "nbformat": 4,
 "nbformat_minor": 2
}
