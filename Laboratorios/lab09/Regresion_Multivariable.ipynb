{
  "cells": [
    {
      "cell_type": "markdown",
      "metadata": {
        "id": "view-in-github",
        "colab_type": "text"
      },
      "source": [
        "<a href=\"https://colab.research.google.com/github/FranzDS01/InteligenciaArtifical/blob/main/Laboratorios/lab09/Regresion_Multivariable.ipynb\" target=\"_parent\"><img src=\"https://colab.research.google.com/assets/colab-badge.svg\" alt=\"Open In Colab\"/></a>"
      ]
    },
    {
      "cell_type": "markdown",
      "metadata": {
        "id": "A6pYgRpaltUg"
      },
      "source": [
        "### repositorio\n",
        "Soria Colque Franz Ronald\n",
        "https://github.com/FranzDS01/InteligenciaArtifical/blob/main/Laboratorios/lab09/Regresion_Multivariable.ipynb"
      ]
    },
    {
      "cell_type": "markdown",
      "metadata": {
        "id": "me4_D_wdltUp"
      },
      "source": [
        "## Regresion Multivariables\n",
        "\n",
        "El dataset utilizado en este caso se refiere a la emisión de carbono generada por los coches. Se emplea el algoritmo del descenso de gradiente múltiple y la ecuación de la normal para realizar predicciones.\n",
        "\n",
        "Dado que el dataset contiene columnas no numéricas, se realiza una conversión de estas columnas a valores numéricos. Esto se lleva a cabo mediante la función \"convertir_categoricas_int(categoricas, data)\". Esta función toma como parámetros las columnas no numéricas y el dataset, asignando un valor numérico único a cada fila. Sin embargo, si existen varias filas con el mismo valor de texto, se les asigna el mismo valor numérico.\n",
        "\n",
        "Una vez que los datos han sido procesados, se procede a encontrar los mejores valores de theta utilizando el algoritmo del descenso de gradiente múltiple. Para este caso en particular con  valores de alfa=0.001 y un número óptimo de iteraciones de 12000.\n",
        "\n",
        "Al realizar la predicción utilizando datos del mismo dataset, por ejemplo, con X_prueba=[1,1,1,1600,1390], se obtiene una predicción de emisión de carbono de 100 tanto utilizando el descenso de gradiente como aplicando la ecuación de la normal.\n",
        "\n",
        "En resumen, mediante el uso del descenso de gradiente múltiple y la ecuación de la normal, se logra realizar predicciones de emisión de carbono basadas en los datos del dataset. La conversión de columnas no numéricas a valores numéricos y la búsqueda de los mejores valores de theta contribuyen a obtener resultados más precisos en las predicciones. En el caso específico de los datos de prueba, se obtiene una predicción de emisión de carbono de 100 tanto con el descenso de gradiente como con la ecuación de la normal.\n",
        "\n"
      ]
    },
    {
      "cell_type": "code",
      "execution_count": null,
      "metadata": {
        "id": "jWoi2ZtVltUr"
      },
      "outputs": [],
      "source": [
        "import pandas as pd\n",
        "import numpy as np\n",
        "import matplotlib.pyplot as plt\n",
        "from sklearn.preprocessing import LabelEncoder\n",
        "from datetime import datetime"
      ]
    },
    {
      "cell_type": "code",
      "execution_count": null,
      "metadata": {
        "id": "0zftjVnEltUw"
      },
      "outputs": [],
      "source": [
        "def cargar_dataset(ruta):\n",
        "    data=pd.read_csv(ruta)\n",
        "    return data"
      ]
    },
    {
      "cell_type": "code",
      "execution_count": null,
      "metadata": {
        "id": "TKYnmAnkltUy"
      },
      "outputs": [],
      "source": [
        "def eliminar_columnas(columnas,data):\n",
        "    data=data.drop(columnas, axis=1)\n",
        "    return data"
      ]
    },
    {
      "cell_type": "code",
      "execution_count": null,
      "metadata": {
        "id": "lZi7VeTnltUz"
      },
      "outputs": [],
      "source": [
        "def convertir_categoricas_int(categoricas,data):\n",
        "    for columna in categoricas:\n",
        "        le = LabelEncoder()\n",
        "        data[columna] = le.fit_transform(data[columna])\n",
        "    return  data"
      ]
    },
    {
      "cell_type": "code",
      "execution_count": null,
      "metadata": {
        "id": "iDTfgEn9ltU0"
      },
      "outputs": [],
      "source": [
        "def convertir_fechas_int(columna_fecha,data):\n",
        "    for columna in columna_fecha:\n",
        "         data[columna] = pd.to_numeric(data[columna].map(datetime.timestamp))\n",
        "    return data"
      ]
    },
    {
      "cell_type": "code",
      "execution_count": null,
      "metadata": {
        "id": "q926FaKAltU1"
      },
      "outputs": [],
      "source": [
        "def llenar_null_int(columna_null,data):\n",
        "    media_columna=data[columna_null].mean()\n",
        "    data[columna_null]=data[columna_null].fillna(media_columna)\n",
        "    return data"
      ]
    },
    {
      "cell_type": "code",
      "execution_count": null,
      "metadata": {
        "id": "743xlJD1ltU2"
      },
      "outputs": [],
      "source": [
        "def graficar(x, y,labelX,labelY):\n",
        "    # Grafica los puntos x e y en una figura nueva.\n",
        "    fig = plt.figure()  # abre una nueva figura\n",
        "    plt.plot(x, y, 'ro', ms=10, mec='k')\n",
        "    plt.ylabel(labelY)\n",
        "    plt.xlabel(labelX)"
      ]
    },
    {
      "cell_type": "code",
      "execution_count": null,
      "metadata": {
        "id": "XU5BhsMBltU3"
      },
      "outputs": [],
      "source": [
        "def featureNormalize(X):\n",
        "    X_norm = X.copy()\n",
        "    mu = np.zeros(X.shape[1])\n",
        "    sigma = np.zeros(X.shape[1])\n",
        "\n",
        "    mu = np.mean(X, axis=0)\n",
        "    sigma = np.std(X, axis=0)\n",
        "    X_norm = (X - mu) / sigma\n",
        "\n",
        "    return X_norm, mu, sigma"
      ]
    },
    {
      "cell_type": "code",
      "execution_count": null,
      "metadata": {
        "id": "QjVCTns2ltU4"
      },
      "outputs": [],
      "source": [
        "def computeCostMulti(X, y, theta):\n",
        "    # Inicializa algunos valores utiles\n",
        "    m = y.shape[0]  # numero de ejemplos de entrenamiento\n",
        "    J = 0\n",
        "    h = np.dot(X, theta)\n",
        "    J = (1/(2 * m)) * np.sum(np.square(h - y))\n",
        "\n",
        "    return J"
      ]
    },
    {
      "cell_type": "code",
      "execution_count": null,
      "metadata": {
        "id": "cYiSrgL9ltU6"
      },
      "outputs": [],
      "source": [
        "def gradientDescentMulti(X, y, theta, alpha, num_iters):\n",
        "    # Inicializa algunos valores\n",
        "    m = y.shape[0]  # numero de ejemplos de entrenamiento\n",
        "    # realiza una copia de theta, el cual será acutalizada por el descenso por el gradiente\n",
        "    theta = theta.copy()\n",
        "    J_history = []\n",
        "    for i in range(num_iters):\n",
        "        theta = theta - (alpha / m) * (np.dot(X, theta) - y).dot(X)\n",
        "        J_history.append(computeCostMulti(X, y, theta))\n",
        "\n",
        "    return theta, J_history\n"
      ]
    },
    {
      "cell_type": "code",
      "execution_count": null,
      "metadata": {
        "id": "jcRhA1AdltU7"
      },
      "outputs": [],
      "source": [
        "def predicciones(X_array,mu,sigma,theta):\n",
        "    X_array[1:] = (X_array[1:] - mu) / sigma\n",
        "    price = np.dot(X_array, theta)   # Se debe cambiar esto\n",
        "    print('Prediccion de la emision de CO2 , con la caracteristicas del coche de prueba: C02 {:.0f}'.format(price))"
      ]
    },
    {
      "cell_type": "code",
      "execution_count": null,
      "metadata": {
        "id": "f_eiAC2XltU8",
        "outputId": "11975fcb-2bb4-4ddc-fde6-e91facd6090b"
      },
      "outputs": [
        {
          "name": "stdout",
          "output_type": "stream",
          "text": [
            "<class 'pandas.core.frame.DataFrame'>\n",
            "RangeIndex: 36 entries, 0 to 35\n",
            "Data columns (total 5 columns):\n",
            " #   Column  Non-Null Count  Dtype\n",
            "---  ------  --------------  -----\n",
            " 0   Car     36 non-null     int32\n",
            " 1   Model   36 non-null     int32\n",
            " 2   Volume  36 non-null     int64\n",
            " 3   Weight  36 non-null     int64\n",
            " 4   CO2     36 non-null     int64\n",
            "dtypes: int32(2), int64(3)\n",
            "memory usage: 1.2 KB\n",
            "    Car  Model  Volume  Weight  CO2\n",
            "0    14     10    1000     790   99\n",
            "1    10     29    1200    1160   95\n",
            "2    12     14    1000     929   95\n",
            "3     2      4     900     865   90\n",
            "4     9     16    1500    1140  105\n",
            "5    15     31    1000     929  105\n",
            "6    12     18    1400    1109   90\n",
            "7     8      5    1500    1365   92\n",
            "8     3     19    1500    1112   98\n",
            "9     0      6    1600    1150   99\n",
            "10    6     21    1100     980   99\n",
            "11   13     30    1300     990  101\n",
            "12    3     19    1000    1112   99\n",
            "13    4     15    1600    1252   94\n",
            "14    5     22    1600    1326   97\n",
            "15   11      9    1600    1330   97\n",
            "16    1      0    1600    1365   99\n",
            "17    7      2    2200    1280  104\n",
            "18   12     26    1600    1119  104\n",
            "19    3     20    2000    1328  105\n",
            "20    3     24    1600    1584   94\n",
            "21   11     23    2000    1428   99\n",
            "22    8     12    2100    1365   99\n",
            "23   12     25    1600    1415   99\n",
            "24   16     27    2000    1415   99\n",
            "25    8     13    1500    1465  102\n",
            "26    0      7    2000    1490  104\n",
            "27    0      8    2000    1725  114\n",
            "28   16     32    1600    1523  109\n",
            "29    1      3    2000    1705  114\n",
            "30    8     17    2100    1605  115\n",
            "31   16     33    2000    1746  117\n",
            "32    3     11    1600    1235  104\n",
            "33    1      1    1600    1390  108\n",
            "34   11     34    1600    1405  109\n",
            "35    8     28    2500    1395  120\n"
          ]
        }
      ],
      "source": [
        "\n",
        "data=cargar_dataset('../Datasets/emisionCarbonoCoches.csv')\n",
        "categoricas=data.select_dtypes(include=['object']).columns\n",
        "convertir_categoricas_int(categoricas,data)\n",
        "data.info()\n",
        "print(data)\n",
        "data=data.to_numpy()\n",
        "X=data[:,:4]\n",
        "y=data[:,4]\n",
        "m=y.shape[0]\n",
        "X_norm, mu, sigma = featureNormalize(X)\n",
        "X = np.concatenate([np.ones((m, 1)), X_norm], axis=1)"
      ]
    },
    {
      "cell_type": "code",
      "execution_count": null,
      "metadata": {
        "id": "ovREGb6bltVA",
        "outputId": "3d8e700e-2aa0-4c3f-9ae1-354ecee6b709"
      },
      "outputs": [
        {
          "name": "stdout",
          "output_type": "stream",
          "text": [
            "Theta calculado a partir de la acuacion descenso de gradiente:[102.02715465  -0.11915521   1.50100093   3.08307153   1.71800879]\n",
            "Prediccion de la emision de CO2 , con la caracteristicas del coche de prueba: C02 100\n"
          ]
        },
        {
          "data": {
            "image/png": "[encoded data removed]",
            "text/plain": [
              "<Figure size 640x480 with 1 Axes>"
            ]
          },
          "metadata": {},
          "output_type": "display_data"
        }
      ],
      "source": [
        "alpha = 0.001  # alpha = 0.003\n",
        "num_iters = 12000\n",
        "theta = np.zeros(5)\n",
        "theta, J_history = gradientDescentMulti(X, y, theta, alpha, num_iters)\n",
        "print('Theta calculado a partir de la acuacion descenso de gradiente:{:s}'.format(str(theta)))\n",
        "x=np.arange(len(J_history))\n",
        "plt.plot(x, J_history, lw=2)\n",
        "plt.xlabel('Numero de iteraciones')\n",
        "plt.ylabel('Costo J')\n",
        "X_prueba=[1,1,1,1600,1390]\n",
        "predicciones(X_prueba,mu,sigma,theta)\n",
        "#graficar(X[:,1:],y,'X','CO2')\n",
        "#plt.plot(X[:,1:],np.dot(X, theta),lw=2)"
      ]
    },
    {
      "cell_type": "markdown",
      "metadata": {
        "id": "fiPtzBwkltVB"
      },
      "source": [
        "# Ecuacion de la normal"
      ]
    },
    {
      "cell_type": "code",
      "execution_count": null,
      "metadata": {
        "id": "kfhs4o-rltVC"
      },
      "outputs": [],
      "source": [
        "def normalEqn(X, y):\n",
        "    theta = np.zeros(X.shape[1])\n",
        "    theta = np.dot(np.dot(np.linalg.inv(np.dot(X.T, X)), X.T), y)\n",
        "    return theta"
      ]
    },
    {
      "cell_type": "code",
      "execution_count": null,
      "metadata": {
        "id": "X-UCw8hkltVD",
        "outputId": "3ca001f7-79c8-4162-98b8-c57ab9fbabad"
      },
      "outputs": [
        {
          "name": "stdout",
          "output_type": "stream",
          "text": [
            "<class 'pandas.core.frame.DataFrame'>\n",
            "RangeIndex: 36 entries, 0 to 35\n",
            "Data columns (total 5 columns):\n",
            " #   Column  Non-Null Count  Dtype\n",
            "---  ------  --------------  -----\n",
            " 0   Car     36 non-null     int32\n",
            " 1   Model   36 non-null     int32\n",
            " 2   Volume  36 non-null     int64\n",
            " 3   Weight  36 non-null     int64\n",
            " 4   CO2     36 non-null     int64\n",
            "dtypes: int32(2), int64(3)\n",
            "memory usage: 1.2 KB\n",
            "Theta calculado a partir de la ecuación de la normal: [ 7.74605420e+01 -2.81251830e-02  1.52953191e-01  8.16380599e-03\n",
            "  6.97855917e-03]\n",
            "Prediccion de la emision de CO2, con la caracteristicas del coche de prueba :CO2 100\n"
          ]
        }
      ],
      "source": [
        "# Calcula los parametros con la ecuación de la normal\n",
        "data=cargar_dataset('../Datasets/emisionCarbonoCoches.csv')\n",
        "categoricas=data.select_dtypes(include=['object']).columns\n",
        "data=convertir_categoricas_int(categoricas,data)\n",
        "data.info()\n",
        "data=data.to_numpy()\n",
        "X=data[:,:4]\n",
        "y=data[:,4]\n",
        "X = np.concatenate([np.ones((m, 1)), X], axis=1)\n",
        "theta = normalEqn(X, y)\n",
        "# Muestra los resultados optenidos a partir de la aplicación de la ecuación de la normal\n",
        "print('Theta calculado a partir de la ecuación de la normal: {:s}'.format(str(theta)))\n",
        "# Estimar el precio para una casa de superficie de 1650 sq-ft y tres dormitorios\n",
        "X_prueba=[1,1,1,1600,1390]#prediccion para este dato alrededor 108\n",
        "price = np.dot(X_prueba, theta)\n",
        "print('Prediccion de la emision de CO2, con la caracteristicas del coche de prueba :CO2{: .0f}'.format(price))\n"
      ]
    }
  ],
  "metadata": {
    "kernelspec": {
      "display_name": "Python 3",
      "language": "python",
      "name": "python3"
    },
    "language_info": {
      "codemirror_mode": {
        "name": "ipython",
        "version": 3
      },
      "file_extension": ".py",
      "mimetype": "text/x-python",
      "name": "python",
      "nbconvert_exporter": "python",
      "pygments_lexer": "ipython3",
      "version": "3.10.7"
    },
    "orig_nbformat": 4,
    "vscode": {
      "interpreter": {
        "hash": "afb734500600fd355917ca529030176ea0ca205570884b88f2f6f7d791fd3fbe"
      }
    },
    "colab": {
      "provenance": [],
      "include_colab_link": true
    }
  },
  "nbformat": 4,
  "nbformat_minor": 0
}