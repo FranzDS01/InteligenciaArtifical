{
  "cells": [
    {
      "cell_type": "markdown",
      "metadata": {
        "id": "view-in-github",
        "colab_type": "text"
      },
      "source": [
        "<a href=\"https://colab.research.google.com/github/FranzDS01/InteligenciaArtifical/blob/main/Laboratorios/lab03/Lab01_rompecabezas_heuristica.ipynb\" target=\"_parent\"><img src=\"https://colab.research.google.com/assets/colab-badge.svg\" alt=\"Open In Colab\"/></a>"
      ]
    },
    {
      "cell_type": "markdown",
      "metadata": {
        "id": "CUBkkkfqkUrG"
      },
      "source": [
        "### Nombre :Soria Colque Franz Ronald\n",
        "repositorio: https://github.com/FranzDS01/InteligenciaArtifical/blob/main/Laboratorios/lab03/Lab01_rompecabezas_heuristica.ipynb\n",
        "\n",
        "# Laboratorio 3\n",
        "### Enunciado\n",
        "##### A partir del codigo de rompecabezas lineal, para n digitos, aplicar una heuristica y resolver el mismo, identificando, cual es la capacidad maxima de resolucion y el tiempo que aplica para dicho proposito.\n",
        "\n"
      ]
    },
    {
      "cell_type": "code",
      "execution_count": null,
      "metadata": {
        "id": "6Y9lmsZjsDkj"
      },
      "outputs": [],
      "source": [
        "class Nodo:\n",
        "    def __init__(self, estado, padre = None, hijo = None, accion = None, costo = 0):\n",
        "        self.estado = estado\n",
        "        self.padre = padre\n",
        "        self.hijo = None\n",
        "        self.accion = accion\n",
        "        self.costo = costo\n",
        "        self.set_hijo(hijo)\n",
        "\n",
        "    def set_estado(self, estado):\n",
        "        self.estado = estado\n",
        "\n",
        "    def get_estado(self):\n",
        "        return self.estado\n",
        "\n",
        "    def set_datos(self, estado):\n",
        "        self.estado = estado\n",
        "\n",
        "    def get_datos(self):\n",
        "      return self.estado\n",
        "\n",
        "    def get_padre(self):\n",
        "        return self.padre\n",
        "\n",
        "    def set_padre(self, padre):\n",
        "        self.padre = padre\n",
        "\n",
        "    def set_hijo(self, hijo):\n",
        "        self.hijo = hijo\n",
        "        if self.hijo is not None:\n",
        "            for s in self.hijo:\n",
        "                s.padre = self\n",
        "\n",
        "    def get_hijo(self):\n",
        "        return self.hijo\n",
        "\n",
        "    def set_accion(self, accion):\n",
        "        self.accion = accion\n",
        "\n",
        "    def get_accion(self):\n",
        "        return self.accion\n",
        "\n",
        "    def set_costo(self, costo):\n",
        "        self.costo = costo\n",
        "\n",
        "    def get_costo(self):\n",
        "        return self.costo\n",
        "\n",
        "    def equal(self, nodo):\n",
        "        if self.get_estado() == nodo.get_estado():\n",
        "            return True\n",
        "        else:\n",
        "            return False\n",
        "\n",
        "    def en_lista(self, nodo_lista):\n",
        "        enlistado = False\n",
        "        for n in nodo_lista:\n",
        "            if self.equal(n):\n",
        "                enlistado = True\n",
        "        return enlistado\n",
        "\n",
        "    def expandir(self, problem):\n",
        "        \"\"\"List the nodes reachable in one step from this node.\"\"\"\n",
        "        return [self.child_node(problem, accion)\n",
        "                for accion in problem.acciones(self.estado)]\n",
        "\n",
        "    def obtenerCamino(self):\n",
        "        #Retorna la lista de los nodos que conforman el camino desde el nodo inicio al nodo actual.\n",
        "        nodo, camino_regreso = self, []\n",
        "        while nodo:\n",
        "            camino_regreso.append(nodo)\n",
        "            nodo = nodo.padre\n",
        "        return list(reversed(camino_regreso))\n",
        "\n",
        "    def obtenerSolucion(self):\n",
        "        #Retorna la secuencia de acciones desde el nodo inicio al nodo actual.\n",
        "        return [nodo.accion for nodo in self.obtenerCamino()[1:]]\n",
        "\n",
        "    def __str__(self):\n",
        "        return str(self.get_estado())\n",
        "\n",
        "    def __init__(self, estado, hijo=None):\n",
        "        self.estado = estado\n",
        "        self.hijo = None\n",
        "        self.padre = None\n",
        "        self.accion = None\n",
        "        self.acciones = None\n",
        "        self.costo = None\n",
        "        self.set_hijo(hijo)\n",
        "\n",
        "    def set_estado(self, estado):\n",
        "        self.estado = estado\n",
        "\n",
        "    def get_estado(self):\n",
        "        return self.estado\n",
        "\n",
        "    def set_hijo(self, hijo):\n",
        "        self.hijo = hijo\n",
        "        if self.hijo is not None:\n",
        "            for s in self.hijo:\n",
        "                s.padre = self\n",
        "\n",
        "    def get_hijo(self):\n",
        "        return self.hijo\n",
        "\n",
        "    def set_padre(self, padre):\n",
        "        self.padre = padre\n",
        "\n",
        "    def get_padre(self):\n",
        "        return self.padre\n",
        "\n",
        "    def set_accion(self, accion):\n",
        "        self.accion = accion\n",
        "\n",
        "    def get_accion(self):\n",
        "        return self.accion\n",
        "\n",
        "    def set_acciones(self, acciones):\n",
        "        self.acciones = acciones\n",
        "\n",
        "    def get_acciones(self):\n",
        "        return self.acciones\n",
        "\n",
        "    def set_costo(self, costo):\n",
        "        self.costo = costo\n",
        "\n",
        "    def get_costo(self):\n",
        "        return self.costo\n",
        "\n",
        "    def equal(self, Nodo):\n",
        "        if self.get_estado() == Nodo.get_estado():\n",
        "            return True\n",
        "        else:\n",
        "            return False\n",
        "\n",
        "    def en_lista(self, lista_nodos):\n",
        "        enlistado = False\n",
        "        for n in lista_nodos:\n",
        "            if self.equal(n):\n",
        "                enlistado = True\n",
        "        return enlistado\n",
        "\n",
        "    def __str__(self):\n",
        "        return str(self.get_estado())"
      ]
    },
    {
      "cell_type": "markdown",
      "metadata": {
        "id": "7f7COQp_kUrS"
      },
      "source": [
        "## primer heuristica que evalua por heurística de calidad de ordenación"
      ]
    },
    {
      "cell_type": "markdown",
      "metadata": {
        "id": "9yBcr27DkUrT"
      },
      "source": [
        " compara la calidad heurística entre un nodo padre y un nodo hijo, basándose en la comparación de los elementos de sus estados. La calidad heurística se evalúa al contar cuántas veces un elemento es mayor que el elemento anterior en el estado del nodo. Si la calidad del hijo es mayor o igual a la del padre, se considera que el hijo tiene una mejor o igual calidad heurística."
      ]
    },
    {
      "cell_type": "code",
      "execution_count": null,
      "metadata": {
        "id": "fHl7MxOhkUrU"
      },
      "outputs": [],
      "source": [
        "# funcion heuristica le paso dos nodos que va comparar el nodo padre y el nodo hijo\n",
        "def heuristica(padre_node, hijo_node):\n",
        "    # para no poder tomar una heuristica mayor\n",
        "    padre_quality = 0\n",
        "    hijo_quality = 0\n",
        "    padre_data = padre_node.get_estado()  # saca el estado\n",
        "    hijo_data = hijo_node.get_estado()\n",
        "\n",
        "    for n in range(1, len(padre_data)):  # revisar todos los valores de array del padre\n",
        "        # si el posicion 1 del padre en mayor a la posicion 0\n",
        "        if padre_data[n] > padre_data[n - 1]:\n",
        "            padre_quality = padre_quality + 1\n",
        "        if hijo_data[n] > hijo_data[n - 1]:\n",
        "            hijo_quality = hijo_quality + 1\n",
        "\n",
        "    if hijo_quality >= padre_quality:\n",
        "        return True\n",
        "    else:\n",
        "        return False\n"
      ]
    },
    {
      "cell_type": "markdown",
      "metadata": {
        "id": "mTNuUqY5kUrV"
      },
      "source": [
        "## segunda heuristica que evalua por calida de posicion\n",
        "Ejemplo de como funciona el algortimo:\n",
        "ejemplo entrada [3,2,1] su calidad seria la 3 esta a dos posicion de su lugar , el 2 esta en su posicion , y la uno esta a 2 posiciones la suma de estas da 2+0+2=4 sus hijos de este no pueden se mayores que 4 en cuanto a su calidad\n"
      ]
    },
    {
      "cell_type": "code",
      "execution_count": null,
      "metadata": {
        "id": "rpIzKojykUrV"
      },
      "outputs": [],
      "source": [
        "def heuristica_por_posicion(padre_node,hijo_node,solucion):\n",
        "    # Inicializamos las varibles de calidad\n",
        "    calidad_padre = 0\n",
        "    calidad_hijo = 0\n",
        "    datos_padre = padre_node.get_estado()\n",
        "    datos_hijo = hijo_node.get_estado()\n",
        "\n",
        "    calidad_padre = medidor_distancia(datos_padre,solucion)\n",
        "    calidad_hijo = medidor_distancia (datos_hijo,solucion)\n",
        "    if calidad_hijo <= calidad_padre:\n",
        "        return True\n",
        "    else:\n",
        "        return False\n",
        "def medidor_distancia(nodo,solucion):\n",
        "    suma=0\n",
        "    for i, num in enumerate(nodo):\n",
        "        posicion_correcta = solucion.index(num)\n",
        "        distancia = abs(posicion_correcta - i)\n",
        "        suma += distancia\n",
        "    return suma"
      ]
    },
    {
      "cell_type": "code",
      "execution_count": null,
      "metadata": {
        "id": "9D_tV0w3fhWl"
      },
      "outputs": [],
      "source": [
        "def busqueda_heuristica(estado_inicial, solucion):\n",
        "    resuelto = False\n",
        "    nodos_visitados = []\n",
        "    nodos_frontera = []\n",
        "\n",
        "    nodo_raiz = Nodo(estado_inicial)\n",
        "    nodos_frontera.append(nodo_raiz)\n",
        "    while (not resuelto) and len(nodos_frontera) != 0:\n",
        "        nodo_actual = nodos_frontera.pop()#por defecto pop() extraer el ultimo elemento como si fuera una pila ,\n",
        "        # extraer nodo y añadirlo a visitados\n",
        "        nodos_visitados.append(nodo_actual)\n",
        "        if nodo_actual.get_estado() == solucion:\n",
        "            # solucion encontrada\n",
        "            resuelto = True\n",
        "            return nodo_actual\n",
        "        else:\n",
        "            # expandir nodos hijo\n",
        "            estado_nodo = nodo_actual.get_estado()\n",
        "\n",
        "            #modificaciones\n",
        "            nodoTemporal=[] #\n",
        "            NodoHijos=[]# guarda los nuevos hijos generados apartir del nodo actual\n",
        "            contador=0 #Este contador ayuda a que se haga los intercambios desde la posicion correcta\n",
        "            for i, valor in enumerate(estado_nodo[:-1]):\n",
        "                nodoTemporal=estado_nodo[:]  #creamos  una copia del nodo actual en el nodo temporal para no modificar el nodo principal\n",
        "                if i==contador:\n",
        "                  #intercambio de fichas\n",
        "                  nodoTemporal[i+1], nodoTemporal[i] = estado_nodo[i], estado_nodo[i+1]\n",
        "                  contador+=1\n",
        "                  #agredos nuevos\n",
        "                  hijo=Nodo(nodoTemporal)\n",
        "\n",
        "                  # validacion para agregar o no a nodos frontera\n",
        "                  if not hijo.en_lista(nodos_visitados) and not hijo.en_lista(nodos_frontera) and heuristica(nodo_actual, hijo):#para heuristica 1 calidad de ordenacion\n",
        "                  #if not hijo.en_lista(nodos_visitados) and not hijo.en_lista(nodos_frontera) and heuristica_por_posicion(nodo_actual,hijo,solucion):#para heuristica_por calidad de posicion\n",
        "                      nodos_frontera.append(hijo)\n",
        "                      NodoHijos.append(hijo) #vamos agregando los hijos\n",
        "            nodo_actual.set_hijo(NodoHijos)\n"
      ]
    },
    {
      "cell_type": "code",
      "execution_count": null,
      "metadata": {
        "id": "lJM3CfG8kUrX",
        "outputId": "074cb528-77cb-47f1-d8c6-b6858599951b"
      },
      "outputs": [
        {
          "name": "stdout",
          "output_type": "stream",
          "text": [
            "15\n",
            "Estado inicial : [15, 14, 13, 12, 11, 10, 9, 8, 7, 6, 5, 4, 3, 2, 1]\n",
            "Solucion a encontrar :  [1, 2, 3, 4, 5, 6, 7, 8, 9, 10, 11, 12, 13, 14, 15]\n",
            "solucion: [[15, 14, 13, 12, 11, 10, 9, 8, 7, 6, 5, 4, 3, 2, 1], [15, 14, 13, 12, 11, 10, 9, 8, 7, 6, 5, 4, 3, 1, 2], [15, 14, 13, 12, 11, 10, 9, 8, 7, 6, 5, 4, 1, 3, 2], [15, 14, 13, 12, 11, 10, 9, 8, 7, 6, 5, 4, 1, 2, 3], [15, 14, 13, 12, 11, 10, 9, 8, 7, 6, 5, 1, 4, 2, 3], [15, 14, 13, 12, 11, 10, 9, 8, 7, 6, 5, 1, 2, 4, 3], [15, 14, 13, 12, 11, 10, 9, 8, 7, 6, 5, 1, 2, 3, 4], [15, 14, 13, 12, 11, 10, 9, 8, 7, 6, 1, 5, 2, 3, 4], [15, 14, 13, 12, 11, 10, 9, 8, 7, 6, 1, 2, 5, 3, 4], [15, 14, 13, 12, 11, 10, 9, 8, 7, 6, 1, 2, 3, 5, 4], [15, 14, 13, 12, 11, 10, 9, 8, 7, 6, 1, 2, 3, 4, 5], [15, 14, 13, 12, 11, 10, 9, 8, 7, 1, 6, 2, 3, 4, 5], [15, 14, 13, 12, 11, 10, 9, 8, 7, 1, 2, 6, 3, 4, 5], [15, 14, 13, 12, 11, 10, 9, 8, 7, 1, 2, 3, 6, 4, 5], [15, 14, 13, 12, 11, 10, 9, 8, 7, 1, 2, 3, 4, 6, 5], [15, 14, 13, 12, 11, 10, 9, 8, 7, 1, 2, 3, 4, 5, 6], [15, 14, 13, 12, 11, 10, 9, 8, 1, 7, 2, 3, 4, 5, 6], [15, 14, 13, 12, 11, 10, 9, 8, 1, 2, 7, 3, 4, 5, 6], [15, 14, 13, 12, 11, 10, 9, 8, 1, 2, 3, 7, 4, 5, 6], [15, 14, 13, 12, 11, 10, 9, 8, 1, 2, 3, 4, 7, 5, 6], [15, 14, 13, 12, 11, 10, 9, 8, 1, 2, 3, 4, 5, 7, 6], [15, 14, 13, 12, 11, 10, 9, 8, 1, 2, 3, 4, 5, 6, 7], [15, 14, 13, 12, 11, 10, 9, 1, 8, 2, 3, 4, 5, 6, 7], [15, 14, 13, 12, 11, 10, 9, 1, 2, 8, 3, 4, 5, 6, 7], [15, 14, 13, 12, 11, 10, 9, 1, 2, 3, 8, 4, 5, 6, 7], [15, 14, 13, 12, 11, 10, 9, 1, 2, 3, 4, 8, 5, 6, 7], [15, 14, 13, 12, 11, 10, 9, 1, 2, 3, 4, 5, 8, 6, 7], [15, 14, 13, 12, 11, 10, 9, 1, 2, 3, 4, 5, 6, 8, 7], [15, 14, 13, 12, 11, 10, 9, 1, 2, 3, 4, 5, 6, 7, 8], [15, 14, 13, 12, 11, 10, 1, 9, 2, 3, 4, 5, 6, 7, 8], [15, 14, 13, 12, 11, 10, 1, 2, 9, 3, 4, 5, 6, 7, 8], [15, 14, 13, 12, 11, 10, 1, 2, 3, 9, 4, 5, 6, 7, 8], [15, 14, 13, 12, 11, 10, 1, 2, 3, 4, 9, 5, 6, 7, 8], [15, 14, 13, 12, 11, 10, 1, 2, 3, 4, 5, 9, 6, 7, 8], [15, 14, 13, 12, 11, 10, 1, 2, 3, 4, 5, 6, 9, 7, 8], [15, 14, 13, 12, 11, 10, 1, 2, 3, 4, 5, 6, 7, 9, 8], [15, 14, 13, 12, 11, 10, 1, 2, 3, 4, 5, 6, 7, 8, 9], [15, 14, 13, 12, 11, 1, 10, 2, 3, 4, 5, 6, 7, 8, 9], [15, 14, 13, 12, 11, 1, 2, 10, 3, 4, 5, 6, 7, 8, 9], [15, 14, 13, 12, 11, 1, 2, 3, 10, 4, 5, 6, 7, 8, 9], [15, 14, 13, 12, 11, 1, 2, 3, 4, 10, 5, 6, 7, 8, 9], [15, 14, 13, 12, 11, 1, 2, 3, 4, 5, 10, 6, 7, 8, 9], [15, 14, 13, 12, 11, 1, 2, 3, 4, 5, 6, 10, 7, 8, 9], [15, 14, 13, 12, 11, 1, 2, 3, 4, 5, 6, 7, 10, 8, 9], [15, 14, 13, 12, 11, 1, 2, 3, 4, 5, 6, 7, 8, 10, 9], [15, 14, 13, 12, 11, 1, 2, 3, 4, 5, 6, 7, 8, 9, 10], [15, 14, 13, 12, 1, 11, 2, 3, 4, 5, 6, 7, 8, 9, 10], [15, 14, 13, 12, 1, 2, 11, 3, 4, 5, 6, 7, 8, 9, 10], [15, 14, 13, 12, 1, 2, 3, 11, 4, 5, 6, 7, 8, 9, 10], [15, 14, 13, 12, 1, 2, 3, 4, 11, 5, 6, 7, 8, 9, 10], [15, 14, 13, 12, 1, 2, 3, 4, 5, 11, 6, 7, 8, 9, 10], [15, 14, 13, 12, 1, 2, 3, 4, 5, 6, 11, 7, 8, 9, 10], [15, 14, 13, 12, 1, 2, 3, 4, 5, 6, 7, 11, 8, 9, 10], [15, 14, 13, 12, 1, 2, 3, 4, 5, 6, 7, 8, 11, 9, 10], [15, 14, 13, 12, 1, 2, 3, 4, 5, 6, 7, 8, 9, 11, 10], [15, 14, 13, 12, 1, 2, 3, 4, 5, 6, 7, 8, 9, 10, 11], [15, 14, 13, 1, 12, 2, 3, 4, 5, 6, 7, 8, 9, 10, 11], [15, 14, 13, 1, 2, 12, 3, 4, 5, 6, 7, 8, 9, 10, 11], [15, 14, 13, 1, 2, 3, 12, 4, 5, 6, 7, 8, 9, 10, 11], [15, 14, 13, 1, 2, 3, 4, 12, 5, 6, 7, 8, 9, 10, 11], [15, 14, 13, 1, 2, 3, 4, 5, 12, 6, 7, 8, 9, 10, 11], [15, 14, 13, 1, 2, 3, 4, 5, 6, 12, 7, 8, 9, 10, 11], [15, 14, 13, 1, 2, 3, 4, 5, 6, 7, 12, 8, 9, 10, 11], [15, 14, 13, 1, 2, 3, 4, 5, 6, 7, 8, 12, 9, 10, 11], [15, 14, 13, 1, 2, 3, 4, 5, 6, 7, 8, 9, 12, 10, 11], [15, 14, 13, 1, 2, 3, 4, 5, 6, 7, 8, 9, 10, 12, 11], [15, 14, 13, 1, 2, 3, 4, 5, 6, 7, 8, 9, 10, 11, 12], [15, 14, 1, 13, 2, 3, 4, 5, 6, 7, 8, 9, 10, 11, 12], [15, 14, 1, 2, 13, 3, 4, 5, 6, 7, 8, 9, 10, 11, 12], [15, 14, 1, 2, 3, 13, 4, 5, 6, 7, 8, 9, 10, 11, 12], [15, 14, 1, 2, 3, 4, 13, 5, 6, 7, 8, 9, 10, 11, 12], [15, 14, 1, 2, 3, 4, 5, 13, 6, 7, 8, 9, 10, 11, 12], [15, 14, 1, 2, 3, 4, 5, 6, 13, 7, 8, 9, 10, 11, 12], [15, 14, 1, 2, 3, 4, 5, 6, 7, 13, 8, 9, 10, 11, 12], [15, 14, 1, 2, 3, 4, 5, 6, 7, 8, 13, 9, 10, 11, 12], [15, 14, 1, 2, 3, 4, 5, 6, 7, 8, 9, 13, 10, 11, 12], [15, 14, 1, 2, 3, 4, 5, 6, 7, 8, 9, 10, 13, 11, 12], [15, 14, 1, 2, 3, 4, 5, 6, 7, 8, 9, 10, 11, 13, 12], [15, 14, 1, 2, 3, 4, 5, 6, 7, 8, 9, 10, 11, 12, 13], [15, 1, 14, 2, 3, 4, 5, 6, 7, 8, 9, 10, 11, 12, 13], [15, 1, 2, 14, 3, 4, 5, 6, 7, 8, 9, 10, 11, 12, 13], [15, 1, 2, 3, 14, 4, 5, 6, 7, 8, 9, 10, 11, 12, 13], [15, 1, 2, 3, 4, 14, 5, 6, 7, 8, 9, 10, 11, 12, 13], [15, 1, 2, 3, 4, 5, 14, 6, 7, 8, 9, 10, 11, 12, 13], [15, 1, 2, 3, 4, 5, 6, 14, 7, 8, 9, 10, 11, 12, 13], [15, 1, 2, 3, 4, 5, 6, 7, 14, 8, 9, 10, 11, 12, 13], [15, 1, 2, 3, 4, 5, 6, 7, 8, 14, 9, 10, 11, 12, 13], [15, 1, 2, 3, 4, 5, 6, 7, 8, 9, 14, 10, 11, 12, 13], [15, 1, 2, 3, 4, 5, 6, 7, 8, 9, 10, 14, 11, 12, 13], [15, 1, 2, 3, 4, 5, 6, 7, 8, 9, 10, 11, 14, 12, 13], [15, 1, 2, 3, 4, 5, 6, 7, 8, 9, 10, 11, 12, 14, 13], [15, 1, 2, 3, 4, 5, 6, 7, 8, 9, 10, 11, 12, 13, 14], [1, 15, 2, 3, 4, 5, 6, 7, 8, 9, 10, 11, 12, 13, 14], [1, 2, 15, 3, 4, 5, 6, 7, 8, 9, 10, 11, 12, 13, 14], [1, 2, 3, 15, 4, 5, 6, 7, 8, 9, 10, 11, 12, 13, 14], [1, 2, 3, 4, 15, 5, 6, 7, 8, 9, 10, 11, 12, 13, 14], [1, 2, 3, 4, 5, 15, 6, 7, 8, 9, 10, 11, 12, 13, 14], [1, 2, 3, 4, 5, 6, 15, 7, 8, 9, 10, 11, 12, 13, 14], [1, 2, 3, 4, 5, 6, 7, 15, 8, 9, 10, 11, 12, 13, 14], [1, 2, 3, 4, 5, 6, 7, 8, 15, 9, 10, 11, 12, 13, 14], [1, 2, 3, 4, 5, 6, 7, 8, 9, 15, 10, 11, 12, 13, 14], [1, 2, 3, 4, 5, 6, 7, 8, 9, 10, 15, 11, 12, 13, 14], [1, 2, 3, 4, 5, 6, 7, 8, 9, 10, 11, 15, 12, 13, 14], [1, 2, 3, 4, 5, 6, 7, 8, 9, 10, 11, 12, 15, 13, 14], [1, 2, 3, 4, 5, 6, 7, 8, 9, 10, 11, 12, 13, 15, 14], [1, 2, 3, 4, 5, 6, 7, 8, 9, 10, 11, 12, 13, 14, 15]]\n",
            "tiempo de ejecucion : 0.34178590774536133\n"
          ]
        }
      ],
      "source": [
        "import time\n",
        "\n",
        "if __name__ == \"__main__\":\n",
        "\n",
        "    fichas_N = int(input(\"Introdusca cantidad de fichas\"))\n",
        "    estado_inicial=[]\n",
        "    solucion=[]\n",
        "    contador=1\n",
        "    print(fichas_N)\n",
        "    while contador <= fichas_N:\n",
        "        estado_inicial.append(int(input(\"Ficha {}:\".format(contador))))\n",
        "        solucion.append(contador)\n",
        "        contador+=1\n",
        "    print(\"Estado inicial :\",estado_inicial)\n",
        "    print(\"Solucion a encontrar : \",solucion)\n",
        "    tiempo_inicio = time.time()\n",
        "    nodo_solucion = busqueda_heuristica(estado_inicial, solucion)\n",
        "    # mostrar resultado\n",
        "    resultado = []\n",
        "    nodo_actual = nodo_solucion\n",
        "    while nodo_actual.get_padre() is not None:\n",
        "        resultado.append(nodo_actual.get_estado())\n",
        "        nodo_actual = nodo_actual.get_padre()\n",
        "    resultado.append(estado_inicial)\n",
        "    resultado.reverse()\n",
        "    print(\"solucion:\",resultado)\n",
        "    tiempo_fin = time.time()\n",
        "    tiempo_total=tiempo_fin-tiempo_inicio\n",
        "    print (\"tiempo de ejecucion :\",tiempo_total)\n"
      ]
    },
    {
      "cell_type": "markdown",
      "metadata": {
        "id": "5OGj1NhikUrZ"
      },
      "source": [
        "Después de aplicar las heurísticas, se observó que la solución se encontró más rápidamente y con menos pasos.\n",
        "\n",
        "Los tiempos mínimos registrados fueron los siguientes:\n",
        "\n",
        "Heurística basada en la calidad de ordenamiento: se pudo resolver más de 30 fichas en 29.034 segundos.\n",
        "Heurística basada en la calidad de posicionamiento: se logró manejar un máximo de 11 fichas en 33.67 segundos.\n",
        "Al probar ambas heurísticas, la heurística basada en la calidad de ordenamiento superó ampliamente a la heurística basada en la calidad de posicionamiento.\n",
        "\n",
        "En detalle:\n",
        "\n",
        "Heurística basada en la calidad de ordenamiento: se resolvió el problema con 11 fichas en tan solo 0.056 segundos.\n",
        "\n",
        "Heurística basada en la calidad de posicionamiento: para el mismo caso de 11 fichas, se requirió un tiempo de 33.67 segundos.\n",
        "\n",
        "De acuerdo con los resultados obtenidos en las pruebas, se puede concluir que la heurística basada en la calidad de ordenamiento es superior a la otra en términos de eficiencia y velocidad de resolución.\n"
      ]
    }
  ],
  "metadata": {
    "colab": {
      "provenance": [],
      "include_colab_link": true
    },
    "kernelspec": {
      "display_name": "Python 3",
      "language": "python",
      "name": "python3"
    },
    "language_info": {
      "codemirror_mode": {
        "name": "ipython",
        "version": 3
      },
      "file_extension": ".py",
      "mimetype": "text/x-python",
      "name": "python",
      "nbconvert_exporter": "python",
      "pygments_lexer": "ipython3",
      "version": "3.10.7"
    },
    "vscode": {
      "interpreter": {
        "hash": "afb734500600fd355917ca529030176ea0ca205570884b88f2f6f7d791fd3fbe"
      }
    }
  },
  "nbformat": 4,
  "nbformat_minor": 0
}