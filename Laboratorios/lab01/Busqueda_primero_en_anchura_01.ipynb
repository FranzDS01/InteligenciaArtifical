{
  "cells": [
    {
      "attachments": {},
      "cell_type": "markdown",
      "metadata": {},
      "source": [
        "### Nombre :Soria Colque Franz Ronald \n",
        "# Laboratorio 1\n",
        "### Enunciado\n",
        "##### Elabore un programa para resolver un rompecabezas lineal de n dígitos en base\n",
        "\n"
      ]
    },
    {
      "cell_type": "code",
      "execution_count": 1,
      "metadata": {
        "id": "6Y9lmsZjsDkj"
      },
      "outputs": [],
      "source": [
        "class Nodo:\n",
        "    def __init__(self, estado, hijo=None):\n",
        "        self.estado = estado\n",
        "        self.hijo = None\n",
        "        self.padre = None\n",
        "        self.accion = None\n",
        "        self.acciones = None\n",
        "        self.costo = None\n",
        "        self.set_hijo(hijo)\n",
        "\n",
        "    def set_estado(self, estado):\n",
        "        self.estado = estado\n",
        "\n",
        "    def get_estado(self):\n",
        "        return self.estado\n",
        "\n",
        "    def set_hijo(self, hijo):\n",
        "        self.hijo = hijo\n",
        "        if self.hijo is not None:\n",
        "            for s in self.hijo:\n",
        "                s.padre = self\n",
        "\n",
        "    def get_hijo(self):\n",
        "        return self.hijo\n",
        "    \n",
        "    def set_padre(self, padre):\n",
        "        self.padre = padre\n",
        "\n",
        "    def get_padre(self):\n",
        "        return self.padre\n",
        "    \n",
        "    def set_accion(self, accion):\n",
        "        self.accion = accion\n",
        "\n",
        "    def get_accion(self):\n",
        "        return self.accion\n",
        "\n",
        "    def set_acciones(self, acciones):\n",
        "        self.acciones = acciones\n",
        "\n",
        "    def get_acciones(self):\n",
        "        return self.acciones\n",
        "\n",
        "    def set_costo(self, costo):\n",
        "        self.costo = costo\n",
        "\n",
        "    def get_costo(self):\n",
        "        return self.costo\n",
        "\n",
        "    def equal(self, Nodo):\n",
        "        if self.get_estado() == Nodo.get_estado():\n",
        "            return True\n",
        "        else:\n",
        "            return False\n",
        "\n",
        "    def en_lista(self, lista_nodos):\n",
        "        enlistado = False\n",
        "        for n in lista_nodos:\n",
        "            if self.equal(n):\n",
        "                enlistado = True\n",
        "        return enlistado\n",
        "\n",
        "    def __str__(self):\n",
        "        return str(self.get_estado())"
      ]
    },
    {
      "attachments": {},
      "cell_type": "markdown",
      "metadata": {},
      "source": [
        "la funcion **busqueda_BPA_solucion()** es el algoritmo de busqueda puede funcionar como \n",
        "busqueda por profundidad o por anchura quintado/agrendado el pop()/pop(0) en **nodo_actual = nodos_frontera.pop(0)**"
      ]
    },
    {
      "cell_type": "code",
      "execution_count": 2,
      "metadata": {
        "id": "9D_tV0w3fhWl"
      },
      "outputs": [],
      "source": [
        "def busqueda_BPA_solucion(estado_inicial, solucion):\n",
        "    resuelto = False\n",
        "    nodos_visitados = []\n",
        "    nodos_frontera = []\n",
        "\n",
        "    nodo_raiz = Nodo(estado_inicial)\n",
        "    nodos_frontera.append(nodo_raiz)\n",
        "    while (not resuelto) and len(nodos_frontera) != 0:\n",
        "        nodo_actual = nodos_frontera.pop()#por defecto pop() extraer el ultimo elemento como si fuera una pila ,\n",
        "        # extraer nodo y añadirlo a visitados\n",
        "        nodos_visitados.append(nodo_actual)\n",
        "        if nodo_actual.get_estado() == solucion:\n",
        "            # solucion encontrada\n",
        "            resuelto = True\n",
        "            return nodo_actual\n",
        "        else:\n",
        "            # expandir nodos hijo\n",
        "            estado_nodo = nodo_actual.get_estado()\n",
        "\n",
        "            #modificaciones\n",
        "            nodoTemporal=[] #\n",
        "            NodoHijos=[]# guarda los nuevos hijos generados apartir del nodo actual\n",
        "            contador=0 #Este contador ayuda a que se haga los intercambios desde la posicion correcta\n",
        "            for i, valor in enumerate(estado_nodo[:-1]):\n",
        "                nodoTemporal=estado_nodo[:]  #creamos  una copia del nodo actual en el nodo temporal para no modificar el nodo principal\n",
        "                if i==contador:\n",
        "                  #intercambio de fichas\n",
        "                  nodoTemporal[i+1], nodoTemporal[i] = estado_nodo[i], estado_nodo[i+1]\n",
        "                  contador+=1\n",
        "                  #agredos nuevos\n",
        "                  hijo=Nodo(nodoTemporal)\n",
        "                  \n",
        "                  if not hijo.en_lista(nodos_visitados) and not hijo.en_lista(nodos_frontera): #validacion para agregar o no a nodos frontera\n",
        "                      nodos_frontera.append(hijo)\n",
        "                      NodoHijos.append(hijo) #vamos agregando los hijos \n",
        "            nodo_actual.set_hijo(NodoHijos)\n"
      ]
    },
    {
      "cell_type": "code",
      "execution_count": 3,
      "metadata": {},
      "outputs": [],
      "source": [
        "import time\n",
        "\n",
        "if __name__ == \"__main__\":\n",
        "    \n",
        "    fichas_N = int(input(\"Introdusca cantidad de fichas\"))\n",
        "    estado_inicial=[]\n",
        "    solucion=[]\n",
        "    contador=1\n",
        "    print(fichas_N)\n",
        "    while contador <= fichas_N:\n",
        "        estado_inicial.append(int(input(\"Ficha {}:\".format(contador))))\n",
        "        solucion.append(contador)\n",
        "        contador+=1\n",
        "    print(\"Estado inicial :\",estado_inicial)\n",
        "    print(\"Solucion a encontrar : \",solucion)\n",
        "    tiempo_inicio = time.time()\n",
        "    nodo_solucion = busqueda_BPA_solucion(estado_inicial, solucion)\n",
        "    # mostrar resultado\n",
        "    resultado = []\n",
        "    nodo_actual = nodo_solucion\n",
        "    while nodo_actual.get_padre() is not None:\n",
        "        resultado.append(nodo_actual.get_estado())\n",
        "        nodo_actual = nodo_actual.get_padre()\n",
        "    resultado.append(estado_inicial)\n",
        "    resultado.reverse()\n",
        "    print(\"solucion:\",resultado)\n",
        "    tiempo_fin = time.time()\n",
        "    tiempo_total=tiempo_fin-tiempo_inicio\n",
        "    print (\"tiempo de ejecucion :\",tiempo_total)\n"
      ]
    },
    {
      "attachments": {},
      "cell_type": "markdown",
      "metadata": {},
      "source": [
        "El algortimo de busqueda en anchura y profundidad en este caso encuentran la solucion con 7 fichas como maximo ,mayor a ese\n",
        "rango el equipo colapsa \n",
        "\n",
        "Tiempos\n",
        "Busqueda por anchura : 53.444 s\n",
        "Busqueda por profundidad :54.9147 s\n",
        "\n",
        "segun los resultados la busqueda por anchura recorrio menos caminos para encontrar la solucion\n",
        "encambio la busqueda por profundidad encontro la solucion por un camino las largo \n",
        "\n",
        "en cuanto a tiempo hay una pequeña variacion\n"
      ]
    },
    {
      "cell_type": "markdown",
      "metadata": {},
      "source": []
    }
  ],
  "metadata": {
    "colab": {
      "provenance": []
    },
    "kernelspec": {
      "display_name": "Python 3",
      "language": "python",
      "name": "python3"
    },
    "language_info": {
      "codemirror_mode": {
        "name": "ipython",
        "version": 3
      },
      "file_extension": ".py",
      "mimetype": "text/x-python",
      "name": "python",
      "nbconvert_exporter": "python",
      "pygments_lexer": "ipython3",
      "version": "3.10.7"
    },
    "vscode": {
      "interpreter": {
        "hash": "afb734500600fd355917ca529030176ea0ca205570884b88f2f6f7d791fd3fbe"
      }
    }
  },
  "nbformat": 4,
  "nbformat_minor": 0
}
