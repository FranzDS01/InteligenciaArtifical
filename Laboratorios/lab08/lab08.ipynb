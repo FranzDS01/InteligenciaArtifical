{
 "cells": [
  {
   "cell_type": "code",
   "execution_count": 1,
   "metadata": {},
   "outputs": [],
   "source": [
    "# utilizado para manejos de directorios y rutas\n",
    "import os\n",
    "\n",
    "# Computacion vectorial y cientifica para python\n",
    "import numpy as np\n",
    "import pandas as pd\n",
    "# Librerias para graficación (trazado de gráficos)\n",
    "from matplotlib import pyplot\n",
    "# Necesario para graficar superficies 3D\n",
    "from mpl_toolkits.mplot3d import Axes3D\n",
    "\n",
    "# llama a matplotlib a embeber graficas dentro de los cuadernillos\n",
    "%matplotlib inline\n"
   ]
  },
  {
   "cell_type": "code",
   "execution_count": 2,
   "metadata": {},
   "outputs": [],
   "source": [
    "df=pd.read_csv('../Datasets/ejemplo2.csv')\n",
    "df['Edad_cuadrado'] = df['Edad'] ** 2\n",
    "X = df[['Edad', 'Edad_cuadrado']]\n",
    "Y = df['Ingreso']\n",
    "m = Y.shape[0]\n",
    "X_copia=X.copy()"
   ]
  },
  {
   "cell_type": "code",
   "execution_count": 3,
   "metadata": {},
   "outputs": [],
   "source": [
    "def featureNormalize(X):\n",
    "    X_norm = X.copy()\n",
    "    mu = np.zeros(X.shape[1])\n",
    "    sigma = np.zeros(X.shape[1])\n",
    "\n",
    "    mu = np.mean(X, axis=0)\n",
    "    sigma = np.std(X, axis=0)\n",
    "    X_norm = (X - mu) / sigma\n",
    "\n",
    "    return X_norm, mu, sigma\n"
   ]
  },
  {
   "cell_type": "code",
   "execution_count": 4,
   "metadata": {},
   "outputs": [
    {
     "name": "stdout",
     "output_type": "stream",
     "text": [
      "        Edad  Edad_cuadrado\n",
      "0  -1.612452      -1.150200\n",
      "1  -1.364382      -1.101940\n",
      "2  -1.116313      -1.021506\n",
      "3  -0.868243      -0.908899\n",
      "4  -0.620174      -0.764119\n",
      "5  -0.372104      -0.587165\n",
      "6  -0.124035      -0.378038\n",
      "7   0.124035      -0.136737\n",
      "8   0.372104       0.136737\n",
      "9   0.620174       0.442385\n",
      "10  0.868243       0.780206\n",
      "11  1.116313       1.150200\n",
      "12  1.364382       1.552368\n",
      "13  1.612452       1.986709\n"
     ]
    }
   ],
   "source": [
    "# llama featureNormalize con los datos cargados\n",
    "X_norm, mu, sigma = featureNormalize(X)\n",
    "print(X_norm)\n"
   ]
  },
  {
   "cell_type": "code",
   "execution_count": 5,
   "metadata": {},
   "outputs": [
    {
     "name": "stdout",
     "output_type": "stream",
     "text": [
      "[[ 1.         -1.61245155 -1.15020019]\n",
      " [ 1.         -1.36438208 -1.10194004]\n",
      " [ 1.         -1.11631261 -1.02150646]\n",
      " [ 1.         -0.86824314 -0.90889945]\n",
      " [ 1.         -0.62017367 -0.76411901]\n",
      " [ 1.         -0.3721042  -0.58716513]\n",
      " [ 1.         -0.12403473 -0.37803782]\n",
      " [ 1.          0.12403473 -0.13673709]\n",
      " [ 1.          0.3721042   0.13673709]\n",
      " [ 1.          0.62017367  0.44238469]\n",
      " [ 1.          0.86824314  0.78020572]\n",
      " [ 1.          1.11631261  1.15020019]\n",
      " [ 1.          1.36438208  1.55236809]\n",
      " [ 1.          1.61245155  1.98670941]]\n"
     ]
    }
   ],
   "source": [
    "# Añade el termino de interseccion a X\n",
    "# (Columna de unos para X0)\n",
    "X = np.concatenate([np.ones((m, 1)), X_norm], axis=1)\n",
    "print(X)\n"
   ]
  },
  {
   "cell_type": "code",
   "execution_count": 6,
   "metadata": {},
   "outputs": [],
   "source": [
    "def computeCostMulti(X, y, theta):\n",
    "    # Inicializa algunos valores utiles\n",
    "    m = y.shape[0]  # numero de ejemplos de entrenamiento\n",
    "\n",
    "    J = 0\n",
    "\n",
    "    h = np.dot(X, theta)\n",
    "\n",
    "    J = (1/(2 * m)) * np.sum(np.square(np.dot(X, theta) - y))\n",
    "\n",
    "    return J\n"
   ]
  },
  {
   "cell_type": "code",
   "execution_count": 7,
   "metadata": {},
   "outputs": [],
   "source": [
    "def gradientDescentMulti(X, y, theta, alpha, num_iters):\n",
    "\n",
    "    # Inicializa algunos valores\n",
    "    m = y.shape[0]  # numero de ejemplos de entrenamiento\n",
    "\n",
    "    # realiza una copia de theta, el cual será acutalizada por el descenso por el gradiente\n",
    "    theta = theta.copy()\n",
    "\n",
    "    J_history = []\n",
    "\n",
    "    for i in range(num_iters):\n",
    "        theta = theta - (alpha / m) * (np.dot(X, theta) - y).dot(X)\n",
    "        J_history.append(computeCostMulti(X, y, theta))\n",
    "\n",
    "    return theta, J_history\n"
   ]
  },
  {
   "cell_type": "code",
   "execution_count": 8,
   "metadata": {},
   "outputs": [
    {
     "name": "stdout",
     "output_type": "stream",
     "text": [
      "theta calculado por el descenso por el gradiente: [ 3647.85702694  3761.18465568 -2299.19257872]\n",
      "edad de 50 sueldo aproximado: $3598\n"
     ]
    },
    {
     "data": {
      "image/png": "[encoded data removed]",
      "text/plain": [
       "<Figure size 640x480 with 1 Axes>"
      ]
     },
     "metadata": {},
     "output_type": "display_data"
    }
   ],
   "source": [
    "# Elegir algun valor para alpha (probar varias alternativas)\n",
    "alpha = 0.019  # alpha = 0.003\n",
    "num_iters = 900\n",
    "\n",
    "# inicializa theta y ejecuta el descenso por el gradiente\n",
    "theta = np.zeros(3)\n",
    "theta, J_history = gradientDescentMulti(X, Y, theta, alpha, num_iters)\n",
    "\n",
    "# Grafica la convergencia del costo\n",
    "pyplot.plot(np.arange(len(J_history)), J_history, lw=2)\n",
    "pyplot.xlabel('Numero de iteraciones')\n",
    "pyplot.ylabel('Costo J')\n",
    "# Muestra los resultados del descenso por el gradiente\n",
    "print(\n",
    "    'theta calculado por el descenso por el gradiente: {:s}'.format(str(theta)))\n",
    "\n",
    "# Estimar el precio para una casa de 1650 sq-ft, con 3 dormitorios\n",
    "edad = 30\n",
    "cuadrado = edad**2\n",
    "X_array = [1, edad, cuadrado]\n",
    "X_array[1:3] = (X_array[1:3] - mu) / sigma\n",
    "price = np.dot(X_array, theta)   # Se debe cambiar esto\n",
    "\n",
    "print('edad de 50 sueldo aproximado: ${:.0f}'.format(price))\n"
   ]
  },
  {
   "cell_type": "code",
   "execution_count": 9,
   "metadata": {},
   "outputs": [
    {
     "data": {
      "text/plain": [
       "<matplotlib.legend.Legend at 0x1b9ec73e140>"
      ]
     },
     "execution_count": 9,
     "metadata": {},
     "output_type": "execute_result"
    },
    {
     "data": {
      "image/png": "[encoded data removed]",
      "text/plain": [
       "<Figure size 640x480 with 1 Axes>"
      ]
     },
     "metadata": {},
     "output_type": "display_data"
    }
   ],
   "source": [
    "X_copia_array = X_copia.to_numpy()\n",
    "pyplot.plot(X[:, 1], Y, 'ro', ms=5, mec='k')\n",
    "pyplot.xlabel('edad')\n",
    "pyplot.ylabel('ingresos')\n",
    "pyplot.plot(X[:,1], np.dot(X, theta), '-')\n",
    "pyplot.legend(['Datos de entrenamiento', 'Regresión'])\n"
   ]
  },
  {
   "attachments": {},
   "cell_type": "markdown",
   "metadata": {},
   "source": [
    "# Ecuacion de la Normal"
   ]
  },
  {
   "cell_type": "code",
   "execution_count": 10,
   "metadata": {},
   "outputs": [],
   "source": [
    "# Cargar datos\n",
    "data = np.loadtxt(os.path.join('../Datasets/', 'ejemplo2.csv'), delimiter=',',skiprows=1)\n",
    "X = data[:, :1]\n",
    "y = data[:, 1]\n",
    "m = y.size\n",
    "X = np.concatenate([np.ones((m, 1)), X], axis=1)\n"
   ]
  },
  {
   "cell_type": "code",
   "execution_count": 11,
   "metadata": {},
   "outputs": [],
   "source": [
    "def normalEqn(X, y):\n",
    "\n",
    "    theta = np.zeros(X.shape[1])\n",
    "\n",
    "    theta = np.dot(np.dot(np.linalg.inv(np.dot(X.T, X)), X.T), y)\n",
    "\n",
    "    return theta\n"
   ]
  },
  {
   "cell_type": "code",
   "execution_count": 12,
   "metadata": {},
   "outputs": [
    {
     "name": "stdout",
     "output_type": "stream",
     "text": [
      "Theta calculado a partir de la ecuación de la normal: [552.41758242  82.54505495]\n",
      "Ingresos de una persona de 50 anios de edad (usando la acuacion de la normal)$3029\n"
     ]
    }
   ],
   "source": [
    "# Calcula los parametros con la ecuación de la normal\n",
    "theta = normalEqn(X, y)\n",
    "\n",
    "# Muestra los resultados optenidos a partir de la aplicación de la ecuación de la normal\n",
    "print('Theta calculado a partir de la ecuación de la normal: {:s}'.format(\n",
    "    str(theta)))\n",
    "\n",
    "# Estimar el precio para una casa de superficie de 1650 sq-ft y tres dormitorios\n",
    "edad=30\n",
    "X_array = [1,edad]\n",
    "price = np.dot(X_array, theta)\n",
    "\n",
    "print('Ingresos de una persona de 50 anios de edad (usando la acuacion de la normal)${:.0f}'.format(price))\n"
   ]
  }
 ],
 "metadata": {
  "kernelspec": {
   "display_name": "Python 3",
   "language": "python",
   "name": "python3"
  },
  "language_info": {
   "codemirror_mode": {
    "name": "ipython",
    "version": 3
   },
   "file_extension": ".py",
   "mimetype": "text/x-python",
   "name": "python",
   "nbconvert_exporter": "python",
   "pygments_lexer": "ipython3",
   "version": "3.10.7"
  },
  "orig_nbformat": 4,
  "vscode": {
   "interpreter": {
    "hash": "afb734500600fd355917ca529030176ea0ca205570884b88f2f6f7d791fd3fbe"
   }
  }
 },
 "nbformat": 4,
 "nbformat_minor": 2
}
