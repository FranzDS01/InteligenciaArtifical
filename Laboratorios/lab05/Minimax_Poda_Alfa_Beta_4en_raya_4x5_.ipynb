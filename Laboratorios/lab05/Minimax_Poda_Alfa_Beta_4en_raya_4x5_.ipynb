{
  "cells": [
    {
      "cell_type": "markdown",
      "metadata": {
        "id": "view-in-github",
        "colab_type": "text"
      },
      "source": [
        "<a href=\"https://colab.research.google.com/github/FranzDS01/InteligenciaArtifical/blob/main/Laboratorios/lab05/Minimax_Poda_Alfa_Beta_4en_raya_4x5_.ipynb\" target=\"_parent\"><img src=\"https://colab.research.google.com/assets/colab-badge.svg\" alt=\"Open In Colab\"/></a>"
      ]
    },
    {
      "cell_type": "code",
      "execution_count": null,
      "metadata": {
        "id": "LzXwEDGOSQTH"
      },
      "outputs": [],
      "source": [
        "import random\n",
        "\n",
        "# Alunos:\n",
        "# Caique de Paula Figueiredo Coelho\n",
        "# Lucas Queiroz"
      ]
    },
    {
      "cell_type": "markdown",
      "metadata": {
        "id": "zla2lxJqkn0q"
      },
      "source": [
        "Modificado juego de 4 en raya  en tablero de  4 x 5\n",
        "## Nombre : Franz Ronald Soria Colque\n",
        "repositorio: https://github.com/FranzDS01/InteligenciaArtifical/blob/main/Laboratorios/lab05/Minimax_Poda_Alfa_Beta_4en_raya%204x5%20.ipynb\n",
        "\n"
      ]
    },
    {
      "cell_type": "code",
      "execution_count": null,
      "metadata": {
        "id": "mu_Glr9JpkPC"
      },
      "outputs": [],
      "source": [
        "def emoji(valor,copyBoard):\n",
        "  if copyBoard[valor] == 'X':\n",
        "      return '😈' #computador\n",
        "  else:\n",
        "    if copyBoard[valor]=='O':\n",
        "       return '😎'#humano\n",
        "  return copyBoard[valor]"
      ]
    },
    {
      "cell_type": "code",
      "execution_count": null,
      "metadata": {
        "id": "8ZxIgqhySVn3"
      },
      "outputs": [],
      "source": [
        "def getBoardCopy(board):\n",
        "    # Hace una copia del tablero y devuélveme esta copia\n",
        "\n",
        "    duplicateBoard = []\n",
        "\n",
        "    for i in board:\n",
        "        duplicateBoard.append(i)\n",
        "\n",
        "    return duplicateBoard\n",
        "\n",
        "\n",
        "def drawBoard(board):\n",
        "    # Esta función imprime el tablero del juego.\n",
        "  # El marco es una lista de 36 cadenas que representan el tablero\n",
        "\n",
        "    copyBoard = getBoardCopy(board)\n",
        "\n",
        "    for i in range(1, 21):\n",
        "        if (board[i] == ''):\n",
        "            copyBoard[i] = str(i)\n",
        "        else:\n",
        "            copyBoard[i] = board[i]\n",
        "    #6x6\n",
        "    \"\"\"\n",
        "    print(' ' + copyBoard[36] + '|' + copyBoard[35] + '|' + copyBoard[34] + '|' + copyBoard[33] + '|' + copyBoard[32] + '|' + copyBoard[31])\n",
        "    # print(' | |')\n",
        "    print('--------------')\n",
        "    # print(' | |')\n",
        "    print(' ' + copyBoard[30] + '|' + copyBoard[29] + '|' + copyBoard[28] + '|' + copyBoard[27] + '|' + copyBoard[26] + '|' + copyBoard[25])\n",
        "    # print(' | |')\n",
        "    print('--------------')\n",
        "    # print(' | |')\n",
        "    print(' ' + copyBoard[24] + '|' + copyBoard[23] + '|' + copyBoard[22] + '|' + copyBoard[21] + '|' + copyBoard[20] + '|' + copyBoard[19])\n",
        "    # print(' | |')\n",
        "    print('--------------')\n",
        "    # print(' | |')\n",
        "    print(' ' + copyBoard[18] + '|' + copyBoard[17] + '|' + copyBoard[16] + '|' + copyBoard[15] + '|' + copyBoard[14] + '|' + copyBoard[13])\n",
        "    # print(' | |')\n",
        "    print('--------------')\n",
        "    # print(' | |')\n",
        "    print(' ' + copyBoard[12] + '|' + copyBoard[11] + '|' + copyBoard[10] + '|' + copyBoard[9] + '|' + copyBoard[8] + '|' + copyBoard[7])\n",
        "    # print(' | |')\n",
        "    print('--------------')\n",
        "    # print(' | |')\n",
        "    print(' ' + copyBoard[6] + '|' + copyBoard[5] + '|' + copyBoard[4] + '|' + copyBoard[3] + '|' + copyBoard[2] + '|' + copyBoard[1])\n",
        "    # print(' | |')\n",
        "    print('--------------')\n",
        "    # print(' | |')\n",
        "    \"\"\"\n",
        "\n",
        "    #4x5\n",
        "\n",
        "    print(' ' + emoji(20,copyBoard) + '  |  ' + emoji(19,copyBoard) + '  |  ' + emoji(18,copyBoard) + '  |  ' + emoji(17,copyBoard))\n",
        "    print('--------------------------')\n",
        "    print(' ' + emoji(16,copyBoard) + '  |  ' + emoji(15,copyBoard) + '  |  ' + emoji(14,copyBoard) + '  |  ' + emoji(13,copyBoard))\n",
        "    print('--------------------------')\n",
        "    print(' ' + emoji(12,copyBoard) + '  |  ' + emoji(11,copyBoard) + '  |  ' + emoji(10,copyBoard) + '  |  ' + emoji(9,copyBoard))\n",
        "    print('--------------------------')\n",
        "    print(' ' + emoji(8,copyBoard) + '  |  ' + emoji(7,copyBoard) + '  |  ' + emoji(6,copyBoard) + '  |  ' + emoji(5,copyBoard))\n",
        "    print('--------------------------')\n",
        "    print(' ' + emoji(4,copyBoard) + '  |  ' + emoji(3,copyBoard) + '  |  ' + emoji(2,copyBoard) + '  |  ' + emoji(1,copyBoard))\n",
        ""
      ]
    },
    {
      "cell_type": "code",
      "execution_count": null,
      "metadata": {
        "id": "J02mi9WXU4VK"
      },
      "outputs": [],
      "source": [
        "def inputPlayerLetter():\n",
        "    # El jugador elige con qué letra quiere jugar \"X\" u \"O\"\n",
        "  # Devuelve una lista con la letra del jugador y la letra de la computadora\n",
        "\n",
        "    letter = ''  # variable que guarda la ficha elegido\n",
        "    while not (letter == 'X' or letter == 'O'):\n",
        "        print('Usted quiere ser X = 😈 o O = 😎?')\n",
        "        letter = input().upper()\n",
        "        if (letter != 'X' and letter != 'O'):\n",
        "            print(\"¡Solo ingresa la letra X si quieres ser X = 😈 o la letra O =  😎 si quieres ser O!\")\n",
        "\n",
        "    # El primer elemento de la lista es el jugador humano y el segundo es la computadora.\n",
        "    if letter == 'X':\n",
        "        return ['X', 'O']\n",
        "    else:\n",
        "        return ['O', 'X']\n",
        "\n",
        "\n",
        "def whoGoesFirts():\n",
        "    # Elige al azar al jugador que jugará primero\n",
        "    if random.randint(0, 1) == 0:\n",
        "        return 'computador'\n",
        "    else:\n",
        "        return 'humano'\n"
      ]
    },
    {
      "cell_type": "markdown",
      "metadata": {
        "id": "_qVorF4okn04"
      },
      "source": [
        "Lista de ganadores (listaGanadores4)en un juego de 4 en raya en tablero de 4 x 5"
      ]
    },
    {
      "cell_type": "code",
      "execution_count": null,
      "metadata": {
        "id": "GqOdd9190MSk"
      },
      "outputs": [],
      "source": [
        "#4x5 4 en raya\n",
        "listaGanadores4 =[[1,5,9,13],[5,9,13,17],[2,6,10,14],[6,10,14,18],[3,7,11,15],[7,11,15,19],[4,8,12,16],[8,12,16,20],\n",
        "                  [1,2,3,4],[5,6,7,8],[9,10,11,12],[13,14,15,16],[17,18,19,20],\n",
        "                  [4,7,10,13],[8,11,14,17],[1,6,11,16],[5,10,15,20]]\n",
        ""
      ]
    },
    {
      "cell_type": "markdown",
      "metadata": {
        "id": "zTZX5b0_Pa_Y"
      },
      "source": [
        "# Se creado un lista de jugadas ganadores\n",
        "# y de esta manera se creado un ciclo por donde se revisar si el jugador a ganado o no dependiendo de las listade ganadores"
      ]
    },
    {
      "cell_type": "code",
      "execution_count": null,
      "metadata": {
        "id": "NybPAeC_SyXP"
      },
      "outputs": [],
      "source": [
        "def makeMove(board, letter, move):\n",
        "\t# Hace el movimiento de la computadora o del jugador dependiendo de la letra en el tablero\n",
        "\tboard[move] = letter\n",
        "\n",
        "\n",
        "def isWinner(board, letter):  # isWinner(define un ganador) dado el tablero y ficha de jugador\n",
        "\t# Dado un cuadrado y una letra, esta función devuelve True si la letra dada gana el juego.\n",
        "\tfor i,lista in enumerate(listaGanadores4):\n",
        "\t\tif(board[listaGanadores4[i][0]]== letter and board[listaGanadores4[i][1]]== letter and board[listaGanadores4[i][2]]== letter and board[listaGanadores4[i][3]]== letter):\n",
        "\t\t\treturn True\n",
        "\treturn False\n",
        "\n",
        "\n",
        "def isSpaceFree(board, move):#esEspacioLibre\n",
        "\t# Devuelve verdadero si el espacio solicitado está libre en el tablero\n",
        "\tif(board[move] == ''):\n",
        "\t\treturn True\n",
        "\telse:\n",
        "\t\treturn False\n",
        "\n",
        "def getPlayerMove(board):\n",
        "\t# Recibe el movimiento del jugador\n",
        "\tmove = ''\n",
        "\tcadena = '1 2 3 4 5 6 7 8 9 10 11 12 13 14 15 16 17 18 19 20' #modificado\n",
        "\tnumero = cadena.split()\n",
        "\twhile move not in numero or not isSpaceFree(board, int(move)):#si el movimiento no esta dentro de 1-36  o el lugar no este ocupado , es valido\n",
        "\t\tprint('Cual es su proximo movimiento? (1-20)')\n",
        "\t\tmove = input();#pedir movimiento\n",
        "\t\tif(move not in cadena):\n",
        "\t\t\tprint(\"MOVIMENTO INVALIDO! INTRODUSCA UN NUMERO ENTRE 1 Y 20!\")\n",
        "\n",
        "\n",
        "\t\tif(move in cadena):\n",
        "\t\t\tif(not isSpaceFree(board, int(move))):\n",
        "\t\t\t\tprint(\"ESPACIO NO DISPONIBLE! ELIJA OTRO ESPACO ENTRE 1 Y 20 O CUALQUIER NUMERO DISPONIBLE EN EL TABLERO!\")\n",
        "\n",
        "\treturn int(move) #retorna el numero del movimiento realizado\n",
        "\n",
        "def chooseRandomMoveFromList(board, movesList):#elegir Movimiento Aleatorio DeLista\n",
        "  # Devuelve un movimiento aleatorio válido\n",
        "  # Devuelve None si no hay movimientos válidos\n",
        "\n",
        "\tpossiveisMovimentos = [] #lista posibles movimientos\n",
        "\tfor i in movesList:\n",
        "\t\tif isSpaceFree(board, i): #si el espacion esta libre o no\n",
        "\t\t\tpossiveisMovimentos.append(i)\n",
        "\n",
        "\tif len(possiveisMovimentos) != 0: #si la lista no esta vacia\n",
        "\t\treturn random.choice(possiveisMovimentos)#escojemos de todos un movimiento aleatorio\n",
        "\telse:\n",
        "\t\treturn None #si ya no hay lugar para movimientos\n",
        "\n",
        "def isBoardFull(board): # esta tablero lleno\n",
        "\t# Devuelve True si todos los espacios de tablero no están disponibles\n",
        "\tfor i in range(1, 21):\n",
        "\t\tif isSpaceFree(board, i):\n",
        "\t\t\treturn False #no lleno\n",
        "\treturn True #lleno\n",
        "\n",
        "def possiveisOpcoes(board):#posibles ocpciones\n",
        "\t# Devuelve una lista de todos los espacios en el tablero que están disponibles\n",
        "\n",
        "\topcoes = [] #lista\n",
        "\n",
        "\tfor i in range(1, 21):\n",
        "\t\tif isSpaceFree(board, i):\n",
        "\t\t\topcoes.append(i)\n",
        "\n",
        "\treturn opcoes"
      ]
    },
    {
      "cell_type": "markdown",
      "metadata": {
        "id": "qfXt20H2ijTx"
      },
      "source": [
        "Funcion minMax verifica si puede ganarla partidad en el siguiente movimiento o si el contrincante puede el siguiente movimiento , en todo caso retorna la ubicacion para poder ganar o evitar que gane el contrincante"
      ]
    },
    {
      "cell_type": "code",
      "execution_count": null,
      "metadata": {
        "id": "0Ql8iwts7Bdq"
      },
      "outputs": [],
      "source": [
        "def minMax(board,computerLetter,playerLetter):\n",
        "      # Comecamos aqui o MiniMax\n",
        "    # Primeiro chechamos se podemos ganhar no proximo movimento\n",
        "    for i in range(1, 21): #modificado 1-10 a 1-37\n",
        "        copy = getBoardCopy(board)\n",
        "        if isSpaceFree(copy, i):\n",
        "            makeMove(copy, computerLetter, i)\n",
        "            if isWinner(copy, computerLetter):\n",
        "                return i\n",
        "\n",
        "    # Checa si el jugador puede ganar en el proximo movimiento y bloquear\n",
        "    for i in range(1, 21):\n",
        "        copy = getBoardCopy(board)  # hace un copia del tablero original\n",
        "        if isSpaceFree(copy, i):  # si hay espacios libre o no\n",
        "            makeMove(copy, playerLetter, i)  # hacer movimiento(copia,'X',1)\n",
        "            if isWinner(copy, playerLetter):  # si gango tru y  aun no false\n",
        "                return i  # i es el lugar donde si se marca se gana el juego\n",
        "    return 0"
      ]
    },
    {
      "cell_type": "markdown",
      "metadata": {
        "id": "J9WUa0ukh6qk"
      },
      "source": [
        "Funcion AsegurarGanar verfica qeu tan serca esta de ganar una partidad segun su ficha de jugador \"X\" o \"O\" si es mayor a 1 tiene mas probabilidad de ganar por eso rotorna true si tiene mas de dos Fichas en una posicion ganadora y false si esta lejos del objetivo"
      ]
    },
    {
      "cell_type": "code",
      "execution_count": null,
      "metadata": {
        "id": "V8lZXuSJK2kO"
      },
      "outputs": [],
      "source": [
        "def AsegurarGanar(board,letterJugador):\n",
        "    valorMax=0\n",
        "    for i,lista in enumerate(listaGanadores4):\n",
        "        valoracion=0\n",
        "        if (board[listaGanadores4[i][0]]==letterJugador):\n",
        "          valoracion +=1\n",
        "        if (board[listaGanadores4[i][1]]==letterJugador):\n",
        "          valoracion +=1\n",
        "        if (board[listaGanadores4[i][2]]==letterJugador):\n",
        "          valoracion +=1\n",
        "        if (board[listaGanadores4[i][3]]==letterJugador):\n",
        "          valoracion +=1\n",
        "        if valoracion > valorMax:\n",
        "          valorMax=valoracion\n",
        "    if valorMax == 2:\n",
        "       return True\n",
        "    return False"
      ]
    },
    {
      "cell_type": "code",
      "execution_count": null,
      "metadata": {
        "id": "l_r50oisjCOD"
      },
      "outputs": [],
      "source": [
        "def finishGame(board, computerLetter):\n",
        "    # Comprobar si el juego ha terminado\n",
        "    # Devuelve -1 si el jugador gana\n",
        "    # Devuelve 1 si la computadora gana\n",
        "    # Devuelve 0 si el juego termina en empate\n",
        "    # Devuelve Ninguno si el juego no ha terminado\n",
        "    if computerLetter == 'X':\n",
        "        playerLetter = 'O'\n",
        "    else:\n",
        "        playerLetter = 'X'\n",
        "\n",
        "    if (isWinner(board, computerLetter)):\n",
        "        return 1\n",
        "\n",
        "    elif (isWinner(board, playerLetter)):\n",
        "        return -1\n",
        "\n",
        "    elif (isBoardFull(board)):\n",
        "        return 0\n",
        "\n",
        "    else:\n",
        "        return None"
      ]
    },
    {
      "cell_type": "markdown",
      "metadata": {
        "id": "AtpUYkdxjRjc"
      },
      "source": [
        "Se ha agregado una condición al código alfaBeta: if AsegurarGanar(board, computerLetter). Esta condición verifica si marcar en una posición determinada está cerca de lograr la victoria. Si la condición devuelve True, se ejecuta la recursividad para continuar explorando posibles movimientos. Si devuelve False, se borra el movimiento realizado, se pasa al siguiente lugar libre y se repite el proceso para determinar si se está cerca de ganar o no.\n",
        "\n"
      ]
    },
    {
      "cell_type": "code",
      "execution_count": null,
      "metadata": {
        "id": "iTNtNTRBjHiW"
      },
      "outputs": [],
      "source": [
        "def alphabeta(board, computerLetter, turn, alpha, beta):\n",
        "\n",
        "  # Hacemos podas alfabéticas aqui\n",
        "\n",
        "    if computerLetter == 'X':\n",
        "        playerLetter = 'O'\n",
        "    else:\n",
        "        playerLetter = 'X'\n",
        "\n",
        "    if turn == computerLetter:  # si turno es de computador\n",
        "        nextTurn = playerLetter  # siguiente es del jugador\n",
        "    else:\n",
        "        nextTurn = computerLetter\n",
        "\n",
        "    finish = finishGame(board, computerLetter)  # si hay un ganador\n",
        "\n",
        "    if (finish != None):  # si hay un empate o un gandor el juego termina\n",
        "        return finish\n",
        "\n",
        "    possiveis = possiveisOpcoes(board)  # lista de posibles opciones libres\n",
        "\n",
        "    if turn == computerLetter:\n",
        "        for move in possiveis:  # recorre lista de posibles espacios libres\n",
        "            # llama a funcion hacerMovimiento(tabla,'X',1)\n",
        "            makeMove(board, turn, move)\n",
        "            if AsegurarGanar(board,computerLetter):\n",
        "              val = alphabeta(board, computerLetter, nextTurn, alpha, beta)\n",
        "              makeMove(board, '', move)\n",
        "\n",
        "              if val > alpha:\n",
        "                  alpha = val\n",
        "\n",
        "              if alpha >= beta:\n",
        "                  return alpha\n",
        "            else :\n",
        "                makeMove(board, '', move)\n",
        "        return alpha\n",
        "\n",
        "    else:\n",
        "        for move in possiveis:\n",
        "            makeMove(board, turn, move)\n",
        "            if AsegurarGanar(board,nextTurn):\n",
        "              val = alphabeta(board, computerLetter, nextTurn, alpha, beta)\n",
        "              makeMove(board, '', move)\n",
        "\n",
        "              if val < beta:\n",
        "                  beta = val\n",
        "\n",
        "              if alpha >= beta:\n",
        "                  return beta\n",
        "            else:\n",
        "                makeMove(board, '', move)\n",
        "        return beta\n"
      ]
    },
    {
      "cell_type": "code",
      "execution_count": null,
      "metadata": {
        "id": "FdaCLAl_jMhB"
      },
      "outputs": [],
      "source": [
        "\n",
        "def getComputerMove(board, turn, computerLetter):\n",
        "    # Definimos aquí cuál será el movimiento de la computadora\n",
        "\n",
        "    a = -2\n",
        "    opcoes = []  # lista de ocpiones\n",
        "\n",
        "    if computerLetter == 'X':\n",
        "        playerLetter = 'O'\n",
        "    else:\n",
        "        playerLetter = 'X'\n",
        "\n",
        "    # if len(possiveisOpcoes(board)) == 9:\n",
        "    # return 5\n",
        "    valoracion= minMax(board,computerLetter,playerLetter)\n",
        "    if(valoracion!=0):\n",
        "      return valoracion\n",
        "\n",
        "\n",
        "\n",
        "    possiveisOpcoesOn = possiveisOpcoes(board)\n",
        "\n",
        "    for move in possiveisOpcoesOn:\n",
        "\n",
        "        makeMove(board, computerLetter, move)\n",
        "        val = alphabeta(board, computerLetter, playerLetter, -2, 2)\n",
        "        makeMove(board, '', move)\n",
        "\n",
        "        if val > a:\n",
        "            a = val\n",
        "            opcoes = [move]\n",
        "\n",
        "        elif val == a:\n",
        "            opcoes.append(move)\n",
        "\n",
        "    # escoje un valor aleatorio de esa lista de opciones buenas\n",
        "    return random.choice(opcoes)"
      ]
    },
    {
      "cell_type": "code",
      "execution_count": null,
      "metadata": {
        "colab": {
          "base_uri": "https://localhost:8080/"
        },
        "id": "DaCheFbfLU8Z",
        "outputId": "2831fe89-28d7-4921-fe77-7aa1b2b5c8ac"
      },
      "outputs": [
        {
          "name": "stdout",
          "output_type": "stream",
          "text": [
            "Vamos jugar juego de tres en raya\n",
            "Usted quiere ser X = 😈 o O = 😎?\n",
            "O humano juega primero,\n",
            " 20  |  19  |  18  |  17\n",
            "--------------------------\n",
            " 16  |  15  |  14  |  13\n",
            "--------------------------\n",
            " 12  |  11  |  10  |  9\n",
            "--------------------------\n",
            " 8  |  7  |  6  |  5\n",
            "--------------------------\n",
            " 4  |  3  |  2  |  1\n",
            "Cual es su proximo movimiento? (1-20)\n",
            " 😎  |  19  |  18  |  17\n",
            "--------------------------\n",
            " 16  |  15  |  14  |  13\n",
            "--------------------------\n",
            " 12  |  11  |  10  |  9\n",
            "--------------------------\n",
            " 8  |  7  |  😈  |  5\n",
            "--------------------------\n",
            " 4  |  3  |  2  |  1\n",
            "Cual es su proximo movimiento? (1-20)\n",
            " 😎  |  19  |  18  |  17\n",
            "--------------------------\n",
            " 16  |  15  |  14  |  13\n",
            "--------------------------\n",
            " 12  |  😈  |  10  |  9\n",
            "--------------------------\n",
            " 8  |  7  |  😈  |  5\n",
            "--------------------------\n",
            " 4  |  3  |  😎  |  1\n",
            "Cual es su proximo movimiento? (1-20)\n",
            " 😎  |  19  |  18  |  17\n",
            "--------------------------\n",
            " 16  |  15  |  14  |  😈\n",
            "--------------------------\n",
            " 12  |  😈  |  10  |  😎\n",
            "--------------------------\n",
            " 8  |  7  |  😈  |  5\n",
            "--------------------------\n",
            " 4  |  3  |  😎  |  1\n",
            "Cual es su proximo movimiento? (1-20)\n"
          ]
        }
      ],
      "source": [
        "\n",
        "\n",
        "print('Vamos jugar juego de tres en raya')\n",
        "\n",
        "jogar = True\n",
        "\n",
        "while jogar:\n",
        "    # Reiniciar juego\n",
        "    theBoard = [''] * 21  # el tablero modificado *10 a *37\n",
        "\n",
        "    # asigna ficha a jugador y computador\n",
        "    playerLetter, computerLetter = inputPlayerLetter()\n",
        "    turn = whoGoesFirts()  # quien va primero puede ser humano o computador a la suerte\n",
        "    print('O ' + turn + ' juega primero,')\n",
        "    gameisPlaying = True  # iniciar\n",
        "\n",
        "    while gameisPlaying:\n",
        "        if turn == 'humano':\n",
        "            # turno del jugador\n",
        "            drawBoard(theBoard)  # dibuja tablero\n",
        "            move = getPlayerMove(theBoard)  # definir lugar de movimiento\n",
        "            makeMove(theBoard, playerLetter, move)  # realizar movimiento\n",
        "\n",
        "            if isWinner(theBoard, playerLetter):  # true si hay ganador false si no lo hay\n",
        "                drawBoard(theBoard)\n",
        "                print('¡Guau! ¡Ganaste el juego!')\n",
        "                gameisPlaying = False\n",
        "\n",
        "            else:\n",
        "                if isBoardFull(theBoard):\n",
        "                    drawBoard(theBoard)\n",
        "                    print('El juego terminó en empate')\n",
        "                    break\n",
        "                else:\n",
        "                    turn = 'computador'\n",
        "\n",
        "        else:\n",
        "          # Turno de computadora\n",
        "            # define lugar de movimiento\n",
        "            move = getComputerMove(theBoard, playerLetter, computerLetter)\n",
        "            makeMove(theBoard, computerLetter, move)  # hacer movimiento\n",
        "\n",
        "            if isWinner(theBoard, computerLetter):  # tru si gano y false si no gano\n",
        "                drawBoard(theBoard)\n",
        "                print(\"La computadora ganó :(\")\n",
        "                gameisPlaying = False  # final del juego\n",
        "\n",
        "            else:\n",
        "                if isBoardFull(theBoard):  # si tablaro esta lleno\n",
        "                    drawBoard(theBoard)\n",
        "                    print('El juego terminó en empate.')\n",
        "                    break\n",
        "                else:\n",
        "                    turn = 'humano'\n",
        "\n",
        "    letterNew = ''\n",
        "    while not (letterNew == 'S' or letterNew == 'N'):\n",
        "        print(\"¿Quieres jugar de nuevo? Escriba S (para sí) o N (para no)\")\n",
        "        letterNew = input().upper()\n",
        "        if (letterNew != 'S' and letterNew != 'N'):\n",
        "            print(\"¡Entrada inválida! ¡Escriba S (para sí) o N (para no)!\")\n",
        "        if (letterNew == 'N'):\n",
        "            print(\"¡Fue bueno jugar contigo! ¡Hasta luego!\")\n",
        "            jogar = False\n"
      ]
    },
    {
      "cell_type": "markdown",
      "metadata": {
        "id": "nnX1pFjDkn1J"
      },
      "source": [
        "El algoritmo pudo proporcionar una solución para un tablero de tamaño máximo de 4x5 en el juego 4 en raya. Sin embargo, cuando se redujo la condición de victoria a 3 en raya en un tablero del mismo tamaño, el algoritmo no fue capaz de generar resultados.\n",
        "\n",
        "En resumen, el algoritmo mostró su capacidad para resolver el juego 4 en raya en un tablero de 4x5, pero no fue efectivo cuando se redujo la condición de victoria a 3 en raya en el mismo tamaño de tablero. el algortimo funciona mientras el numero de posibles ganadores sea pequeña como en este caso donde solo hay (17 posibles ganadores)\n"
      ]
    }
  ],
  "metadata": {
    "colab": {
      "provenance": [],
      "include_colab_link": true
    },
    "kernelspec": {
      "display_name": "Python 3",
      "language": "python",
      "name": "python3"
    },
    "language_info": {
      "codemirror_mode": {
        "name": "ipython",
        "version": 3
      },
      "file_extension": ".py",
      "mimetype": "text/x-python",
      "name": "python",
      "nbconvert_exporter": "python",
      "pygments_lexer": "ipython3",
      "version": "3.10.7 (tags/v3.10.7:6cc6b13, Sep  5 2022, 14:08:36) [MSC v.1933 64 bit (AMD64)]"
    },
    "vscode": {
      "interpreter": {
        "hash": "afb734500600fd355917ca529030176ea0ca205570884b88f2f6f7d791fd3fbe"
      }
    }
  },
  "nbformat": 4,
  "nbformat_minor": 0
}