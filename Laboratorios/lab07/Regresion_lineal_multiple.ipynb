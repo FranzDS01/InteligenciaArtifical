{
  "cells": [
    {
      "cell_type": "markdown",
      "metadata": {
        "id": "fxYd72KmVn8x"
      },
      "source": [
        "# Ejercicio de programación Regresión Lineal Multiple"
      ]
    },
    {
      "cell_type": "code",
      "execution_count": 158,
      "metadata": {
        "id": "-NQwq_hsVn80"
      },
      "outputs": [],
      "source": [
        "# utilizado para manejos de directorios y rutas\n",
        "import os\n",
        "\n",
        "# Computacion vectorial y cientifica para python\n",
        "import numpy as np\n",
        "import pandas as pd\n",
        "# Librerias para graficación (trazado de gráficos)\n",
        "from matplotlib import pyplot\n",
        "from mpl_toolkits.mplot3d import Axes3D  # Necesario para graficar superficies 3D\n",
        "\n",
        "# llama a matplotlib a embeber graficas dentro de los cuadernillos\n",
        "%matplotlib inline"
      ]
    },
    {
      "cell_type": "code",
      "execution_count": 159,
      "metadata": {
        "colab": {
          "base_uri": "https://localhost:8080/"
        },
        "id": "IzvXlXHMVn81",
        "outputId": "437c6a2a-a799-4737-95ef-a322d277a217"
      },
      "outputs": [
        {
          "name": "stdout",
          "output_type": "stream",
          "text": [
            "  X[:,0] X[:, 1]  X[:,2] X[:, 3]  X[:,4] X[:, 5]  X[:,6] X[:, 7]  X[:,8] X[:, 9] X[:,10]   X[:,11]       y\n",
            "--------------------------------------------------------------------------------------------------------------\n",
            "      10     135       5     424       8       1      16       3      13       8    2610       7      2357\n",
            "      10     125       4     233       2       1       4       1       3       0    1700      10      1749\n",
            "      10     110       5     312       4       1       8       2      13       5    2000       8      1916\n",
            "      11     118       4     233       2       1       4       1       3       0    1400      11      1315\n",
            "      11     125       4     233       2       1       4       1       3       0    1700      10      1749\n",
            "      12     150       6     401       4       2      16       2      16       8    2500      10      2137\n",
            "      13     134       4     233       2       1       8       1       2       0    1560      12      1238\n",
            "      13     150       6     401       4       2      16       2      16       8    2500      10      2137\n",
            "      14     118       4     233       2       1       4       1       3       0    1400      11      1315\n",
            "      15     145       5     432       4       2      16       2      16       2    2800       8      2580\n"
          ]
        }
      ],
      "source": [
        "data = np.loadtxt('../Datasets/Cellphone.csv', delimiter=',', skiprows=1)\n",
        "y = data[:, 1]\n",
        "X = data[:,2:]\n",
        "\n",
        "m = y.size\n",
        "\n",
        "print('{:>8s}{:>8s}{:>8s}{:>8s}{:>8s}{:>8s}{:>8s}{:>8s}{:>8s}{:>8s}{:>8s}{:>10s}{:>8s}'.format(\n",
        "    'X[:,0]', 'X[:, 1]', 'X[:,2]', 'X[:, 3]', 'X[:,4]', 'X[:, 5]', 'X[:,6]', 'X[:, 7]', 'X[:,8]', 'X[:, 9]', 'X[:,10]', 'X[:,11]', 'y'))\n",
        "print('-'*110)\n",
        "for i in range(10):\n",
        "    print('{:8.0f}{:8.0f}{:8.0f}{:8.0f}{:8.0f}{:8.0f}{:8.0f}{:8.0f}{:8.0f}{:8.0f}{:8.0f}{:8.0f}{:10.0f}'.format(\n",
        "        X[i, 0], X[i, 1], X[i, 2], X[i, 3], X[i, 4], X[i, 5], X[i, 6], X[i, 7], X[i, 8], X[i, 9], X[i, 10], X[i, 11], y[i]))\n",
        "\n",
        "\n",
        "# imprimir algunos puntos de datos\n"
      ]
    },
    {
      "cell_type": "code",
      "execution_count": 160,
      "metadata": {
        "id": "dgT4rR9iVn82"
      },
      "outputs": [],
      "source": [
        "def  featureNormalize(X):\n",
        "    X_norm = X.copy()\n",
        "    mu = np.zeros(X.shape[1])\n",
        "    sigma = np.zeros(X.shape[1])\n",
        "\n",
        "    mu = np.mean(X, axis = 0)\n",
        "    sigma = np.std(X, axis = 0)\n",
        "    X_norm = (X - mu) / sigma\n",
        "    \n",
        "    return X_norm, mu, sigma"
      ]
    },
    {
      "cell_type": "code",
      "execution_count": 161,
      "metadata": {
        "colab": {
          "base_uri": "https://localhost:8080/"
        },
        "id": "MfiaMoWEVn82",
        "outputId": "6b209ab7-7e33-4b04-ecfc-6efcef9d9bf1"
      },
      "outputs": [
        {
          "name": "stdout",
          "output_type": "stream",
          "text": [
            "Media calculada: [6.21465839e+02 1.70426087e+02 5.20993789e+00 3.35055901e+02\n",
            " 4.85714286e+00 1.50283230e+00 2.45017143e+01 2.20499379e+00\n",
            " 1.03782609e+01 4.50310559e+00 2.84211180e+03 8.92173913e+00]\n",
            "Desviación estandar calculada: [1.54180787e+03 9.25996891e+01 1.50525642e+00 1.34407291e+02\n",
            " 2.43641408e+00 5.97917122e-01 2.87151776e+01 1.60482416e+00\n",
            " 6.16235764e+00 4.32854777e+00 1.36273891e+03 2.18574420e+00]\n",
            "[[-3.96590165e-01 -3.82572418e-01 -6.60212311e-03 ...  8.07867811e-01\n",
            "  -1.70327419e-01 -6.96210988e-01]\n",
            " [-3.96590165e-01 -4.90564141e-01 -8.03808489e-01 ... -1.04032711e+00\n",
            "  -8.38100234e-01  4.47564206e-01]\n",
            " [-3.96590165e-01 -6.52551726e-01 -3.38771442e-01 ...  1.14794716e-01\n",
            "  -6.17955350e-01 -6.04708972e-01]\n",
            " ...\n",
            " [ 5.31034658e+00 -2.20584833e-01  1.92699468e-01 ...  3.58016019e+00\n",
            "   1.15860931e-01 -9.70717034e-01]\n",
            " [ 5.39920331e+00 -4.60138647e-03  1.92699468e-01 ...  8.07867811e-01\n",
            "   4.09387443e-01 -4.67455949e-01]\n",
            " [ 5.95763864e+00  3.40972128e-01  5.24868787e-01 ...  2.65606273e+00\n",
            "  -1.04283953e-01 -2.38700910e-01]]\n"
          ]
        }
      ],
      "source": [
        "# llama featureNormalize con los datos cargados\n",
        "X_norm, mu, sigma = featureNormalize(X)\n",
        "print('Media calculada:', mu)\n",
        "print('Desviación estandar calculada:', sigma)\n",
        "print(X_norm)"
      ]
    },
    {
      "cell_type": "markdown",
      "metadata": {
        "id": "pDbib1JVVn82"
      },
      "source": [
        "Despues de `featureNormalize` la funcion es provada, se añade el temino de interseccion a `X_norm`:"
      ]
    },
    {
      "cell_type": "code",
      "execution_count": 162,
      "metadata": {
        "id": "qXpGaaD0Vn83"
      },
      "outputs": [],
      "source": [
        "# Añade el termino de interseccion a X\n",
        "# (Columna de unos para X0)\n",
        "X = np.concatenate([np.ones((m, 1)), X_norm], axis=1)"
      ]
    },
    {
      "cell_type": "code",
      "execution_count": 163,
      "metadata": {
        "colab": {
          "base_uri": "https://localhost:8080/"
        },
        "id": "Pzz24OdaVn83",
        "outputId": "b0b48ef2-c6e9-47f6-df19-3df239aacf49"
      },
      "outputs": [
        {
          "name": "stdout",
          "output_type": "stream",
          "text": [
            "[[ 1.00000000e+00 -3.96590165e-01 -3.82572418e-01 ...  8.07867811e-01\n",
            "  -1.70327419e-01 -6.96210988e-01]\n",
            " [ 1.00000000e+00 -3.96590165e-01 -4.90564141e-01 ... -1.04032711e+00\n",
            "  -8.38100234e-01  4.47564206e-01]\n",
            " [ 1.00000000e+00 -3.96590165e-01 -6.52551726e-01 ...  1.14794716e-01\n",
            "  -6.17955350e-01 -6.04708972e-01]\n",
            " ...\n",
            " [ 1.00000000e+00  5.31034658e+00 -2.20584833e-01 ...  3.58016019e+00\n",
            "   1.15860931e-01 -9.70717034e-01]\n",
            " [ 1.00000000e+00  5.39920331e+00 -4.60138647e-03 ...  8.07867811e-01\n",
            "   4.09387443e-01 -4.67455949e-01]\n",
            " [ 1.00000000e+00  5.95763864e+00  3.40972128e-01 ...  2.65606273e+00\n",
            "  -1.04283953e-01 -2.38700910e-01]]\n"
          ]
        }
      ],
      "source": [
        "print(X)"
      ]
    },
    {
      "cell_type": "code",
      "execution_count": 164,
      "metadata": {
        "id": "R5xCTuCUVn83"
      },
      "outputs": [],
      "source": [
        "def computeCostMulti(X, y, theta):\n",
        "    # Inicializa algunos valores utiles\n",
        "    m = y.shape[0] # numero de ejemplos de entrenamiento\n",
        "    \n",
        "    J = 0\n",
        "    \n",
        "    h = np.dot(X, theta)\n",
        "    \n",
        "    J = (1/(2 * m)) * np.sum(np.square(np.dot(X, theta) - y))\n",
        "    \n",
        "    return J\n"
      ]
    },
    {
      "cell_type": "code",
      "execution_count": 165,
      "metadata": {
        "id": "1FbQyFHtVn83"
      },
      "outputs": [],
      "source": [
        "def gradientDescentMulti(X, y, theta, alpha, num_iters):\n",
        "    \n",
        "    # Inicializa algunos valores \n",
        "    m = y.shape[0] # numero de ejemplos de entrenamiento\n",
        "    \n",
        "    # realiza una copia de theta, el cual será acutalizada por el descenso por el gradiente\n",
        "    theta = theta.copy()\n",
        "    \n",
        "    J_history = []\n",
        "    \n",
        "    for i in range(num_iters):\n",
        "        theta = theta - (alpha / m) * (np.dot(X, theta) - y).dot(X)\n",
        "        J_history.append(computeCostMulti(X, y, theta))\n",
        "    \n",
        "    return theta, J_history"
      ]
    },
    {
      "cell_type": "markdown",
      "metadata": {
        "id": "dJ2VxNfaVn83"
      },
      "source": [
        "#### 3.2.1 Seleccionando coheficientes de aprendizaje\n"
      ]
    },
    {
      "cell_type": "code",
      "execution_count": 166,
      "metadata": {
        "colab": {
          "base_uri": "https://localhost:8080/",
          "height": 500
        },
        "id": "K4gVCgsfVn84",
        "outputId": "fb1164ee-0e3c-45eb-ad9a-e606a6012e1e"
      },
      "outputs": [
        {
          "name": "stdout",
          "output_type": "stream",
          "text": [
            "theta calculado por el descenso por el gradiente: [2191.03857594  -40.57290869  -45.57096924  -28.52848228  134.61794783\n",
            "  120.04226605   73.21763494  181.23789303  169.30806908   42.50231332\n",
            "   52.74857282  101.38345266 -129.25630823]\n",
            "El precio de un movil con estas caracteristicas seria : $4185\n"
          ]
        },
        {
          "data": {
            "image/png": "[encoded data removed]",
            "text/plain": [
              "<Figure size 640x480 with 1 Axes>"
            ]
          },
          "metadata": {},
          "output_type": "display_data"
        }
      ],
      "source": [
        "# Elegir algun valor para alpha (probar varias alternativas)\n",
        "alpha = 0.001 # alpha = 0.003\n",
        "num_iters = 4500\n",
        "\n",
        "# inicializa theta y ejecuta el descenso por el gradiente\n",
        "theta = np.zeros(13)\n",
        "theta, J_history = gradientDescentMulti(X, y, theta, alpha, num_iters)\n",
        "\n",
        "# Grafica la convergencia del costo\n",
        "pyplot.plot(np.arange(len(J_history)), J_history, lw=2)\n",
        "pyplot.xlabel('Numero de iteraciones')\n",
        "pyplot.ylabel('Costo J')\n",
        "\n",
        "# Muestra los resultados del descenso por el gradiente\n",
        "print('theta calculado por el descenso por el gradiente: {:s}'.format(str(theta)))\n",
        "\n",
        "#Estimar el precio para de un celular\n",
        "#Price,Sale,weight,resoloution,ppi,cpucore,cpufreq,internalmem,ram,RearCam,Front_Cam,battery,thickness\n",
        "#precio,ventas,peso,resolucion,pixeles,CPU,Frecuencia,Memoria,RAM,Camara trasera, Camara frontal,bateria,espesor\n",
        "X_array = [1, 50,80,5,800,2,2.4,60,8,12,48,4500,9]\n",
        "X_array[1:] = (X_array[1:] - mu) / sigma\n",
        "price = np.dot(X_array, theta)   # Se debe cambiar esto\n",
        "print('El precio de un movil con estas caracteristicas seria : ${:.0f}'.format(price))"
      ]
    },
    {
      "cell_type": "code",
      "execution_count": 167,
      "metadata": {
        "id": "5Bqbn4VtVn84"
      },
      "outputs": [],
      "source": [
        "X_array = [1, 50, 80, 5, 1000, 2, 2.4, 60, 8, 12, 48, 4500, 9]\n",
        "X_array[1:] = (X_array[1:] - mu) / sigma\n"
      ]
    },
    {
      "cell_type": "code",
      "execution_count": 168,
      "metadata": {
        "colab": {
          "base_uri": "https://localhost:8080/"
        },
        "id": "YiFRyR0DVn84",
        "outputId": "69ecc39a-6bf1-461c-82ee-013d0c5a7ea2"
      },
      "outputs": [
        {
          "data": {
            "text/plain": [
              "[1,\n",
              " -0.3706465952579208,\n",
              " -0.9765268956751493,\n",
              " -0.1394698507055191,\n",
              " 4.947232361824988,\n",
              " -1.1726836086681114,\n",
              " 1.5004883932545994,\n",
              " 1.236220308425357,\n",
              " 3.6109913867222505,\n",
              " 0.26316861601216834,\n",
              " 10.048842421393333,\n",
              " 1.2165853521093368,\n",
              " 0.035805136511071665]"
            ]
          },
          "execution_count": 168,
          "metadata": {},
          "output_type": "execute_result"
        }
      ],
      "source": [
        "X_array[0:]"
      ]
    },
    {
      "cell_type": "markdown",
      "metadata": {
        "id": "Tq1EPGUHVn84"
      },
      "source": [
        "<a id=\"section7\"></a>\n",
        "### 2.3 Ecuacion de la Normal\n",
        "\n",
        "Una manera de calcular rapidamente el modelo de una regresion lineal es:\n",
        "\n",
        "$$ \\theta = \\left( X^T X\\right)^{-1} X^T\\vec{y}$$\n",
        "\n",
        "Utilizando esta formula no requiere que se escale ninguna caracteristica, y se obtendra una solucion exacta con un solo calculo: no hay “bucles de convergencia” como en el descenso por el gradiente. \n",
        "\n",
        "Primero se recargan los datos para garantizar que las variables no esten modificadas. Recordar que no es necesario escalar las caracteristicas, se debe agregar la columna de unos a la matriz $X$ para tener el termino de intersección($\\theta_0$). "
      ]
    },
    {
      "cell_type": "code",
      "execution_count": 169,
      "metadata": {
        "id": "5UE0T8ENVn84"
      },
      "outputs": [],
      "source": [
        "data = np.loadtxt('../Datasets/Cellphone.csv', delimiter=',', skiprows=1)\n",
        "y = data[:, 1]\n",
        "X = data[:, 2:]\n",
        "m = y.size\n",
        "X = np.concatenate([np.ones((m, 1)), X], axis=1)"
      ]
    },
    {
      "cell_type": "code",
      "execution_count": 170,
      "metadata": {
        "id": "JQrs-6cGVn84"
      },
      "outputs": [],
      "source": [
        "def normalEqn(X, y):\n",
        "  \n",
        "    theta = np.zeros(X.shape[1])\n",
        "    \n",
        "    theta = np.dot(np.dot(np.linalg.inv(np.dot(X.T,X)),X.T),y)\n",
        "    \n",
        "    return theta"
      ]
    },
    {
      "cell_type": "code",
      "execution_count": 171,
      "metadata": {
        "id": "d0OzpOyyVn84"
      },
      "outputs": [
        {
          "name": "stdout",
          "output_type": "stream",
          "text": [
            "Theta calculado a partir de la ecuación de la normal: [ 1.74955093e+03 -2.27466762e-02 -3.79634036e-01 -7.75920306e+01\n",
            "  1.00571813e+00  5.39808906e+01  1.31891648e+02  6.24992624e+00\n",
            "  9.32031847e+01  5.04528682e+00  8.96839734e+00  1.25890285e-01\n",
            " -7.36888218e+01]\n",
            "Precio predecido para una cada de superficie de 1650 sq-ft y 3 dormitorios (usando la ecuación de la normal): $4275\n"
          ]
        }
      ],
      "source": [
        "# Calcula los parametros con la ecuación de la normal\n",
        "theta = normalEqn(X, y);\n",
        "\n",
        "# Muestra los resultados optenidos a partir de la aplicación de la ecuación de la normal\n",
        "print('Theta calculado a partir de la ecuación de la normal: {:s}'.format(str(theta)));\n",
        "\n",
        "# Estimar el precio para una casa de superficie de 1650 sq-ft y tres dormitorios\n",
        "\n",
        "X_array = [1, 50, 80, 5, 1000, 2, 2.4, 60, 8, 12, 48, 4500, 9]\n",
        "price = np.dot(X_array, theta) \n",
        "\n",
        "print('Precio predecido para una cada de superficie de 1650 sq-ft y 3 dormitorios (usando la ecuación de la normal): ${:.0f}'.format(price))"
      ]
    }
  ],
  "metadata": {
    "colab": {
      "provenance": []
    },
    "kernelspec": {
      "display_name": "Python 3",
      "language": "python",
      "name": "python3"
    },
    "language_info": {
      "codemirror_mode": {
        "name": "ipython",
        "version": 3
      },
      "file_extension": ".py",
      "mimetype": "text/x-python",
      "name": "python",
      "nbconvert_exporter": "python",
      "pygments_lexer": "ipython3",
      "version": "3.10.7 (tags/v3.10.7:6cc6b13, Sep  5 2022, 14:08:36) [MSC v.1933 64 bit (AMD64)]"
    },
    "vscode": {
      "interpreter": {
        "hash": "afb734500600fd355917ca529030176ea0ca205570884b88f2f6f7d791fd3fbe"
      }
    }
  },
  "nbformat": 4,
  "nbformat_minor": 0
}
