{
 "cells": [
  {
   "attachments": {},
   "cell_type": "markdown",
   "metadata": {},
   "source": [
    "# Clasificación multiclase\n",
    "##### Nombre: Soria Colque Franz Ronald\n",
    " \n",
    "github: https://github.com/FranzDS01/InteligenciaArtifical/blob/main/Examen%20Laboratorio/Clasificacion_multiclase.ipynb\n",
    "\n",
    " Alumno: Soria Colque Franz Ronald\n",
    " Carrera: Ingenieria de Sistemas\n",
    " Grupo laboratorio: Miercoles\n",
    " Materia: sis420\n",
    "\n",
    "Dataset :https://www.kaggle.com/datasets/uciml/glass\n",
    "\n",
    "Calsificacion de tipo de vidrio \n",
    "Columnas:\n",
    "RI: índice de refracción\n",
    "Na: Sodio (unidad de medida: porcentaje en peso en óxido correspondiente, como son los atributos 4-10)\n",
    "Mg: Magnesio\n",
    "Al: Aluminio\n",
    "Si: Silicio\n",
    "K: Potasio\n",
    "Ca: Calcio\n",
    "Ba: Bario\n",
    "Fe: Hierro\n",
    "Tipo de vidrio:6 tipos\n",
    "\n",
    "Mejor valor de lamnda=0.002\n",
    "Mejor valor de maxIter=1500\n",
    "Mejor valor de theta :\n",
    "[[-1.35484651e-02 -2.43040551e-02 -1.81421535e-01 -3.68109088e-02\n",
    "  -1.90819293e-02 -9.84737673e-01 -7.92232951e-03 -1.22120174e-01\n",
    "  -2.88473920e-03 -3.30582550e-04]\n",
    " [ 1.89656186e+01  1.93975898e-01 -1.12016860e-01  1.86676605e-01\n",
    "  -3.50816074e-01 -2.42674154e-01 -1.25760901e-01 -8.02184625e-02\n",
    "  -4.52411897e-01 -1.09966833e+00]\n",
    " [-1.61651377e+00 -4.27264539e-02 -3.63512451e-01  9.03462918e-02\n",
    "   3.25894494e-02  6.16630311e-02  3.28827025e-03  1.09738519e-01\n",
    "   9.81226155e-02  2.75455887e+00]\n",
    " [ 2.24467555e+01 -6.63300752e-01 -2.02616906e-01  1.19692581e-01\n",
    "  -2.97595063e-01 -2.87098144e-01  1.94180693e-02 -2.74849196e-02\n",
    "   1.08209975e-01 -9.01805344e-01]\n",
    " [-1.35484651e-02 -2.43040551e-02 -1.81421535e-01 -3.68109088e-02\n",
    "  -1.90819293e-02 -9.84737673e-01 -7.92232951e-03 -1.22120174e-01\n",
    "  -2.88473920e-03 -3.30582550e-04]\n",
    " [-2.10186903e+01  9.10684499e-01  1.75128729e-01 -1.38587569e-01\n",
    "   7.06298698e-01  1.69360145e-01  3.97495922e-01  1.41021682e-01\n",
    "  -6.12505514e-01  1.23209096e+00]]\n",
    "\n",
    "\n",
    "\n"
   ]
  },
  {
   "cell_type": "code",
   "execution_count": 866,
   "metadata": {},
   "outputs": [],
   "source": [
    "\n",
    "import os\n",
    "import numpy as np\n",
    "import pandas as pd\n",
    "from matplotlib import pyplot\n",
    "from scipy import optimize\n",
    "from scipy.io import loadmat\n",
    "%matplotlib inline"
   ]
  },
  {
   "attachments": {},
   "cell_type": "markdown",
   "metadata": {},
   "source": [
    "Verfficacion de cantidad de clasificaciones que tiene la columna y =\"type\""
   ]
  },
  {
   "cell_type": "code",
   "execution_count": 867,
   "metadata": {},
   "outputs": [
    {
     "name": "stdout",
     "output_type": "stream",
     "text": [
      "numero de clases [1, 2, 3, 5, 6, 7]\n",
      "<class 'pandas.core.frame.DataFrame'>\n",
      "RangeIndex: 214 entries, 0 to 213\n",
      "Data columns (total 10 columns):\n",
      " #   Column  Non-Null Count  Dtype  \n",
      "---  ------  --------------  -----  \n",
      " 0   RI      214 non-null    float64\n",
      " 1   Na      214 non-null    float64\n",
      " 2   Mg      214 non-null    float64\n",
      " 3   Al      214 non-null    float64\n",
      " 4   Si      214 non-null    float64\n",
      " 5   K       214 non-null    float64\n",
      " 6   Ca      214 non-null    float64\n",
      " 7   Ba      214 non-null    float64\n",
      " 8   Fe      214 non-null    float64\n",
      " 9   Type    214 non-null    int64  \n",
      "dtypes: float64(9), int64(1)\n",
      "memory usage: 16.8 KB\n"
     ]
    }
   ],
   "source": [
    "data =pd.read_csv('./dataset/glass.csv')\n",
    "value = list(data[\"Type\"].unique())\n",
    "print(\"numero de clases\",value)\n",
    "data.info()"
   ]
  },
  {
   "attachments": {},
   "cell_type": "markdown",
   "metadata": {},
   "source": [
    "#funcion DatosSinteticos(data) recibe como parametro el dataset\n",
    "apartir de eso crear datos sinteticos n_filas=define la cantidad de datos que se va crear\n",
    "\n",
    "Luego crea una matriz numpy vacía con la misma cantidad de filas y columnas que el dataset oiginal\n",
    "\n",
    "Luego de con el for se itera cada columna y toma datos aleatorios de es a columna que sera el nuevo dato sintetico.[muestras_i]\n",
    "luego esa [muestras_i] generada se agrega [nuevos_datos] en la fila y columna correspondiente\n",
    "\n",
    "Una ves que se termina de iterar , se crear un [DataFrame] nuevo de los datos sinteticos\n",
    "y [dataExtent] se concantena los datos originales con los sinteticos\n",
    "retornando[dataExtent] como el nuevo dataset"
   ]
  },
  {
   "cell_type": "code",
   "execution_count": 868,
   "metadata": {},
   "outputs": [],
   "source": [
    "def DatosSinteticos(data):\n",
    "    n_filas=10000\n",
    "    nuevos_datos=np.empty([n_filas,len(data.columns)])\n",
    "    for i in range(len(data.columns)):\n",
    "        columna_i =data.iloc[:,i]\n",
    "        muestras_i=np.random.choice(columna_i,n_filas,replace=True)\n",
    "        nuevos_datos[:,i]=muestras_i.round()\n",
    "    columnas =list(data.columns)\n",
    "    nuevos_datos_df=pd.DataFrame(nuevos_datos,columns=columnas)\n",
    "    dataExtend =pd.concat([data,nuevos_datos_df],axis=0)\n",
    "    #print(dataExtend.tail())\n",
    "    return dataExtend"
   ]
  },
  {
   "cell_type": "code",
   "execution_count": 869,
   "metadata": {},
   "outputs": [],
   "source": [
    "data=DatosSinteticos(data)"
   ]
  },
  {
   "attachments": {},
   "cell_type": "markdown",
   "metadata": {},
   "source": [
    "Verificacion del nuevo dataset ahora tiene mas de [10000] datos"
   ]
  },
  {
   "cell_type": "code",
   "execution_count": 870,
   "metadata": {},
   "outputs": [
    {
     "name": "stdout",
     "output_type": "stream",
     "text": [
      "6\n",
      "<class 'pandas.core.frame.DataFrame'>\n",
      "Index: 10214 entries, 0 to 9999\n",
      "Data columns (total 10 columns):\n",
      " #   Column  Non-Null Count  Dtype  \n",
      "---  ------  --------------  -----  \n",
      " 0   RI      10214 non-null  float64\n",
      " 1   Na      10214 non-null  float64\n",
      " 2   Mg      10214 non-null  float64\n",
      " 3   Al      10214 non-null  float64\n",
      " 4   Si      10214 non-null  float64\n",
      " 5   K       10214 non-null  float64\n",
      " 6   Ca      10214 non-null  float64\n",
      " 7   Ba      10214 non-null  float64\n",
      " 8   Fe      10214 non-null  float64\n",
      " 9   Type    10214 non-null  float64\n",
      "dtypes: float64(10)\n",
      "memory usage: 877.8 KB\n"
     ]
    }
   ],
   "source": [
    "value = list(data[\"Type\"].unique())\n",
    "print(len(value))\n",
    "data.info()"
   ]
  },
  {
   "cell_type": "code",
   "execution_count": 871,
   "metadata": {},
   "outputs": [],
   "source": [
    "data=data.to_numpy()"
   ]
  },
  {
   "attachments": {},
   "cell_type": "markdown",
   "metadata": {},
   "source": [
    "[num_labels] que para este caso es [6] tipos de clasificacion \n",
    "[X] contiene los primeros [500] filas del dataset para entrenamiento\n",
    "[y] de la misma forma [500]\n",
    "\n",
    "y para datos de prueba se esta tomando a partir de la fila [500] en [Xprueba yprueba]"
   ]
  },
  {
   "cell_type": "code",
   "execution_count": 872,
   "metadata": {},
   "outputs": [
    {
     "name": "stdout",
     "output_type": "stream",
     "text": [
      "(500, 9)\n"
     ]
    }
   ],
   "source": [
    "num_labels = 6\n",
    "X, y = data[0:500, :9], data[0:500, 9]\n",
    "Xprueba=data[500:,:9]\n",
    "yprueba=data[500:,9]\n",
    "m = y.size\n",
    "print(X.shape)"
   ]
  },
  {
   "cell_type": "code",
   "execution_count": 873,
   "metadata": {},
   "outputs": [
    {
     "name": "stdout",
     "output_type": "stream",
     "text": [
      "[[ 1.52101 13.64     4.49    ...  8.75     0.       0.     ]\n",
      " [ 1.51761 13.89     3.6     ...  7.83     0.       0.     ]\n",
      " [ 1.51618 13.53     3.55    ...  7.78     0.       0.     ]\n",
      " ...\n",
      " [ 2.      13.       4.      ...  8.       0.       0.     ]\n",
      " [ 2.      15.       0.      ...  8.       0.       0.     ]\n",
      " [ 2.      14.       4.      ...  9.       0.       0.     ]]\n",
      "[1. 1. 1. 1. 1. 1. 1. 1. 1. 1. 1. 1. 1. 1. 1. 1. 1. 1. 1. 1. 1. 1. 1. 1.\n",
      " 1. 1. 1. 1. 1. 1. 1. 1. 1. 1. 1. 1. 1. 1. 1. 1. 1. 1. 1. 1. 1. 1. 1. 1.\n",
      " 1. 1. 1. 1. 1. 1. 1. 1. 1. 1. 1. 1. 1. 1. 1. 1. 1. 1. 1. 1. 1. 1. 2. 2.\n",
      " 2. 2. 2. 2. 2. 2. 2. 2. 2. 2. 2. 2. 2. 2. 2. 2. 2. 2. 2. 2. 2. 2. 2. 2.\n",
      " 2. 2. 2. 2. 2. 2. 2. 2. 2. 2. 2. 2. 2. 2. 2. 2. 2. 2. 2. 2. 2. 2. 2. 2.\n",
      " 2. 2. 2. 2. 2. 2. 2. 2. 2. 2. 2. 2. 2. 2. 2. 2. 2. 2. 2. 2. 2. 2. 2. 2.\n",
      " 2. 2. 3. 3. 3. 3. 3. 3. 3. 3. 3. 3. 3. 3. 3. 3. 3. 3. 3. 5. 5. 5. 5. 5.\n",
      " 5. 5. 5. 5. 5. 5. 5. 5. 6. 6. 6. 6. 6. 6. 6. 6. 6. 7. 7. 7. 7. 7. 7. 7.\n",
      " 7. 7. 7. 7. 7. 7. 7. 7. 7. 7. 7. 7. 7. 7. 7. 7. 7. 7. 7. 7. 7. 7. 2. 7.\n",
      " 2. 5. 5. 1. 2. 1. 7. 2. 2. 1. 2. 1. 6. 7. 7. 7. 1. 1. 6. 2. 2. 1. 2. 2.\n",
      " 2. 7. 2. 7. 1. 7. 1. 2. 2. 1. 5. 2. 5. 2. 1. 3. 6. 1. 1. 1. 5. 1. 1. 2.\n",
      " 5. 2. 7. 2. 7. 1. 7. 3. 1. 1. 1. 1. 2. 7. 2. 2. 3. 3. 1. 2. 2. 5. 1. 1.\n",
      " 2. 1. 1. 1. 1. 2. 2. 1. 2. 1. 5. 1. 1. 1. 7. 1. 1. 7. 7. 5. 3. 7. 2. 1.\n",
      " 2. 2. 5. 1. 1. 1. 1. 7. 1. 2. 7. 7. 1. 5. 7. 6. 1. 5. 2. 6. 7. 1. 2. 1.\n",
      " 2. 1. 3. 1. 2. 2. 1. 1. 7. 1. 2. 1. 2. 5. 2. 2. 2. 7. 7. 7. 2. 3. 1. 2.\n",
      " 1. 2. 2. 1. 1. 5. 1. 2. 2. 2. 1. 1. 6. 6. 6. 1. 1. 2. 2. 1. 1. 2. 1. 3.\n",
      " 2. 2. 6. 1. 5. 7. 2. 1. 2. 6. 7. 1. 2. 2. 2. 7. 1. 2. 3. 1. 1. 1. 5. 1.\n",
      " 1. 2. 6. 2. 2. 2. 5. 2. 7. 5. 2. 1. 2. 2. 2. 5. 2. 3. 7. 2. 5. 3. 1. 1.\n",
      " 1. 1. 2. 7. 3. 1. 2. 1. 2. 1. 2. 7. 1. 2. 1. 2. 1. 7. 7. 5. 3. 1. 1. 2.\n",
      " 5. 2. 2. 1. 3. 1. 6. 2. 1. 2. 1. 5. 7. 7. 1. 2. 1. 2. 1. 1. 2. 5. 3. 3.\n",
      " 1. 7. 2. 2. 2. 3. 1. 2. 7. 1. 2. 1. 5. 7. 2. 3. 1. 2. 1. 6.]\n"
     ]
    }
   ],
   "source": [
    "print(X)\n",
    "print(y)"
   ]
  },
  {
   "attachments": {},
   "cell_type": "markdown",
   "metadata": {
    "collapsed": true
   },
   "source": [
    "### 1.3 Vectorización de regresión logística\n",
    "\n",
    "Se utilizará múltiples modelos de regresión logística uno contra todos para construir un clasificador de clases múltiples. Dado que hay 10 clases, deberá entrenar 10 clasificadores de regresión logística separados. Para que esta capacitación sea eficiente, es importante asegurarse de que el código esté bien vectorizado.\n",
    "\n",
    "En esta sección, se implementará una versión vectorizada de regresión logística que no emplea ningún bucle \"for\".\n",
    "\n",
    "Para probar la regresión logística vectorizada, se usara datos personalizados como se definen a continuación."
   ]
  },
  {
   "cell_type": "code",
   "execution_count": 874,
   "metadata": {},
   "outputs": [],
   "source": [
    "# valores de prueba para los parámetros theta\n",
    "theta_t = np.array([-2, -1, 1, 2], dtype=float)\n",
    "\n",
    "# valores de prueba para las entradas\n",
    "X_t = np.concatenate([np.ones((5, 1)), np.arange(1, 16).reshape(5, 3, order='F')/10.0], axis=1)\n",
    "\n",
    "# valores de testeo para las etiquetas\n",
    "y_t = np.array([1, 0, 1, 0, 1])\n",
    "\n",
    "# valores de testeo para el parametro de regularizacion\n",
    "lambda_t = 3"
   ]
  },
  {
   "cell_type": "code",
   "execution_count": 875,
   "metadata": {},
   "outputs": [],
   "source": [
    "def sigmoid(z):\n",
    "    \"\"\"\n",
    "    Calcula la sigmoide de z.\n",
    "    \"\"\"\n",
    "    return 1.0 / (1.0 + np.exp(-z))"
   ]
  },
  {
   "attachments": {},
   "cell_type": "markdown",
   "metadata": {},
   "source": [
    " en la funcion lrCostFunction(theta, X, y, lambda_)\n",
    "\n",
    " se agregado la variable [epsilon]para evitar la division con 0"
   ]
  },
  {
   "cell_type": "code",
   "execution_count": 876,
   "metadata": {},
   "outputs": [],
   "source": [
    "def lrCostFunction(theta, X, y, lambda_):\n",
    " \n",
    "#     alpha = 0.003\n",
    "#     theta = theta.copy()\n",
    "    # Inicializa algunos valores utiles\n",
    "    m = y.size\n",
    "    epsilon = 1e-8 \n",
    "    # convierte las etiquetas a valores enteros si son boleanos\n",
    "    if y.dtype == bool:\n",
    "        y = y.astype(int)\n",
    "    \n",
    "    J = 0\n",
    "    grad = np.zeros(theta.shape)\n",
    "    \n",
    "    h = sigmoid(X.dot(theta.T))\n",
    "    \n",
    "    temp = theta\n",
    "    temp[0] = 0\n",
    "    \n",
    "#     J = (1 / m) * np.sum(-y.dot(np.log(h)) - (1 - y).dot(np.log(1 - h)))\n",
    "    J = (1 / m) * np.sum(-y.dot(np.log(h+epsilon)) - (1 - y).dot(np.log(1 - h+epsilon))) + (lambda_ / (2 * m)) * np.sum(np.square(temp))\n",
    "    \n",
    "    grad = (1 / m) * (h - y).dot(X)\n",
    "#     theta = theta - (alpha / m) * (h - y).dot(X)\n",
    "    grad = grad + (lambda_ / m) * temp\n",
    "\n",
    "    return J, grad\n",
    "#    return J, theta"
   ]
  },
  {
   "attachments": {},
   "cell_type": "markdown",
   "metadata": {},
   "source": [
    "#### 1.3.3 Vectorización regularizada de la regresión logística\n",
    "\n",
    "\n"
   ]
  },
  {
   "cell_type": "code",
   "execution_count": 877,
   "metadata": {},
   "outputs": [
    {
     "name": "stdout",
     "output_type": "stream",
     "text": [
      "Costo         : 2.534819\n",
      "-----------------------\n",
      "Gradientes:\n",
      " [0.146561, -0.548558, 0.724722, 1.398003]\n",
      "Gradientes esperados:\n",
      " [0.146561, -0.548558, 0.724722, 1.398003]\n"
     ]
    }
   ],
   "source": [
    "J, grad = lrCostFunction(theta_t, X_t, y_t, lambda_t)\n",
    "\n",
    "print('Costo         : {:.6f}'.format(J))\n",
    "print('-----------------------')\n",
    "print('Gradientes:')\n",
    "print(' [{:.6f}, {:.6f}, {:.6f}, {:.6f}]'.format(*grad))\n",
    "print('Gradientes esperados:')\n",
    "print(' [0.146561, -0.548558, 0.724722, 1.398003]');"
   ]
  },
  {
   "attachments": {},
   "cell_type": "markdown",
   "metadata": {},
   "source": [
    "<a id=\"section2\"></a>\n",
    "### 1.4 Clasificacion One-vs-all\n"
   ]
  },
  {
   "cell_type": "code",
   "execution_count": 878,
   "metadata": {},
   "outputs": [],
   "source": [
    "def oneVsAll(X, y, num_labels, lambda_):\n",
    "\n",
    "    # algunas variables utiles\n",
    "    m, n = X.shape\n",
    "    \n",
    "    all_theta = np.zeros((num_labels, n + 1))\n",
    "\n",
    "    # Agrega unos a la matriz X\n",
    "    X = np.concatenate([np.ones((m, 1)), X], axis=1)\n",
    "\n",
    "    for c in np.arange(num_labels):\n",
    "        initial_theta = np.zeros(n + 1)\n",
    "        options = {'maxiter': 1500}\n",
    "        res = optimize.minimize(lrCostFunction, \n",
    "                                initial_theta, \n",
    "                                (X, (y == c), lambda_), \n",
    "                                jac=True, \n",
    "                                method='CG',\n",
    "                                options=options) \n",
    "        \n",
    "        all_theta[c] = res.x\n",
    "\n",
    "    return all_theta"
   ]
  },
  {
   "cell_type": "code",
   "execution_count": null,
   "metadata": {},
   "outputs": [],
   "source": []
  },
  {
   "attachments": {},
   "cell_type": "markdown",
   "metadata": {},
   "source": [
    "<a id=\"section3\"></a>\n",
    "#### 1.4.1 Prediccion One-vs-all\n",
    "\n",
    "Después de entrenar el clasificador de one-vs-all, se puede usarlo para predecir el dígito contenido en una imagen determinada. Para cada entrada, debe calcular la \"probabilidad\" de que pertenezca a cada clase utilizando los clasificadores de regresión logística entrenados. La función de predicción one-vs-all seleccionará la clase para la cual el clasificador de regresión logística correspondiente genera la probabilidad más alta y devolverá la etiqueta de clase (0, 1, ..., K-1) como la predicción para el ejemplo de entrada."
   ]
  },
  {
   "cell_type": "code",
   "execution_count": 879,
   "metadata": {},
   "outputs": [],
   "source": [
    "def predictOneVsAll(all_theta, X):\n",
    "    m = X.shape[0];\n",
    "    num_labels = all_theta.shape[0]\n",
    "\n",
    "    p = np.zeros(m)\n",
    "\n",
    "    # Add ones to the X data matrix\n",
    "    X = np.concatenate([np.ones((m, 1)), X], axis=1)\n",
    "    p = np.argmax(sigmoid(X.dot(all_theta.T)), axis = 1)\n",
    "\n",
    "    return p"
   ]
  },
  {
   "attachments": {},
   "cell_type": "markdown",
   "metadata": {},
   "source": [
    "Una vez que haya terminado, se llama a la función `predictOneVsAll` usando el valor aprendido de $\\theta$. Debería apreciarse que la precisión del conjunto de entrenamiento es de aproximadamente 95,1% (es decir, clasifica correctamente el 95,1% de los ejemplos del conjunto de entrenamiento)."
   ]
  },
  {
   "cell_type": "code",
   "execution_count": 880,
   "metadata": {},
   "outputs": [
    {
     "name": "stdout",
     "output_type": "stream",
     "text": [
      "(6, 10)\n",
      "[[-1.35484651e-02 -2.43040551e-02 -1.81421535e-01 -3.68109088e-02\n",
      "  -1.90819293e-02 -9.84737673e-01 -7.92232951e-03 -1.22120174e-01\n",
      "  -2.88473920e-03 -3.30582550e-04]\n",
      " [ 1.89656186e+01  1.93975898e-01 -1.12016860e-01  1.86676605e-01\n",
      "  -3.50816074e-01 -2.42674154e-01 -1.25760901e-01 -8.02184625e-02\n",
      "  -4.52411897e-01 -1.09966833e+00]\n",
      " [-1.61651377e+00 -4.27264539e-02 -3.63512451e-01  9.03462918e-02\n",
      "   3.25894494e-02  6.16630311e-02  3.28827025e-03  1.09738519e-01\n",
      "   9.81226155e-02  2.75455887e+00]\n",
      " [ 2.24467555e+01 -6.63300752e-01 -2.02616906e-01  1.19692581e-01\n",
      "  -2.97595063e-01 -2.87098144e-01  1.94180693e-02 -2.74849196e-02\n",
      "   1.08209975e-01 -9.01805344e-01]\n",
      " [-1.35484651e-02 -2.43040551e-02 -1.81421535e-01 -3.68109088e-02\n",
      "  -1.90819293e-02 -9.84737673e-01 -7.92232951e-03 -1.22120174e-01\n",
      "  -2.88473920e-03 -3.30582550e-04]\n",
      " [-2.10186903e+01  9.10684499e-01  1.75128729e-01 -1.38587569e-01\n",
      "   7.06298698e-01  1.69360145e-01  3.97495922e-01  1.41021682e-01\n",
      "  -6.12505514e-01  1.23209096e+00]]\n"
     ]
    }
   ],
   "source": [
    "lambda_ = 0.002 #mejor lambda es 0.002\n",
    "all_theta = oneVsAll(X, y, num_labels, lambda_)\n",
    "print(all_theta.shape)\n",
    "print(all_theta)"
   ]
  },
  {
   "attachments": {},
   "cell_type": "markdown",
   "metadata": {},
   "source": []
  },
  {
   "cell_type": "code",
   "execution_count": 881,
   "metadata": {},
   "outputs": [
    {
     "name": "stdout",
     "output_type": "stream",
     "text": [
      "(500, 9)\n",
      "Precision del conjuto de entrenamiento: 40.00%\n",
      "se espera de clase : 1.0\n",
      "La clase es:  [1]\n"
     ]
    }
   ],
   "source": [
    "print(X.shape)\n",
    "pred = predictOneVsAll(all_theta, X)\n",
    "print('Precision del conjuto de entrenamiento: {:.2f}%'.format(np.mean(pred == y) * 100))\n",
    "XPrueba = Xprueba[204:205, :].copy()\n",
    "y_p=yprueba[204]\n",
    "print(\"se espera de clase :\",y_p)\n",
    "XPrueba = np.concatenate([np.ones((1, 1)), XPrueba], axis=1)\n",
    "p = np.argmax(sigmoid(XPrueba.dot(all_theta.T)), axis = 1)\n",
    "print(\"La clase es: \", p)\n",
    "\n",
    "#displayData(X[1002:1003, :])"
   ]
  }
 ],
 "metadata": {
  "kernelspec": {
   "display_name": "Python 3",
   "language": "python",
   "name": "python3"
  },
  "language_info": {
   "codemirror_mode": {
    "name": "ipython",
    "version": 3
   },
   "file_extension": ".py",
   "mimetype": "text/x-python",
   "name": "python",
   "nbconvert_exporter": "python",
   "pygments_lexer": "ipython3",
   "version": "3.10.11"
  },
  "vscode": {
   "interpreter": {
    "hash": "afb734500600fd355917ca529030176ea0ca205570884b88f2f6f7d791fd3fbe"
   }
  }
 },
 "nbformat": 4,
 "nbformat_minor": 2
}
