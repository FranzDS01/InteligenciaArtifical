{
 "cells": [
  {
   "cell_type": "code",
   "execution_count": 5,
   "metadata": {},
   "outputs": [
    {
     "name": "stdout",
     "output_type": "stream",
     "text": [
      "superficie de : 150  a= 900  b= 294\n",
      "superficie de : 200  a= 800  b= 596\n",
      "superficie de : 500  a= 500  b= 259\n",
      "superficie de : 550  a= 750  b= 635\n",
      "superficie de : 320  a= 880  b= 591\n",
      "superficie de : 300  a= 700  b= 531\n",
      "superficie de : 800  a= 800  b= 249\n",
      "superficie de : 210  a= 860  b= 234\n",
      "superficie de : 180  a= 840  b= 412\n",
      "superficie de : 350  a= 700  b= 598\n",
      "promedio a: 773.0 promedio b: 439.9\n",
      "terreno de 950 m el precio seria alrededor de : 418678.0\n"
     ]
    }
   ],
   "source": [
    "import math\n",
    "superficie =[150,200,500,550,320,300,800,210,180,350]\n",
    "precios=[45000,120000,130000,350000,190000,160000,200000,50000,75000,210000]\n",
    "a_mejor = 0\n",
    "b_mejor = 0\n",
    "promedio_a=0\n",
    "promedio_b=0\n",
    "for xi, x in enumerate(superficie):\n",
    "    m_diferencia= math.inf\n",
    "    for a in range(-1000,1000):\n",
    "        for b in range(-1000,1000):\n",
    "            y_hat=a+b*x\n",
    "            resta = abs(y_hat-precios[xi])\n",
    "            if resta <= m_diferencia:\n",
    "                m_diferencia = resta\n",
    "                a_mejor=a\n",
    "                b_mejor=b\n",
    "    promedio_a += a_mejor\n",
    "    promedio_b += b_mejor\n",
    "    print(\"superficie de :\",x,\" a=\",a_mejor,\" b=\",b_mejor)\n",
    "\n",
    "ap = promedio_a/len(superficie)\n",
    "bp= promedio_b/len(superficie)\n",
    "print(\"promedio a:\",ap,\"promedio b:\",bp)\n",
    "prueba = y_hat = ap+bp*950\n",
    "print(\"terreno de 950 m el precio seria alrededor de :\",prueba)\n"
   ]
  }
 ],
 "metadata": {
  "kernelspec": {
   "display_name": "Python 3",
   "language": "python",
   "name": "python3"
  },
  "language_info": {
   "codemirror_mode": {
    "name": "ipython",
    "version": 3
   },
   "file_extension": ".py",
   "mimetype": "text/x-python",
   "name": "python",
   "nbconvert_exporter": "python",
   "pygments_lexer": "ipython3",
   "version": "3.10.7"
  },
  "orig_nbformat": 4,
  "vscode": {
   "interpreter": {
    "hash": "afb734500600fd355917ca529030176ea0ca205570884b88f2f6f7d791fd3fbe"
   }
  }
 },
 "nbformat": 4,
 "nbformat_minor": 2
}
