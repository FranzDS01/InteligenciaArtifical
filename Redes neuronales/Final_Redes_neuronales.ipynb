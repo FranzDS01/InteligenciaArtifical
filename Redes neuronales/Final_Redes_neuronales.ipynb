{
  "nbformat": 4,
  "nbformat_minor": 0,
  "metadata": {
    "colab": {
      "provenance": [],
      "mount_file_id": "1UzRIkh9H3vFU2ZwgtA2K3gLwz9ciJLC6",
      "authorship_tag": "ABX9TyMCuMTTzmdVD0sXdjuIUyM7",
      "include_colab_link": true
    },
    "kernelspec": {
      "name": "python3",
      "display_name": "Python 3"
    },
    "language_info": {
      "name": "python"
    }
  },
  "cells": [
    {
      "cell_type": "markdown",
      "metadata": {
        "id": "view-in-github",
        "colab_type": "text"
      },
      "source": [
        "<a href=\"https://colab.research.google.com/github/FranzDS01/InteligenciaArtifical/blob/main/Redes%20neuronales/Final_Redes_neuronales.ipynb\" target=\"_parent\"><img src=\"https://colab.research.google.com/assets/colab-badge.svg\" alt=\"Open In Colab\"/></a>"
      ]
    },
    {
      "cell_type": "markdown",
      "source": [
        "**Plantilla de redes neuronales**\n",
        "\n",
        "**Nombre:** Soria Colque Franz Ronald\n",
        "\n",
        "**Carrera:** Ingenieria de Sistemas\n",
        "\n",
        "**Repositorio:**\n",
        "\n",
        "---\n",
        "\n",
        "**Dataset implementado:** Reconocimiento de actividad humana con teléfonos inteligentes\n",
        "\n",
        " [Sitio de desgarga del dataset](https://www.kaggle.com/datasets/uciml/human-activity-recognition-with-smartphones)\n",
        "\n",
        "<p>Descripcion del dataset</p>\n",
        "La base de datos de reconocimiento de actividad humana se creó a partir de las grabaciones de 30 participantes del estudio que realizaban actividades de la vida diaria (ADL) mientras llevaban un teléfono inteligente montado en la cintura con sensores de inercia integrados. El objetivo es clasificar las actividades en una de las seis actividades realizadas .\n",
        "<p>actividades (CAMINAR, CAMINAR ARRIBA, CAMINAR ABAJO, SENTADO, DE PIE, ACOSTADO)</p>\n",
        "\n",
        "**Detalles de la solucion:**\n",
        "El dataset cuenta con datos de entrenamiento y datos de prueba\n",
        "\n",
        "<table>\n",
        "  <tr>\n",
        "    <th>data</th>\n",
        "    <th>Entrenamiento</th>\n",
        "    <th>Prueba</th>\n",
        "  </tr>\n",
        "  <tr>\n",
        "    <td>Filas</td>\n",
        "    <td>7352</td>\n",
        "    <td>2947</td>\n",
        "  </tr>\n",
        "  <tr>\n",
        "    <td>Columnas</td>\n",
        "    <td>563</td>\n",
        "    <td>563</td>\n",
        "  </tr>\n",
        "</table>\n",
        "\n",
        "<p>Para poder trabajar con el dataset, se verificaron los siguientes aspectos:</p>\n",
        "<ul>\n",
        "  <li><strong>Datos Nulos:</strong> No cuenta con datos nulos.</li>\n",
        "  <li><strong>Datos categóricos:</strong> Sí cuenta con una columna categórica [Activity] que es la columna objetivo.</li>\n",
        "  <li><strong>Columnas innecesarias:</strong> Ninguna.</li>\n",
        "</ul>\n",
        "\n",
        "<p>Antes de convertir la columna <span style=\"color:orange\">[Activity]</span> a numérica, primero se obtuvieron los valores únicos de esa columna en la variable <code>value=['STANDING','SITTING','LAYING','WALKING','WALKING_DOWNSTAIRS','WALKING_UPSTAIRS']</code>.</p>\n",
        "\n",
        "traducida al español value=['De pie','Sentado','Acostado','Caminar','Caminar Abajo','Caminar Arriba'] que sera usada al final para mostrar las predicciones\n",
        "\n",
        "\n",
        "Ya verificados se hiso el tratado de datos conviertiendo la columna [Activity] a numerica implementado la funcion **tratadoDatos(dataset,modificarColumnas,eliminarColumnas):**\n",
        "\n",
        "Luego se Asigno todas las columnas x a  \"X\" y la columna [Activity] a \"Y\"\n",
        "\n",
        "\n",
        "Para entrenar el modelo, se utilizaron **33** neuronas y **2 capas ocultas con la función de activación ReLU. En la capa de salida, se utilizaron las funciones de activación sigmoide y softmax. Se utilizó una tasa de aprendizaje de 0.01 y la función de pérdida CrossEntropy para un problema de clasificación. El modelo se entrenó durante 200 épocas con un tamaño de lote definido por batch_size =15 . Con estos parámetros, el modelo se entrenó de manera efectiva en un tiempo razonable.\n",
        "\n",
        "Para hacer la predicción, se utilizó un conjunto de datos de prueba con un preprocesamiento diferente al utilizado en el conjunto de datos de entrenamiento. Esto se hizo para evitar modificar las clasificaciones en la columna Activity al convertirlas en valores numéricos.\n",
        "\n",
        "`(ejemplo: colummnas Activity de data de entrenamiento primer valor `**LAYING**` valor unico =0\n",
        "columna Activity de data de prueba primer valor `**STADING**` valor unico 0\n",
        "se estan cambiando las clases , es por eso que no se usa el mismo tratado de datos\n",
        ")`\n",
        "\n",
        " En su lugar, se utilizó una función llamada **reemplazar_valores_categoricos** para convertir la columna Activity en valores numéricos utilizando las categorías(**Value**) obtenidas del conjunto de datos de entrenamiento.\n",
        "\n",
        "Esta función toma como entrada el nombre de la columna Activity y las categorías obtenidas del conjunto de datos de entrenamiento. Las categorías son una lista ordenada de clases únicas, como `['STANDING','SITTING','LAYING','WALKING', 'WALKING_DOWNSTAIRS','WALKING_UPSTAIRS']`. La función compara cada valor en la columna Activity del conjunto de datos de prueba con las categorías y asigna el índice correspondiente a cada valor. Por ejemplo, si el primer valor en la columna Activity es `LAYING`, la función buscaría esta palabra en las categorías y encontraría que está en el índice 2. Luego, reemplazaría el valor `LAYING` por 2 en la columna Activity. De esta manera, se asigna el valor numérico correspondiente a cada clase.\n",
        "\n",
        "\n",
        "La precisión del modelo con los datos de prueba superó el 90% [93.41%]. con Epoch 200/200, Loss[error]: 0.1264 = 0.12.64% de error . Para visualizar las predicciones y compararlas con los datos reales, se está utilizando la función **resultados(prediccion, y_real, value)**. Esta función muestra en verde las predicciones que fueron correctas y en rojo las que fallaron.\n",
        "\n"
      ],
      "metadata": {
        "id": "TNcfRvByaNML"
      }
    },
    {
      "cell_type": "code",
      "execution_count": 1025,
      "metadata": {
        "id": "YJIkwRhjZ8cB"
      },
      "outputs": [],
      "source": [
        "import os\n",
        "import numpy as np\n",
        "import pandas as pd\n",
        "import random\n",
        "from matplotlib import pyplot\n",
        "from sklearn.model_selection import train_test_split # libreria usado para separar los datos en entrenamiento y prueba\n",
        "%matplotlib inline\n",
        "np.random.seed(0)"
      ]
    },
    {
      "cell_type": "markdown",
      "source": [
        "# Clases y funciones de redes neuronales"
      ],
      "metadata": {
        "id": "xFqa8ERkdAce"
      }
    },
    {
      "cell_type": "code",
      "source": [
        "class MLP:\n",
        "    def __init__(self, layers):\n",
        "        # el MLP es una lista de capas\n",
        "        self.layers = layers\n",
        "\n",
        "    def __call__(self, x):\n",
        "        # calculamos la salida del modelo aplicando\n",
        "        # cada capa de manera secuencial\n",
        "        for layer in self.layers:\n",
        "            x = layer(x)\n",
        "        return x"
      ],
      "metadata": {
        "id": "Cor47OtQb_8R"
      },
      "execution_count": 1026,
      "outputs": []
    },
    {
      "cell_type": "code",
      "source": [
        "class Layer():\n",
        "    def __init__(self):\n",
        "        self.params = []\n",
        "        self.grads = []\n",
        "\n",
        "    def __call__(self, x):\n",
        "        # por defecto, devolver los inputs\n",
        "        # cada capa hará algo diferente aquí\n",
        "        return x\n",
        "\n",
        "    def backward(self, grad):\n",
        "        # cada capa, calculará sus gradientes\n",
        "        # y los devolverá para las capas siguientes\n",
        "        return grad\n",
        "\n",
        "    def update(self, params):\n",
        "        # si hay parámetros, los actualizaremos\n",
        "        # con lo que nos de el optimizer\n",
        "        return"
      ],
      "metadata": {
        "id": "H_kRolTKcHTI"
      },
      "execution_count": 1027,
      "outputs": []
    },
    {
      "cell_type": "code",
      "source": [
        "class Linear(Layer):\n",
        "    def __init__(self, d_in, d_out):\n",
        "        # pesos de la capa peso inicial diferente en cada ejecucion\n",
        "        self.w = np.random.normal(loc=0.0,\n",
        "                                  scale=np.sqrt(2/(d_in+d_out)),\n",
        "                                  size=(d_in, d_out))\n",
        "        self.b = np.zeros(d_out)\n",
        "\n",
        "    def __call__(self, x):\n",
        "        self.x = x\n",
        "        self.params = [self.w, self.b]\n",
        "        # salida del preceptrón\n",
        "        return np.dot(x, self.w) + self.b\n",
        "\n",
        "    def backward(self, grad_output):\n",
        "        # gradientes para la capa siguiente (BACKPROP)\n",
        "        grad = np.dot(grad_output, self.w.T)\n",
        "        self.grad_w = np.dot(self.x.T, grad_output)\n",
        "        # gradientes para actualizar pesos\n",
        "        self.grad_b = grad_output.mean(axis=0)*self.x.shape[0]\n",
        "        self.grads = [self.grad_w, self.grad_b]\n",
        "        return grad\n",
        "\n",
        "    def update(self, params):\n",
        "        self.w, self.b = params"
      ],
      "metadata": {
        "id": "HXip3LtwcSGk"
      },
      "execution_count": 1028,
      "outputs": []
    },
    {
      "cell_type": "code",
      "source": [
        "class ReLU(Layer):\n",
        "    def __call__(self, x):\n",
        "        self.x = x\n",
        "        return np.maximum(0, x)\n",
        "\n",
        "    def backward(self, grad_output):\n",
        "        grad = self.x > 0\n",
        "        return grad_output*grad\n",
        "\n",
        "def sigmoid(x):\n",
        "  return 1 / (1 + np.exp(-x))\n",
        "\n",
        "def softmax(x):\n",
        "    return np.exp(x) / np.exp(x).sum(axis=-1,keepdims=True)\n",
        "\n",
        "class Sigmoid(Layer):\n",
        "    def __call__(self, x):\n",
        "        self.x = x\n",
        "        return sigmoid(x)\n",
        "\n",
        "    def backward(self, grad_output):\n",
        "        grad = sigmoid(self.x)*(1 - sigmoid(self.x))\n",
        "        return grad_output*grad"
      ],
      "metadata": {
        "id": "xBAA9IX-cUjk"
      },
      "execution_count": 1029,
      "outputs": []
    },
    {
      "cell_type": "code",
      "source": [
        "class SGD():\n",
        "    def __init__(self, net, lr):\n",
        "        self.net = net\n",
        "        self.lr = lr\n",
        "\n",
        "    def update(self):\n",
        "        for layer in self.net.layers:\n",
        "            layer.update([\n",
        "                params - self.lr*grads\n",
        "                for params, grads in zip(layer.params, layer.grads)\n",
        "            ])"
      ],
      "metadata": {
        "id": "hfkQ-42ccXW1"
      },
      "execution_count": 1030,
      "outputs": []
    },
    {
      "cell_type": "code",
      "source": [
        "class Loss():\n",
        "    def __init__(self, net):\n",
        "        self.net = net\n",
        "\n",
        "    def backward(self):\n",
        "        # derivada de la loss function con respecto\n",
        "        # a la salida del MLP\n",
        "        grad = self.grad_loss()\n",
        "        # BACKPROPAGATION\n",
        "        for layer in reversed(self.net.layers):\n",
        "            grad = layer.backward(grad)\n",
        "class CrossEntropy(Loss):\n",
        "    def __call__(self, output, target):\n",
        "        self.output, self.target = output, target\n",
        "        logits = output[np.arange(len(output)), target.astype(int)]\n",
        "        loss = - logits + np.log(np.sum(np.exp(output), axis=-1))\n",
        "        loss = loss.mean()\n",
        "        return loss\n",
        "\n",
        "    def grad_loss(self):\n",
        "        answers = np.zeros_like(self.output)\n",
        "        answers[np.arange(len(self.output)), self.target.astype(int)] = 1\n",
        "        return (- answers + softmax(self.output)) / self.output.shape[0]"
      ],
      "metadata": {
        "id": "o1qTejg6cZof"
      },
      "execution_count": 1031,
      "outputs": []
    },
    {
      "cell_type": "markdown",
      "source": [
        "# Funciones para el tratado de datos"
      ],
      "metadata": {
        "id": "NFPIzy-fdI3-"
      }
    },
    {
      "cell_type": "code",
      "source": [
        "def tratadoDatos(dataset,modificarColumnas,eliminarColumnas):\n",
        "    data =pd.read_csv(dataset,encoding='latin-1')\n",
        "    columna = data.columns\n",
        "    #Convierte columnas categoricas a numericas\n",
        "    for index in modificarColumnas:\n",
        "        name = columna[index]\n",
        "        value = list(data[name].unique())\n",
        "        data[name] = data[name].map(dict(zip(value,[i for i in range(len(value))])))\n",
        "    #elimina columnas\n",
        "    data = data.drop([columna[index]for index in eliminarColumnas], axis=1)\n",
        "    #rellena datos nulos con la media\n",
        "    valor_media=data.select_dtypes(include=['number']).mean()\n",
        "    data = data.fillna(valor_media.round(2))\n",
        "    return data"
      ],
      "metadata": {
        "id": "4I9iOmAvcfUU"
      },
      "execution_count": 1032,
      "outputs": []
    },
    {
      "cell_type": "code",
      "source": [
        "def categoricas(data):\n",
        "    #Array con las posiciones de columnas categoricas del dataset\n",
        "    columna_categorica = data.select_dtypes(include=['object'])\n",
        "    print(columna_categorica.columns)\n",
        "    categorica = np.array([data.columns.get_loc(col) for col in columna_categorica.columns])\n",
        "    return categorica"
      ],
      "metadata": {
        "id": "EvQu7-wpg1z9"
      },
      "execution_count": 1033,
      "outputs": []
    },
    {
      "cell_type": "code",
      "source": [
        "def clasificaciones(data,columnay):\n",
        "    #Vista de Clasificaciones su cantidad del la columnas objetivo\n",
        "    value = list(data[columnay].unique())\n",
        "    print(\"clases :\",value)\n",
        "    print('Cantidad:',len(value))\n",
        "    data.info()\n",
        "    return value"
      ],
      "metadata": {
        "id": "sK9pQuXChIJp"
      },
      "execution_count": 1034,
      "outputs": []
    },
    {
      "cell_type": "code",
      "source": [
        "def nulos(data):\n",
        "    #cantidad de nulos y nombre y posicion de las columnas que lo tengan\n",
        "    nulos = data.isnull().sum().sum()\n",
        "    print(\"cantidad de nulos :\",nulos)\n",
        "    for i in range(len(data.columns)):\n",
        "        if data[data.columns[i]].isnull().sum()>0:\n",
        "            print(data.columns[i],i)"
      ],
      "metadata": {
        "id": "8U2bxBg8lOWw"
      },
      "execution_count": 1035,
      "outputs": []
    },
    {
      "cell_type": "markdown",
      "source": [
        "# Desarrollo de la solucion"
      ],
      "metadata": {
        "id": "z3Mq1E7mmiPT"
      }
    },
    {
      "cell_type": "code",
      "source": [
        "data=pd.read_csv('/content/train.csv')\n",
        "data"
      ],
      "metadata": {
        "colab": {
          "base_uri": "https://localhost:8080/",
          "height": 505
        },
        "id": "aGy0OOaqyTF3",
        "outputId": "37a71951-c2e4-4a00-cc9d-77eb715f6ebc"
      },
      "execution_count": 1036,
      "outputs": [
        {
          "output_type": "execute_result",
          "data": {
            "text/plain": [
              "      tBodyAcc-mean()-X  tBodyAcc-mean()-Y  tBodyAcc-mean()-Z  \\\n",
              "0              0.288585          -0.020294          -0.132905   \n",
              "1              0.278419          -0.016411          -0.123520   \n",
              "2              0.279653          -0.019467          -0.113462   \n",
              "3              0.279174          -0.026201          -0.123283   \n",
              "4              0.276629          -0.016570          -0.115362   \n",
              "...                 ...                ...                ...   \n",
              "7347           0.299665          -0.057193          -0.181233   \n",
              "7348           0.273853          -0.007749          -0.147468   \n",
              "7349           0.273387          -0.017011          -0.045022   \n",
              "7350           0.289654          -0.018843          -0.158281   \n",
              "7351           0.351503          -0.012423          -0.203867   \n",
              "\n",
              "      tBodyAcc-std()-X  tBodyAcc-std()-Y  tBodyAcc-std()-Z  tBodyAcc-mad()-X  \\\n",
              "0            -0.995279         -0.983111         -0.913526         -0.995112   \n",
              "1            -0.998245         -0.975300         -0.960322         -0.998807   \n",
              "2            -0.995380         -0.967187         -0.978944         -0.996520   \n",
              "3            -0.996091         -0.983403         -0.990675         -0.997099   \n",
              "4            -0.998139         -0.980817         -0.990482         -0.998321   \n",
              "...                ...               ...               ...               ...   \n",
              "7347         -0.195387          0.039905          0.077078         -0.282301   \n",
              "7348         -0.235309          0.004816          0.059280         -0.322552   \n",
              "7349         -0.218218         -0.103822          0.274533         -0.304515   \n",
              "7350         -0.219139         -0.111412          0.268893         -0.310487   \n",
              "7351         -0.269270         -0.087212          0.177404         -0.377404   \n",
              "\n",
              "      tBodyAcc-mad()-Y  tBodyAcc-mad()-Z  tBodyAcc-max()-X  ...  \\\n",
              "0            -0.983185         -0.923527         -0.934724  ...   \n",
              "1            -0.974914         -0.957686         -0.943068  ...   \n",
              "2            -0.963668         -0.977469         -0.938692  ...   \n",
              "3            -0.982750         -0.989302         -0.938692  ...   \n",
              "4            -0.979672         -0.990441         -0.942469  ...   \n",
              "...                ...               ...               ...  ...   \n",
              "7347          0.043616          0.060410          0.210795  ...   \n",
              "7348         -0.029456          0.080585          0.117440  ...   \n",
              "7349         -0.098913          0.332584          0.043999  ...   \n",
              "7350         -0.068200          0.319473          0.101702  ...   \n",
              "7351         -0.038678          0.229430          0.269013  ...   \n",
              "\n",
              "      fBodyBodyGyroJerkMag-kurtosis()  angle(tBodyAccMean,gravity)  \\\n",
              "0                           -0.710304                    -0.112754   \n",
              "1                           -0.861499                     0.053477   \n",
              "2                           -0.760104                    -0.118559   \n",
              "3                           -0.482845                    -0.036788   \n",
              "4                           -0.699205                     0.123320   \n",
              "...                               ...                          ...   \n",
              "7347                        -0.880324                    -0.190437   \n",
              "7348                        -0.680744                     0.064907   \n",
              "7349                        -0.304029                     0.052806   \n",
              "7350                        -0.344314                    -0.101360   \n",
              "7351                        -0.740738                    -0.280088   \n",
              "\n",
              "      angle(tBodyAccJerkMean),gravityMean)  angle(tBodyGyroMean,gravityMean)  \\\n",
              "0                                 0.030400                         -0.464761   \n",
              "1                                -0.007435                         -0.732626   \n",
              "2                                 0.177899                          0.100699   \n",
              "3                                -0.012892                          0.640011   \n",
              "4                                 0.122542                          0.693578   \n",
              "...                                    ...                               ...   \n",
              "7347                              0.829718                          0.206972   \n",
              "7348                              0.875679                         -0.879033   \n",
              "7349                             -0.266724                          0.864404   \n",
              "7350                              0.700740                          0.936674   \n",
              "7351                             -0.007739                         -0.056088   \n",
              "\n",
              "      angle(tBodyGyroJerkMean,gravityMean)  angle(X,gravityMean)  \\\n",
              "0                                -0.018446             -0.841247   \n",
              "1                                 0.703511             -0.844788   \n",
              "2                                 0.808529             -0.848933   \n",
              "3                                -0.485366             -0.848649   \n",
              "4                                -0.615971             -0.847865   \n",
              "...                                    ...                   ...   \n",
              "7347                             -0.425619             -0.791883   \n",
              "7348                              0.400219             -0.771840   \n",
              "7349                              0.701169             -0.779133   \n",
              "7350                             -0.589479             -0.785181   \n",
              "7351                             -0.616956             -0.783267   \n",
              "\n",
              "      angle(Y,gravityMean)  angle(Z,gravityMean)  subject          Activity  \n",
              "0                 0.179941             -0.058627        1          STANDING  \n",
              "1                 0.180289             -0.054317        1          STANDING  \n",
              "2                 0.180637             -0.049118        1          STANDING  \n",
              "3                 0.181935             -0.047663        1          STANDING  \n",
              "4                 0.185151             -0.043892        1          STANDING  \n",
              "...                    ...                   ...      ...               ...  \n",
              "7347              0.238604              0.049819       30  WALKING_UPSTAIRS  \n",
              "7348              0.252676              0.050053       30  WALKING_UPSTAIRS  \n",
              "7349              0.249145              0.040811       30  WALKING_UPSTAIRS  \n",
              "7350              0.246432              0.025339       30  WALKING_UPSTAIRS  \n",
              "7351              0.246809              0.036695       30  WALKING_UPSTAIRS  \n",
              "\n",
              "[7352 rows x 563 columns]"
            ],
            "text/html": [
              "\n",
              "  <div id=\"df-e20327fc-0946-4da3-a986-d6f4e0e17ae4\">\n",
              "    <div class=\"colab-df-container\">\n",
              "      <div>\n",
              "<style scoped>\n",
              "    .dataframe tbody tr th:only-of-type {\n",
              "        vertical-align: middle;\n",
              "    }\n",
              "\n",
              "    .dataframe tbody tr th {\n",
              "        vertical-align: top;\n",
              "    }\n",
              "\n",
              "    .dataframe thead th {\n",
              "        text-align: right;\n",
              "    }\n",
              "</style>\n",
              "<table border=\"1\" class=\"dataframe\">\n",
              "  <thead>\n",
              "    <tr style=\"text-align: right;\">\n",
              "      <th></th>\n",
              "      <th>tBodyAcc-mean()-X</th>\n",
              "      <th>tBodyAcc-mean()-Y</th>\n",
              "      <th>tBodyAcc-mean()-Z</th>\n",
              "      <th>tBodyAcc-std()-X</th>\n",
              "      <th>tBodyAcc-std()-Y</th>\n",
              "      <th>tBodyAcc-std()-Z</th>\n",
              "      <th>tBodyAcc-mad()-X</th>\n",
              "      <th>tBodyAcc-mad()-Y</th>\n",
              "      <th>tBodyAcc-mad()-Z</th>\n",
              "      <th>tBodyAcc-max()-X</th>\n",
              "      <th>...</th>\n",
              "      <th>fBodyBodyGyroJerkMag-kurtosis()</th>\n",
              "      <th>angle(tBodyAccMean,gravity)</th>\n",
              "      <th>angle(tBodyAccJerkMean),gravityMean)</th>\n",
              "      <th>angle(tBodyGyroMean,gravityMean)</th>\n",
              "      <th>angle(tBodyGyroJerkMean,gravityMean)</th>\n",
              "      <th>angle(X,gravityMean)</th>\n",
              "      <th>angle(Y,gravityMean)</th>\n",
              "      <th>angle(Z,gravityMean)</th>\n",
              "      <th>subject</th>\n",
              "      <th>Activity</th>\n",
              "    </tr>\n",
              "  </thead>\n",
              "  <tbody>\n",
              "    <tr>\n",
              "      <th>0</th>\n",
              "      <td>0.288585</td>\n",
              "      <td>-0.020294</td>\n",
              "      <td>-0.132905</td>\n",
              "      <td>-0.995279</td>\n",
              "      <td>-0.983111</td>\n",
              "      <td>-0.913526</td>\n",
              "      <td>-0.995112</td>\n",
              "      <td>-0.983185</td>\n",
              "      <td>-0.923527</td>\n",
              "      <td>-0.934724</td>\n",
              "      <td>...</td>\n",
              "      <td>-0.710304</td>\n",
              "      <td>-0.112754</td>\n",
              "      <td>0.030400</td>\n",
              "      <td>-0.464761</td>\n",
              "      <td>-0.018446</td>\n",
              "      <td>-0.841247</td>\n",
              "      <td>0.179941</td>\n",
              "      <td>-0.058627</td>\n",
              "      <td>1</td>\n",
              "      <td>STANDING</td>\n",
              "    </tr>\n",
              "    <tr>\n",
              "      <th>1</th>\n",
              "      <td>0.278419</td>\n",
              "      <td>-0.016411</td>\n",
              "      <td>-0.123520</td>\n",
              "      <td>-0.998245</td>\n",
              "      <td>-0.975300</td>\n",
              "      <td>-0.960322</td>\n",
              "      <td>-0.998807</td>\n",
              "      <td>-0.974914</td>\n",
              "      <td>-0.957686</td>\n",
              "      <td>-0.943068</td>\n",
              "      <td>...</td>\n",
              "      <td>-0.861499</td>\n",
              "      <td>0.053477</td>\n",
              "      <td>-0.007435</td>\n",
              "      <td>-0.732626</td>\n",
              "      <td>0.703511</td>\n",
              "      <td>-0.844788</td>\n",
              "      <td>0.180289</td>\n",
              "      <td>-0.054317</td>\n",
              "      <td>1</td>\n",
              "      <td>STANDING</td>\n",
              "    </tr>\n",
              "    <tr>\n",
              "      <th>2</th>\n",
              "      <td>0.279653</td>\n",
              "      <td>-0.019467</td>\n",
              "      <td>-0.113462</td>\n",
              "      <td>-0.995380</td>\n",
              "      <td>-0.967187</td>\n",
              "      <td>-0.978944</td>\n",
              "      <td>-0.996520</td>\n",
              "      <td>-0.963668</td>\n",
              "      <td>-0.977469</td>\n",
              "      <td>-0.938692</td>\n",
              "      <td>...</td>\n",
              "      <td>-0.760104</td>\n",
              "      <td>-0.118559</td>\n",
              "      <td>0.177899</td>\n",
              "      <td>0.100699</td>\n",
              "      <td>0.808529</td>\n",
              "      <td>-0.848933</td>\n",
              "      <td>0.180637</td>\n",
              "      <td>-0.049118</td>\n",
              "      <td>1</td>\n",
              "      <td>STANDING</td>\n",
              "    </tr>\n",
              "    <tr>\n",
              "      <th>3</th>\n",
              "      <td>0.279174</td>\n",
              "      <td>-0.026201</td>\n",
              "      <td>-0.123283</td>\n",
              "      <td>-0.996091</td>\n",
              "      <td>-0.983403</td>\n",
              "      <td>-0.990675</td>\n",
              "      <td>-0.997099</td>\n",
              "      <td>-0.982750</td>\n",
              "      <td>-0.989302</td>\n",
              "      <td>-0.938692</td>\n",
              "      <td>...</td>\n",
              "      <td>-0.482845</td>\n",
              "      <td>-0.036788</td>\n",
              "      <td>-0.012892</td>\n",
              "      <td>0.640011</td>\n",
              "      <td>-0.485366</td>\n",
              "      <td>-0.848649</td>\n",
              "      <td>0.181935</td>\n",
              "      <td>-0.047663</td>\n",
              "      <td>1</td>\n",
              "      <td>STANDING</td>\n",
              "    </tr>\n",
              "    <tr>\n",
              "      <th>4</th>\n",
              "      <td>0.276629</td>\n",
              "      <td>-0.016570</td>\n",
              "      <td>-0.115362</td>\n",
              "      <td>-0.998139</td>\n",
              "      <td>-0.980817</td>\n",
              "      <td>-0.990482</td>\n",
              "      <td>-0.998321</td>\n",
              "      <td>-0.979672</td>\n",
              "      <td>-0.990441</td>\n",
              "      <td>-0.942469</td>\n",
              "      <td>...</td>\n",
              "      <td>-0.699205</td>\n",
              "      <td>0.123320</td>\n",
              "      <td>0.122542</td>\n",
              "      <td>0.693578</td>\n",
              "      <td>-0.615971</td>\n",
              "      <td>-0.847865</td>\n",
              "      <td>0.185151</td>\n",
              "      <td>-0.043892</td>\n",
              "      <td>1</td>\n",
              "      <td>STANDING</td>\n",
              "    </tr>\n",
              "    <tr>\n",
              "      <th>...</th>\n",
              "      <td>...</td>\n",
              "      <td>...</td>\n",
              "      <td>...</td>\n",
              "      <td>...</td>\n",
              "      <td>...</td>\n",
              "      <td>...</td>\n",
              "      <td>...</td>\n",
              "      <td>...</td>\n",
              "      <td>...</td>\n",
              "      <td>...</td>\n",
              "      <td>...</td>\n",
              "      <td>...</td>\n",
              "      <td>...</td>\n",
              "      <td>...</td>\n",
              "      <td>...</td>\n",
              "      <td>...</td>\n",
              "      <td>...</td>\n",
              "      <td>...</td>\n",
              "      <td>...</td>\n",
              "      <td>...</td>\n",
              "      <td>...</td>\n",
              "    </tr>\n",
              "    <tr>\n",
              "      <th>7347</th>\n",
              "      <td>0.299665</td>\n",
              "      <td>-0.057193</td>\n",
              "      <td>-0.181233</td>\n",
              "      <td>-0.195387</td>\n",
              "      <td>0.039905</td>\n",
              "      <td>0.077078</td>\n",
              "      <td>-0.282301</td>\n",
              "      <td>0.043616</td>\n",
              "      <td>0.060410</td>\n",
              "      <td>0.210795</td>\n",
              "      <td>...</td>\n",
              "      <td>-0.880324</td>\n",
              "      <td>-0.190437</td>\n",
              "      <td>0.829718</td>\n",
              "      <td>0.206972</td>\n",
              "      <td>-0.425619</td>\n",
              "      <td>-0.791883</td>\n",
              "      <td>0.238604</td>\n",
              "      <td>0.049819</td>\n",
              "      <td>30</td>\n",
              "      <td>WALKING_UPSTAIRS</td>\n",
              "    </tr>\n",
              "    <tr>\n",
              "      <th>7348</th>\n",
              "      <td>0.273853</td>\n",
              "      <td>-0.007749</td>\n",
              "      <td>-0.147468</td>\n",
              "      <td>-0.235309</td>\n",
              "      <td>0.004816</td>\n",
              "      <td>0.059280</td>\n",
              "      <td>-0.322552</td>\n",
              "      <td>-0.029456</td>\n",
              "      <td>0.080585</td>\n",
              "      <td>0.117440</td>\n",
              "      <td>...</td>\n",
              "      <td>-0.680744</td>\n",
              "      <td>0.064907</td>\n",
              "      <td>0.875679</td>\n",
              "      <td>-0.879033</td>\n",
              "      <td>0.400219</td>\n",
              "      <td>-0.771840</td>\n",
              "      <td>0.252676</td>\n",
              "      <td>0.050053</td>\n",
              "      <td>30</td>\n",
              "      <td>WALKING_UPSTAIRS</td>\n",
              "    </tr>\n",
              "    <tr>\n",
              "      <th>7349</th>\n",
              "      <td>0.273387</td>\n",
              "      <td>-0.017011</td>\n",
              "      <td>-0.045022</td>\n",
              "      <td>-0.218218</td>\n",
              "      <td>-0.103822</td>\n",
              "      <td>0.274533</td>\n",
              "      <td>-0.304515</td>\n",
              "      <td>-0.098913</td>\n",
              "      <td>0.332584</td>\n",
              "      <td>0.043999</td>\n",
              "      <td>...</td>\n",
              "      <td>-0.304029</td>\n",
              "      <td>0.052806</td>\n",
              "      <td>-0.266724</td>\n",
              "      <td>0.864404</td>\n",
              "      <td>0.701169</td>\n",
              "      <td>-0.779133</td>\n",
              "      <td>0.249145</td>\n",
              "      <td>0.040811</td>\n",
              "      <td>30</td>\n",
              "      <td>WALKING_UPSTAIRS</td>\n",
              "    </tr>\n",
              "    <tr>\n",
              "      <th>7350</th>\n",
              "      <td>0.289654</td>\n",
              "      <td>-0.018843</td>\n",
              "      <td>-0.158281</td>\n",
              "      <td>-0.219139</td>\n",
              "      <td>-0.111412</td>\n",
              "      <td>0.268893</td>\n",
              "      <td>-0.310487</td>\n",
              "      <td>-0.068200</td>\n",
              "      <td>0.319473</td>\n",
              "      <td>0.101702</td>\n",
              "      <td>...</td>\n",
              "      <td>-0.344314</td>\n",
              "      <td>-0.101360</td>\n",
              "      <td>0.700740</td>\n",
              "      <td>0.936674</td>\n",
              "      <td>-0.589479</td>\n",
              "      <td>-0.785181</td>\n",
              "      <td>0.246432</td>\n",
              "      <td>0.025339</td>\n",
              "      <td>30</td>\n",
              "      <td>WALKING_UPSTAIRS</td>\n",
              "    </tr>\n",
              "    <tr>\n",
              "      <th>7351</th>\n",
              "      <td>0.351503</td>\n",
              "      <td>-0.012423</td>\n",
              "      <td>-0.203867</td>\n",
              "      <td>-0.269270</td>\n",
              "      <td>-0.087212</td>\n",
              "      <td>0.177404</td>\n",
              "      <td>-0.377404</td>\n",
              "      <td>-0.038678</td>\n",
              "      <td>0.229430</td>\n",
              "      <td>0.269013</td>\n",
              "      <td>...</td>\n",
              "      <td>-0.740738</td>\n",
              "      <td>-0.280088</td>\n",
              "      <td>-0.007739</td>\n",
              "      <td>-0.056088</td>\n",
              "      <td>-0.616956</td>\n",
              "      <td>-0.783267</td>\n",
              "      <td>0.246809</td>\n",
              "      <td>0.036695</td>\n",
              "      <td>30</td>\n",
              "      <td>WALKING_UPSTAIRS</td>\n",
              "    </tr>\n",
              "  </tbody>\n",
              "</table>\n",
              "<p>7352 rows × 563 columns</p>\n",
              "</div>\n",
              "      <button class=\"colab-df-convert\" onclick=\"convertToInteractive('df-e20327fc-0946-4da3-a986-d6f4e0e17ae4')\"\n",
              "              title=\"Convert this dataframe to an interactive table.\"\n",
              "              style=\"display:none;\">\n",
              "        \n",
              "  <svg xmlns=\"http://www.w3.org/2000/svg\" height=\"24px\"viewBox=\"0 0 24 24\"\n",
              "       width=\"24px\">\n",
              "    <path d=\"M0 0h24v24H0V0z\" fill=\"none\"/>\n",
              "    <path d=\"M18.56 5.44l.94 2.06.94-2.06 2.06-.94-2.06-.94-.94-2.06-.94 2.06-2.06.94zm-11 1L8.5 8.5l.94-2.06 2.06-.94-2.06-.94L8.5 2.5l-.94 2.06-2.06.94zm10 10l.94 2.06.94-2.06 2.06-.94-2.06-.94-.94-2.06-.94 2.06-2.06.94z\"/><path d=\"M17.41 7.96l-1.37-1.37c-.4-.4-.92-.59-1.43-.59-.52 0-1.04.2-1.43.59L10.3 9.45l-7.72 7.72c-.78.78-.78 2.05 0 2.83L4 21.41c.39.39.9.59 1.41.59.51 0 1.02-.2 1.41-.59l7.78-7.78 2.81-2.81c.8-.78.8-2.07 0-2.86zM5.41 20L4 18.59l7.72-7.72 1.47 1.35L5.41 20z\"/>\n",
              "  </svg>\n",
              "      </button>\n",
              "      \n",
              "  <style>\n",
              "    .colab-df-container {\n",
              "      display:flex;\n",
              "      flex-wrap:wrap;\n",
              "      gap: 12px;\n",
              "    }\n",
              "\n",
              "    .colab-df-convert {\n",
              "      background-color: #E8F0FE;\n",
              "      border: none;\n",
              "      border-radius: 50%;\n",
              "      cursor: pointer;\n",
              "      display: none;\n",
              "      fill: #1967D2;\n",
              "      height: 32px;\n",
              "      padding: 0 0 0 0;\n",
              "      width: 32px;\n",
              "    }\n",
              "\n",
              "    .colab-df-convert:hover {\n",
              "      background-color: #E2EBFA;\n",
              "      box-shadow: 0px 1px 2px rgba(60, 64, 67, 0.3), 0px 1px 3px 1px rgba(60, 64, 67, 0.15);\n",
              "      fill: #174EA6;\n",
              "    }\n",
              "\n",
              "    [theme=dark] .colab-df-convert {\n",
              "      background-color: #3B4455;\n",
              "      fill: #D2E3FC;\n",
              "    }\n",
              "\n",
              "    [theme=dark] .colab-df-convert:hover {\n",
              "      background-color: #434B5C;\n",
              "      box-shadow: 0px 1px 3px 1px rgba(0, 0, 0, 0.15);\n",
              "      filter: drop-shadow(0px 1px 2px rgba(0, 0, 0, 0.3));\n",
              "      fill: #FFFFFF;\n",
              "    }\n",
              "  </style>\n",
              "\n",
              "      <script>\n",
              "        const buttonEl =\n",
              "          document.querySelector('#df-e20327fc-0946-4da3-a986-d6f4e0e17ae4 button.colab-df-convert');\n",
              "        buttonEl.style.display =\n",
              "          google.colab.kernel.accessAllowed ? 'block' : 'none';\n",
              "\n",
              "        async function convertToInteractive(key) {\n",
              "          const element = document.querySelector('#df-e20327fc-0946-4da3-a986-d6f4e0e17ae4');\n",
              "          const dataTable =\n",
              "            await google.colab.kernel.invokeFunction('convertToInteractive',\n",
              "                                                     [key], {});\n",
              "          if (!dataTable) return;\n",
              "\n",
              "          const docLinkHtml = 'Like what you see? Visit the ' +\n",
              "            '<a target=\"_blank\" href=https://colab.research.google.com/notebooks/data_table.ipynb>data table notebook</a>'\n",
              "            + ' to learn more about interactive tables.';\n",
              "          element.innerHTML = '';\n",
              "          dataTable['output_type'] = 'display_data';\n",
              "          await google.colab.output.renderOutput(dataTable, element);\n",
              "          const docLink = document.createElement('div');\n",
              "          docLink.innerHTML = docLinkHtml;\n",
              "          element.appendChild(docLink);\n",
              "        }\n",
              "      </script>\n",
              "    </div>\n",
              "  </div>\n",
              "  "
            ]
          },
          "metadata": {},
          "execution_count": 1036
        }
      ]
    },
    {
      "cell_type": "code",
      "source": [
        "categorica=categoricas(data)\n",
        "print(categorica)\n",
        "nulos(data)"
      ],
      "metadata": {
        "colab": {
          "base_uri": "https://localhost:8080/"
        },
        "id": "U4EA8czQze3F",
        "outputId": "120dd015-6edb-440a-d6d7-52ccf856d0fd"
      },
      "execution_count": 1037,
      "outputs": [
        {
          "output_type": "stream",
          "name": "stdout",
          "text": [
            "Index(['Activity'], dtype='object')\n",
            "[562]\n",
            "cantidad de nulos : 0\n"
          ]
        }
      ]
    },
    {
      "cell_type": "code",
      "source": [
        "value=clasificaciones(data,'Activity')"
      ],
      "metadata": {
        "colab": {
          "base_uri": "https://localhost:8080/"
        },
        "id": "VLWPDqLc08yu",
        "outputId": "eb00d470-7181-4c80-d7b5-d0994dea39fa"
      },
      "execution_count": 1038,
      "outputs": [
        {
          "output_type": "stream",
          "name": "stdout",
          "text": [
            "clases : ['STANDING', 'SITTING', 'LAYING', 'WALKING', 'WALKING_DOWNSTAIRS', 'WALKING_UPSTAIRS']\n",
            "Cantidad: 6\n",
            "<class 'pandas.core.frame.DataFrame'>\n",
            "RangeIndex: 7352 entries, 0 to 7351\n",
            "Columns: 563 entries, tBodyAcc-mean()-X to Activity\n",
            "dtypes: float64(561), int64(1), object(1)\n",
            "memory usage: 31.6+ MB\n"
          ]
        }
      ]
    },
    {
      "cell_type": "code",
      "source": [
        "data=tratadoDatos('/content/train.csv',categorica,[])"
      ],
      "metadata": {
        "id": "_9WoZK1I5Etn"
      },
      "execution_count": 1039,
      "outputs": []
    },
    {
      "cell_type": "code",
      "source": [
        "data=data.to_numpy()\n",
        "X=data[:,:562]\n",
        "Y=data[:,562]\n",
        "print(X.shape)\n",
        "print(Y.shape)\n",
        "print(X)\n",
        "print(\"---\"*20)\n",
        "print(Y)"
      ],
      "metadata": {
        "colab": {
          "base_uri": "https://localhost:8080/"
        },
        "id": "MyLnVzhe6eNs",
        "outputId": "8816b348-5be1-4ba8-d808-e3c76a182bcc"
      },
      "execution_count": 1040,
      "outputs": [
        {
          "output_type": "stream",
          "name": "stdout",
          "text": [
            "(7352, 562)\n",
            "(7352,)\n",
            "[[ 2.8858451e-01 -2.0294171e-02 -1.3290514e-01 ...  1.7994061e-01\n",
            "  -5.8626924e-02  1.0000000e+00]\n",
            " [ 2.7841883e-01 -1.6410568e-02 -1.2352019e-01 ...  1.8028889e-01\n",
            "  -5.4316717e-02  1.0000000e+00]\n",
            " [ 2.7965306e-01 -1.9467156e-02 -1.1346169e-01 ...  1.8063731e-01\n",
            "  -4.9117815e-02  1.0000000e+00]\n",
            " ...\n",
            " [ 2.7338737e-01 -1.7010616e-02 -4.5021828e-02 ...  2.4914484e-01\n",
            "   4.0811188e-02  3.0000000e+01]\n",
            " [ 2.8965416e-01 -1.8843044e-02 -1.5828059e-01 ...  2.4643223e-01\n",
            "   2.5339478e-02  3.0000000e+01]\n",
            " [ 3.5150347e-01 -1.2423118e-02 -2.0386717e-01 ...  2.4680852e-01\n",
            "   3.6694843e-02  3.0000000e+01]]\n",
            "------------------------------------------------------------\n",
            "[0. 0. 0. ... 5. 5. 5.]\n"
          ]
        }
      ]
    },
    {
      "cell_type": "code",
      "source": [
        "D_in = 562  # Entradas X\n",
        "H = 33      # Neuronas\n",
        "D_out = 6   #Clasificaciones\n",
        "mlp = MLP([\n",
        "    Linear(D_in, H),\n",
        "    ReLU(),\n",
        "    Linear(H, H),\n",
        "    ReLU(),\n",
        "    Linear(H, D_out)\n",
        "])\n",
        "\n",
        "optimizer = SGD(mlp, lr=0.01)\n",
        "loss = CrossEntropy(mlp)\n",
        "\n",
        "epochs = 200   #epocas (veces que pasa el modelo por todo el conjunto de entrenamiento )\n",
        "batch_size = 15   #Lotes de entrenamiento(Numero de muestras) que se usan para actualizar los pesos del modelo durante el entrenamiento\n",
        "\n",
        "batches = len(X) // batch_size\n",
        "log_each = 40  # cada cuantas epocas se va mostrar la perdida promedio\n",
        "l = []\n",
        "for e in range(1,epochs+1):\n",
        "    _l = []\n",
        "    for b in range(batches):\n",
        "        x = X[b*batch_size:(b+1)*batch_size]\n",
        "        y = Y[b*batch_size:(b+1)*batch_size]\n",
        "        y_pred = mlp(x)\n",
        "        _l.append(loss(y_pred, y))\n",
        "        loss.backward()\n",
        "        optimizer.update()\n",
        "    l.append(np.mean(_l))\n",
        "    if not e % log_each:\n",
        "        print(f'Epoch {e}/{epochs}, Loss: {np.mean(l):.4f}')\n"
      ],
      "metadata": {
        "id": "8XPNeGyArdfg",
        "colab": {
          "base_uri": "https://localhost:8080/"
        },
        "outputId": "ef09e837-79b8-4ccf-b95d-1a06395f90f7"
      },
      "execution_count": 1041,
      "outputs": [
        {
          "output_type": "stream",
          "name": "stdout",
          "text": [
            "Epoch 40/200, Loss: 0.3259\n",
            "Epoch 80/200, Loss: 0.2214\n",
            "Epoch 120/200, Loss: 0.1742\n",
            "Epoch 160/200, Loss: 0.1460\n",
            "Epoch 200/200, Loss: 0.1264\n"
          ]
        }
      ]
    },
    {
      "cell_type": "markdown",
      "source": [
        "### Probar con datos de prueba"
      ],
      "metadata": {
        "id": "8VQJBcWz-a7U"
      }
    },
    {
      "cell_type": "code",
      "source": [
        "data=pd.read_csv('/content/test.csv')"
      ],
      "metadata": {
        "id": "Xm5eSVlE-jpW"
      },
      "execution_count": 1042,
      "outputs": []
    },
    {
      "cell_type": "code",
      "source": [
        "def reemplazar_valores_categoricos(data, columnas, categorias):\n",
        "    #solo datos de entrenamiento\n",
        "    for col, cat in zip(columnas, categorias):\n",
        "        data[col] = data[col].map(lambda x: cat.index(x))\n",
        "    return data"
      ],
      "metadata": {
        "id": "iRnE5uwN-u5l"
      },
      "execution_count": 1043,
      "outputs": []
    },
    {
      "cell_type": "code",
      "source": [
        "value"
      ],
      "metadata": {
        "colab": {
          "base_uri": "https://localhost:8080/"
        },
        "id": "PQl3KgRcDvjy",
        "outputId": "6e9394af-fc6b-4cd5-f81f-c54120587f88"
      },
      "execution_count": 1044,
      "outputs": [
        {
          "output_type": "execute_result",
          "data": {
            "text/plain": [
              "['STANDING',\n",
              " 'SITTING',\n",
              " 'LAYING',\n",
              " 'WALKING',\n",
              " 'WALKING_DOWNSTAIRS',\n",
              " 'WALKING_UPSTAIRS']"
            ]
          },
          "metadata": {},
          "execution_count": 1044
        }
      ]
    },
    {
      "cell_type": "code",
      "source": [
        "columnas = ['Activity']\n",
        "categorias=[value]\n",
        "data = reemplazar_valores_categoricos(data, columnas, categorias)"
      ],
      "metadata": {
        "id": "it6er8KODoij"
      },
      "execution_count": 1045,
      "outputs": []
    },
    {
      "cell_type": "code",
      "source": [
        "categoricas(data)"
      ],
      "metadata": {
        "colab": {
          "base_uri": "https://localhost:8080/"
        },
        "id": "Scv3A19aEEf6",
        "outputId": "51f6a436-a6fa-41d8-bac4-00b2d6af8e8d"
      },
      "execution_count": 1046,
      "outputs": [
        {
          "output_type": "stream",
          "name": "stdout",
          "text": [
            "Index([], dtype='object')\n"
          ]
        },
        {
          "output_type": "execute_result",
          "data": {
            "text/plain": [
              "array([], dtype=float64)"
            ]
          },
          "metadata": {},
          "execution_count": 1046
        }
      ]
    },
    {
      "cell_type": "code",
      "source": [
        "data=data.to_numpy()\n",
        "X=data[:,:562]\n",
        "Y=data[:,562]\n",
        "print(X.shape)\n",
        "print(Y.shape)"
      ],
      "metadata": {
        "colab": {
          "base_uri": "https://localhost:8080/"
        },
        "id": "dwcpgtJdEX5w",
        "outputId": "1d8f7599-f4af-4cea-ed7d-1e4a9a77a969"
      },
      "execution_count": 1047,
      "outputs": [
        {
          "output_type": "stream",
          "name": "stdout",
          "text": [
            "(2947, 562)\n",
            "(2947,)\n"
          ]
        }
      ]
    },
    {
      "cell_type": "code",
      "source": [
        "#Actividades (CAMINAR, CAMINAR_ARRIBA, CAMINAR_ABAJO, SENTADO, DE PIE, ACOSTADO)\n",
        "#(WALKING, WALKING_UPSTAIRS, WALKING_DOWNSTAIRS, SITTING, STANDING, LAYING)\n",
        "value"
      ],
      "metadata": {
        "colab": {
          "base_uri": "https://localhost:8080/"
        },
        "id": "xSLv9_gLIq8B",
        "outputId": "3a89cdf5-93ff-4aab-8cb7-fcd4c6125cea"
      },
      "execution_count": 1048,
      "outputs": [
        {
          "output_type": "execute_result",
          "data": {
            "text/plain": [
              "['STANDING',\n",
              " 'SITTING',\n",
              " 'LAYING',\n",
              " 'WALKING',\n",
              " 'WALKING_DOWNSTAIRS',\n",
              " 'WALKING_UPSTAIRS']"
            ]
          },
          "metadata": {},
          "execution_count": 1048
        }
      ]
    },
    {
      "cell_type": "code",
      "source": [
        "value=['De pie','Sentado','Acostado','Caminar','Caminar Abajo','Caminar Arriba']"
      ],
      "metadata": {
        "id": "vI5Vo0uUI-oO"
      },
      "execution_count": 1049,
      "outputs": []
    },
    {
      "cell_type": "code",
      "source": [
        "from IPython.display import HTML\n",
        "#Imprimir resultados de prediccion y  las reales\n",
        "def resultados(prediccion,y_real,value):\n",
        "  display(HTML('<b>N  &nbsp &nbsp Reales  &nbsp &nbsp &nbsp  Predicciones</b>'))\n",
        "  num=1\n",
        "  for p,y in zip(prediccion , y_real):\n",
        "     if(num<=500 or num > len(prediccion)-20):\n",
        "        if p == y:\n",
        "            display(HTML(f'<font color=\"green\"> {num}&nbsp &nbsp  {value[int(y)]}   &nbsp &nbsp &nbsp  {value[int(p)]}</font>'))\n",
        "        else:\n",
        "            display(HTML(f'<font color=\"red\">  {num}  &nbsp &nbsp {value[int(y)]}   &nbsp &nbsp &nbsp {value[int(p)]}</font>'))\n",
        "        if num==500:\n",
        "             print(\".........\"*3)\n",
        "     num=num+1"
      ],
      "metadata": {
        "id": "WMGqMxsSS84K"
      },
      "execution_count": 1085,
      "outputs": []
    },
    {
      "cell_type": "code",
      "source": [
        "#Array de prueba\n",
        "cantidad_pruebas=2946\n",
        "\n",
        "X_test = X[:cantidad_pruebas, :].copy()\n",
        "\n",
        "#Normalizar los datos de prueba si es nesesario\n",
        "#X_test_norm = (X_test - X_mean) / X_std\n",
        "\n",
        "# Pasar los datos de prueba a través del modelo para obtener las predicciones\n",
        "prediccion_y = mlp(X_test)\n",
        "\n",
        "#encuentra la clase con la mayor probabilidad en las predicciones del modelo\n",
        "prediccion = np.argmax(prediccion_y, axis=1)\n",
        "\n",
        "# Porcentaje de relacion entre prediccion y datos reales\n",
        "print('Precision de entrenamiento: {:.2f}%'.format(np.mean(prediccion == Y[:cantidad_pruebas]) * 100))\n",
        "\n",
        "# Vista de Predicciones del modelo para comparar\n",
        "y_real=Y[:cantidad_pruebas]\n",
        "\n",
        "resultados(prediccion,y_real,value)#93.41%\n"
      ],
      "metadata": {
        "id": "ETfZwKT5r0Fz",
        "colab": {
          "base_uri": "https://localhost:8080/",
          "height": 1000
        },
        "outputId": "60fa897c-770e-442f-96f9-5178047d90cc"
      },
      "execution_count": 1088,
      "outputs": [
        {
          "output_type": "stream",
          "name": "stdout",
          "text": [
            "Precision de entrenamiento: 93.41%\n"
          ]
        },
        {
          "output_type": "display_data",
          "data": {
            "text/plain": [
              "<IPython.core.display.HTML object>"
            ],
            "text/html": [
              "<b>N  &nbsp &nbsp Reales  &nbsp &nbsp &nbsp  Predicciones</b>"
            ]
          },
          "metadata": {}
        },
        {
          "output_type": "display_data",
          "data": {
            "text/plain": [
              "<IPython.core.display.HTML object>"
            ],
            "text/html": [
              "<font color=\"green\"> 1&nbsp &nbsp  De pie   &nbsp &nbsp &nbsp  De pie</font>"
            ]
          },
          "metadata": {}
        },
        {
          "output_type": "display_data",
          "data": {
            "text/plain": [
              "<IPython.core.display.HTML object>"
            ],
            "text/html": [
              "<font color=\"green\"> 2&nbsp &nbsp  De pie   &nbsp &nbsp &nbsp  De pie</font>"
            ]
          },
          "metadata": {}
        },
        {
          "output_type": "display_data",
          "data": {
            "text/plain": [
              "<IPython.core.display.HTML object>"
            ],
            "text/html": [
              "<font color=\"green\"> 3&nbsp &nbsp  De pie   &nbsp &nbsp &nbsp  De pie</font>"
            ]
          },
          "metadata": {}
        },
        {
          "output_type": "display_data",
          "data": {
            "text/plain": [
              "<IPython.core.display.HTML object>"
            ],
            "text/html": [
              "<font color=\"green\"> 4&nbsp &nbsp  De pie   &nbsp &nbsp &nbsp  De pie</font>"
            ]
          },
          "metadata": {}
        },
        {
          "output_type": "display_data",
          "data": {
            "text/plain": [
              "<IPython.core.display.HTML object>"
            ],
            "text/html": [
              "<font color=\"green\"> 5&nbsp &nbsp  De pie   &nbsp &nbsp &nbsp  De pie</font>"
            ]
          },
          "metadata": {}
        },
        {
          "output_type": "display_data",
          "data": {
            "text/plain": [
              "<IPython.core.display.HTML object>"
            ],
            "text/html": [
              "<font color=\"green\"> 6&nbsp &nbsp  De pie   &nbsp &nbsp &nbsp  De pie</font>"
            ]
          },
          "metadata": {}
        },
        {
          "output_type": "display_data",
          "data": {
            "text/plain": [
              "<IPython.core.display.HTML object>"
            ],
            "text/html": [
              "<font color=\"green\"> 7&nbsp &nbsp  De pie   &nbsp &nbsp &nbsp  De pie</font>"
            ]
          },
          "metadata": {}
        },
        {
          "output_type": "display_data",
          "data": {
            "text/plain": [
              "<IPython.core.display.HTML object>"
            ],
            "text/html": [
              "<font color=\"green\"> 8&nbsp &nbsp  De pie   &nbsp &nbsp &nbsp  De pie</font>"
            ]
          },
          "metadata": {}
        },
        {
          "output_type": "display_data",
          "data": {
            "text/plain": [
              "<IPython.core.display.HTML object>"
            ],
            "text/html": [
              "<font color=\"green\"> 9&nbsp &nbsp  De pie   &nbsp &nbsp &nbsp  De pie</font>"
            ]
          },
          "metadata": {}
        },
        {
          "output_type": "display_data",
          "data": {
            "text/plain": [
              "<IPython.core.display.HTML object>"
            ],
            "text/html": [
              "<font color=\"green\"> 10&nbsp &nbsp  De pie   &nbsp &nbsp &nbsp  De pie</font>"
            ]
          },
          "metadata": {}
        },
        {
          "output_type": "display_data",
          "data": {
            "text/plain": [
              "<IPython.core.display.HTML object>"
            ],
            "text/html": [
              "<font color=\"green\"> 11&nbsp &nbsp  De pie   &nbsp &nbsp &nbsp  De pie</font>"
            ]
          },
          "metadata": {}
        },
        {
          "output_type": "display_data",
          "data": {
            "text/plain": [
              "<IPython.core.display.HTML object>"
            ],
            "text/html": [
              "<font color=\"green\"> 12&nbsp &nbsp  De pie   &nbsp &nbsp &nbsp  De pie</font>"
            ]
          },
          "metadata": {}
        },
        {
          "output_type": "display_data",
          "data": {
            "text/plain": [
              "<IPython.core.display.HTML object>"
            ],
            "text/html": [
              "<font color=\"green\"> 13&nbsp &nbsp  De pie   &nbsp &nbsp &nbsp  De pie</font>"
            ]
          },
          "metadata": {}
        },
        {
          "output_type": "display_data",
          "data": {
            "text/plain": [
              "<IPython.core.display.HTML object>"
            ],
            "text/html": [
              "<font color=\"green\"> 14&nbsp &nbsp  De pie   &nbsp &nbsp &nbsp  De pie</font>"
            ]
          },
          "metadata": {}
        },
        {
          "output_type": "display_data",
          "data": {
            "text/plain": [
              "<IPython.core.display.HTML object>"
            ],
            "text/html": [
              "<font color=\"green\"> 15&nbsp &nbsp  De pie   &nbsp &nbsp &nbsp  De pie</font>"
            ]
          },
          "metadata": {}
        },
        {
          "output_type": "display_data",
          "data": {
            "text/plain": [
              "<IPython.core.display.HTML object>"
            ],
            "text/html": [
              "<font color=\"green\"> 16&nbsp &nbsp  De pie   &nbsp &nbsp &nbsp  De pie</font>"
            ]
          },
          "metadata": {}
        },
        {
          "output_type": "display_data",
          "data": {
            "text/plain": [
              "<IPython.core.display.HTML object>"
            ],
            "text/html": [
              "<font color=\"green\"> 17&nbsp &nbsp  De pie   &nbsp &nbsp &nbsp  De pie</font>"
            ]
          },
          "metadata": {}
        },
        {
          "output_type": "display_data",
          "data": {
            "text/plain": [
              "<IPython.core.display.HTML object>"
            ],
            "text/html": [
              "<font color=\"green\"> 18&nbsp &nbsp  De pie   &nbsp &nbsp &nbsp  De pie</font>"
            ]
          },
          "metadata": {}
        },
        {
          "output_type": "display_data",
          "data": {
            "text/plain": [
              "<IPython.core.display.HTML object>"
            ],
            "text/html": [
              "<font color=\"green\"> 19&nbsp &nbsp  De pie   &nbsp &nbsp &nbsp  De pie</font>"
            ]
          },
          "metadata": {}
        },
        {
          "output_type": "display_data",
          "data": {
            "text/plain": [
              "<IPython.core.display.HTML object>"
            ],
            "text/html": [
              "<font color=\"green\"> 20&nbsp &nbsp  De pie   &nbsp &nbsp &nbsp  De pie</font>"
            ]
          },
          "metadata": {}
        },
        {
          "output_type": "display_data",
          "data": {
            "text/plain": [
              "<IPython.core.display.HTML object>"
            ],
            "text/html": [
              "<font color=\"green\"> 21&nbsp &nbsp  De pie   &nbsp &nbsp &nbsp  De pie</font>"
            ]
          },
          "metadata": {}
        },
        {
          "output_type": "display_data",
          "data": {
            "text/plain": [
              "<IPython.core.display.HTML object>"
            ],
            "text/html": [
              "<font color=\"green\"> 22&nbsp &nbsp  De pie   &nbsp &nbsp &nbsp  De pie</font>"
            ]
          },
          "metadata": {}
        },
        {
          "output_type": "display_data",
          "data": {
            "text/plain": [
              "<IPython.core.display.HTML object>"
            ],
            "text/html": [
              "<font color=\"green\"> 23&nbsp &nbsp  De pie   &nbsp &nbsp &nbsp  De pie</font>"
            ]
          },
          "metadata": {}
        },
        {
          "output_type": "display_data",
          "data": {
            "text/plain": [
              "<IPython.core.display.HTML object>"
            ],
            "text/html": [
              "<font color=\"green\"> 24&nbsp &nbsp  De pie   &nbsp &nbsp &nbsp  De pie</font>"
            ]
          },
          "metadata": {}
        },
        {
          "output_type": "display_data",
          "data": {
            "text/plain": [
              "<IPython.core.display.HTML object>"
            ],
            "text/html": [
              "<font color=\"green\"> 25&nbsp &nbsp  De pie   &nbsp &nbsp &nbsp  De pie</font>"
            ]
          },
          "metadata": {}
        },
        {
          "output_type": "display_data",
          "data": {
            "text/plain": [
              "<IPython.core.display.HTML object>"
            ],
            "text/html": [
              "<font color=\"green\"> 26&nbsp &nbsp  De pie   &nbsp &nbsp &nbsp  De pie</font>"
            ]
          },
          "metadata": {}
        },
        {
          "output_type": "display_data",
          "data": {
            "text/plain": [
              "<IPython.core.display.HTML object>"
            ],
            "text/html": [
              "<font color=\"green\"> 27&nbsp &nbsp  De pie   &nbsp &nbsp &nbsp  De pie</font>"
            ]
          },
          "metadata": {}
        },
        {
          "output_type": "display_data",
          "data": {
            "text/plain": [
              "<IPython.core.display.HTML object>"
            ],
            "text/html": [
              "<font color=\"green\"> 28&nbsp &nbsp  De pie   &nbsp &nbsp &nbsp  De pie</font>"
            ]
          },
          "metadata": {}
        },
        {
          "output_type": "display_data",
          "data": {
            "text/plain": [
              "<IPython.core.display.HTML object>"
            ],
            "text/html": [
              "<font color=\"green\"> 29&nbsp &nbsp  De pie   &nbsp &nbsp &nbsp  De pie</font>"
            ]
          },
          "metadata": {}
        },
        {
          "output_type": "display_data",
          "data": {
            "text/plain": [
              "<IPython.core.display.HTML object>"
            ],
            "text/html": [
              "<font color=\"green\"> 30&nbsp &nbsp  De pie   &nbsp &nbsp &nbsp  De pie</font>"
            ]
          },
          "metadata": {}
        },
        {
          "output_type": "display_data",
          "data": {
            "text/plain": [
              "<IPython.core.display.HTML object>"
            ],
            "text/html": [
              "<font color=\"green\"> 31&nbsp &nbsp  De pie   &nbsp &nbsp &nbsp  De pie</font>"
            ]
          },
          "metadata": {}
        },
        {
          "output_type": "display_data",
          "data": {
            "text/plain": [
              "<IPython.core.display.HTML object>"
            ],
            "text/html": [
              "<font color=\"green\"> 32&nbsp &nbsp  Sentado   &nbsp &nbsp &nbsp  Sentado</font>"
            ]
          },
          "metadata": {}
        },
        {
          "output_type": "display_data",
          "data": {
            "text/plain": [
              "<IPython.core.display.HTML object>"
            ],
            "text/html": [
              "<font color=\"red\">  33  &nbsp &nbsp Sentado   &nbsp &nbsp &nbsp De pie</font>"
            ]
          },
          "metadata": {}
        },
        {
          "output_type": "display_data",
          "data": {
            "text/plain": [
              "<IPython.core.display.HTML object>"
            ],
            "text/html": [
              "<font color=\"green\"> 34&nbsp &nbsp  Sentado   &nbsp &nbsp &nbsp  Sentado</font>"
            ]
          },
          "metadata": {}
        },
        {
          "output_type": "display_data",
          "data": {
            "text/plain": [
              "<IPython.core.display.HTML object>"
            ],
            "text/html": [
              "<font color=\"green\"> 35&nbsp &nbsp  Sentado   &nbsp &nbsp &nbsp  Sentado</font>"
            ]
          },
          "metadata": {}
        },
        {
          "output_type": "display_data",
          "data": {
            "text/plain": [
              "<IPython.core.display.HTML object>"
            ],
            "text/html": [
              "<font color=\"green\"> 36&nbsp &nbsp  Sentado   &nbsp &nbsp &nbsp  Sentado</font>"
            ]
          },
          "metadata": {}
        },
        {
          "output_type": "display_data",
          "data": {
            "text/plain": [
              "<IPython.core.display.HTML object>"
            ],
            "text/html": [
              "<font color=\"green\"> 37&nbsp &nbsp  Sentado   &nbsp &nbsp &nbsp  Sentado</font>"
            ]
          },
          "metadata": {}
        },
        {
          "output_type": "display_data",
          "data": {
            "text/plain": [
              "<IPython.core.display.HTML object>"
            ],
            "text/html": [
              "<font color=\"green\"> 38&nbsp &nbsp  Sentado   &nbsp &nbsp &nbsp  Sentado</font>"
            ]
          },
          "metadata": {}
        },
        {
          "output_type": "display_data",
          "data": {
            "text/plain": [
              "<IPython.core.display.HTML object>"
            ],
            "text/html": [
              "<font color=\"red\">  39  &nbsp &nbsp Sentado   &nbsp &nbsp &nbsp De pie</font>"
            ]
          },
          "metadata": {}
        },
        {
          "output_type": "display_data",
          "data": {
            "text/plain": [
              "<IPython.core.display.HTML object>"
            ],
            "text/html": [
              "<font color=\"red\">  40  &nbsp &nbsp Sentado   &nbsp &nbsp &nbsp De pie</font>"
            ]
          },
          "metadata": {}
        },
        {
          "output_type": "display_data",
          "data": {
            "text/plain": [
              "<IPython.core.display.HTML object>"
            ],
            "text/html": [
              "<font color=\"green\"> 41&nbsp &nbsp  Sentado   &nbsp &nbsp &nbsp  Sentado</font>"
            ]
          },
          "metadata": {}
        },
        {
          "output_type": "display_data",
          "data": {
            "text/plain": [
              "<IPython.core.display.HTML object>"
            ],
            "text/html": [
              "<font color=\"green\"> 42&nbsp &nbsp  Sentado   &nbsp &nbsp &nbsp  Sentado</font>"
            ]
          },
          "metadata": {}
        },
        {
          "output_type": "display_data",
          "data": {
            "text/plain": [
              "<IPython.core.display.HTML object>"
            ],
            "text/html": [
              "<font color=\"red\">  43  &nbsp &nbsp Sentado   &nbsp &nbsp &nbsp De pie</font>"
            ]
          },
          "metadata": {}
        },
        {
          "output_type": "display_data",
          "data": {
            "text/plain": [
              "<IPython.core.display.HTML object>"
            ],
            "text/html": [
              "<font color=\"red\">  44  &nbsp &nbsp Sentado   &nbsp &nbsp &nbsp De pie</font>"
            ]
          },
          "metadata": {}
        },
        {
          "output_type": "display_data",
          "data": {
            "text/plain": [
              "<IPython.core.display.HTML object>"
            ],
            "text/html": [
              "<font color=\"green\"> 45&nbsp &nbsp  Sentado   &nbsp &nbsp &nbsp  Sentado</font>"
            ]
          },
          "metadata": {}
        },
        {
          "output_type": "display_data",
          "data": {
            "text/plain": [
              "<IPython.core.display.HTML object>"
            ],
            "text/html": [
              "<font color=\"green\"> 46&nbsp &nbsp  Sentado   &nbsp &nbsp &nbsp  Sentado</font>"
            ]
          },
          "metadata": {}
        },
        {
          "output_type": "display_data",
          "data": {
            "text/plain": [
              "<IPython.core.display.HTML object>"
            ],
            "text/html": [
              "<font color=\"green\"> 47&nbsp &nbsp  Sentado   &nbsp &nbsp &nbsp  Sentado</font>"
            ]
          },
          "metadata": {}
        },
        {
          "output_type": "display_data",
          "data": {
            "text/plain": [
              "<IPython.core.display.HTML object>"
            ],
            "text/html": [
              "<font color=\"green\"> 48&nbsp &nbsp  Sentado   &nbsp &nbsp &nbsp  Sentado</font>"
            ]
          },
          "metadata": {}
        },
        {
          "output_type": "display_data",
          "data": {
            "text/plain": [
              "<IPython.core.display.HTML object>"
            ],
            "text/html": [
              "<font color=\"green\"> 49&nbsp &nbsp  Sentado   &nbsp &nbsp &nbsp  Sentado</font>"
            ]
          },
          "metadata": {}
        },
        {
          "output_type": "display_data",
          "data": {
            "text/plain": [
              "<IPython.core.display.HTML object>"
            ],
            "text/html": [
              "<font color=\"red\">  50  &nbsp &nbsp Sentado   &nbsp &nbsp &nbsp De pie</font>"
            ]
          },
          "metadata": {}
        },
        {
          "output_type": "display_data",
          "data": {
            "text/plain": [
              "<IPython.core.display.HTML object>"
            ],
            "text/html": [
              "<font color=\"red\">  51  &nbsp &nbsp Sentado   &nbsp &nbsp &nbsp De pie</font>"
            ]
          },
          "metadata": {}
        },
        {
          "output_type": "display_data",
          "data": {
            "text/plain": [
              "<IPython.core.display.HTML object>"
            ],
            "text/html": [
              "<font color=\"red\">  52  &nbsp &nbsp Sentado   &nbsp &nbsp &nbsp De pie</font>"
            ]
          },
          "metadata": {}
        },
        {
          "output_type": "display_data",
          "data": {
            "text/plain": [
              "<IPython.core.display.HTML object>"
            ],
            "text/html": [
              "<font color=\"red\">  53  &nbsp &nbsp Sentado   &nbsp &nbsp &nbsp De pie</font>"
            ]
          },
          "metadata": {}
        },
        {
          "output_type": "display_data",
          "data": {
            "text/plain": [
              "<IPython.core.display.HTML object>"
            ],
            "text/html": [
              "<font color=\"green\"> 54&nbsp &nbsp  Sentado   &nbsp &nbsp &nbsp  Sentado</font>"
            ]
          },
          "metadata": {}
        },
        {
          "output_type": "display_data",
          "data": {
            "text/plain": [
              "<IPython.core.display.HTML object>"
            ],
            "text/html": [
              "<font color=\"green\"> 55&nbsp &nbsp  Sentado   &nbsp &nbsp &nbsp  Sentado</font>"
            ]
          },
          "metadata": {}
        },
        {
          "output_type": "display_data",
          "data": {
            "text/plain": [
              "<IPython.core.display.HTML object>"
            ],
            "text/html": [
              "<font color=\"green\"> 56&nbsp &nbsp  Acostado   &nbsp &nbsp &nbsp  Acostado</font>"
            ]
          },
          "metadata": {}
        },
        {
          "output_type": "display_data",
          "data": {
            "text/plain": [
              "<IPython.core.display.HTML object>"
            ],
            "text/html": [
              "<font color=\"green\"> 57&nbsp &nbsp  Acostado   &nbsp &nbsp &nbsp  Acostado</font>"
            ]
          },
          "metadata": {}
        },
        {
          "output_type": "display_data",
          "data": {
            "text/plain": [
              "<IPython.core.display.HTML object>"
            ],
            "text/html": [
              "<font color=\"green\"> 58&nbsp &nbsp  Acostado   &nbsp &nbsp &nbsp  Acostado</font>"
            ]
          },
          "metadata": {}
        },
        {
          "output_type": "display_data",
          "data": {
            "text/plain": [
              "<IPython.core.display.HTML object>"
            ],
            "text/html": [
              "<font color=\"green\"> 59&nbsp &nbsp  Acostado   &nbsp &nbsp &nbsp  Acostado</font>"
            ]
          },
          "metadata": {}
        },
        {
          "output_type": "display_data",
          "data": {
            "text/plain": [
              "<IPython.core.display.HTML object>"
            ],
            "text/html": [
              "<font color=\"green\"> 60&nbsp &nbsp  Acostado   &nbsp &nbsp &nbsp  Acostado</font>"
            ]
          },
          "metadata": {}
        },
        {
          "output_type": "display_data",
          "data": {
            "text/plain": [
              "<IPython.core.display.HTML object>"
            ],
            "text/html": [
              "<font color=\"green\"> 61&nbsp &nbsp  Acostado   &nbsp &nbsp &nbsp  Acostado</font>"
            ]
          },
          "metadata": {}
        },
        {
          "output_type": "display_data",
          "data": {
            "text/plain": [
              "<IPython.core.display.HTML object>"
            ],
            "text/html": [
              "<font color=\"green\"> 62&nbsp &nbsp  Acostado   &nbsp &nbsp &nbsp  Acostado</font>"
            ]
          },
          "metadata": {}
        },
        {
          "output_type": "display_data",
          "data": {
            "text/plain": [
              "<IPython.core.display.HTML object>"
            ],
            "text/html": [
              "<font color=\"green\"> 63&nbsp &nbsp  Acostado   &nbsp &nbsp &nbsp  Acostado</font>"
            ]
          },
          "metadata": {}
        },
        {
          "output_type": "display_data",
          "data": {
            "text/plain": [
              "<IPython.core.display.HTML object>"
            ],
            "text/html": [
              "<font color=\"green\"> 64&nbsp &nbsp  Acostado   &nbsp &nbsp &nbsp  Acostado</font>"
            ]
          },
          "metadata": {}
        },
        {
          "output_type": "display_data",
          "data": {
            "text/plain": [
              "<IPython.core.display.HTML object>"
            ],
            "text/html": [
              "<font color=\"green\"> 65&nbsp &nbsp  Acostado   &nbsp &nbsp &nbsp  Acostado</font>"
            ]
          },
          "metadata": {}
        },
        {
          "output_type": "display_data",
          "data": {
            "text/plain": [
              "<IPython.core.display.HTML object>"
            ],
            "text/html": [
              "<font color=\"green\"> 66&nbsp &nbsp  Acostado   &nbsp &nbsp &nbsp  Acostado</font>"
            ]
          },
          "metadata": {}
        },
        {
          "output_type": "display_data",
          "data": {
            "text/plain": [
              "<IPython.core.display.HTML object>"
            ],
            "text/html": [
              "<font color=\"green\"> 67&nbsp &nbsp  Acostado   &nbsp &nbsp &nbsp  Acostado</font>"
            ]
          },
          "metadata": {}
        },
        {
          "output_type": "display_data",
          "data": {
            "text/plain": [
              "<IPython.core.display.HTML object>"
            ],
            "text/html": [
              "<font color=\"green\"> 68&nbsp &nbsp  Acostado   &nbsp &nbsp &nbsp  Acostado</font>"
            ]
          },
          "metadata": {}
        },
        {
          "output_type": "display_data",
          "data": {
            "text/plain": [
              "<IPython.core.display.HTML object>"
            ],
            "text/html": [
              "<font color=\"green\"> 69&nbsp &nbsp  Acostado   &nbsp &nbsp &nbsp  Acostado</font>"
            ]
          },
          "metadata": {}
        },
        {
          "output_type": "display_data",
          "data": {
            "text/plain": [
              "<IPython.core.display.HTML object>"
            ],
            "text/html": [
              "<font color=\"green\"> 70&nbsp &nbsp  Acostado   &nbsp &nbsp &nbsp  Acostado</font>"
            ]
          },
          "metadata": {}
        },
        {
          "output_type": "display_data",
          "data": {
            "text/plain": [
              "<IPython.core.display.HTML object>"
            ],
            "text/html": [
              "<font color=\"green\"> 71&nbsp &nbsp  Acostado   &nbsp &nbsp &nbsp  Acostado</font>"
            ]
          },
          "metadata": {}
        },
        {
          "output_type": "display_data",
          "data": {
            "text/plain": [
              "<IPython.core.display.HTML object>"
            ],
            "text/html": [
              "<font color=\"green\"> 72&nbsp &nbsp  Acostado   &nbsp &nbsp &nbsp  Acostado</font>"
            ]
          },
          "metadata": {}
        },
        {
          "output_type": "display_data",
          "data": {
            "text/plain": [
              "<IPython.core.display.HTML object>"
            ],
            "text/html": [
              "<font color=\"green\"> 73&nbsp &nbsp  Acostado   &nbsp &nbsp &nbsp  Acostado</font>"
            ]
          },
          "metadata": {}
        },
        {
          "output_type": "display_data",
          "data": {
            "text/plain": [
              "<IPython.core.display.HTML object>"
            ],
            "text/html": [
              "<font color=\"green\"> 74&nbsp &nbsp  Acostado   &nbsp &nbsp &nbsp  Acostado</font>"
            ]
          },
          "metadata": {}
        },
        {
          "output_type": "display_data",
          "data": {
            "text/plain": [
              "<IPython.core.display.HTML object>"
            ],
            "text/html": [
              "<font color=\"green\"> 75&nbsp &nbsp  Acostado   &nbsp &nbsp &nbsp  Acostado</font>"
            ]
          },
          "metadata": {}
        },
        {
          "output_type": "display_data",
          "data": {
            "text/plain": [
              "<IPython.core.display.HTML object>"
            ],
            "text/html": [
              "<font color=\"green\"> 76&nbsp &nbsp  Acostado   &nbsp &nbsp &nbsp  Acostado</font>"
            ]
          },
          "metadata": {}
        },
        {
          "output_type": "display_data",
          "data": {
            "text/plain": [
              "<IPython.core.display.HTML object>"
            ],
            "text/html": [
              "<font color=\"green\"> 77&nbsp &nbsp  Acostado   &nbsp &nbsp &nbsp  Acostado</font>"
            ]
          },
          "metadata": {}
        },
        {
          "output_type": "display_data",
          "data": {
            "text/plain": [
              "<IPython.core.display.HTML object>"
            ],
            "text/html": [
              "<font color=\"green\"> 78&nbsp &nbsp  Acostado   &nbsp &nbsp &nbsp  Acostado</font>"
            ]
          },
          "metadata": {}
        },
        {
          "output_type": "display_data",
          "data": {
            "text/plain": [
              "<IPython.core.display.HTML object>"
            ],
            "text/html": [
              "<font color=\"green\"> 79&nbsp &nbsp  Acostado   &nbsp &nbsp &nbsp  Acostado</font>"
            ]
          },
          "metadata": {}
        },
        {
          "output_type": "display_data",
          "data": {
            "text/plain": [
              "<IPython.core.display.HTML object>"
            ],
            "text/html": [
              "<font color=\"green\"> 80&nbsp &nbsp  Caminar   &nbsp &nbsp &nbsp  Caminar</font>"
            ]
          },
          "metadata": {}
        },
        {
          "output_type": "display_data",
          "data": {
            "text/plain": [
              "<IPython.core.display.HTML object>"
            ],
            "text/html": [
              "<font color=\"green\"> 81&nbsp &nbsp  Caminar   &nbsp &nbsp &nbsp  Caminar</font>"
            ]
          },
          "metadata": {}
        },
        {
          "output_type": "display_data",
          "data": {
            "text/plain": [
              "<IPython.core.display.HTML object>"
            ],
            "text/html": [
              "<font color=\"green\"> 82&nbsp &nbsp  Caminar   &nbsp &nbsp &nbsp  Caminar</font>"
            ]
          },
          "metadata": {}
        },
        {
          "output_type": "display_data",
          "data": {
            "text/plain": [
              "<IPython.core.display.HTML object>"
            ],
            "text/html": [
              "<font color=\"green\"> 83&nbsp &nbsp  Caminar   &nbsp &nbsp &nbsp  Caminar</font>"
            ]
          },
          "metadata": {}
        },
        {
          "output_type": "display_data",
          "data": {
            "text/plain": [
              "<IPython.core.display.HTML object>"
            ],
            "text/html": [
              "<font color=\"green\"> 84&nbsp &nbsp  Caminar   &nbsp &nbsp &nbsp  Caminar</font>"
            ]
          },
          "metadata": {}
        },
        {
          "output_type": "display_data",
          "data": {
            "text/plain": [
              "<IPython.core.display.HTML object>"
            ],
            "text/html": [
              "<font color=\"green\"> 85&nbsp &nbsp  Caminar   &nbsp &nbsp &nbsp  Caminar</font>"
            ]
          },
          "metadata": {}
        },
        {
          "output_type": "display_data",
          "data": {
            "text/plain": [
              "<IPython.core.display.HTML object>"
            ],
            "text/html": [
              "<font color=\"green\"> 86&nbsp &nbsp  Caminar   &nbsp &nbsp &nbsp  Caminar</font>"
            ]
          },
          "metadata": {}
        },
        {
          "output_type": "display_data",
          "data": {
            "text/plain": [
              "<IPython.core.display.HTML object>"
            ],
            "text/html": [
              "<font color=\"green\"> 87&nbsp &nbsp  Caminar   &nbsp &nbsp &nbsp  Caminar</font>"
            ]
          },
          "metadata": {}
        },
        {
          "output_type": "display_data",
          "data": {
            "text/plain": [
              "<IPython.core.display.HTML object>"
            ],
            "text/html": [
              "<font color=\"green\"> 88&nbsp &nbsp  Caminar   &nbsp &nbsp &nbsp  Caminar</font>"
            ]
          },
          "metadata": {}
        },
        {
          "output_type": "display_data",
          "data": {
            "text/plain": [
              "<IPython.core.display.HTML object>"
            ],
            "text/html": [
              "<font color=\"green\"> 89&nbsp &nbsp  Caminar   &nbsp &nbsp &nbsp  Caminar</font>"
            ]
          },
          "metadata": {}
        },
        {
          "output_type": "display_data",
          "data": {
            "text/plain": [
              "<IPython.core.display.HTML object>"
            ],
            "text/html": [
              "<font color=\"green\"> 90&nbsp &nbsp  Caminar   &nbsp &nbsp &nbsp  Caminar</font>"
            ]
          },
          "metadata": {}
        },
        {
          "output_type": "display_data",
          "data": {
            "text/plain": [
              "<IPython.core.display.HTML object>"
            ],
            "text/html": [
              "<font color=\"green\"> 91&nbsp &nbsp  Caminar   &nbsp &nbsp &nbsp  Caminar</font>"
            ]
          },
          "metadata": {}
        },
        {
          "output_type": "display_data",
          "data": {
            "text/plain": [
              "<IPython.core.display.HTML object>"
            ],
            "text/html": [
              "<font color=\"green\"> 92&nbsp &nbsp  Caminar   &nbsp &nbsp &nbsp  Caminar</font>"
            ]
          },
          "metadata": {}
        },
        {
          "output_type": "display_data",
          "data": {
            "text/plain": [
              "<IPython.core.display.HTML object>"
            ],
            "text/html": [
              "<font color=\"green\"> 93&nbsp &nbsp  Caminar   &nbsp &nbsp &nbsp  Caminar</font>"
            ]
          },
          "metadata": {}
        },
        {
          "output_type": "display_data",
          "data": {
            "text/plain": [
              "<IPython.core.display.HTML object>"
            ],
            "text/html": [
              "<font color=\"green\"> 94&nbsp &nbsp  Caminar   &nbsp &nbsp &nbsp  Caminar</font>"
            ]
          },
          "metadata": {}
        },
        {
          "output_type": "display_data",
          "data": {
            "text/plain": [
              "<IPython.core.display.HTML object>"
            ],
            "text/html": [
              "<font color=\"green\"> 95&nbsp &nbsp  Caminar   &nbsp &nbsp &nbsp  Caminar</font>"
            ]
          },
          "metadata": {}
        },
        {
          "output_type": "display_data",
          "data": {
            "text/plain": [
              "<IPython.core.display.HTML object>"
            ],
            "text/html": [
              "<font color=\"green\"> 96&nbsp &nbsp  Caminar   &nbsp &nbsp &nbsp  Caminar</font>"
            ]
          },
          "metadata": {}
        },
        {
          "output_type": "display_data",
          "data": {
            "text/plain": [
              "<IPython.core.display.HTML object>"
            ],
            "text/html": [
              "<font color=\"green\"> 97&nbsp &nbsp  Caminar   &nbsp &nbsp &nbsp  Caminar</font>"
            ]
          },
          "metadata": {}
        },
        {
          "output_type": "display_data",
          "data": {
            "text/plain": [
              "<IPython.core.display.HTML object>"
            ],
            "text/html": [
              "<font color=\"green\"> 98&nbsp &nbsp  Caminar   &nbsp &nbsp &nbsp  Caminar</font>"
            ]
          },
          "metadata": {}
        },
        {
          "output_type": "display_data",
          "data": {
            "text/plain": [
              "<IPython.core.display.HTML object>"
            ],
            "text/html": [
              "<font color=\"green\"> 99&nbsp &nbsp  Caminar   &nbsp &nbsp &nbsp  Caminar</font>"
            ]
          },
          "metadata": {}
        },
        {
          "output_type": "display_data",
          "data": {
            "text/plain": [
              "<IPython.core.display.HTML object>"
            ],
            "text/html": [
              "<font color=\"green\"> 100&nbsp &nbsp  Caminar   &nbsp &nbsp &nbsp  Caminar</font>"
            ]
          },
          "metadata": {}
        },
        {
          "output_type": "display_data",
          "data": {
            "text/plain": [
              "<IPython.core.display.HTML object>"
            ],
            "text/html": [
              "<font color=\"green\"> 101&nbsp &nbsp  Caminar   &nbsp &nbsp &nbsp  Caminar</font>"
            ]
          },
          "metadata": {}
        },
        {
          "output_type": "display_data",
          "data": {
            "text/plain": [
              "<IPython.core.display.HTML object>"
            ],
            "text/html": [
              "<font color=\"green\"> 102&nbsp &nbsp  Caminar   &nbsp &nbsp &nbsp  Caminar</font>"
            ]
          },
          "metadata": {}
        },
        {
          "output_type": "display_data",
          "data": {
            "text/plain": [
              "<IPython.core.display.HTML object>"
            ],
            "text/html": [
              "<font color=\"green\"> 103&nbsp &nbsp  Caminar   &nbsp &nbsp &nbsp  Caminar</font>"
            ]
          },
          "metadata": {}
        },
        {
          "output_type": "display_data",
          "data": {
            "text/plain": [
              "<IPython.core.display.HTML object>"
            ],
            "text/html": [
              "<font color=\"green\"> 104&nbsp &nbsp  Caminar   &nbsp &nbsp &nbsp  Caminar</font>"
            ]
          },
          "metadata": {}
        },
        {
          "output_type": "display_data",
          "data": {
            "text/plain": [
              "<IPython.core.display.HTML object>"
            ],
            "text/html": [
              "<font color=\"green\"> 105&nbsp &nbsp  Caminar   &nbsp &nbsp &nbsp  Caminar</font>"
            ]
          },
          "metadata": {}
        },
        {
          "output_type": "display_data",
          "data": {
            "text/plain": [
              "<IPython.core.display.HTML object>"
            ],
            "text/html": [
              "<font color=\"green\"> 106&nbsp &nbsp  Caminar   &nbsp &nbsp &nbsp  Caminar</font>"
            ]
          },
          "metadata": {}
        },
        {
          "output_type": "display_data",
          "data": {
            "text/plain": [
              "<IPython.core.display.HTML object>"
            ],
            "text/html": [
              "<font color=\"green\"> 107&nbsp &nbsp  Caminar   &nbsp &nbsp &nbsp  Caminar</font>"
            ]
          },
          "metadata": {}
        },
        {
          "output_type": "display_data",
          "data": {
            "text/plain": [
              "<IPython.core.display.HTML object>"
            ],
            "text/html": [
              "<font color=\"green\"> 108&nbsp &nbsp  Caminar   &nbsp &nbsp &nbsp  Caminar</font>"
            ]
          },
          "metadata": {}
        },
        {
          "output_type": "display_data",
          "data": {
            "text/plain": [
              "<IPython.core.display.HTML object>"
            ],
            "text/html": [
              "<font color=\"green\"> 109&nbsp &nbsp  Caminar   &nbsp &nbsp &nbsp  Caminar</font>"
            ]
          },
          "metadata": {}
        },
        {
          "output_type": "display_data",
          "data": {
            "text/plain": [
              "<IPython.core.display.HTML object>"
            ],
            "text/html": [
              "<font color=\"green\"> 110&nbsp &nbsp  Caminar Abajo   &nbsp &nbsp &nbsp  Caminar Abajo</font>"
            ]
          },
          "metadata": {}
        },
        {
          "output_type": "display_data",
          "data": {
            "text/plain": [
              "<IPython.core.display.HTML object>"
            ],
            "text/html": [
              "<font color=\"green\"> 111&nbsp &nbsp  Caminar Abajo   &nbsp &nbsp &nbsp  Caminar Abajo</font>"
            ]
          },
          "metadata": {}
        },
        {
          "output_type": "display_data",
          "data": {
            "text/plain": [
              "<IPython.core.display.HTML object>"
            ],
            "text/html": [
              "<font color=\"green\"> 112&nbsp &nbsp  Caminar Abajo   &nbsp &nbsp &nbsp  Caminar Abajo</font>"
            ]
          },
          "metadata": {}
        },
        {
          "output_type": "display_data",
          "data": {
            "text/plain": [
              "<IPython.core.display.HTML object>"
            ],
            "text/html": [
              "<font color=\"green\"> 113&nbsp &nbsp  Caminar Abajo   &nbsp &nbsp &nbsp  Caminar Abajo</font>"
            ]
          },
          "metadata": {}
        },
        {
          "output_type": "display_data",
          "data": {
            "text/plain": [
              "<IPython.core.display.HTML object>"
            ],
            "text/html": [
              "<font color=\"green\"> 114&nbsp &nbsp  Caminar Abajo   &nbsp &nbsp &nbsp  Caminar Abajo</font>"
            ]
          },
          "metadata": {}
        },
        {
          "output_type": "display_data",
          "data": {
            "text/plain": [
              "<IPython.core.display.HTML object>"
            ],
            "text/html": [
              "<font color=\"green\"> 115&nbsp &nbsp  Caminar Abajo   &nbsp &nbsp &nbsp  Caminar Abajo</font>"
            ]
          },
          "metadata": {}
        },
        {
          "output_type": "display_data",
          "data": {
            "text/plain": [
              "<IPython.core.display.HTML object>"
            ],
            "text/html": [
              "<font color=\"green\"> 116&nbsp &nbsp  Caminar Abajo   &nbsp &nbsp &nbsp  Caminar Abajo</font>"
            ]
          },
          "metadata": {}
        },
        {
          "output_type": "display_data",
          "data": {
            "text/plain": [
              "<IPython.core.display.HTML object>"
            ],
            "text/html": [
              "<font color=\"green\"> 117&nbsp &nbsp  Caminar Abajo   &nbsp &nbsp &nbsp  Caminar Abajo</font>"
            ]
          },
          "metadata": {}
        },
        {
          "output_type": "display_data",
          "data": {
            "text/plain": [
              "<IPython.core.display.HTML object>"
            ],
            "text/html": [
              "<font color=\"green\"> 118&nbsp &nbsp  Caminar Abajo   &nbsp &nbsp &nbsp  Caminar Abajo</font>"
            ]
          },
          "metadata": {}
        },
        {
          "output_type": "display_data",
          "data": {
            "text/plain": [
              "<IPython.core.display.HTML object>"
            ],
            "text/html": [
              "<font color=\"green\"> 119&nbsp &nbsp  Caminar Abajo   &nbsp &nbsp &nbsp  Caminar Abajo</font>"
            ]
          },
          "metadata": {}
        },
        {
          "output_type": "display_data",
          "data": {
            "text/plain": [
              "<IPython.core.display.HTML object>"
            ],
            "text/html": [
              "<font color=\"green\"> 120&nbsp &nbsp  Caminar Abajo   &nbsp &nbsp &nbsp  Caminar Abajo</font>"
            ]
          },
          "metadata": {}
        },
        {
          "output_type": "display_data",
          "data": {
            "text/plain": [
              "<IPython.core.display.HTML object>"
            ],
            "text/html": [
              "<font color=\"green\"> 121&nbsp &nbsp  Caminar Abajo   &nbsp &nbsp &nbsp  Caminar Abajo</font>"
            ]
          },
          "metadata": {}
        },
        {
          "output_type": "display_data",
          "data": {
            "text/plain": [
              "<IPython.core.display.HTML object>"
            ],
            "text/html": [
              "<font color=\"green\"> 122&nbsp &nbsp  Caminar Abajo   &nbsp &nbsp &nbsp  Caminar Abajo</font>"
            ]
          },
          "metadata": {}
        },
        {
          "output_type": "display_data",
          "data": {
            "text/plain": [
              "<IPython.core.display.HTML object>"
            ],
            "text/html": [
              "<font color=\"green\"> 123&nbsp &nbsp  Caminar Abajo   &nbsp &nbsp &nbsp  Caminar Abajo</font>"
            ]
          },
          "metadata": {}
        },
        {
          "output_type": "display_data",
          "data": {
            "text/plain": [
              "<IPython.core.display.HTML object>"
            ],
            "text/html": [
              "<font color=\"green\"> 124&nbsp &nbsp  Caminar Abajo   &nbsp &nbsp &nbsp  Caminar Abajo</font>"
            ]
          },
          "metadata": {}
        },
        {
          "output_type": "display_data",
          "data": {
            "text/plain": [
              "<IPython.core.display.HTML object>"
            ],
            "text/html": [
              "<font color=\"green\"> 125&nbsp &nbsp  Caminar Abajo   &nbsp &nbsp &nbsp  Caminar Abajo</font>"
            ]
          },
          "metadata": {}
        },
        {
          "output_type": "display_data",
          "data": {
            "text/plain": [
              "<IPython.core.display.HTML object>"
            ],
            "text/html": [
              "<font color=\"green\"> 126&nbsp &nbsp  Caminar Abajo   &nbsp &nbsp &nbsp  Caminar Abajo</font>"
            ]
          },
          "metadata": {}
        },
        {
          "output_type": "display_data",
          "data": {
            "text/plain": [
              "<IPython.core.display.HTML object>"
            ],
            "text/html": [
              "<font color=\"green\"> 127&nbsp &nbsp  Caminar Abajo   &nbsp &nbsp &nbsp  Caminar Abajo</font>"
            ]
          },
          "metadata": {}
        },
        {
          "output_type": "display_data",
          "data": {
            "text/plain": [
              "<IPython.core.display.HTML object>"
            ],
            "text/html": [
              "<font color=\"green\"> 128&nbsp &nbsp  Caminar Abajo   &nbsp &nbsp &nbsp  Caminar Abajo</font>"
            ]
          },
          "metadata": {}
        },
        {
          "output_type": "display_data",
          "data": {
            "text/plain": [
              "<IPython.core.display.HTML object>"
            ],
            "text/html": [
              "<font color=\"green\"> 129&nbsp &nbsp  Caminar Abajo   &nbsp &nbsp &nbsp  Caminar Abajo</font>"
            ]
          },
          "metadata": {}
        },
        {
          "output_type": "display_data",
          "data": {
            "text/plain": [
              "<IPython.core.display.HTML object>"
            ],
            "text/html": [
              "<font color=\"green\"> 130&nbsp &nbsp  Caminar Abajo   &nbsp &nbsp &nbsp  Caminar Abajo</font>"
            ]
          },
          "metadata": {}
        },
        {
          "output_type": "display_data",
          "data": {
            "text/plain": [
              "<IPython.core.display.HTML object>"
            ],
            "text/html": [
              "<font color=\"green\"> 131&nbsp &nbsp  Caminar Abajo   &nbsp &nbsp &nbsp  Caminar Abajo</font>"
            ]
          },
          "metadata": {}
        },
        {
          "output_type": "display_data",
          "data": {
            "text/plain": [
              "<IPython.core.display.HTML object>"
            ],
            "text/html": [
              "<font color=\"green\"> 132&nbsp &nbsp  Caminar Abajo   &nbsp &nbsp &nbsp  Caminar Abajo</font>"
            ]
          },
          "metadata": {}
        },
        {
          "output_type": "display_data",
          "data": {
            "text/plain": [
              "<IPython.core.display.HTML object>"
            ],
            "text/html": [
              "<font color=\"green\"> 133&nbsp &nbsp  Caminar Abajo   &nbsp &nbsp &nbsp  Caminar Abajo</font>"
            ]
          },
          "metadata": {}
        },
        {
          "output_type": "display_data",
          "data": {
            "text/plain": [
              "<IPython.core.display.HTML object>"
            ],
            "text/html": [
              "<font color=\"green\"> 134&nbsp &nbsp  Caminar Arriba   &nbsp &nbsp &nbsp  Caminar Arriba</font>"
            ]
          },
          "metadata": {}
        },
        {
          "output_type": "display_data",
          "data": {
            "text/plain": [
              "<IPython.core.display.HTML object>"
            ],
            "text/html": [
              "<font color=\"green\"> 135&nbsp &nbsp  Caminar Arriba   &nbsp &nbsp &nbsp  Caminar Arriba</font>"
            ]
          },
          "metadata": {}
        },
        {
          "output_type": "display_data",
          "data": {
            "text/plain": [
              "<IPython.core.display.HTML object>"
            ],
            "text/html": [
              "<font color=\"green\"> 136&nbsp &nbsp  Caminar Arriba   &nbsp &nbsp &nbsp  Caminar Arriba</font>"
            ]
          },
          "metadata": {}
        },
        {
          "output_type": "display_data",
          "data": {
            "text/plain": [
              "<IPython.core.display.HTML object>"
            ],
            "text/html": [
              "<font color=\"green\"> 137&nbsp &nbsp  Caminar Arriba   &nbsp &nbsp &nbsp  Caminar Arriba</font>"
            ]
          },
          "metadata": {}
        },
        {
          "output_type": "display_data",
          "data": {
            "text/plain": [
              "<IPython.core.display.HTML object>"
            ],
            "text/html": [
              "<font color=\"green\"> 138&nbsp &nbsp  Caminar Arriba   &nbsp &nbsp &nbsp  Caminar Arriba</font>"
            ]
          },
          "metadata": {}
        },
        {
          "output_type": "display_data",
          "data": {
            "text/plain": [
              "<IPython.core.display.HTML object>"
            ],
            "text/html": [
              "<font color=\"green\"> 139&nbsp &nbsp  Caminar Arriba   &nbsp &nbsp &nbsp  Caminar Arriba</font>"
            ]
          },
          "metadata": {}
        },
        {
          "output_type": "display_data",
          "data": {
            "text/plain": [
              "<IPython.core.display.HTML object>"
            ],
            "text/html": [
              "<font color=\"green\"> 140&nbsp &nbsp  Caminar Arriba   &nbsp &nbsp &nbsp  Caminar Arriba</font>"
            ]
          },
          "metadata": {}
        },
        {
          "output_type": "display_data",
          "data": {
            "text/plain": [
              "<IPython.core.display.HTML object>"
            ],
            "text/html": [
              "<font color=\"green\"> 141&nbsp &nbsp  Caminar Arriba   &nbsp &nbsp &nbsp  Caminar Arriba</font>"
            ]
          },
          "metadata": {}
        },
        {
          "output_type": "display_data",
          "data": {
            "text/plain": [
              "<IPython.core.display.HTML object>"
            ],
            "text/html": [
              "<font color=\"green\"> 142&nbsp &nbsp  Caminar Arriba   &nbsp &nbsp &nbsp  Caminar Arriba</font>"
            ]
          },
          "metadata": {}
        },
        {
          "output_type": "display_data",
          "data": {
            "text/plain": [
              "<IPython.core.display.HTML object>"
            ],
            "text/html": [
              "<font color=\"green\"> 143&nbsp &nbsp  Caminar Arriba   &nbsp &nbsp &nbsp  Caminar Arriba</font>"
            ]
          },
          "metadata": {}
        },
        {
          "output_type": "display_data",
          "data": {
            "text/plain": [
              "<IPython.core.display.HTML object>"
            ],
            "text/html": [
              "<font color=\"green\"> 144&nbsp &nbsp  Caminar Arriba   &nbsp &nbsp &nbsp  Caminar Arriba</font>"
            ]
          },
          "metadata": {}
        },
        {
          "output_type": "display_data",
          "data": {
            "text/plain": [
              "<IPython.core.display.HTML object>"
            ],
            "text/html": [
              "<font color=\"green\"> 145&nbsp &nbsp  Caminar Arriba   &nbsp &nbsp &nbsp  Caminar Arriba</font>"
            ]
          },
          "metadata": {}
        },
        {
          "output_type": "display_data",
          "data": {
            "text/plain": [
              "<IPython.core.display.HTML object>"
            ],
            "text/html": [
              "<font color=\"green\"> 146&nbsp &nbsp  Caminar Arriba   &nbsp &nbsp &nbsp  Caminar Arriba</font>"
            ]
          },
          "metadata": {}
        },
        {
          "output_type": "display_data",
          "data": {
            "text/plain": [
              "<IPython.core.display.HTML object>"
            ],
            "text/html": [
              "<font color=\"green\"> 147&nbsp &nbsp  Caminar Arriba   &nbsp &nbsp &nbsp  Caminar Arriba</font>"
            ]
          },
          "metadata": {}
        },
        {
          "output_type": "display_data",
          "data": {
            "text/plain": [
              "<IPython.core.display.HTML object>"
            ],
            "text/html": [
              "<font color=\"green\"> 148&nbsp &nbsp  Caminar Arriba   &nbsp &nbsp &nbsp  Caminar Arriba</font>"
            ]
          },
          "metadata": {}
        },
        {
          "output_type": "display_data",
          "data": {
            "text/plain": [
              "<IPython.core.display.HTML object>"
            ],
            "text/html": [
              "<font color=\"green\"> 149&nbsp &nbsp  Caminar Arriba   &nbsp &nbsp &nbsp  Caminar Arriba</font>"
            ]
          },
          "metadata": {}
        },
        {
          "output_type": "display_data",
          "data": {
            "text/plain": [
              "<IPython.core.display.HTML object>"
            ],
            "text/html": [
              "<font color=\"green\"> 150&nbsp &nbsp  Caminar Arriba   &nbsp &nbsp &nbsp  Caminar Arriba</font>"
            ]
          },
          "metadata": {}
        },
        {
          "output_type": "display_data",
          "data": {
            "text/plain": [
              "<IPython.core.display.HTML object>"
            ],
            "text/html": [
              "<font color=\"green\"> 151&nbsp &nbsp  Caminar Arriba   &nbsp &nbsp &nbsp  Caminar Arriba</font>"
            ]
          },
          "metadata": {}
        },
        {
          "output_type": "display_data",
          "data": {
            "text/plain": [
              "<IPython.core.display.HTML object>"
            ],
            "text/html": [
              "<font color=\"green\"> 152&nbsp &nbsp  Caminar Arriba   &nbsp &nbsp &nbsp  Caminar Arriba</font>"
            ]
          },
          "metadata": {}
        },
        {
          "output_type": "display_data",
          "data": {
            "text/plain": [
              "<IPython.core.display.HTML object>"
            ],
            "text/html": [
              "<font color=\"green\"> 153&nbsp &nbsp  Caminar Arriba   &nbsp &nbsp &nbsp  Caminar Arriba</font>"
            ]
          },
          "metadata": {}
        },
        {
          "output_type": "display_data",
          "data": {
            "text/plain": [
              "<IPython.core.display.HTML object>"
            ],
            "text/html": [
              "<font color=\"green\"> 154&nbsp &nbsp  Caminar Arriba   &nbsp &nbsp &nbsp  Caminar Arriba</font>"
            ]
          },
          "metadata": {}
        },
        {
          "output_type": "display_data",
          "data": {
            "text/plain": [
              "<IPython.core.display.HTML object>"
            ],
            "text/html": [
              "<font color=\"green\"> 155&nbsp &nbsp  Caminar Arriba   &nbsp &nbsp &nbsp  Caminar Arriba</font>"
            ]
          },
          "metadata": {}
        },
        {
          "output_type": "display_data",
          "data": {
            "text/plain": [
              "<IPython.core.display.HTML object>"
            ],
            "text/html": [
              "<font color=\"green\"> 156&nbsp &nbsp  Caminar Arriba   &nbsp &nbsp &nbsp  Caminar Arriba</font>"
            ]
          },
          "metadata": {}
        },
        {
          "output_type": "display_data",
          "data": {
            "text/plain": [
              "<IPython.core.display.HTML object>"
            ],
            "text/html": [
              "<font color=\"green\"> 157&nbsp &nbsp  Caminar Arriba   &nbsp &nbsp &nbsp  Caminar Arriba</font>"
            ]
          },
          "metadata": {}
        },
        {
          "output_type": "display_data",
          "data": {
            "text/plain": [
              "<IPython.core.display.HTML object>"
            ],
            "text/html": [
              "<font color=\"green\"> 158&nbsp &nbsp  Caminar Arriba   &nbsp &nbsp &nbsp  Caminar Arriba</font>"
            ]
          },
          "metadata": {}
        },
        {
          "output_type": "display_data",
          "data": {
            "text/plain": [
              "<IPython.core.display.HTML object>"
            ],
            "text/html": [
              "<font color=\"green\"> 159&nbsp &nbsp  De pie   &nbsp &nbsp &nbsp  De pie</font>"
            ]
          },
          "metadata": {}
        },
        {
          "output_type": "display_data",
          "data": {
            "text/plain": [
              "<IPython.core.display.HTML object>"
            ],
            "text/html": [
              "<font color=\"green\"> 160&nbsp &nbsp  De pie   &nbsp &nbsp &nbsp  De pie</font>"
            ]
          },
          "metadata": {}
        },
        {
          "output_type": "display_data",
          "data": {
            "text/plain": [
              "<IPython.core.display.HTML object>"
            ],
            "text/html": [
              "<font color=\"green\"> 161&nbsp &nbsp  De pie   &nbsp &nbsp &nbsp  De pie</font>"
            ]
          },
          "metadata": {}
        },
        {
          "output_type": "display_data",
          "data": {
            "text/plain": [
              "<IPython.core.display.HTML object>"
            ],
            "text/html": [
              "<font color=\"green\"> 162&nbsp &nbsp  De pie   &nbsp &nbsp &nbsp  De pie</font>"
            ]
          },
          "metadata": {}
        },
        {
          "output_type": "display_data",
          "data": {
            "text/plain": [
              "<IPython.core.display.HTML object>"
            ],
            "text/html": [
              "<font color=\"green\"> 163&nbsp &nbsp  De pie   &nbsp &nbsp &nbsp  De pie</font>"
            ]
          },
          "metadata": {}
        },
        {
          "output_type": "display_data",
          "data": {
            "text/plain": [
              "<IPython.core.display.HTML object>"
            ],
            "text/html": [
              "<font color=\"green\"> 164&nbsp &nbsp  De pie   &nbsp &nbsp &nbsp  De pie</font>"
            ]
          },
          "metadata": {}
        },
        {
          "output_type": "display_data",
          "data": {
            "text/plain": [
              "<IPython.core.display.HTML object>"
            ],
            "text/html": [
              "<font color=\"green\"> 165&nbsp &nbsp  De pie   &nbsp &nbsp &nbsp  De pie</font>"
            ]
          },
          "metadata": {}
        },
        {
          "output_type": "display_data",
          "data": {
            "text/plain": [
              "<IPython.core.display.HTML object>"
            ],
            "text/html": [
              "<font color=\"green\"> 166&nbsp &nbsp  De pie   &nbsp &nbsp &nbsp  De pie</font>"
            ]
          },
          "metadata": {}
        },
        {
          "output_type": "display_data",
          "data": {
            "text/plain": [
              "<IPython.core.display.HTML object>"
            ],
            "text/html": [
              "<font color=\"green\"> 167&nbsp &nbsp  De pie   &nbsp &nbsp &nbsp  De pie</font>"
            ]
          },
          "metadata": {}
        },
        {
          "output_type": "display_data",
          "data": {
            "text/plain": [
              "<IPython.core.display.HTML object>"
            ],
            "text/html": [
              "<font color=\"green\"> 168&nbsp &nbsp  De pie   &nbsp &nbsp &nbsp  De pie</font>"
            ]
          },
          "metadata": {}
        },
        {
          "output_type": "display_data",
          "data": {
            "text/plain": [
              "<IPython.core.display.HTML object>"
            ],
            "text/html": [
              "<font color=\"green\"> 169&nbsp &nbsp  De pie   &nbsp &nbsp &nbsp  De pie</font>"
            ]
          },
          "metadata": {}
        },
        {
          "output_type": "display_data",
          "data": {
            "text/plain": [
              "<IPython.core.display.HTML object>"
            ],
            "text/html": [
              "<font color=\"green\"> 170&nbsp &nbsp  De pie   &nbsp &nbsp &nbsp  De pie</font>"
            ]
          },
          "metadata": {}
        },
        {
          "output_type": "display_data",
          "data": {
            "text/plain": [
              "<IPython.core.display.HTML object>"
            ],
            "text/html": [
              "<font color=\"green\"> 171&nbsp &nbsp  De pie   &nbsp &nbsp &nbsp  De pie</font>"
            ]
          },
          "metadata": {}
        },
        {
          "output_type": "display_data",
          "data": {
            "text/plain": [
              "<IPython.core.display.HTML object>"
            ],
            "text/html": [
              "<font color=\"green\"> 172&nbsp &nbsp  De pie   &nbsp &nbsp &nbsp  De pie</font>"
            ]
          },
          "metadata": {}
        },
        {
          "output_type": "display_data",
          "data": {
            "text/plain": [
              "<IPython.core.display.HTML object>"
            ],
            "text/html": [
              "<font color=\"green\"> 173&nbsp &nbsp  De pie   &nbsp &nbsp &nbsp  De pie</font>"
            ]
          },
          "metadata": {}
        },
        {
          "output_type": "display_data",
          "data": {
            "text/plain": [
              "<IPython.core.display.HTML object>"
            ],
            "text/html": [
              "<font color=\"green\"> 174&nbsp &nbsp  De pie   &nbsp &nbsp &nbsp  De pie</font>"
            ]
          },
          "metadata": {}
        },
        {
          "output_type": "display_data",
          "data": {
            "text/plain": [
              "<IPython.core.display.HTML object>"
            ],
            "text/html": [
              "<font color=\"green\"> 175&nbsp &nbsp  De pie   &nbsp &nbsp &nbsp  De pie</font>"
            ]
          },
          "metadata": {}
        },
        {
          "output_type": "display_data",
          "data": {
            "text/plain": [
              "<IPython.core.display.HTML object>"
            ],
            "text/html": [
              "<font color=\"green\"> 176&nbsp &nbsp  De pie   &nbsp &nbsp &nbsp  De pie</font>"
            ]
          },
          "metadata": {}
        },
        {
          "output_type": "display_data",
          "data": {
            "text/plain": [
              "<IPython.core.display.HTML object>"
            ],
            "text/html": [
              "<font color=\"green\"> 177&nbsp &nbsp  De pie   &nbsp &nbsp &nbsp  De pie</font>"
            ]
          },
          "metadata": {}
        },
        {
          "output_type": "display_data",
          "data": {
            "text/plain": [
              "<IPython.core.display.HTML object>"
            ],
            "text/html": [
              "<font color=\"green\"> 178&nbsp &nbsp  De pie   &nbsp &nbsp &nbsp  De pie</font>"
            ]
          },
          "metadata": {}
        },
        {
          "output_type": "display_data",
          "data": {
            "text/plain": [
              "<IPython.core.display.HTML object>"
            ],
            "text/html": [
              "<font color=\"green\"> 179&nbsp &nbsp  De pie   &nbsp &nbsp &nbsp  De pie</font>"
            ]
          },
          "metadata": {}
        },
        {
          "output_type": "display_data",
          "data": {
            "text/plain": [
              "<IPython.core.display.HTML object>"
            ],
            "text/html": [
              "<font color=\"green\"> 180&nbsp &nbsp  De pie   &nbsp &nbsp &nbsp  De pie</font>"
            ]
          },
          "metadata": {}
        },
        {
          "output_type": "display_data",
          "data": {
            "text/plain": [
              "<IPython.core.display.HTML object>"
            ],
            "text/html": [
              "<font color=\"green\"> 181&nbsp &nbsp  De pie   &nbsp &nbsp &nbsp  De pie</font>"
            ]
          },
          "metadata": {}
        },
        {
          "output_type": "display_data",
          "data": {
            "text/plain": [
              "<IPython.core.display.HTML object>"
            ],
            "text/html": [
              "<font color=\"green\"> 182&nbsp &nbsp  Sentado   &nbsp &nbsp &nbsp  Sentado</font>"
            ]
          },
          "metadata": {}
        },
        {
          "output_type": "display_data",
          "data": {
            "text/plain": [
              "<IPython.core.display.HTML object>"
            ],
            "text/html": [
              "<font color=\"red\">  183  &nbsp &nbsp Sentado   &nbsp &nbsp &nbsp De pie</font>"
            ]
          },
          "metadata": {}
        },
        {
          "output_type": "display_data",
          "data": {
            "text/plain": [
              "<IPython.core.display.HTML object>"
            ],
            "text/html": [
              "<font color=\"green\"> 184&nbsp &nbsp  Sentado   &nbsp &nbsp &nbsp  Sentado</font>"
            ]
          },
          "metadata": {}
        },
        {
          "output_type": "display_data",
          "data": {
            "text/plain": [
              "<IPython.core.display.HTML object>"
            ],
            "text/html": [
              "<font color=\"green\"> 185&nbsp &nbsp  Sentado   &nbsp &nbsp &nbsp  Sentado</font>"
            ]
          },
          "metadata": {}
        },
        {
          "output_type": "display_data",
          "data": {
            "text/plain": [
              "<IPython.core.display.HTML object>"
            ],
            "text/html": [
              "<font color=\"green\"> 186&nbsp &nbsp  Sentado   &nbsp &nbsp &nbsp  Sentado</font>"
            ]
          },
          "metadata": {}
        },
        {
          "output_type": "display_data",
          "data": {
            "text/plain": [
              "<IPython.core.display.HTML object>"
            ],
            "text/html": [
              "<font color=\"green\"> 187&nbsp &nbsp  Sentado   &nbsp &nbsp &nbsp  Sentado</font>"
            ]
          },
          "metadata": {}
        },
        {
          "output_type": "display_data",
          "data": {
            "text/plain": [
              "<IPython.core.display.HTML object>"
            ],
            "text/html": [
              "<font color=\"green\"> 188&nbsp &nbsp  Sentado   &nbsp &nbsp &nbsp  Sentado</font>"
            ]
          },
          "metadata": {}
        },
        {
          "output_type": "display_data",
          "data": {
            "text/plain": [
              "<IPython.core.display.HTML object>"
            ],
            "text/html": [
              "<font color=\"green\"> 189&nbsp &nbsp  Sentado   &nbsp &nbsp &nbsp  Sentado</font>"
            ]
          },
          "metadata": {}
        },
        {
          "output_type": "display_data",
          "data": {
            "text/plain": [
              "<IPython.core.display.HTML object>"
            ],
            "text/html": [
              "<font color=\"green\"> 190&nbsp &nbsp  Sentado   &nbsp &nbsp &nbsp  Sentado</font>"
            ]
          },
          "metadata": {}
        },
        {
          "output_type": "display_data",
          "data": {
            "text/plain": [
              "<IPython.core.display.HTML object>"
            ],
            "text/html": [
              "<font color=\"green\"> 191&nbsp &nbsp  Sentado   &nbsp &nbsp &nbsp  Sentado</font>"
            ]
          },
          "metadata": {}
        },
        {
          "output_type": "display_data",
          "data": {
            "text/plain": [
              "<IPython.core.display.HTML object>"
            ],
            "text/html": [
              "<font color=\"green\"> 192&nbsp &nbsp  Sentado   &nbsp &nbsp &nbsp  Sentado</font>"
            ]
          },
          "metadata": {}
        },
        {
          "output_type": "display_data",
          "data": {
            "text/plain": [
              "<IPython.core.display.HTML object>"
            ],
            "text/html": [
              "<font color=\"green\"> 193&nbsp &nbsp  Sentado   &nbsp &nbsp &nbsp  Sentado</font>"
            ]
          },
          "metadata": {}
        },
        {
          "output_type": "display_data",
          "data": {
            "text/plain": [
              "<IPython.core.display.HTML object>"
            ],
            "text/html": [
              "<font color=\"green\"> 194&nbsp &nbsp  Sentado   &nbsp &nbsp &nbsp  Sentado</font>"
            ]
          },
          "metadata": {}
        },
        {
          "output_type": "display_data",
          "data": {
            "text/plain": [
              "<IPython.core.display.HTML object>"
            ],
            "text/html": [
              "<font color=\"green\"> 195&nbsp &nbsp  Sentado   &nbsp &nbsp &nbsp  Sentado</font>"
            ]
          },
          "metadata": {}
        },
        {
          "output_type": "display_data",
          "data": {
            "text/plain": [
              "<IPython.core.display.HTML object>"
            ],
            "text/html": [
              "<font color=\"green\"> 196&nbsp &nbsp  Sentado   &nbsp &nbsp &nbsp  Sentado</font>"
            ]
          },
          "metadata": {}
        },
        {
          "output_type": "display_data",
          "data": {
            "text/plain": [
              "<IPython.core.display.HTML object>"
            ],
            "text/html": [
              "<font color=\"green\"> 197&nbsp &nbsp  Sentado   &nbsp &nbsp &nbsp  Sentado</font>"
            ]
          },
          "metadata": {}
        },
        {
          "output_type": "display_data",
          "data": {
            "text/plain": [
              "<IPython.core.display.HTML object>"
            ],
            "text/html": [
              "<font color=\"green\"> 198&nbsp &nbsp  Sentado   &nbsp &nbsp &nbsp  Sentado</font>"
            ]
          },
          "metadata": {}
        },
        {
          "output_type": "display_data",
          "data": {
            "text/plain": [
              "<IPython.core.display.HTML object>"
            ],
            "text/html": [
              "<font color=\"green\"> 199&nbsp &nbsp  Sentado   &nbsp &nbsp &nbsp  Sentado</font>"
            ]
          },
          "metadata": {}
        },
        {
          "output_type": "display_data",
          "data": {
            "text/plain": [
              "<IPython.core.display.HTML object>"
            ],
            "text/html": [
              "<font color=\"green\"> 200&nbsp &nbsp  Sentado   &nbsp &nbsp &nbsp  Sentado</font>"
            ]
          },
          "metadata": {}
        },
        {
          "output_type": "display_data",
          "data": {
            "text/plain": [
              "<IPython.core.display.HTML object>"
            ],
            "text/html": [
              "<font color=\"green\"> 201&nbsp &nbsp  Sentado   &nbsp &nbsp &nbsp  Sentado</font>"
            ]
          },
          "metadata": {}
        },
        {
          "output_type": "display_data",
          "data": {
            "text/plain": [
              "<IPython.core.display.HTML object>"
            ],
            "text/html": [
              "<font color=\"green\"> 202&nbsp &nbsp  Sentado   &nbsp &nbsp &nbsp  Sentado</font>"
            ]
          },
          "metadata": {}
        },
        {
          "output_type": "display_data",
          "data": {
            "text/plain": [
              "<IPython.core.display.HTML object>"
            ],
            "text/html": [
              "<font color=\"green\"> 203&nbsp &nbsp  Sentado   &nbsp &nbsp &nbsp  Sentado</font>"
            ]
          },
          "metadata": {}
        },
        {
          "output_type": "display_data",
          "data": {
            "text/plain": [
              "<IPython.core.display.HTML object>"
            ],
            "text/html": [
              "<font color=\"green\"> 204&nbsp &nbsp  Acostado   &nbsp &nbsp &nbsp  Acostado</font>"
            ]
          },
          "metadata": {}
        },
        {
          "output_type": "display_data",
          "data": {
            "text/plain": [
              "<IPython.core.display.HTML object>"
            ],
            "text/html": [
              "<font color=\"green\"> 205&nbsp &nbsp  Acostado   &nbsp &nbsp &nbsp  Acostado</font>"
            ]
          },
          "metadata": {}
        },
        {
          "output_type": "display_data",
          "data": {
            "text/plain": [
              "<IPython.core.display.HTML object>"
            ],
            "text/html": [
              "<font color=\"green\"> 206&nbsp &nbsp  Acostado   &nbsp &nbsp &nbsp  Acostado</font>"
            ]
          },
          "metadata": {}
        },
        {
          "output_type": "display_data",
          "data": {
            "text/plain": [
              "<IPython.core.display.HTML object>"
            ],
            "text/html": [
              "<font color=\"green\"> 207&nbsp &nbsp  Acostado   &nbsp &nbsp &nbsp  Acostado</font>"
            ]
          },
          "metadata": {}
        },
        {
          "output_type": "display_data",
          "data": {
            "text/plain": [
              "<IPython.core.display.HTML object>"
            ],
            "text/html": [
              "<font color=\"green\"> 208&nbsp &nbsp  Acostado   &nbsp &nbsp &nbsp  Acostado</font>"
            ]
          },
          "metadata": {}
        },
        {
          "output_type": "display_data",
          "data": {
            "text/plain": [
              "<IPython.core.display.HTML object>"
            ],
            "text/html": [
              "<font color=\"green\"> 209&nbsp &nbsp  Acostado   &nbsp &nbsp &nbsp  Acostado</font>"
            ]
          },
          "metadata": {}
        },
        {
          "output_type": "display_data",
          "data": {
            "text/plain": [
              "<IPython.core.display.HTML object>"
            ],
            "text/html": [
              "<font color=\"green\"> 210&nbsp &nbsp  Acostado   &nbsp &nbsp &nbsp  Acostado</font>"
            ]
          },
          "metadata": {}
        },
        {
          "output_type": "display_data",
          "data": {
            "text/plain": [
              "<IPython.core.display.HTML object>"
            ],
            "text/html": [
              "<font color=\"green\"> 211&nbsp &nbsp  Acostado   &nbsp &nbsp &nbsp  Acostado</font>"
            ]
          },
          "metadata": {}
        },
        {
          "output_type": "display_data",
          "data": {
            "text/plain": [
              "<IPython.core.display.HTML object>"
            ],
            "text/html": [
              "<font color=\"green\"> 212&nbsp &nbsp  Acostado   &nbsp &nbsp &nbsp  Acostado</font>"
            ]
          },
          "metadata": {}
        },
        {
          "output_type": "display_data",
          "data": {
            "text/plain": [
              "<IPython.core.display.HTML object>"
            ],
            "text/html": [
              "<font color=\"green\"> 213&nbsp &nbsp  Acostado   &nbsp &nbsp &nbsp  Acostado</font>"
            ]
          },
          "metadata": {}
        },
        {
          "output_type": "display_data",
          "data": {
            "text/plain": [
              "<IPython.core.display.HTML object>"
            ],
            "text/html": [
              "<font color=\"green\"> 214&nbsp &nbsp  Acostado   &nbsp &nbsp &nbsp  Acostado</font>"
            ]
          },
          "metadata": {}
        },
        {
          "output_type": "display_data",
          "data": {
            "text/plain": [
              "<IPython.core.display.HTML object>"
            ],
            "text/html": [
              "<font color=\"green\"> 215&nbsp &nbsp  Acostado   &nbsp &nbsp &nbsp  Acostado</font>"
            ]
          },
          "metadata": {}
        },
        {
          "output_type": "display_data",
          "data": {
            "text/plain": [
              "<IPython.core.display.HTML object>"
            ],
            "text/html": [
              "<font color=\"green\"> 216&nbsp &nbsp  Acostado   &nbsp &nbsp &nbsp  Acostado</font>"
            ]
          },
          "metadata": {}
        },
        {
          "output_type": "display_data",
          "data": {
            "text/plain": [
              "<IPython.core.display.HTML object>"
            ],
            "text/html": [
              "<font color=\"green\"> 217&nbsp &nbsp  Acostado   &nbsp &nbsp &nbsp  Acostado</font>"
            ]
          },
          "metadata": {}
        },
        {
          "output_type": "display_data",
          "data": {
            "text/plain": [
              "<IPython.core.display.HTML object>"
            ],
            "text/html": [
              "<font color=\"green\"> 218&nbsp &nbsp  Acostado   &nbsp &nbsp &nbsp  Acostado</font>"
            ]
          },
          "metadata": {}
        },
        {
          "output_type": "display_data",
          "data": {
            "text/plain": [
              "<IPython.core.display.HTML object>"
            ],
            "text/html": [
              "<font color=\"green\"> 219&nbsp &nbsp  Acostado   &nbsp &nbsp &nbsp  Acostado</font>"
            ]
          },
          "metadata": {}
        },
        {
          "output_type": "display_data",
          "data": {
            "text/plain": [
              "<IPython.core.display.HTML object>"
            ],
            "text/html": [
              "<font color=\"green\"> 220&nbsp &nbsp  Acostado   &nbsp &nbsp &nbsp  Acostado</font>"
            ]
          },
          "metadata": {}
        },
        {
          "output_type": "display_data",
          "data": {
            "text/plain": [
              "<IPython.core.display.HTML object>"
            ],
            "text/html": [
              "<font color=\"green\"> 221&nbsp &nbsp  Acostado   &nbsp &nbsp &nbsp  Acostado</font>"
            ]
          },
          "metadata": {}
        },
        {
          "output_type": "display_data",
          "data": {
            "text/plain": [
              "<IPython.core.display.HTML object>"
            ],
            "text/html": [
              "<font color=\"green\"> 222&nbsp &nbsp  Acostado   &nbsp &nbsp &nbsp  Acostado</font>"
            ]
          },
          "metadata": {}
        },
        {
          "output_type": "display_data",
          "data": {
            "text/plain": [
              "<IPython.core.display.HTML object>"
            ],
            "text/html": [
              "<font color=\"green\"> 223&nbsp &nbsp  Acostado   &nbsp &nbsp &nbsp  Acostado</font>"
            ]
          },
          "metadata": {}
        },
        {
          "output_type": "display_data",
          "data": {
            "text/plain": [
              "<IPython.core.display.HTML object>"
            ],
            "text/html": [
              "<font color=\"green\"> 224&nbsp &nbsp  Acostado   &nbsp &nbsp &nbsp  Acostado</font>"
            ]
          },
          "metadata": {}
        },
        {
          "output_type": "display_data",
          "data": {
            "text/plain": [
              "<IPython.core.display.HTML object>"
            ],
            "text/html": [
              "<font color=\"green\"> 225&nbsp &nbsp  Acostado   &nbsp &nbsp &nbsp  Acostado</font>"
            ]
          },
          "metadata": {}
        },
        {
          "output_type": "display_data",
          "data": {
            "text/plain": [
              "<IPython.core.display.HTML object>"
            ],
            "text/html": [
              "<font color=\"green\"> 226&nbsp &nbsp  Acostado   &nbsp &nbsp &nbsp  Acostado</font>"
            ]
          },
          "metadata": {}
        },
        {
          "output_type": "display_data",
          "data": {
            "text/plain": [
              "<IPython.core.display.HTML object>"
            ],
            "text/html": [
              "<font color=\"green\"> 227&nbsp &nbsp  Acostado   &nbsp &nbsp &nbsp  Acostado</font>"
            ]
          },
          "metadata": {}
        },
        {
          "output_type": "display_data",
          "data": {
            "text/plain": [
              "<IPython.core.display.HTML object>"
            ],
            "text/html": [
              "<font color=\"green\"> 228&nbsp &nbsp  Caminar   &nbsp &nbsp &nbsp  Caminar</font>"
            ]
          },
          "metadata": {}
        },
        {
          "output_type": "display_data",
          "data": {
            "text/plain": [
              "<IPython.core.display.HTML object>"
            ],
            "text/html": [
              "<font color=\"green\"> 229&nbsp &nbsp  Caminar   &nbsp &nbsp &nbsp  Caminar</font>"
            ]
          },
          "metadata": {}
        },
        {
          "output_type": "display_data",
          "data": {
            "text/plain": [
              "<IPython.core.display.HTML object>"
            ],
            "text/html": [
              "<font color=\"green\"> 230&nbsp &nbsp  Caminar   &nbsp &nbsp &nbsp  Caminar</font>"
            ]
          },
          "metadata": {}
        },
        {
          "output_type": "display_data",
          "data": {
            "text/plain": [
              "<IPython.core.display.HTML object>"
            ],
            "text/html": [
              "<font color=\"green\"> 231&nbsp &nbsp  Caminar   &nbsp &nbsp &nbsp  Caminar</font>"
            ]
          },
          "metadata": {}
        },
        {
          "output_type": "display_data",
          "data": {
            "text/plain": [
              "<IPython.core.display.HTML object>"
            ],
            "text/html": [
              "<font color=\"green\"> 232&nbsp &nbsp  Caminar   &nbsp &nbsp &nbsp  Caminar</font>"
            ]
          },
          "metadata": {}
        },
        {
          "output_type": "display_data",
          "data": {
            "text/plain": [
              "<IPython.core.display.HTML object>"
            ],
            "text/html": [
              "<font color=\"green\"> 233&nbsp &nbsp  Caminar   &nbsp &nbsp &nbsp  Caminar</font>"
            ]
          },
          "metadata": {}
        },
        {
          "output_type": "display_data",
          "data": {
            "text/plain": [
              "<IPython.core.display.HTML object>"
            ],
            "text/html": [
              "<font color=\"green\"> 234&nbsp &nbsp  Caminar   &nbsp &nbsp &nbsp  Caminar</font>"
            ]
          },
          "metadata": {}
        },
        {
          "output_type": "display_data",
          "data": {
            "text/plain": [
              "<IPython.core.display.HTML object>"
            ],
            "text/html": [
              "<font color=\"green\"> 235&nbsp &nbsp  Caminar   &nbsp &nbsp &nbsp  Caminar</font>"
            ]
          },
          "metadata": {}
        },
        {
          "output_type": "display_data",
          "data": {
            "text/plain": [
              "<IPython.core.display.HTML object>"
            ],
            "text/html": [
              "<font color=\"green\"> 236&nbsp &nbsp  Caminar   &nbsp &nbsp &nbsp  Caminar</font>"
            ]
          },
          "metadata": {}
        },
        {
          "output_type": "display_data",
          "data": {
            "text/plain": [
              "<IPython.core.display.HTML object>"
            ],
            "text/html": [
              "<font color=\"green\"> 237&nbsp &nbsp  Caminar   &nbsp &nbsp &nbsp  Caminar</font>"
            ]
          },
          "metadata": {}
        },
        {
          "output_type": "display_data",
          "data": {
            "text/plain": [
              "<IPython.core.display.HTML object>"
            ],
            "text/html": [
              "<font color=\"green\"> 238&nbsp &nbsp  Caminar   &nbsp &nbsp &nbsp  Caminar</font>"
            ]
          },
          "metadata": {}
        },
        {
          "output_type": "display_data",
          "data": {
            "text/plain": [
              "<IPython.core.display.HTML object>"
            ],
            "text/html": [
              "<font color=\"green\"> 239&nbsp &nbsp  Caminar   &nbsp &nbsp &nbsp  Caminar</font>"
            ]
          },
          "metadata": {}
        },
        {
          "output_type": "display_data",
          "data": {
            "text/plain": [
              "<IPython.core.display.HTML object>"
            ],
            "text/html": [
              "<font color=\"green\"> 240&nbsp &nbsp  Caminar   &nbsp &nbsp &nbsp  Caminar</font>"
            ]
          },
          "metadata": {}
        },
        {
          "output_type": "display_data",
          "data": {
            "text/plain": [
              "<IPython.core.display.HTML object>"
            ],
            "text/html": [
              "<font color=\"green\"> 241&nbsp &nbsp  Caminar   &nbsp &nbsp &nbsp  Caminar</font>"
            ]
          },
          "metadata": {}
        },
        {
          "output_type": "display_data",
          "data": {
            "text/plain": [
              "<IPython.core.display.HTML object>"
            ],
            "text/html": [
              "<font color=\"green\"> 242&nbsp &nbsp  Caminar   &nbsp &nbsp &nbsp  Caminar</font>"
            ]
          },
          "metadata": {}
        },
        {
          "output_type": "display_data",
          "data": {
            "text/plain": [
              "<IPython.core.display.HTML object>"
            ],
            "text/html": [
              "<font color=\"green\"> 243&nbsp &nbsp  Caminar   &nbsp &nbsp &nbsp  Caminar</font>"
            ]
          },
          "metadata": {}
        },
        {
          "output_type": "display_data",
          "data": {
            "text/plain": [
              "<IPython.core.display.HTML object>"
            ],
            "text/html": [
              "<font color=\"green\"> 244&nbsp &nbsp  Caminar   &nbsp &nbsp &nbsp  Caminar</font>"
            ]
          },
          "metadata": {}
        },
        {
          "output_type": "display_data",
          "data": {
            "text/plain": [
              "<IPython.core.display.HTML object>"
            ],
            "text/html": [
              "<font color=\"green\"> 245&nbsp &nbsp  Caminar   &nbsp &nbsp &nbsp  Caminar</font>"
            ]
          },
          "metadata": {}
        },
        {
          "output_type": "display_data",
          "data": {
            "text/plain": [
              "<IPython.core.display.HTML object>"
            ],
            "text/html": [
              "<font color=\"green\"> 246&nbsp &nbsp  Caminar   &nbsp &nbsp &nbsp  Caminar</font>"
            ]
          },
          "metadata": {}
        },
        {
          "output_type": "display_data",
          "data": {
            "text/plain": [
              "<IPython.core.display.HTML object>"
            ],
            "text/html": [
              "<font color=\"green\"> 247&nbsp &nbsp  Caminar   &nbsp &nbsp &nbsp  Caminar</font>"
            ]
          },
          "metadata": {}
        },
        {
          "output_type": "display_data",
          "data": {
            "text/plain": [
              "<IPython.core.display.HTML object>"
            ],
            "text/html": [
              "<font color=\"green\"> 248&nbsp &nbsp  Caminar   &nbsp &nbsp &nbsp  Caminar</font>"
            ]
          },
          "metadata": {}
        },
        {
          "output_type": "display_data",
          "data": {
            "text/plain": [
              "<IPython.core.display.HTML object>"
            ],
            "text/html": [
              "<font color=\"green\"> 249&nbsp &nbsp  Caminar   &nbsp &nbsp &nbsp  Caminar</font>"
            ]
          },
          "metadata": {}
        },
        {
          "output_type": "display_data",
          "data": {
            "text/plain": [
              "<IPython.core.display.HTML object>"
            ],
            "text/html": [
              "<font color=\"green\"> 250&nbsp &nbsp  Caminar   &nbsp &nbsp &nbsp  Caminar</font>"
            ]
          },
          "metadata": {}
        },
        {
          "output_type": "display_data",
          "data": {
            "text/plain": [
              "<IPython.core.display.HTML object>"
            ],
            "text/html": [
              "<font color=\"green\"> 251&nbsp &nbsp  Caminar   &nbsp &nbsp &nbsp  Caminar</font>"
            ]
          },
          "metadata": {}
        },
        {
          "output_type": "display_data",
          "data": {
            "text/plain": [
              "<IPython.core.display.HTML object>"
            ],
            "text/html": [
              "<font color=\"green\"> 252&nbsp &nbsp  Caminar   &nbsp &nbsp &nbsp  Caminar</font>"
            ]
          },
          "metadata": {}
        },
        {
          "output_type": "display_data",
          "data": {
            "text/plain": [
              "<IPython.core.display.HTML object>"
            ],
            "text/html": [
              "<font color=\"green\"> 253&nbsp &nbsp  Caminar   &nbsp &nbsp &nbsp  Caminar</font>"
            ]
          },
          "metadata": {}
        },
        {
          "output_type": "display_data",
          "data": {
            "text/plain": [
              "<IPython.core.display.HTML object>"
            ],
            "text/html": [
              "<font color=\"green\"> 254&nbsp &nbsp  Caminar   &nbsp &nbsp &nbsp  Caminar</font>"
            ]
          },
          "metadata": {}
        },
        {
          "output_type": "display_data",
          "data": {
            "text/plain": [
              "<IPython.core.display.HTML object>"
            ],
            "text/html": [
              "<font color=\"green\"> 255&nbsp &nbsp  Caminar   &nbsp &nbsp &nbsp  Caminar</font>"
            ]
          },
          "metadata": {}
        },
        {
          "output_type": "display_data",
          "data": {
            "text/plain": [
              "<IPython.core.display.HTML object>"
            ],
            "text/html": [
              "<font color=\"green\"> 256&nbsp &nbsp  Caminar   &nbsp &nbsp &nbsp  Caminar</font>"
            ]
          },
          "metadata": {}
        },
        {
          "output_type": "display_data",
          "data": {
            "text/plain": [
              "<IPython.core.display.HTML object>"
            ],
            "text/html": [
              "<font color=\"green\"> 257&nbsp &nbsp  Caminar Abajo   &nbsp &nbsp &nbsp  Caminar Abajo</font>"
            ]
          },
          "metadata": {}
        },
        {
          "output_type": "display_data",
          "data": {
            "text/plain": [
              "<IPython.core.display.HTML object>"
            ],
            "text/html": [
              "<font color=\"green\"> 258&nbsp &nbsp  Caminar Abajo   &nbsp &nbsp &nbsp  Caminar Abajo</font>"
            ]
          },
          "metadata": {}
        },
        {
          "output_type": "display_data",
          "data": {
            "text/plain": [
              "<IPython.core.display.HTML object>"
            ],
            "text/html": [
              "<font color=\"green\"> 259&nbsp &nbsp  Caminar Abajo   &nbsp &nbsp &nbsp  Caminar Abajo</font>"
            ]
          },
          "metadata": {}
        },
        {
          "output_type": "display_data",
          "data": {
            "text/plain": [
              "<IPython.core.display.HTML object>"
            ],
            "text/html": [
              "<font color=\"green\"> 260&nbsp &nbsp  Caminar Abajo   &nbsp &nbsp &nbsp  Caminar Abajo</font>"
            ]
          },
          "metadata": {}
        },
        {
          "output_type": "display_data",
          "data": {
            "text/plain": [
              "<IPython.core.display.HTML object>"
            ],
            "text/html": [
              "<font color=\"green\"> 261&nbsp &nbsp  Caminar Abajo   &nbsp &nbsp &nbsp  Caminar Abajo</font>"
            ]
          },
          "metadata": {}
        },
        {
          "output_type": "display_data",
          "data": {
            "text/plain": [
              "<IPython.core.display.HTML object>"
            ],
            "text/html": [
              "<font color=\"green\"> 262&nbsp &nbsp  Caminar Abajo   &nbsp &nbsp &nbsp  Caminar Abajo</font>"
            ]
          },
          "metadata": {}
        },
        {
          "output_type": "display_data",
          "data": {
            "text/plain": [
              "<IPython.core.display.HTML object>"
            ],
            "text/html": [
              "<font color=\"green\"> 263&nbsp &nbsp  Caminar Abajo   &nbsp &nbsp &nbsp  Caminar Abajo</font>"
            ]
          },
          "metadata": {}
        },
        {
          "output_type": "display_data",
          "data": {
            "text/plain": [
              "<IPython.core.display.HTML object>"
            ],
            "text/html": [
              "<font color=\"green\"> 264&nbsp &nbsp  Caminar Abajo   &nbsp &nbsp &nbsp  Caminar Abajo</font>"
            ]
          },
          "metadata": {}
        },
        {
          "output_type": "display_data",
          "data": {
            "text/plain": [
              "<IPython.core.display.HTML object>"
            ],
            "text/html": [
              "<font color=\"green\"> 265&nbsp &nbsp  Caminar Abajo   &nbsp &nbsp &nbsp  Caminar Abajo</font>"
            ]
          },
          "metadata": {}
        },
        {
          "output_type": "display_data",
          "data": {
            "text/plain": [
              "<IPython.core.display.HTML object>"
            ],
            "text/html": [
              "<font color=\"green\"> 266&nbsp &nbsp  Caminar Abajo   &nbsp &nbsp &nbsp  Caminar Abajo</font>"
            ]
          },
          "metadata": {}
        },
        {
          "output_type": "display_data",
          "data": {
            "text/plain": [
              "<IPython.core.display.HTML object>"
            ],
            "text/html": [
              "<font color=\"green\"> 267&nbsp &nbsp  Caminar Abajo   &nbsp &nbsp &nbsp  Caminar Abajo</font>"
            ]
          },
          "metadata": {}
        },
        {
          "output_type": "display_data",
          "data": {
            "text/plain": [
              "<IPython.core.display.HTML object>"
            ],
            "text/html": [
              "<font color=\"green\"> 268&nbsp &nbsp  Caminar Abajo   &nbsp &nbsp &nbsp  Caminar Abajo</font>"
            ]
          },
          "metadata": {}
        },
        {
          "output_type": "display_data",
          "data": {
            "text/plain": [
              "<IPython.core.display.HTML object>"
            ],
            "text/html": [
              "<font color=\"green\"> 269&nbsp &nbsp  Caminar Abajo   &nbsp &nbsp &nbsp  Caminar Abajo</font>"
            ]
          },
          "metadata": {}
        },
        {
          "output_type": "display_data",
          "data": {
            "text/plain": [
              "<IPython.core.display.HTML object>"
            ],
            "text/html": [
              "<font color=\"green\"> 270&nbsp &nbsp  Caminar Abajo   &nbsp &nbsp &nbsp  Caminar Abajo</font>"
            ]
          },
          "metadata": {}
        },
        {
          "output_type": "display_data",
          "data": {
            "text/plain": [
              "<IPython.core.display.HTML object>"
            ],
            "text/html": [
              "<font color=\"green\"> 271&nbsp &nbsp  Caminar Abajo   &nbsp &nbsp &nbsp  Caminar Abajo</font>"
            ]
          },
          "metadata": {}
        },
        {
          "output_type": "display_data",
          "data": {
            "text/plain": [
              "<IPython.core.display.HTML object>"
            ],
            "text/html": [
              "<font color=\"green\"> 272&nbsp &nbsp  Caminar Abajo   &nbsp &nbsp &nbsp  Caminar Abajo</font>"
            ]
          },
          "metadata": {}
        },
        {
          "output_type": "display_data",
          "data": {
            "text/plain": [
              "<IPython.core.display.HTML object>"
            ],
            "text/html": [
              "<font color=\"green\"> 273&nbsp &nbsp  Caminar Abajo   &nbsp &nbsp &nbsp  Caminar Abajo</font>"
            ]
          },
          "metadata": {}
        },
        {
          "output_type": "display_data",
          "data": {
            "text/plain": [
              "<IPython.core.display.HTML object>"
            ],
            "text/html": [
              "<font color=\"green\"> 274&nbsp &nbsp  Caminar Abajo   &nbsp &nbsp &nbsp  Caminar Abajo</font>"
            ]
          },
          "metadata": {}
        },
        {
          "output_type": "display_data",
          "data": {
            "text/plain": [
              "<IPython.core.display.HTML object>"
            ],
            "text/html": [
              "<font color=\"green\"> 275&nbsp &nbsp  Caminar Abajo   &nbsp &nbsp &nbsp  Caminar Abajo</font>"
            ]
          },
          "metadata": {}
        },
        {
          "output_type": "display_data",
          "data": {
            "text/plain": [
              "<IPython.core.display.HTML object>"
            ],
            "text/html": [
              "<font color=\"green\"> 276&nbsp &nbsp  Caminar Abajo   &nbsp &nbsp &nbsp  Caminar Abajo</font>"
            ]
          },
          "metadata": {}
        },
        {
          "output_type": "display_data",
          "data": {
            "text/plain": [
              "<IPython.core.display.HTML object>"
            ],
            "text/html": [
              "<font color=\"green\"> 277&nbsp &nbsp  Caminar Abajo   &nbsp &nbsp &nbsp  Caminar Abajo</font>"
            ]
          },
          "metadata": {}
        },
        {
          "output_type": "display_data",
          "data": {
            "text/plain": [
              "<IPython.core.display.HTML object>"
            ],
            "text/html": [
              "<font color=\"green\"> 278&nbsp &nbsp  Caminar Abajo   &nbsp &nbsp &nbsp  Caminar Abajo</font>"
            ]
          },
          "metadata": {}
        },
        {
          "output_type": "display_data",
          "data": {
            "text/plain": [
              "<IPython.core.display.HTML object>"
            ],
            "text/html": [
              "<font color=\"green\"> 279&nbsp &nbsp  Caminar Abajo   &nbsp &nbsp &nbsp  Caminar Abajo</font>"
            ]
          },
          "metadata": {}
        },
        {
          "output_type": "display_data",
          "data": {
            "text/plain": [
              "<IPython.core.display.HTML object>"
            ],
            "text/html": [
              "<font color=\"green\"> 280&nbsp &nbsp  Caminar Arriba   &nbsp &nbsp &nbsp  Caminar Arriba</font>"
            ]
          },
          "metadata": {}
        },
        {
          "output_type": "display_data",
          "data": {
            "text/plain": [
              "<IPython.core.display.HTML object>"
            ],
            "text/html": [
              "<font color=\"green\"> 281&nbsp &nbsp  Caminar Arriba   &nbsp &nbsp &nbsp  Caminar Arriba</font>"
            ]
          },
          "metadata": {}
        },
        {
          "output_type": "display_data",
          "data": {
            "text/plain": [
              "<IPython.core.display.HTML object>"
            ],
            "text/html": [
              "<font color=\"green\"> 282&nbsp &nbsp  Caminar Arriba   &nbsp &nbsp &nbsp  Caminar Arriba</font>"
            ]
          },
          "metadata": {}
        },
        {
          "output_type": "display_data",
          "data": {
            "text/plain": [
              "<IPython.core.display.HTML object>"
            ],
            "text/html": [
              "<font color=\"green\"> 283&nbsp &nbsp  Caminar Arriba   &nbsp &nbsp &nbsp  Caminar Arriba</font>"
            ]
          },
          "metadata": {}
        },
        {
          "output_type": "display_data",
          "data": {
            "text/plain": [
              "<IPython.core.display.HTML object>"
            ],
            "text/html": [
              "<font color=\"green\"> 284&nbsp &nbsp  Caminar Arriba   &nbsp &nbsp &nbsp  Caminar Arriba</font>"
            ]
          },
          "metadata": {}
        },
        {
          "output_type": "display_data",
          "data": {
            "text/plain": [
              "<IPython.core.display.HTML object>"
            ],
            "text/html": [
              "<font color=\"green\"> 285&nbsp &nbsp  Caminar Arriba   &nbsp &nbsp &nbsp  Caminar Arriba</font>"
            ]
          },
          "metadata": {}
        },
        {
          "output_type": "display_data",
          "data": {
            "text/plain": [
              "<IPython.core.display.HTML object>"
            ],
            "text/html": [
              "<font color=\"green\"> 286&nbsp &nbsp  Caminar Arriba   &nbsp &nbsp &nbsp  Caminar Arriba</font>"
            ]
          },
          "metadata": {}
        },
        {
          "output_type": "display_data",
          "data": {
            "text/plain": [
              "<IPython.core.display.HTML object>"
            ],
            "text/html": [
              "<font color=\"green\"> 287&nbsp &nbsp  Caminar Arriba   &nbsp &nbsp &nbsp  Caminar Arriba</font>"
            ]
          },
          "metadata": {}
        },
        {
          "output_type": "display_data",
          "data": {
            "text/plain": [
              "<IPython.core.display.HTML object>"
            ],
            "text/html": [
              "<font color=\"green\"> 288&nbsp &nbsp  Caminar Arriba   &nbsp &nbsp &nbsp  Caminar Arriba</font>"
            ]
          },
          "metadata": {}
        },
        {
          "output_type": "display_data",
          "data": {
            "text/plain": [
              "<IPython.core.display.HTML object>"
            ],
            "text/html": [
              "<font color=\"green\"> 289&nbsp &nbsp  Caminar Arriba   &nbsp &nbsp &nbsp  Caminar Arriba</font>"
            ]
          },
          "metadata": {}
        },
        {
          "output_type": "display_data",
          "data": {
            "text/plain": [
              "<IPython.core.display.HTML object>"
            ],
            "text/html": [
              "<font color=\"green\"> 290&nbsp &nbsp  Caminar Arriba   &nbsp &nbsp &nbsp  Caminar Arriba</font>"
            ]
          },
          "metadata": {}
        },
        {
          "output_type": "display_data",
          "data": {
            "text/plain": [
              "<IPython.core.display.HTML object>"
            ],
            "text/html": [
              "<font color=\"green\"> 291&nbsp &nbsp  Caminar Arriba   &nbsp &nbsp &nbsp  Caminar Arriba</font>"
            ]
          },
          "metadata": {}
        },
        {
          "output_type": "display_data",
          "data": {
            "text/plain": [
              "<IPython.core.display.HTML object>"
            ],
            "text/html": [
              "<font color=\"green\"> 292&nbsp &nbsp  Caminar Arriba   &nbsp &nbsp &nbsp  Caminar Arriba</font>"
            ]
          },
          "metadata": {}
        },
        {
          "output_type": "display_data",
          "data": {
            "text/plain": [
              "<IPython.core.display.HTML object>"
            ],
            "text/html": [
              "<font color=\"green\"> 293&nbsp &nbsp  Caminar Arriba   &nbsp &nbsp &nbsp  Caminar Arriba</font>"
            ]
          },
          "metadata": {}
        },
        {
          "output_type": "display_data",
          "data": {
            "text/plain": [
              "<IPython.core.display.HTML object>"
            ],
            "text/html": [
              "<font color=\"green\"> 294&nbsp &nbsp  Caminar Arriba   &nbsp &nbsp &nbsp  Caminar Arriba</font>"
            ]
          },
          "metadata": {}
        },
        {
          "output_type": "display_data",
          "data": {
            "text/plain": [
              "<IPython.core.display.HTML object>"
            ],
            "text/html": [
              "<font color=\"green\"> 295&nbsp &nbsp  Caminar Arriba   &nbsp &nbsp &nbsp  Caminar Arriba</font>"
            ]
          },
          "metadata": {}
        },
        {
          "output_type": "display_data",
          "data": {
            "text/plain": [
              "<IPython.core.display.HTML object>"
            ],
            "text/html": [
              "<font color=\"green\"> 296&nbsp &nbsp  Caminar Arriba   &nbsp &nbsp &nbsp  Caminar Arriba</font>"
            ]
          },
          "metadata": {}
        },
        {
          "output_type": "display_data",
          "data": {
            "text/plain": [
              "<IPython.core.display.HTML object>"
            ],
            "text/html": [
              "<font color=\"green\"> 297&nbsp &nbsp  Caminar Arriba   &nbsp &nbsp &nbsp  Caminar Arriba</font>"
            ]
          },
          "metadata": {}
        },
        {
          "output_type": "display_data",
          "data": {
            "text/plain": [
              "<IPython.core.display.HTML object>"
            ],
            "text/html": [
              "<font color=\"green\"> 298&nbsp &nbsp  Caminar Arriba   &nbsp &nbsp &nbsp  Caminar Arriba</font>"
            ]
          },
          "metadata": {}
        },
        {
          "output_type": "display_data",
          "data": {
            "text/plain": [
              "<IPython.core.display.HTML object>"
            ],
            "text/html": [
              "<font color=\"green\"> 299&nbsp &nbsp  Caminar Arriba   &nbsp &nbsp &nbsp  Caminar Arriba</font>"
            ]
          },
          "metadata": {}
        },
        {
          "output_type": "display_data",
          "data": {
            "text/plain": [
              "<IPython.core.display.HTML object>"
            ],
            "text/html": [
              "<font color=\"green\"> 300&nbsp &nbsp  Caminar Arriba   &nbsp &nbsp &nbsp  Caminar Arriba</font>"
            ]
          },
          "metadata": {}
        },
        {
          "output_type": "display_data",
          "data": {
            "text/plain": [
              "<IPython.core.display.HTML object>"
            ],
            "text/html": [
              "<font color=\"green\"> 301&nbsp &nbsp  Caminar Arriba   &nbsp &nbsp &nbsp  Caminar Arriba</font>"
            ]
          },
          "metadata": {}
        },
        {
          "output_type": "display_data",
          "data": {
            "text/plain": [
              "<IPython.core.display.HTML object>"
            ],
            "text/html": [
              "<font color=\"green\"> 302&nbsp &nbsp  Caminar Arriba   &nbsp &nbsp &nbsp  Caminar Arriba</font>"
            ]
          },
          "metadata": {}
        },
        {
          "output_type": "display_data",
          "data": {
            "text/plain": [
              "<IPython.core.display.HTML object>"
            ],
            "text/html": [
              "<font color=\"green\"> 303&nbsp &nbsp  De pie   &nbsp &nbsp &nbsp  De pie</font>"
            ]
          },
          "metadata": {}
        },
        {
          "output_type": "display_data",
          "data": {
            "text/plain": [
              "<IPython.core.display.HTML object>"
            ],
            "text/html": [
              "<font color=\"green\"> 304&nbsp &nbsp  De pie   &nbsp &nbsp &nbsp  De pie</font>"
            ]
          },
          "metadata": {}
        },
        {
          "output_type": "display_data",
          "data": {
            "text/plain": [
              "<IPython.core.display.HTML object>"
            ],
            "text/html": [
              "<font color=\"green\"> 305&nbsp &nbsp  De pie   &nbsp &nbsp &nbsp  De pie</font>"
            ]
          },
          "metadata": {}
        },
        {
          "output_type": "display_data",
          "data": {
            "text/plain": [
              "<IPython.core.display.HTML object>"
            ],
            "text/html": [
              "<font color=\"green\"> 306&nbsp &nbsp  De pie   &nbsp &nbsp &nbsp  De pie</font>"
            ]
          },
          "metadata": {}
        },
        {
          "output_type": "display_data",
          "data": {
            "text/plain": [
              "<IPython.core.display.HTML object>"
            ],
            "text/html": [
              "<font color=\"green\"> 307&nbsp &nbsp  De pie   &nbsp &nbsp &nbsp  De pie</font>"
            ]
          },
          "metadata": {}
        },
        {
          "output_type": "display_data",
          "data": {
            "text/plain": [
              "<IPython.core.display.HTML object>"
            ],
            "text/html": [
              "<font color=\"green\"> 308&nbsp &nbsp  De pie   &nbsp &nbsp &nbsp  De pie</font>"
            ]
          },
          "metadata": {}
        },
        {
          "output_type": "display_data",
          "data": {
            "text/plain": [
              "<IPython.core.display.HTML object>"
            ],
            "text/html": [
              "<font color=\"green\"> 309&nbsp &nbsp  De pie   &nbsp &nbsp &nbsp  De pie</font>"
            ]
          },
          "metadata": {}
        },
        {
          "output_type": "display_data",
          "data": {
            "text/plain": [
              "<IPython.core.display.HTML object>"
            ],
            "text/html": [
              "<font color=\"green\"> 310&nbsp &nbsp  De pie   &nbsp &nbsp &nbsp  De pie</font>"
            ]
          },
          "metadata": {}
        },
        {
          "output_type": "display_data",
          "data": {
            "text/plain": [
              "<IPython.core.display.HTML object>"
            ],
            "text/html": [
              "<font color=\"green\"> 311&nbsp &nbsp  De pie   &nbsp &nbsp &nbsp  De pie</font>"
            ]
          },
          "metadata": {}
        },
        {
          "output_type": "display_data",
          "data": {
            "text/plain": [
              "<IPython.core.display.HTML object>"
            ],
            "text/html": [
              "<font color=\"green\"> 312&nbsp &nbsp  De pie   &nbsp &nbsp &nbsp  De pie</font>"
            ]
          },
          "metadata": {}
        },
        {
          "output_type": "display_data",
          "data": {
            "text/plain": [
              "<IPython.core.display.HTML object>"
            ],
            "text/html": [
              "<font color=\"green\"> 313&nbsp &nbsp  De pie   &nbsp &nbsp &nbsp  De pie</font>"
            ]
          },
          "metadata": {}
        },
        {
          "output_type": "display_data",
          "data": {
            "text/plain": [
              "<IPython.core.display.HTML object>"
            ],
            "text/html": [
              "<font color=\"green\"> 314&nbsp &nbsp  De pie   &nbsp &nbsp &nbsp  De pie</font>"
            ]
          },
          "metadata": {}
        },
        {
          "output_type": "display_data",
          "data": {
            "text/plain": [
              "<IPython.core.display.HTML object>"
            ],
            "text/html": [
              "<font color=\"green\"> 315&nbsp &nbsp  De pie   &nbsp &nbsp &nbsp  De pie</font>"
            ]
          },
          "metadata": {}
        },
        {
          "output_type": "display_data",
          "data": {
            "text/plain": [
              "<IPython.core.display.HTML object>"
            ],
            "text/html": [
              "<font color=\"green\"> 316&nbsp &nbsp  De pie   &nbsp &nbsp &nbsp  De pie</font>"
            ]
          },
          "metadata": {}
        },
        {
          "output_type": "display_data",
          "data": {
            "text/plain": [
              "<IPython.core.display.HTML object>"
            ],
            "text/html": [
              "<font color=\"green\"> 317&nbsp &nbsp  De pie   &nbsp &nbsp &nbsp  De pie</font>"
            ]
          },
          "metadata": {}
        },
        {
          "output_type": "display_data",
          "data": {
            "text/plain": [
              "<IPython.core.display.HTML object>"
            ],
            "text/html": [
              "<font color=\"green\"> 318&nbsp &nbsp  De pie   &nbsp &nbsp &nbsp  De pie</font>"
            ]
          },
          "metadata": {}
        },
        {
          "output_type": "display_data",
          "data": {
            "text/plain": [
              "<IPython.core.display.HTML object>"
            ],
            "text/html": [
              "<font color=\"red\">  319  &nbsp &nbsp De pie   &nbsp &nbsp &nbsp Sentado</font>"
            ]
          },
          "metadata": {}
        },
        {
          "output_type": "display_data",
          "data": {
            "text/plain": [
              "<IPython.core.display.HTML object>"
            ],
            "text/html": [
              "<font color=\"green\"> 320&nbsp &nbsp  De pie   &nbsp &nbsp &nbsp  De pie</font>"
            ]
          },
          "metadata": {}
        },
        {
          "output_type": "display_data",
          "data": {
            "text/plain": [
              "<IPython.core.display.HTML object>"
            ],
            "text/html": [
              "<font color=\"green\"> 321&nbsp &nbsp  De pie   &nbsp &nbsp &nbsp  De pie</font>"
            ]
          },
          "metadata": {}
        },
        {
          "output_type": "display_data",
          "data": {
            "text/plain": [
              "<IPython.core.display.HTML object>"
            ],
            "text/html": [
              "<font color=\"green\"> 322&nbsp &nbsp  De pie   &nbsp &nbsp &nbsp  De pie</font>"
            ]
          },
          "metadata": {}
        },
        {
          "output_type": "display_data",
          "data": {
            "text/plain": [
              "<IPython.core.display.HTML object>"
            ],
            "text/html": [
              "<font color=\"green\"> 323&nbsp &nbsp  De pie   &nbsp &nbsp &nbsp  De pie</font>"
            ]
          },
          "metadata": {}
        },
        {
          "output_type": "display_data",
          "data": {
            "text/plain": [
              "<IPython.core.display.HTML object>"
            ],
            "text/html": [
              "<font color=\"green\"> 324&nbsp &nbsp  De pie   &nbsp &nbsp &nbsp  De pie</font>"
            ]
          },
          "metadata": {}
        },
        {
          "output_type": "display_data",
          "data": {
            "text/plain": [
              "<IPython.core.display.HTML object>"
            ],
            "text/html": [
              "<font color=\"green\"> 325&nbsp &nbsp  De pie   &nbsp &nbsp &nbsp  De pie</font>"
            ]
          },
          "metadata": {}
        },
        {
          "output_type": "display_data",
          "data": {
            "text/plain": [
              "<IPython.core.display.HTML object>"
            ],
            "text/html": [
              "<font color=\"green\"> 326&nbsp &nbsp  De pie   &nbsp &nbsp &nbsp  De pie</font>"
            ]
          },
          "metadata": {}
        },
        {
          "output_type": "display_data",
          "data": {
            "text/plain": [
              "<IPython.core.display.HTML object>"
            ],
            "text/html": [
              "<font color=\"green\"> 327&nbsp &nbsp  De pie   &nbsp &nbsp &nbsp  De pie</font>"
            ]
          },
          "metadata": {}
        },
        {
          "output_type": "display_data",
          "data": {
            "text/plain": [
              "<IPython.core.display.HTML object>"
            ],
            "text/html": [
              "<font color=\"green\"> 328&nbsp &nbsp  De pie   &nbsp &nbsp &nbsp  De pie</font>"
            ]
          },
          "metadata": {}
        },
        {
          "output_type": "display_data",
          "data": {
            "text/plain": [
              "<IPython.core.display.HTML object>"
            ],
            "text/html": [
              "<font color=\"green\"> 329&nbsp &nbsp  De pie   &nbsp &nbsp &nbsp  De pie</font>"
            ]
          },
          "metadata": {}
        },
        {
          "output_type": "display_data",
          "data": {
            "text/plain": [
              "<IPython.core.display.HTML object>"
            ],
            "text/html": [
              "<font color=\"green\"> 330&nbsp &nbsp  De pie   &nbsp &nbsp &nbsp  De pie</font>"
            ]
          },
          "metadata": {}
        },
        {
          "output_type": "display_data",
          "data": {
            "text/plain": [
              "<IPython.core.display.HTML object>"
            ],
            "text/html": [
              "<font color=\"green\"> 331&nbsp &nbsp  Sentado   &nbsp &nbsp &nbsp  Sentado</font>"
            ]
          },
          "metadata": {}
        },
        {
          "output_type": "display_data",
          "data": {
            "text/plain": [
              "<IPython.core.display.HTML object>"
            ],
            "text/html": [
              "<font color=\"green\"> 332&nbsp &nbsp  Sentado   &nbsp &nbsp &nbsp  Sentado</font>"
            ]
          },
          "metadata": {}
        },
        {
          "output_type": "display_data",
          "data": {
            "text/plain": [
              "<IPython.core.display.HTML object>"
            ],
            "text/html": [
              "<font color=\"green\"> 333&nbsp &nbsp  Sentado   &nbsp &nbsp &nbsp  Sentado</font>"
            ]
          },
          "metadata": {}
        },
        {
          "output_type": "display_data",
          "data": {
            "text/plain": [
              "<IPython.core.display.HTML object>"
            ],
            "text/html": [
              "<font color=\"green\"> 334&nbsp &nbsp  Sentado   &nbsp &nbsp &nbsp  Sentado</font>"
            ]
          },
          "metadata": {}
        },
        {
          "output_type": "display_data",
          "data": {
            "text/plain": [
              "<IPython.core.display.HTML object>"
            ],
            "text/html": [
              "<font color=\"green\"> 335&nbsp &nbsp  Sentado   &nbsp &nbsp &nbsp  Sentado</font>"
            ]
          },
          "metadata": {}
        },
        {
          "output_type": "display_data",
          "data": {
            "text/plain": [
              "<IPython.core.display.HTML object>"
            ],
            "text/html": [
              "<font color=\"green\"> 336&nbsp &nbsp  Sentado   &nbsp &nbsp &nbsp  Sentado</font>"
            ]
          },
          "metadata": {}
        },
        {
          "output_type": "display_data",
          "data": {
            "text/plain": [
              "<IPython.core.display.HTML object>"
            ],
            "text/html": [
              "<font color=\"green\"> 337&nbsp &nbsp  Sentado   &nbsp &nbsp &nbsp  Sentado</font>"
            ]
          },
          "metadata": {}
        },
        {
          "output_type": "display_data",
          "data": {
            "text/plain": [
              "<IPython.core.display.HTML object>"
            ],
            "text/html": [
              "<font color=\"green\"> 338&nbsp &nbsp  Sentado   &nbsp &nbsp &nbsp  Sentado</font>"
            ]
          },
          "metadata": {}
        },
        {
          "output_type": "display_data",
          "data": {
            "text/plain": [
              "<IPython.core.display.HTML object>"
            ],
            "text/html": [
              "<font color=\"green\"> 339&nbsp &nbsp  Sentado   &nbsp &nbsp &nbsp  Sentado</font>"
            ]
          },
          "metadata": {}
        },
        {
          "output_type": "display_data",
          "data": {
            "text/plain": [
              "<IPython.core.display.HTML object>"
            ],
            "text/html": [
              "<font color=\"green\"> 340&nbsp &nbsp  Sentado   &nbsp &nbsp &nbsp  Sentado</font>"
            ]
          },
          "metadata": {}
        },
        {
          "output_type": "display_data",
          "data": {
            "text/plain": [
              "<IPython.core.display.HTML object>"
            ],
            "text/html": [
              "<font color=\"green\"> 341&nbsp &nbsp  Sentado   &nbsp &nbsp &nbsp  Sentado</font>"
            ]
          },
          "metadata": {}
        },
        {
          "output_type": "display_data",
          "data": {
            "text/plain": [
              "<IPython.core.display.HTML object>"
            ],
            "text/html": [
              "<font color=\"green\"> 342&nbsp &nbsp  Sentado   &nbsp &nbsp &nbsp  Sentado</font>"
            ]
          },
          "metadata": {}
        },
        {
          "output_type": "display_data",
          "data": {
            "text/plain": [
              "<IPython.core.display.HTML object>"
            ],
            "text/html": [
              "<font color=\"green\"> 343&nbsp &nbsp  Sentado   &nbsp &nbsp &nbsp  Sentado</font>"
            ]
          },
          "metadata": {}
        },
        {
          "output_type": "display_data",
          "data": {
            "text/plain": [
              "<IPython.core.display.HTML object>"
            ],
            "text/html": [
              "<font color=\"green\"> 344&nbsp &nbsp  Sentado   &nbsp &nbsp &nbsp  Sentado</font>"
            ]
          },
          "metadata": {}
        },
        {
          "output_type": "display_data",
          "data": {
            "text/plain": [
              "<IPython.core.display.HTML object>"
            ],
            "text/html": [
              "<font color=\"green\"> 345&nbsp &nbsp  Sentado   &nbsp &nbsp &nbsp  Sentado</font>"
            ]
          },
          "metadata": {}
        },
        {
          "output_type": "display_data",
          "data": {
            "text/plain": [
              "<IPython.core.display.HTML object>"
            ],
            "text/html": [
              "<font color=\"green\"> 346&nbsp &nbsp  Sentado   &nbsp &nbsp &nbsp  Sentado</font>"
            ]
          },
          "metadata": {}
        },
        {
          "output_type": "display_data",
          "data": {
            "text/plain": [
              "<IPython.core.display.HTML object>"
            ],
            "text/html": [
              "<font color=\"green\"> 347&nbsp &nbsp  Sentado   &nbsp &nbsp &nbsp  Sentado</font>"
            ]
          },
          "metadata": {}
        },
        {
          "output_type": "display_data",
          "data": {
            "text/plain": [
              "<IPython.core.display.HTML object>"
            ],
            "text/html": [
              "<font color=\"green\"> 348&nbsp &nbsp  Sentado   &nbsp &nbsp &nbsp  Sentado</font>"
            ]
          },
          "metadata": {}
        },
        {
          "output_type": "display_data",
          "data": {
            "text/plain": [
              "<IPython.core.display.HTML object>"
            ],
            "text/html": [
              "<font color=\"green\"> 349&nbsp &nbsp  Sentado   &nbsp &nbsp &nbsp  Sentado</font>"
            ]
          },
          "metadata": {}
        },
        {
          "output_type": "display_data",
          "data": {
            "text/plain": [
              "<IPython.core.display.HTML object>"
            ],
            "text/html": [
              "<font color=\"green\"> 350&nbsp &nbsp  Sentado   &nbsp &nbsp &nbsp  Sentado</font>"
            ]
          },
          "metadata": {}
        },
        {
          "output_type": "display_data",
          "data": {
            "text/plain": [
              "<IPython.core.display.HTML object>"
            ],
            "text/html": [
              "<font color=\"green\"> 351&nbsp &nbsp  Sentado   &nbsp &nbsp &nbsp  Sentado</font>"
            ]
          },
          "metadata": {}
        },
        {
          "output_type": "display_data",
          "data": {
            "text/plain": [
              "<IPython.core.display.HTML object>"
            ],
            "text/html": [
              "<font color=\"green\"> 352&nbsp &nbsp  Sentado   &nbsp &nbsp &nbsp  Sentado</font>"
            ]
          },
          "metadata": {}
        },
        {
          "output_type": "display_data",
          "data": {
            "text/plain": [
              "<IPython.core.display.HTML object>"
            ],
            "text/html": [
              "<font color=\"green\"> 353&nbsp &nbsp  Sentado   &nbsp &nbsp &nbsp  Sentado</font>"
            ]
          },
          "metadata": {}
        },
        {
          "output_type": "display_data",
          "data": {
            "text/plain": [
              "<IPython.core.display.HTML object>"
            ],
            "text/html": [
              "<font color=\"green\"> 354&nbsp &nbsp  Sentado   &nbsp &nbsp &nbsp  Sentado</font>"
            ]
          },
          "metadata": {}
        },
        {
          "output_type": "display_data",
          "data": {
            "text/plain": [
              "<IPython.core.display.HTML object>"
            ],
            "text/html": [
              "<font color=\"green\"> 355&nbsp &nbsp  Acostado   &nbsp &nbsp &nbsp  Acostado</font>"
            ]
          },
          "metadata": {}
        },
        {
          "output_type": "display_data",
          "data": {
            "text/plain": [
              "<IPython.core.display.HTML object>"
            ],
            "text/html": [
              "<font color=\"green\"> 356&nbsp &nbsp  Acostado   &nbsp &nbsp &nbsp  Acostado</font>"
            ]
          },
          "metadata": {}
        },
        {
          "output_type": "display_data",
          "data": {
            "text/plain": [
              "<IPython.core.display.HTML object>"
            ],
            "text/html": [
              "<font color=\"green\"> 357&nbsp &nbsp  Acostado   &nbsp &nbsp &nbsp  Acostado</font>"
            ]
          },
          "metadata": {}
        },
        {
          "output_type": "display_data",
          "data": {
            "text/plain": [
              "<IPython.core.display.HTML object>"
            ],
            "text/html": [
              "<font color=\"green\"> 358&nbsp &nbsp  Acostado   &nbsp &nbsp &nbsp  Acostado</font>"
            ]
          },
          "metadata": {}
        },
        {
          "output_type": "display_data",
          "data": {
            "text/plain": [
              "<IPython.core.display.HTML object>"
            ],
            "text/html": [
              "<font color=\"green\"> 359&nbsp &nbsp  Acostado   &nbsp &nbsp &nbsp  Acostado</font>"
            ]
          },
          "metadata": {}
        },
        {
          "output_type": "display_data",
          "data": {
            "text/plain": [
              "<IPython.core.display.HTML object>"
            ],
            "text/html": [
              "<font color=\"green\"> 360&nbsp &nbsp  Acostado   &nbsp &nbsp &nbsp  Acostado</font>"
            ]
          },
          "metadata": {}
        },
        {
          "output_type": "display_data",
          "data": {
            "text/plain": [
              "<IPython.core.display.HTML object>"
            ],
            "text/html": [
              "<font color=\"green\"> 361&nbsp &nbsp  Acostado   &nbsp &nbsp &nbsp  Acostado</font>"
            ]
          },
          "metadata": {}
        },
        {
          "output_type": "display_data",
          "data": {
            "text/plain": [
              "<IPython.core.display.HTML object>"
            ],
            "text/html": [
              "<font color=\"green\"> 362&nbsp &nbsp  Acostado   &nbsp &nbsp &nbsp  Acostado</font>"
            ]
          },
          "metadata": {}
        },
        {
          "output_type": "display_data",
          "data": {
            "text/plain": [
              "<IPython.core.display.HTML object>"
            ],
            "text/html": [
              "<font color=\"green\"> 363&nbsp &nbsp  Acostado   &nbsp &nbsp &nbsp  Acostado</font>"
            ]
          },
          "metadata": {}
        },
        {
          "output_type": "display_data",
          "data": {
            "text/plain": [
              "<IPython.core.display.HTML object>"
            ],
            "text/html": [
              "<font color=\"green\"> 364&nbsp &nbsp  Acostado   &nbsp &nbsp &nbsp  Acostado</font>"
            ]
          },
          "metadata": {}
        },
        {
          "output_type": "display_data",
          "data": {
            "text/plain": [
              "<IPython.core.display.HTML object>"
            ],
            "text/html": [
              "<font color=\"green\"> 365&nbsp &nbsp  Acostado   &nbsp &nbsp &nbsp  Acostado</font>"
            ]
          },
          "metadata": {}
        },
        {
          "output_type": "display_data",
          "data": {
            "text/plain": [
              "<IPython.core.display.HTML object>"
            ],
            "text/html": [
              "<font color=\"green\"> 366&nbsp &nbsp  Acostado   &nbsp &nbsp &nbsp  Acostado</font>"
            ]
          },
          "metadata": {}
        },
        {
          "output_type": "display_data",
          "data": {
            "text/plain": [
              "<IPython.core.display.HTML object>"
            ],
            "text/html": [
              "<font color=\"green\"> 367&nbsp &nbsp  Acostado   &nbsp &nbsp &nbsp  Acostado</font>"
            ]
          },
          "metadata": {}
        },
        {
          "output_type": "display_data",
          "data": {
            "text/plain": [
              "<IPython.core.display.HTML object>"
            ],
            "text/html": [
              "<font color=\"green\"> 368&nbsp &nbsp  Acostado   &nbsp &nbsp &nbsp  Acostado</font>"
            ]
          },
          "metadata": {}
        },
        {
          "output_type": "display_data",
          "data": {
            "text/plain": [
              "<IPython.core.display.HTML object>"
            ],
            "text/html": [
              "<font color=\"green\"> 369&nbsp &nbsp  Acostado   &nbsp &nbsp &nbsp  Acostado</font>"
            ]
          },
          "metadata": {}
        },
        {
          "output_type": "display_data",
          "data": {
            "text/plain": [
              "<IPython.core.display.HTML object>"
            ],
            "text/html": [
              "<font color=\"green\"> 370&nbsp &nbsp  Acostado   &nbsp &nbsp &nbsp  Acostado</font>"
            ]
          },
          "metadata": {}
        },
        {
          "output_type": "display_data",
          "data": {
            "text/plain": [
              "<IPython.core.display.HTML object>"
            ],
            "text/html": [
              "<font color=\"green\"> 371&nbsp &nbsp  Acostado   &nbsp &nbsp &nbsp  Acostado</font>"
            ]
          },
          "metadata": {}
        },
        {
          "output_type": "display_data",
          "data": {
            "text/plain": [
              "<IPython.core.display.HTML object>"
            ],
            "text/html": [
              "<font color=\"green\"> 372&nbsp &nbsp  Acostado   &nbsp &nbsp &nbsp  Acostado</font>"
            ]
          },
          "metadata": {}
        },
        {
          "output_type": "display_data",
          "data": {
            "text/plain": [
              "<IPython.core.display.HTML object>"
            ],
            "text/html": [
              "<font color=\"green\"> 373&nbsp &nbsp  Acostado   &nbsp &nbsp &nbsp  Acostado</font>"
            ]
          },
          "metadata": {}
        },
        {
          "output_type": "display_data",
          "data": {
            "text/plain": [
              "<IPython.core.display.HTML object>"
            ],
            "text/html": [
              "<font color=\"green\"> 374&nbsp &nbsp  Acostado   &nbsp &nbsp &nbsp  Acostado</font>"
            ]
          },
          "metadata": {}
        },
        {
          "output_type": "display_data",
          "data": {
            "text/plain": [
              "<IPython.core.display.HTML object>"
            ],
            "text/html": [
              "<font color=\"green\"> 375&nbsp &nbsp  Acostado   &nbsp &nbsp &nbsp  Acostado</font>"
            ]
          },
          "metadata": {}
        },
        {
          "output_type": "display_data",
          "data": {
            "text/plain": [
              "<IPython.core.display.HTML object>"
            ],
            "text/html": [
              "<font color=\"green\"> 376&nbsp &nbsp  Acostado   &nbsp &nbsp &nbsp  Acostado</font>"
            ]
          },
          "metadata": {}
        },
        {
          "output_type": "display_data",
          "data": {
            "text/plain": [
              "<IPython.core.display.HTML object>"
            ],
            "text/html": [
              "<font color=\"green\"> 377&nbsp &nbsp  Acostado   &nbsp &nbsp &nbsp  Acostado</font>"
            ]
          },
          "metadata": {}
        },
        {
          "output_type": "display_data",
          "data": {
            "text/plain": [
              "<IPython.core.display.HTML object>"
            ],
            "text/html": [
              "<font color=\"green\"> 378&nbsp &nbsp  Acostado   &nbsp &nbsp &nbsp  Acostado</font>"
            ]
          },
          "metadata": {}
        },
        {
          "output_type": "display_data",
          "data": {
            "text/plain": [
              "<IPython.core.display.HTML object>"
            ],
            "text/html": [
              "<font color=\"green\"> 379&nbsp &nbsp  Acostado   &nbsp &nbsp &nbsp  Acostado</font>"
            ]
          },
          "metadata": {}
        },
        {
          "output_type": "display_data",
          "data": {
            "text/plain": [
              "<IPython.core.display.HTML object>"
            ],
            "text/html": [
              "<font color=\"green\"> 380&nbsp &nbsp  Acostado   &nbsp &nbsp &nbsp  Acostado</font>"
            ]
          },
          "metadata": {}
        },
        {
          "output_type": "display_data",
          "data": {
            "text/plain": [
              "<IPython.core.display.HTML object>"
            ],
            "text/html": [
              "<font color=\"green\"> 381&nbsp &nbsp  Acostado   &nbsp &nbsp &nbsp  Acostado</font>"
            ]
          },
          "metadata": {}
        },
        {
          "output_type": "display_data",
          "data": {
            "text/plain": [
              "<IPython.core.display.HTML object>"
            ],
            "text/html": [
              "<font color=\"green\"> 382&nbsp &nbsp  Acostado   &nbsp &nbsp &nbsp  Acostado</font>"
            ]
          },
          "metadata": {}
        },
        {
          "output_type": "display_data",
          "data": {
            "text/plain": [
              "<IPython.core.display.HTML object>"
            ],
            "text/html": [
              "<font color=\"green\"> 383&nbsp &nbsp  Acostado   &nbsp &nbsp &nbsp  Acostado</font>"
            ]
          },
          "metadata": {}
        },
        {
          "output_type": "display_data",
          "data": {
            "text/plain": [
              "<IPython.core.display.HTML object>"
            ],
            "text/html": [
              "<font color=\"green\"> 384&nbsp &nbsp  Acostado   &nbsp &nbsp &nbsp  Acostado</font>"
            ]
          },
          "metadata": {}
        },
        {
          "output_type": "display_data",
          "data": {
            "text/plain": [
              "<IPython.core.display.HTML object>"
            ],
            "text/html": [
              "<font color=\"green\"> 385&nbsp &nbsp  Caminar   &nbsp &nbsp &nbsp  Caminar</font>"
            ]
          },
          "metadata": {}
        },
        {
          "output_type": "display_data",
          "data": {
            "text/plain": [
              "<IPython.core.display.HTML object>"
            ],
            "text/html": [
              "<font color=\"green\"> 386&nbsp &nbsp  Caminar   &nbsp &nbsp &nbsp  Caminar</font>"
            ]
          },
          "metadata": {}
        },
        {
          "output_type": "display_data",
          "data": {
            "text/plain": [
              "<IPython.core.display.HTML object>"
            ],
            "text/html": [
              "<font color=\"green\"> 387&nbsp &nbsp  Caminar   &nbsp &nbsp &nbsp  Caminar</font>"
            ]
          },
          "metadata": {}
        },
        {
          "output_type": "display_data",
          "data": {
            "text/plain": [
              "<IPython.core.display.HTML object>"
            ],
            "text/html": [
              "<font color=\"green\"> 388&nbsp &nbsp  Caminar   &nbsp &nbsp &nbsp  Caminar</font>"
            ]
          },
          "metadata": {}
        },
        {
          "output_type": "display_data",
          "data": {
            "text/plain": [
              "<IPython.core.display.HTML object>"
            ],
            "text/html": [
              "<font color=\"green\"> 389&nbsp &nbsp  Caminar   &nbsp &nbsp &nbsp  Caminar</font>"
            ]
          },
          "metadata": {}
        },
        {
          "output_type": "display_data",
          "data": {
            "text/plain": [
              "<IPython.core.display.HTML object>"
            ],
            "text/html": [
              "<font color=\"green\"> 390&nbsp &nbsp  Caminar   &nbsp &nbsp &nbsp  Caminar</font>"
            ]
          },
          "metadata": {}
        },
        {
          "output_type": "display_data",
          "data": {
            "text/plain": [
              "<IPython.core.display.HTML object>"
            ],
            "text/html": [
              "<font color=\"green\"> 391&nbsp &nbsp  Caminar   &nbsp &nbsp &nbsp  Caminar</font>"
            ]
          },
          "metadata": {}
        },
        {
          "output_type": "display_data",
          "data": {
            "text/plain": [
              "<IPython.core.display.HTML object>"
            ],
            "text/html": [
              "<font color=\"green\"> 392&nbsp &nbsp  Caminar   &nbsp &nbsp &nbsp  Caminar</font>"
            ]
          },
          "metadata": {}
        },
        {
          "output_type": "display_data",
          "data": {
            "text/plain": [
              "<IPython.core.display.HTML object>"
            ],
            "text/html": [
              "<font color=\"green\"> 393&nbsp &nbsp  Caminar   &nbsp &nbsp &nbsp  Caminar</font>"
            ]
          },
          "metadata": {}
        },
        {
          "output_type": "display_data",
          "data": {
            "text/plain": [
              "<IPython.core.display.HTML object>"
            ],
            "text/html": [
              "<font color=\"green\"> 394&nbsp &nbsp  Caminar   &nbsp &nbsp &nbsp  Caminar</font>"
            ]
          },
          "metadata": {}
        },
        {
          "output_type": "display_data",
          "data": {
            "text/plain": [
              "<IPython.core.display.HTML object>"
            ],
            "text/html": [
              "<font color=\"green\"> 395&nbsp &nbsp  Caminar   &nbsp &nbsp &nbsp  Caminar</font>"
            ]
          },
          "metadata": {}
        },
        {
          "output_type": "display_data",
          "data": {
            "text/plain": [
              "<IPython.core.display.HTML object>"
            ],
            "text/html": [
              "<font color=\"green\"> 396&nbsp &nbsp  Caminar   &nbsp &nbsp &nbsp  Caminar</font>"
            ]
          },
          "metadata": {}
        },
        {
          "output_type": "display_data",
          "data": {
            "text/plain": [
              "<IPython.core.display.HTML object>"
            ],
            "text/html": [
              "<font color=\"green\"> 397&nbsp &nbsp  Caminar   &nbsp &nbsp &nbsp  Caminar</font>"
            ]
          },
          "metadata": {}
        },
        {
          "output_type": "display_data",
          "data": {
            "text/plain": [
              "<IPython.core.display.HTML object>"
            ],
            "text/html": [
              "<font color=\"green\"> 398&nbsp &nbsp  Caminar   &nbsp &nbsp &nbsp  Caminar</font>"
            ]
          },
          "metadata": {}
        },
        {
          "output_type": "display_data",
          "data": {
            "text/plain": [
              "<IPython.core.display.HTML object>"
            ],
            "text/html": [
              "<font color=\"green\"> 399&nbsp &nbsp  Caminar   &nbsp &nbsp &nbsp  Caminar</font>"
            ]
          },
          "metadata": {}
        },
        {
          "output_type": "display_data",
          "data": {
            "text/plain": [
              "<IPython.core.display.HTML object>"
            ],
            "text/html": [
              "<font color=\"green\"> 400&nbsp &nbsp  Caminar   &nbsp &nbsp &nbsp  Caminar</font>"
            ]
          },
          "metadata": {}
        },
        {
          "output_type": "display_data",
          "data": {
            "text/plain": [
              "<IPython.core.display.HTML object>"
            ],
            "text/html": [
              "<font color=\"green\"> 401&nbsp &nbsp  Caminar   &nbsp &nbsp &nbsp  Caminar</font>"
            ]
          },
          "metadata": {}
        },
        {
          "output_type": "display_data",
          "data": {
            "text/plain": [
              "<IPython.core.display.HTML object>"
            ],
            "text/html": [
              "<font color=\"green\"> 402&nbsp &nbsp  Caminar   &nbsp &nbsp &nbsp  Caminar</font>"
            ]
          },
          "metadata": {}
        },
        {
          "output_type": "display_data",
          "data": {
            "text/plain": [
              "<IPython.core.display.HTML object>"
            ],
            "text/html": [
              "<font color=\"green\"> 403&nbsp &nbsp  Caminar   &nbsp &nbsp &nbsp  Caminar</font>"
            ]
          },
          "metadata": {}
        },
        {
          "output_type": "display_data",
          "data": {
            "text/plain": [
              "<IPython.core.display.HTML object>"
            ],
            "text/html": [
              "<font color=\"green\"> 404&nbsp &nbsp  Caminar   &nbsp &nbsp &nbsp  Caminar</font>"
            ]
          },
          "metadata": {}
        },
        {
          "output_type": "display_data",
          "data": {
            "text/plain": [
              "<IPython.core.display.HTML object>"
            ],
            "text/html": [
              "<font color=\"green\"> 405&nbsp &nbsp  Caminar   &nbsp &nbsp &nbsp  Caminar</font>"
            ]
          },
          "metadata": {}
        },
        {
          "output_type": "display_data",
          "data": {
            "text/plain": [
              "<IPython.core.display.HTML object>"
            ],
            "text/html": [
              "<font color=\"green\"> 406&nbsp &nbsp  Caminar   &nbsp &nbsp &nbsp  Caminar</font>"
            ]
          },
          "metadata": {}
        },
        {
          "output_type": "display_data",
          "data": {
            "text/plain": [
              "<IPython.core.display.HTML object>"
            ],
            "text/html": [
              "<font color=\"green\"> 407&nbsp &nbsp  Caminar   &nbsp &nbsp &nbsp  Caminar</font>"
            ]
          },
          "metadata": {}
        },
        {
          "output_type": "display_data",
          "data": {
            "text/plain": [
              "<IPython.core.display.HTML object>"
            ],
            "text/html": [
              "<font color=\"green\"> 408&nbsp &nbsp  Caminar   &nbsp &nbsp &nbsp  Caminar</font>"
            ]
          },
          "metadata": {}
        },
        {
          "output_type": "display_data",
          "data": {
            "text/plain": [
              "<IPython.core.display.HTML object>"
            ],
            "text/html": [
              "<font color=\"green\"> 409&nbsp &nbsp  Caminar   &nbsp &nbsp &nbsp  Caminar</font>"
            ]
          },
          "metadata": {}
        },
        {
          "output_type": "display_data",
          "data": {
            "text/plain": [
              "<IPython.core.display.HTML object>"
            ],
            "text/html": [
              "<font color=\"green\"> 410&nbsp &nbsp  Caminar   &nbsp &nbsp &nbsp  Caminar</font>"
            ]
          },
          "metadata": {}
        },
        {
          "output_type": "display_data",
          "data": {
            "text/plain": [
              "<IPython.core.display.HTML object>"
            ],
            "text/html": [
              "<font color=\"green\"> 411&nbsp &nbsp  Caminar   &nbsp &nbsp &nbsp  Caminar</font>"
            ]
          },
          "metadata": {}
        },
        {
          "output_type": "display_data",
          "data": {
            "text/plain": [
              "<IPython.core.display.HTML object>"
            ],
            "text/html": [
              "<font color=\"green\"> 412&nbsp &nbsp  Caminar   &nbsp &nbsp &nbsp  Caminar</font>"
            ]
          },
          "metadata": {}
        },
        {
          "output_type": "display_data",
          "data": {
            "text/plain": [
              "<IPython.core.display.HTML object>"
            ],
            "text/html": [
              "<font color=\"green\"> 413&nbsp &nbsp  Caminar   &nbsp &nbsp &nbsp  Caminar</font>"
            ]
          },
          "metadata": {}
        },
        {
          "output_type": "display_data",
          "data": {
            "text/plain": [
              "<IPython.core.display.HTML object>"
            ],
            "text/html": [
              "<font color=\"green\"> 414&nbsp &nbsp  Caminar   &nbsp &nbsp &nbsp  Caminar</font>"
            ]
          },
          "metadata": {}
        },
        {
          "output_type": "display_data",
          "data": {
            "text/plain": [
              "<IPython.core.display.HTML object>"
            ],
            "text/html": [
              "<font color=\"green\"> 415&nbsp &nbsp  Caminar   &nbsp &nbsp &nbsp  Caminar</font>"
            ]
          },
          "metadata": {}
        },
        {
          "output_type": "display_data",
          "data": {
            "text/plain": [
              "<IPython.core.display.HTML object>"
            ],
            "text/html": [
              "<font color=\"green\"> 416&nbsp &nbsp  Caminar Abajo   &nbsp &nbsp &nbsp  Caminar Abajo</font>"
            ]
          },
          "metadata": {}
        },
        {
          "output_type": "display_data",
          "data": {
            "text/plain": [
              "<IPython.core.display.HTML object>"
            ],
            "text/html": [
              "<font color=\"green\"> 417&nbsp &nbsp  Caminar Abajo   &nbsp &nbsp &nbsp  Caminar Abajo</font>"
            ]
          },
          "metadata": {}
        },
        {
          "output_type": "display_data",
          "data": {
            "text/plain": [
              "<IPython.core.display.HTML object>"
            ],
            "text/html": [
              "<font color=\"green\"> 418&nbsp &nbsp  Caminar Abajo   &nbsp &nbsp &nbsp  Caminar Abajo</font>"
            ]
          },
          "metadata": {}
        },
        {
          "output_type": "display_data",
          "data": {
            "text/plain": [
              "<IPython.core.display.HTML object>"
            ],
            "text/html": [
              "<font color=\"green\"> 419&nbsp &nbsp  Caminar Abajo   &nbsp &nbsp &nbsp  Caminar Abajo</font>"
            ]
          },
          "metadata": {}
        },
        {
          "output_type": "display_data",
          "data": {
            "text/plain": [
              "<IPython.core.display.HTML object>"
            ],
            "text/html": [
              "<font color=\"green\"> 420&nbsp &nbsp  Caminar Abajo   &nbsp &nbsp &nbsp  Caminar Abajo</font>"
            ]
          },
          "metadata": {}
        },
        {
          "output_type": "display_data",
          "data": {
            "text/plain": [
              "<IPython.core.display.HTML object>"
            ],
            "text/html": [
              "<font color=\"green\"> 421&nbsp &nbsp  Caminar Abajo   &nbsp &nbsp &nbsp  Caminar Abajo</font>"
            ]
          },
          "metadata": {}
        },
        {
          "output_type": "display_data",
          "data": {
            "text/plain": [
              "<IPython.core.display.HTML object>"
            ],
            "text/html": [
              "<font color=\"green\"> 422&nbsp &nbsp  Caminar Abajo   &nbsp &nbsp &nbsp  Caminar Abajo</font>"
            ]
          },
          "metadata": {}
        },
        {
          "output_type": "display_data",
          "data": {
            "text/plain": [
              "<IPython.core.display.HTML object>"
            ],
            "text/html": [
              "<font color=\"green\"> 423&nbsp &nbsp  Caminar Abajo   &nbsp &nbsp &nbsp  Caminar Abajo</font>"
            ]
          },
          "metadata": {}
        },
        {
          "output_type": "display_data",
          "data": {
            "text/plain": [
              "<IPython.core.display.HTML object>"
            ],
            "text/html": [
              "<font color=\"green\"> 424&nbsp &nbsp  Caminar Abajo   &nbsp &nbsp &nbsp  Caminar Abajo</font>"
            ]
          },
          "metadata": {}
        },
        {
          "output_type": "display_data",
          "data": {
            "text/plain": [
              "<IPython.core.display.HTML object>"
            ],
            "text/html": [
              "<font color=\"green\"> 425&nbsp &nbsp  Caminar Abajo   &nbsp &nbsp &nbsp  Caminar Abajo</font>"
            ]
          },
          "metadata": {}
        },
        {
          "output_type": "display_data",
          "data": {
            "text/plain": [
              "<IPython.core.display.HTML object>"
            ],
            "text/html": [
              "<font color=\"green\"> 426&nbsp &nbsp  Caminar Abajo   &nbsp &nbsp &nbsp  Caminar Abajo</font>"
            ]
          },
          "metadata": {}
        },
        {
          "output_type": "display_data",
          "data": {
            "text/plain": [
              "<IPython.core.display.HTML object>"
            ],
            "text/html": [
              "<font color=\"green\"> 427&nbsp &nbsp  Caminar Abajo   &nbsp &nbsp &nbsp  Caminar Abajo</font>"
            ]
          },
          "metadata": {}
        },
        {
          "output_type": "display_data",
          "data": {
            "text/plain": [
              "<IPython.core.display.HTML object>"
            ],
            "text/html": [
              "<font color=\"green\"> 428&nbsp &nbsp  Caminar Abajo   &nbsp &nbsp &nbsp  Caminar Abajo</font>"
            ]
          },
          "metadata": {}
        },
        {
          "output_type": "display_data",
          "data": {
            "text/plain": [
              "<IPython.core.display.HTML object>"
            ],
            "text/html": [
              "<font color=\"green\"> 429&nbsp &nbsp  Caminar Abajo   &nbsp &nbsp &nbsp  Caminar Abajo</font>"
            ]
          },
          "metadata": {}
        },
        {
          "output_type": "display_data",
          "data": {
            "text/plain": [
              "<IPython.core.display.HTML object>"
            ],
            "text/html": [
              "<font color=\"green\"> 430&nbsp &nbsp  Caminar Abajo   &nbsp &nbsp &nbsp  Caminar Abajo</font>"
            ]
          },
          "metadata": {}
        },
        {
          "output_type": "display_data",
          "data": {
            "text/plain": [
              "<IPython.core.display.HTML object>"
            ],
            "text/html": [
              "<font color=\"green\"> 431&nbsp &nbsp  Caminar Abajo   &nbsp &nbsp &nbsp  Caminar Abajo</font>"
            ]
          },
          "metadata": {}
        },
        {
          "output_type": "display_data",
          "data": {
            "text/plain": [
              "<IPython.core.display.HTML object>"
            ],
            "text/html": [
              "<font color=\"green\"> 432&nbsp &nbsp  Caminar Abajo   &nbsp &nbsp &nbsp  Caminar Abajo</font>"
            ]
          },
          "metadata": {}
        },
        {
          "output_type": "display_data",
          "data": {
            "text/plain": [
              "<IPython.core.display.HTML object>"
            ],
            "text/html": [
              "<font color=\"green\"> 433&nbsp &nbsp  Caminar Abajo   &nbsp &nbsp &nbsp  Caminar Abajo</font>"
            ]
          },
          "metadata": {}
        },
        {
          "output_type": "display_data",
          "data": {
            "text/plain": [
              "<IPython.core.display.HTML object>"
            ],
            "text/html": [
              "<font color=\"green\"> 434&nbsp &nbsp  Caminar Abajo   &nbsp &nbsp &nbsp  Caminar Abajo</font>"
            ]
          },
          "metadata": {}
        },
        {
          "output_type": "display_data",
          "data": {
            "text/plain": [
              "<IPython.core.display.HTML object>"
            ],
            "text/html": [
              "<font color=\"green\"> 435&nbsp &nbsp  Caminar Abajo   &nbsp &nbsp &nbsp  Caminar Abajo</font>"
            ]
          },
          "metadata": {}
        },
        {
          "output_type": "display_data",
          "data": {
            "text/plain": [
              "<IPython.core.display.HTML object>"
            ],
            "text/html": [
              "<font color=\"green\"> 436&nbsp &nbsp  Caminar Abajo   &nbsp &nbsp &nbsp  Caminar Abajo</font>"
            ]
          },
          "metadata": {}
        },
        {
          "output_type": "display_data",
          "data": {
            "text/plain": [
              "<IPython.core.display.HTML object>"
            ],
            "text/html": [
              "<font color=\"green\"> 437&nbsp &nbsp  Caminar Abajo   &nbsp &nbsp &nbsp  Caminar Abajo</font>"
            ]
          },
          "metadata": {}
        },
        {
          "output_type": "display_data",
          "data": {
            "text/plain": [
              "<IPython.core.display.HTML object>"
            ],
            "text/html": [
              "<font color=\"green\"> 438&nbsp &nbsp  Caminar Abajo   &nbsp &nbsp &nbsp  Caminar Abajo</font>"
            ]
          },
          "metadata": {}
        },
        {
          "output_type": "display_data",
          "data": {
            "text/plain": [
              "<IPython.core.display.HTML object>"
            ],
            "text/html": [
              "<font color=\"green\"> 439&nbsp &nbsp  Caminar Arriba   &nbsp &nbsp &nbsp  Caminar Arriba</font>"
            ]
          },
          "metadata": {}
        },
        {
          "output_type": "display_data",
          "data": {
            "text/plain": [
              "<IPython.core.display.HTML object>"
            ],
            "text/html": [
              "<font color=\"green\"> 440&nbsp &nbsp  Caminar Arriba   &nbsp &nbsp &nbsp  Caminar Arriba</font>"
            ]
          },
          "metadata": {}
        },
        {
          "output_type": "display_data",
          "data": {
            "text/plain": [
              "<IPython.core.display.HTML object>"
            ],
            "text/html": [
              "<font color=\"green\"> 441&nbsp &nbsp  Caminar Arriba   &nbsp &nbsp &nbsp  Caminar Arriba</font>"
            ]
          },
          "metadata": {}
        },
        {
          "output_type": "display_data",
          "data": {
            "text/plain": [
              "<IPython.core.display.HTML object>"
            ],
            "text/html": [
              "<font color=\"green\"> 442&nbsp &nbsp  Caminar Arriba   &nbsp &nbsp &nbsp  Caminar Arriba</font>"
            ]
          },
          "metadata": {}
        },
        {
          "output_type": "display_data",
          "data": {
            "text/plain": [
              "<IPython.core.display.HTML object>"
            ],
            "text/html": [
              "<font color=\"green\"> 443&nbsp &nbsp  Caminar Arriba   &nbsp &nbsp &nbsp  Caminar Arriba</font>"
            ]
          },
          "metadata": {}
        },
        {
          "output_type": "display_data",
          "data": {
            "text/plain": [
              "<IPython.core.display.HTML object>"
            ],
            "text/html": [
              "<font color=\"green\"> 444&nbsp &nbsp  Caminar Arriba   &nbsp &nbsp &nbsp  Caminar Arriba</font>"
            ]
          },
          "metadata": {}
        },
        {
          "output_type": "display_data",
          "data": {
            "text/plain": [
              "<IPython.core.display.HTML object>"
            ],
            "text/html": [
              "<font color=\"green\"> 445&nbsp &nbsp  Caminar Arriba   &nbsp &nbsp &nbsp  Caminar Arriba</font>"
            ]
          },
          "metadata": {}
        },
        {
          "output_type": "display_data",
          "data": {
            "text/plain": [
              "<IPython.core.display.HTML object>"
            ],
            "text/html": [
              "<font color=\"green\"> 446&nbsp &nbsp  Caminar Arriba   &nbsp &nbsp &nbsp  Caminar Arriba</font>"
            ]
          },
          "metadata": {}
        },
        {
          "output_type": "display_data",
          "data": {
            "text/plain": [
              "<IPython.core.display.HTML object>"
            ],
            "text/html": [
              "<font color=\"green\"> 447&nbsp &nbsp  Caminar Arriba   &nbsp &nbsp &nbsp  Caminar Arriba</font>"
            ]
          },
          "metadata": {}
        },
        {
          "output_type": "display_data",
          "data": {
            "text/plain": [
              "<IPython.core.display.HTML object>"
            ],
            "text/html": [
              "<font color=\"green\"> 448&nbsp &nbsp  Caminar Arriba   &nbsp &nbsp &nbsp  Caminar Arriba</font>"
            ]
          },
          "metadata": {}
        },
        {
          "output_type": "display_data",
          "data": {
            "text/plain": [
              "<IPython.core.display.HTML object>"
            ],
            "text/html": [
              "<font color=\"green\"> 449&nbsp &nbsp  Caminar Arriba   &nbsp &nbsp &nbsp  Caminar Arriba</font>"
            ]
          },
          "metadata": {}
        },
        {
          "output_type": "display_data",
          "data": {
            "text/plain": [
              "<IPython.core.display.HTML object>"
            ],
            "text/html": [
              "<font color=\"green\"> 450&nbsp &nbsp  Caminar Arriba   &nbsp &nbsp &nbsp  Caminar Arriba</font>"
            ]
          },
          "metadata": {}
        },
        {
          "output_type": "display_data",
          "data": {
            "text/plain": [
              "<IPython.core.display.HTML object>"
            ],
            "text/html": [
              "<font color=\"green\"> 451&nbsp &nbsp  Caminar Arriba   &nbsp &nbsp &nbsp  Caminar Arriba</font>"
            ]
          },
          "metadata": {}
        },
        {
          "output_type": "display_data",
          "data": {
            "text/plain": [
              "<IPython.core.display.HTML object>"
            ],
            "text/html": [
              "<font color=\"green\"> 452&nbsp &nbsp  Caminar Arriba   &nbsp &nbsp &nbsp  Caminar Arriba</font>"
            ]
          },
          "metadata": {}
        },
        {
          "output_type": "display_data",
          "data": {
            "text/plain": [
              "<IPython.core.display.HTML object>"
            ],
            "text/html": [
              "<font color=\"green\"> 453&nbsp &nbsp  Caminar Arriba   &nbsp &nbsp &nbsp  Caminar Arriba</font>"
            ]
          },
          "metadata": {}
        },
        {
          "output_type": "display_data",
          "data": {
            "text/plain": [
              "<IPython.core.display.HTML object>"
            ],
            "text/html": [
              "<font color=\"green\"> 454&nbsp &nbsp  Caminar Arriba   &nbsp &nbsp &nbsp  Caminar Arriba</font>"
            ]
          },
          "metadata": {}
        },
        {
          "output_type": "display_data",
          "data": {
            "text/plain": [
              "<IPython.core.display.HTML object>"
            ],
            "text/html": [
              "<font color=\"green\"> 455&nbsp &nbsp  Caminar Arriba   &nbsp &nbsp &nbsp  Caminar Arriba</font>"
            ]
          },
          "metadata": {}
        },
        {
          "output_type": "display_data",
          "data": {
            "text/plain": [
              "<IPython.core.display.HTML object>"
            ],
            "text/html": [
              "<font color=\"green\"> 456&nbsp &nbsp  Caminar Arriba   &nbsp &nbsp &nbsp  Caminar Arriba</font>"
            ]
          },
          "metadata": {}
        },
        {
          "output_type": "display_data",
          "data": {
            "text/plain": [
              "<IPython.core.display.HTML object>"
            ],
            "text/html": [
              "<font color=\"green\"> 457&nbsp &nbsp  Caminar Arriba   &nbsp &nbsp &nbsp  Caminar Arriba</font>"
            ]
          },
          "metadata": {}
        },
        {
          "output_type": "display_data",
          "data": {
            "text/plain": [
              "<IPython.core.display.HTML object>"
            ],
            "text/html": [
              "<font color=\"green\"> 458&nbsp &nbsp  Caminar Arriba   &nbsp &nbsp &nbsp  Caminar Arriba</font>"
            ]
          },
          "metadata": {}
        },
        {
          "output_type": "display_data",
          "data": {
            "text/plain": [
              "<IPython.core.display.HTML object>"
            ],
            "text/html": [
              "<font color=\"green\"> 459&nbsp &nbsp  Caminar Arriba   &nbsp &nbsp &nbsp  Caminar Arriba</font>"
            ]
          },
          "metadata": {}
        },
        {
          "output_type": "display_data",
          "data": {
            "text/plain": [
              "<IPython.core.display.HTML object>"
            ],
            "text/html": [
              "<font color=\"green\"> 460&nbsp &nbsp  Caminar Arriba   &nbsp &nbsp &nbsp  Caminar Arriba</font>"
            ]
          },
          "metadata": {}
        },
        {
          "output_type": "display_data",
          "data": {
            "text/plain": [
              "<IPython.core.display.HTML object>"
            ],
            "text/html": [
              "<font color=\"green\"> 461&nbsp &nbsp  Caminar Arriba   &nbsp &nbsp &nbsp  Caminar Arriba</font>"
            ]
          },
          "metadata": {}
        },
        {
          "output_type": "display_data",
          "data": {
            "text/plain": [
              "<IPython.core.display.HTML object>"
            ],
            "text/html": [
              "<font color=\"green\"> 462&nbsp &nbsp  Caminar Arriba   &nbsp &nbsp &nbsp  Caminar Arriba</font>"
            ]
          },
          "metadata": {}
        },
        {
          "output_type": "display_data",
          "data": {
            "text/plain": [
              "<IPython.core.display.HTML object>"
            ],
            "text/html": [
              "<font color=\"green\"> 463&nbsp &nbsp  Caminar Arriba   &nbsp &nbsp &nbsp  Caminar Arriba</font>"
            ]
          },
          "metadata": {}
        },
        {
          "output_type": "display_data",
          "data": {
            "text/plain": [
              "<IPython.core.display.HTML object>"
            ],
            "text/html": [
              "<font color=\"green\"> 464&nbsp &nbsp  Caminar Arriba   &nbsp &nbsp &nbsp  Caminar Arriba</font>"
            ]
          },
          "metadata": {}
        },
        {
          "output_type": "display_data",
          "data": {
            "text/plain": [
              "<IPython.core.display.HTML object>"
            ],
            "text/html": [
              "<font color=\"green\"> 465&nbsp &nbsp  Caminar Arriba   &nbsp &nbsp &nbsp  Caminar Arriba</font>"
            ]
          },
          "metadata": {}
        },
        {
          "output_type": "display_data",
          "data": {
            "text/plain": [
              "<IPython.core.display.HTML object>"
            ],
            "text/html": [
              "<font color=\"green\"> 466&nbsp &nbsp  Caminar Arriba   &nbsp &nbsp &nbsp  Caminar Arriba</font>"
            ]
          },
          "metadata": {}
        },
        {
          "output_type": "display_data",
          "data": {
            "text/plain": [
              "<IPython.core.display.HTML object>"
            ],
            "text/html": [
              "<font color=\"red\">  467  &nbsp &nbsp De pie   &nbsp &nbsp &nbsp Sentado</font>"
            ]
          },
          "metadata": {}
        },
        {
          "output_type": "display_data",
          "data": {
            "text/plain": [
              "<IPython.core.display.HTML object>"
            ],
            "text/html": [
              "<font color=\"green\"> 468&nbsp &nbsp  De pie   &nbsp &nbsp &nbsp  De pie</font>"
            ]
          },
          "metadata": {}
        },
        {
          "output_type": "display_data",
          "data": {
            "text/plain": [
              "<IPython.core.display.HTML object>"
            ],
            "text/html": [
              "<font color=\"green\"> 469&nbsp &nbsp  De pie   &nbsp &nbsp &nbsp  De pie</font>"
            ]
          },
          "metadata": {}
        },
        {
          "output_type": "display_data",
          "data": {
            "text/plain": [
              "<IPython.core.display.HTML object>"
            ],
            "text/html": [
              "<font color=\"green\"> 470&nbsp &nbsp  De pie   &nbsp &nbsp &nbsp  De pie</font>"
            ]
          },
          "metadata": {}
        },
        {
          "output_type": "display_data",
          "data": {
            "text/plain": [
              "<IPython.core.display.HTML object>"
            ],
            "text/html": [
              "<font color=\"green\"> 471&nbsp &nbsp  De pie   &nbsp &nbsp &nbsp  De pie</font>"
            ]
          },
          "metadata": {}
        },
        {
          "output_type": "display_data",
          "data": {
            "text/plain": [
              "<IPython.core.display.HTML object>"
            ],
            "text/html": [
              "<font color=\"green\"> 472&nbsp &nbsp  De pie   &nbsp &nbsp &nbsp  De pie</font>"
            ]
          },
          "metadata": {}
        },
        {
          "output_type": "display_data",
          "data": {
            "text/plain": [
              "<IPython.core.display.HTML object>"
            ],
            "text/html": [
              "<font color=\"green\"> 473&nbsp &nbsp  De pie   &nbsp &nbsp &nbsp  De pie</font>"
            ]
          },
          "metadata": {}
        },
        {
          "output_type": "display_data",
          "data": {
            "text/plain": [
              "<IPython.core.display.HTML object>"
            ],
            "text/html": [
              "<font color=\"green\"> 474&nbsp &nbsp  De pie   &nbsp &nbsp &nbsp  De pie</font>"
            ]
          },
          "metadata": {}
        },
        {
          "output_type": "display_data",
          "data": {
            "text/plain": [
              "<IPython.core.display.HTML object>"
            ],
            "text/html": [
              "<font color=\"green\"> 475&nbsp &nbsp  De pie   &nbsp &nbsp &nbsp  De pie</font>"
            ]
          },
          "metadata": {}
        },
        {
          "output_type": "display_data",
          "data": {
            "text/plain": [
              "<IPython.core.display.HTML object>"
            ],
            "text/html": [
              "<font color=\"green\"> 476&nbsp &nbsp  De pie   &nbsp &nbsp &nbsp  De pie</font>"
            ]
          },
          "metadata": {}
        },
        {
          "output_type": "display_data",
          "data": {
            "text/plain": [
              "<IPython.core.display.HTML object>"
            ],
            "text/html": [
              "<font color=\"green\"> 477&nbsp &nbsp  De pie   &nbsp &nbsp &nbsp  De pie</font>"
            ]
          },
          "metadata": {}
        },
        {
          "output_type": "display_data",
          "data": {
            "text/plain": [
              "<IPython.core.display.HTML object>"
            ],
            "text/html": [
              "<font color=\"green\"> 478&nbsp &nbsp  De pie   &nbsp &nbsp &nbsp  De pie</font>"
            ]
          },
          "metadata": {}
        },
        {
          "output_type": "display_data",
          "data": {
            "text/plain": [
              "<IPython.core.display.HTML object>"
            ],
            "text/html": [
              "<font color=\"green\"> 479&nbsp &nbsp  De pie   &nbsp &nbsp &nbsp  De pie</font>"
            ]
          },
          "metadata": {}
        },
        {
          "output_type": "display_data",
          "data": {
            "text/plain": [
              "<IPython.core.display.HTML object>"
            ],
            "text/html": [
              "<font color=\"green\"> 480&nbsp &nbsp  De pie   &nbsp &nbsp &nbsp  De pie</font>"
            ]
          },
          "metadata": {}
        },
        {
          "output_type": "display_data",
          "data": {
            "text/plain": [
              "<IPython.core.display.HTML object>"
            ],
            "text/html": [
              "<font color=\"red\">  481  &nbsp &nbsp De pie   &nbsp &nbsp &nbsp Sentado</font>"
            ]
          },
          "metadata": {}
        },
        {
          "output_type": "display_data",
          "data": {
            "text/plain": [
              "<IPython.core.display.HTML object>"
            ],
            "text/html": [
              "<font color=\"green\"> 482&nbsp &nbsp  De pie   &nbsp &nbsp &nbsp  De pie</font>"
            ]
          },
          "metadata": {}
        },
        {
          "output_type": "display_data",
          "data": {
            "text/plain": [
              "<IPython.core.display.HTML object>"
            ],
            "text/html": [
              "<font color=\"green\"> 483&nbsp &nbsp  De pie   &nbsp &nbsp &nbsp  De pie</font>"
            ]
          },
          "metadata": {}
        },
        {
          "output_type": "display_data",
          "data": {
            "text/plain": [
              "<IPython.core.display.HTML object>"
            ],
            "text/html": [
              "<font color=\"red\">  484  &nbsp &nbsp De pie   &nbsp &nbsp &nbsp Sentado</font>"
            ]
          },
          "metadata": {}
        },
        {
          "output_type": "display_data",
          "data": {
            "text/plain": [
              "<IPython.core.display.HTML object>"
            ],
            "text/html": [
              "<font color=\"red\">  485  &nbsp &nbsp De pie   &nbsp &nbsp &nbsp Sentado</font>"
            ]
          },
          "metadata": {}
        },
        {
          "output_type": "display_data",
          "data": {
            "text/plain": [
              "<IPython.core.display.HTML object>"
            ],
            "text/html": [
              "<font color=\"green\"> 486&nbsp &nbsp  De pie   &nbsp &nbsp &nbsp  De pie</font>"
            ]
          },
          "metadata": {}
        },
        {
          "output_type": "display_data",
          "data": {
            "text/plain": [
              "<IPython.core.display.HTML object>"
            ],
            "text/html": [
              "<font color=\"green\"> 487&nbsp &nbsp  De pie   &nbsp &nbsp &nbsp  De pie</font>"
            ]
          },
          "metadata": {}
        },
        {
          "output_type": "display_data",
          "data": {
            "text/plain": [
              "<IPython.core.display.HTML object>"
            ],
            "text/html": [
              "<font color=\"green\"> 488&nbsp &nbsp  De pie   &nbsp &nbsp &nbsp  De pie</font>"
            ]
          },
          "metadata": {}
        },
        {
          "output_type": "display_data",
          "data": {
            "text/plain": [
              "<IPython.core.display.HTML object>"
            ],
            "text/html": [
              "<font color=\"green\"> 489&nbsp &nbsp  De pie   &nbsp &nbsp &nbsp  De pie</font>"
            ]
          },
          "metadata": {}
        },
        {
          "output_type": "display_data",
          "data": {
            "text/plain": [
              "<IPython.core.display.HTML object>"
            ],
            "text/html": [
              "<font color=\"green\"> 490&nbsp &nbsp  De pie   &nbsp &nbsp &nbsp  De pie</font>"
            ]
          },
          "metadata": {}
        },
        {
          "output_type": "display_data",
          "data": {
            "text/plain": [
              "<IPython.core.display.HTML object>"
            ],
            "text/html": [
              "<font color=\"red\">  491  &nbsp &nbsp De pie   &nbsp &nbsp &nbsp Sentado</font>"
            ]
          },
          "metadata": {}
        },
        {
          "output_type": "display_data",
          "data": {
            "text/plain": [
              "<IPython.core.display.HTML object>"
            ],
            "text/html": [
              "<font color=\"green\"> 492&nbsp &nbsp  De pie   &nbsp &nbsp &nbsp  De pie</font>"
            ]
          },
          "metadata": {}
        },
        {
          "output_type": "display_data",
          "data": {
            "text/plain": [
              "<IPython.core.display.HTML object>"
            ],
            "text/html": [
              "<font color=\"green\"> 493&nbsp &nbsp  De pie   &nbsp &nbsp &nbsp  De pie</font>"
            ]
          },
          "metadata": {}
        },
        {
          "output_type": "display_data",
          "data": {
            "text/plain": [
              "<IPython.core.display.HTML object>"
            ],
            "text/html": [
              "<font color=\"green\"> 494&nbsp &nbsp  De pie   &nbsp &nbsp &nbsp  De pie</font>"
            ]
          },
          "metadata": {}
        },
        {
          "output_type": "display_data",
          "data": {
            "text/plain": [
              "<IPython.core.display.HTML object>"
            ],
            "text/html": [
              "<font color=\"green\"> 495&nbsp &nbsp  Sentado   &nbsp &nbsp &nbsp  Sentado</font>"
            ]
          },
          "metadata": {}
        },
        {
          "output_type": "display_data",
          "data": {
            "text/plain": [
              "<IPython.core.display.HTML object>"
            ],
            "text/html": [
              "<font color=\"green\"> 496&nbsp &nbsp  Sentado   &nbsp &nbsp &nbsp  Sentado</font>"
            ]
          },
          "metadata": {}
        },
        {
          "output_type": "display_data",
          "data": {
            "text/plain": [
              "<IPython.core.display.HTML object>"
            ],
            "text/html": [
              "<font color=\"green\"> 497&nbsp &nbsp  Sentado   &nbsp &nbsp &nbsp  Sentado</font>"
            ]
          },
          "metadata": {}
        },
        {
          "output_type": "display_data",
          "data": {
            "text/plain": [
              "<IPython.core.display.HTML object>"
            ],
            "text/html": [
              "<font color=\"green\"> 498&nbsp &nbsp  Sentado   &nbsp &nbsp &nbsp  Sentado</font>"
            ]
          },
          "metadata": {}
        },
        {
          "output_type": "display_data",
          "data": {
            "text/plain": [
              "<IPython.core.display.HTML object>"
            ],
            "text/html": [
              "<font color=\"green\"> 499&nbsp &nbsp  Sentado   &nbsp &nbsp &nbsp  Sentado</font>"
            ]
          },
          "metadata": {}
        },
        {
          "output_type": "display_data",
          "data": {
            "text/plain": [
              "<IPython.core.display.HTML object>"
            ],
            "text/html": [
              "<font color=\"green\"> 500&nbsp &nbsp  Sentado   &nbsp &nbsp &nbsp  Sentado</font>"
            ]
          },
          "metadata": {}
        },
        {
          "output_type": "stream",
          "name": "stdout",
          "text": [
            "...........................\n"
          ]
        },
        {
          "output_type": "display_data",
          "data": {
            "text/plain": [
              "<IPython.core.display.HTML object>"
            ],
            "text/html": [
              "<font color=\"green\"> 2927&nbsp &nbsp  Caminar Arriba   &nbsp &nbsp &nbsp  Caminar Arriba</font>"
            ]
          },
          "metadata": {}
        },
        {
          "output_type": "display_data",
          "data": {
            "text/plain": [
              "<IPython.core.display.HTML object>"
            ],
            "text/html": [
              "<font color=\"green\"> 2928&nbsp &nbsp  Caminar Arriba   &nbsp &nbsp &nbsp  Caminar Arriba</font>"
            ]
          },
          "metadata": {}
        },
        {
          "output_type": "display_data",
          "data": {
            "text/plain": [
              "<IPython.core.display.HTML object>"
            ],
            "text/html": [
              "<font color=\"green\"> 2929&nbsp &nbsp  Caminar Abajo   &nbsp &nbsp &nbsp  Caminar Abajo</font>"
            ]
          },
          "metadata": {}
        },
        {
          "output_type": "display_data",
          "data": {
            "text/plain": [
              "<IPython.core.display.HTML object>"
            ],
            "text/html": [
              "<font color=\"green\"> 2930&nbsp &nbsp  Caminar Abajo   &nbsp &nbsp &nbsp  Caminar Abajo</font>"
            ]
          },
          "metadata": {}
        },
        {
          "output_type": "display_data",
          "data": {
            "text/plain": [
              "<IPython.core.display.HTML object>"
            ],
            "text/html": [
              "<font color=\"green\"> 2931&nbsp &nbsp  Caminar Abajo   &nbsp &nbsp &nbsp  Caminar Abajo</font>"
            ]
          },
          "metadata": {}
        },
        {
          "output_type": "display_data",
          "data": {
            "text/plain": [
              "<IPython.core.display.HTML object>"
            ],
            "text/html": [
              "<font color=\"green\"> 2932&nbsp &nbsp  Caminar Abajo   &nbsp &nbsp &nbsp  Caminar Abajo</font>"
            ]
          },
          "metadata": {}
        },
        {
          "output_type": "display_data",
          "data": {
            "text/plain": [
              "<IPython.core.display.HTML object>"
            ],
            "text/html": [
              "<font color=\"green\"> 2933&nbsp &nbsp  Caminar Abajo   &nbsp &nbsp &nbsp  Caminar Abajo</font>"
            ]
          },
          "metadata": {}
        },
        {
          "output_type": "display_data",
          "data": {
            "text/plain": [
              "<IPython.core.display.HTML object>"
            ],
            "text/html": [
              "<font color=\"green\"> 2934&nbsp &nbsp  Caminar Abajo   &nbsp &nbsp &nbsp  Caminar Abajo</font>"
            ]
          },
          "metadata": {}
        },
        {
          "output_type": "display_data",
          "data": {
            "text/plain": [
              "<IPython.core.display.HTML object>"
            ],
            "text/html": [
              "<font color=\"green\"> 2935&nbsp &nbsp  Caminar Abajo   &nbsp &nbsp &nbsp  Caminar Abajo</font>"
            ]
          },
          "metadata": {}
        },
        {
          "output_type": "display_data",
          "data": {
            "text/plain": [
              "<IPython.core.display.HTML object>"
            ],
            "text/html": [
              "<font color=\"green\"> 2936&nbsp &nbsp  Caminar Abajo   &nbsp &nbsp &nbsp  Caminar Abajo</font>"
            ]
          },
          "metadata": {}
        },
        {
          "output_type": "display_data",
          "data": {
            "text/plain": [
              "<IPython.core.display.HTML object>"
            ],
            "text/html": [
              "<font color=\"green\"> 2937&nbsp &nbsp  Caminar Abajo   &nbsp &nbsp &nbsp  Caminar Abajo</font>"
            ]
          },
          "metadata": {}
        },
        {
          "output_type": "display_data",
          "data": {
            "text/plain": [
              "<IPython.core.display.HTML object>"
            ],
            "text/html": [
              "<font color=\"green\"> 2938&nbsp &nbsp  Caminar Arriba   &nbsp &nbsp &nbsp  Caminar Arriba</font>"
            ]
          },
          "metadata": {}
        },
        {
          "output_type": "display_data",
          "data": {
            "text/plain": [
              "<IPython.core.display.HTML object>"
            ],
            "text/html": [
              "<font color=\"green\"> 2939&nbsp &nbsp  Caminar Arriba   &nbsp &nbsp &nbsp  Caminar Arriba</font>"
            ]
          },
          "metadata": {}
        },
        {
          "output_type": "display_data",
          "data": {
            "text/plain": [
              "<IPython.core.display.HTML object>"
            ],
            "text/html": [
              "<font color=\"green\"> 2940&nbsp &nbsp  Caminar Arriba   &nbsp &nbsp &nbsp  Caminar Arriba</font>"
            ]
          },
          "metadata": {}
        },
        {
          "output_type": "display_data",
          "data": {
            "text/plain": [
              "<IPython.core.display.HTML object>"
            ],
            "text/html": [
              "<font color=\"green\"> 2941&nbsp &nbsp  Caminar Arriba   &nbsp &nbsp &nbsp  Caminar Arriba</font>"
            ]
          },
          "metadata": {}
        },
        {
          "output_type": "display_data",
          "data": {
            "text/plain": [
              "<IPython.core.display.HTML object>"
            ],
            "text/html": [
              "<font color=\"green\"> 2942&nbsp &nbsp  Caminar Arriba   &nbsp &nbsp &nbsp  Caminar Arriba</font>"
            ]
          },
          "metadata": {}
        },
        {
          "output_type": "display_data",
          "data": {
            "text/plain": [
              "<IPython.core.display.HTML object>"
            ],
            "text/html": [
              "<font color=\"green\"> 2943&nbsp &nbsp  Caminar Arriba   &nbsp &nbsp &nbsp  Caminar Arriba</font>"
            ]
          },
          "metadata": {}
        },
        {
          "output_type": "display_data",
          "data": {
            "text/plain": [
              "<IPython.core.display.HTML object>"
            ],
            "text/html": [
              "<font color=\"green\"> 2944&nbsp &nbsp  Caminar Arriba   &nbsp &nbsp &nbsp  Caminar Arriba</font>"
            ]
          },
          "metadata": {}
        },
        {
          "output_type": "display_data",
          "data": {
            "text/plain": [
              "<IPython.core.display.HTML object>"
            ],
            "text/html": [
              "<font color=\"green\"> 2945&nbsp &nbsp  Caminar Arriba   &nbsp &nbsp &nbsp  Caminar Arriba</font>"
            ]
          },
          "metadata": {}
        },
        {
          "output_type": "display_data",
          "data": {
            "text/plain": [
              "<IPython.core.display.HTML object>"
            ],
            "text/html": [
              "<font color=\"green\"> 2946&nbsp &nbsp  Caminar Arriba   &nbsp &nbsp &nbsp  Caminar Arriba</font>"
            ]
          },
          "metadata": {}
        }
      ]
    }
  ]
}