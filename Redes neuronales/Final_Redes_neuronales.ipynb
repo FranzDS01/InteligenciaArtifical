{
  "nbformat": 4,
  "nbformat_minor": 0,
  "metadata": {
    "colab": {
      "provenance": [],
      "mount_file_id": "1UzRIkh9H3vFU2ZwgtA2K3gLwz9ciJLC6",
      "authorship_tag": "ABX9TyNjW9Fck0HvoxhKjioyo8qU",
      "include_colab_link": true
    },
    "kernelspec": {
      "name": "python3",
      "display_name": "Python 3"
    },
    "language_info": {
      "name": "python"
    }
  },
  "cells": [
    {
      "cell_type": "markdown",
      "metadata": {
        "id": "view-in-github",
        "colab_type": "text"
      },
      "source": [
        "<a href=\"https://colab.research.google.com/github/FranzDS01/InteligenciaArtifical/blob/main/Redes%20neuronales/Final_Redes_neuronales.ipynb\" target=\"_parent\"><img src=\"https://colab.research.google.com/assets/colab-badge.svg\" alt=\"Open In Colab\"/></a>"
      ]
    },
    {
      "cell_type": "markdown",
      "source": [
        "# Redes neuronales\n",
        "\n",
        "**Nombre:** Soria Colque Franz Ronald\n",
        "\n",
        "**Carrera:** Ingenieria de Sistemas\n",
        "\n",
        "**Repositorio:** [Repositorio github](https://github.com/FranzDS01/InteligenciaArtifical/blob/main/Redes%20neuronales/Final_Redes_neuronales.ipynb)\n",
        "\n",
        "---\n",
        "\n",
        "**Dataset implementado:** Reconocimiento de actividad humana con teléfonos inteligentes\n",
        "\n",
        " [Sitio de desgarga del dataset](https://www.kaggle.com/datasets/uciml/human-activity-recognition-with-smartphones)\n",
        "\n",
        "<p>Descripcion del dataset</p>\n",
        "La base de datos de reconocimiento de actividad humana se creó a partir de las grabaciones de 30 participantes del estudio que realizaban actividades de la vida diaria (ADL) mientras llevaban un teléfono inteligente montado en la cintura con sensores de inercia integrados. El objetivo es clasificar las\n",
        "actividades en una de las seis actividades realizadas .\n",
        "<p>actividades (CAMINAR, CAMINAR ARRIBA, CAMINAR ABAJO, SENTADO, DE PIE, ACOSTADO)</p>\n",
        "\n",
        "**Detalles de la solucion:**\n",
        "El dataset cuenta con datos de entrenamiento y datos de prueba\n",
        "\n",
        "<table>\n",
        "  <tr>\n",
        "    <th>data</th>\n",
        "    <th>Entrenamiento</th>\n",
        "    <th>Prueba</th>\n",
        "  </tr>\n",
        "  <tr>\n",
        "    <td>Filas</td>\n",
        "    <td>7352</td>\n",
        "    <td>2947</td>\n",
        "  </tr>\n",
        "  <tr>\n",
        "    <td>Columnas</td>\n",
        "    <td>563</td>\n",
        "    <td>563</td>\n",
        "  </tr>\n",
        "</table>\n",
        "\n",
        "<p>Para poder trabajar con el dataset, se verificaron los siguientes aspectos:</p>\n",
        "<ul>\n",
        "  <li><strong>Datos Nulos:</strong> No cuenta con datos nulos.</li>\n",
        "  <li><strong>Datos categóricos:</strong> Sí cuenta con una columna categórica [Activity] que es la columna objetivo.</li>\n",
        "  <li><strong>Columnas innecesarias:</strong> Ninguna.</li>\n",
        "</ul>\n",
        "\n",
        "<p>Antes de convertir la columna <span style=\"color:orange\">[Activity]</span> a numérica, primero se obtuvieron los valores únicos de esa columna en la variable  <span style=\"color:orange\">\n",
        "value['STANDING','SITTING','LAYING','WALKING','WALKING_DOWNSTAIRS','WALKING_UPSTAIRS']</span>\n",
        "\n",
        "traducida al español <span style=\"color:orange\">value=['De pie','Sentado','Acostado','Caminar','Caminar Abajo','Caminar Arriba']</span> que sera usada al final para mostrar las predicciones\n",
        "\n",
        "\n",
        "Ya verificados se hiso el tratado de datos conviertiendo la columna [Activity] a numerica implementado la funcion **tratadoDatos(dataset,modificarColumnas,eliminarColumnas):**\n",
        "\n",
        "Luego se Asigno todas las columnas x a  \"X\" y la columna [Activity] a \"Y\"\n",
        "\n",
        "\n",
        "Para entrenar el modelo, se utilizaron **33** neuronas y **2** capas ocultas con la función de activación **ReLU**. En la capa de salida, se utilizaron las funciones de activación sigmoide y softmax. Se utilizó una tasa de aprendizaje de **0.01** y la función de pérdida CrossEntropy para un problema de clasificación. El modelo se entrenó durante **200** épocas con un tamaño de lote definido por batch_size =**15** . Con estos parámetros, el modelo se entrenó de manera efectiva en un tiempo razonable.\n",
        "\n",
        "Para hacer la predicción, se utilizó un conjunto de datos de prueba con un preprocesamiento diferente al utilizado en el conjunto de datos de entrenamiento. Esto se hizo para evitar modificar las clasificaciones en la columna Activity al convertirlas en valores numéricos.\n",
        "\n",
        "`(ejemplo: colummnas Activity de data de entrenamiento primer valor `**LAYING**` valor unico =0\n",
        "columna Activity de data de prueba primer valor `**STADING**` valor unico 0\n",
        "se estan cambiando las clases , es por eso que no se usa el mismo tratado de datos\n",
        ")`\n",
        "\n",
        " En su lugar, se utilizó una función llamada **reemplazar_valores_categoricos** para convertir la columna Activity en valores numéricos utilizando las categorías(**Value**) obtenidas del conjunto de datos de entrenamiento.\n",
        "\n",
        "Esta función toma como entrada el nombre de la columna Activity y las categorías obtenidas del conjunto de datos de entrenamiento. Las categorías son una lista ordenada de clases únicas, como `['STANDING','SITTING','LAYING','WALKING', 'WALKING_DOWNSTAIRS','WALKING_UPSTAIRS']`. La función compara cada valor en la columna Activity del conjunto de datos de prueba con las categorías y asigna el índice correspondiente a cada valor. Por ejemplo, si el primer valor en la columna Activity es `LAYING`, la función buscaría esta palabra en las categorías y encontraría que está en el índice 2. Luego, reemplazaría el valor `LAYING` por 2 en la columna Activity. De esta manera, se asigna el valor numérico correspondiente a cada clase.\n",
        "\n",
        "\n",
        "La precisión del modelo con los datos de prueba superó el 90% [93.41%]. con Epoch 200/200, Loss[error]: **0.1264 = 0.12.64%** de error . Para visualizar las predicciones y compararlas con los datos reales, se está utilizando la función **resultados(prediccion, y_real, value)**. Esta función muestra en verde las predicciones que fueron correctas y en rojo las que fallaron.\n",
        "\n"
      ],
      "metadata": {
        "id": "TNcfRvByaNML"
      }
    },
    {
      "cell_type": "code",
      "execution_count": null,
      "metadata": {
        "id": "YJIkwRhjZ8cB"
      },
      "outputs": [],
      "source": [
        "import os\n",
        "import numpy as np\n",
        "import pandas as pd\n",
        "import random\n",
        "np.random.seed(0)"
      ]
    },
    {
      "cell_type": "markdown",
      "source": [
        "# Clases y funciones de redes neuronales"
      ],
      "metadata": {
        "id": "xFqa8ERkdAce"
      }
    },
    {
      "cell_type": "code",
      "source": [
        "class MLP:\n",
        "    def __init__(self, layers):\n",
        "        # el MLP es una lista de capas\n",
        "        self.layers = layers\n",
        "\n",
        "    def __call__(self, x):\n",
        "        # calculamos la salida del modelo aplicando\n",
        "        # cada capa de manera secuencial\n",
        "        for layer in self.layers:\n",
        "            x = layer(x)\n",
        "        return x"
      ],
      "metadata": {
        "id": "Cor47OtQb_8R"
      },
      "execution_count": null,
      "outputs": []
    },
    {
      "cell_type": "code",
      "source": [
        "class Layer():\n",
        "    def __init__(self):\n",
        "        self.params = []\n",
        "        self.grads = []\n",
        "\n",
        "    def __call__(self, x):\n",
        "        # por defecto, devolver los inputs\n",
        "        # cada capa hará algo diferente aquí\n",
        "        return x\n",
        "\n",
        "    def backward(self, grad):\n",
        "        # cada capa, calculará sus gradientes\n",
        "        # y los devolverá para las capas siguientes\n",
        "        return grad\n",
        "\n",
        "    def update(self, params):\n",
        "        # si hay parámetros, los actualizaremos\n",
        "        # con lo que nos de el optimizer\n",
        "        return"
      ],
      "metadata": {
        "id": "H_kRolTKcHTI"
      },
      "execution_count": null,
      "outputs": []
    },
    {
      "cell_type": "code",
      "source": [
        "class Linear(Layer):\n",
        "    def __init__(self, d_in, d_out):\n",
        "        # pesos de la capa peso inicial diferente en cada ejecucion\n",
        "        self.w = np.random.normal(loc=0.0,\n",
        "                                  scale=np.sqrt(2/(d_in+d_out)),\n",
        "                                  size=(d_in, d_out))\n",
        "        self.b = np.zeros(d_out)\n",
        "\n",
        "    def __call__(self, x):\n",
        "        self.x = x\n",
        "        self.params = [self.w, self.b]\n",
        "        # salida del preceptrón\n",
        "        return np.dot(x, self.w) + self.b\n",
        "\n",
        "    def backward(self, grad_output):\n",
        "        # gradientes para la capa siguiente (BACKPROP)\n",
        "        grad = np.dot(grad_output, self.w.T)\n",
        "        self.grad_w = np.dot(self.x.T, grad_output)\n",
        "        # gradientes para actualizar pesos\n",
        "        self.grad_b = grad_output.mean(axis=0)*self.x.shape[0]\n",
        "        self.grads = [self.grad_w, self.grad_b]\n",
        "        return grad\n",
        "\n",
        "    def update(self, params):\n",
        "        self.w, self.b = params"
      ],
      "metadata": {
        "id": "HXip3LtwcSGk"
      },
      "execution_count": null,
      "outputs": []
    },
    {
      "cell_type": "code",
      "source": [
        "class ReLU(Layer):\n",
        "    def __call__(self, x):\n",
        "        self.x = x\n",
        "        return np.maximum(0, x)\n",
        "\n",
        "    def backward(self, grad_output):\n",
        "        grad = self.x > 0\n",
        "        return grad_output*grad\n",
        "\n",
        "def sigmoid(x):\n",
        "  return 1 / (1 + np.exp(-x))\n",
        "\n",
        "def softmax(x):\n",
        "    return np.exp(x) / np.exp(x).sum(axis=-1,keepdims=True)\n",
        "\n",
        "class Sigmoid(Layer):\n",
        "    def __call__(self, x):\n",
        "        self.x = x\n",
        "        return sigmoid(x)\n",
        "\n",
        "    def backward(self, grad_output):\n",
        "        grad = sigmoid(self.x)*(1 - sigmoid(self.x))\n",
        "        return grad_output*grad"
      ],
      "metadata": {
        "id": "xBAA9IX-cUjk"
      },
      "execution_count": null,
      "outputs": []
    },
    {
      "cell_type": "code",
      "source": [
        "class SGD():\n",
        "    def __init__(self, net, lr):\n",
        "        self.net = net\n",
        "        self.lr = lr\n",
        "\n",
        "    def update(self):\n",
        "        for layer in self.net.layers:\n",
        "            layer.update([\n",
        "                params - self.lr*grads\n",
        "                for params, grads in zip(layer.params, layer.grads)\n",
        "            ])"
      ],
      "metadata": {
        "id": "hfkQ-42ccXW1"
      },
      "execution_count": null,
      "outputs": []
    },
    {
      "cell_type": "code",
      "source": [
        "class Loss():\n",
        "    def __init__(self, net):\n",
        "        self.net = net\n",
        "\n",
        "    def backward(self):\n",
        "        # derivada de la loss function con respecto\n",
        "        # a la salida del MLP\n",
        "        grad = self.grad_loss()\n",
        "        # BACKPROPAGATION\n",
        "        for layer in reversed(self.net.layers):\n",
        "            grad = layer.backward(grad)\n",
        "class CrossEntropy(Loss):\n",
        "    def __call__(self, output, target):\n",
        "        self.output, self.target = output, target\n",
        "        logits = output[np.arange(len(output)), target.astype(int)]\n",
        "        loss = - logits + np.log(np.sum(np.exp(output), axis=-1))\n",
        "        loss = loss.mean()\n",
        "        return loss\n",
        "\n",
        "    def grad_loss(self):\n",
        "        answers = np.zeros_like(self.output)\n",
        "        answers[np.arange(len(self.output)), self.target.astype(int)] = 1\n",
        "        return (- answers + softmax(self.output)) / self.output.shape[0]"
      ],
      "metadata": {
        "id": "o1qTejg6cZof"
      },
      "execution_count": null,
      "outputs": []
    },
    {
      "cell_type": "markdown",
      "source": [
        "# Funciones para el tratado de datos"
      ],
      "metadata": {
        "id": "NFPIzy-fdI3-"
      }
    },
    {
      "cell_type": "code",
      "source": [
        "def tratadoDatos(dataset,modificarColumnas,eliminarColumnas):\n",
        "    data =pd.read_csv(dataset,encoding='latin-1')\n",
        "    columna = data.columns\n",
        "    #Convierte columnas categoricas a numericas\n",
        "    for index in modificarColumnas:\n",
        "        name = columna[index]\n",
        "        value = list(data[name].unique())\n",
        "        data[name] = data[name].map(dict(zip(value,[i for i in range(len(value))])))\n",
        "    #elimina columnas\n",
        "    data = data.drop([columna[index]for index in eliminarColumnas], axis=1)\n",
        "    #rellena datos nulos con la media\n",
        "    valor_media=data.select_dtypes(include=['number']).mean()\n",
        "    data = data.fillna(valor_media.round(2))\n",
        "    return data"
      ],
      "metadata": {
        "id": "4I9iOmAvcfUU"
      },
      "execution_count": null,
      "outputs": []
    },
    {
      "cell_type": "code",
      "source": [
        "def categoricas(data):\n",
        "    #Array con las posiciones de columnas categoricas del dataset\n",
        "    columna_categorica = data.select_dtypes(include=['object'])\n",
        "    print(columna_categorica.columns)\n",
        "    categorica = np.array([data.columns.get_loc(col) for col in columna_categorica.columns])\n",
        "    return categorica"
      ],
      "metadata": {
        "id": "EvQu7-wpg1z9"
      },
      "execution_count": null,
      "outputs": []
    },
    {
      "cell_type": "code",
      "source": [
        "def clasificaciones(data,columnay):\n",
        "    #Vista de Clasificaciones su cantidad del la columnas objetivo\n",
        "    value = list(data[columnay].unique())\n",
        "    print(\"clases :\",value)\n",
        "    print('Cantidad:',len(value))\n",
        "    data.info()\n",
        "    return value"
      ],
      "metadata": {
        "id": "sK9pQuXChIJp"
      },
      "execution_count": null,
      "outputs": []
    },
    {
      "cell_type": "code",
      "source": [
        "def nulos(data):\n",
        "    #cantidad de nulos y nombre y posicion de las columnas que lo tengan\n",
        "    nulos = data.isnull().sum().sum()\n",
        "    print(\"cantidad de nulos :\",nulos)\n",
        "    for i in range(len(data.columns)):\n",
        "        if data[data.columns[i]].isnull().sum()>0:\n",
        "            print(data.columns[i],i)"
      ],
      "metadata": {
        "id": "8U2bxBg8lOWw"
      },
      "execution_count": null,
      "outputs": []
    },
    {
      "cell_type": "markdown",
      "source": [
        "# Desarrollo de la solucion"
      ],
      "metadata": {
        "id": "z3Mq1E7mmiPT"
      }
    },
    {
      "cell_type": "code",
      "source": [
        "data=pd.read_csv('/content/train.csv')\n",
        "data"
      ],
      "metadata": {
        "colab": {
          "base_uri": "https://localhost:8080/",
          "height": 505
        },
        "id": "aGy0OOaqyTF3",
        "outputId": "406373a0-de2a-4bd5-ca32-04666ced28ef"
      },
      "execution_count": null,
      "outputs": [
        {
          "output_type": "execute_result",
          "data": {
            "text/plain": [
              "      tBodyAcc-mean()-X  tBodyAcc-mean()-Y  tBodyAcc-mean()-Z  \\\n",
              "0              0.288585          -0.020294          -0.132905   \n",
              "1              0.278419          -0.016411          -0.123520   \n",
              "2              0.279653          -0.019467          -0.113462   \n",
              "3              0.279174          -0.026201          -0.123283   \n",
              "4              0.276629          -0.016570          -0.115362   \n",
              "...                 ...                ...                ...   \n",
              "7347           0.299665          -0.057193          -0.181233   \n",
              "7348           0.273853          -0.007749          -0.147468   \n",
              "7349           0.273387          -0.017011          -0.045022   \n",
              "7350           0.289654          -0.018843          -0.158281   \n",
              "7351           0.351503          -0.012423          -0.203867   \n",
              "\n",
              "      tBodyAcc-std()-X  tBodyAcc-std()-Y  tBodyAcc-std()-Z  tBodyAcc-mad()-X  \\\n",
              "0            -0.995279         -0.983111         -0.913526         -0.995112   \n",
              "1            -0.998245         -0.975300         -0.960322         -0.998807   \n",
              "2            -0.995380         -0.967187         -0.978944         -0.996520   \n",
              "3            -0.996091         -0.983403         -0.990675         -0.997099   \n",
              "4            -0.998139         -0.980817         -0.990482         -0.998321   \n",
              "...                ...               ...               ...               ...   \n",
              "7347         -0.195387          0.039905          0.077078         -0.282301   \n",
              "7348         -0.235309          0.004816          0.059280         -0.322552   \n",
              "7349         -0.218218         -0.103822          0.274533         -0.304515   \n",
              "7350         -0.219139         -0.111412          0.268893         -0.310487   \n",
              "7351         -0.269270         -0.087212          0.177404         -0.377404   \n",
              "\n",
              "      tBodyAcc-mad()-Y  tBodyAcc-mad()-Z  tBodyAcc-max()-X  ...  \\\n",
              "0            -0.983185         -0.923527         -0.934724  ...   \n",
              "1            -0.974914         -0.957686         -0.943068  ...   \n",
              "2            -0.963668         -0.977469         -0.938692  ...   \n",
              "3            -0.982750         -0.989302         -0.938692  ...   \n",
              "4            -0.979672         -0.990441         -0.942469  ...   \n",
              "...                ...               ...               ...  ...   \n",
              "7347          0.043616          0.060410          0.210795  ...   \n",
              "7348         -0.029456          0.080585          0.117440  ...   \n",
              "7349         -0.098913          0.332584          0.043999  ...   \n",
              "7350         -0.068200          0.319473          0.101702  ...   \n",
              "7351         -0.038678          0.229430          0.269013  ...   \n",
              "\n",
              "      fBodyBodyGyroJerkMag-kurtosis()  angle(tBodyAccMean,gravity)  \\\n",
              "0                           -0.710304                    -0.112754   \n",
              "1                           -0.861499                     0.053477   \n",
              "2                           -0.760104                    -0.118559   \n",
              "3                           -0.482845                    -0.036788   \n",
              "4                           -0.699205                     0.123320   \n",
              "...                               ...                          ...   \n",
              "7347                        -0.880324                    -0.190437   \n",
              "7348                        -0.680744                     0.064907   \n",
              "7349                        -0.304029                     0.052806   \n",
              "7350                        -0.344314                    -0.101360   \n",
              "7351                        -0.740738                    -0.280088   \n",
              "\n",
              "      angle(tBodyAccJerkMean),gravityMean)  angle(tBodyGyroMean,gravityMean)  \\\n",
              "0                                 0.030400                         -0.464761   \n",
              "1                                -0.007435                         -0.732626   \n",
              "2                                 0.177899                          0.100699   \n",
              "3                                -0.012892                          0.640011   \n",
              "4                                 0.122542                          0.693578   \n",
              "...                                    ...                               ...   \n",
              "7347                              0.829718                          0.206972   \n",
              "7348                              0.875679                         -0.879033   \n",
              "7349                             -0.266724                          0.864404   \n",
              "7350                              0.700740                          0.936674   \n",
              "7351                             -0.007739                         -0.056088   \n",
              "\n",
              "      angle(tBodyGyroJerkMean,gravityMean)  angle(X,gravityMean)  \\\n",
              "0                                -0.018446             -0.841247   \n",
              "1                                 0.703511             -0.844788   \n",
              "2                                 0.808529             -0.848933   \n",
              "3                                -0.485366             -0.848649   \n",
              "4                                -0.615971             -0.847865   \n",
              "...                                    ...                   ...   \n",
              "7347                             -0.425619             -0.791883   \n",
              "7348                              0.400219             -0.771840   \n",
              "7349                              0.701169             -0.779133   \n",
              "7350                             -0.589479             -0.785181   \n",
              "7351                             -0.616956             -0.783267   \n",
              "\n",
              "      angle(Y,gravityMean)  angle(Z,gravityMean)  subject          Activity  \n",
              "0                 0.179941             -0.058627        1          STANDING  \n",
              "1                 0.180289             -0.054317        1          STANDING  \n",
              "2                 0.180637             -0.049118        1          STANDING  \n",
              "3                 0.181935             -0.047663        1          STANDING  \n",
              "4                 0.185151             -0.043892        1          STANDING  \n",
              "...                    ...                   ...      ...               ...  \n",
              "7347              0.238604              0.049819       30  WALKING_UPSTAIRS  \n",
              "7348              0.252676              0.050053       30  WALKING_UPSTAIRS  \n",
              "7349              0.249145              0.040811       30  WALKING_UPSTAIRS  \n",
              "7350              0.246432              0.025339       30  WALKING_UPSTAIRS  \n",
              "7351              0.246809              0.036695       30  WALKING_UPSTAIRS  \n",
              "\n",
              "[7352 rows x 563 columns]"
            ],
            "text/html": [
              "\n",
              "  <div id=\"df-c2f1bcaa-3171-4344-ba2d-0db09c32c946\">\n",
              "    <div class=\"colab-df-container\">\n",
              "      <div>\n",
              "<style scoped>\n",
              "    .dataframe tbody tr th:only-of-type {\n",
              "        vertical-align: middle;\n",
              "    }\n",
              "\n",
              "    .dataframe tbody tr th {\n",
              "        vertical-align: top;\n",
              "    }\n",
              "\n",
              "    .dataframe thead th {\n",
              "        text-align: right;\n",
              "    }\n",
              "</style>\n",
              "<table border=\"1\" class=\"dataframe\">\n",
              "  <thead>\n",
              "    <tr style=\"text-align: right;\">\n",
              "      <th></th>\n",
              "      <th>tBodyAcc-mean()-X</th>\n",
              "      <th>tBodyAcc-mean()-Y</th>\n",
              "      <th>tBodyAcc-mean()-Z</th>\n",
              "      <th>tBodyAcc-std()-X</th>\n",
              "      <th>tBodyAcc-std()-Y</th>\n",
              "      <th>tBodyAcc-std()-Z</th>\n",
              "      <th>tBodyAcc-mad()-X</th>\n",
              "      <th>tBodyAcc-mad()-Y</th>\n",
              "      <th>tBodyAcc-mad()-Z</th>\n",
              "      <th>tBodyAcc-max()-X</th>\n",
              "      <th>...</th>\n",
              "      <th>fBodyBodyGyroJerkMag-kurtosis()</th>\n",
              "      <th>angle(tBodyAccMean,gravity)</th>\n",
              "      <th>angle(tBodyAccJerkMean),gravityMean)</th>\n",
              "      <th>angle(tBodyGyroMean,gravityMean)</th>\n",
              "      <th>angle(tBodyGyroJerkMean,gravityMean)</th>\n",
              "      <th>angle(X,gravityMean)</th>\n",
              "      <th>angle(Y,gravityMean)</th>\n",
              "      <th>angle(Z,gravityMean)</th>\n",
              "      <th>subject</th>\n",
              "      <th>Activity</th>\n",
              "    </tr>\n",
              "  </thead>\n",
              "  <tbody>\n",
              "    <tr>\n",
              "      <th>0</th>\n",
              "      <td>0.288585</td>\n",
              "      <td>-0.020294</td>\n",
              "      <td>-0.132905</td>\n",
              "      <td>-0.995279</td>\n",
              "      <td>-0.983111</td>\n",
              "      <td>-0.913526</td>\n",
              "      <td>-0.995112</td>\n",
              "      <td>-0.983185</td>\n",
              "      <td>-0.923527</td>\n",
              "      <td>-0.934724</td>\n",
              "      <td>...</td>\n",
              "      <td>-0.710304</td>\n",
              "      <td>-0.112754</td>\n",
              "      <td>0.030400</td>\n",
              "      <td>-0.464761</td>\n",
              "      <td>-0.018446</td>\n",
              "      <td>-0.841247</td>\n",
              "      <td>0.179941</td>\n",
              "      <td>-0.058627</td>\n",
              "      <td>1</td>\n",
              "      <td>STANDING</td>\n",
              "    </tr>\n",
              "    <tr>\n",
              "      <th>1</th>\n",
              "      <td>0.278419</td>\n",
              "      <td>-0.016411</td>\n",
              "      <td>-0.123520</td>\n",
              "      <td>-0.998245</td>\n",
              "      <td>-0.975300</td>\n",
              "      <td>-0.960322</td>\n",
              "      <td>-0.998807</td>\n",
              "      <td>-0.974914</td>\n",
              "      <td>-0.957686</td>\n",
              "      <td>-0.943068</td>\n",
              "      <td>...</td>\n",
              "      <td>-0.861499</td>\n",
              "      <td>0.053477</td>\n",
              "      <td>-0.007435</td>\n",
              "      <td>-0.732626</td>\n",
              "      <td>0.703511</td>\n",
              "      <td>-0.844788</td>\n",
              "      <td>0.180289</td>\n",
              "      <td>-0.054317</td>\n",
              "      <td>1</td>\n",
              "      <td>STANDING</td>\n",
              "    </tr>\n",
              "    <tr>\n",
              "      <th>2</th>\n",
              "      <td>0.279653</td>\n",
              "      <td>-0.019467</td>\n",
              "      <td>-0.113462</td>\n",
              "      <td>-0.995380</td>\n",
              "      <td>-0.967187</td>\n",
              "      <td>-0.978944</td>\n",
              "      <td>-0.996520</td>\n",
              "      <td>-0.963668</td>\n",
              "      <td>-0.977469</td>\n",
              "      <td>-0.938692</td>\n",
              "      <td>...</td>\n",
              "      <td>-0.760104</td>\n",
              "      <td>-0.118559</td>\n",
              "      <td>0.177899</td>\n",
              "      <td>0.100699</td>\n",
              "      <td>0.808529</td>\n",
              "      <td>-0.848933</td>\n",
              "      <td>0.180637</td>\n",
              "      <td>-0.049118</td>\n",
              "      <td>1</td>\n",
              "      <td>STANDING</td>\n",
              "    </tr>\n",
              "    <tr>\n",
              "      <th>3</th>\n",
              "      <td>0.279174</td>\n",
              "      <td>-0.026201</td>\n",
              "      <td>-0.123283</td>\n",
              "      <td>-0.996091</td>\n",
              "      <td>-0.983403</td>\n",
              "      <td>-0.990675</td>\n",
              "      <td>-0.997099</td>\n",
              "      <td>-0.982750</td>\n",
              "      <td>-0.989302</td>\n",
              "      <td>-0.938692</td>\n",
              "      <td>...</td>\n",
              "      <td>-0.482845</td>\n",
              "      <td>-0.036788</td>\n",
              "      <td>-0.012892</td>\n",
              "      <td>0.640011</td>\n",
              "      <td>-0.485366</td>\n",
              "      <td>-0.848649</td>\n",
              "      <td>0.181935</td>\n",
              "      <td>-0.047663</td>\n",
              "      <td>1</td>\n",
              "      <td>STANDING</td>\n",
              "    </tr>\n",
              "    <tr>\n",
              "      <th>4</th>\n",
              "      <td>0.276629</td>\n",
              "      <td>-0.016570</td>\n",
              "      <td>-0.115362</td>\n",
              "      <td>-0.998139</td>\n",
              "      <td>-0.980817</td>\n",
              "      <td>-0.990482</td>\n",
              "      <td>-0.998321</td>\n",
              "      <td>-0.979672</td>\n",
              "      <td>-0.990441</td>\n",
              "      <td>-0.942469</td>\n",
              "      <td>...</td>\n",
              "      <td>-0.699205</td>\n",
              "      <td>0.123320</td>\n",
              "      <td>0.122542</td>\n",
              "      <td>0.693578</td>\n",
              "      <td>-0.615971</td>\n",
              "      <td>-0.847865</td>\n",
              "      <td>0.185151</td>\n",
              "      <td>-0.043892</td>\n",
              "      <td>1</td>\n",
              "      <td>STANDING</td>\n",
              "    </tr>\n",
              "    <tr>\n",
              "      <th>...</th>\n",
              "      <td>...</td>\n",
              "      <td>...</td>\n",
              "      <td>...</td>\n",
              "      <td>...</td>\n",
              "      <td>...</td>\n",
              "      <td>...</td>\n",
              "      <td>...</td>\n",
              "      <td>...</td>\n",
              "      <td>...</td>\n",
              "      <td>...</td>\n",
              "      <td>...</td>\n",
              "      <td>...</td>\n",
              "      <td>...</td>\n",
              "      <td>...</td>\n",
              "      <td>...</td>\n",
              "      <td>...</td>\n",
              "      <td>...</td>\n",
              "      <td>...</td>\n",
              "      <td>...</td>\n",
              "      <td>...</td>\n",
              "      <td>...</td>\n",
              "    </tr>\n",
              "    <tr>\n",
              "      <th>7347</th>\n",
              "      <td>0.299665</td>\n",
              "      <td>-0.057193</td>\n",
              "      <td>-0.181233</td>\n",
              "      <td>-0.195387</td>\n",
              "      <td>0.039905</td>\n",
              "      <td>0.077078</td>\n",
              "      <td>-0.282301</td>\n",
              "      <td>0.043616</td>\n",
              "      <td>0.060410</td>\n",
              "      <td>0.210795</td>\n",
              "      <td>...</td>\n",
              "      <td>-0.880324</td>\n",
              "      <td>-0.190437</td>\n",
              "      <td>0.829718</td>\n",
              "      <td>0.206972</td>\n",
              "      <td>-0.425619</td>\n",
              "      <td>-0.791883</td>\n",
              "      <td>0.238604</td>\n",
              "      <td>0.049819</td>\n",
              "      <td>30</td>\n",
              "      <td>WALKING_UPSTAIRS</td>\n",
              "    </tr>\n",
              "    <tr>\n",
              "      <th>7348</th>\n",
              "      <td>0.273853</td>\n",
              "      <td>-0.007749</td>\n",
              "      <td>-0.147468</td>\n",
              "      <td>-0.235309</td>\n",
              "      <td>0.004816</td>\n",
              "      <td>0.059280</td>\n",
              "      <td>-0.322552</td>\n",
              "      <td>-0.029456</td>\n",
              "      <td>0.080585</td>\n",
              "      <td>0.117440</td>\n",
              "      <td>...</td>\n",
              "      <td>-0.680744</td>\n",
              "      <td>0.064907</td>\n",
              "      <td>0.875679</td>\n",
              "      <td>-0.879033</td>\n",
              "      <td>0.400219</td>\n",
              "      <td>-0.771840</td>\n",
              "      <td>0.252676</td>\n",
              "      <td>0.050053</td>\n",
              "      <td>30</td>\n",
              "      <td>WALKING_UPSTAIRS</td>\n",
              "    </tr>\n",
              "    <tr>\n",
              "      <th>7349</th>\n",
              "      <td>0.273387</td>\n",
              "      <td>-0.017011</td>\n",
              "      <td>-0.045022</td>\n",
              "      <td>-0.218218</td>\n",
              "      <td>-0.103822</td>\n",
              "      <td>0.274533</td>\n",
              "      <td>-0.304515</td>\n",
              "      <td>-0.098913</td>\n",
              "      <td>0.332584</td>\n",
              "      <td>0.043999</td>\n",
              "      <td>...</td>\n",
              "      <td>-0.304029</td>\n",
              "      <td>0.052806</td>\n",
              "      <td>-0.266724</td>\n",
              "      <td>0.864404</td>\n",
              "      <td>0.701169</td>\n",
              "      <td>-0.779133</td>\n",
              "      <td>0.249145</td>\n",
              "      <td>0.040811</td>\n",
              "      <td>30</td>\n",
              "      <td>WALKING_UPSTAIRS</td>\n",
              "    </tr>\n",
              "    <tr>\n",
              "      <th>7350</th>\n",
              "      <td>0.289654</td>\n",
              "      <td>-0.018843</td>\n",
              "      <td>-0.158281</td>\n",
              "      <td>-0.219139</td>\n",
              "      <td>-0.111412</td>\n",
              "      <td>0.268893</td>\n",
              "      <td>-0.310487</td>\n",
              "      <td>-0.068200</td>\n",
              "      <td>0.319473</td>\n",
              "      <td>0.101702</td>\n",
              "      <td>...</td>\n",
              "      <td>-0.344314</td>\n",
              "      <td>-0.101360</td>\n",
              "      <td>0.700740</td>\n",
              "      <td>0.936674</td>\n",
              "      <td>-0.589479</td>\n",
              "      <td>-0.785181</td>\n",
              "      <td>0.246432</td>\n",
              "      <td>0.025339</td>\n",
              "      <td>30</td>\n",
              "      <td>WALKING_UPSTAIRS</td>\n",
              "    </tr>\n",
              "    <tr>\n",
              "      <th>7351</th>\n",
              "      <td>0.351503</td>\n",
              "      <td>-0.012423</td>\n",
              "      <td>-0.203867</td>\n",
              "      <td>-0.269270</td>\n",
              "      <td>-0.087212</td>\n",
              "      <td>0.177404</td>\n",
              "      <td>-0.377404</td>\n",
              "      <td>-0.038678</td>\n",
              "      <td>0.229430</td>\n",
              "      <td>0.269013</td>\n",
              "      <td>...</td>\n",
              "      <td>-0.740738</td>\n",
              "      <td>-0.280088</td>\n",
              "      <td>-0.007739</td>\n",
              "      <td>-0.056088</td>\n",
              "      <td>-0.616956</td>\n",
              "      <td>-0.783267</td>\n",
              "      <td>0.246809</td>\n",
              "      <td>0.036695</td>\n",
              "      <td>30</td>\n",
              "      <td>WALKING_UPSTAIRS</td>\n",
              "    </tr>\n",
              "  </tbody>\n",
              "</table>\n",
              "<p>7352 rows × 563 columns</p>\n",
              "</div>\n",
              "      <button class=\"colab-df-convert\" onclick=\"convertToInteractive('df-c2f1bcaa-3171-4344-ba2d-0db09c32c946')\"\n",
              "              title=\"Convert this dataframe to an interactive table.\"\n",
              "              style=\"display:none;\">\n",
              "        \n",
              "  <svg xmlns=\"http://www.w3.org/2000/svg\" height=\"24px\"viewBox=\"0 0 24 24\"\n",
              "       width=\"24px\">\n",
              "    <path d=\"M0 0h24v24H0V0z\" fill=\"none\"/>\n",
              "    <path d=\"M18.56 5.44l.94 2.06.94-2.06 2.06-.94-2.06-.94-.94-2.06-.94 2.06-2.06.94zm-11 1L8.5 8.5l.94-2.06 2.06-.94-2.06-.94L8.5 2.5l-.94 2.06-2.06.94zm10 10l.94 2.06.94-2.06 2.06-.94-2.06-.94-.94-2.06-.94 2.06-2.06.94z\"/><path d=\"M17.41 7.96l-1.37-1.37c-.4-.4-.92-.59-1.43-.59-.52 0-1.04.2-1.43.59L10.3 9.45l-7.72 7.72c-.78.78-.78 2.05 0 2.83L4 21.41c.39.39.9.59 1.41.59.51 0 1.02-.2 1.41-.59l7.78-7.78 2.81-2.81c.8-.78.8-2.07 0-2.86zM5.41 20L4 18.59l7.72-7.72 1.47 1.35L5.41 20z\"/>\n",
              "  </svg>\n",
              "      </button>\n",
              "      \n",
              "  <style>\n",
              "    .colab-df-container {\n",
              "      display:flex;\n",
              "      flex-wrap:wrap;\n",
              "      gap: 12px;\n",
              "    }\n",
              "\n",
              "    .colab-df-convert {\n",
              "      background-color: #E8F0FE;\n",
              "      border: none;\n",
              "      border-radius: 50%;\n",
              "      cursor: pointer;\n",
              "      display: none;\n",
              "      fill: #1967D2;\n",
              "      height: 32px;\n",
              "      padding: 0 0 0 0;\n",
              "      width: 32px;\n",
              "    }\n",
              "\n",
              "    .colab-df-convert:hover {\n",
              "      background-color: #E2EBFA;\n",
              "      box-shadow: 0px 1px 2px rgba(60, 64, 67, 0.3), 0px 1px 3px 1px rgba(60, 64, 67, 0.15);\n",
              "      fill: #174EA6;\n",
              "    }\n",
              "\n",
              "    [theme=dark] .colab-df-convert {\n",
              "      background-color: #3B4455;\n",
              "      fill: #D2E3FC;\n",
              "    }\n",
              "\n",
              "    [theme=dark] .colab-df-convert:hover {\n",
              "      background-color: #434B5C;\n",
              "      box-shadow: 0px 1px 3px 1px rgba(0, 0, 0, 0.15);\n",
              "      filter: drop-shadow(0px 1px 2px rgba(0, 0, 0, 0.3));\n",
              "      fill: #FFFFFF;\n",
              "    }\n",
              "  </style>\n",
              "\n",
              "      <script>\n",
              "        const buttonEl =\n",
              "          document.querySelector('#df-c2f1bcaa-3171-4344-ba2d-0db09c32c946 button.colab-df-convert');\n",
              "        buttonEl.style.display =\n",
              "          google.colab.kernel.accessAllowed ? 'block' : 'none';\n",
              "\n",
              "        async function convertToInteractive(key) {\n",
              "          const element = document.querySelector('#df-c2f1bcaa-3171-4344-ba2d-0db09c32c946');\n",
              "          const dataTable =\n",
              "            await google.colab.kernel.invokeFunction('convertToInteractive',\n",
              "                                                     [key], {});\n",
              "          if (!dataTable) return;\n",
              "\n",
              "          const docLinkHtml = 'Like what you see? Visit the ' +\n",
              "            '<a target=\"_blank\" href=https://colab.research.google.com/notebooks/data_table.ipynb>data table notebook</a>'\n",
              "            + ' to learn more about interactive tables.';\n",
              "          element.innerHTML = '';\n",
              "          dataTable['output_type'] = 'display_data';\n",
              "          await google.colab.output.renderOutput(dataTable, element);\n",
              "          const docLink = document.createElement('div');\n",
              "          docLink.innerHTML = docLinkHtml;\n",
              "          element.appendChild(docLink);\n",
              "        }\n",
              "      </script>\n",
              "    </div>\n",
              "  </div>\n",
              "  "
            ]
          },
          "metadata": {},
          "execution_count": 55
        }
      ]
    },
    {
      "cell_type": "code",
      "source": [
        "#Se obtiene columnas del dataset que son categóricas\n",
        "categorica=categoricas(data)\n",
        "print(categorica)\n",
        "nulos(data)"
      ],
      "metadata": {
        "colab": {
          "base_uri": "https://localhost:8080/"
        },
        "id": "U4EA8czQze3F",
        "outputId": "a7e4061b-e5e0-43fd-cb21-b1199c362429"
      },
      "execution_count": null,
      "outputs": [
        {
          "output_type": "stream",
          "name": "stdout",
          "text": [
            "Index(['Activity'], dtype='object')\n",
            "[562]\n",
            "cantidad de nulos : 0\n"
          ]
        }
      ]
    },
    {
      "cell_type": "code",
      "source": [
        "#Se obtiene que clases y cuantas ,tiene la columna objetivo\n",
        "value=clasificaciones(data,'Activity')"
      ],
      "metadata": {
        "colab": {
          "base_uri": "https://localhost:8080/"
        },
        "id": "VLWPDqLc08yu",
        "outputId": "ed094171-cb55-4a4b-c239-650d5b6625a6"
      },
      "execution_count": null,
      "outputs": [
        {
          "output_type": "stream",
          "name": "stdout",
          "text": [
            "clases : ['STANDING', 'SITTING', 'LAYING', 'WALKING', 'WALKING_DOWNSTAIRS', 'WALKING_UPSTAIRS']\n",
            "Cantidad: 6\n",
            "<class 'pandas.core.frame.DataFrame'>\n",
            "RangeIndex: 7352 entries, 0 to 7351\n",
            "Columns: 563 entries, tBodyAcc-mean()-X to Activity\n",
            "dtypes: float64(561), int64(1), object(1)\n",
            "memory usage: 31.6+ MB\n"
          ]
        }
      ]
    },
    {
      "cell_type": "code",
      "source": [
        "#Se está usando la función de tratamiento de datos a la que se le da la ruta del dataset,\n",
        "#las columnas categóricas obtenidas anteriormente y un array vacío [] porque no hay columnas que eliminar.\n",
        "data=tratadoDatos('/content/train.csv',categorica,[])"
      ],
      "metadata": {
        "id": "_9WoZK1I5Etn"
      },
      "execution_count": null,
      "outputs": []
    },
    {
      "cell_type": "code",
      "source": [
        "#Se convierte el DataFrame a un array de NumPy, luego se asigna a X todas las columnas menos la ultima y la última columna [Activity] a Y\n",
        "data=data.to_numpy()\n",
        "X=data[:,:562]\n",
        "Y=data[:,562]\n",
        "print(X.shape)\n",
        "print(Y.shape)\n",
        "print(X)\n",
        "print(\"---\"*20)\n",
        "print(Y)"
      ],
      "metadata": {
        "colab": {
          "base_uri": "https://localhost:8080/"
        },
        "id": "MyLnVzhe6eNs",
        "outputId": "0c20b9f0-6369-464c-ab2e-082beebf0726"
      },
      "execution_count": null,
      "outputs": [
        {
          "output_type": "stream",
          "name": "stdout",
          "text": [
            "(7352, 562)\n",
            "(7352,)\n",
            "[[ 2.8858451e-01 -2.0294171e-02 -1.3290514e-01 ...  1.7994061e-01\n",
            "  -5.8626924e-02  1.0000000e+00]\n",
            " [ 2.7841883e-01 -1.6410568e-02 -1.2352019e-01 ...  1.8028889e-01\n",
            "  -5.4316717e-02  1.0000000e+00]\n",
            " [ 2.7965306e-01 -1.9467156e-02 -1.1346169e-01 ...  1.8063731e-01\n",
            "  -4.9117815e-02  1.0000000e+00]\n",
            " ...\n",
            " [ 2.7338737e-01 -1.7010616e-02 -4.5021828e-02 ...  2.4914484e-01\n",
            "   4.0811188e-02  3.0000000e+01]\n",
            " [ 2.8965416e-01 -1.8843044e-02 -1.5828059e-01 ...  2.4643223e-01\n",
            "   2.5339478e-02  3.0000000e+01]\n",
            " [ 3.5150347e-01 -1.2423118e-02 -2.0386717e-01 ...  2.4680852e-01\n",
            "   3.6694843e-02  3.0000000e+01]]\n",
            "------------------------------------------------------------\n",
            "[0. 0. 0. ... 5. 5. 5.]\n"
          ]
        }
      ]
    },
    {
      "cell_type": "code",
      "source": [
        "D_in = 562  # Entradas X\n",
        "H = 33      # Neuronas\n",
        "D_out = 6   #Clasificaciones\n",
        "mlp = MLP([\n",
        "    Linear(D_in, H),\n",
        "    ReLU(),\n",
        "    Linear(H, H), #capas ocultas\n",
        "    ReLU(),\n",
        "    Linear(H, D_out) #capa salida\n",
        "])\n",
        "\n",
        "optimizer = SGD(mlp, lr=0.01)\n",
        "loss = CrossEntropy(mlp)\n",
        "\n",
        "epochs = 200   #epocas (veces que pasa el modelo por todo el conjunto de entrenamiento )\n",
        "batch_size = 15   #Lotes de entrenamiento(Numero de muestras) que se usan para actualizar los pesos del modelo durante el entrenamiento\n",
        "\n",
        "batches = len(X) // batch_size\n",
        "log_each = 40  # cada cuantas epocas se va mostrar la perdida promedio\n",
        "l = []\n",
        "for e in range(1,epochs+1):\n",
        "    _l = []\n",
        "    for b in range(batches):\n",
        "        x = X[b*batch_size:(b+1)*batch_size]\n",
        "        y = Y[b*batch_size:(b+1)*batch_size]\n",
        "        y_pred = mlp(x)\n",
        "        _l.append(loss(y_pred, y))\n",
        "        loss.backward()\n",
        "        optimizer.update()\n",
        "    l.append(np.mean(_l))\n",
        "    if not e % log_each:\n",
        "        print(f'Epoca {e}/{epochs}, perdida: {np.mean(l):.4f}')\n"
      ],
      "metadata": {
        "id": "8XPNeGyArdfg",
        "colab": {
          "base_uri": "https://localhost:8080/"
        },
        "outputId": "a15c88c0-9e22-49a0-f76c-750351b720c9"
      },
      "execution_count": null,
      "outputs": [
        {
          "output_type": "stream",
          "name": "stdout",
          "text": [
            "Epoca 40/200, perdida: 0.3259\n",
            "Epoca 80/200, perdida: 0.2214\n",
            "Epoca 120/200, perdida: 0.1742\n",
            "Epoca 160/200, perdida: 0.1460\n",
            "Epoca 200/200, perdida: 0.1264\n"
          ]
        }
      ]
    },
    {
      "cell_type": "markdown",
      "source": [
        "### Probar con datos de prueba"
      ],
      "metadata": {
        "id": "8VQJBcWz-a7U"
      }
    },
    {
      "cell_type": "code",
      "source": [
        "data=pd.read_csv('/content/test.csv')"
      ],
      "metadata": {
        "id": "Xm5eSVlE-jpW"
      },
      "execution_count": null,
      "outputs": []
    },
    {
      "cell_type": "code",
      "source": [
        "def reemplazar_valores_categoricos(data, columnas, categorias):\n",
        "    #Solo para el dataset de datos de prueba\n",
        "    for col, cat in zip(columnas, categorias):\n",
        "        data[col] = data[col].map(lambda x: cat.index(x))\n",
        "    return data"
      ],
      "metadata": {
        "id": "iRnE5uwN-u5l"
      },
      "execution_count": null,
      "outputs": []
    },
    {
      "cell_type": "code",
      "source": [
        "value"
      ],
      "metadata": {
        "colab": {
          "base_uri": "https://localhost:8080/"
        },
        "id": "PQl3KgRcDvjy",
        "outputId": "2de2324c-5ac0-4210-d9dc-7f4783a00e71"
      },
      "execution_count": null,
      "outputs": [
        {
          "output_type": "execute_result",
          "data": {
            "text/plain": [
              "['STANDING',\n",
              " 'SITTING',\n",
              " 'LAYING',\n",
              " 'WALKING',\n",
              " 'WALKING_DOWNSTAIRS',\n",
              " 'WALKING_UPSTAIRS']"
            ]
          },
          "metadata": {},
          "execution_count": 63
        }
      ]
    },
    {
      "cell_type": "code",
      "source": [
        "#Tratado de datos\n",
        "columnas = ['Activity']\n",
        "categorias=[value]\n",
        "data = reemplazar_valores_categoricos(data, columnas, categorias)"
      ],
      "metadata": {
        "id": "it6er8KODoij"
      },
      "execution_count": null,
      "outputs": []
    },
    {
      "cell_type": "code",
      "source": [
        "#verificar que el dataset no tenga columnas categoricas\n",
        "categorica=categoricas(data)\n",
        "print(categorica)"
      ],
      "metadata": {
        "colab": {
          "base_uri": "https://localhost:8080/"
        },
        "id": "Scv3A19aEEf6",
        "outputId": "5d065746-0a56-4946-fe35-30f18093c4a7"
      },
      "execution_count": null,
      "outputs": [
        {
          "output_type": "stream",
          "name": "stdout",
          "text": [
            "Index([], dtype='object')\n",
            "[]\n"
          ]
        }
      ]
    },
    {
      "cell_type": "code",
      "source": [
        "data=data.to_numpy()\n",
        "X=data[:,:562]\n",
        "Y=data[:,562]\n",
        "print(X.shape)\n",
        "print(Y.shape)"
      ],
      "metadata": {
        "colab": {
          "base_uri": "https://localhost:8080/"
        },
        "id": "dwcpgtJdEX5w",
        "outputId": "658b1f2f-e5a2-4583-8e72-d281df703145"
      },
      "execution_count": null,
      "outputs": [
        {
          "output_type": "stream",
          "name": "stdout",
          "text": [
            "(2947, 562)\n",
            "(2947,)\n"
          ]
        }
      ]
    },
    {
      "cell_type": "code",
      "source": [
        "#Actividades (CAMINAR, CAMINAR_ARRIBA, CAMINAR_ABAJO, SENTADO, DE PIE, ACOSTADO)\n",
        "#(WALKING, WALKING_UPSTAIRS, WALKING_DOWNSTAIRS, SITTING, STANDING, LAYING)\n",
        "value"
      ],
      "metadata": {
        "colab": {
          "base_uri": "https://localhost:8080/"
        },
        "id": "xSLv9_gLIq8B",
        "outputId": "a7be6968-eaf7-47b2-884d-13ef96d1994b"
      },
      "execution_count": null,
      "outputs": [
        {
          "output_type": "execute_result",
          "data": {
            "text/plain": [
              "['STANDING',\n",
              " 'SITTING',\n",
              " 'LAYING',\n",
              " 'WALKING',\n",
              " 'WALKING_DOWNSTAIRS',\n",
              " 'WALKING_UPSTAIRS']"
            ]
          },
          "metadata": {},
          "execution_count": 67
        }
      ]
    },
    {
      "cell_type": "code",
      "source": [
        "value=['De pie','Sentado','Acostado','Caminar','Caminar Abajo','Caminar Arriba']"
      ],
      "metadata": {
        "id": "vI5Vo0uUI-oO"
      },
      "execution_count": null,
      "outputs": []
    },
    {
      "cell_type": "code",
      "source": [
        "from IPython.display import HTML\n",
        "#Imprimir resultados de prediccion y  las reales\n",
        "def resultados(prediccion,y_real,value):\n",
        "  display(HTML('<b style=\"word-spacing: 15px;\">N   Reales    Predicciones</b>'))\n",
        "  num=1\n",
        "  for p,y in zip(prediccion , y_real):\n",
        "     if(num<=500 or num > len(prediccion)-20):\n",
        "        if p == y:\n",
        "            display(HTML(f'<font color=\"green\" style=\"white-space: pre;\" > {num} <span>    </span>{value[int(y)]} <span>    </span> {value[int(p)]}</font>'))\n",
        "        else:\n",
        "            display(HTML(f'<font color=\"red\" style=\"white-space: pre;\"> {num} <span>    </span>{value[int(y)]} <span>    </span> {value[int(p)]}</font>'))\n",
        "        if num==500:\n",
        "             print(\".........\"*3)\n",
        "     num=num+1"
      ],
      "metadata": {
        "id": "WMGqMxsSS84K"
      },
      "execution_count": null,
      "outputs": []
    },
    {
      "cell_type": "code",
      "source": [
        "#Array de prueba\n",
        "cantidad_pruebas=2946\n",
        "\n",
        "X_test = X[:cantidad_pruebas, :].copy()\n",
        "\n",
        "# Pasar los datos de prueba a través del modelo para obtener las predicciones\n",
        "prediccion_y = mlp(X_test)\n",
        "\n",
        "#encuentra la clase con la mayor probabilidad en las predicciones del modelo\n",
        "prediccion = np.argmax(prediccion_y, axis=1)\n",
        "\n",
        "# Porcentaje de relacion entre prediccion y datos reales\n",
        "print('Precision de entrenamiento: {:.2f}%'.format(np.mean(prediccion == Y[:cantidad_pruebas]) * 100))\n",
        "print(\"---\"*20)\n",
        "# Vista de Predicciones del modelo para comparar\n",
        "y_real=Y[:cantidad_pruebas]\n",
        "\n",
        "resultados(prediccion,y_real,value)#93.41%\n"
      ],
      "metadata": {
        "id": "ETfZwKT5r0Fz",
        "colab": {
          "base_uri": "https://localhost:8080/",
          "height": 1000
        },
        "outputId": "032c3b80-57c9-43a7-f1fb-e24ed7b7a55f"
      },
      "execution_count": null,
      "outputs": [
        {
          "output_type": "stream",
          "name": "stdout",
          "text": [
            "Precision de entrenamiento: 93.41%\n",
            "------------------------------------------------------------\n"
          ]
        },
        {
          "output_type": "display_data",
          "data": {
            "text/plain": [
              "<IPython.core.display.HTML object>"
            ],
            "text/html": [
              "<b style=\"word-spacing: 15px;\">N   Reales    Predicciones</b>"
            ]
          },
          "metadata": {}
        },
        {
          "output_type": "display_data",
          "data": {
            "text/plain": [
              "<IPython.core.display.HTML object>"
            ],
            "text/html": [
              "<font color=\"green\" style=\"white-space: pre;\" > 1 <span>    </span>De pie <span>    </span> De pie</font>"
            ]
          },
          "metadata": {}
        },
        {
          "output_type": "display_data",
          "data": {
            "text/plain": [
              "<IPython.core.display.HTML object>"
            ],
            "text/html": [
              "<font color=\"green\" style=\"white-space: pre;\" > 2 <span>    </span>De pie <span>    </span> De pie</font>"
            ]
          },
          "metadata": {}
        },
        {
          "output_type": "display_data",
          "data": {
            "text/plain": [
              "<IPython.core.display.HTML object>"
            ],
            "text/html": [
              "<font color=\"green\" style=\"white-space: pre;\" > 3 <span>    </span>De pie <span>    </span> De pie</font>"
            ]
          },
          "metadata": {}
        },
        {
          "output_type": "display_data",
          "data": {
            "text/plain": [
              "<IPython.core.display.HTML object>"
            ],
            "text/html": [
              "<font color=\"green\" style=\"white-space: pre;\" > 4 <span>    </span>De pie <span>    </span> De pie</font>"
            ]
          },
          "metadata": {}
        },
        {
          "output_type": "display_data",
          "data": {
            "text/plain": [
              "<IPython.core.display.HTML object>"
            ],
            "text/html": [
              "<font color=\"green\" style=\"white-space: pre;\" > 5 <span>    </span>De pie <span>    </span> De pie</font>"
            ]
          },
          "metadata": {}
        },
        {
          "output_type": "display_data",
          "data": {
            "text/plain": [
              "<IPython.core.display.HTML object>"
            ],
            "text/html": [
              "<font color=\"green\" style=\"white-space: pre;\" > 6 <span>    </span>De pie <span>    </span> De pie</font>"
            ]
          },
          "metadata": {}
        },
        {
          "output_type": "display_data",
          "data": {
            "text/plain": [
              "<IPython.core.display.HTML object>"
            ],
            "text/html": [
              "<font color=\"green\" style=\"white-space: pre;\" > 7 <span>    </span>De pie <span>    </span> De pie</font>"
            ]
          },
          "metadata": {}
        },
        {
          "output_type": "display_data",
          "data": {
            "text/plain": [
              "<IPython.core.display.HTML object>"
            ],
            "text/html": [
              "<font color=\"green\" style=\"white-space: pre;\" > 8 <span>    </span>De pie <span>    </span> De pie</font>"
            ]
          },
          "metadata": {}
        },
        {
          "output_type": "display_data",
          "data": {
            "text/plain": [
              "<IPython.core.display.HTML object>"
            ],
            "text/html": [
              "<font color=\"green\" style=\"white-space: pre;\" > 9 <span>    </span>De pie <span>    </span> De pie</font>"
            ]
          },
          "metadata": {}
        },
        {
          "output_type": "display_data",
          "data": {
            "text/plain": [
              "<IPython.core.display.HTML object>"
            ],
            "text/html": [
              "<font color=\"green\" style=\"white-space: pre;\" > 10 <span>    </span>De pie <span>    </span> De pie</font>"
            ]
          },
          "metadata": {}
        },
        {
          "output_type": "display_data",
          "data": {
            "text/plain": [
              "<IPython.core.display.HTML object>"
            ],
            "text/html": [
              "<font color=\"green\" style=\"white-space: pre;\" > 11 <span>    </span>De pie <span>    </span> De pie</font>"
            ]
          },
          "metadata": {}
        },
        {
          "output_type": "display_data",
          "data": {
            "text/plain": [
              "<IPython.core.display.HTML object>"
            ],
            "text/html": [
              "<font color=\"green\" style=\"white-space: pre;\" > 12 <span>    </span>De pie <span>    </span> De pie</font>"
            ]
          },
          "metadata": {}
        },
        {
          "output_type": "display_data",
          "data": {
            "text/plain": [
              "<IPython.core.display.HTML object>"
            ],
            "text/html": [
              "<font color=\"green\" style=\"white-space: pre;\" > 13 <span>    </span>De pie <span>    </span> De pie</font>"
            ]
          },
          "metadata": {}
        },
        {
          "output_type": "display_data",
          "data": {
            "text/plain": [
              "<IPython.core.display.HTML object>"
            ],
            "text/html": [
              "<font color=\"green\" style=\"white-space: pre;\" > 14 <span>    </span>De pie <span>    </span> De pie</font>"
            ]
          },
          "metadata": {}
        },
        {
          "output_type": "display_data",
          "data": {
            "text/plain": [
              "<IPython.core.display.HTML object>"
            ],
            "text/html": [
              "<font color=\"green\" style=\"white-space: pre;\" > 15 <span>    </span>De pie <span>    </span> De pie</font>"
            ]
          },
          "metadata": {}
        },
        {
          "output_type": "display_data",
          "data": {
            "text/plain": [
              "<IPython.core.display.HTML object>"
            ],
            "text/html": [
              "<font color=\"green\" style=\"white-space: pre;\" > 16 <span>    </span>De pie <span>    </span> De pie</font>"
            ]
          },
          "metadata": {}
        },
        {
          "output_type": "display_data",
          "data": {
            "text/plain": [
              "<IPython.core.display.HTML object>"
            ],
            "text/html": [
              "<font color=\"green\" style=\"white-space: pre;\" > 17 <span>    </span>De pie <span>    </span> De pie</font>"
            ]
          },
          "metadata": {}
        },
        {
          "output_type": "display_data",
          "data": {
            "text/plain": [
              "<IPython.core.display.HTML object>"
            ],
            "text/html": [
              "<font color=\"green\" style=\"white-space: pre;\" > 18 <span>    </span>De pie <span>    </span> De pie</font>"
            ]
          },
          "metadata": {}
        },
        {
          "output_type": "display_data",
          "data": {
            "text/plain": [
              "<IPython.core.display.HTML object>"
            ],
            "text/html": [
              "<font color=\"green\" style=\"white-space: pre;\" > 19 <span>    </span>De pie <span>    </span> De pie</font>"
            ]
          },
          "metadata": {}
        },
        {
          "output_type": "display_data",
          "data": {
            "text/plain": [
              "<IPython.core.display.HTML object>"
            ],
            "text/html": [
              "<font color=\"green\" style=\"white-space: pre;\" > 20 <span>    </span>De pie <span>    </span> De pie</font>"
            ]
          },
          "metadata": {}
        },
        {
          "output_type": "display_data",
          "data": {
            "text/plain": [
              "<IPython.core.display.HTML object>"
            ],
            "text/html": [
              "<font color=\"green\" style=\"white-space: pre;\" > 21 <span>    </span>De pie <span>    </span> De pie</font>"
            ]
          },
          "metadata": {}
        },
        {
          "output_type": "display_data",
          "data": {
            "text/plain": [
              "<IPython.core.display.HTML object>"
            ],
            "text/html": [
              "<font color=\"green\" style=\"white-space: pre;\" > 22 <span>    </span>De pie <span>    </span> De pie</font>"
            ]
          },
          "metadata": {}
        },
        {
          "output_type": "display_data",
          "data": {
            "text/plain": [
              "<IPython.core.display.HTML object>"
            ],
            "text/html": [
              "<font color=\"green\" style=\"white-space: pre;\" > 23 <span>    </span>De pie <span>    </span> De pie</font>"
            ]
          },
          "metadata": {}
        },
        {
          "output_type": "display_data",
          "data": {
            "text/plain": [
              "<IPython.core.display.HTML object>"
            ],
            "text/html": [
              "<font color=\"green\" style=\"white-space: pre;\" > 24 <span>    </span>De pie <span>    </span> De pie</font>"
            ]
          },
          "metadata": {}
        },
        {
          "output_type": "display_data",
          "data": {
            "text/plain": [
              "<IPython.core.display.HTML object>"
            ],
            "text/html": [
              "<font color=\"green\" style=\"white-space: pre;\" > 25 <span>    </span>De pie <span>    </span> De pie</font>"
            ]
          },
          "metadata": {}
        },
        {
          "output_type": "display_data",
          "data": {
            "text/plain": [
              "<IPython.core.display.HTML object>"
            ],
            "text/html": [
              "<font color=\"green\" style=\"white-space: pre;\" > 26 <span>    </span>De pie <span>    </span> De pie</font>"
            ]
          },
          "metadata": {}
        },
        {
          "output_type": "display_data",
          "data": {
            "text/plain": [
              "<IPython.core.display.HTML object>"
            ],
            "text/html": [
              "<font color=\"green\" style=\"white-space: pre;\" > 27 <span>    </span>De pie <span>    </span> De pie</font>"
            ]
          },
          "metadata": {}
        },
        {
          "output_type": "display_data",
          "data": {
            "text/plain": [
              "<IPython.core.display.HTML object>"
            ],
            "text/html": [
              "<font color=\"green\" style=\"white-space: pre;\" > 28 <span>    </span>De pie <span>    </span> De pie</font>"
            ]
          },
          "metadata": {}
        },
        {
          "output_type": "display_data",
          "data": {
            "text/plain": [
              "<IPython.core.display.HTML object>"
            ],
            "text/html": [
              "<font color=\"green\" style=\"white-space: pre;\" > 29 <span>    </span>De pie <span>    </span> De pie</font>"
            ]
          },
          "metadata": {}
        },
        {
          "output_type": "display_data",
          "data": {
            "text/plain": [
              "<IPython.core.display.HTML object>"
            ],
            "text/html": [
              "<font color=\"green\" style=\"white-space: pre;\" > 30 <span>    </span>De pie <span>    </span> De pie</font>"
            ]
          },
          "metadata": {}
        },
        {
          "output_type": "display_data",
          "data": {
            "text/plain": [
              "<IPython.core.display.HTML object>"
            ],
            "text/html": [
              "<font color=\"green\" style=\"white-space: pre;\" > 31 <span>    </span>De pie <span>    </span> De pie</font>"
            ]
          },
          "metadata": {}
        },
        {
          "output_type": "display_data",
          "data": {
            "text/plain": [
              "<IPython.core.display.HTML object>"
            ],
            "text/html": [
              "<font color=\"green\" style=\"white-space: pre;\" > 32 <span>    </span>Sentado <span>    </span> Sentado</font>"
            ]
          },
          "metadata": {}
        },
        {
          "output_type": "display_data",
          "data": {
            "text/plain": [
              "<IPython.core.display.HTML object>"
            ],
            "text/html": [
              "<font color=\"red\" style=\"white-space: pre;\"> 33 <span>    </span>Sentado <span>    </span> De pie</font>"
            ]
          },
          "metadata": {}
        },
        {
          "output_type": "display_data",
          "data": {
            "text/plain": [
              "<IPython.core.display.HTML object>"
            ],
            "text/html": [
              "<font color=\"green\" style=\"white-space: pre;\" > 34 <span>    </span>Sentado <span>    </span> Sentado</font>"
            ]
          },
          "metadata": {}
        },
        {
          "output_type": "display_data",
          "data": {
            "text/plain": [
              "<IPython.core.display.HTML object>"
            ],
            "text/html": [
              "<font color=\"green\" style=\"white-space: pre;\" > 35 <span>    </span>Sentado <span>    </span> Sentado</font>"
            ]
          },
          "metadata": {}
        },
        {
          "output_type": "display_data",
          "data": {
            "text/plain": [
              "<IPython.core.display.HTML object>"
            ],
            "text/html": [
              "<font color=\"green\" style=\"white-space: pre;\" > 36 <span>    </span>Sentado <span>    </span> Sentado</font>"
            ]
          },
          "metadata": {}
        },
        {
          "output_type": "display_data",
          "data": {
            "text/plain": [
              "<IPython.core.display.HTML object>"
            ],
            "text/html": [
              "<font color=\"green\" style=\"white-space: pre;\" > 37 <span>    </span>Sentado <span>    </span> Sentado</font>"
            ]
          },
          "metadata": {}
        },
        {
          "output_type": "display_data",
          "data": {
            "text/plain": [
              "<IPython.core.display.HTML object>"
            ],
            "text/html": [
              "<font color=\"green\" style=\"white-space: pre;\" > 38 <span>    </span>Sentado <span>    </span> Sentado</font>"
            ]
          },
          "metadata": {}
        },
        {
          "output_type": "display_data",
          "data": {
            "text/plain": [
              "<IPython.core.display.HTML object>"
            ],
            "text/html": [
              "<font color=\"red\" style=\"white-space: pre;\"> 39 <span>    </span>Sentado <span>    </span> De pie</font>"
            ]
          },
          "metadata": {}
        },
        {
          "output_type": "display_data",
          "data": {
            "text/plain": [
              "<IPython.core.display.HTML object>"
            ],
            "text/html": [
              "<font color=\"red\" style=\"white-space: pre;\"> 40 <span>    </span>Sentado <span>    </span> De pie</font>"
            ]
          },
          "metadata": {}
        },
        {
          "output_type": "display_data",
          "data": {
            "text/plain": [
              "<IPython.core.display.HTML object>"
            ],
            "text/html": [
              "<font color=\"green\" style=\"white-space: pre;\" > 41 <span>    </span>Sentado <span>    </span> Sentado</font>"
            ]
          },
          "metadata": {}
        },
        {
          "output_type": "display_data",
          "data": {
            "text/plain": [
              "<IPython.core.display.HTML object>"
            ],
            "text/html": [
              "<font color=\"green\" style=\"white-space: pre;\" > 42 <span>    </span>Sentado <span>    </span> Sentado</font>"
            ]
          },
          "metadata": {}
        },
        {
          "output_type": "display_data",
          "data": {
            "text/plain": [
              "<IPython.core.display.HTML object>"
            ],
            "text/html": [
              "<font color=\"red\" style=\"white-space: pre;\"> 43 <span>    </span>Sentado <span>    </span> De pie</font>"
            ]
          },
          "metadata": {}
        },
        {
          "output_type": "display_data",
          "data": {
            "text/plain": [
              "<IPython.core.display.HTML object>"
            ],
            "text/html": [
              "<font color=\"red\" style=\"white-space: pre;\"> 44 <span>    </span>Sentado <span>    </span> De pie</font>"
            ]
          },
          "metadata": {}
        },
        {
          "output_type": "display_data",
          "data": {
            "text/plain": [
              "<IPython.core.display.HTML object>"
            ],
            "text/html": [
              "<font color=\"green\" style=\"white-space: pre;\" > 45 <span>    </span>Sentado <span>    </span> Sentado</font>"
            ]
          },
          "metadata": {}
        },
        {
          "output_type": "display_data",
          "data": {
            "text/plain": [
              "<IPython.core.display.HTML object>"
            ],
            "text/html": [
              "<font color=\"green\" style=\"white-space: pre;\" > 46 <span>    </span>Sentado <span>    </span> Sentado</font>"
            ]
          },
          "metadata": {}
        },
        {
          "output_type": "display_data",
          "data": {
            "text/plain": [
              "<IPython.core.display.HTML object>"
            ],
            "text/html": [
              "<font color=\"green\" style=\"white-space: pre;\" > 47 <span>    </span>Sentado <span>    </span> Sentado</font>"
            ]
          },
          "metadata": {}
        },
        {
          "output_type": "display_data",
          "data": {
            "text/plain": [
              "<IPython.core.display.HTML object>"
            ],
            "text/html": [
              "<font color=\"green\" style=\"white-space: pre;\" > 48 <span>    </span>Sentado <span>    </span> Sentado</font>"
            ]
          },
          "metadata": {}
        },
        {
          "output_type": "display_data",
          "data": {
            "text/plain": [
              "<IPython.core.display.HTML object>"
            ],
            "text/html": [
              "<font color=\"green\" style=\"white-space: pre;\" > 49 <span>    </span>Sentado <span>    </span> Sentado</font>"
            ]
          },
          "metadata": {}
        },
        {
          "output_type": "display_data",
          "data": {
            "text/plain": [
              "<IPython.core.display.HTML object>"
            ],
            "text/html": [
              "<font color=\"red\" style=\"white-space: pre;\"> 50 <span>    </span>Sentado <span>    </span> De pie</font>"
            ]
          },
          "metadata": {}
        },
        {
          "output_type": "display_data",
          "data": {
            "text/plain": [
              "<IPython.core.display.HTML object>"
            ],
            "text/html": [
              "<font color=\"red\" style=\"white-space: pre;\"> 51 <span>    </span>Sentado <span>    </span> De pie</font>"
            ]
          },
          "metadata": {}
        },
        {
          "output_type": "display_data",
          "data": {
            "text/plain": [
              "<IPython.core.display.HTML object>"
            ],
            "text/html": [
              "<font color=\"red\" style=\"white-space: pre;\"> 52 <span>    </span>Sentado <span>    </span> De pie</font>"
            ]
          },
          "metadata": {}
        },
        {
          "output_type": "display_data",
          "data": {
            "text/plain": [
              "<IPython.core.display.HTML object>"
            ],
            "text/html": [
              "<font color=\"red\" style=\"white-space: pre;\"> 53 <span>    </span>Sentado <span>    </span> De pie</font>"
            ]
          },
          "metadata": {}
        },
        {
          "output_type": "display_data",
          "data": {
            "text/plain": [
              "<IPython.core.display.HTML object>"
            ],
            "text/html": [
              "<font color=\"green\" style=\"white-space: pre;\" > 54 <span>    </span>Sentado <span>    </span> Sentado</font>"
            ]
          },
          "metadata": {}
        },
        {
          "output_type": "display_data",
          "data": {
            "text/plain": [
              "<IPython.core.display.HTML object>"
            ],
            "text/html": [
              "<font color=\"green\" style=\"white-space: pre;\" > 55 <span>    </span>Sentado <span>    </span> Sentado</font>"
            ]
          },
          "metadata": {}
        },
        {
          "output_type": "display_data",
          "data": {
            "text/plain": [
              "<IPython.core.display.HTML object>"
            ],
            "text/html": [
              "<font color=\"green\" style=\"white-space: pre;\" > 56 <span>    </span>Acostado <span>    </span> Acostado</font>"
            ]
          },
          "metadata": {}
        },
        {
          "output_type": "display_data",
          "data": {
            "text/plain": [
              "<IPython.core.display.HTML object>"
            ],
            "text/html": [
              "<font color=\"green\" style=\"white-space: pre;\" > 57 <span>    </span>Acostado <span>    </span> Acostado</font>"
            ]
          },
          "metadata": {}
        },
        {
          "output_type": "display_data",
          "data": {
            "text/plain": [
              "<IPython.core.display.HTML object>"
            ],
            "text/html": [
              "<font color=\"green\" style=\"white-space: pre;\" > 58 <span>    </span>Acostado <span>    </span> Acostado</font>"
            ]
          },
          "metadata": {}
        },
        {
          "output_type": "display_data",
          "data": {
            "text/plain": [
              "<IPython.core.display.HTML object>"
            ],
            "text/html": [
              "<font color=\"green\" style=\"white-space: pre;\" > 59 <span>    </span>Acostado <span>    </span> Acostado</font>"
            ]
          },
          "metadata": {}
        },
        {
          "output_type": "display_data",
          "data": {
            "text/plain": [
              "<IPython.core.display.HTML object>"
            ],
            "text/html": [
              "<font color=\"green\" style=\"white-space: pre;\" > 60 <span>    </span>Acostado <span>    </span> Acostado</font>"
            ]
          },
          "metadata": {}
        },
        {
          "output_type": "display_data",
          "data": {
            "text/plain": [
              "<IPython.core.display.HTML object>"
            ],
            "text/html": [
              "<font color=\"green\" style=\"white-space: pre;\" > 61 <span>    </span>Acostado <span>    </span> Acostado</font>"
            ]
          },
          "metadata": {}
        },
        {
          "output_type": "display_data",
          "data": {
            "text/plain": [
              "<IPython.core.display.HTML object>"
            ],
            "text/html": [
              "<font color=\"green\" style=\"white-space: pre;\" > 62 <span>    </span>Acostado <span>    </span> Acostado</font>"
            ]
          },
          "metadata": {}
        },
        {
          "output_type": "display_data",
          "data": {
            "text/plain": [
              "<IPython.core.display.HTML object>"
            ],
            "text/html": [
              "<font color=\"green\" style=\"white-space: pre;\" > 63 <span>    </span>Acostado <span>    </span> Acostado</font>"
            ]
          },
          "metadata": {}
        },
        {
          "output_type": "display_data",
          "data": {
            "text/plain": [
              "<IPython.core.display.HTML object>"
            ],
            "text/html": [
              "<font color=\"green\" style=\"white-space: pre;\" > 64 <span>    </span>Acostado <span>    </span> Acostado</font>"
            ]
          },
          "metadata": {}
        },
        {
          "output_type": "display_data",
          "data": {
            "text/plain": [
              "<IPython.core.display.HTML object>"
            ],
            "text/html": [
              "<font color=\"green\" style=\"white-space: pre;\" > 65 <span>    </span>Acostado <span>    </span> Acostado</font>"
            ]
          },
          "metadata": {}
        },
        {
          "output_type": "display_data",
          "data": {
            "text/plain": [
              "<IPython.core.display.HTML object>"
            ],
            "text/html": [
              "<font color=\"green\" style=\"white-space: pre;\" > 66 <span>    </span>Acostado <span>    </span> Acostado</font>"
            ]
          },
          "metadata": {}
        },
        {
          "output_type": "display_data",
          "data": {
            "text/plain": [
              "<IPython.core.display.HTML object>"
            ],
            "text/html": [
              "<font color=\"green\" style=\"white-space: pre;\" > 67 <span>    </span>Acostado <span>    </span> Acostado</font>"
            ]
          },
          "metadata": {}
        },
        {
          "output_type": "display_data",
          "data": {
            "text/plain": [
              "<IPython.core.display.HTML object>"
            ],
            "text/html": [
              "<font color=\"green\" style=\"white-space: pre;\" > 68 <span>    </span>Acostado <span>    </span> Acostado</font>"
            ]
          },
          "metadata": {}
        },
        {
          "output_type": "display_data",
          "data": {
            "text/plain": [
              "<IPython.core.display.HTML object>"
            ],
            "text/html": [
              "<font color=\"green\" style=\"white-space: pre;\" > 69 <span>    </span>Acostado <span>    </span> Acostado</font>"
            ]
          },
          "metadata": {}
        },
        {
          "output_type": "display_data",
          "data": {
            "text/plain": [
              "<IPython.core.display.HTML object>"
            ],
            "text/html": [
              "<font color=\"green\" style=\"white-space: pre;\" > 70 <span>    </span>Acostado <span>    </span> Acostado</font>"
            ]
          },
          "metadata": {}
        },
        {
          "output_type": "display_data",
          "data": {
            "text/plain": [
              "<IPython.core.display.HTML object>"
            ],
            "text/html": [
              "<font color=\"green\" style=\"white-space: pre;\" > 71 <span>    </span>Acostado <span>    </span> Acostado</font>"
            ]
          },
          "metadata": {}
        },
        {
          "output_type": "display_data",
          "data": {
            "text/plain": [
              "<IPython.core.display.HTML object>"
            ],
            "text/html": [
              "<font color=\"green\" style=\"white-space: pre;\" > 72 <span>    </span>Acostado <span>    </span> Acostado</font>"
            ]
          },
          "metadata": {}
        },
        {
          "output_type": "display_data",
          "data": {
            "text/plain": [
              "<IPython.core.display.HTML object>"
            ],
            "text/html": [
              "<font color=\"green\" style=\"white-space: pre;\" > 73 <span>    </span>Acostado <span>    </span> Acostado</font>"
            ]
          },
          "metadata": {}
        },
        {
          "output_type": "display_data",
          "data": {
            "text/plain": [
              "<IPython.core.display.HTML object>"
            ],
            "text/html": [
              "<font color=\"green\" style=\"white-space: pre;\" > 74 <span>    </span>Acostado <span>    </span> Acostado</font>"
            ]
          },
          "metadata": {}
        },
        {
          "output_type": "display_data",
          "data": {
            "text/plain": [
              "<IPython.core.display.HTML object>"
            ],
            "text/html": [
              "<font color=\"green\" style=\"white-space: pre;\" > 75 <span>    </span>Acostado <span>    </span> Acostado</font>"
            ]
          },
          "metadata": {}
        },
        {
          "output_type": "display_data",
          "data": {
            "text/plain": [
              "<IPython.core.display.HTML object>"
            ],
            "text/html": [
              "<font color=\"green\" style=\"white-space: pre;\" > 76 <span>    </span>Acostado <span>    </span> Acostado</font>"
            ]
          },
          "metadata": {}
        },
        {
          "output_type": "display_data",
          "data": {
            "text/plain": [
              "<IPython.core.display.HTML object>"
            ],
            "text/html": [
              "<font color=\"green\" style=\"white-space: pre;\" > 77 <span>    </span>Acostado <span>    </span> Acostado</font>"
            ]
          },
          "metadata": {}
        },
        {
          "output_type": "display_data",
          "data": {
            "text/plain": [
              "<IPython.core.display.HTML object>"
            ],
            "text/html": [
              "<font color=\"green\" style=\"white-space: pre;\" > 78 <span>    </span>Acostado <span>    </span> Acostado</font>"
            ]
          },
          "metadata": {}
        },
        {
          "output_type": "display_data",
          "data": {
            "text/plain": [
              "<IPython.core.display.HTML object>"
            ],
            "text/html": [
              "<font color=\"green\" style=\"white-space: pre;\" > 79 <span>    </span>Acostado <span>    </span> Acostado</font>"
            ]
          },
          "metadata": {}
        },
        {
          "output_type": "display_data",
          "data": {
            "text/plain": [
              "<IPython.core.display.HTML object>"
            ],
            "text/html": [
              "<font color=\"green\" style=\"white-space: pre;\" > 80 <span>    </span>Caminar <span>    </span> Caminar</font>"
            ]
          },
          "metadata": {}
        },
        {
          "output_type": "display_data",
          "data": {
            "text/plain": [
              "<IPython.core.display.HTML object>"
            ],
            "text/html": [
              "<font color=\"green\" style=\"white-space: pre;\" > 81 <span>    </span>Caminar <span>    </span> Caminar</font>"
            ]
          },
          "metadata": {}
        },
        {
          "output_type": "display_data",
          "data": {
            "text/plain": [
              "<IPython.core.display.HTML object>"
            ],
            "text/html": [
              "<font color=\"green\" style=\"white-space: pre;\" > 82 <span>    </span>Caminar <span>    </span> Caminar</font>"
            ]
          },
          "metadata": {}
        },
        {
          "output_type": "display_data",
          "data": {
            "text/plain": [
              "<IPython.core.display.HTML object>"
            ],
            "text/html": [
              "<font color=\"green\" style=\"white-space: pre;\" > 83 <span>    </span>Caminar <span>    </span> Caminar</font>"
            ]
          },
          "metadata": {}
        },
        {
          "output_type": "display_data",
          "data": {
            "text/plain": [
              "<IPython.core.display.HTML object>"
            ],
            "text/html": [
              "<font color=\"green\" style=\"white-space: pre;\" > 84 <span>    </span>Caminar <span>    </span> Caminar</font>"
            ]
          },
          "metadata": {}
        },
        {
          "output_type": "display_data",
          "data": {
            "text/plain": [
              "<IPython.core.display.HTML object>"
            ],
            "text/html": [
              "<font color=\"green\" style=\"white-space: pre;\" > 85 <span>    </span>Caminar <span>    </span> Caminar</font>"
            ]
          },
          "metadata": {}
        },
        {
          "output_type": "display_data",
          "data": {
            "text/plain": [
              "<IPython.core.display.HTML object>"
            ],
            "text/html": [
              "<font color=\"green\" style=\"white-space: pre;\" > 86 <span>    </span>Caminar <span>    </span> Caminar</font>"
            ]
          },
          "metadata": {}
        },
        {
          "output_type": "display_data",
          "data": {
            "text/plain": [
              "<IPython.core.display.HTML object>"
            ],
            "text/html": [
              "<font color=\"green\" style=\"white-space: pre;\" > 87 <span>    </span>Caminar <span>    </span> Caminar</font>"
            ]
          },
          "metadata": {}
        },
        {
          "output_type": "display_data",
          "data": {
            "text/plain": [
              "<IPython.core.display.HTML object>"
            ],
            "text/html": [
              "<font color=\"green\" style=\"white-space: pre;\" > 88 <span>    </span>Caminar <span>    </span> Caminar</font>"
            ]
          },
          "metadata": {}
        },
        {
          "output_type": "display_data",
          "data": {
            "text/plain": [
              "<IPython.core.display.HTML object>"
            ],
            "text/html": [
              "<font color=\"green\" style=\"white-space: pre;\" > 89 <span>    </span>Caminar <span>    </span> Caminar</font>"
            ]
          },
          "metadata": {}
        },
        {
          "output_type": "display_data",
          "data": {
            "text/plain": [
              "<IPython.core.display.HTML object>"
            ],
            "text/html": [
              "<font color=\"green\" style=\"white-space: pre;\" > 90 <span>    </span>Caminar <span>    </span> Caminar</font>"
            ]
          },
          "metadata": {}
        },
        {
          "output_type": "display_data",
          "data": {
            "text/plain": [
              "<IPython.core.display.HTML object>"
            ],
            "text/html": [
              "<font color=\"green\" style=\"white-space: pre;\" > 91 <span>    </span>Caminar <span>    </span> Caminar</font>"
            ]
          },
          "metadata": {}
        },
        {
          "output_type": "display_data",
          "data": {
            "text/plain": [
              "<IPython.core.display.HTML object>"
            ],
            "text/html": [
              "<font color=\"green\" style=\"white-space: pre;\" > 92 <span>    </span>Caminar <span>    </span> Caminar</font>"
            ]
          },
          "metadata": {}
        },
        {
          "output_type": "display_data",
          "data": {
            "text/plain": [
              "<IPython.core.display.HTML object>"
            ],
            "text/html": [
              "<font color=\"green\" style=\"white-space: pre;\" > 93 <span>    </span>Caminar <span>    </span> Caminar</font>"
            ]
          },
          "metadata": {}
        },
        {
          "output_type": "display_data",
          "data": {
            "text/plain": [
              "<IPython.core.display.HTML object>"
            ],
            "text/html": [
              "<font color=\"green\" style=\"white-space: pre;\" > 94 <span>    </span>Caminar <span>    </span> Caminar</font>"
            ]
          },
          "metadata": {}
        },
        {
          "output_type": "display_data",
          "data": {
            "text/plain": [
              "<IPython.core.display.HTML object>"
            ],
            "text/html": [
              "<font color=\"green\" style=\"white-space: pre;\" > 95 <span>    </span>Caminar <span>    </span> Caminar</font>"
            ]
          },
          "metadata": {}
        },
        {
          "output_type": "display_data",
          "data": {
            "text/plain": [
              "<IPython.core.display.HTML object>"
            ],
            "text/html": [
              "<font color=\"green\" style=\"white-space: pre;\" > 96 <span>    </span>Caminar <span>    </span> Caminar</font>"
            ]
          },
          "metadata": {}
        },
        {
          "output_type": "display_data",
          "data": {
            "text/plain": [
              "<IPython.core.display.HTML object>"
            ],
            "text/html": [
              "<font color=\"green\" style=\"white-space: pre;\" > 97 <span>    </span>Caminar <span>    </span> Caminar</font>"
            ]
          },
          "metadata": {}
        },
        {
          "output_type": "display_data",
          "data": {
            "text/plain": [
              "<IPython.core.display.HTML object>"
            ],
            "text/html": [
              "<font color=\"green\" style=\"white-space: pre;\" > 98 <span>    </span>Caminar <span>    </span> Caminar</font>"
            ]
          },
          "metadata": {}
        },
        {
          "output_type": "display_data",
          "data": {
            "text/plain": [
              "<IPython.core.display.HTML object>"
            ],
            "text/html": [
              "<font color=\"green\" style=\"white-space: pre;\" > 99 <span>    </span>Caminar <span>    </span> Caminar</font>"
            ]
          },
          "metadata": {}
        },
        {
          "output_type": "display_data",
          "data": {
            "text/plain": [
              "<IPython.core.display.HTML object>"
            ],
            "text/html": [
              "<font color=\"green\" style=\"white-space: pre;\" > 100 <span>    </span>Caminar <span>    </span> Caminar</font>"
            ]
          },
          "metadata": {}
        },
        {
          "output_type": "display_data",
          "data": {
            "text/plain": [
              "<IPython.core.display.HTML object>"
            ],
            "text/html": [
              "<font color=\"green\" style=\"white-space: pre;\" > 101 <span>    </span>Caminar <span>    </span> Caminar</font>"
            ]
          },
          "metadata": {}
        },
        {
          "output_type": "display_data",
          "data": {
            "text/plain": [
              "<IPython.core.display.HTML object>"
            ],
            "text/html": [
              "<font color=\"green\" style=\"white-space: pre;\" > 102 <span>    </span>Caminar <span>    </span> Caminar</font>"
            ]
          },
          "metadata": {}
        },
        {
          "output_type": "display_data",
          "data": {
            "text/plain": [
              "<IPython.core.display.HTML object>"
            ],
            "text/html": [
              "<font color=\"green\" style=\"white-space: pre;\" > 103 <span>    </span>Caminar <span>    </span> Caminar</font>"
            ]
          },
          "metadata": {}
        },
        {
          "output_type": "display_data",
          "data": {
            "text/plain": [
              "<IPython.core.display.HTML object>"
            ],
            "text/html": [
              "<font color=\"green\" style=\"white-space: pre;\" > 104 <span>    </span>Caminar <span>    </span> Caminar</font>"
            ]
          },
          "metadata": {}
        },
        {
          "output_type": "display_data",
          "data": {
            "text/plain": [
              "<IPython.core.display.HTML object>"
            ],
            "text/html": [
              "<font color=\"green\" style=\"white-space: pre;\" > 105 <span>    </span>Caminar <span>    </span> Caminar</font>"
            ]
          },
          "metadata": {}
        },
        {
          "output_type": "display_data",
          "data": {
            "text/plain": [
              "<IPython.core.display.HTML object>"
            ],
            "text/html": [
              "<font color=\"green\" style=\"white-space: pre;\" > 106 <span>    </span>Caminar <span>    </span> Caminar</font>"
            ]
          },
          "metadata": {}
        },
        {
          "output_type": "display_data",
          "data": {
            "text/plain": [
              "<IPython.core.display.HTML object>"
            ],
            "text/html": [
              "<font color=\"green\" style=\"white-space: pre;\" > 107 <span>    </span>Caminar <span>    </span> Caminar</font>"
            ]
          },
          "metadata": {}
        },
        {
          "output_type": "display_data",
          "data": {
            "text/plain": [
              "<IPython.core.display.HTML object>"
            ],
            "text/html": [
              "<font color=\"green\" style=\"white-space: pre;\" > 108 <span>    </span>Caminar <span>    </span> Caminar</font>"
            ]
          },
          "metadata": {}
        },
        {
          "output_type": "display_data",
          "data": {
            "text/plain": [
              "<IPython.core.display.HTML object>"
            ],
            "text/html": [
              "<font color=\"green\" style=\"white-space: pre;\" > 109 <span>    </span>Caminar <span>    </span> Caminar</font>"
            ]
          },
          "metadata": {}
        },
        {
          "output_type": "display_data",
          "data": {
            "text/plain": [
              "<IPython.core.display.HTML object>"
            ],
            "text/html": [
              "<font color=\"green\" style=\"white-space: pre;\" > 110 <span>    </span>Caminar Abajo <span>    </span> Caminar Abajo</font>"
            ]
          },
          "metadata": {}
        },
        {
          "output_type": "display_data",
          "data": {
            "text/plain": [
              "<IPython.core.display.HTML object>"
            ],
            "text/html": [
              "<font color=\"green\" style=\"white-space: pre;\" > 111 <span>    </span>Caminar Abajo <span>    </span> Caminar Abajo</font>"
            ]
          },
          "metadata": {}
        },
        {
          "output_type": "display_data",
          "data": {
            "text/plain": [
              "<IPython.core.display.HTML object>"
            ],
            "text/html": [
              "<font color=\"green\" style=\"white-space: pre;\" > 112 <span>    </span>Caminar Abajo <span>    </span> Caminar Abajo</font>"
            ]
          },
          "metadata": {}
        },
        {
          "output_type": "display_data",
          "data": {
            "text/plain": [
              "<IPython.core.display.HTML object>"
            ],
            "text/html": [
              "<font color=\"green\" style=\"white-space: pre;\" > 113 <span>    </span>Caminar Abajo <span>    </span> Caminar Abajo</font>"
            ]
          },
          "metadata": {}
        },
        {
          "output_type": "display_data",
          "data": {
            "text/plain": [
              "<IPython.core.display.HTML object>"
            ],
            "text/html": [
              "<font color=\"green\" style=\"white-space: pre;\" > 114 <span>    </span>Caminar Abajo <span>    </span> Caminar Abajo</font>"
            ]
          },
          "metadata": {}
        },
        {
          "output_type": "display_data",
          "data": {
            "text/plain": [
              "<IPython.core.display.HTML object>"
            ],
            "text/html": [
              "<font color=\"green\" style=\"white-space: pre;\" > 115 <span>    </span>Caminar Abajo <span>    </span> Caminar Abajo</font>"
            ]
          },
          "metadata": {}
        },
        {
          "output_type": "display_data",
          "data": {
            "text/plain": [
              "<IPython.core.display.HTML object>"
            ],
            "text/html": [
              "<font color=\"green\" style=\"white-space: pre;\" > 116 <span>    </span>Caminar Abajo <span>    </span> Caminar Abajo</font>"
            ]
          },
          "metadata": {}
        },
        {
          "output_type": "display_data",
          "data": {
            "text/plain": [
              "<IPython.core.display.HTML object>"
            ],
            "text/html": [
              "<font color=\"green\" style=\"white-space: pre;\" > 117 <span>    </span>Caminar Abajo <span>    </span> Caminar Abajo</font>"
            ]
          },
          "metadata": {}
        },
        {
          "output_type": "display_data",
          "data": {
            "text/plain": [
              "<IPython.core.display.HTML object>"
            ],
            "text/html": [
              "<font color=\"green\" style=\"white-space: pre;\" > 118 <span>    </span>Caminar Abajo <span>    </span> Caminar Abajo</font>"
            ]
          },
          "metadata": {}
        },
        {
          "output_type": "display_data",
          "data": {
            "text/plain": [
              "<IPython.core.display.HTML object>"
            ],
            "text/html": [
              "<font color=\"green\" style=\"white-space: pre;\" > 119 <span>    </span>Caminar Abajo <span>    </span> Caminar Abajo</font>"
            ]
          },
          "metadata": {}
        },
        {
          "output_type": "display_data",
          "data": {
            "text/plain": [
              "<IPython.core.display.HTML object>"
            ],
            "text/html": [
              "<font color=\"green\" style=\"white-space: pre;\" > 120 <span>    </span>Caminar Abajo <span>    </span> Caminar Abajo</font>"
            ]
          },
          "metadata": {}
        },
        {
          "output_type": "display_data",
          "data": {
            "text/plain": [
              "<IPython.core.display.HTML object>"
            ],
            "text/html": [
              "<font color=\"green\" style=\"white-space: pre;\" > 121 <span>    </span>Caminar Abajo <span>    </span> Caminar Abajo</font>"
            ]
          },
          "metadata": {}
        },
        {
          "output_type": "display_data",
          "data": {
            "text/plain": [
              "<IPython.core.display.HTML object>"
            ],
            "text/html": [
              "<font color=\"green\" style=\"white-space: pre;\" > 122 <span>    </span>Caminar Abajo <span>    </span> Caminar Abajo</font>"
            ]
          },
          "metadata": {}
        },
        {
          "output_type": "display_data",
          "data": {
            "text/plain": [
              "<IPython.core.display.HTML object>"
            ],
            "text/html": [
              "<font color=\"green\" style=\"white-space: pre;\" > 123 <span>    </span>Caminar Abajo <span>    </span> Caminar Abajo</font>"
            ]
          },
          "metadata": {}
        },
        {
          "output_type": "display_data",
          "data": {
            "text/plain": [
              "<IPython.core.display.HTML object>"
            ],
            "text/html": [
              "<font color=\"green\" style=\"white-space: pre;\" > 124 <span>    </span>Caminar Abajo <span>    </span> Caminar Abajo</font>"
            ]
          },
          "metadata": {}
        },
        {
          "output_type": "display_data",
          "data": {
            "text/plain": [
              "<IPython.core.display.HTML object>"
            ],
            "text/html": [
              "<font color=\"green\" style=\"white-space: pre;\" > 125 <span>    </span>Caminar Abajo <span>    </span> Caminar Abajo</font>"
            ]
          },
          "metadata": {}
        },
        {
          "output_type": "display_data",
          "data": {
            "text/plain": [
              "<IPython.core.display.HTML object>"
            ],
            "text/html": [
              "<font color=\"green\" style=\"white-space: pre;\" > 126 <span>    </span>Caminar Abajo <span>    </span> Caminar Abajo</font>"
            ]
          },
          "metadata": {}
        },
        {
          "output_type": "display_data",
          "data": {
            "text/plain": [
              "<IPython.core.display.HTML object>"
            ],
            "text/html": [
              "<font color=\"green\" style=\"white-space: pre;\" > 127 <span>    </span>Caminar Abajo <span>    </span> Caminar Abajo</font>"
            ]
          },
          "metadata": {}
        },
        {
          "output_type": "display_data",
          "data": {
            "text/plain": [
              "<IPython.core.display.HTML object>"
            ],
            "text/html": [
              "<font color=\"green\" style=\"white-space: pre;\" > 128 <span>    </span>Caminar Abajo <span>    </span> Caminar Abajo</font>"
            ]
          },
          "metadata": {}
        },
        {
          "output_type": "display_data",
          "data": {
            "text/plain": [
              "<IPython.core.display.HTML object>"
            ],
            "text/html": [
              "<font color=\"green\" style=\"white-space: pre;\" > 129 <span>    </span>Caminar Abajo <span>    </span> Caminar Abajo</font>"
            ]
          },
          "metadata": {}
        },
        {
          "output_type": "display_data",
          "data": {
            "text/plain": [
              "<IPython.core.display.HTML object>"
            ],
            "text/html": [
              "<font color=\"green\" style=\"white-space: pre;\" > 130 <span>    </span>Caminar Abajo <span>    </span> Caminar Abajo</font>"
            ]
          },
          "metadata": {}
        },
        {
          "output_type": "display_data",
          "data": {
            "text/plain": [
              "<IPython.core.display.HTML object>"
            ],
            "text/html": [
              "<font color=\"green\" style=\"white-space: pre;\" > 131 <span>    </span>Caminar Abajo <span>    </span> Caminar Abajo</font>"
            ]
          },
          "metadata": {}
        },
        {
          "output_type": "display_data",
          "data": {
            "text/plain": [
              "<IPython.core.display.HTML object>"
            ],
            "text/html": [
              "<font color=\"green\" style=\"white-space: pre;\" > 132 <span>    </span>Caminar Abajo <span>    </span> Caminar Abajo</font>"
            ]
          },
          "metadata": {}
        },
        {
          "output_type": "display_data",
          "data": {
            "text/plain": [
              "<IPython.core.display.HTML object>"
            ],
            "text/html": [
              "<font color=\"green\" style=\"white-space: pre;\" > 133 <span>    </span>Caminar Abajo <span>    </span> Caminar Abajo</font>"
            ]
          },
          "metadata": {}
        },
        {
          "output_type": "display_data",
          "data": {
            "text/plain": [
              "<IPython.core.display.HTML object>"
            ],
            "text/html": [
              "<font color=\"green\" style=\"white-space: pre;\" > 134 <span>    </span>Caminar Arriba <span>    </span> Caminar Arriba</font>"
            ]
          },
          "metadata": {}
        },
        {
          "output_type": "display_data",
          "data": {
            "text/plain": [
              "<IPython.core.display.HTML object>"
            ],
            "text/html": [
              "<font color=\"green\" style=\"white-space: pre;\" > 135 <span>    </span>Caminar Arriba <span>    </span> Caminar Arriba</font>"
            ]
          },
          "metadata": {}
        },
        {
          "output_type": "display_data",
          "data": {
            "text/plain": [
              "<IPython.core.display.HTML object>"
            ],
            "text/html": [
              "<font color=\"green\" style=\"white-space: pre;\" > 136 <span>    </span>Caminar Arriba <span>    </span> Caminar Arriba</font>"
            ]
          },
          "metadata": {}
        },
        {
          "output_type": "display_data",
          "data": {
            "text/plain": [
              "<IPython.core.display.HTML object>"
            ],
            "text/html": [
              "<font color=\"green\" style=\"white-space: pre;\" > 137 <span>    </span>Caminar Arriba <span>    </span> Caminar Arriba</font>"
            ]
          },
          "metadata": {}
        },
        {
          "output_type": "display_data",
          "data": {
            "text/plain": [
              "<IPython.core.display.HTML object>"
            ],
            "text/html": [
              "<font color=\"green\" style=\"white-space: pre;\" > 138 <span>    </span>Caminar Arriba <span>    </span> Caminar Arriba</font>"
            ]
          },
          "metadata": {}
        },
        {
          "output_type": "display_data",
          "data": {
            "text/plain": [
              "<IPython.core.display.HTML object>"
            ],
            "text/html": [
              "<font color=\"green\" style=\"white-space: pre;\" > 139 <span>    </span>Caminar Arriba <span>    </span> Caminar Arriba</font>"
            ]
          },
          "metadata": {}
        },
        {
          "output_type": "display_data",
          "data": {
            "text/plain": [
              "<IPython.core.display.HTML object>"
            ],
            "text/html": [
              "<font color=\"green\" style=\"white-space: pre;\" > 140 <span>    </span>Caminar Arriba <span>    </span> Caminar Arriba</font>"
            ]
          },
          "metadata": {}
        },
        {
          "output_type": "display_data",
          "data": {
            "text/plain": [
              "<IPython.core.display.HTML object>"
            ],
            "text/html": [
              "<font color=\"green\" style=\"white-space: pre;\" > 141 <span>    </span>Caminar Arriba <span>    </span> Caminar Arriba</font>"
            ]
          },
          "metadata": {}
        },
        {
          "output_type": "display_data",
          "data": {
            "text/plain": [
              "<IPython.core.display.HTML object>"
            ],
            "text/html": [
              "<font color=\"green\" style=\"white-space: pre;\" > 142 <span>    </span>Caminar Arriba <span>    </span> Caminar Arriba</font>"
            ]
          },
          "metadata": {}
        },
        {
          "output_type": "display_data",
          "data": {
            "text/plain": [
              "<IPython.core.display.HTML object>"
            ],
            "text/html": [
              "<font color=\"green\" style=\"white-space: pre;\" > 143 <span>    </span>Caminar Arriba <span>    </span> Caminar Arriba</font>"
            ]
          },
          "metadata": {}
        },
        {
          "output_type": "display_data",
          "data": {
            "text/plain": [
              "<IPython.core.display.HTML object>"
            ],
            "text/html": [
              "<font color=\"green\" style=\"white-space: pre;\" > 144 <span>    </span>Caminar Arriba <span>    </span> Caminar Arriba</font>"
            ]
          },
          "metadata": {}
        },
        {
          "output_type": "display_data",
          "data": {
            "text/plain": [
              "<IPython.core.display.HTML object>"
            ],
            "text/html": [
              "<font color=\"green\" style=\"white-space: pre;\" > 145 <span>    </span>Caminar Arriba <span>    </span> Caminar Arriba</font>"
            ]
          },
          "metadata": {}
        },
        {
          "output_type": "display_data",
          "data": {
            "text/plain": [
              "<IPython.core.display.HTML object>"
            ],
            "text/html": [
              "<font color=\"green\" style=\"white-space: pre;\" > 146 <span>    </span>Caminar Arriba <span>    </span> Caminar Arriba</font>"
            ]
          },
          "metadata": {}
        },
        {
          "output_type": "display_data",
          "data": {
            "text/plain": [
              "<IPython.core.display.HTML object>"
            ],
            "text/html": [
              "<font color=\"green\" style=\"white-space: pre;\" > 147 <span>    </span>Caminar Arriba <span>    </span> Caminar Arriba</font>"
            ]
          },
          "metadata": {}
        },
        {
          "output_type": "display_data",
          "data": {
            "text/plain": [
              "<IPython.core.display.HTML object>"
            ],
            "text/html": [
              "<font color=\"green\" style=\"white-space: pre;\" > 148 <span>    </span>Caminar Arriba <span>    </span> Caminar Arriba</font>"
            ]
          },
          "metadata": {}
        },
        {
          "output_type": "display_data",
          "data": {
            "text/plain": [
              "<IPython.core.display.HTML object>"
            ],
            "text/html": [
              "<font color=\"green\" style=\"white-space: pre;\" > 149 <span>    </span>Caminar Arriba <span>    </span> Caminar Arriba</font>"
            ]
          },
          "metadata": {}
        },
        {
          "output_type": "display_data",
          "data": {
            "text/plain": [
              "<IPython.core.display.HTML object>"
            ],
            "text/html": [
              "<font color=\"green\" style=\"white-space: pre;\" > 150 <span>    </span>Caminar Arriba <span>    </span> Caminar Arriba</font>"
            ]
          },
          "metadata": {}
        },
        {
          "output_type": "display_data",
          "data": {
            "text/plain": [
              "<IPython.core.display.HTML object>"
            ],
            "text/html": [
              "<font color=\"green\" style=\"white-space: pre;\" > 151 <span>    </span>Caminar Arriba <span>    </span> Caminar Arriba</font>"
            ]
          },
          "metadata": {}
        },
        {
          "output_type": "display_data",
          "data": {
            "text/plain": [
              "<IPython.core.display.HTML object>"
            ],
            "text/html": [
              "<font color=\"green\" style=\"white-space: pre;\" > 152 <span>    </span>Caminar Arriba <span>    </span> Caminar Arriba</font>"
            ]
          },
          "metadata": {}
        },
        {
          "output_type": "display_data",
          "data": {
            "text/plain": [
              "<IPython.core.display.HTML object>"
            ],
            "text/html": [
              "<font color=\"green\" style=\"white-space: pre;\" > 153 <span>    </span>Caminar Arriba <span>    </span> Caminar Arriba</font>"
            ]
          },
          "metadata": {}
        },
        {
          "output_type": "display_data",
          "data": {
            "text/plain": [
              "<IPython.core.display.HTML object>"
            ],
            "text/html": [
              "<font color=\"green\" style=\"white-space: pre;\" > 154 <span>    </span>Caminar Arriba <span>    </span> Caminar Arriba</font>"
            ]
          },
          "metadata": {}
        },
        {
          "output_type": "display_data",
          "data": {
            "text/plain": [
              "<IPython.core.display.HTML object>"
            ],
            "text/html": [
              "<font color=\"green\" style=\"white-space: pre;\" > 155 <span>    </span>Caminar Arriba <span>    </span> Caminar Arriba</font>"
            ]
          },
          "metadata": {}
        },
        {
          "output_type": "display_data",
          "data": {
            "text/plain": [
              "<IPython.core.display.HTML object>"
            ],
            "text/html": [
              "<font color=\"green\" style=\"white-space: pre;\" > 156 <span>    </span>Caminar Arriba <span>    </span> Caminar Arriba</font>"
            ]
          },
          "metadata": {}
        },
        {
          "output_type": "display_data",
          "data": {
            "text/plain": [
              "<IPython.core.display.HTML object>"
            ],
            "text/html": [
              "<font color=\"green\" style=\"white-space: pre;\" > 157 <span>    </span>Caminar Arriba <span>    </span> Caminar Arriba</font>"
            ]
          },
          "metadata": {}
        },
        {
          "output_type": "display_data",
          "data": {
            "text/plain": [
              "<IPython.core.display.HTML object>"
            ],
            "text/html": [
              "<font color=\"green\" style=\"white-space: pre;\" > 158 <span>    </span>Caminar Arriba <span>    </span> Caminar Arriba</font>"
            ]
          },
          "metadata": {}
        },
        {
          "output_type": "display_data",
          "data": {
            "text/plain": [
              "<IPython.core.display.HTML object>"
            ],
            "text/html": [
              "<font color=\"green\" style=\"white-space: pre;\" > 159 <span>    </span>De pie <span>    </span> De pie</font>"
            ]
          },
          "metadata": {}
        },
        {
          "output_type": "display_data",
          "data": {
            "text/plain": [
              "<IPython.core.display.HTML object>"
            ],
            "text/html": [
              "<font color=\"green\" style=\"white-space: pre;\" > 160 <span>    </span>De pie <span>    </span> De pie</font>"
            ]
          },
          "metadata": {}
        },
        {
          "output_type": "display_data",
          "data": {
            "text/plain": [
              "<IPython.core.display.HTML object>"
            ],
            "text/html": [
              "<font color=\"green\" style=\"white-space: pre;\" > 161 <span>    </span>De pie <span>    </span> De pie</font>"
            ]
          },
          "metadata": {}
        },
        {
          "output_type": "display_data",
          "data": {
            "text/plain": [
              "<IPython.core.display.HTML object>"
            ],
            "text/html": [
              "<font color=\"green\" style=\"white-space: pre;\" > 162 <span>    </span>De pie <span>    </span> De pie</font>"
            ]
          },
          "metadata": {}
        },
        {
          "output_type": "display_data",
          "data": {
            "text/plain": [
              "<IPython.core.display.HTML object>"
            ],
            "text/html": [
              "<font color=\"green\" style=\"white-space: pre;\" > 163 <span>    </span>De pie <span>    </span> De pie</font>"
            ]
          },
          "metadata": {}
        },
        {
          "output_type": "display_data",
          "data": {
            "text/plain": [
              "<IPython.core.display.HTML object>"
            ],
            "text/html": [
              "<font color=\"green\" style=\"white-space: pre;\" > 164 <span>    </span>De pie <span>    </span> De pie</font>"
            ]
          },
          "metadata": {}
        },
        {
          "output_type": "display_data",
          "data": {
            "text/plain": [
              "<IPython.core.display.HTML object>"
            ],
            "text/html": [
              "<font color=\"green\" style=\"white-space: pre;\" > 165 <span>    </span>De pie <span>    </span> De pie</font>"
            ]
          },
          "metadata": {}
        },
        {
          "output_type": "display_data",
          "data": {
            "text/plain": [
              "<IPython.core.display.HTML object>"
            ],
            "text/html": [
              "<font color=\"green\" style=\"white-space: pre;\" > 166 <span>    </span>De pie <span>    </span> De pie</font>"
            ]
          },
          "metadata": {}
        },
        {
          "output_type": "display_data",
          "data": {
            "text/plain": [
              "<IPython.core.display.HTML object>"
            ],
            "text/html": [
              "<font color=\"green\" style=\"white-space: pre;\" > 167 <span>    </span>De pie <span>    </span> De pie</font>"
            ]
          },
          "metadata": {}
        },
        {
          "output_type": "display_data",
          "data": {
            "text/plain": [
              "<IPython.core.display.HTML object>"
            ],
            "text/html": [
              "<font color=\"green\" style=\"white-space: pre;\" > 168 <span>    </span>De pie <span>    </span> De pie</font>"
            ]
          },
          "metadata": {}
        },
        {
          "output_type": "display_data",
          "data": {
            "text/plain": [
              "<IPython.core.display.HTML object>"
            ],
            "text/html": [
              "<font color=\"green\" style=\"white-space: pre;\" > 169 <span>    </span>De pie <span>    </span> De pie</font>"
            ]
          },
          "metadata": {}
        },
        {
          "output_type": "display_data",
          "data": {
            "text/plain": [
              "<IPython.core.display.HTML object>"
            ],
            "text/html": [
              "<font color=\"green\" style=\"white-space: pre;\" > 170 <span>    </span>De pie <span>    </span> De pie</font>"
            ]
          },
          "metadata": {}
        },
        {
          "output_type": "display_data",
          "data": {
            "text/plain": [
              "<IPython.core.display.HTML object>"
            ],
            "text/html": [
              "<font color=\"green\" style=\"white-space: pre;\" > 171 <span>    </span>De pie <span>    </span> De pie</font>"
            ]
          },
          "metadata": {}
        },
        {
          "output_type": "display_data",
          "data": {
            "text/plain": [
              "<IPython.core.display.HTML object>"
            ],
            "text/html": [
              "<font color=\"green\" style=\"white-space: pre;\" > 172 <span>    </span>De pie <span>    </span> De pie</font>"
            ]
          },
          "metadata": {}
        },
        {
          "output_type": "display_data",
          "data": {
            "text/plain": [
              "<IPython.core.display.HTML object>"
            ],
            "text/html": [
              "<font color=\"green\" style=\"white-space: pre;\" > 173 <span>    </span>De pie <span>    </span> De pie</font>"
            ]
          },
          "metadata": {}
        },
        {
          "output_type": "display_data",
          "data": {
            "text/plain": [
              "<IPython.core.display.HTML object>"
            ],
            "text/html": [
              "<font color=\"green\" style=\"white-space: pre;\" > 174 <span>    </span>De pie <span>    </span> De pie</font>"
            ]
          },
          "metadata": {}
        },
        {
          "output_type": "display_data",
          "data": {
            "text/plain": [
              "<IPython.core.display.HTML object>"
            ],
            "text/html": [
              "<font color=\"green\" style=\"white-space: pre;\" > 175 <span>    </span>De pie <span>    </span> De pie</font>"
            ]
          },
          "metadata": {}
        },
        {
          "output_type": "display_data",
          "data": {
            "text/plain": [
              "<IPython.core.display.HTML object>"
            ],
            "text/html": [
              "<font color=\"green\" style=\"white-space: pre;\" > 176 <span>    </span>De pie <span>    </span> De pie</font>"
            ]
          },
          "metadata": {}
        },
        {
          "output_type": "display_data",
          "data": {
            "text/plain": [
              "<IPython.core.display.HTML object>"
            ],
            "text/html": [
              "<font color=\"green\" style=\"white-space: pre;\" > 177 <span>    </span>De pie <span>    </span> De pie</font>"
            ]
          },
          "metadata": {}
        },
        {
          "output_type": "display_data",
          "data": {
            "text/plain": [
              "<IPython.core.display.HTML object>"
            ],
            "text/html": [
              "<font color=\"green\" style=\"white-space: pre;\" > 178 <span>    </span>De pie <span>    </span> De pie</font>"
            ]
          },
          "metadata": {}
        },
        {
          "output_type": "display_data",
          "data": {
            "text/plain": [
              "<IPython.core.display.HTML object>"
            ],
            "text/html": [
              "<font color=\"green\" style=\"white-space: pre;\" > 179 <span>    </span>De pie <span>    </span> De pie</font>"
            ]
          },
          "metadata": {}
        },
        {
          "output_type": "display_data",
          "data": {
            "text/plain": [
              "<IPython.core.display.HTML object>"
            ],
            "text/html": [
              "<font color=\"green\" style=\"white-space: pre;\" > 180 <span>    </span>De pie <span>    </span> De pie</font>"
            ]
          },
          "metadata": {}
        },
        {
          "output_type": "display_data",
          "data": {
            "text/plain": [
              "<IPython.core.display.HTML object>"
            ],
            "text/html": [
              "<font color=\"green\" style=\"white-space: pre;\" > 181 <span>    </span>De pie <span>    </span> De pie</font>"
            ]
          },
          "metadata": {}
        },
        {
          "output_type": "display_data",
          "data": {
            "text/plain": [
              "<IPython.core.display.HTML object>"
            ],
            "text/html": [
              "<font color=\"green\" style=\"white-space: pre;\" > 182 <span>    </span>Sentado <span>    </span> Sentado</font>"
            ]
          },
          "metadata": {}
        },
        {
          "output_type": "display_data",
          "data": {
            "text/plain": [
              "<IPython.core.display.HTML object>"
            ],
            "text/html": [
              "<font color=\"red\" style=\"white-space: pre;\"> 183 <span>    </span>Sentado <span>    </span> De pie</font>"
            ]
          },
          "metadata": {}
        },
        {
          "output_type": "display_data",
          "data": {
            "text/plain": [
              "<IPython.core.display.HTML object>"
            ],
            "text/html": [
              "<font color=\"green\" style=\"white-space: pre;\" > 184 <span>    </span>Sentado <span>    </span> Sentado</font>"
            ]
          },
          "metadata": {}
        },
        {
          "output_type": "display_data",
          "data": {
            "text/plain": [
              "<IPython.core.display.HTML object>"
            ],
            "text/html": [
              "<font color=\"green\" style=\"white-space: pre;\" > 185 <span>    </span>Sentado <span>    </span> Sentado</font>"
            ]
          },
          "metadata": {}
        },
        {
          "output_type": "display_data",
          "data": {
            "text/plain": [
              "<IPython.core.display.HTML object>"
            ],
            "text/html": [
              "<font color=\"green\" style=\"white-space: pre;\" > 186 <span>    </span>Sentado <span>    </span> Sentado</font>"
            ]
          },
          "metadata": {}
        },
        {
          "output_type": "display_data",
          "data": {
            "text/plain": [
              "<IPython.core.display.HTML object>"
            ],
            "text/html": [
              "<font color=\"green\" style=\"white-space: pre;\" > 187 <span>    </span>Sentado <span>    </span> Sentado</font>"
            ]
          },
          "metadata": {}
        },
        {
          "output_type": "display_data",
          "data": {
            "text/plain": [
              "<IPython.core.display.HTML object>"
            ],
            "text/html": [
              "<font color=\"green\" style=\"white-space: pre;\" > 188 <span>    </span>Sentado <span>    </span> Sentado</font>"
            ]
          },
          "metadata": {}
        },
        {
          "output_type": "display_data",
          "data": {
            "text/plain": [
              "<IPython.core.display.HTML object>"
            ],
            "text/html": [
              "<font color=\"green\" style=\"white-space: pre;\" > 189 <span>    </span>Sentado <span>    </span> Sentado</font>"
            ]
          },
          "metadata": {}
        },
        {
          "output_type": "display_data",
          "data": {
            "text/plain": [
              "<IPython.core.display.HTML object>"
            ],
            "text/html": [
              "<font color=\"green\" style=\"white-space: pre;\" > 190 <span>    </span>Sentado <span>    </span> Sentado</font>"
            ]
          },
          "metadata": {}
        },
        {
          "output_type": "display_data",
          "data": {
            "text/plain": [
              "<IPython.core.display.HTML object>"
            ],
            "text/html": [
              "<font color=\"green\" style=\"white-space: pre;\" > 191 <span>    </span>Sentado <span>    </span> Sentado</font>"
            ]
          },
          "metadata": {}
        },
        {
          "output_type": "display_data",
          "data": {
            "text/plain": [
              "<IPython.core.display.HTML object>"
            ],
            "text/html": [
              "<font color=\"green\" style=\"white-space: pre;\" > 192 <span>    </span>Sentado <span>    </span> Sentado</font>"
            ]
          },
          "metadata": {}
        },
        {
          "output_type": "display_data",
          "data": {
            "text/plain": [
              "<IPython.core.display.HTML object>"
            ],
            "text/html": [
              "<font color=\"green\" style=\"white-space: pre;\" > 193 <span>    </span>Sentado <span>    </span> Sentado</font>"
            ]
          },
          "metadata": {}
        },
        {
          "output_type": "display_data",
          "data": {
            "text/plain": [
              "<IPython.core.display.HTML object>"
            ],
            "text/html": [
              "<font color=\"green\" style=\"white-space: pre;\" > 194 <span>    </span>Sentado <span>    </span> Sentado</font>"
            ]
          },
          "metadata": {}
        },
        {
          "output_type": "display_data",
          "data": {
            "text/plain": [
              "<IPython.core.display.HTML object>"
            ],
            "text/html": [
              "<font color=\"green\" style=\"white-space: pre;\" > 195 <span>    </span>Sentado <span>    </span> Sentado</font>"
            ]
          },
          "metadata": {}
        },
        {
          "output_type": "display_data",
          "data": {
            "text/plain": [
              "<IPython.core.display.HTML object>"
            ],
            "text/html": [
              "<font color=\"green\" style=\"white-space: pre;\" > 196 <span>    </span>Sentado <span>    </span> Sentado</font>"
            ]
          },
          "metadata": {}
        },
        {
          "output_type": "display_data",
          "data": {
            "text/plain": [
              "<IPython.core.display.HTML object>"
            ],
            "text/html": [
              "<font color=\"green\" style=\"white-space: pre;\" > 197 <span>    </span>Sentado <span>    </span> Sentado</font>"
            ]
          },
          "metadata": {}
        },
        {
          "output_type": "display_data",
          "data": {
            "text/plain": [
              "<IPython.core.display.HTML object>"
            ],
            "text/html": [
              "<font color=\"green\" style=\"white-space: pre;\" > 198 <span>    </span>Sentado <span>    </span> Sentado</font>"
            ]
          },
          "metadata": {}
        },
        {
          "output_type": "display_data",
          "data": {
            "text/plain": [
              "<IPython.core.display.HTML object>"
            ],
            "text/html": [
              "<font color=\"green\" style=\"white-space: pre;\" > 199 <span>    </span>Sentado <span>    </span> Sentado</font>"
            ]
          },
          "metadata": {}
        },
        {
          "output_type": "display_data",
          "data": {
            "text/plain": [
              "<IPython.core.display.HTML object>"
            ],
            "text/html": [
              "<font color=\"green\" style=\"white-space: pre;\" > 200 <span>    </span>Sentado <span>    </span> Sentado</font>"
            ]
          },
          "metadata": {}
        },
        {
          "output_type": "display_data",
          "data": {
            "text/plain": [
              "<IPython.core.display.HTML object>"
            ],
            "text/html": [
              "<font color=\"green\" style=\"white-space: pre;\" > 201 <span>    </span>Sentado <span>    </span> Sentado</font>"
            ]
          },
          "metadata": {}
        },
        {
          "output_type": "display_data",
          "data": {
            "text/plain": [
              "<IPython.core.display.HTML object>"
            ],
            "text/html": [
              "<font color=\"green\" style=\"white-space: pre;\" > 202 <span>    </span>Sentado <span>    </span> Sentado</font>"
            ]
          },
          "metadata": {}
        },
        {
          "output_type": "display_data",
          "data": {
            "text/plain": [
              "<IPython.core.display.HTML object>"
            ],
            "text/html": [
              "<font color=\"green\" style=\"white-space: pre;\" > 203 <span>    </span>Sentado <span>    </span> Sentado</font>"
            ]
          },
          "metadata": {}
        },
        {
          "output_type": "display_data",
          "data": {
            "text/plain": [
              "<IPython.core.display.HTML object>"
            ],
            "text/html": [
              "<font color=\"green\" style=\"white-space: pre;\" > 204 <span>    </span>Acostado <span>    </span> Acostado</font>"
            ]
          },
          "metadata": {}
        },
        {
          "output_type": "display_data",
          "data": {
            "text/plain": [
              "<IPython.core.display.HTML object>"
            ],
            "text/html": [
              "<font color=\"green\" style=\"white-space: pre;\" > 205 <span>    </span>Acostado <span>    </span> Acostado</font>"
            ]
          },
          "metadata": {}
        },
        {
          "output_type": "display_data",
          "data": {
            "text/plain": [
              "<IPython.core.display.HTML object>"
            ],
            "text/html": [
              "<font color=\"green\" style=\"white-space: pre;\" > 206 <span>    </span>Acostado <span>    </span> Acostado</font>"
            ]
          },
          "metadata": {}
        },
        {
          "output_type": "display_data",
          "data": {
            "text/plain": [
              "<IPython.core.display.HTML object>"
            ],
            "text/html": [
              "<font color=\"green\" style=\"white-space: pre;\" > 207 <span>    </span>Acostado <span>    </span> Acostado</font>"
            ]
          },
          "metadata": {}
        },
        {
          "output_type": "display_data",
          "data": {
            "text/plain": [
              "<IPython.core.display.HTML object>"
            ],
            "text/html": [
              "<font color=\"green\" style=\"white-space: pre;\" > 208 <span>    </span>Acostado <span>    </span> Acostado</font>"
            ]
          },
          "metadata": {}
        },
        {
          "output_type": "display_data",
          "data": {
            "text/plain": [
              "<IPython.core.display.HTML object>"
            ],
            "text/html": [
              "<font color=\"green\" style=\"white-space: pre;\" > 209 <span>    </span>Acostado <span>    </span> Acostado</font>"
            ]
          },
          "metadata": {}
        },
        {
          "output_type": "display_data",
          "data": {
            "text/plain": [
              "<IPython.core.display.HTML object>"
            ],
            "text/html": [
              "<font color=\"green\" style=\"white-space: pre;\" > 210 <span>    </span>Acostado <span>    </span> Acostado</font>"
            ]
          },
          "metadata": {}
        },
        {
          "output_type": "display_data",
          "data": {
            "text/plain": [
              "<IPython.core.display.HTML object>"
            ],
            "text/html": [
              "<font color=\"green\" style=\"white-space: pre;\" > 211 <span>    </span>Acostado <span>    </span> Acostado</font>"
            ]
          },
          "metadata": {}
        },
        {
          "output_type": "display_data",
          "data": {
            "text/plain": [
              "<IPython.core.display.HTML object>"
            ],
            "text/html": [
              "<font color=\"green\" style=\"white-space: pre;\" > 212 <span>    </span>Acostado <span>    </span> Acostado</font>"
            ]
          },
          "metadata": {}
        },
        {
          "output_type": "display_data",
          "data": {
            "text/plain": [
              "<IPython.core.display.HTML object>"
            ],
            "text/html": [
              "<font color=\"green\" style=\"white-space: pre;\" > 213 <span>    </span>Acostado <span>    </span> Acostado</font>"
            ]
          },
          "metadata": {}
        },
        {
          "output_type": "display_data",
          "data": {
            "text/plain": [
              "<IPython.core.display.HTML object>"
            ],
            "text/html": [
              "<font color=\"green\" style=\"white-space: pre;\" > 214 <span>    </span>Acostado <span>    </span> Acostado</font>"
            ]
          },
          "metadata": {}
        },
        {
          "output_type": "display_data",
          "data": {
            "text/plain": [
              "<IPython.core.display.HTML object>"
            ],
            "text/html": [
              "<font color=\"green\" style=\"white-space: pre;\" > 215 <span>    </span>Acostado <span>    </span> Acostado</font>"
            ]
          },
          "metadata": {}
        },
        {
          "output_type": "display_data",
          "data": {
            "text/plain": [
              "<IPython.core.display.HTML object>"
            ],
            "text/html": [
              "<font color=\"green\" style=\"white-space: pre;\" > 216 <span>    </span>Acostado <span>    </span> Acostado</font>"
            ]
          },
          "metadata": {}
        },
        {
          "output_type": "display_data",
          "data": {
            "text/plain": [
              "<IPython.core.display.HTML object>"
            ],
            "text/html": [
              "<font color=\"green\" style=\"white-space: pre;\" > 217 <span>    </span>Acostado <span>    </span> Acostado</font>"
            ]
          },
          "metadata": {}
        },
        {
          "output_type": "display_data",
          "data": {
            "text/plain": [
              "<IPython.core.display.HTML object>"
            ],
            "text/html": [
              "<font color=\"green\" style=\"white-space: pre;\" > 218 <span>    </span>Acostado <span>    </span> Acostado</font>"
            ]
          },
          "metadata": {}
        },
        {
          "output_type": "display_data",
          "data": {
            "text/plain": [
              "<IPython.core.display.HTML object>"
            ],
            "text/html": [
              "<font color=\"green\" style=\"white-space: pre;\" > 219 <span>    </span>Acostado <span>    </span> Acostado</font>"
            ]
          },
          "metadata": {}
        },
        {
          "output_type": "display_data",
          "data": {
            "text/plain": [
              "<IPython.core.display.HTML object>"
            ],
            "text/html": [
              "<font color=\"green\" style=\"white-space: pre;\" > 220 <span>    </span>Acostado <span>    </span> Acostado</font>"
            ]
          },
          "metadata": {}
        },
        {
          "output_type": "display_data",
          "data": {
            "text/plain": [
              "<IPython.core.display.HTML object>"
            ],
            "text/html": [
              "<font color=\"green\" style=\"white-space: pre;\" > 221 <span>    </span>Acostado <span>    </span> Acostado</font>"
            ]
          },
          "metadata": {}
        },
        {
          "output_type": "display_data",
          "data": {
            "text/plain": [
              "<IPython.core.display.HTML object>"
            ],
            "text/html": [
              "<font color=\"green\" style=\"white-space: pre;\" > 222 <span>    </span>Acostado <span>    </span> Acostado</font>"
            ]
          },
          "metadata": {}
        },
        {
          "output_type": "display_data",
          "data": {
            "text/plain": [
              "<IPython.core.display.HTML object>"
            ],
            "text/html": [
              "<font color=\"green\" style=\"white-space: pre;\" > 223 <span>    </span>Acostado <span>    </span> Acostado</font>"
            ]
          },
          "metadata": {}
        },
        {
          "output_type": "display_data",
          "data": {
            "text/plain": [
              "<IPython.core.display.HTML object>"
            ],
            "text/html": [
              "<font color=\"green\" style=\"white-space: pre;\" > 224 <span>    </span>Acostado <span>    </span> Acostado</font>"
            ]
          },
          "metadata": {}
        },
        {
          "output_type": "display_data",
          "data": {
            "text/plain": [
              "<IPython.core.display.HTML object>"
            ],
            "text/html": [
              "<font color=\"green\" style=\"white-space: pre;\" > 225 <span>    </span>Acostado <span>    </span> Acostado</font>"
            ]
          },
          "metadata": {}
        },
        {
          "output_type": "display_data",
          "data": {
            "text/plain": [
              "<IPython.core.display.HTML object>"
            ],
            "text/html": [
              "<font color=\"green\" style=\"white-space: pre;\" > 226 <span>    </span>Acostado <span>    </span> Acostado</font>"
            ]
          },
          "metadata": {}
        },
        {
          "output_type": "display_data",
          "data": {
            "text/plain": [
              "<IPython.core.display.HTML object>"
            ],
            "text/html": [
              "<font color=\"green\" style=\"white-space: pre;\" > 227 <span>    </span>Acostado <span>    </span> Acostado</font>"
            ]
          },
          "metadata": {}
        },
        {
          "output_type": "display_data",
          "data": {
            "text/plain": [
              "<IPython.core.display.HTML object>"
            ],
            "text/html": [
              "<font color=\"green\" style=\"white-space: pre;\" > 228 <span>    </span>Caminar <span>    </span> Caminar</font>"
            ]
          },
          "metadata": {}
        },
        {
          "output_type": "display_data",
          "data": {
            "text/plain": [
              "<IPython.core.display.HTML object>"
            ],
            "text/html": [
              "<font color=\"green\" style=\"white-space: pre;\" > 229 <span>    </span>Caminar <span>    </span> Caminar</font>"
            ]
          },
          "metadata": {}
        },
        {
          "output_type": "display_data",
          "data": {
            "text/plain": [
              "<IPython.core.display.HTML object>"
            ],
            "text/html": [
              "<font color=\"green\" style=\"white-space: pre;\" > 230 <span>    </span>Caminar <span>    </span> Caminar</font>"
            ]
          },
          "metadata": {}
        },
        {
          "output_type": "display_data",
          "data": {
            "text/plain": [
              "<IPython.core.display.HTML object>"
            ],
            "text/html": [
              "<font color=\"green\" style=\"white-space: pre;\" > 231 <span>    </span>Caminar <span>    </span> Caminar</font>"
            ]
          },
          "metadata": {}
        },
        {
          "output_type": "display_data",
          "data": {
            "text/plain": [
              "<IPython.core.display.HTML object>"
            ],
            "text/html": [
              "<font color=\"green\" style=\"white-space: pre;\" > 232 <span>    </span>Caminar <span>    </span> Caminar</font>"
            ]
          },
          "metadata": {}
        },
        {
          "output_type": "display_data",
          "data": {
            "text/plain": [
              "<IPython.core.display.HTML object>"
            ],
            "text/html": [
              "<font color=\"green\" style=\"white-space: pre;\" > 233 <span>    </span>Caminar <span>    </span> Caminar</font>"
            ]
          },
          "metadata": {}
        },
        {
          "output_type": "display_data",
          "data": {
            "text/plain": [
              "<IPython.core.display.HTML object>"
            ],
            "text/html": [
              "<font color=\"green\" style=\"white-space: pre;\" > 234 <span>    </span>Caminar <span>    </span> Caminar</font>"
            ]
          },
          "metadata": {}
        },
        {
          "output_type": "display_data",
          "data": {
            "text/plain": [
              "<IPython.core.display.HTML object>"
            ],
            "text/html": [
              "<font color=\"green\" style=\"white-space: pre;\" > 235 <span>    </span>Caminar <span>    </span> Caminar</font>"
            ]
          },
          "metadata": {}
        },
        {
          "output_type": "display_data",
          "data": {
            "text/plain": [
              "<IPython.core.display.HTML object>"
            ],
            "text/html": [
              "<font color=\"green\" style=\"white-space: pre;\" > 236 <span>    </span>Caminar <span>    </span> Caminar</font>"
            ]
          },
          "metadata": {}
        },
        {
          "output_type": "display_data",
          "data": {
            "text/plain": [
              "<IPython.core.display.HTML object>"
            ],
            "text/html": [
              "<font color=\"green\" style=\"white-space: pre;\" > 237 <span>    </span>Caminar <span>    </span> Caminar</font>"
            ]
          },
          "metadata": {}
        },
        {
          "output_type": "display_data",
          "data": {
            "text/plain": [
              "<IPython.core.display.HTML object>"
            ],
            "text/html": [
              "<font color=\"green\" style=\"white-space: pre;\" > 238 <span>    </span>Caminar <span>    </span> Caminar</font>"
            ]
          },
          "metadata": {}
        },
        {
          "output_type": "display_data",
          "data": {
            "text/plain": [
              "<IPython.core.display.HTML object>"
            ],
            "text/html": [
              "<font color=\"green\" style=\"white-space: pre;\" > 239 <span>    </span>Caminar <span>    </span> Caminar</font>"
            ]
          },
          "metadata": {}
        },
        {
          "output_type": "display_data",
          "data": {
            "text/plain": [
              "<IPython.core.display.HTML object>"
            ],
            "text/html": [
              "<font color=\"green\" style=\"white-space: pre;\" > 240 <span>    </span>Caminar <span>    </span> Caminar</font>"
            ]
          },
          "metadata": {}
        },
        {
          "output_type": "display_data",
          "data": {
            "text/plain": [
              "<IPython.core.display.HTML object>"
            ],
            "text/html": [
              "<font color=\"green\" style=\"white-space: pre;\" > 241 <span>    </span>Caminar <span>    </span> Caminar</font>"
            ]
          },
          "metadata": {}
        },
        {
          "output_type": "display_data",
          "data": {
            "text/plain": [
              "<IPython.core.display.HTML object>"
            ],
            "text/html": [
              "<font color=\"green\" style=\"white-space: pre;\" > 242 <span>    </span>Caminar <span>    </span> Caminar</font>"
            ]
          },
          "metadata": {}
        },
        {
          "output_type": "display_data",
          "data": {
            "text/plain": [
              "<IPython.core.display.HTML object>"
            ],
            "text/html": [
              "<font color=\"green\" style=\"white-space: pre;\" > 243 <span>    </span>Caminar <span>    </span> Caminar</font>"
            ]
          },
          "metadata": {}
        },
        {
          "output_type": "display_data",
          "data": {
            "text/plain": [
              "<IPython.core.display.HTML object>"
            ],
            "text/html": [
              "<font color=\"green\" style=\"white-space: pre;\" > 244 <span>    </span>Caminar <span>    </span> Caminar</font>"
            ]
          },
          "metadata": {}
        },
        {
          "output_type": "display_data",
          "data": {
            "text/plain": [
              "<IPython.core.display.HTML object>"
            ],
            "text/html": [
              "<font color=\"green\" style=\"white-space: pre;\" > 245 <span>    </span>Caminar <span>    </span> Caminar</font>"
            ]
          },
          "metadata": {}
        },
        {
          "output_type": "display_data",
          "data": {
            "text/plain": [
              "<IPython.core.display.HTML object>"
            ],
            "text/html": [
              "<font color=\"green\" style=\"white-space: pre;\" > 246 <span>    </span>Caminar <span>    </span> Caminar</font>"
            ]
          },
          "metadata": {}
        },
        {
          "output_type": "display_data",
          "data": {
            "text/plain": [
              "<IPython.core.display.HTML object>"
            ],
            "text/html": [
              "<font color=\"green\" style=\"white-space: pre;\" > 247 <span>    </span>Caminar <span>    </span> Caminar</font>"
            ]
          },
          "metadata": {}
        },
        {
          "output_type": "display_data",
          "data": {
            "text/plain": [
              "<IPython.core.display.HTML object>"
            ],
            "text/html": [
              "<font color=\"green\" style=\"white-space: pre;\" > 248 <span>    </span>Caminar <span>    </span> Caminar</font>"
            ]
          },
          "metadata": {}
        },
        {
          "output_type": "display_data",
          "data": {
            "text/plain": [
              "<IPython.core.display.HTML object>"
            ],
            "text/html": [
              "<font color=\"green\" style=\"white-space: pre;\" > 249 <span>    </span>Caminar <span>    </span> Caminar</font>"
            ]
          },
          "metadata": {}
        },
        {
          "output_type": "display_data",
          "data": {
            "text/plain": [
              "<IPython.core.display.HTML object>"
            ],
            "text/html": [
              "<font color=\"green\" style=\"white-space: pre;\" > 250 <span>    </span>Caminar <span>    </span> Caminar</font>"
            ]
          },
          "metadata": {}
        },
        {
          "output_type": "display_data",
          "data": {
            "text/plain": [
              "<IPython.core.display.HTML object>"
            ],
            "text/html": [
              "<font color=\"green\" style=\"white-space: pre;\" > 251 <span>    </span>Caminar <span>    </span> Caminar</font>"
            ]
          },
          "metadata": {}
        },
        {
          "output_type": "display_data",
          "data": {
            "text/plain": [
              "<IPython.core.display.HTML object>"
            ],
            "text/html": [
              "<font color=\"green\" style=\"white-space: pre;\" > 252 <span>    </span>Caminar <span>    </span> Caminar</font>"
            ]
          },
          "metadata": {}
        },
        {
          "output_type": "display_data",
          "data": {
            "text/plain": [
              "<IPython.core.display.HTML object>"
            ],
            "text/html": [
              "<font color=\"green\" style=\"white-space: pre;\" > 253 <span>    </span>Caminar <span>    </span> Caminar</font>"
            ]
          },
          "metadata": {}
        },
        {
          "output_type": "display_data",
          "data": {
            "text/plain": [
              "<IPython.core.display.HTML object>"
            ],
            "text/html": [
              "<font color=\"green\" style=\"white-space: pre;\" > 254 <span>    </span>Caminar <span>    </span> Caminar</font>"
            ]
          },
          "metadata": {}
        },
        {
          "output_type": "display_data",
          "data": {
            "text/plain": [
              "<IPython.core.display.HTML object>"
            ],
            "text/html": [
              "<font color=\"green\" style=\"white-space: pre;\" > 255 <span>    </span>Caminar <span>    </span> Caminar</font>"
            ]
          },
          "metadata": {}
        },
        {
          "output_type": "display_data",
          "data": {
            "text/plain": [
              "<IPython.core.display.HTML object>"
            ],
            "text/html": [
              "<font color=\"green\" style=\"white-space: pre;\" > 256 <span>    </span>Caminar <span>    </span> Caminar</font>"
            ]
          },
          "metadata": {}
        },
        {
          "output_type": "display_data",
          "data": {
            "text/plain": [
              "<IPython.core.display.HTML object>"
            ],
            "text/html": [
              "<font color=\"green\" style=\"white-space: pre;\" > 257 <span>    </span>Caminar Abajo <span>    </span> Caminar Abajo</font>"
            ]
          },
          "metadata": {}
        },
        {
          "output_type": "display_data",
          "data": {
            "text/plain": [
              "<IPython.core.display.HTML object>"
            ],
            "text/html": [
              "<font color=\"green\" style=\"white-space: pre;\" > 258 <span>    </span>Caminar Abajo <span>    </span> Caminar Abajo</font>"
            ]
          },
          "metadata": {}
        },
        {
          "output_type": "display_data",
          "data": {
            "text/plain": [
              "<IPython.core.display.HTML object>"
            ],
            "text/html": [
              "<font color=\"green\" style=\"white-space: pre;\" > 259 <span>    </span>Caminar Abajo <span>    </span> Caminar Abajo</font>"
            ]
          },
          "metadata": {}
        },
        {
          "output_type": "display_data",
          "data": {
            "text/plain": [
              "<IPython.core.display.HTML object>"
            ],
            "text/html": [
              "<font color=\"green\" style=\"white-space: pre;\" > 260 <span>    </span>Caminar Abajo <span>    </span> Caminar Abajo</font>"
            ]
          },
          "metadata": {}
        },
        {
          "output_type": "display_data",
          "data": {
            "text/plain": [
              "<IPython.core.display.HTML object>"
            ],
            "text/html": [
              "<font color=\"green\" style=\"white-space: pre;\" > 261 <span>    </span>Caminar Abajo <span>    </span> Caminar Abajo</font>"
            ]
          },
          "metadata": {}
        },
        {
          "output_type": "display_data",
          "data": {
            "text/plain": [
              "<IPython.core.display.HTML object>"
            ],
            "text/html": [
              "<font color=\"green\" style=\"white-space: pre;\" > 262 <span>    </span>Caminar Abajo <span>    </span> Caminar Abajo</font>"
            ]
          },
          "metadata": {}
        },
        {
          "output_type": "display_data",
          "data": {
            "text/plain": [
              "<IPython.core.display.HTML object>"
            ],
            "text/html": [
              "<font color=\"green\" style=\"white-space: pre;\" > 263 <span>    </span>Caminar Abajo <span>    </span> Caminar Abajo</font>"
            ]
          },
          "metadata": {}
        },
        {
          "output_type": "display_data",
          "data": {
            "text/plain": [
              "<IPython.core.display.HTML object>"
            ],
            "text/html": [
              "<font color=\"green\" style=\"white-space: pre;\" > 264 <span>    </span>Caminar Abajo <span>    </span> Caminar Abajo</font>"
            ]
          },
          "metadata": {}
        },
        {
          "output_type": "display_data",
          "data": {
            "text/plain": [
              "<IPython.core.display.HTML object>"
            ],
            "text/html": [
              "<font color=\"green\" style=\"white-space: pre;\" > 265 <span>    </span>Caminar Abajo <span>    </span> Caminar Abajo</font>"
            ]
          },
          "metadata": {}
        },
        {
          "output_type": "display_data",
          "data": {
            "text/plain": [
              "<IPython.core.display.HTML object>"
            ],
            "text/html": [
              "<font color=\"green\" style=\"white-space: pre;\" > 266 <span>    </span>Caminar Abajo <span>    </span> Caminar Abajo</font>"
            ]
          },
          "metadata": {}
        },
        {
          "output_type": "display_data",
          "data": {
            "text/plain": [
              "<IPython.core.display.HTML object>"
            ],
            "text/html": [
              "<font color=\"green\" style=\"white-space: pre;\" > 267 <span>    </span>Caminar Abajo <span>    </span> Caminar Abajo</font>"
            ]
          },
          "metadata": {}
        },
        {
          "output_type": "display_data",
          "data": {
            "text/plain": [
              "<IPython.core.display.HTML object>"
            ],
            "text/html": [
              "<font color=\"green\" style=\"white-space: pre;\" > 268 <span>    </span>Caminar Abajo <span>    </span> Caminar Abajo</font>"
            ]
          },
          "metadata": {}
        },
        {
          "output_type": "display_data",
          "data": {
            "text/plain": [
              "<IPython.core.display.HTML object>"
            ],
            "text/html": [
              "<font color=\"green\" style=\"white-space: pre;\" > 269 <span>    </span>Caminar Abajo <span>    </span> Caminar Abajo</font>"
            ]
          },
          "metadata": {}
        },
        {
          "output_type": "display_data",
          "data": {
            "text/plain": [
              "<IPython.core.display.HTML object>"
            ],
            "text/html": [
              "<font color=\"green\" style=\"white-space: pre;\" > 270 <span>    </span>Caminar Abajo <span>    </span> Caminar Abajo</font>"
            ]
          },
          "metadata": {}
        },
        {
          "output_type": "display_data",
          "data": {
            "text/plain": [
              "<IPython.core.display.HTML object>"
            ],
            "text/html": [
              "<font color=\"green\" style=\"white-space: pre;\" > 271 <span>    </span>Caminar Abajo <span>    </span> Caminar Abajo</font>"
            ]
          },
          "metadata": {}
        },
        {
          "output_type": "display_data",
          "data": {
            "text/plain": [
              "<IPython.core.display.HTML object>"
            ],
            "text/html": [
              "<font color=\"green\" style=\"white-space: pre;\" > 272 <span>    </span>Caminar Abajo <span>    </span> Caminar Abajo</font>"
            ]
          },
          "metadata": {}
        },
        {
          "output_type": "display_data",
          "data": {
            "text/plain": [
              "<IPython.core.display.HTML object>"
            ],
            "text/html": [
              "<font color=\"green\" style=\"white-space: pre;\" > 273 <span>    </span>Caminar Abajo <span>    </span> Caminar Abajo</font>"
            ]
          },
          "metadata": {}
        },
        {
          "output_type": "display_data",
          "data": {
            "text/plain": [
              "<IPython.core.display.HTML object>"
            ],
            "text/html": [
              "<font color=\"green\" style=\"white-space: pre;\" > 274 <span>    </span>Caminar Abajo <span>    </span> Caminar Abajo</font>"
            ]
          },
          "metadata": {}
        },
        {
          "output_type": "display_data",
          "data": {
            "text/plain": [
              "<IPython.core.display.HTML object>"
            ],
            "text/html": [
              "<font color=\"green\" style=\"white-space: pre;\" > 275 <span>    </span>Caminar Abajo <span>    </span> Caminar Abajo</font>"
            ]
          },
          "metadata": {}
        },
        {
          "output_type": "display_data",
          "data": {
            "text/plain": [
              "<IPython.core.display.HTML object>"
            ],
            "text/html": [
              "<font color=\"green\" style=\"white-space: pre;\" > 276 <span>    </span>Caminar Abajo <span>    </span> Caminar Abajo</font>"
            ]
          },
          "metadata": {}
        },
        {
          "output_type": "display_data",
          "data": {
            "text/plain": [
              "<IPython.core.display.HTML object>"
            ],
            "text/html": [
              "<font color=\"green\" style=\"white-space: pre;\" > 277 <span>    </span>Caminar Abajo <span>    </span> Caminar Abajo</font>"
            ]
          },
          "metadata": {}
        },
        {
          "output_type": "display_data",
          "data": {
            "text/plain": [
              "<IPython.core.display.HTML object>"
            ],
            "text/html": [
              "<font color=\"green\" style=\"white-space: pre;\" > 278 <span>    </span>Caminar Abajo <span>    </span> Caminar Abajo</font>"
            ]
          },
          "metadata": {}
        },
        {
          "output_type": "display_data",
          "data": {
            "text/plain": [
              "<IPython.core.display.HTML object>"
            ],
            "text/html": [
              "<font color=\"green\" style=\"white-space: pre;\" > 279 <span>    </span>Caminar Abajo <span>    </span> Caminar Abajo</font>"
            ]
          },
          "metadata": {}
        },
        {
          "output_type": "display_data",
          "data": {
            "text/plain": [
              "<IPython.core.display.HTML object>"
            ],
            "text/html": [
              "<font color=\"green\" style=\"white-space: pre;\" > 280 <span>    </span>Caminar Arriba <span>    </span> Caminar Arriba</font>"
            ]
          },
          "metadata": {}
        },
        {
          "output_type": "display_data",
          "data": {
            "text/plain": [
              "<IPython.core.display.HTML object>"
            ],
            "text/html": [
              "<font color=\"green\" style=\"white-space: pre;\" > 281 <span>    </span>Caminar Arriba <span>    </span> Caminar Arriba</font>"
            ]
          },
          "metadata": {}
        },
        {
          "output_type": "display_data",
          "data": {
            "text/plain": [
              "<IPython.core.display.HTML object>"
            ],
            "text/html": [
              "<font color=\"green\" style=\"white-space: pre;\" > 282 <span>    </span>Caminar Arriba <span>    </span> Caminar Arriba</font>"
            ]
          },
          "metadata": {}
        },
        {
          "output_type": "display_data",
          "data": {
            "text/plain": [
              "<IPython.core.display.HTML object>"
            ],
            "text/html": [
              "<font color=\"green\" style=\"white-space: pre;\" > 283 <span>    </span>Caminar Arriba <span>    </span> Caminar Arriba</font>"
            ]
          },
          "metadata": {}
        },
        {
          "output_type": "display_data",
          "data": {
            "text/plain": [
              "<IPython.core.display.HTML object>"
            ],
            "text/html": [
              "<font color=\"green\" style=\"white-space: pre;\" > 284 <span>    </span>Caminar Arriba <span>    </span> Caminar Arriba</font>"
            ]
          },
          "metadata": {}
        },
        {
          "output_type": "display_data",
          "data": {
            "text/plain": [
              "<IPython.core.display.HTML object>"
            ],
            "text/html": [
              "<font color=\"green\" style=\"white-space: pre;\" > 285 <span>    </span>Caminar Arriba <span>    </span> Caminar Arriba</font>"
            ]
          },
          "metadata": {}
        },
        {
          "output_type": "display_data",
          "data": {
            "text/plain": [
              "<IPython.core.display.HTML object>"
            ],
            "text/html": [
              "<font color=\"green\" style=\"white-space: pre;\" > 286 <span>    </span>Caminar Arriba <span>    </span> Caminar Arriba</font>"
            ]
          },
          "metadata": {}
        },
        {
          "output_type": "display_data",
          "data": {
            "text/plain": [
              "<IPython.core.display.HTML object>"
            ],
            "text/html": [
              "<font color=\"green\" style=\"white-space: pre;\" > 287 <span>    </span>Caminar Arriba <span>    </span> Caminar Arriba</font>"
            ]
          },
          "metadata": {}
        },
        {
          "output_type": "display_data",
          "data": {
            "text/plain": [
              "<IPython.core.display.HTML object>"
            ],
            "text/html": [
              "<font color=\"green\" style=\"white-space: pre;\" > 288 <span>    </span>Caminar Arriba <span>    </span> Caminar Arriba</font>"
            ]
          },
          "metadata": {}
        },
        {
          "output_type": "display_data",
          "data": {
            "text/plain": [
              "<IPython.core.display.HTML object>"
            ],
            "text/html": [
              "<font color=\"green\" style=\"white-space: pre;\" > 289 <span>    </span>Caminar Arriba <span>    </span> Caminar Arriba</font>"
            ]
          },
          "metadata": {}
        },
        {
          "output_type": "display_data",
          "data": {
            "text/plain": [
              "<IPython.core.display.HTML object>"
            ],
            "text/html": [
              "<font color=\"green\" style=\"white-space: pre;\" > 290 <span>    </span>Caminar Arriba <span>    </span> Caminar Arriba</font>"
            ]
          },
          "metadata": {}
        },
        {
          "output_type": "display_data",
          "data": {
            "text/plain": [
              "<IPython.core.display.HTML object>"
            ],
            "text/html": [
              "<font color=\"green\" style=\"white-space: pre;\" > 291 <span>    </span>Caminar Arriba <span>    </span> Caminar Arriba</font>"
            ]
          },
          "metadata": {}
        },
        {
          "output_type": "display_data",
          "data": {
            "text/plain": [
              "<IPython.core.display.HTML object>"
            ],
            "text/html": [
              "<font color=\"green\" style=\"white-space: pre;\" > 292 <span>    </span>Caminar Arriba <span>    </span> Caminar Arriba</font>"
            ]
          },
          "metadata": {}
        },
        {
          "output_type": "display_data",
          "data": {
            "text/plain": [
              "<IPython.core.display.HTML object>"
            ],
            "text/html": [
              "<font color=\"green\" style=\"white-space: pre;\" > 293 <span>    </span>Caminar Arriba <span>    </span> Caminar Arriba</font>"
            ]
          },
          "metadata": {}
        },
        {
          "output_type": "display_data",
          "data": {
            "text/plain": [
              "<IPython.core.display.HTML object>"
            ],
            "text/html": [
              "<font color=\"green\" style=\"white-space: pre;\" > 294 <span>    </span>Caminar Arriba <span>    </span> Caminar Arriba</font>"
            ]
          },
          "metadata": {}
        },
        {
          "output_type": "display_data",
          "data": {
            "text/plain": [
              "<IPython.core.display.HTML object>"
            ],
            "text/html": [
              "<font color=\"green\" style=\"white-space: pre;\" > 295 <span>    </span>Caminar Arriba <span>    </span> Caminar Arriba</font>"
            ]
          },
          "metadata": {}
        },
        {
          "output_type": "display_data",
          "data": {
            "text/plain": [
              "<IPython.core.display.HTML object>"
            ],
            "text/html": [
              "<font color=\"green\" style=\"white-space: pre;\" > 296 <span>    </span>Caminar Arriba <span>    </span> Caminar Arriba</font>"
            ]
          },
          "metadata": {}
        },
        {
          "output_type": "display_data",
          "data": {
            "text/plain": [
              "<IPython.core.display.HTML object>"
            ],
            "text/html": [
              "<font color=\"green\" style=\"white-space: pre;\" > 297 <span>    </span>Caminar Arriba <span>    </span> Caminar Arriba</font>"
            ]
          },
          "metadata": {}
        },
        {
          "output_type": "display_data",
          "data": {
            "text/plain": [
              "<IPython.core.display.HTML object>"
            ],
            "text/html": [
              "<font color=\"green\" style=\"white-space: pre;\" > 298 <span>    </span>Caminar Arriba <span>    </span> Caminar Arriba</font>"
            ]
          },
          "metadata": {}
        },
        {
          "output_type": "display_data",
          "data": {
            "text/plain": [
              "<IPython.core.display.HTML object>"
            ],
            "text/html": [
              "<font color=\"green\" style=\"white-space: pre;\" > 299 <span>    </span>Caminar Arriba <span>    </span> Caminar Arriba</font>"
            ]
          },
          "metadata": {}
        },
        {
          "output_type": "display_data",
          "data": {
            "text/plain": [
              "<IPython.core.display.HTML object>"
            ],
            "text/html": [
              "<font color=\"green\" style=\"white-space: pre;\" > 300 <span>    </span>Caminar Arriba <span>    </span> Caminar Arriba</font>"
            ]
          },
          "metadata": {}
        },
        {
          "output_type": "display_data",
          "data": {
            "text/plain": [
              "<IPython.core.display.HTML object>"
            ],
            "text/html": [
              "<font color=\"green\" style=\"white-space: pre;\" > 301 <span>    </span>Caminar Arriba <span>    </span> Caminar Arriba</font>"
            ]
          },
          "metadata": {}
        },
        {
          "output_type": "display_data",
          "data": {
            "text/plain": [
              "<IPython.core.display.HTML object>"
            ],
            "text/html": [
              "<font color=\"green\" style=\"white-space: pre;\" > 302 <span>    </span>Caminar Arriba <span>    </span> Caminar Arriba</font>"
            ]
          },
          "metadata": {}
        },
        {
          "output_type": "display_data",
          "data": {
            "text/plain": [
              "<IPython.core.display.HTML object>"
            ],
            "text/html": [
              "<font color=\"green\" style=\"white-space: pre;\" > 303 <span>    </span>De pie <span>    </span> De pie</font>"
            ]
          },
          "metadata": {}
        },
        {
          "output_type": "display_data",
          "data": {
            "text/plain": [
              "<IPython.core.display.HTML object>"
            ],
            "text/html": [
              "<font color=\"green\" style=\"white-space: pre;\" > 304 <span>    </span>De pie <span>    </span> De pie</font>"
            ]
          },
          "metadata": {}
        },
        {
          "output_type": "display_data",
          "data": {
            "text/plain": [
              "<IPython.core.display.HTML object>"
            ],
            "text/html": [
              "<font color=\"green\" style=\"white-space: pre;\" > 305 <span>    </span>De pie <span>    </span> De pie</font>"
            ]
          },
          "metadata": {}
        },
        {
          "output_type": "display_data",
          "data": {
            "text/plain": [
              "<IPython.core.display.HTML object>"
            ],
            "text/html": [
              "<font color=\"green\" style=\"white-space: pre;\" > 306 <span>    </span>De pie <span>    </span> De pie</font>"
            ]
          },
          "metadata": {}
        },
        {
          "output_type": "display_data",
          "data": {
            "text/plain": [
              "<IPython.core.display.HTML object>"
            ],
            "text/html": [
              "<font color=\"green\" style=\"white-space: pre;\" > 307 <span>    </span>De pie <span>    </span> De pie</font>"
            ]
          },
          "metadata": {}
        },
        {
          "output_type": "display_data",
          "data": {
            "text/plain": [
              "<IPython.core.display.HTML object>"
            ],
            "text/html": [
              "<font color=\"green\" style=\"white-space: pre;\" > 308 <span>    </span>De pie <span>    </span> De pie</font>"
            ]
          },
          "metadata": {}
        },
        {
          "output_type": "display_data",
          "data": {
            "text/plain": [
              "<IPython.core.display.HTML object>"
            ],
            "text/html": [
              "<font color=\"green\" style=\"white-space: pre;\" > 309 <span>    </span>De pie <span>    </span> De pie</font>"
            ]
          },
          "metadata": {}
        },
        {
          "output_type": "display_data",
          "data": {
            "text/plain": [
              "<IPython.core.display.HTML object>"
            ],
            "text/html": [
              "<font color=\"green\" style=\"white-space: pre;\" > 310 <span>    </span>De pie <span>    </span> De pie</font>"
            ]
          },
          "metadata": {}
        },
        {
          "output_type": "display_data",
          "data": {
            "text/plain": [
              "<IPython.core.display.HTML object>"
            ],
            "text/html": [
              "<font color=\"green\" style=\"white-space: pre;\" > 311 <span>    </span>De pie <span>    </span> De pie</font>"
            ]
          },
          "metadata": {}
        },
        {
          "output_type": "display_data",
          "data": {
            "text/plain": [
              "<IPython.core.display.HTML object>"
            ],
            "text/html": [
              "<font color=\"green\" style=\"white-space: pre;\" > 312 <span>    </span>De pie <span>    </span> De pie</font>"
            ]
          },
          "metadata": {}
        },
        {
          "output_type": "display_data",
          "data": {
            "text/plain": [
              "<IPython.core.display.HTML object>"
            ],
            "text/html": [
              "<font color=\"green\" style=\"white-space: pre;\" > 313 <span>    </span>De pie <span>    </span> De pie</font>"
            ]
          },
          "metadata": {}
        },
        {
          "output_type": "display_data",
          "data": {
            "text/plain": [
              "<IPython.core.display.HTML object>"
            ],
            "text/html": [
              "<font color=\"green\" style=\"white-space: pre;\" > 314 <span>    </span>De pie <span>    </span> De pie</font>"
            ]
          },
          "metadata": {}
        },
        {
          "output_type": "display_data",
          "data": {
            "text/plain": [
              "<IPython.core.display.HTML object>"
            ],
            "text/html": [
              "<font color=\"green\" style=\"white-space: pre;\" > 315 <span>    </span>De pie <span>    </span> De pie</font>"
            ]
          },
          "metadata": {}
        },
        {
          "output_type": "display_data",
          "data": {
            "text/plain": [
              "<IPython.core.display.HTML object>"
            ],
            "text/html": [
              "<font color=\"green\" style=\"white-space: pre;\" > 316 <span>    </span>De pie <span>    </span> De pie</font>"
            ]
          },
          "metadata": {}
        },
        {
          "output_type": "display_data",
          "data": {
            "text/plain": [
              "<IPython.core.display.HTML object>"
            ],
            "text/html": [
              "<font color=\"green\" style=\"white-space: pre;\" > 317 <span>    </span>De pie <span>    </span> De pie</font>"
            ]
          },
          "metadata": {}
        },
        {
          "output_type": "display_data",
          "data": {
            "text/plain": [
              "<IPython.core.display.HTML object>"
            ],
            "text/html": [
              "<font color=\"green\" style=\"white-space: pre;\" > 318 <span>    </span>De pie <span>    </span> De pie</font>"
            ]
          },
          "metadata": {}
        },
        {
          "output_type": "display_data",
          "data": {
            "text/plain": [
              "<IPython.core.display.HTML object>"
            ],
            "text/html": [
              "<font color=\"red\" style=\"white-space: pre;\"> 319 <span>    </span>De pie <span>    </span> Sentado</font>"
            ]
          },
          "metadata": {}
        },
        {
          "output_type": "display_data",
          "data": {
            "text/plain": [
              "<IPython.core.display.HTML object>"
            ],
            "text/html": [
              "<font color=\"green\" style=\"white-space: pre;\" > 320 <span>    </span>De pie <span>    </span> De pie</font>"
            ]
          },
          "metadata": {}
        },
        {
          "output_type": "display_data",
          "data": {
            "text/plain": [
              "<IPython.core.display.HTML object>"
            ],
            "text/html": [
              "<font color=\"green\" style=\"white-space: pre;\" > 321 <span>    </span>De pie <span>    </span> De pie</font>"
            ]
          },
          "metadata": {}
        },
        {
          "output_type": "display_data",
          "data": {
            "text/plain": [
              "<IPython.core.display.HTML object>"
            ],
            "text/html": [
              "<font color=\"green\" style=\"white-space: pre;\" > 322 <span>    </span>De pie <span>    </span> De pie</font>"
            ]
          },
          "metadata": {}
        },
        {
          "output_type": "display_data",
          "data": {
            "text/plain": [
              "<IPython.core.display.HTML object>"
            ],
            "text/html": [
              "<font color=\"green\" style=\"white-space: pre;\" > 323 <span>    </span>De pie <span>    </span> De pie</font>"
            ]
          },
          "metadata": {}
        },
        {
          "output_type": "display_data",
          "data": {
            "text/plain": [
              "<IPython.core.display.HTML object>"
            ],
            "text/html": [
              "<font color=\"green\" style=\"white-space: pre;\" > 324 <span>    </span>De pie <span>    </span> De pie</font>"
            ]
          },
          "metadata": {}
        },
        {
          "output_type": "display_data",
          "data": {
            "text/plain": [
              "<IPython.core.display.HTML object>"
            ],
            "text/html": [
              "<font color=\"green\" style=\"white-space: pre;\" > 325 <span>    </span>De pie <span>    </span> De pie</font>"
            ]
          },
          "metadata": {}
        },
        {
          "output_type": "display_data",
          "data": {
            "text/plain": [
              "<IPython.core.display.HTML object>"
            ],
            "text/html": [
              "<font color=\"green\" style=\"white-space: pre;\" > 326 <span>    </span>De pie <span>    </span> De pie</font>"
            ]
          },
          "metadata": {}
        },
        {
          "output_type": "display_data",
          "data": {
            "text/plain": [
              "<IPython.core.display.HTML object>"
            ],
            "text/html": [
              "<font color=\"green\" style=\"white-space: pre;\" > 327 <span>    </span>De pie <span>    </span> De pie</font>"
            ]
          },
          "metadata": {}
        },
        {
          "output_type": "display_data",
          "data": {
            "text/plain": [
              "<IPython.core.display.HTML object>"
            ],
            "text/html": [
              "<font color=\"green\" style=\"white-space: pre;\" > 328 <span>    </span>De pie <span>    </span> De pie</font>"
            ]
          },
          "metadata": {}
        },
        {
          "output_type": "display_data",
          "data": {
            "text/plain": [
              "<IPython.core.display.HTML object>"
            ],
            "text/html": [
              "<font color=\"green\" style=\"white-space: pre;\" > 329 <span>    </span>De pie <span>    </span> De pie</font>"
            ]
          },
          "metadata": {}
        },
        {
          "output_type": "display_data",
          "data": {
            "text/plain": [
              "<IPython.core.display.HTML object>"
            ],
            "text/html": [
              "<font color=\"green\" style=\"white-space: pre;\" > 330 <span>    </span>De pie <span>    </span> De pie</font>"
            ]
          },
          "metadata": {}
        },
        {
          "output_type": "display_data",
          "data": {
            "text/plain": [
              "<IPython.core.display.HTML object>"
            ],
            "text/html": [
              "<font color=\"green\" style=\"white-space: pre;\" > 331 <span>    </span>Sentado <span>    </span> Sentado</font>"
            ]
          },
          "metadata": {}
        },
        {
          "output_type": "display_data",
          "data": {
            "text/plain": [
              "<IPython.core.display.HTML object>"
            ],
            "text/html": [
              "<font color=\"green\" style=\"white-space: pre;\" > 332 <span>    </span>Sentado <span>    </span> Sentado</font>"
            ]
          },
          "metadata": {}
        },
        {
          "output_type": "display_data",
          "data": {
            "text/plain": [
              "<IPython.core.display.HTML object>"
            ],
            "text/html": [
              "<font color=\"green\" style=\"white-space: pre;\" > 333 <span>    </span>Sentado <span>    </span> Sentado</font>"
            ]
          },
          "metadata": {}
        },
        {
          "output_type": "display_data",
          "data": {
            "text/plain": [
              "<IPython.core.display.HTML object>"
            ],
            "text/html": [
              "<font color=\"green\" style=\"white-space: pre;\" > 334 <span>    </span>Sentado <span>    </span> Sentado</font>"
            ]
          },
          "metadata": {}
        },
        {
          "output_type": "display_data",
          "data": {
            "text/plain": [
              "<IPython.core.display.HTML object>"
            ],
            "text/html": [
              "<font color=\"green\" style=\"white-space: pre;\" > 335 <span>    </span>Sentado <span>    </span> Sentado</font>"
            ]
          },
          "metadata": {}
        },
        {
          "output_type": "display_data",
          "data": {
            "text/plain": [
              "<IPython.core.display.HTML object>"
            ],
            "text/html": [
              "<font color=\"green\" style=\"white-space: pre;\" > 336 <span>    </span>Sentado <span>    </span> Sentado</font>"
            ]
          },
          "metadata": {}
        },
        {
          "output_type": "display_data",
          "data": {
            "text/plain": [
              "<IPython.core.display.HTML object>"
            ],
            "text/html": [
              "<font color=\"green\" style=\"white-space: pre;\" > 337 <span>    </span>Sentado <span>    </span> Sentado</font>"
            ]
          },
          "metadata": {}
        },
        {
          "output_type": "display_data",
          "data": {
            "text/plain": [
              "<IPython.core.display.HTML object>"
            ],
            "text/html": [
              "<font color=\"green\" style=\"white-space: pre;\" > 338 <span>    </span>Sentado <span>    </span> Sentado</font>"
            ]
          },
          "metadata": {}
        },
        {
          "output_type": "display_data",
          "data": {
            "text/plain": [
              "<IPython.core.display.HTML object>"
            ],
            "text/html": [
              "<font color=\"green\" style=\"white-space: pre;\" > 339 <span>    </span>Sentado <span>    </span> Sentado</font>"
            ]
          },
          "metadata": {}
        },
        {
          "output_type": "display_data",
          "data": {
            "text/plain": [
              "<IPython.core.display.HTML object>"
            ],
            "text/html": [
              "<font color=\"green\" style=\"white-space: pre;\" > 340 <span>    </span>Sentado <span>    </span> Sentado</font>"
            ]
          },
          "metadata": {}
        },
        {
          "output_type": "display_data",
          "data": {
            "text/plain": [
              "<IPython.core.display.HTML object>"
            ],
            "text/html": [
              "<font color=\"green\" style=\"white-space: pre;\" > 341 <span>    </span>Sentado <span>    </span> Sentado</font>"
            ]
          },
          "metadata": {}
        },
        {
          "output_type": "display_data",
          "data": {
            "text/plain": [
              "<IPython.core.display.HTML object>"
            ],
            "text/html": [
              "<font color=\"green\" style=\"white-space: pre;\" > 342 <span>    </span>Sentado <span>    </span> Sentado</font>"
            ]
          },
          "metadata": {}
        },
        {
          "output_type": "display_data",
          "data": {
            "text/plain": [
              "<IPython.core.display.HTML object>"
            ],
            "text/html": [
              "<font color=\"green\" style=\"white-space: pre;\" > 343 <span>    </span>Sentado <span>    </span> Sentado</font>"
            ]
          },
          "metadata": {}
        },
        {
          "output_type": "display_data",
          "data": {
            "text/plain": [
              "<IPython.core.display.HTML object>"
            ],
            "text/html": [
              "<font color=\"green\" style=\"white-space: pre;\" > 344 <span>    </span>Sentado <span>    </span> Sentado</font>"
            ]
          },
          "metadata": {}
        },
        {
          "output_type": "display_data",
          "data": {
            "text/plain": [
              "<IPython.core.display.HTML object>"
            ],
            "text/html": [
              "<font color=\"green\" style=\"white-space: pre;\" > 345 <span>    </span>Sentado <span>    </span> Sentado</font>"
            ]
          },
          "metadata": {}
        },
        {
          "output_type": "display_data",
          "data": {
            "text/plain": [
              "<IPython.core.display.HTML object>"
            ],
            "text/html": [
              "<font color=\"green\" style=\"white-space: pre;\" > 346 <span>    </span>Sentado <span>    </span> Sentado</font>"
            ]
          },
          "metadata": {}
        },
        {
          "output_type": "display_data",
          "data": {
            "text/plain": [
              "<IPython.core.display.HTML object>"
            ],
            "text/html": [
              "<font color=\"green\" style=\"white-space: pre;\" > 347 <span>    </span>Sentado <span>    </span> Sentado</font>"
            ]
          },
          "metadata": {}
        },
        {
          "output_type": "display_data",
          "data": {
            "text/plain": [
              "<IPython.core.display.HTML object>"
            ],
            "text/html": [
              "<font color=\"green\" style=\"white-space: pre;\" > 348 <span>    </span>Sentado <span>    </span> Sentado</font>"
            ]
          },
          "metadata": {}
        },
        {
          "output_type": "display_data",
          "data": {
            "text/plain": [
              "<IPython.core.display.HTML object>"
            ],
            "text/html": [
              "<font color=\"green\" style=\"white-space: pre;\" > 349 <span>    </span>Sentado <span>    </span> Sentado</font>"
            ]
          },
          "metadata": {}
        },
        {
          "output_type": "display_data",
          "data": {
            "text/plain": [
              "<IPython.core.display.HTML object>"
            ],
            "text/html": [
              "<font color=\"green\" style=\"white-space: pre;\" > 350 <span>    </span>Sentado <span>    </span> Sentado</font>"
            ]
          },
          "metadata": {}
        },
        {
          "output_type": "display_data",
          "data": {
            "text/plain": [
              "<IPython.core.display.HTML object>"
            ],
            "text/html": [
              "<font color=\"green\" style=\"white-space: pre;\" > 351 <span>    </span>Sentado <span>    </span> Sentado</font>"
            ]
          },
          "metadata": {}
        },
        {
          "output_type": "display_data",
          "data": {
            "text/plain": [
              "<IPython.core.display.HTML object>"
            ],
            "text/html": [
              "<font color=\"green\" style=\"white-space: pre;\" > 352 <span>    </span>Sentado <span>    </span> Sentado</font>"
            ]
          },
          "metadata": {}
        },
        {
          "output_type": "display_data",
          "data": {
            "text/plain": [
              "<IPython.core.display.HTML object>"
            ],
            "text/html": [
              "<font color=\"green\" style=\"white-space: pre;\" > 353 <span>    </span>Sentado <span>    </span> Sentado</font>"
            ]
          },
          "metadata": {}
        },
        {
          "output_type": "display_data",
          "data": {
            "text/plain": [
              "<IPython.core.display.HTML object>"
            ],
            "text/html": [
              "<font color=\"green\" style=\"white-space: pre;\" > 354 <span>    </span>Sentado <span>    </span> Sentado</font>"
            ]
          },
          "metadata": {}
        },
        {
          "output_type": "display_data",
          "data": {
            "text/plain": [
              "<IPython.core.display.HTML object>"
            ],
            "text/html": [
              "<font color=\"green\" style=\"white-space: pre;\" > 355 <span>    </span>Acostado <span>    </span> Acostado</font>"
            ]
          },
          "metadata": {}
        },
        {
          "output_type": "display_data",
          "data": {
            "text/plain": [
              "<IPython.core.display.HTML object>"
            ],
            "text/html": [
              "<font color=\"green\" style=\"white-space: pre;\" > 356 <span>    </span>Acostado <span>    </span> Acostado</font>"
            ]
          },
          "metadata": {}
        },
        {
          "output_type": "display_data",
          "data": {
            "text/plain": [
              "<IPython.core.display.HTML object>"
            ],
            "text/html": [
              "<font color=\"green\" style=\"white-space: pre;\" > 357 <span>    </span>Acostado <span>    </span> Acostado</font>"
            ]
          },
          "metadata": {}
        },
        {
          "output_type": "display_data",
          "data": {
            "text/plain": [
              "<IPython.core.display.HTML object>"
            ],
            "text/html": [
              "<font color=\"green\" style=\"white-space: pre;\" > 358 <span>    </span>Acostado <span>    </span> Acostado</font>"
            ]
          },
          "metadata": {}
        },
        {
          "output_type": "display_data",
          "data": {
            "text/plain": [
              "<IPython.core.display.HTML object>"
            ],
            "text/html": [
              "<font color=\"green\" style=\"white-space: pre;\" > 359 <span>    </span>Acostado <span>    </span> Acostado</font>"
            ]
          },
          "metadata": {}
        },
        {
          "output_type": "display_data",
          "data": {
            "text/plain": [
              "<IPython.core.display.HTML object>"
            ],
            "text/html": [
              "<font color=\"green\" style=\"white-space: pre;\" > 360 <span>    </span>Acostado <span>    </span> Acostado</font>"
            ]
          },
          "metadata": {}
        },
        {
          "output_type": "display_data",
          "data": {
            "text/plain": [
              "<IPython.core.display.HTML object>"
            ],
            "text/html": [
              "<font color=\"green\" style=\"white-space: pre;\" > 361 <span>    </span>Acostado <span>    </span> Acostado</font>"
            ]
          },
          "metadata": {}
        },
        {
          "output_type": "display_data",
          "data": {
            "text/plain": [
              "<IPython.core.display.HTML object>"
            ],
            "text/html": [
              "<font color=\"green\" style=\"white-space: pre;\" > 362 <span>    </span>Acostado <span>    </span> Acostado</font>"
            ]
          },
          "metadata": {}
        },
        {
          "output_type": "display_data",
          "data": {
            "text/plain": [
              "<IPython.core.display.HTML object>"
            ],
            "text/html": [
              "<font color=\"green\" style=\"white-space: pre;\" > 363 <span>    </span>Acostado <span>    </span> Acostado</font>"
            ]
          },
          "metadata": {}
        },
        {
          "output_type": "display_data",
          "data": {
            "text/plain": [
              "<IPython.core.display.HTML object>"
            ],
            "text/html": [
              "<font color=\"green\" style=\"white-space: pre;\" > 364 <span>    </span>Acostado <span>    </span> Acostado</font>"
            ]
          },
          "metadata": {}
        },
        {
          "output_type": "display_data",
          "data": {
            "text/plain": [
              "<IPython.core.display.HTML object>"
            ],
            "text/html": [
              "<font color=\"green\" style=\"white-space: pre;\" > 365 <span>    </span>Acostado <span>    </span> Acostado</font>"
            ]
          },
          "metadata": {}
        },
        {
          "output_type": "display_data",
          "data": {
            "text/plain": [
              "<IPython.core.display.HTML object>"
            ],
            "text/html": [
              "<font color=\"green\" style=\"white-space: pre;\" > 366 <span>    </span>Acostado <span>    </span> Acostado</font>"
            ]
          },
          "metadata": {}
        },
        {
          "output_type": "display_data",
          "data": {
            "text/plain": [
              "<IPython.core.display.HTML object>"
            ],
            "text/html": [
              "<font color=\"green\" style=\"white-space: pre;\" > 367 <span>    </span>Acostado <span>    </span> Acostado</font>"
            ]
          },
          "metadata": {}
        },
        {
          "output_type": "display_data",
          "data": {
            "text/plain": [
              "<IPython.core.display.HTML object>"
            ],
            "text/html": [
              "<font color=\"green\" style=\"white-space: pre;\" > 368 <span>    </span>Acostado <span>    </span> Acostado</font>"
            ]
          },
          "metadata": {}
        },
        {
          "output_type": "display_data",
          "data": {
            "text/plain": [
              "<IPython.core.display.HTML object>"
            ],
            "text/html": [
              "<font color=\"green\" style=\"white-space: pre;\" > 369 <span>    </span>Acostado <span>    </span> Acostado</font>"
            ]
          },
          "metadata": {}
        },
        {
          "output_type": "display_data",
          "data": {
            "text/plain": [
              "<IPython.core.display.HTML object>"
            ],
            "text/html": [
              "<font color=\"green\" style=\"white-space: pre;\" > 370 <span>    </span>Acostado <span>    </span> Acostado</font>"
            ]
          },
          "metadata": {}
        },
        {
          "output_type": "display_data",
          "data": {
            "text/plain": [
              "<IPython.core.display.HTML object>"
            ],
            "text/html": [
              "<font color=\"green\" style=\"white-space: pre;\" > 371 <span>    </span>Acostado <span>    </span> Acostado</font>"
            ]
          },
          "metadata": {}
        },
        {
          "output_type": "display_data",
          "data": {
            "text/plain": [
              "<IPython.core.display.HTML object>"
            ],
            "text/html": [
              "<font color=\"green\" style=\"white-space: pre;\" > 372 <span>    </span>Acostado <span>    </span> Acostado</font>"
            ]
          },
          "metadata": {}
        },
        {
          "output_type": "display_data",
          "data": {
            "text/plain": [
              "<IPython.core.display.HTML object>"
            ],
            "text/html": [
              "<font color=\"green\" style=\"white-space: pre;\" > 373 <span>    </span>Acostado <span>    </span> Acostado</font>"
            ]
          },
          "metadata": {}
        },
        {
          "output_type": "display_data",
          "data": {
            "text/plain": [
              "<IPython.core.display.HTML object>"
            ],
            "text/html": [
              "<font color=\"green\" style=\"white-space: pre;\" > 374 <span>    </span>Acostado <span>    </span> Acostado</font>"
            ]
          },
          "metadata": {}
        },
        {
          "output_type": "display_data",
          "data": {
            "text/plain": [
              "<IPython.core.display.HTML object>"
            ],
            "text/html": [
              "<font color=\"green\" style=\"white-space: pre;\" > 375 <span>    </span>Acostado <span>    </span> Acostado</font>"
            ]
          },
          "metadata": {}
        },
        {
          "output_type": "display_data",
          "data": {
            "text/plain": [
              "<IPython.core.display.HTML object>"
            ],
            "text/html": [
              "<font color=\"green\" style=\"white-space: pre;\" > 376 <span>    </span>Acostado <span>    </span> Acostado</font>"
            ]
          },
          "metadata": {}
        },
        {
          "output_type": "display_data",
          "data": {
            "text/plain": [
              "<IPython.core.display.HTML object>"
            ],
            "text/html": [
              "<font color=\"green\" style=\"white-space: pre;\" > 377 <span>    </span>Acostado <span>    </span> Acostado</font>"
            ]
          },
          "metadata": {}
        },
        {
          "output_type": "display_data",
          "data": {
            "text/plain": [
              "<IPython.core.display.HTML object>"
            ],
            "text/html": [
              "<font color=\"green\" style=\"white-space: pre;\" > 378 <span>    </span>Acostado <span>    </span> Acostado</font>"
            ]
          },
          "metadata": {}
        },
        {
          "output_type": "display_data",
          "data": {
            "text/plain": [
              "<IPython.core.display.HTML object>"
            ],
            "text/html": [
              "<font color=\"green\" style=\"white-space: pre;\" > 379 <span>    </span>Acostado <span>    </span> Acostado</font>"
            ]
          },
          "metadata": {}
        },
        {
          "output_type": "display_data",
          "data": {
            "text/plain": [
              "<IPython.core.display.HTML object>"
            ],
            "text/html": [
              "<font color=\"green\" style=\"white-space: pre;\" > 380 <span>    </span>Acostado <span>    </span> Acostado</font>"
            ]
          },
          "metadata": {}
        },
        {
          "output_type": "display_data",
          "data": {
            "text/plain": [
              "<IPython.core.display.HTML object>"
            ],
            "text/html": [
              "<font color=\"green\" style=\"white-space: pre;\" > 381 <span>    </span>Acostado <span>    </span> Acostado</font>"
            ]
          },
          "metadata": {}
        },
        {
          "output_type": "display_data",
          "data": {
            "text/plain": [
              "<IPython.core.display.HTML object>"
            ],
            "text/html": [
              "<font color=\"green\" style=\"white-space: pre;\" > 382 <span>    </span>Acostado <span>    </span> Acostado</font>"
            ]
          },
          "metadata": {}
        },
        {
          "output_type": "display_data",
          "data": {
            "text/plain": [
              "<IPython.core.display.HTML object>"
            ],
            "text/html": [
              "<font color=\"green\" style=\"white-space: pre;\" > 383 <span>    </span>Acostado <span>    </span> Acostado</font>"
            ]
          },
          "metadata": {}
        },
        {
          "output_type": "display_data",
          "data": {
            "text/plain": [
              "<IPython.core.display.HTML object>"
            ],
            "text/html": [
              "<font color=\"green\" style=\"white-space: pre;\" > 384 <span>    </span>Acostado <span>    </span> Acostado</font>"
            ]
          },
          "metadata": {}
        },
        {
          "output_type": "display_data",
          "data": {
            "text/plain": [
              "<IPython.core.display.HTML object>"
            ],
            "text/html": [
              "<font color=\"green\" style=\"white-space: pre;\" > 385 <span>    </span>Caminar <span>    </span> Caminar</font>"
            ]
          },
          "metadata": {}
        },
        {
          "output_type": "display_data",
          "data": {
            "text/plain": [
              "<IPython.core.display.HTML object>"
            ],
            "text/html": [
              "<font color=\"green\" style=\"white-space: pre;\" > 386 <span>    </span>Caminar <span>    </span> Caminar</font>"
            ]
          },
          "metadata": {}
        },
        {
          "output_type": "display_data",
          "data": {
            "text/plain": [
              "<IPython.core.display.HTML object>"
            ],
            "text/html": [
              "<font color=\"green\" style=\"white-space: pre;\" > 387 <span>    </span>Caminar <span>    </span> Caminar</font>"
            ]
          },
          "metadata": {}
        },
        {
          "output_type": "display_data",
          "data": {
            "text/plain": [
              "<IPython.core.display.HTML object>"
            ],
            "text/html": [
              "<font color=\"green\" style=\"white-space: pre;\" > 388 <span>    </span>Caminar <span>    </span> Caminar</font>"
            ]
          },
          "metadata": {}
        },
        {
          "output_type": "display_data",
          "data": {
            "text/plain": [
              "<IPython.core.display.HTML object>"
            ],
            "text/html": [
              "<font color=\"green\" style=\"white-space: pre;\" > 389 <span>    </span>Caminar <span>    </span> Caminar</font>"
            ]
          },
          "metadata": {}
        },
        {
          "output_type": "display_data",
          "data": {
            "text/plain": [
              "<IPython.core.display.HTML object>"
            ],
            "text/html": [
              "<font color=\"green\" style=\"white-space: pre;\" > 390 <span>    </span>Caminar <span>    </span> Caminar</font>"
            ]
          },
          "metadata": {}
        },
        {
          "output_type": "display_data",
          "data": {
            "text/plain": [
              "<IPython.core.display.HTML object>"
            ],
            "text/html": [
              "<font color=\"green\" style=\"white-space: pre;\" > 391 <span>    </span>Caminar <span>    </span> Caminar</font>"
            ]
          },
          "metadata": {}
        },
        {
          "output_type": "display_data",
          "data": {
            "text/plain": [
              "<IPython.core.display.HTML object>"
            ],
            "text/html": [
              "<font color=\"green\" style=\"white-space: pre;\" > 392 <span>    </span>Caminar <span>    </span> Caminar</font>"
            ]
          },
          "metadata": {}
        },
        {
          "output_type": "display_data",
          "data": {
            "text/plain": [
              "<IPython.core.display.HTML object>"
            ],
            "text/html": [
              "<font color=\"green\" style=\"white-space: pre;\" > 393 <span>    </span>Caminar <span>    </span> Caminar</font>"
            ]
          },
          "metadata": {}
        },
        {
          "output_type": "display_data",
          "data": {
            "text/plain": [
              "<IPython.core.display.HTML object>"
            ],
            "text/html": [
              "<font color=\"green\" style=\"white-space: pre;\" > 394 <span>    </span>Caminar <span>    </span> Caminar</font>"
            ]
          },
          "metadata": {}
        },
        {
          "output_type": "display_data",
          "data": {
            "text/plain": [
              "<IPython.core.display.HTML object>"
            ],
            "text/html": [
              "<font color=\"green\" style=\"white-space: pre;\" > 395 <span>    </span>Caminar <span>    </span> Caminar</font>"
            ]
          },
          "metadata": {}
        },
        {
          "output_type": "display_data",
          "data": {
            "text/plain": [
              "<IPython.core.display.HTML object>"
            ],
            "text/html": [
              "<font color=\"green\" style=\"white-space: pre;\" > 396 <span>    </span>Caminar <span>    </span> Caminar</font>"
            ]
          },
          "metadata": {}
        },
        {
          "output_type": "display_data",
          "data": {
            "text/plain": [
              "<IPython.core.display.HTML object>"
            ],
            "text/html": [
              "<font color=\"green\" style=\"white-space: pre;\" > 397 <span>    </span>Caminar <span>    </span> Caminar</font>"
            ]
          },
          "metadata": {}
        },
        {
          "output_type": "display_data",
          "data": {
            "text/plain": [
              "<IPython.core.display.HTML object>"
            ],
            "text/html": [
              "<font color=\"green\" style=\"white-space: pre;\" > 398 <span>    </span>Caminar <span>    </span> Caminar</font>"
            ]
          },
          "metadata": {}
        },
        {
          "output_type": "display_data",
          "data": {
            "text/plain": [
              "<IPython.core.display.HTML object>"
            ],
            "text/html": [
              "<font color=\"green\" style=\"white-space: pre;\" > 399 <span>    </span>Caminar <span>    </span> Caminar</font>"
            ]
          },
          "metadata": {}
        },
        {
          "output_type": "display_data",
          "data": {
            "text/plain": [
              "<IPython.core.display.HTML object>"
            ],
            "text/html": [
              "<font color=\"green\" style=\"white-space: pre;\" > 400 <span>    </span>Caminar <span>    </span> Caminar</font>"
            ]
          },
          "metadata": {}
        },
        {
          "output_type": "display_data",
          "data": {
            "text/plain": [
              "<IPython.core.display.HTML object>"
            ],
            "text/html": [
              "<font color=\"green\" style=\"white-space: pre;\" > 401 <span>    </span>Caminar <span>    </span> Caminar</font>"
            ]
          },
          "metadata": {}
        },
        {
          "output_type": "display_data",
          "data": {
            "text/plain": [
              "<IPython.core.display.HTML object>"
            ],
            "text/html": [
              "<font color=\"green\" style=\"white-space: pre;\" > 402 <span>    </span>Caminar <span>    </span> Caminar</font>"
            ]
          },
          "metadata": {}
        },
        {
          "output_type": "display_data",
          "data": {
            "text/plain": [
              "<IPython.core.display.HTML object>"
            ],
            "text/html": [
              "<font color=\"green\" style=\"white-space: pre;\" > 403 <span>    </span>Caminar <span>    </span> Caminar</font>"
            ]
          },
          "metadata": {}
        },
        {
          "output_type": "display_data",
          "data": {
            "text/plain": [
              "<IPython.core.display.HTML object>"
            ],
            "text/html": [
              "<font color=\"green\" style=\"white-space: pre;\" > 404 <span>    </span>Caminar <span>    </span> Caminar</font>"
            ]
          },
          "metadata": {}
        },
        {
          "output_type": "display_data",
          "data": {
            "text/plain": [
              "<IPython.core.display.HTML object>"
            ],
            "text/html": [
              "<font color=\"green\" style=\"white-space: pre;\" > 405 <span>    </span>Caminar <span>    </span> Caminar</font>"
            ]
          },
          "metadata": {}
        },
        {
          "output_type": "display_data",
          "data": {
            "text/plain": [
              "<IPython.core.display.HTML object>"
            ],
            "text/html": [
              "<font color=\"green\" style=\"white-space: pre;\" > 406 <span>    </span>Caminar <span>    </span> Caminar</font>"
            ]
          },
          "metadata": {}
        },
        {
          "output_type": "display_data",
          "data": {
            "text/plain": [
              "<IPython.core.display.HTML object>"
            ],
            "text/html": [
              "<font color=\"green\" style=\"white-space: pre;\" > 407 <span>    </span>Caminar <span>    </span> Caminar</font>"
            ]
          },
          "metadata": {}
        },
        {
          "output_type": "display_data",
          "data": {
            "text/plain": [
              "<IPython.core.display.HTML object>"
            ],
            "text/html": [
              "<font color=\"green\" style=\"white-space: pre;\" > 408 <span>    </span>Caminar <span>    </span> Caminar</font>"
            ]
          },
          "metadata": {}
        },
        {
          "output_type": "display_data",
          "data": {
            "text/plain": [
              "<IPython.core.display.HTML object>"
            ],
            "text/html": [
              "<font color=\"green\" style=\"white-space: pre;\" > 409 <span>    </span>Caminar <span>    </span> Caminar</font>"
            ]
          },
          "metadata": {}
        },
        {
          "output_type": "display_data",
          "data": {
            "text/plain": [
              "<IPython.core.display.HTML object>"
            ],
            "text/html": [
              "<font color=\"green\" style=\"white-space: pre;\" > 410 <span>    </span>Caminar <span>    </span> Caminar</font>"
            ]
          },
          "metadata": {}
        },
        {
          "output_type": "display_data",
          "data": {
            "text/plain": [
              "<IPython.core.display.HTML object>"
            ],
            "text/html": [
              "<font color=\"green\" style=\"white-space: pre;\" > 411 <span>    </span>Caminar <span>    </span> Caminar</font>"
            ]
          },
          "metadata": {}
        },
        {
          "output_type": "display_data",
          "data": {
            "text/plain": [
              "<IPython.core.display.HTML object>"
            ],
            "text/html": [
              "<font color=\"green\" style=\"white-space: pre;\" > 412 <span>    </span>Caminar <span>    </span> Caminar</font>"
            ]
          },
          "metadata": {}
        },
        {
          "output_type": "display_data",
          "data": {
            "text/plain": [
              "<IPython.core.display.HTML object>"
            ],
            "text/html": [
              "<font color=\"green\" style=\"white-space: pre;\" > 413 <span>    </span>Caminar <span>    </span> Caminar</font>"
            ]
          },
          "metadata": {}
        },
        {
          "output_type": "display_data",
          "data": {
            "text/plain": [
              "<IPython.core.display.HTML object>"
            ],
            "text/html": [
              "<font color=\"green\" style=\"white-space: pre;\" > 414 <span>    </span>Caminar <span>    </span> Caminar</font>"
            ]
          },
          "metadata": {}
        },
        {
          "output_type": "display_data",
          "data": {
            "text/plain": [
              "<IPython.core.display.HTML object>"
            ],
            "text/html": [
              "<font color=\"green\" style=\"white-space: pre;\" > 415 <span>    </span>Caminar <span>    </span> Caminar</font>"
            ]
          },
          "metadata": {}
        },
        {
          "output_type": "display_data",
          "data": {
            "text/plain": [
              "<IPython.core.display.HTML object>"
            ],
            "text/html": [
              "<font color=\"green\" style=\"white-space: pre;\" > 416 <span>    </span>Caminar Abajo <span>    </span> Caminar Abajo</font>"
            ]
          },
          "metadata": {}
        },
        {
          "output_type": "display_data",
          "data": {
            "text/plain": [
              "<IPython.core.display.HTML object>"
            ],
            "text/html": [
              "<font color=\"green\" style=\"white-space: pre;\" > 417 <span>    </span>Caminar Abajo <span>    </span> Caminar Abajo</font>"
            ]
          },
          "metadata": {}
        },
        {
          "output_type": "display_data",
          "data": {
            "text/plain": [
              "<IPython.core.display.HTML object>"
            ],
            "text/html": [
              "<font color=\"green\" style=\"white-space: pre;\" > 418 <span>    </span>Caminar Abajo <span>    </span> Caminar Abajo</font>"
            ]
          },
          "metadata": {}
        },
        {
          "output_type": "display_data",
          "data": {
            "text/plain": [
              "<IPython.core.display.HTML object>"
            ],
            "text/html": [
              "<font color=\"green\" style=\"white-space: pre;\" > 419 <span>    </span>Caminar Abajo <span>    </span> Caminar Abajo</font>"
            ]
          },
          "metadata": {}
        },
        {
          "output_type": "display_data",
          "data": {
            "text/plain": [
              "<IPython.core.display.HTML object>"
            ],
            "text/html": [
              "<font color=\"green\" style=\"white-space: pre;\" > 420 <span>    </span>Caminar Abajo <span>    </span> Caminar Abajo</font>"
            ]
          },
          "metadata": {}
        },
        {
          "output_type": "display_data",
          "data": {
            "text/plain": [
              "<IPython.core.display.HTML object>"
            ],
            "text/html": [
              "<font color=\"green\" style=\"white-space: pre;\" > 421 <span>    </span>Caminar Abajo <span>    </span> Caminar Abajo</font>"
            ]
          },
          "metadata": {}
        },
        {
          "output_type": "display_data",
          "data": {
            "text/plain": [
              "<IPython.core.display.HTML object>"
            ],
            "text/html": [
              "<font color=\"green\" style=\"white-space: pre;\" > 422 <span>    </span>Caminar Abajo <span>    </span> Caminar Abajo</font>"
            ]
          },
          "metadata": {}
        },
        {
          "output_type": "display_data",
          "data": {
            "text/plain": [
              "<IPython.core.display.HTML object>"
            ],
            "text/html": [
              "<font color=\"green\" style=\"white-space: pre;\" > 423 <span>    </span>Caminar Abajo <span>    </span> Caminar Abajo</font>"
            ]
          },
          "metadata": {}
        },
        {
          "output_type": "display_data",
          "data": {
            "text/plain": [
              "<IPython.core.display.HTML object>"
            ],
            "text/html": [
              "<font color=\"green\" style=\"white-space: pre;\" > 424 <span>    </span>Caminar Abajo <span>    </span> Caminar Abajo</font>"
            ]
          },
          "metadata": {}
        },
        {
          "output_type": "display_data",
          "data": {
            "text/plain": [
              "<IPython.core.display.HTML object>"
            ],
            "text/html": [
              "<font color=\"green\" style=\"white-space: pre;\" > 425 <span>    </span>Caminar Abajo <span>    </span> Caminar Abajo</font>"
            ]
          },
          "metadata": {}
        },
        {
          "output_type": "display_data",
          "data": {
            "text/plain": [
              "<IPython.core.display.HTML object>"
            ],
            "text/html": [
              "<font color=\"green\" style=\"white-space: pre;\" > 426 <span>    </span>Caminar Abajo <span>    </span> Caminar Abajo</font>"
            ]
          },
          "metadata": {}
        },
        {
          "output_type": "display_data",
          "data": {
            "text/plain": [
              "<IPython.core.display.HTML object>"
            ],
            "text/html": [
              "<font color=\"green\" style=\"white-space: pre;\" > 427 <span>    </span>Caminar Abajo <span>    </span> Caminar Abajo</font>"
            ]
          },
          "metadata": {}
        },
        {
          "output_type": "display_data",
          "data": {
            "text/plain": [
              "<IPython.core.display.HTML object>"
            ],
            "text/html": [
              "<font color=\"green\" style=\"white-space: pre;\" > 428 <span>    </span>Caminar Abajo <span>    </span> Caminar Abajo</font>"
            ]
          },
          "metadata": {}
        },
        {
          "output_type": "display_data",
          "data": {
            "text/plain": [
              "<IPython.core.display.HTML object>"
            ],
            "text/html": [
              "<font color=\"green\" style=\"white-space: pre;\" > 429 <span>    </span>Caminar Abajo <span>    </span> Caminar Abajo</font>"
            ]
          },
          "metadata": {}
        },
        {
          "output_type": "display_data",
          "data": {
            "text/plain": [
              "<IPython.core.display.HTML object>"
            ],
            "text/html": [
              "<font color=\"green\" style=\"white-space: pre;\" > 430 <span>    </span>Caminar Abajo <span>    </span> Caminar Abajo</font>"
            ]
          },
          "metadata": {}
        },
        {
          "output_type": "display_data",
          "data": {
            "text/plain": [
              "<IPython.core.display.HTML object>"
            ],
            "text/html": [
              "<font color=\"green\" style=\"white-space: pre;\" > 431 <span>    </span>Caminar Abajo <span>    </span> Caminar Abajo</font>"
            ]
          },
          "metadata": {}
        },
        {
          "output_type": "display_data",
          "data": {
            "text/plain": [
              "<IPython.core.display.HTML object>"
            ],
            "text/html": [
              "<font color=\"green\" style=\"white-space: pre;\" > 432 <span>    </span>Caminar Abajo <span>    </span> Caminar Abajo</font>"
            ]
          },
          "metadata": {}
        },
        {
          "output_type": "display_data",
          "data": {
            "text/plain": [
              "<IPython.core.display.HTML object>"
            ],
            "text/html": [
              "<font color=\"green\" style=\"white-space: pre;\" > 433 <span>    </span>Caminar Abajo <span>    </span> Caminar Abajo</font>"
            ]
          },
          "metadata": {}
        },
        {
          "output_type": "display_data",
          "data": {
            "text/plain": [
              "<IPython.core.display.HTML object>"
            ],
            "text/html": [
              "<font color=\"green\" style=\"white-space: pre;\" > 434 <span>    </span>Caminar Abajo <span>    </span> Caminar Abajo</font>"
            ]
          },
          "metadata": {}
        },
        {
          "output_type": "display_data",
          "data": {
            "text/plain": [
              "<IPython.core.display.HTML object>"
            ],
            "text/html": [
              "<font color=\"green\" style=\"white-space: pre;\" > 435 <span>    </span>Caminar Abajo <span>    </span> Caminar Abajo</font>"
            ]
          },
          "metadata": {}
        },
        {
          "output_type": "display_data",
          "data": {
            "text/plain": [
              "<IPython.core.display.HTML object>"
            ],
            "text/html": [
              "<font color=\"green\" style=\"white-space: pre;\" > 436 <span>    </span>Caminar Abajo <span>    </span> Caminar Abajo</font>"
            ]
          },
          "metadata": {}
        },
        {
          "output_type": "display_data",
          "data": {
            "text/plain": [
              "<IPython.core.display.HTML object>"
            ],
            "text/html": [
              "<font color=\"green\" style=\"white-space: pre;\" > 437 <span>    </span>Caminar Abajo <span>    </span> Caminar Abajo</font>"
            ]
          },
          "metadata": {}
        },
        {
          "output_type": "display_data",
          "data": {
            "text/plain": [
              "<IPython.core.display.HTML object>"
            ],
            "text/html": [
              "<font color=\"green\" style=\"white-space: pre;\" > 438 <span>    </span>Caminar Abajo <span>    </span> Caminar Abajo</font>"
            ]
          },
          "metadata": {}
        },
        {
          "output_type": "display_data",
          "data": {
            "text/plain": [
              "<IPython.core.display.HTML object>"
            ],
            "text/html": [
              "<font color=\"green\" style=\"white-space: pre;\" > 439 <span>    </span>Caminar Arriba <span>    </span> Caminar Arriba</font>"
            ]
          },
          "metadata": {}
        },
        {
          "output_type": "display_data",
          "data": {
            "text/plain": [
              "<IPython.core.display.HTML object>"
            ],
            "text/html": [
              "<font color=\"green\" style=\"white-space: pre;\" > 440 <span>    </span>Caminar Arriba <span>    </span> Caminar Arriba</font>"
            ]
          },
          "metadata": {}
        },
        {
          "output_type": "display_data",
          "data": {
            "text/plain": [
              "<IPython.core.display.HTML object>"
            ],
            "text/html": [
              "<font color=\"green\" style=\"white-space: pre;\" > 441 <span>    </span>Caminar Arriba <span>    </span> Caminar Arriba</font>"
            ]
          },
          "metadata": {}
        },
        {
          "output_type": "display_data",
          "data": {
            "text/plain": [
              "<IPython.core.display.HTML object>"
            ],
            "text/html": [
              "<font color=\"green\" style=\"white-space: pre;\" > 442 <span>    </span>Caminar Arriba <span>    </span> Caminar Arriba</font>"
            ]
          },
          "metadata": {}
        },
        {
          "output_type": "display_data",
          "data": {
            "text/plain": [
              "<IPython.core.display.HTML object>"
            ],
            "text/html": [
              "<font color=\"green\" style=\"white-space: pre;\" > 443 <span>    </span>Caminar Arriba <span>    </span> Caminar Arriba</font>"
            ]
          },
          "metadata": {}
        },
        {
          "output_type": "display_data",
          "data": {
            "text/plain": [
              "<IPython.core.display.HTML object>"
            ],
            "text/html": [
              "<font color=\"green\" style=\"white-space: pre;\" > 444 <span>    </span>Caminar Arriba <span>    </span> Caminar Arriba</font>"
            ]
          },
          "metadata": {}
        },
        {
          "output_type": "display_data",
          "data": {
            "text/plain": [
              "<IPython.core.display.HTML object>"
            ],
            "text/html": [
              "<font color=\"green\" style=\"white-space: pre;\" > 445 <span>    </span>Caminar Arriba <span>    </span> Caminar Arriba</font>"
            ]
          },
          "metadata": {}
        },
        {
          "output_type": "display_data",
          "data": {
            "text/plain": [
              "<IPython.core.display.HTML object>"
            ],
            "text/html": [
              "<font color=\"green\" style=\"white-space: pre;\" > 446 <span>    </span>Caminar Arriba <span>    </span> Caminar Arriba</font>"
            ]
          },
          "metadata": {}
        },
        {
          "output_type": "display_data",
          "data": {
            "text/plain": [
              "<IPython.core.display.HTML object>"
            ],
            "text/html": [
              "<font color=\"green\" style=\"white-space: pre;\" > 447 <span>    </span>Caminar Arriba <span>    </span> Caminar Arriba</font>"
            ]
          },
          "metadata": {}
        },
        {
          "output_type": "display_data",
          "data": {
            "text/plain": [
              "<IPython.core.display.HTML object>"
            ],
            "text/html": [
              "<font color=\"green\" style=\"white-space: pre;\" > 448 <span>    </span>Caminar Arriba <span>    </span> Caminar Arriba</font>"
            ]
          },
          "metadata": {}
        },
        {
          "output_type": "display_data",
          "data": {
            "text/plain": [
              "<IPython.core.display.HTML object>"
            ],
            "text/html": [
              "<font color=\"green\" style=\"white-space: pre;\" > 449 <span>    </span>Caminar Arriba <span>    </span> Caminar Arriba</font>"
            ]
          },
          "metadata": {}
        },
        {
          "output_type": "display_data",
          "data": {
            "text/plain": [
              "<IPython.core.display.HTML object>"
            ],
            "text/html": [
              "<font color=\"green\" style=\"white-space: pre;\" > 450 <span>    </span>Caminar Arriba <span>    </span> Caminar Arriba</font>"
            ]
          },
          "metadata": {}
        },
        {
          "output_type": "display_data",
          "data": {
            "text/plain": [
              "<IPython.core.display.HTML object>"
            ],
            "text/html": [
              "<font color=\"green\" style=\"white-space: pre;\" > 451 <span>    </span>Caminar Arriba <span>    </span> Caminar Arriba</font>"
            ]
          },
          "metadata": {}
        },
        {
          "output_type": "display_data",
          "data": {
            "text/plain": [
              "<IPython.core.display.HTML object>"
            ],
            "text/html": [
              "<font color=\"green\" style=\"white-space: pre;\" > 452 <span>    </span>Caminar Arriba <span>    </span> Caminar Arriba</font>"
            ]
          },
          "metadata": {}
        },
        {
          "output_type": "display_data",
          "data": {
            "text/plain": [
              "<IPython.core.display.HTML object>"
            ],
            "text/html": [
              "<font color=\"green\" style=\"white-space: pre;\" > 453 <span>    </span>Caminar Arriba <span>    </span> Caminar Arriba</font>"
            ]
          },
          "metadata": {}
        },
        {
          "output_type": "display_data",
          "data": {
            "text/plain": [
              "<IPython.core.display.HTML object>"
            ],
            "text/html": [
              "<font color=\"green\" style=\"white-space: pre;\" > 454 <span>    </span>Caminar Arriba <span>    </span> Caminar Arriba</font>"
            ]
          },
          "metadata": {}
        },
        {
          "output_type": "display_data",
          "data": {
            "text/plain": [
              "<IPython.core.display.HTML object>"
            ],
            "text/html": [
              "<font color=\"green\" style=\"white-space: pre;\" > 455 <span>    </span>Caminar Arriba <span>    </span> Caminar Arriba</font>"
            ]
          },
          "metadata": {}
        },
        {
          "output_type": "display_data",
          "data": {
            "text/plain": [
              "<IPython.core.display.HTML object>"
            ],
            "text/html": [
              "<font color=\"green\" style=\"white-space: pre;\" > 456 <span>    </span>Caminar Arriba <span>    </span> Caminar Arriba</font>"
            ]
          },
          "metadata": {}
        },
        {
          "output_type": "display_data",
          "data": {
            "text/plain": [
              "<IPython.core.display.HTML object>"
            ],
            "text/html": [
              "<font color=\"green\" style=\"white-space: pre;\" > 457 <span>    </span>Caminar Arriba <span>    </span> Caminar Arriba</font>"
            ]
          },
          "metadata": {}
        },
        {
          "output_type": "display_data",
          "data": {
            "text/plain": [
              "<IPython.core.display.HTML object>"
            ],
            "text/html": [
              "<font color=\"green\" style=\"white-space: pre;\" > 458 <span>    </span>Caminar Arriba <span>    </span> Caminar Arriba</font>"
            ]
          },
          "metadata": {}
        },
        {
          "output_type": "display_data",
          "data": {
            "text/plain": [
              "<IPython.core.display.HTML object>"
            ],
            "text/html": [
              "<font color=\"green\" style=\"white-space: pre;\" > 459 <span>    </span>Caminar Arriba <span>    </span> Caminar Arriba</font>"
            ]
          },
          "metadata": {}
        },
        {
          "output_type": "display_data",
          "data": {
            "text/plain": [
              "<IPython.core.display.HTML object>"
            ],
            "text/html": [
              "<font color=\"green\" style=\"white-space: pre;\" > 460 <span>    </span>Caminar Arriba <span>    </span> Caminar Arriba</font>"
            ]
          },
          "metadata": {}
        },
        {
          "output_type": "display_data",
          "data": {
            "text/plain": [
              "<IPython.core.display.HTML object>"
            ],
            "text/html": [
              "<font color=\"green\" style=\"white-space: pre;\" > 461 <span>    </span>Caminar Arriba <span>    </span> Caminar Arriba</font>"
            ]
          },
          "metadata": {}
        },
        {
          "output_type": "display_data",
          "data": {
            "text/plain": [
              "<IPython.core.display.HTML object>"
            ],
            "text/html": [
              "<font color=\"green\" style=\"white-space: pre;\" > 462 <span>    </span>Caminar Arriba <span>    </span> Caminar Arriba</font>"
            ]
          },
          "metadata": {}
        },
        {
          "output_type": "display_data",
          "data": {
            "text/plain": [
              "<IPython.core.display.HTML object>"
            ],
            "text/html": [
              "<font color=\"green\" style=\"white-space: pre;\" > 463 <span>    </span>Caminar Arriba <span>    </span> Caminar Arriba</font>"
            ]
          },
          "metadata": {}
        },
        {
          "output_type": "display_data",
          "data": {
            "text/plain": [
              "<IPython.core.display.HTML object>"
            ],
            "text/html": [
              "<font color=\"green\" style=\"white-space: pre;\" > 464 <span>    </span>Caminar Arriba <span>    </span> Caminar Arriba</font>"
            ]
          },
          "metadata": {}
        },
        {
          "output_type": "display_data",
          "data": {
            "text/plain": [
              "<IPython.core.display.HTML object>"
            ],
            "text/html": [
              "<font color=\"green\" style=\"white-space: pre;\" > 465 <span>    </span>Caminar Arriba <span>    </span> Caminar Arriba</font>"
            ]
          },
          "metadata": {}
        },
        {
          "output_type": "display_data",
          "data": {
            "text/plain": [
              "<IPython.core.display.HTML object>"
            ],
            "text/html": [
              "<font color=\"green\" style=\"white-space: pre;\" > 466 <span>    </span>Caminar Arriba <span>    </span> Caminar Arriba</font>"
            ]
          },
          "metadata": {}
        },
        {
          "output_type": "display_data",
          "data": {
            "text/plain": [
              "<IPython.core.display.HTML object>"
            ],
            "text/html": [
              "<font color=\"red\" style=\"white-space: pre;\"> 467 <span>    </span>De pie <span>    </span> Sentado</font>"
            ]
          },
          "metadata": {}
        },
        {
          "output_type": "display_data",
          "data": {
            "text/plain": [
              "<IPython.core.display.HTML object>"
            ],
            "text/html": [
              "<font color=\"green\" style=\"white-space: pre;\" > 468 <span>    </span>De pie <span>    </span> De pie</font>"
            ]
          },
          "metadata": {}
        },
        {
          "output_type": "display_data",
          "data": {
            "text/plain": [
              "<IPython.core.display.HTML object>"
            ],
            "text/html": [
              "<font color=\"green\" style=\"white-space: pre;\" > 469 <span>    </span>De pie <span>    </span> De pie</font>"
            ]
          },
          "metadata": {}
        },
        {
          "output_type": "display_data",
          "data": {
            "text/plain": [
              "<IPython.core.display.HTML object>"
            ],
            "text/html": [
              "<font color=\"green\" style=\"white-space: pre;\" > 470 <span>    </span>De pie <span>    </span> De pie</font>"
            ]
          },
          "metadata": {}
        },
        {
          "output_type": "display_data",
          "data": {
            "text/plain": [
              "<IPython.core.display.HTML object>"
            ],
            "text/html": [
              "<font color=\"green\" style=\"white-space: pre;\" > 471 <span>    </span>De pie <span>    </span> De pie</font>"
            ]
          },
          "metadata": {}
        },
        {
          "output_type": "display_data",
          "data": {
            "text/plain": [
              "<IPython.core.display.HTML object>"
            ],
            "text/html": [
              "<font color=\"green\" style=\"white-space: pre;\" > 472 <span>    </span>De pie <span>    </span> De pie</font>"
            ]
          },
          "metadata": {}
        },
        {
          "output_type": "display_data",
          "data": {
            "text/plain": [
              "<IPython.core.display.HTML object>"
            ],
            "text/html": [
              "<font color=\"green\" style=\"white-space: pre;\" > 473 <span>    </span>De pie <span>    </span> De pie</font>"
            ]
          },
          "metadata": {}
        },
        {
          "output_type": "display_data",
          "data": {
            "text/plain": [
              "<IPython.core.display.HTML object>"
            ],
            "text/html": [
              "<font color=\"green\" style=\"white-space: pre;\" > 474 <span>    </span>De pie <span>    </span> De pie</font>"
            ]
          },
          "metadata": {}
        },
        {
          "output_type": "display_data",
          "data": {
            "text/plain": [
              "<IPython.core.display.HTML object>"
            ],
            "text/html": [
              "<font color=\"green\" style=\"white-space: pre;\" > 475 <span>    </span>De pie <span>    </span> De pie</font>"
            ]
          },
          "metadata": {}
        },
        {
          "output_type": "display_data",
          "data": {
            "text/plain": [
              "<IPython.core.display.HTML object>"
            ],
            "text/html": [
              "<font color=\"green\" style=\"white-space: pre;\" > 476 <span>    </span>De pie <span>    </span> De pie</font>"
            ]
          },
          "metadata": {}
        },
        {
          "output_type": "display_data",
          "data": {
            "text/plain": [
              "<IPython.core.display.HTML object>"
            ],
            "text/html": [
              "<font color=\"green\" style=\"white-space: pre;\" > 477 <span>    </span>De pie <span>    </span> De pie</font>"
            ]
          },
          "metadata": {}
        },
        {
          "output_type": "display_data",
          "data": {
            "text/plain": [
              "<IPython.core.display.HTML object>"
            ],
            "text/html": [
              "<font color=\"green\" style=\"white-space: pre;\" > 478 <span>    </span>De pie <span>    </span> De pie</font>"
            ]
          },
          "metadata": {}
        },
        {
          "output_type": "display_data",
          "data": {
            "text/plain": [
              "<IPython.core.display.HTML object>"
            ],
            "text/html": [
              "<font color=\"green\" style=\"white-space: pre;\" > 479 <span>    </span>De pie <span>    </span> De pie</font>"
            ]
          },
          "metadata": {}
        },
        {
          "output_type": "display_data",
          "data": {
            "text/plain": [
              "<IPython.core.display.HTML object>"
            ],
            "text/html": [
              "<font color=\"green\" style=\"white-space: pre;\" > 480 <span>    </span>De pie <span>    </span> De pie</font>"
            ]
          },
          "metadata": {}
        },
        {
          "output_type": "display_data",
          "data": {
            "text/plain": [
              "<IPython.core.display.HTML object>"
            ],
            "text/html": [
              "<font color=\"red\" style=\"white-space: pre;\"> 481 <span>    </span>De pie <span>    </span> Sentado</font>"
            ]
          },
          "metadata": {}
        },
        {
          "output_type": "display_data",
          "data": {
            "text/plain": [
              "<IPython.core.display.HTML object>"
            ],
            "text/html": [
              "<font color=\"green\" style=\"white-space: pre;\" > 482 <span>    </span>De pie <span>    </span> De pie</font>"
            ]
          },
          "metadata": {}
        },
        {
          "output_type": "display_data",
          "data": {
            "text/plain": [
              "<IPython.core.display.HTML object>"
            ],
            "text/html": [
              "<font color=\"green\" style=\"white-space: pre;\" > 483 <span>    </span>De pie <span>    </span> De pie</font>"
            ]
          },
          "metadata": {}
        },
        {
          "output_type": "display_data",
          "data": {
            "text/plain": [
              "<IPython.core.display.HTML object>"
            ],
            "text/html": [
              "<font color=\"red\" style=\"white-space: pre;\"> 484 <span>    </span>De pie <span>    </span> Sentado</font>"
            ]
          },
          "metadata": {}
        },
        {
          "output_type": "display_data",
          "data": {
            "text/plain": [
              "<IPython.core.display.HTML object>"
            ],
            "text/html": [
              "<font color=\"red\" style=\"white-space: pre;\"> 485 <span>    </span>De pie <span>    </span> Sentado</font>"
            ]
          },
          "metadata": {}
        },
        {
          "output_type": "display_data",
          "data": {
            "text/plain": [
              "<IPython.core.display.HTML object>"
            ],
            "text/html": [
              "<font color=\"green\" style=\"white-space: pre;\" > 486 <span>    </span>De pie <span>    </span> De pie</font>"
            ]
          },
          "metadata": {}
        },
        {
          "output_type": "display_data",
          "data": {
            "text/plain": [
              "<IPython.core.display.HTML object>"
            ],
            "text/html": [
              "<font color=\"green\" style=\"white-space: pre;\" > 487 <span>    </span>De pie <span>    </span> De pie</font>"
            ]
          },
          "metadata": {}
        },
        {
          "output_type": "display_data",
          "data": {
            "text/plain": [
              "<IPython.core.display.HTML object>"
            ],
            "text/html": [
              "<font color=\"green\" style=\"white-space: pre;\" > 488 <span>    </span>De pie <span>    </span> De pie</font>"
            ]
          },
          "metadata": {}
        },
        {
          "output_type": "display_data",
          "data": {
            "text/plain": [
              "<IPython.core.display.HTML object>"
            ],
            "text/html": [
              "<font color=\"green\" style=\"white-space: pre;\" > 489 <span>    </span>De pie <span>    </span> De pie</font>"
            ]
          },
          "metadata": {}
        },
        {
          "output_type": "display_data",
          "data": {
            "text/plain": [
              "<IPython.core.display.HTML object>"
            ],
            "text/html": [
              "<font color=\"green\" style=\"white-space: pre;\" > 490 <span>    </span>De pie <span>    </span> De pie</font>"
            ]
          },
          "metadata": {}
        },
        {
          "output_type": "display_data",
          "data": {
            "text/plain": [
              "<IPython.core.display.HTML object>"
            ],
            "text/html": [
              "<font color=\"red\" style=\"white-space: pre;\"> 491 <span>    </span>De pie <span>    </span> Sentado</font>"
            ]
          },
          "metadata": {}
        },
        {
          "output_type": "display_data",
          "data": {
            "text/plain": [
              "<IPython.core.display.HTML object>"
            ],
            "text/html": [
              "<font color=\"green\" style=\"white-space: pre;\" > 492 <span>    </span>De pie <span>    </span> De pie</font>"
            ]
          },
          "metadata": {}
        },
        {
          "output_type": "display_data",
          "data": {
            "text/plain": [
              "<IPython.core.display.HTML object>"
            ],
            "text/html": [
              "<font color=\"green\" style=\"white-space: pre;\" > 493 <span>    </span>De pie <span>    </span> De pie</font>"
            ]
          },
          "metadata": {}
        },
        {
          "output_type": "display_data",
          "data": {
            "text/plain": [
              "<IPython.core.display.HTML object>"
            ],
            "text/html": [
              "<font color=\"green\" style=\"white-space: pre;\" > 494 <span>    </span>De pie <span>    </span> De pie</font>"
            ]
          },
          "metadata": {}
        },
        {
          "output_type": "display_data",
          "data": {
            "text/plain": [
              "<IPython.core.display.HTML object>"
            ],
            "text/html": [
              "<font color=\"green\" style=\"white-space: pre;\" > 495 <span>    </span>Sentado <span>    </span> Sentado</font>"
            ]
          },
          "metadata": {}
        },
        {
          "output_type": "display_data",
          "data": {
            "text/plain": [
              "<IPython.core.display.HTML object>"
            ],
            "text/html": [
              "<font color=\"green\" style=\"white-space: pre;\" > 496 <span>    </span>Sentado <span>    </span> Sentado</font>"
            ]
          },
          "metadata": {}
        },
        {
          "output_type": "display_data",
          "data": {
            "text/plain": [
              "<IPython.core.display.HTML object>"
            ],
            "text/html": [
              "<font color=\"green\" style=\"white-space: pre;\" > 497 <span>    </span>Sentado <span>    </span> Sentado</font>"
            ]
          },
          "metadata": {}
        },
        {
          "output_type": "display_data",
          "data": {
            "text/plain": [
              "<IPython.core.display.HTML object>"
            ],
            "text/html": [
              "<font color=\"green\" style=\"white-space: pre;\" > 498 <span>    </span>Sentado <span>    </span> Sentado</font>"
            ]
          },
          "metadata": {}
        },
        {
          "output_type": "display_data",
          "data": {
            "text/plain": [
              "<IPython.core.display.HTML object>"
            ],
            "text/html": [
              "<font color=\"green\" style=\"white-space: pre;\" > 499 <span>    </span>Sentado <span>    </span> Sentado</font>"
            ]
          },
          "metadata": {}
        },
        {
          "output_type": "display_data",
          "data": {
            "text/plain": [
              "<IPython.core.display.HTML object>"
            ],
            "text/html": [
              "<font color=\"green\" style=\"white-space: pre;\" > 500 <span>    </span>Sentado <span>    </span> Sentado</font>"
            ]
          },
          "metadata": {}
        },
        {
          "output_type": "stream",
          "name": "stdout",
          "text": [
            "...........................\n"
          ]
        },
        {
          "output_type": "display_data",
          "data": {
            "text/plain": [
              "<IPython.core.display.HTML object>"
            ],
            "text/html": [
              "<font color=\"green\" style=\"white-space: pre;\" > 2927 <span>    </span>Caminar Arriba <span>    </span> Caminar Arriba</font>"
            ]
          },
          "metadata": {}
        },
        {
          "output_type": "display_data",
          "data": {
            "text/plain": [
              "<IPython.core.display.HTML object>"
            ],
            "text/html": [
              "<font color=\"green\" style=\"white-space: pre;\" > 2928 <span>    </span>Caminar Arriba <span>    </span> Caminar Arriba</font>"
            ]
          },
          "metadata": {}
        },
        {
          "output_type": "display_data",
          "data": {
            "text/plain": [
              "<IPython.core.display.HTML object>"
            ],
            "text/html": [
              "<font color=\"green\" style=\"white-space: pre;\" > 2929 <span>    </span>Caminar Abajo <span>    </span> Caminar Abajo</font>"
            ]
          },
          "metadata": {}
        },
        {
          "output_type": "display_data",
          "data": {
            "text/plain": [
              "<IPython.core.display.HTML object>"
            ],
            "text/html": [
              "<font color=\"green\" style=\"white-space: pre;\" > 2930 <span>    </span>Caminar Abajo <span>    </span> Caminar Abajo</font>"
            ]
          },
          "metadata": {}
        },
        {
          "output_type": "display_data",
          "data": {
            "text/plain": [
              "<IPython.core.display.HTML object>"
            ],
            "text/html": [
              "<font color=\"green\" style=\"white-space: pre;\" > 2931 <span>    </span>Caminar Abajo <span>    </span> Caminar Abajo</font>"
            ]
          },
          "metadata": {}
        },
        {
          "output_type": "display_data",
          "data": {
            "text/plain": [
              "<IPython.core.display.HTML object>"
            ],
            "text/html": [
              "<font color=\"green\" style=\"white-space: pre;\" > 2932 <span>    </span>Caminar Abajo <span>    </span> Caminar Abajo</font>"
            ]
          },
          "metadata": {}
        },
        {
          "output_type": "display_data",
          "data": {
            "text/plain": [
              "<IPython.core.display.HTML object>"
            ],
            "text/html": [
              "<font color=\"green\" style=\"white-space: pre;\" > 2933 <span>    </span>Caminar Abajo <span>    </span> Caminar Abajo</font>"
            ]
          },
          "metadata": {}
        },
        {
          "output_type": "display_data",
          "data": {
            "text/plain": [
              "<IPython.core.display.HTML object>"
            ],
            "text/html": [
              "<font color=\"green\" style=\"white-space: pre;\" > 2934 <span>    </span>Caminar Abajo <span>    </span> Caminar Abajo</font>"
            ]
          },
          "metadata": {}
        },
        {
          "output_type": "display_data",
          "data": {
            "text/plain": [
              "<IPython.core.display.HTML object>"
            ],
            "text/html": [
              "<font color=\"green\" style=\"white-space: pre;\" > 2935 <span>    </span>Caminar Abajo <span>    </span> Caminar Abajo</font>"
            ]
          },
          "metadata": {}
        },
        {
          "output_type": "display_data",
          "data": {
            "text/plain": [
              "<IPython.core.display.HTML object>"
            ],
            "text/html": [
              "<font color=\"green\" style=\"white-space: pre;\" > 2936 <span>    </span>Caminar Abajo <span>    </span> Caminar Abajo</font>"
            ]
          },
          "metadata": {}
        },
        {
          "output_type": "display_data",
          "data": {
            "text/plain": [
              "<IPython.core.display.HTML object>"
            ],
            "text/html": [
              "<font color=\"green\" style=\"white-space: pre;\" > 2937 <span>    </span>Caminar Abajo <span>    </span> Caminar Abajo</font>"
            ]
          },
          "metadata": {}
        },
        {
          "output_type": "display_data",
          "data": {
            "text/plain": [
              "<IPython.core.display.HTML object>"
            ],
            "text/html": [
              "<font color=\"green\" style=\"white-space: pre;\" > 2938 <span>    </span>Caminar Arriba <span>    </span> Caminar Arriba</font>"
            ]
          },
          "metadata": {}
        },
        {
          "output_type": "display_data",
          "data": {
            "text/plain": [
              "<IPython.core.display.HTML object>"
            ],
            "text/html": [
              "<font color=\"green\" style=\"white-space: pre;\" > 2939 <span>    </span>Caminar Arriba <span>    </span> Caminar Arriba</font>"
            ]
          },
          "metadata": {}
        },
        {
          "output_type": "display_data",
          "data": {
            "text/plain": [
              "<IPython.core.display.HTML object>"
            ],
            "text/html": [
              "<font color=\"green\" style=\"white-space: pre;\" > 2940 <span>    </span>Caminar Arriba <span>    </span> Caminar Arriba</font>"
            ]
          },
          "metadata": {}
        },
        {
          "output_type": "display_data",
          "data": {
            "text/plain": [
              "<IPython.core.display.HTML object>"
            ],
            "text/html": [
              "<font color=\"green\" style=\"white-space: pre;\" > 2941 <span>    </span>Caminar Arriba <span>    </span> Caminar Arriba</font>"
            ]
          },
          "metadata": {}
        },
        {
          "output_type": "display_data",
          "data": {
            "text/plain": [
              "<IPython.core.display.HTML object>"
            ],
            "text/html": [
              "<font color=\"green\" style=\"white-space: pre;\" > 2942 <span>    </span>Caminar Arriba <span>    </span> Caminar Arriba</font>"
            ]
          },
          "metadata": {}
        },
        {
          "output_type": "display_data",
          "data": {
            "text/plain": [
              "<IPython.core.display.HTML object>"
            ],
            "text/html": [
              "<font color=\"green\" style=\"white-space: pre;\" > 2943 <span>    </span>Caminar Arriba <span>    </span> Caminar Arriba</font>"
            ]
          },
          "metadata": {}
        },
        {
          "output_type": "display_data",
          "data": {
            "text/plain": [
              "<IPython.core.display.HTML object>"
            ],
            "text/html": [
              "<font color=\"green\" style=\"white-space: pre;\" > 2944 <span>    </span>Caminar Arriba <span>    </span> Caminar Arriba</font>"
            ]
          },
          "metadata": {}
        },
        {
          "output_type": "display_data",
          "data": {
            "text/plain": [
              "<IPython.core.display.HTML object>"
            ],
            "text/html": [
              "<font color=\"green\" style=\"white-space: pre;\" > 2945 <span>    </span>Caminar Arriba <span>    </span> Caminar Arriba</font>"
            ]
          },
          "metadata": {}
        },
        {
          "output_type": "display_data",
          "data": {
            "text/plain": [
              "<IPython.core.display.HTML object>"
            ],
            "text/html": [
              "<font color=\"green\" style=\"white-space: pre;\" > 2946 <span>    </span>Caminar Arriba <span>    </span> Caminar Arriba</font>"
            ]
          },
          "metadata": {}
        }
      ]
    }
  ]
}