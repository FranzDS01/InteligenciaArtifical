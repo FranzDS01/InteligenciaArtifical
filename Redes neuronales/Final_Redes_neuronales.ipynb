{
  "nbformat": 4,
  "nbformat_minor": 0,
  "metadata": {
    "colab": {
      "provenance": [],
      "mount_file_id": "1UzRIkh9H3vFU2ZwgtA2K3gLwz9ciJLC6",
      "authorship_tag": "ABX9TyOiSNOPcBuhiy2X517tuxi2",
      "include_colab_link": true
    },
    "kernelspec": {
      "name": "python3",
      "display_name": "Python 3"
    },
    "language_info": {
      "name": "python"
    }
  },
  "cells": [
    {
      "cell_type": "markdown",
      "metadata": {
        "id": "view-in-github",
        "colab_type": "text"
      },
      "source": [
        "<a href=\"https://colab.research.google.com/github/FranzDS01/InteligenciaArtifical/blob/main/Redes%20neuronales/Final_Redes_neuronales.ipynb\" target=\"_parent\"><img src=\"https://colab.research.google.com/assets/colab-badge.svg\" alt=\"Open In Colab\"/></a>"
      ]
    },
    {
      "cell_type": "markdown",
      "source": [
        "**Plantilla de redes neuronales**\n",
        "\n",
        "**Nombre: ** Soria Colque Franz Ronald\n",
        "\n",
        "**Carrera:** Ingenieria de Sistemas\n",
        "\n",
        "**Repositorio:**\n",
        "\n",
        "---\n",
        "\n",
        "**Dataset implementado:** Reconocimiento de actividad humana con teléfonos inteligentes\n",
        "\n",
        " [Sitio de desgarga del dataset](https://www.kaggle.com/datasets/uciml/human-activity-recognition-with-smartphones)\n",
        "\n",
        "<p>Descripcion del dataset</p>\n",
        "La base de datos de reconocimiento de actividad humana se creó a partir de las grabaciones de 30 participantes del estudio que realizaban actividades de la vida diaria (ADL) mientras llevaban un teléfono inteligente montado en la cintura con sensores de inercia integrados. El objetivo es clasificar las actividades en una de las seis actividades realizadas .\n",
        "<p>actividades (CAMINAR, CAMINAR ARRIBA, CAMINAR ABAJO, SENTADO, DE PIE, ACOSTADO)</p>\n",
        "\n",
        "**Detalles de la solucion:**\n",
        "El dataset cuenta con datos de entrenamiento y datos de prueba\n",
        "\n",
        "<table>\n",
        "  <tr>\n",
        "    <th>data</th>\n",
        "    <th>Entrenamiento</th>\n",
        "    <th>Prueba</th>\n",
        "  </tr>\n",
        "  <tr>\n",
        "    <td>Filas</td>\n",
        "    <td>7352</td>\n",
        "    <td>2947</td>\n",
        "  </tr>\n",
        "  <tr>\n",
        "    <td>Columnas</td>\n",
        "    <td>563</td>\n",
        "    <td>563</td>\n",
        "  </tr>\n",
        "</table>\n",
        "\n",
        "<p>Para poder trabajar con el dataset, se verificaron los siguientes aspectos:</p>\n",
        "<ul>\n",
        "  <li><strong>Datos Nulos:</strong> No cuenta con datos nulos.</li>\n",
        "  <li><strong>Datos categóricos:</strong> Sí cuenta con una columna categórica [Activity] que es la columna objetivo.</li>\n",
        "  <li><strong>Columnas innecesarias:</strong> Ninguna.</li>\n",
        "</ul>\n",
        "\n",
        "<p>Antes de convertir la columna <span style=\"color:orange\">[Activity]</span> a numérica, primero se obtuvieron los valores únicos de esa columna en la variable <code>value=['STANDING','SITTING','LAYING','WALKING','WALKING_DOWNSTAIRS','WALKING_UPSTAIRS']</code>.</p>\n",
        "\n",
        "traducida al español value=['De pie','Sentado','Acostado','Caminar','Caminar Abajo','Caminar Arriba'] que sera usada al final para mostrar las predicciones\n",
        "\n",
        "\n",
        "Ya verificados se hiso el tratado de datos conviertiendo la columna [Activity] a numerica implementado la funcion **tratadoDatos(dataset,modificarColumnas,eliminarColumnas):**\n",
        "\n",
        "Luego se Asigno todas las columnas x a  \"X\" y la columna [Activity] a \"Y\"\n",
        "\n",
        "\n",
        "Para entrenar el modelo, se utilizaron 33 neuronas y 2 capas ocultas con la función de activación ReLU. En la capa de salida, se utilizaron las funciones de activación sigmoide y softmax. Se utilizó una tasa de aprendizaje de 0.01 y la función de pérdida CrossEntropy para un problema de clasificación. El modelo se entrenó durante 200 épocas con un tamaño de lote definido por batch_size =15 . Con estos parámetros, el modelo se entrenó de manera efectiva en un tiempo razonable.\n",
        "\n",
        "Para hacer la predicción, se utilizó un conjunto de datos de prueba con un preprocesamiento diferente al utilizado en el conjunto de datos de entrenamiento. Esto se hizo para evitar modificar las clasificaciones en la columna Activity al convertirlas en valores numéricos.\n",
        "\n",
        "`(ejemplo: colummnas Activity de data de entrenamiento primer valor \"LAYING\" valor unico =0\n",
        "columna Activity de data de prueba primer valor \"STADING\" valor unico 0\n",
        "se estan cambiando las clases , es por eso que no se usa el mismo tratado de datos\n",
        ")`\n",
        "\n",
        " En su lugar, se utilizó una función llamada reemplazar_valores_categoricos para convertir la columna Activity en valores numéricos utilizando las categorías(Value) obtenidas del conjunto de datos de entrenamiento.\n",
        "\n",
        "Esta función toma como entrada el nombre de la columna Activity y las categorías obtenidas del conjunto de datos de entrenamiento. Las categorías son una lista ordenada de clases únicas, como ['STANDING','SITTING','LAYING','WALKING', 'WALKING_DOWNSTAIRS','WALKING_UPSTAIRS']. La función compara cada valor en la columna Activity del conjunto de datos de prueba con las categorías y asigna el índice correspondiente a cada valor. Por ejemplo, si el primer valor en la columna Activity es LAYING, la función buscaría esta palabra en las categorías y encontraría que está en el índice 2. Luego, reemplazaría el valor LAYING por 2 en la columna Activity. De esta manera, se asigna el valor numérico correspondiente a cada clase.\n",
        "\n",
        "\n",
        "La precisión del modelo con los datos de prueba superó el 90% [93.41%]. Para visualizar las predicciones y compararlas con los datos reales, se está utilizando la función resultados(prediccion, y_real, value). Esta función muestra en verde las predicciones que fueron correctas y en rojo las que fallaron.\n",
        "\n"
      ],
      "metadata": {
        "id": "TNcfRvByaNML"
      }
    },
    {
      "cell_type": "code",
      "execution_count": 981,
      "metadata": {
        "id": "YJIkwRhjZ8cB"
      },
      "outputs": [],
      "source": [
        "import os\n",
        "import numpy as np\n",
        "import pandas as pd\n",
        "import random\n",
        "from matplotlib import pyplot\n",
        "from sklearn.model_selection import train_test_split # libreria usado para separar los datos en entrenamiento y prueba\n",
        "%matplotlib inline\n",
        "np.random.seed(0)"
      ]
    },
    {
      "cell_type": "markdown",
      "source": [
        "# Clases y funciones de redes neuronales"
      ],
      "metadata": {
        "id": "xFqa8ERkdAce"
      }
    },
    {
      "cell_type": "code",
      "source": [
        "class MLP:\n",
        "    def __init__(self, layers):\n",
        "        # el MLP es una lista de capas\n",
        "        self.layers = layers\n",
        "\n",
        "    def __call__(self, x):\n",
        "        # calculamos la salida del modelo aplicando\n",
        "        # cada capa de manera secuencial\n",
        "        for layer in self.layers:\n",
        "            x = layer(x)\n",
        "        return x"
      ],
      "metadata": {
        "id": "Cor47OtQb_8R"
      },
      "execution_count": 982,
      "outputs": []
    },
    {
      "cell_type": "code",
      "source": [
        "class Layer():\n",
        "    def __init__(self):\n",
        "        self.params = []\n",
        "        self.grads = []\n",
        "\n",
        "    def __call__(self, x):\n",
        "        # por defecto, devolver los inputs\n",
        "        # cada capa hará algo diferente aquí\n",
        "        return x\n",
        "\n",
        "    def backward(self, grad):\n",
        "        # cada capa, calculará sus gradientes\n",
        "        # y los devolverá para las capas siguientes\n",
        "        return grad\n",
        "\n",
        "    def update(self, params):\n",
        "        # si hay parámetros, los actualizaremos\n",
        "        # con lo que nos de el optimizer\n",
        "        return"
      ],
      "metadata": {
        "id": "H_kRolTKcHTI"
      },
      "execution_count": 983,
      "outputs": []
    },
    {
      "cell_type": "code",
      "source": [
        "class Linear(Layer):\n",
        "    def __init__(self, d_in, d_out):\n",
        "        # pesos de la capa peso inicial diferente en cada ejecucion\n",
        "        self.w = np.random.normal(loc=0.0,\n",
        "                                  scale=np.sqrt(2/(d_in+d_out)),\n",
        "                                  size=(d_in, d_out))\n",
        "        self.b = np.zeros(d_out)\n",
        "\n",
        "    def __call__(self, x):\n",
        "        self.x = x\n",
        "        self.params = [self.w, self.b]\n",
        "        # salida del preceptrón\n",
        "        return np.dot(x, self.w) + self.b\n",
        "\n",
        "    def backward(self, grad_output):\n",
        "        # gradientes para la capa siguiente (BACKPROP)\n",
        "        grad = np.dot(grad_output, self.w.T)\n",
        "        self.grad_w = np.dot(self.x.T, grad_output)\n",
        "        # gradientes para actualizar pesos\n",
        "        self.grad_b = grad_output.mean(axis=0)*self.x.shape[0]\n",
        "        self.grads = [self.grad_w, self.grad_b]\n",
        "        return grad\n",
        "\n",
        "    def update(self, params):\n",
        "        self.w, self.b = params"
      ],
      "metadata": {
        "id": "HXip3LtwcSGk"
      },
      "execution_count": 984,
      "outputs": []
    },
    {
      "cell_type": "code",
      "source": [
        "class ReLU(Layer):\n",
        "    def __call__(self, x):\n",
        "        self.x = x\n",
        "        return np.maximum(0, x)\n",
        "\n",
        "    def backward(self, grad_output):\n",
        "        grad = self.x > 0\n",
        "        return grad_output*grad\n",
        "\n",
        "def sigmoid(x):\n",
        "  return 1 / (1 + np.exp(-x))\n",
        "\n",
        "def softmax(x):\n",
        "    return np.exp(x) / np.exp(x).sum(axis=-1,keepdims=True)\n",
        "\n",
        "class Sigmoid(Layer):\n",
        "    def __call__(self, x):\n",
        "        self.x = x\n",
        "        return sigmoid(x)\n",
        "\n",
        "    def backward(self, grad_output):\n",
        "        grad = sigmoid(self.x)*(1 - sigmoid(self.x))\n",
        "        return grad_output*grad"
      ],
      "metadata": {
        "id": "xBAA9IX-cUjk"
      },
      "execution_count": 985,
      "outputs": []
    },
    {
      "cell_type": "code",
      "source": [
        "class SGD():\n",
        "    def __init__(self, net, lr):\n",
        "        self.net = net\n",
        "        self.lr = lr\n",
        "\n",
        "    def update(self):\n",
        "        for layer in self.net.layers:\n",
        "            layer.update([\n",
        "                params - self.lr*grads\n",
        "                for params, grads in zip(layer.params, layer.grads)\n",
        "            ])"
      ],
      "metadata": {
        "id": "hfkQ-42ccXW1"
      },
      "execution_count": 986,
      "outputs": []
    },
    {
      "cell_type": "code",
      "source": [
        "class Loss():\n",
        "    def __init__(self, net):\n",
        "        self.net = net\n",
        "\n",
        "    def backward(self):\n",
        "        # derivada de la loss function con respecto\n",
        "        # a la salida del MLP\n",
        "        grad = self.grad_loss()\n",
        "        # BACKPROPAGATION\n",
        "        for layer in reversed(self.net.layers):\n",
        "            grad = layer.backward(grad)\n",
        "\n",
        "class MSE(Loss):\n",
        "    def __call__(self, output, target):\n",
        "        self.output, self.target = output, target.reshape(output.shape)\n",
        "        loss = np.mean((self.output - self.target)**2)\n",
        "        return loss.mean()\n",
        "\n",
        "    def grad_loss(self):\n",
        "        return self.output -  self.target\n",
        "\n",
        "class BCE(Loss):\n",
        "    def __call__(self, output, target):\n",
        "        self.output, self.target = output, target.reshape(output.shape)\n",
        "        loss = - np.mean(self.target*np.log(self.output) - (1 - self.target)*np.log(1 - self.output))\n",
        "        return loss.mean()\n",
        "\n",
        "    def grad_loss(self):\n",
        "        return self.output -  self.target\n",
        "\n",
        "class CrossEntropy(Loss):\n",
        "    def __call__(self, output, target):\n",
        "        self.output, self.target = output, target\n",
        "        logits = output[np.arange(len(output)), target.astype(int)]\n",
        "        loss = - logits + np.log(np.sum(np.exp(output), axis=-1))\n",
        "        loss = loss.mean()\n",
        "        return loss\n",
        "\n",
        "    def grad_loss(self):\n",
        "        answers = np.zeros_like(self.output)\n",
        "        answers[np.arange(len(self.output)), self.target.astype(int)] = 1\n",
        "        return (- answers + softmax(self.output)) / self.output.shape[0]"
      ],
      "metadata": {
        "id": "o1qTejg6cZof"
      },
      "execution_count": 987,
      "outputs": []
    },
    {
      "cell_type": "markdown",
      "source": [
        "# Funciones para el tratado de datos"
      ],
      "metadata": {
        "id": "NFPIzy-fdI3-"
      }
    },
    {
      "cell_type": "code",
      "source": [
        "def tratadoDatos(dataset,modificarColumnas,eliminarColumnas):\n",
        "    data =pd.read_csv(dataset,encoding='latin-1')\n",
        "    columna = data.columns\n",
        "    #Convierte columnas categoricas a numericas\n",
        "    for index in modificarColumnas:\n",
        "        name = columna[index]\n",
        "        value = list(data[name].unique())\n",
        "        data[name] = data[name].map(dict(zip(value,[i for i in range(len(value))])))\n",
        "    #elimina columnas\n",
        "    data = data.drop([columna[index]for index in eliminarColumnas], axis=1)\n",
        "    #rellena datos nulos con la media\n",
        "    valor_media=data.select_dtypes(include=['number']).mean()\n",
        "    data = data.fillna(valor_media.round(2))\n",
        "    return data"
      ],
      "metadata": {
        "id": "4I9iOmAvcfUU"
      },
      "execution_count": 988,
      "outputs": []
    },
    {
      "cell_type": "code",
      "source": [
        "def datosSinteticos(data,listaData,n_filas,clases):\n",
        "    #Crear nuevos_datos con n filas nuevas y misma cantidad de columnas del dataFrame\n",
        "    nuevos_datos=np.empty([n_filas,len(data.columns)])\n",
        "    #Genera datos sinteticos aleotorios en funcion al numero de clases para la columnas Y\n",
        "    ColmunaY = np.random.randint(0,clases, n_filas)\n",
        "    #Genera el resto de los datos para las columnas X en funcion al ColumnaY\n",
        "    for i in range(len(data.columns)-1):\n",
        "        for j in range(0,n_filas):\n",
        "            pos=ColmunaY[j]\n",
        "            columna_i =listaData[pos].iloc[:,i]\n",
        "            muestras_i=np.random.choice(columna_i,1,replace=True)\n",
        "\n",
        "            pro_cambio = random.random()\n",
        "            decision = random.randint(0, 1)\n",
        "            if pro_cambio < 0.2:\n",
        "               muestras_i = muestras_i + pro_cambio if decision == 0 else muestras_i - pro_cambio\n",
        "\n",
        "            if(i == 0):\n",
        "                muestras_i=muestras_i.round(5)\n",
        "            else:\n",
        "                muestras_i=muestras_i.round(2)\n",
        "            #np.random.seed()\n",
        "            nuevos_datos[j:,i]=muestras_i\n",
        "            nuevos_datos[j:,len(data.columns)-1]=ColmunaY[j]\n",
        "    columnas =list(data.columns)\n",
        "    print(nuevos_datos)\n",
        "    nuevos_datos_data=pd.DataFrame(nuevos_datos,columns=columnas)\n",
        "    #Nuevo dataFrame con los datos orginales y sinteticas\n",
        "    dataExtend =pd.concat([data,nuevos_datos_data],axis=0)\n",
        "    #print(dataExtend.tail())\n",
        "    return dataExtend"
      ],
      "metadata": {
        "id": "f5rmsU25egcQ"
      },
      "execution_count": 989,
      "outputs": []
    },
    {
      "cell_type": "code",
      "source": [
        "def listaDataframes(data,clases,columna_y):\n",
        "    #Lista de dataFrames separados en funcion a su clase\n",
        "    ListaData=[]\n",
        "    for i in range(0,clases):\n",
        "        ListaData.append(data[data[columna_y] == i])\n",
        "    return ListaData"
      ],
      "metadata": {
        "id": "Qq8_kyFygKqs"
      },
      "execution_count": 990,
      "outputs": []
    },
    {
      "cell_type": "code",
      "source": [
        "def categoricas(data):\n",
        "    #Array con las posiciones de columnas categoricas del dataset\n",
        "    columna_categorica = data.select_dtypes(include=['object'])\n",
        "    print(columna_categorica.columns)\n",
        "    categorica = np.array([data.columns.get_loc(col) for col in columna_categorica.columns])\n",
        "    return categorica"
      ],
      "metadata": {
        "id": "EvQu7-wpg1z9"
      },
      "execution_count": 991,
      "outputs": []
    },
    {
      "cell_type": "code",
      "source": [
        "def clasificaciones(data,columnay):\n",
        "    #Vista de Clasificaciones su cantidad del la columnas objetivo\n",
        "    value = list(data[columnay].unique())\n",
        "    print(\"clases :\",value)\n",
        "    print('Cantidad:',len(value))\n",
        "    data.info()\n",
        "    return value"
      ],
      "metadata": {
        "id": "sK9pQuXChIJp"
      },
      "execution_count": 992,
      "outputs": []
    },
    {
      "cell_type": "code",
      "source": [
        "def reorganizarDataset(data, posicion_columna):\n",
        "    #Mover la columnas Objetivo a final\n",
        "    # Obtener el nombre de la columna a mover\n",
        "    nombre_columna = data.columns[posicion_columna]\n",
        "    # Crear una lista con las columnas en el nuevo orden\n",
        "    columnas_nuevas = list(data.columns[:posicion_columna]) + list(data.columns[posicion_columna+1:]) + [nombre_columna]\n",
        "    data_reorganizado = data[columnas_nuevas]\n",
        "    return data_reorganizado"
      ],
      "metadata": {
        "id": "3ufbd8gkhiuJ"
      },
      "execution_count": 993,
      "outputs": []
    },
    {
      "cell_type": "code",
      "source": [
        "def nulos(data):\n",
        "    #cantidad de nulos y nombre y posicion de las columnas que lo tengan\n",
        "    nulos = data.isnull().sum().sum()\n",
        "    print(\"cantidad de nulos :\",nulos)\n",
        "    for i in range(len(data.columns)):\n",
        "        if data[data.columns[i]].isnull().sum()>0:\n",
        "            print(data.columns[i],i)"
      ],
      "metadata": {
        "id": "8U2bxBg8lOWw"
      },
      "execution_count": 994,
      "outputs": []
    },
    {
      "cell_type": "code",
      "source": [
        "def segmantacion(data,columnay):\n",
        "    #separacion en datos de prueba y entrenamiento\n",
        "    X = data.drop(columnay, axis=1)\n",
        "    y = data[columnay]\n",
        "    X_entre, X_prueba, y_entre, y_prueba = train_test_split(X, y, test_size=0.2, random_state=42)\n",
        "    print('Entrenamiento:',X_entre.shape,y_entre.shape,'Prueba:',X_prueba.shape,y_prueba.shape)\n",
        "    return X_entre.to_numpy(), y_entre.to_numpy(),X_prueba.to_numpy(),y_prueba.to_numpy()"
      ],
      "metadata": {
        "id": "QAccgCCrmE82"
      },
      "execution_count": 995,
      "outputs": []
    },
    {
      "cell_type": "code",
      "source": [
        "def  normalizacion(X):\n",
        "    #normaliza datos\n",
        "    X_norm = X.copy()\n",
        "    mu = np.zeros(X.shape[1])\n",
        "    sigma = np.zeros(X.shape[1])\n",
        "\n",
        "    mu = np.mean(X, axis = 0)\n",
        "    sigma = np.std(X, axis = 0)\n",
        "    X_norm = (X - mu) / sigma\n",
        "    print('Media calculada:', mu)\n",
        "    print('Desviación estandar calculada:', sigma)\n",
        "    return X_norm, mu, sigma"
      ],
      "metadata": {
        "id": "h2jlGVXknLc_"
      },
      "execution_count": 996,
      "outputs": []
    },
    {
      "cell_type": "markdown",
      "source": [
        "# Desarrollo de la solucion"
      ],
      "metadata": {
        "id": "z3Mq1E7mmiPT"
      }
    },
    {
      "cell_type": "code",
      "source": [
        "data=pd.read_csv('/content/train.csv')\n",
        "data"
      ],
      "metadata": {
        "colab": {
          "base_uri": "https://localhost:8080/",
          "height": 505
        },
        "id": "aGy0OOaqyTF3",
        "outputId": "11c744ef-0849-4e71-d3e9-209bbf071aa0"
      },
      "execution_count": 997,
      "outputs": [
        {
          "output_type": "execute_result",
          "data": {
            "text/plain": [
              "      tBodyAcc-mean()-X  tBodyAcc-mean()-Y  tBodyAcc-mean()-Z  \\\n",
              "0              0.288585          -0.020294          -0.132905   \n",
              "1              0.278419          -0.016411          -0.123520   \n",
              "2              0.279653          -0.019467          -0.113462   \n",
              "3              0.279174          -0.026201          -0.123283   \n",
              "4              0.276629          -0.016570          -0.115362   \n",
              "...                 ...                ...                ...   \n",
              "7347           0.299665          -0.057193          -0.181233   \n",
              "7348           0.273853          -0.007749          -0.147468   \n",
              "7349           0.273387          -0.017011          -0.045022   \n",
              "7350           0.289654          -0.018843          -0.158281   \n",
              "7351           0.351503          -0.012423          -0.203867   \n",
              "\n",
              "      tBodyAcc-std()-X  tBodyAcc-std()-Y  tBodyAcc-std()-Z  tBodyAcc-mad()-X  \\\n",
              "0            -0.995279         -0.983111         -0.913526         -0.995112   \n",
              "1            -0.998245         -0.975300         -0.960322         -0.998807   \n",
              "2            -0.995380         -0.967187         -0.978944         -0.996520   \n",
              "3            -0.996091         -0.983403         -0.990675         -0.997099   \n",
              "4            -0.998139         -0.980817         -0.990482         -0.998321   \n",
              "...                ...               ...               ...               ...   \n",
              "7347         -0.195387          0.039905          0.077078         -0.282301   \n",
              "7348         -0.235309          0.004816          0.059280         -0.322552   \n",
              "7349         -0.218218         -0.103822          0.274533         -0.304515   \n",
              "7350         -0.219139         -0.111412          0.268893         -0.310487   \n",
              "7351         -0.269270         -0.087212          0.177404         -0.377404   \n",
              "\n",
              "      tBodyAcc-mad()-Y  tBodyAcc-mad()-Z  tBodyAcc-max()-X  ...  \\\n",
              "0            -0.983185         -0.923527         -0.934724  ...   \n",
              "1            -0.974914         -0.957686         -0.943068  ...   \n",
              "2            -0.963668         -0.977469         -0.938692  ...   \n",
              "3            -0.982750         -0.989302         -0.938692  ...   \n",
              "4            -0.979672         -0.990441         -0.942469  ...   \n",
              "...                ...               ...               ...  ...   \n",
              "7347          0.043616          0.060410          0.210795  ...   \n",
              "7348         -0.029456          0.080585          0.117440  ...   \n",
              "7349         -0.098913          0.332584          0.043999  ...   \n",
              "7350         -0.068200          0.319473          0.101702  ...   \n",
              "7351         -0.038678          0.229430          0.269013  ...   \n",
              "\n",
              "      fBodyBodyGyroJerkMag-kurtosis()  angle(tBodyAccMean,gravity)  \\\n",
              "0                           -0.710304                    -0.112754   \n",
              "1                           -0.861499                     0.053477   \n",
              "2                           -0.760104                    -0.118559   \n",
              "3                           -0.482845                    -0.036788   \n",
              "4                           -0.699205                     0.123320   \n",
              "...                               ...                          ...   \n",
              "7347                        -0.880324                    -0.190437   \n",
              "7348                        -0.680744                     0.064907   \n",
              "7349                        -0.304029                     0.052806   \n",
              "7350                        -0.344314                    -0.101360   \n",
              "7351                        -0.740738                    -0.280088   \n",
              "\n",
              "      angle(tBodyAccJerkMean),gravityMean)  angle(tBodyGyroMean,gravityMean)  \\\n",
              "0                                 0.030400                         -0.464761   \n",
              "1                                -0.007435                         -0.732626   \n",
              "2                                 0.177899                          0.100699   \n",
              "3                                -0.012892                          0.640011   \n",
              "4                                 0.122542                          0.693578   \n",
              "...                                    ...                               ...   \n",
              "7347                              0.829718                          0.206972   \n",
              "7348                              0.875679                         -0.879033   \n",
              "7349                             -0.266724                          0.864404   \n",
              "7350                              0.700740                          0.936674   \n",
              "7351                             -0.007739                         -0.056088   \n",
              "\n",
              "      angle(tBodyGyroJerkMean,gravityMean)  angle(X,gravityMean)  \\\n",
              "0                                -0.018446             -0.841247   \n",
              "1                                 0.703511             -0.844788   \n",
              "2                                 0.808529             -0.848933   \n",
              "3                                -0.485366             -0.848649   \n",
              "4                                -0.615971             -0.847865   \n",
              "...                                    ...                   ...   \n",
              "7347                             -0.425619             -0.791883   \n",
              "7348                              0.400219             -0.771840   \n",
              "7349                              0.701169             -0.779133   \n",
              "7350                             -0.589479             -0.785181   \n",
              "7351                             -0.616956             -0.783267   \n",
              "\n",
              "      angle(Y,gravityMean)  angle(Z,gravityMean)  subject          Activity  \n",
              "0                 0.179941             -0.058627        1          STANDING  \n",
              "1                 0.180289             -0.054317        1          STANDING  \n",
              "2                 0.180637             -0.049118        1          STANDING  \n",
              "3                 0.181935             -0.047663        1          STANDING  \n",
              "4                 0.185151             -0.043892        1          STANDING  \n",
              "...                    ...                   ...      ...               ...  \n",
              "7347              0.238604              0.049819       30  WALKING_UPSTAIRS  \n",
              "7348              0.252676              0.050053       30  WALKING_UPSTAIRS  \n",
              "7349              0.249145              0.040811       30  WALKING_UPSTAIRS  \n",
              "7350              0.246432              0.025339       30  WALKING_UPSTAIRS  \n",
              "7351              0.246809              0.036695       30  WALKING_UPSTAIRS  \n",
              "\n",
              "[7352 rows x 563 columns]"
            ],
            "text/html": [
              "\n",
              "  <div id=\"df-b848388e-5fcc-469d-9a76-aa93ccc9003b\">\n",
              "    <div class=\"colab-df-container\">\n",
              "      <div>\n",
              "<style scoped>\n",
              "    .dataframe tbody tr th:only-of-type {\n",
              "        vertical-align: middle;\n",
              "    }\n",
              "\n",
              "    .dataframe tbody tr th {\n",
              "        vertical-align: top;\n",
              "    }\n",
              "\n",
              "    .dataframe thead th {\n",
              "        text-align: right;\n",
              "    }\n",
              "</style>\n",
              "<table border=\"1\" class=\"dataframe\">\n",
              "  <thead>\n",
              "    <tr style=\"text-align: right;\">\n",
              "      <th></th>\n",
              "      <th>tBodyAcc-mean()-X</th>\n",
              "      <th>tBodyAcc-mean()-Y</th>\n",
              "      <th>tBodyAcc-mean()-Z</th>\n",
              "      <th>tBodyAcc-std()-X</th>\n",
              "      <th>tBodyAcc-std()-Y</th>\n",
              "      <th>tBodyAcc-std()-Z</th>\n",
              "      <th>tBodyAcc-mad()-X</th>\n",
              "      <th>tBodyAcc-mad()-Y</th>\n",
              "      <th>tBodyAcc-mad()-Z</th>\n",
              "      <th>tBodyAcc-max()-X</th>\n",
              "      <th>...</th>\n",
              "      <th>fBodyBodyGyroJerkMag-kurtosis()</th>\n",
              "      <th>angle(tBodyAccMean,gravity)</th>\n",
              "      <th>angle(tBodyAccJerkMean),gravityMean)</th>\n",
              "      <th>angle(tBodyGyroMean,gravityMean)</th>\n",
              "      <th>angle(tBodyGyroJerkMean,gravityMean)</th>\n",
              "      <th>angle(X,gravityMean)</th>\n",
              "      <th>angle(Y,gravityMean)</th>\n",
              "      <th>angle(Z,gravityMean)</th>\n",
              "      <th>subject</th>\n",
              "      <th>Activity</th>\n",
              "    </tr>\n",
              "  </thead>\n",
              "  <tbody>\n",
              "    <tr>\n",
              "      <th>0</th>\n",
              "      <td>0.288585</td>\n",
              "      <td>-0.020294</td>\n",
              "      <td>-0.132905</td>\n",
              "      <td>-0.995279</td>\n",
              "      <td>-0.983111</td>\n",
              "      <td>-0.913526</td>\n",
              "      <td>-0.995112</td>\n",
              "      <td>-0.983185</td>\n",
              "      <td>-0.923527</td>\n",
              "      <td>-0.934724</td>\n",
              "      <td>...</td>\n",
              "      <td>-0.710304</td>\n",
              "      <td>-0.112754</td>\n",
              "      <td>0.030400</td>\n",
              "      <td>-0.464761</td>\n",
              "      <td>-0.018446</td>\n",
              "      <td>-0.841247</td>\n",
              "      <td>0.179941</td>\n",
              "      <td>-0.058627</td>\n",
              "      <td>1</td>\n",
              "      <td>STANDING</td>\n",
              "    </tr>\n",
              "    <tr>\n",
              "      <th>1</th>\n",
              "      <td>0.278419</td>\n",
              "      <td>-0.016411</td>\n",
              "      <td>-0.123520</td>\n",
              "      <td>-0.998245</td>\n",
              "      <td>-0.975300</td>\n",
              "      <td>-0.960322</td>\n",
              "      <td>-0.998807</td>\n",
              "      <td>-0.974914</td>\n",
              "      <td>-0.957686</td>\n",
              "      <td>-0.943068</td>\n",
              "      <td>...</td>\n",
              "      <td>-0.861499</td>\n",
              "      <td>0.053477</td>\n",
              "      <td>-0.007435</td>\n",
              "      <td>-0.732626</td>\n",
              "      <td>0.703511</td>\n",
              "      <td>-0.844788</td>\n",
              "      <td>0.180289</td>\n",
              "      <td>-0.054317</td>\n",
              "      <td>1</td>\n",
              "      <td>STANDING</td>\n",
              "    </tr>\n",
              "    <tr>\n",
              "      <th>2</th>\n",
              "      <td>0.279653</td>\n",
              "      <td>-0.019467</td>\n",
              "      <td>-0.113462</td>\n",
              "      <td>-0.995380</td>\n",
              "      <td>-0.967187</td>\n",
              "      <td>-0.978944</td>\n",
              "      <td>-0.996520</td>\n",
              "      <td>-0.963668</td>\n",
              "      <td>-0.977469</td>\n",
              "      <td>-0.938692</td>\n",
              "      <td>...</td>\n",
              "      <td>-0.760104</td>\n",
              "      <td>-0.118559</td>\n",
              "      <td>0.177899</td>\n",
              "      <td>0.100699</td>\n",
              "      <td>0.808529</td>\n",
              "      <td>-0.848933</td>\n",
              "      <td>0.180637</td>\n",
              "      <td>-0.049118</td>\n",
              "      <td>1</td>\n",
              "      <td>STANDING</td>\n",
              "    </tr>\n",
              "    <tr>\n",
              "      <th>3</th>\n",
              "      <td>0.279174</td>\n",
              "      <td>-0.026201</td>\n",
              "      <td>-0.123283</td>\n",
              "      <td>-0.996091</td>\n",
              "      <td>-0.983403</td>\n",
              "      <td>-0.990675</td>\n",
              "      <td>-0.997099</td>\n",
              "      <td>-0.982750</td>\n",
              "      <td>-0.989302</td>\n",
              "      <td>-0.938692</td>\n",
              "      <td>...</td>\n",
              "      <td>-0.482845</td>\n",
              "      <td>-0.036788</td>\n",
              "      <td>-0.012892</td>\n",
              "      <td>0.640011</td>\n",
              "      <td>-0.485366</td>\n",
              "      <td>-0.848649</td>\n",
              "      <td>0.181935</td>\n",
              "      <td>-0.047663</td>\n",
              "      <td>1</td>\n",
              "      <td>STANDING</td>\n",
              "    </tr>\n",
              "    <tr>\n",
              "      <th>4</th>\n",
              "      <td>0.276629</td>\n",
              "      <td>-0.016570</td>\n",
              "      <td>-0.115362</td>\n",
              "      <td>-0.998139</td>\n",
              "      <td>-0.980817</td>\n",
              "      <td>-0.990482</td>\n",
              "      <td>-0.998321</td>\n",
              "      <td>-0.979672</td>\n",
              "      <td>-0.990441</td>\n",
              "      <td>-0.942469</td>\n",
              "      <td>...</td>\n",
              "      <td>-0.699205</td>\n",
              "      <td>0.123320</td>\n",
              "      <td>0.122542</td>\n",
              "      <td>0.693578</td>\n",
              "      <td>-0.615971</td>\n",
              "      <td>-0.847865</td>\n",
              "      <td>0.185151</td>\n",
              "      <td>-0.043892</td>\n",
              "      <td>1</td>\n",
              "      <td>STANDING</td>\n",
              "    </tr>\n",
              "    <tr>\n",
              "      <th>...</th>\n",
              "      <td>...</td>\n",
              "      <td>...</td>\n",
              "      <td>...</td>\n",
              "      <td>...</td>\n",
              "      <td>...</td>\n",
              "      <td>...</td>\n",
              "      <td>...</td>\n",
              "      <td>...</td>\n",
              "      <td>...</td>\n",
              "      <td>...</td>\n",
              "      <td>...</td>\n",
              "      <td>...</td>\n",
              "      <td>...</td>\n",
              "      <td>...</td>\n",
              "      <td>...</td>\n",
              "      <td>...</td>\n",
              "      <td>...</td>\n",
              "      <td>...</td>\n",
              "      <td>...</td>\n",
              "      <td>...</td>\n",
              "      <td>...</td>\n",
              "    </tr>\n",
              "    <tr>\n",
              "      <th>7347</th>\n",
              "      <td>0.299665</td>\n",
              "      <td>-0.057193</td>\n",
              "      <td>-0.181233</td>\n",
              "      <td>-0.195387</td>\n",
              "      <td>0.039905</td>\n",
              "      <td>0.077078</td>\n",
              "      <td>-0.282301</td>\n",
              "      <td>0.043616</td>\n",
              "      <td>0.060410</td>\n",
              "      <td>0.210795</td>\n",
              "      <td>...</td>\n",
              "      <td>-0.880324</td>\n",
              "      <td>-0.190437</td>\n",
              "      <td>0.829718</td>\n",
              "      <td>0.206972</td>\n",
              "      <td>-0.425619</td>\n",
              "      <td>-0.791883</td>\n",
              "      <td>0.238604</td>\n",
              "      <td>0.049819</td>\n",
              "      <td>30</td>\n",
              "      <td>WALKING_UPSTAIRS</td>\n",
              "    </tr>\n",
              "    <tr>\n",
              "      <th>7348</th>\n",
              "      <td>0.273853</td>\n",
              "      <td>-0.007749</td>\n",
              "      <td>-0.147468</td>\n",
              "      <td>-0.235309</td>\n",
              "      <td>0.004816</td>\n",
              "      <td>0.059280</td>\n",
              "      <td>-0.322552</td>\n",
              "      <td>-0.029456</td>\n",
              "      <td>0.080585</td>\n",
              "      <td>0.117440</td>\n",
              "      <td>...</td>\n",
              "      <td>-0.680744</td>\n",
              "      <td>0.064907</td>\n",
              "      <td>0.875679</td>\n",
              "      <td>-0.879033</td>\n",
              "      <td>0.400219</td>\n",
              "      <td>-0.771840</td>\n",
              "      <td>0.252676</td>\n",
              "      <td>0.050053</td>\n",
              "      <td>30</td>\n",
              "      <td>WALKING_UPSTAIRS</td>\n",
              "    </tr>\n",
              "    <tr>\n",
              "      <th>7349</th>\n",
              "      <td>0.273387</td>\n",
              "      <td>-0.017011</td>\n",
              "      <td>-0.045022</td>\n",
              "      <td>-0.218218</td>\n",
              "      <td>-0.103822</td>\n",
              "      <td>0.274533</td>\n",
              "      <td>-0.304515</td>\n",
              "      <td>-0.098913</td>\n",
              "      <td>0.332584</td>\n",
              "      <td>0.043999</td>\n",
              "      <td>...</td>\n",
              "      <td>-0.304029</td>\n",
              "      <td>0.052806</td>\n",
              "      <td>-0.266724</td>\n",
              "      <td>0.864404</td>\n",
              "      <td>0.701169</td>\n",
              "      <td>-0.779133</td>\n",
              "      <td>0.249145</td>\n",
              "      <td>0.040811</td>\n",
              "      <td>30</td>\n",
              "      <td>WALKING_UPSTAIRS</td>\n",
              "    </tr>\n",
              "    <tr>\n",
              "      <th>7350</th>\n",
              "      <td>0.289654</td>\n",
              "      <td>-0.018843</td>\n",
              "      <td>-0.158281</td>\n",
              "      <td>-0.219139</td>\n",
              "      <td>-0.111412</td>\n",
              "      <td>0.268893</td>\n",
              "      <td>-0.310487</td>\n",
              "      <td>-0.068200</td>\n",
              "      <td>0.319473</td>\n",
              "      <td>0.101702</td>\n",
              "      <td>...</td>\n",
              "      <td>-0.344314</td>\n",
              "      <td>-0.101360</td>\n",
              "      <td>0.700740</td>\n",
              "      <td>0.936674</td>\n",
              "      <td>-0.589479</td>\n",
              "      <td>-0.785181</td>\n",
              "      <td>0.246432</td>\n",
              "      <td>0.025339</td>\n",
              "      <td>30</td>\n",
              "      <td>WALKING_UPSTAIRS</td>\n",
              "    </tr>\n",
              "    <tr>\n",
              "      <th>7351</th>\n",
              "      <td>0.351503</td>\n",
              "      <td>-0.012423</td>\n",
              "      <td>-0.203867</td>\n",
              "      <td>-0.269270</td>\n",
              "      <td>-0.087212</td>\n",
              "      <td>0.177404</td>\n",
              "      <td>-0.377404</td>\n",
              "      <td>-0.038678</td>\n",
              "      <td>0.229430</td>\n",
              "      <td>0.269013</td>\n",
              "      <td>...</td>\n",
              "      <td>-0.740738</td>\n",
              "      <td>-0.280088</td>\n",
              "      <td>-0.007739</td>\n",
              "      <td>-0.056088</td>\n",
              "      <td>-0.616956</td>\n",
              "      <td>-0.783267</td>\n",
              "      <td>0.246809</td>\n",
              "      <td>0.036695</td>\n",
              "      <td>30</td>\n",
              "      <td>WALKING_UPSTAIRS</td>\n",
              "    </tr>\n",
              "  </tbody>\n",
              "</table>\n",
              "<p>7352 rows × 563 columns</p>\n",
              "</div>\n",
              "      <button class=\"colab-df-convert\" onclick=\"convertToInteractive('df-b848388e-5fcc-469d-9a76-aa93ccc9003b')\"\n",
              "              title=\"Convert this dataframe to an interactive table.\"\n",
              "              style=\"display:none;\">\n",
              "        \n",
              "  <svg xmlns=\"http://www.w3.org/2000/svg\" height=\"24px\"viewBox=\"0 0 24 24\"\n",
              "       width=\"24px\">\n",
              "    <path d=\"M0 0h24v24H0V0z\" fill=\"none\"/>\n",
              "    <path d=\"M18.56 5.44l.94 2.06.94-2.06 2.06-.94-2.06-.94-.94-2.06-.94 2.06-2.06.94zm-11 1L8.5 8.5l.94-2.06 2.06-.94-2.06-.94L8.5 2.5l-.94 2.06-2.06.94zm10 10l.94 2.06.94-2.06 2.06-.94-2.06-.94-.94-2.06-.94 2.06-2.06.94z\"/><path d=\"M17.41 7.96l-1.37-1.37c-.4-.4-.92-.59-1.43-.59-.52 0-1.04.2-1.43.59L10.3 9.45l-7.72 7.72c-.78.78-.78 2.05 0 2.83L4 21.41c.39.39.9.59 1.41.59.51 0 1.02-.2 1.41-.59l7.78-7.78 2.81-2.81c.8-.78.8-2.07 0-2.86zM5.41 20L4 18.59l7.72-7.72 1.47 1.35L5.41 20z\"/>\n",
              "  </svg>\n",
              "      </button>\n",
              "      \n",
              "  <style>\n",
              "    .colab-df-container {\n",
              "      display:flex;\n",
              "      flex-wrap:wrap;\n",
              "      gap: 12px;\n",
              "    }\n",
              "\n",
              "    .colab-df-convert {\n",
              "      background-color: #E8F0FE;\n",
              "      border: none;\n",
              "      border-radius: 50%;\n",
              "      cursor: pointer;\n",
              "      display: none;\n",
              "      fill: #1967D2;\n",
              "      height: 32px;\n",
              "      padding: 0 0 0 0;\n",
              "      width: 32px;\n",
              "    }\n",
              "\n",
              "    .colab-df-convert:hover {\n",
              "      background-color: #E2EBFA;\n",
              "      box-shadow: 0px 1px 2px rgba(60, 64, 67, 0.3), 0px 1px 3px 1px rgba(60, 64, 67, 0.15);\n",
              "      fill: #174EA6;\n",
              "    }\n",
              "\n",
              "    [theme=dark] .colab-df-convert {\n",
              "      background-color: #3B4455;\n",
              "      fill: #D2E3FC;\n",
              "    }\n",
              "\n",
              "    [theme=dark] .colab-df-convert:hover {\n",
              "      background-color: #434B5C;\n",
              "      box-shadow: 0px 1px 3px 1px rgba(0, 0, 0, 0.15);\n",
              "      filter: drop-shadow(0px 1px 2px rgba(0, 0, 0, 0.3));\n",
              "      fill: #FFFFFF;\n",
              "    }\n",
              "  </style>\n",
              "\n",
              "      <script>\n",
              "        const buttonEl =\n",
              "          document.querySelector('#df-b848388e-5fcc-469d-9a76-aa93ccc9003b button.colab-df-convert');\n",
              "        buttonEl.style.display =\n",
              "          google.colab.kernel.accessAllowed ? 'block' : 'none';\n",
              "\n",
              "        async function convertToInteractive(key) {\n",
              "          const element = document.querySelector('#df-b848388e-5fcc-469d-9a76-aa93ccc9003b');\n",
              "          const dataTable =\n",
              "            await google.colab.kernel.invokeFunction('convertToInteractive',\n",
              "                                                     [key], {});\n",
              "          if (!dataTable) return;\n",
              "\n",
              "          const docLinkHtml = 'Like what you see? Visit the ' +\n",
              "            '<a target=\"_blank\" href=https://colab.research.google.com/notebooks/data_table.ipynb>data table notebook</a>'\n",
              "            + ' to learn more about interactive tables.';\n",
              "          element.innerHTML = '';\n",
              "          dataTable['output_type'] = 'display_data';\n",
              "          await google.colab.output.renderOutput(dataTable, element);\n",
              "          const docLink = document.createElement('div');\n",
              "          docLink.innerHTML = docLinkHtml;\n",
              "          element.appendChild(docLink);\n",
              "        }\n",
              "      </script>\n",
              "    </div>\n",
              "  </div>\n",
              "  "
            ]
          },
          "metadata": {},
          "execution_count": 997
        }
      ]
    },
    {
      "cell_type": "code",
      "source": [
        "categorica=categoricas(data)\n",
        "print(categorica)\n",
        "nulos(data)"
      ],
      "metadata": {
        "colab": {
          "base_uri": "https://localhost:8080/"
        },
        "id": "U4EA8czQze3F",
        "outputId": "a5a14a5a-553c-4513-e564-4277144640ff"
      },
      "execution_count": 998,
      "outputs": [
        {
          "output_type": "stream",
          "name": "stdout",
          "text": [
            "Index(['Activity'], dtype='object')\n",
            "[562]\n",
            "cantidad de nulos : 0\n"
          ]
        }
      ]
    },
    {
      "cell_type": "code",
      "source": [
        "value=clasificaciones(data,'Activity')"
      ],
      "metadata": {
        "colab": {
          "base_uri": "https://localhost:8080/"
        },
        "id": "VLWPDqLc08yu",
        "outputId": "edd4931b-00e8-427c-8a04-6d57e64c3b37"
      },
      "execution_count": 999,
      "outputs": [
        {
          "output_type": "stream",
          "name": "stdout",
          "text": [
            "clases : ['STANDING', 'SITTING', 'LAYING', 'WALKING', 'WALKING_DOWNSTAIRS', 'WALKING_UPSTAIRS']\n",
            "Cantidad: 6\n",
            "<class 'pandas.core.frame.DataFrame'>\n",
            "RangeIndex: 7352 entries, 0 to 7351\n",
            "Columns: 563 entries, tBodyAcc-mean()-X to Activity\n",
            "dtypes: float64(561), int64(1), object(1)\n",
            "memory usage: 31.6+ MB\n"
          ]
        }
      ]
    },
    {
      "cell_type": "code",
      "source": [
        "data=tratadoDatos('/content/train.csv',categorica,[])"
      ],
      "metadata": {
        "id": "_9WoZK1I5Etn"
      },
      "execution_count": 1000,
      "outputs": []
    },
    {
      "cell_type": "code",
      "source": [
        "data=data.to_numpy()\n",
        "X=data[:,:562]\n",
        "Y=data[:,562]\n",
        "print(X.shape)\n",
        "print(Y.shape)\n",
        "print(X[0])\n",
        "print(\"---\"*20)\n",
        "print(Y)"
      ],
      "metadata": {
        "colab": {
          "base_uri": "https://localhost:8080/"
        },
        "id": "MyLnVzhe6eNs",
        "outputId": "40426ec9-9c3c-49fc-eae6-24b282e01c27"
      },
      "execution_count": 1001,
      "outputs": [
        {
          "output_type": "stream",
          "name": "stdout",
          "text": [
            "(7352, 562)\n",
            "(7352,)\n",
            "[ 0.28858451 -0.02029417 -0.13290514 -0.9952786  -0.98311061 -0.91352645\n",
            " -0.99511208 -0.98318457 -0.92352702 -0.93472378 -0.56737807 -0.74441253\n",
            "  0.85294738  0.68584458  0.81426278 -0.96552279 -0.99994465 -0.99986303\n",
            " -0.99461218 -0.99423081 -0.98761392 -0.94321999 -0.40774707 -0.67933751\n",
            " -0.60212187  0.92929351 -0.85301114  0.35990976 -0.05852638  0.25689154\n",
            " -0.22484763  0.26410572 -0.09524563  0.27885143 -0.46508457  0.49193596\n",
            " -0.19088356  0.37631389  0.43512919  0.66079033  0.96339614 -0.14083968\n",
            "  0.11537494 -0.98524969 -0.98170843 -0.87762497 -0.98500137 -0.98441622\n",
            " -0.89467735  0.89205451 -0.16126549  0.12465977  0.97743631 -0.12321341\n",
            "  0.05648273 -0.37542596  0.89946864 -0.97090521 -0.97551037 -0.98432539\n",
            " -0.98884915 -0.91774264 -1.         -1.          0.11380614 -0.590425\n",
            "  0.5911463  -0.59177346  0.59246928 -0.74544878  0.72086167 -0.71237239\n",
            "  0.71130003 -0.99511159  0.99567491 -0.99566759  0.99165268  0.57022164\n",
            "  0.43902735  0.98691312  0.07799634  0.0050008  -0.06783081 -0.99351906\n",
            " -0.98835999 -0.99357497 -0.99448763 -0.98620664 -0.99281835 -0.9851801\n",
            " -0.99199423 -0.99311887  0.98983471  0.99195686  0.9905192  -0.99352201\n",
            " -0.99993487 -0.99982045 -0.99987846 -0.99436404 -0.98602487 -0.98923361\n",
            " -0.81994925 -0.79304645 -0.88885295  1.         -0.22074703  0.63683075\n",
            "  0.38764356  0.24140146 -0.05225285  0.2641772   0.37343945  0.34177752\n",
            " -0.56979119  0.26539882 -0.47787489 -0.3853005   0.03364394 -0.12651082\n",
            " -0.00610085 -0.03136479  0.1077254  -0.98531027 -0.97662344 -0.99220528\n",
            " -0.98458626 -0.97635262 -0.99236164 -0.86704374 -0.93378602 -0.74756618\n",
            "  0.84730796  0.91489534  0.83084054 -0.96718428 -0.99957831 -0.99935432\n",
            " -0.99976339 -0.98343808 -0.97861401 -0.99296558  0.08263168  0.20226765\n",
            " -0.16875669  0.09632324 -0.27498511  0.49864419 -0.22031685  1.\n",
            " -0.97297139  0.31665451  0.37572641  0.72339919 -0.77111201  0.69021323\n",
            " -0.33183104  0.70958377  0.13487336  0.30109948 -0.0991674  -0.05551737\n",
            " -0.0619858  -0.99211067 -0.99251927 -0.99205528 -0.99216475 -0.99494156\n",
            " -0.99261905 -0.99015585 -0.98674277 -0.99204155  0.99442876  0.99175581\n",
            "  0.98935195 -0.99445335 -0.99993755 -0.9999535  -0.99992294 -0.99229974\n",
            " -0.99693892 -0.99224298 -0.58985096 -0.68845905 -0.57210686  0.29237634\n",
            " -0.36199802  0.40554269 -0.03900695  0.98928381 -0.41456048  0.39160251\n",
            "  0.28225087  0.92726984 -0.57237001  0.6916192   0.46828982 -0.13107697\n",
            " -0.08715969  0.33624748 -0.95943388 -0.9505515  -0.95799295 -0.94630524\n",
            " -0.99255572 -0.95943388 -0.99849285 -0.9576374  -0.23258164 -0.17317874\n",
            " -0.02289666  0.09483157  0.19181715 -0.95943388 -0.9505515  -0.95799295\n",
            " -0.94630524 -0.99255572 -0.95943388 -0.99849285 -0.9576374  -0.23258164\n",
            " -0.17317874 -0.02289666  0.09483157  0.19181715 -0.99330586 -0.99433641\n",
            " -0.99450037 -0.99278399 -0.99120847 -0.99330586 -0.99989188 -0.9929337\n",
            " -0.86341476  0.28308522 -0.23730869 -0.10543219 -0.03821231 -0.96895908\n",
            " -0.96433518 -0.95724477 -0.97505986 -0.99155366 -0.96895908 -0.99928646\n",
            " -0.94976582  0.07257904  0.57251142 -0.73860219  0.21257776  0.43340495\n",
            " -0.99424782 -0.99136761 -0.99314298 -0.98893563 -0.99348603 -0.99424782\n",
            " -0.99994898 -0.99454718 -0.61976763  0.29284049 -0.1768892  -0.14577921\n",
            " -0.12407233 -0.99478319 -0.9829841  -0.93926865 -0.99542175 -0.98313297\n",
            " -0.90616498 -0.99688864 -0.98451927 -0.932082   -0.99375634 -0.98316285\n",
            " -0.88505422 -0.99396185 -0.99344611 -0.92342772 -0.97473271 -0.99996838\n",
            " -0.99968911 -0.99489148 -0.99592602 -0.98970889 -0.98799115 -0.94635692\n",
            " -0.90474776 -0.59130248 -1.         -1.         -1.          0.2524829\n",
            "  0.13183575 -0.05205025  0.14205056 -0.1506825  -0.22054694 -0.55873853\n",
            "  0.24676868 -0.00741552 -0.99996279 -0.9999865  -0.99997907 -0.99996244\n",
            " -0.99993222 -0.99972512 -0.99967039 -0.99998582 -0.99996867 -0.99997686\n",
            " -0.99986966 -0.99977613 -0.99997115 -0.99991925 -0.9996568  -0.99986046\n",
            " -0.99986695 -0.99986301 -0.99973783 -0.9997322  -0.99949261 -0.99981364\n",
            " -0.99968182 -0.9998394  -0.99973823 -0.99961197 -0.99968721 -0.99983863\n",
            " -0.99359234 -0.99947584 -0.99966204 -0.9996423  -0.99929341 -0.99789222\n",
            " -0.99593249 -0.99514642 -0.9947399  -0.99968826 -0.99892456 -0.99567134\n",
            " -0.99487731 -0.99945439 -0.99233245 -0.98716991 -0.98969609 -0.99582068\n",
            " -0.99093631 -0.99705167 -0.99380547 -0.99051869 -0.99699279 -0.99673689\n",
            " -0.99197516 -0.99324167 -0.99834907 -0.99110842 -0.95988537 -0.99051499\n",
            " -0.99993475 -0.99982048 -0.99988449 -0.99302626 -0.99137339 -0.99623962\n",
            " -1.         -1.         -1.          1.         -0.24       -1.\n",
            "  0.87038451  0.210697    0.26370789 -0.70368577 -0.90374251 -0.58257362\n",
            " -0.93631005 -0.50734474 -0.80553591 -0.99998649 -0.9999796  -0.99997478\n",
            " -0.99995513 -0.99991861 -0.99964011 -0.9994833  -0.99996087 -0.99998227\n",
            " -0.99997072 -0.99981098 -0.99948472 -0.99998083 -0.99985189 -0.99993261\n",
            " -0.99989993 -0.99982444 -0.99985982 -0.99972751 -0.99972876 -0.99956707\n",
            " -0.99976524 -0.99990021 -0.9998149  -0.9997098  -0.99959608 -0.99985216\n",
            " -0.9998221  -0.99939988 -0.99976559 -0.99995846 -0.99994951 -0.9998385\n",
            " -0.99981351 -0.99878054 -0.99857783 -0.99961968 -0.99998359 -0.99982812\n",
            " -0.99868068 -0.99984416 -0.99992792 -0.98657442 -0.98176153 -0.98951478\n",
            " -0.98503264 -0.97388607 -0.99403493 -0.98653085 -0.98361636 -0.99235201\n",
            " -0.98049843 -0.97227092 -0.99494426 -0.99756862 -0.9840851  -0.99433541\n",
            " -0.98527621 -0.99986371 -0.99966608 -0.99993462 -0.99034389 -0.99483569\n",
            " -0.99441158 -0.71240225 -0.64484236 -0.83899298 -1.         -1.\n",
            " -1.         -0.25754888  0.09794711  0.54715105  0.37731121  0.13409154\n",
            "  0.27337197 -0.09126183 -0.4843465  -0.7828507  -0.99986502 -0.99993178\n",
            " -0.99997295 -0.99997018 -0.99993012 -0.99995862 -0.99992899 -0.99998465\n",
            " -0.99986326 -0.99996815 -0.9999361  -0.99995363 -0.99986442 -0.99996098\n",
            " -0.99945373 -0.99997811 -0.99999153 -0.9999901  -0.99996857 -0.99980657\n",
            " -0.998346   -0.99896122 -0.99961874 -0.99998934 -0.9999354  -0.99838752\n",
            " -0.99964264 -0.99997266 -0.99995535 -0.9999763  -0.99990583 -0.9999855\n",
            " -0.99993717 -0.99975115 -0.99907227 -0.99992754 -0.99995158 -0.99990585\n",
            " -0.99989269 -0.99944433 -0.99994099 -0.99995861 -0.95215466 -0.95613397\n",
            " -0.94887014 -0.97432057 -0.92572179 -0.95215466 -0.9982852  -0.9732732\n",
            " -0.64637645 -0.79310345 -0.08843612 -0.43647104 -0.79684048 -0.99372565\n",
            " -0.99375495 -0.9919757  -0.99336472 -0.98817543 -0.99372565 -0.99991844\n",
            " -0.99136366 -1.         -0.93650794  0.34698853 -0.51608015 -0.80276003\n",
            " -0.98013485 -0.96130944 -0.97365344 -0.95226383 -0.98949813 -0.98013485\n",
            " -0.99924035 -0.99265553 -0.70129141 -1.         -0.1289889   0.58615643\n",
            "  0.37460462 -0.99199044 -0.99069746 -0.98994084 -0.99244784 -0.99104773\n",
            " -0.99199044 -0.99993676 -0.99045792 -0.8713058  -1.         -0.07432303\n",
            " -0.29867637 -0.71030407 -0.11275434  0.03040037 -0.46476139 -0.01844588\n",
            " -0.84124676  0.17994061 -0.05862692  1.        ]\n",
            "------------------------------------------------------------\n",
            "[0. 0. 0. ... 5. 5. 5.]\n"
          ]
        }
      ]
    },
    {
      "cell_type": "code",
      "source": [
        "D_in = 562  # Entradas X\n",
        "H = 33      # Neuronas\n",
        "D_out = 6   #Clasificaciones\n",
        "mlp = MLP([\n",
        "    Linear(D_in, H),\n",
        "    ReLU(),\n",
        "    Linear(H, H),\n",
        "    ReLU(),\n",
        "    Linear(H, D_out)\n",
        "])\n",
        "\n",
        "optimizer = SGD(mlp, lr=0.01)\n",
        "loss = CrossEntropy(mlp)\n",
        "\n",
        "epochs = 200   #epocas (veces que pasa el modelo por todo el conjunto de entrenamiento )\n",
        "batch_size = 15   #Lotes de entrenamiento(Numero de muestras) que se usan para actualizar los pesos del modelo durante el entrenamiento\n",
        "\n",
        "batches = len(X) // batch_size\n",
        "log_each = 40  # cada cuantas epocas se va mostrar la perdida promedio\n",
        "l = []\n",
        "for e in range(1,epochs+1):\n",
        "    _l = []\n",
        "    for b in range(batches):\n",
        "        x = X[b*batch_size:(b+1)*batch_size]\n",
        "        y = Y[b*batch_size:(b+1)*batch_size]\n",
        "        y_pred = mlp(x)\n",
        "        _l.append(loss(y_pred, y))\n",
        "        loss.backward()\n",
        "        optimizer.update()\n",
        "    l.append(np.mean(_l))\n",
        "    if not e % log_each:\n",
        "        print(f'Epoch {e}/{epochs}, Loss: {np.mean(l):.4f}')\n"
      ],
      "metadata": {
        "id": "8XPNeGyArdfg",
        "colab": {
          "base_uri": "https://localhost:8080/"
        },
        "outputId": "7d08414f-1870-4f43-f41e-3e71bb1d5ca7"
      },
      "execution_count": 1002,
      "outputs": [
        {
          "output_type": "stream",
          "name": "stdout",
          "text": [
            "Epoch 40/200, Loss: 0.3259\n",
            "Epoch 80/200, Loss: 0.2214\n",
            "Epoch 120/200, Loss: 0.1742\n",
            "Epoch 160/200, Loss: 0.1460\n",
            "Epoch 200/200, Loss: 0.1264\n"
          ]
        }
      ]
    },
    {
      "cell_type": "markdown",
      "source": [
        "### Probar con datos de prueba"
      ],
      "metadata": {
        "id": "8VQJBcWz-a7U"
      }
    },
    {
      "cell_type": "code",
      "source": [
        "data=pd.read_csv('/content/test.csv')"
      ],
      "metadata": {
        "id": "Xm5eSVlE-jpW"
      },
      "execution_count": 1003,
      "outputs": []
    },
    {
      "cell_type": "code",
      "source": [
        "def reemplazar_valores_categoricos(data, columnas, categorias):\n",
        "    #solo datos de entrenamiento\n",
        "    for col, cat in zip(columnas, categorias):\n",
        "        data[col] = data[col].map(lambda x: cat.index(x))\n",
        "    return data"
      ],
      "metadata": {
        "id": "iRnE5uwN-u5l"
      },
      "execution_count": 1004,
      "outputs": []
    },
    {
      "cell_type": "code",
      "source": [
        "value"
      ],
      "metadata": {
        "colab": {
          "base_uri": "https://localhost:8080/"
        },
        "id": "PQl3KgRcDvjy",
        "outputId": "a556272f-de88-4174-f6c1-5f4be27f9c6a"
      },
      "execution_count": 1005,
      "outputs": [
        {
          "output_type": "execute_result",
          "data": {
            "text/plain": [
              "['STANDING',\n",
              " 'SITTING',\n",
              " 'LAYING',\n",
              " 'WALKING',\n",
              " 'WALKING_DOWNSTAIRS',\n",
              " 'WALKING_UPSTAIRS']"
            ]
          },
          "metadata": {},
          "execution_count": 1005
        }
      ]
    },
    {
      "cell_type": "code",
      "source": [
        "columnas = ['Activity']\n",
        "categorias=[value]\n",
        "data = reemplazar_valores_categoricos(data, columnas, categorias)"
      ],
      "metadata": {
        "id": "it6er8KODoij"
      },
      "execution_count": 1006,
      "outputs": []
    },
    {
      "cell_type": "code",
      "source": [
        "categoricas(data)"
      ],
      "metadata": {
        "colab": {
          "base_uri": "https://localhost:8080/"
        },
        "id": "Scv3A19aEEf6",
        "outputId": "fc65f102-ac97-4b90-f547-36f15c080d0d"
      },
      "execution_count": 1007,
      "outputs": [
        {
          "output_type": "stream",
          "name": "stdout",
          "text": [
            "Index([], dtype='object')\n"
          ]
        },
        {
          "output_type": "execute_result",
          "data": {
            "text/plain": [
              "array([], dtype=float64)"
            ]
          },
          "metadata": {},
          "execution_count": 1007
        }
      ]
    },
    {
      "cell_type": "code",
      "source": [
        "data=data.to_numpy()\n",
        "X=data[:,:562]\n",
        "Y=data[:,562]\n",
        "print(X.shape)\n",
        "print(Y.shape)"
      ],
      "metadata": {
        "colab": {
          "base_uri": "https://localhost:8080/"
        },
        "id": "dwcpgtJdEX5w",
        "outputId": "b76be902-09b5-44ed-fdeb-c946b320a39f"
      },
      "execution_count": 1008,
      "outputs": [
        {
          "output_type": "stream",
          "name": "stdout",
          "text": [
            "(2947, 562)\n",
            "(2947,)\n"
          ]
        }
      ]
    },
    {
      "cell_type": "code",
      "source": [
        "#Actividades (CAMINAR, CAMINAR_ARRIBA, CAMINAR_ABAJO, SENTADO, DE PIE, ACOSTADO)\n",
        "#(WALKING, WALKING_UPSTAIRS, WALKING_DOWNSTAIRS, SITTING, STANDING, LAYING)\n",
        "value"
      ],
      "metadata": {
        "colab": {
          "base_uri": "https://localhost:8080/"
        },
        "id": "xSLv9_gLIq8B",
        "outputId": "74a6eb70-9d98-4ceb-9112-cc7b44853273"
      },
      "execution_count": 1009,
      "outputs": [
        {
          "output_type": "execute_result",
          "data": {
            "text/plain": [
              "['STANDING',\n",
              " 'SITTING',\n",
              " 'LAYING',\n",
              " 'WALKING',\n",
              " 'WALKING_DOWNSTAIRS',\n",
              " 'WALKING_UPSTAIRS']"
            ]
          },
          "metadata": {},
          "execution_count": 1009
        }
      ]
    },
    {
      "cell_type": "code",
      "source": [
        "value=['De pie','Sentado','Acostado','Caminar','Caminar Abajo','Caminar Arriba']"
      ],
      "metadata": {
        "id": "vI5Vo0uUI-oO"
      },
      "execution_count": 1010,
      "outputs": []
    },
    {
      "cell_type": "code",
      "source": [
        "from IPython.display import HTML\n",
        "#Imprimir resultados de prediccion y  las reales\n",
        "def resultados(prediccion,y_real,value):\n",
        "  display(HTML('<b>N  &nbsp &nbsp Reales  &nbsp &nbsp &nbsp  Predicciones</b>'))\n",
        "  num=1\n",
        "  for p,y in zip(prediccion , y_real):\n",
        "      if p == y:\n",
        "          display(HTML(f'<font color=\"green\"> {num}&nbsp &nbsp    {value[int(y)]}   &nbsp &nbsp &nbsp      {value[int(p)]}'))\n",
        "      else:\n",
        "          display(HTML(f'<font color=\"red\">  {num}  &nbsp &nbsp  {value[int(y)]}   &nbsp &nbsp &nbsp      {value[int(p)]}</font>'))\n",
        "      num=num+1;"
      ],
      "metadata": {
        "id": "WMGqMxsSS84K"
      },
      "execution_count": 1011,
      "outputs": []
    },
    {
      "cell_type": "code",
      "source": [
        "#Array de prueba\n",
        "cantidad_pruebas=2946\n",
        "\n",
        "X_test = X[:cantidad_pruebas, :].copy()\n",
        "\n",
        "#Normalizar los datos de prueba si es nesesario\n",
        "#X_test_norm = (X_test - X_mean) / X_std\n",
        "\n",
        "# Pasar los datos de prueba a través del modelo para obtener las predicciones\n",
        "prediccion_y = mlp(X_test)\n",
        "\n",
        "#encuentra la clase con la mayor probabilidad en las predicciones del modelo\n",
        "prediccion = np.argmax(prediccion_y, axis=1)\n",
        "\n",
        "# Porcentaje de relacion entre prediccion y datos reales\n",
        "print('Precisión del conjunto de entrenamiento: {:.2f}%'.format(np.mean(prediccion == Y[:cantidad_pruebas]) * 100))\n",
        "\n",
        "# Vista de Predicciones del modelo para comparar\n",
        "y_real=Y[:cantidad_pruebas]\n",
        "\n",
        "#resultados(prediccion,y_real,value)#93.41%\n"
      ],
      "metadata": {
        "id": "ETfZwKT5r0Fz",
        "colab": {
          "base_uri": "https://localhost:8080/"
        },
        "outputId": "833c5002-6b36-4745-d2fd-84a56d64f4bd"
      },
      "execution_count": 1012,
      "outputs": [
        {
          "output_type": "stream",
          "name": "stdout",
          "text": [
            "Precisión del conjunto de entrenamiento: 93.41%\n"
          ]
        }
      ]
    }
  ]
}