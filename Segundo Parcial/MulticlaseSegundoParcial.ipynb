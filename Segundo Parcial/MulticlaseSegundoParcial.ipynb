{
  "cells": [
    {
      "cell_type": "markdown",
      "metadata": {
        "id": "view-in-github",
        "colab_type": "text"
      },
      "source": [
        "<a href=\"https://colab.research.google.com/github/FranzDS01/InteligenciaArtifical/blob/main/Segundo%20Parcial/MulticlaseSegundoParcial.ipynb\" target=\"_parent\"><img src=\"https://colab.research.google.com/assets/colab-badge.svg\" alt=\"Open In Colab\"/></a>"
      ]
    },
    {
      "cell_type": "markdown",
      "metadata": {
        "id": "pSwq3jCwlkbT"
      },
      "source": [
        "### One vs all\n",
        "Nombre:Soria Colque Franz Ronald\n",
        "\n",
        "Carrera:Ing de Sistemas\n",
        "\n",
        "Repositorio:\n",
        "\n",
        "### Problema\n",
        "\n",
        "* **dataset:** https://www.kaggle.com/datasets/saurabhshahane/adl-classification\n",
        "\n",
        "* **Descriccion:**Prediccion de clasificacion de la calidad de aire\n",
        "\n",
        "* **Objetivo:**:Calidad de aire\n",
        "\n",
        "* **Detalle de Solucion:**:Primero se hace tratado de datos, luego como el dataset tiene pocos datos se genera nuevo  datos sinteticos\n",
        "\n",
        "  **Funciones Implentatadas:**\n",
        "\n",
        "  **tratadoDAtos()**:Transforma las columnas type[objet] a numericas,Rellena datos nulos y elimna columnas inesesarias\n",
        "\n",
        "  **reorganizarDataset()**:coloca la columna objetivo 'y' al final del dataset\n",
        "  \n",
        "  **Segmentacion()**:Separa el dataset para datos de entrenamiento y prueba\n",
        "\n",
        "  **listaDataframes()** crear una lista de Dataframes a partir del dataset original ,cada dataframe creado esta clasificado segun la columnas objetico 'y' si el dataset original tiene 3 clasificaciones entoces la lista tedra 3 Dataframes Dataframes1:clases 0 ,Dataframes2:clases 1 ,Dataframes3:clases 2\n",
        "\n",
        "  **DatosSinteticos()**:Crear datos sinteticos por columnas , perimero se crear aleatoriamente la columnas las 'y'\n",
        "  de (0,1,2)o (0,2,3,4) segun la cantidad de clasificaciones que tenga, para crear el resto de las columnas se usa las ListaDataframes , ejemplo:sin el primero valor de 'y' generado es clase 0 , para crear las columnas restantes'X' se usa El primer dataframe de la lista que pertence a esa clase 0\n",
        "  \n",
        "  **col_categoricas()**:retorna una lista de las posiciones de columnas categoricas\n",
        "  \n",
        "\n",
        "* **Mejores valores para prediccion del modelo:**\n",
        "\n",
        "* **Lambda:**0.01\n",
        "\n",
        "* **maxiter:**500\n",
        "\n",
        "* **Mejores valores de theta encontrados:**\n",
        "[[-3.34415954e-01  3.47078029e-03  2.26277666e-03 -2.74086324e-03\n",
        "  -1.07234056e-02  6.81342066e-03  3.08791425e-03]\n",
        "\n",
        " [-1.37053756e+00  1.93326416e-03  4.83176447e-03  7.03960841e-03\n",
        "   7.04839530e-03  2.01391642e-03 -1.42808362e-02]\n",
        "\n",
        " [ 2.69129105e+01 -3.25427758e-02 -1.93810835e-02 -1.28407377e-02\n",
        "  -8.54531468e-03 -4.73765521e-03  1.38077393e-02]\n",
        "  \n",
        " [-5.83552333e+00 -2.59255838e-03 -4.06739600e-03  3.97406618e-03\n",
        "   4.64467091e-03 -2.84639988e-03  1.99520957e-04]]\n"
      ]
    },
    {
      "cell_type": "code",
      "execution_count": null,
      "metadata": {
        "id": "uQbf8doZlkbs"
      },
      "outputs": [],
      "source": [
        "import os\n",
        "import numpy as np\n",
        "import pandas as pd\n",
        "import random\n",
        "from matplotlib import pyplot\n",
        "from scipy import optimize\n",
        "from scipy.io import loadmat\n",
        "from sklearn.model_selection import train_test_split\n",
        "%matplotlib inline"
      ]
    },
    {
      "cell_type": "markdown",
      "metadata": {
        "id": "kTzUvejblkb4"
      },
      "source": [
        "### Tratado de los datos "
      ]
    },
    {
      "cell_type": "code",
      "execution_count": null,
      "metadata": {
        "id": "YCSxkFrelkb6"
      },
      "outputs": [],
      "source": [
        "def tratadoDatos(dataset,modificarColumnas,eliminarColumnas):\n",
        "    data =pd.read_csv(dataset,encoding='latin-1')\n",
        "    columna = data.columns\n",
        "    for index in modificarColumnas:\n",
        "        name = columna[index]\n",
        "        value = list(data[name].unique())\n",
        "        data[name] = data[name].map(dict(zip(value,[i for i in range(len(value))])))\n",
        "    #print(data.head())\n",
        "    data = data.drop([columna[index]for index in eliminarColumnas], axis=1)\n",
        "    valor_media=data.select_dtypes(include=['number']).mean()\n",
        "    data = data.fillna(valor_media.round(2))\n",
        "    return data"
      ]
    },
    {
      "cell_type": "code",
      "execution_count": null,
      "metadata": {
        "id": "Mt_WVdRulkb8"
      },
      "outputs": [],
      "source": [
        "def DatosSinteticos(data,listaData,n_filas,clases):\n",
        "    nuevos_datos=np.empty([n_filas,len(data.columns)])\n",
        "    ColmunaY = np.random.randint(0,clases, n_filas)\n",
        "    #print(ColmunaY)\n",
        "    for i in range(len(data.columns)-1):\n",
        "        for j in range(0,n_filas):\n",
        "            pos=ColmunaY[j]\n",
        "            columna_i =listaData[pos].iloc[:,i]\n",
        "            muestras_i=np.random.choice(columna_i,1,replace=True)\n",
        "\n",
        "            pro_cambio = random.random()\n",
        "            decision = random.randint(0, 1)\n",
        "            if pro_cambio < 0.2:\n",
        "               muestras_i = muestras_i + pro_cambio if decision == 0 else muestras_i - pro_cambio\n",
        "\n",
        "            if(i == 0):\n",
        "                muestras_i=muestras_i.round(5)\n",
        "            else:\n",
        "                muestras_i=muestras_i.round(2)\n",
        "            #np.random.seed()\n",
        "            nuevos_datos[j:,i]=muestras_i\n",
        "            nuevos_datos[j:,len(data.columns)-1]=ColmunaY[j]\n",
        "    columnas =list(data.columns)\n",
        "    print(nuevos_datos)\n",
        "    nuevos_datos_data=pd.DataFrame(nuevos_datos,columns=columnas)\n",
        "    dataExtend =pd.concat([data,nuevos_datos_data],axis=0)\n",
        "    #print(dataExtend.tail())\n",
        "    return dataExtend"
      ]
    },
    {
      "cell_type": "code",
      "execution_count": null,
      "metadata": {
        "id": "06ozlzHclkb_"
      },
      "outputs": [],
      "source": [
        "def listaDataframes(data,clases,columna_y):\n",
        "    ListaData=[]\n",
        "    for i in range(0,clases):\n",
        "        ListaData.append(data[data[columna_y] == i])\n",
        "    return ListaData"
      ]
    },
    {
      "cell_type": "code",
      "execution_count": null,
      "metadata": {
        "id": "3vVPNOBklkcC"
      },
      "outputs": [],
      "source": [
        "def col_categoricas(ruta):\n",
        "    data =pd.read_csv(ruta)\n",
        "    columnas_numericas = data.select_dtypes(include=['object'])\n",
        "    col_numericas = np.array([data.columns.get_loc(col) for col in columnas_numericas.columns])\n",
        "    return col_numericas"
      ]
    },
    {
      "cell_type": "code",
      "execution_count": null,
      "metadata": {
        "id": "vkEK1J2dlkcE"
      },
      "outputs": [],
      "source": [
        "def num_clasificaciones(data,columnay):\n",
        "    value = list(data[columnay].unique())\n",
        "    print(\"clases :\",value)\n",
        "    print('Cantidad:',len(value))\n",
        "    data.info()"
      ]
    },
    {
      "cell_type": "code",
      "execution_count": null,
      "metadata": {
        "id": "Icb-VHqulkcG"
      },
      "outputs": [],
      "source": [
        "def reorganizarDataset(data, posicion_columna):\n",
        "    # Obtener el nombre de la columna a mover\n",
        "    nombre_columna = data.columns[posicion_columna]\n",
        "\n",
        "    # Crear una lista con las columnas en el nuevo orden\n",
        "    columnas_nuevas = list(data.columns[:posicion_columna]) + list(data.columns[posicion_columna+1:]) + [nombre_columna]\n",
        "    \n",
        "    # Crear un nuevo DataFrame con las columnas reorganizadas\n",
        "    data_reorganizado = data[columnas_nuevas]\n",
        "    \n",
        "    return data_reorganizado"
      ]
    },
    {
      "cell_type": "markdown",
      "metadata": {
        "id": "irYZX7e2lkcI"
      },
      "source": [
        "### Algortimo one vs all"
      ]
    },
    {
      "cell_type": "code",
      "execution_count": null,
      "metadata": {
        "id": "QZeSZIyjlkcK"
      },
      "outputs": [],
      "source": [
        "# valores de prueba para los parámetros theta\n",
        "theta_t = np.array([-2, -1, 1, 2], dtype=float)\n",
        "\n",
        "# valores de prueba para las entradas\n",
        "X_t = np.concatenate([np.ones((5, 1)), np.arange(1, 16).reshape(5, 3, order='F')/10.0], axis=1)\n",
        "\n",
        "# valores de testeo para las etiquetas\n",
        "y_t = np.array([1, 0, 1, 0, 1])\n",
        "\n",
        "# valores de testeo para el parametro de regularizacion\n",
        "lambda_t = 3"
      ]
    },
    {
      "cell_type": "code",
      "execution_count": null,
      "metadata": {
        "id": "cJEAB_p-lkcM"
      },
      "outputs": [],
      "source": [
        "def sigmoid(z):\n",
        "    \"\"\"\n",
        "    Calcula la sigmoide de z.\n",
        "    \"\"\"\n",
        "    z=np.clip(z,-500,500)#para evitar que z se desvorde \n",
        "    return 1.0 / (1.0 + np.exp(-z))"
      ]
    },
    {
      "cell_type": "code",
      "execution_count": null,
      "metadata": {
        "id": "qFzM48yJlkcO"
      },
      "outputs": [],
      "source": [
        "def lrCostFunction(theta, X, y, lambda_):\n",
        " \n",
        "#     alpha = 0.003\n",
        "#     theta = theta.copy()\n",
        "    # Inicializa algunos valores utiles\n",
        "    m = y.size\n",
        "    epsilon = 1e-15  #evitar diviciones entre 0\n",
        "    # convierte las etiquetas a valores enteros si son boleanos\n",
        "    if y.dtype == bool:\n",
        "        y = y.astype(int)\n",
        "    \n",
        "    J = 0\n",
        "    grad = np.zeros(theta.shape)\n",
        "    \n",
        "    h = sigmoid(X.dot(theta.T))\n",
        "    \n",
        "    temp = theta\n",
        "    temp[0] = 0\n",
        "    \n",
        "#     J = (1 / m) * np.sum(-y.dot(np.log(h)) - (1 - y).dot(np.log(1 - h)))\n",
        "    J = (1 / m) * np.sum(-y.dot(np.log(h+epsilon)) - (1 - y).dot(np.log(1 - h+epsilon))) + (lambda_ / (2 * m)) * np.sum(np.square(temp))\n",
        "    \n",
        "    grad = (1 / m) * (h - y).dot(X)\n",
        "#     theta = theta - (alpha / m) * (h - y).dot(X)\n",
        "    grad = grad + (lambda_ / m) * temp\n",
        "\n",
        "    return J, grad\n",
        "#    return J, theta"
      ]
    },
    {
      "cell_type": "code",
      "execution_count": null,
      "metadata": {
        "id": "85f6-pDflkcR"
      },
      "outputs": [],
      "source": [
        "def oneVsAll(X, y, num_labels, lambda_,maxiter):\n",
        "    # algunas variables utiles\n",
        "    m, n = X.shape\n",
        "    \n",
        "    all_theta = np.zeros((num_labels, n + 1))\n",
        "\n",
        "    # Agrega unos a la matriz X\n",
        "    X = np.concatenate([np.ones((m, 1)), X], axis=1)\n",
        "\n",
        "    for c in np.arange(num_labels):\n",
        "        initial_theta = np.zeros(n + 1)\n",
        "        options = {'maxiter': maxiter}\n",
        "        res = optimize.minimize(lrCostFunction, \n",
        "                                initial_theta, \n",
        "                                (X, (y == c), lambda_), \n",
        "                                jac=True, \n",
        "                                method='CG',\n",
        "                                options=options) \n",
        "        \n",
        "        all_theta[c] = res.x\n",
        "\n",
        "    return all_theta"
      ]
    },
    {
      "cell_type": "code",
      "execution_count": null,
      "metadata": {
        "id": "awQV1AislkcT"
      },
      "outputs": [],
      "source": [
        "def predictOneVsAll(all_theta, X):\n",
        "    m = X.shape[0];\n",
        "    num_labels = all_theta.shape[0]\n",
        "    p = np.zeros(m)\n",
        "    # Add ones to the X data matrix\n",
        "    X = np.concatenate([np.ones((m, 1)), X], axis=1)\n",
        "    p = np.argmax(sigmoid(X.dot(all_theta.T)), axis = 1)\n",
        "    return p"
      ]
    },
    {
      "cell_type": "markdown",
      "metadata": {
        "id": "QVZZQYr8lkcU"
      },
      "source": [
        "### Preparar Dataset "
      ]
    },
    {
      "cell_type": "code",
      "execution_count": null,
      "metadata": {
        "id": "7I9Z9IQClkcV"
      },
      "outputs": [],
      "source": [
        "data=pd.read_csv('./Dataset/calidadAire.csv')\n",
        "#num_clasificaciones(data,'')"
      ]
    },
    {
      "cell_type": "code",
      "execution_count": null,
      "metadata": {
        "id": "-Ged9SddlkcW",
        "outputId": "dac475e1-1c71-42be-f233-1284ec3662bf"
      },
      "outputs": [
        {
          "name": "stdout",
          "output_type": "stream",
          "text": [
            "Index(['A', 'B', 'C', 'D', 'E', 'F', 'calidad;;;;'], dtype='object')\n"
          ]
        },
        {
          "data": {
            "text/html": [
              "<div>\n",
              "<style scoped>\n",
              "    .dataframe tbody tr th:only-of-type {\n",
              "        vertical-align: middle;\n",
              "    }\n",
              "\n",
              "    .dataframe tbody tr th {\n",
              "        vertical-align: top;\n",
              "    }\n",
              "\n",
              "    .dataframe thead th {\n",
              "        text-align: right;\n",
              "    }\n",
              "</style>\n",
              "<table border=\"1\" class=\"dataframe\">\n",
              "  <thead>\n",
              "    <tr style=\"text-align: right;\">\n",
              "      <th></th>\n",
              "      <th>A</th>\n",
              "      <th>B</th>\n",
              "      <th>C</th>\n",
              "      <th>D</th>\n",
              "      <th>E</th>\n",
              "      <th>F</th>\n",
              "      <th>calidad;;;;</th>\n",
              "    </tr>\n",
              "  </thead>\n",
              "  <tbody>\n",
              "    <tr>\n",
              "      <th>0</th>\n",
              "      <td>670</td>\n",
              "      <td>696</td>\n",
              "      <td>1252</td>\n",
              "      <td>1720</td>\n",
              "      <td>1321</td>\n",
              "      <td>2431</td>\n",
              "      <td>4;;;;</td>\n",
              "    </tr>\n",
              "    <tr>\n",
              "      <th>1</th>\n",
              "      <td>641</td>\n",
              "      <td>674</td>\n",
              "      <td>1156</td>\n",
              "      <td>1652</td>\n",
              "      <td>1410</td>\n",
              "      <td>2433</td>\n",
              "      <td>4;;;;</td>\n",
              "    </tr>\n",
              "    <tr>\n",
              "      <th>2</th>\n",
              "      <td>642</td>\n",
              "      <td>646</td>\n",
              "      <td>1159</td>\n",
              "      <td>1643</td>\n",
              "      <td>1455</td>\n",
              "      <td>2361</td>\n",
              "      <td>4;;;;</td>\n",
              "    </tr>\n",
              "    <tr>\n",
              "      <th>3</th>\n",
              "      <td>640</td>\n",
              "      <td>590</td>\n",
              "      <td>1105</td>\n",
              "      <td>1608</td>\n",
              "      <td>1459</td>\n",
              "      <td>2427</td>\n",
              "      <td>4;;;;</td>\n",
              "    </tr>\n",
              "    <tr>\n",
              "      <th>4</th>\n",
              "      <td>616</td>\n",
              "      <td>627</td>\n",
              "      <td>1192</td>\n",
              "      <td>1637</td>\n",
              "      <td>1466</td>\n",
              "      <td>2447</td>\n",
              "      <td>4;;;;</td>\n",
              "    </tr>\n",
              "    <tr>\n",
              "      <th>...</th>\n",
              "      <td>...</td>\n",
              "      <td>...</td>\n",
              "      <td>...</td>\n",
              "      <td>...</td>\n",
              "      <td>...</td>\n",
              "      <td>...</td>\n",
              "      <td>...</td>\n",
              "    </tr>\n",
              "    <tr>\n",
              "      <th>1840</th>\n",
              "      <td>862</td>\n",
              "      <td>826</td>\n",
              "      <td>1564</td>\n",
              "      <td>1768</td>\n",
              "      <td>1540</td>\n",
              "      <td>2037</td>\n",
              "      <td>4;;;;</td>\n",
              "    </tr>\n",
              "    <tr>\n",
              "      <th>1841</th>\n",
              "      <td>917</td>\n",
              "      <td>821</td>\n",
              "      <td>1571</td>\n",
              "      <td>1779</td>\n",
              "      <td>1543</td>\n",
              "      <td>2008</td>\n",
              "      <td>4;;;;</td>\n",
              "    </tr>\n",
              "    <tr>\n",
              "      <th>1842</th>\n",
              "      <td>925</td>\n",
              "      <td>832</td>\n",
              "      <td>1582</td>\n",
              "      <td>1776</td>\n",
              "      <td>1545</td>\n",
              "      <td>1989</td>\n",
              "      <td>4;;;;</td>\n",
              "    </tr>\n",
              "    <tr>\n",
              "      <th>1843</th>\n",
              "      <td>928</td>\n",
              "      <td>840</td>\n",
              "      <td>1587</td>\n",
              "      <td>1787</td>\n",
              "      <td>1538</td>\n",
              "      <td>1986</td>\n",
              "      <td>4;;;;</td>\n",
              "    </tr>\n",
              "    <tr>\n",
              "      <th>1844</th>\n",
              "      <td>926</td>\n",
              "      <td>840</td>\n",
              "      <td>1606</td>\n",
              "      <td>1785</td>\n",
              "      <td>1555</td>\n",
              "      <td>1996</td>\n",
              "      <td>4;;;;</td>\n",
              "    </tr>\n",
              "  </tbody>\n",
              "</table>\n",
              "<p>1845 rows × 7 columns</p>\n",
              "</div>"
            ],
            "text/plain": [
              "        A    B     C     D     E     F calidad;;;;\n",
              "0     670  696  1252  1720  1321  2431       4;;;;\n",
              "1     641  674  1156  1652  1410  2433       4;;;;\n",
              "2     642  646  1159  1643  1455  2361       4;;;;\n",
              "3     640  590  1105  1608  1459  2427       4;;;;\n",
              "4     616  627  1192  1637  1466  2447       4;;;;\n",
              "...   ...  ...   ...   ...   ...   ...         ...\n",
              "1840  862  826  1564  1768  1540  2037       4;;;;\n",
              "1841  917  821  1571  1779  1543  2008       4;;;;\n",
              "1842  925  832  1582  1776  1545  1989       4;;;;\n",
              "1843  928  840  1587  1787  1538  1986       4;;;;\n",
              "1844  926  840  1606  1785  1555  1996       4;;;;\n",
              "\n",
              "[1845 rows x 7 columns]"
            ]
          },
          "execution_count": 89,
          "metadata": {},
          "output_type": "execute_result"
        }
      ],
      "source": [
        "print(data.columns)\n",
        "data"
      ]
    },
    {
      "cell_type": "code",
      "execution_count": null,
      "metadata": {
        "id": "lnrVBYVplkcZ",
        "outputId": "adbb02b5-6ce0-4a03-ba30-efabdaa01b83"
      },
      "outputs": [
        {
          "name": "stdout",
          "output_type": "stream",
          "text": [
            "<class 'pandas.core.frame.DataFrame'>\n",
            "RangeIndex: 1845 entries, 0 to 1844\n",
            "Data columns (total 7 columns):\n",
            " #   Column       Non-Null Count  Dtype\n",
            "---  ------       --------------  -----\n",
            " 0   A            1845 non-null   int64\n",
            " 1   B            1845 non-null   int64\n",
            " 2   C            1845 non-null   int64\n",
            " 3   D            1845 non-null   int64\n",
            " 4   E            1845 non-null   int64\n",
            " 5   F            1845 non-null   int64\n",
            " 6   calidad;;;;  1845 non-null   int64\n",
            "dtypes: int64(7)\n",
            "memory usage: 101.0 KB\n"
          ]
        }
      ],
      "source": [
        "#data = data.fillna(data.mean)\n",
        "#data['salario'] = data['salario'].fillna(100) #esto es para rellenar valores nulos en una columna especifica\n",
        "rutadatset='./Dataset/calidadAire.csv'\n",
        "col_categoricas(rutadatset)\n",
        "data=tratadoDatos(rutadatset,[6],[])\n",
        "data.info()"
      ]
    },
    {
      "cell_type": "code",
      "execution_count": null,
      "metadata": {
        "id": "ymI2arArlkcb",
        "outputId": "8e06160c-33ec-4ce7-8bfd-218f1b8027c6"
      },
      "outputs": [
        {
          "data": {
            "text/html": [
              "<div>\n",
              "<style scoped>\n",
              "    .dataframe tbody tr th:only-of-type {\n",
              "        vertical-align: middle;\n",
              "    }\n",
              "\n",
              "    .dataframe tbody tr th {\n",
              "        vertical-align: top;\n",
              "    }\n",
              "\n",
              "    .dataframe thead th {\n",
              "        text-align: right;\n",
              "    }\n",
              "</style>\n",
              "<table border=\"1\" class=\"dataframe\">\n",
              "  <thead>\n",
              "    <tr style=\"text-align: right;\">\n",
              "      <th></th>\n",
              "      <th>A</th>\n",
              "      <th>B</th>\n",
              "      <th>C</th>\n",
              "      <th>D</th>\n",
              "      <th>E</th>\n",
              "      <th>F</th>\n",
              "      <th>calidad;;;;</th>\n",
              "    </tr>\n",
              "  </thead>\n",
              "  <tbody>\n",
              "    <tr>\n",
              "      <th>0</th>\n",
              "      <td>670</td>\n",
              "      <td>696</td>\n",
              "      <td>1252</td>\n",
              "      <td>1720</td>\n",
              "      <td>1321</td>\n",
              "      <td>2431</td>\n",
              "      <td>0</td>\n",
              "    </tr>\n",
              "    <tr>\n",
              "      <th>1</th>\n",
              "      <td>641</td>\n",
              "      <td>674</td>\n",
              "      <td>1156</td>\n",
              "      <td>1652</td>\n",
              "      <td>1410</td>\n",
              "      <td>2433</td>\n",
              "      <td>0</td>\n",
              "    </tr>\n",
              "    <tr>\n",
              "      <th>2</th>\n",
              "      <td>642</td>\n",
              "      <td>646</td>\n",
              "      <td>1159</td>\n",
              "      <td>1643</td>\n",
              "      <td>1455</td>\n",
              "      <td>2361</td>\n",
              "      <td>0</td>\n",
              "    </tr>\n",
              "    <tr>\n",
              "      <th>3</th>\n",
              "      <td>640</td>\n",
              "      <td>590</td>\n",
              "      <td>1105</td>\n",
              "      <td>1608</td>\n",
              "      <td>1459</td>\n",
              "      <td>2427</td>\n",
              "      <td>0</td>\n",
              "    </tr>\n",
              "    <tr>\n",
              "      <th>4</th>\n",
              "      <td>616</td>\n",
              "      <td>627</td>\n",
              "      <td>1192</td>\n",
              "      <td>1637</td>\n",
              "      <td>1466</td>\n",
              "      <td>2447</td>\n",
              "      <td>0</td>\n",
              "    </tr>\n",
              "  </tbody>\n",
              "</table>\n",
              "</div>"
            ],
            "text/plain": [
              "     A    B     C     D     E     F  calidad;;;;\n",
              "0  670  696  1252  1720  1321  2431            0\n",
              "1  641  674  1156  1652  1410  2433            0\n",
              "2  642  646  1159  1643  1455  2361            0\n",
              "3  640  590  1105  1608  1459  2427            0\n",
              "4  616  627  1192  1637  1466  2447            0"
            ]
          },
          "execution_count": 91,
          "metadata": {},
          "output_type": "execute_result"
        }
      ],
      "source": [
        "data.head()"
      ]
    },
    {
      "cell_type": "code",
      "execution_count": null,
      "metadata": {
        "id": "zXOyq4xRlkcc",
        "outputId": "54ea8e19-03f1-44ac-b364-7f5067f2cafd"
      },
      "outputs": [
        {
          "name": "stdout",
          "output_type": "stream",
          "text": [
            "clases : [0, 1, 2, 3]\n",
            "Cantidad: 4\n",
            "<class 'pandas.core.frame.DataFrame'>\n",
            "RangeIndex: 1845 entries, 0 to 1844\n",
            "Data columns (total 7 columns):\n",
            " #   Column       Non-Null Count  Dtype\n",
            "---  ------       --------------  -----\n",
            " 0   A            1845 non-null   int64\n",
            " 1   B            1845 non-null   int64\n",
            " 2   C            1845 non-null   int64\n",
            " 3   D            1845 non-null   int64\n",
            " 4   E            1845 non-null   int64\n",
            " 5   F            1845 non-null   int64\n",
            " 6   calidad;;;;  1845 non-null   int64\n",
            "dtypes: int64(7)\n",
            "memory usage: 101.0 KB\n"
          ]
        }
      ],
      "source": [
        "\n",
        "num_clasificaciones(data,'calidad;;;;')"
      ]
    },
    {
      "cell_type": "markdown",
      "metadata": {
        "id": "1c2grIiBlkcd"
      },
      "source": [
        "##### reoriganizar y crear datos sinteticos si lo requiere"
      ]
    },
    {
      "cell_type": "code",
      "execution_count": null,
      "metadata": {
        "id": "t24blb8dlkce",
        "outputId": "f3ad3081-46b6-4f6c-8ffd-5d1143e63f40"
      },
      "outputs": [
        {
          "name": "stdout",
          "output_type": "stream",
          "text": [
            "[[3.3812096e+02 5.2700000e+02 8.8400000e+02 ... 1.1370000e+03\n",
            "  2.3440000e+03 2.0000000e+00]\n",
            " [6.0000000e+02 7.3400000e+02 1.3531400e+03 ... 1.4140000e+03\n",
            "  2.4520000e+03 0.0000000e+00]\n",
            " [5.6988430e+02 9.7300000e+02 1.4830000e+03 ... 1.5840000e+03\n",
            "  2.0660000e+03 1.0000000e+00]\n",
            " ...\n",
            " [7.9800000e+02 8.6400000e+02 1.1550000e+03 ... 1.5180000e+03\n",
            "  2.0300000e+03 0.0000000e+00]\n",
            " [3.8700000e+02 5.3300000e+02 1.0761600e+03 ... 9.3600000e+02\n",
            "  2.2488200e+03 2.0000000e+00]\n",
            " [6.0000000e+02 7.0000000e+02 1.4280000e+03 ... 1.6270000e+03\n",
            "  2.4940000e+03 0.0000000e+00]]\n"
          ]
        }
      ],
      "source": [
        "#num_clasificaciones(data,'Segmentation')\n",
        "#Reorganizar las columnas\n",
        "#datar=reorganizarDataset(data,8)\n",
        "#datar.head()\n",
        "Listadata=listaDataframes(data,4,'calidad;;;;')\n",
        "data=DatosSinteticos(data,Listadata,9000,4)\n",
        "#generar un nuevo archivo cvs del nuevo dataset con datos sinteticos\n"
      ]
    },
    {
      "cell_type": "code",
      "execution_count": null,
      "metadata": {
        "id": "8R-NeJWzlkcg"
      },
      "outputs": [],
      "source": [
        "data.to_csv('sinteticosCalidadAire.csv',index=False)"
      ]
    },
    {
      "cell_type": "markdown",
      "metadata": {
        "id": "IGFPk-rllkci"
      },
      "source": [
        "### segmentacion del DataFrame para entrenamiento y Prueba"
      ]
    },
    {
      "cell_type": "code",
      "execution_count": null,
      "metadata": {
        "id": "K8bfJ6lplkcm"
      },
      "outputs": [],
      "source": [
        "#separar columna objetivo del dataFrame para X  y asignar objetivo a Y\n",
        "def segmantacion(data,columnay):\n",
        "    X = data.drop(columnay, axis=1)\n",
        "    y = data[columnay]\n",
        "    X_entre, X_prueba, y_entre, y_prueba = train_test_split(X, y, test_size=0.2, random_state=42)\n",
        "    return X_entre.to_numpy(), y_entre.to_numpy(),X_prueba.to_numpy(),y_prueba.to_numpy()"
      ]
    },
    {
      "cell_type": "code",
      "execution_count": null,
      "metadata": {
        "id": "jwg_WJ9llkco",
        "outputId": "07eb1baa-c938-454e-c979-581e57f0d8b1"
      },
      "outputs": [
        {
          "name": "stdout",
          "output_type": "stream",
          "text": [
            "Entrenamiento: (8676, 6) (8676,) Prueba: (2169, 6) (2169,)\n"
          ]
        }
      ],
      "source": [
        "X_entre,y_entre,X_prueba,y_prueba=segmantacion(data,'calidad;;;;')\n",
        "num_labels = 4\n",
        "print('Entrenamiento:',X_entre.shape,y_entre.shape,'Prueba:',X_prueba.shape,y_prueba.shape)"
      ]
    },
    {
      "cell_type": "markdown",
      "metadata": {
        "id": "wUg5MXN-lkcq"
      },
      "source": [
        "### Ejecutar algoritmo One vs All"
      ]
    },
    {
      "cell_type": "code",
      "execution_count": null,
      "metadata": {
        "id": "OG4vP4j1lkcr",
        "outputId": "1c663fe0-9731-437f-a4f5-640bd2f1f4e4"
      },
      "outputs": [
        {
          "name": "stdout",
          "output_type": "stream",
          "text": [
            "(4, 7)\n",
            "[[-3.34415954e-01  3.47078029e-03  2.26277666e-03 -2.74086324e-03\n",
            "  -1.07234056e-02  6.81342066e-03  3.08791425e-03]\n",
            " [-1.37053756e+00  1.93326416e-03  4.83176447e-03  7.03960841e-03\n",
            "   7.04839530e-03  2.01391642e-03 -1.42808362e-02]\n",
            " [ 2.69129105e+01 -3.25427758e-02 -1.93810835e-02 -1.28407377e-02\n",
            "  -8.54531468e-03 -4.73765521e-03  1.38077393e-02]\n",
            " [-5.83552333e+00 -2.59255838e-03 -4.06739600e-03  3.97406618e-03\n",
            "   4.64467091e-03 -2.84639988e-03  1.99520957e-04]]\n"
          ]
        }
      ],
      "source": [
        "lambda_ = 0.01 #mejor lambda es 0.009 maxiter=500\n",
        "all_theta = oneVsAll(X_entre, y_entre, num_labels, lambda_,500)\n",
        "print(all_theta.shape)\n",
        "print(all_theta)"
      ]
    },
    {
      "cell_type": "code",
      "execution_count": null,
      "metadata": {
        "id": "4ZjF3G_Clkct",
        "outputId": "125d672a-7d06-46a3-fbe0-00e7ee299369"
      },
      "outputs": [
        {
          "name": "stdout",
          "output_type": "stream",
          "text": [
            "(2169, 6)\n",
            "Precision del conjuto de entrenamiento: 86.2840%\n",
            "se espera de clase : 3.0\n",
            "La clase es:  [3]\n"
          ]
        }
      ],
      "source": [
        "print(X_prueba.shape)\n",
        "pred = predictOneVsAll(all_theta, X_entre)\n",
        "print('Precision del conjuto de entrenamiento: {:.4f}%'.format(np.mean(pred == y_entre) * 100))\n",
        "fila=529 #527\n",
        "Xp = X_prueba[fila:fila+1, :].copy()\n",
        "print(\"se espera de clase :\",y_prueba[fila])\n",
        "\n",
        "Xp = np.concatenate([np.ones((1, 1)), Xp], axis=1)\n",
        "p = np.argmax(sigmoid(Xp.dot(all_theta.T)), axis = 1)\n",
        "print(\"La clase es: \", p)"
      ]
    }
  ],
  "metadata": {
    "kernelspec": {
      "display_name": "Python 3",
      "language": "python",
      "name": "python3"
    },
    "language_info": {
      "codemirror_mode": {
        "name": "ipython",
        "version": 3
      },
      "file_extension": ".py",
      "mimetype": "text/x-python",
      "name": "python",
      "nbconvert_exporter": "python",
      "pygments_lexer": "ipython3",
      "version": "3.10.11"
    },
    "orig_nbformat": 4,
    "colab": {
      "provenance": [],
      "include_colab_link": true
    }
  },
  "nbformat": 4,
  "nbformat_minor": 0
}