{
 "cells": [
  {
   "cell_type": "code",
   "execution_count": 12,
   "metadata": {},
   "outputs": [
    {
     "name": "stdout",
     "output_type": "stream",
     "text": [
      "   Price  Sale  weight  resoloution  ppi  cpu core  cpu freq  internal mem   \n",
      "0   2357    10   135.0          5.2  424         8      1.35          16.0  \\\n",
      "1   1749    10   125.0          4.0  233         2      1.30           4.0   \n",
      "2   1916    10   110.0          4.7  312         4      1.20           8.0   \n",
      "3   1315    11   118.5          4.0  233         2      1.30           4.0   \n",
      "4   1749    11   125.0          4.0  233         2      1.30           4.0   \n",
      "\n",
      "     ram  RearCam  Front_Cam  battery  thickness  \n",
      "0  3.000    13.00        8.0     2610        7.4  \n",
      "1  1.000     3.15        0.0     1700        9.9  \n",
      "2  1.500    13.00        5.0     2000        7.6  \n",
      "3  0.512     3.15        0.0     1400       11.0  \n",
      "4  1.000     3.15        0.0     1700        9.9  \n"
     ]
    }
   ],
   "source": [
    "import pandas as pd\n",
    "\n",
    "def csvAdapter(dataset,modificarColumnas,eliminarColumnas):\n",
    "    data =pd.read_csv(dataset,encoding='latin-1')\n",
    "    columna = data.columns\n",
    "\n",
    "    for index in modificarColumnas:\n",
    "        name = columna[index]\n",
    "        value = list(data[name].unique())\n",
    "        data[name] = data[name].map(dict(zip(value,[i for i in range(len(value))])))\n",
    "    data = data.drop([columna[index]for index in eliminarColumnas],axis=1)\n",
    "    data = data.dropna()\n",
    "    print(data.head())\n",
    "    return data.to_numpy()\n",
    "rutadataset='./Laboratorios/Datasets/Cellphone.csv'\n",
    "columnaCategoricas = [i for i in range(0, 14) if not i in [1,2,3,4,5,6,7,8,9,10,11,12,13]]# poner columnas que no son categoricas\n",
    "eliminarColumnas=[0]#columna a eliminar\n",
    "data = csvAdapter(rutadataset, columnaCategoricas,eliminarColumnas)"
   ]
  }
 ],
 "metadata": {
  "kernelspec": {
   "display_name": "Python 3",
   "language": "python",
   "name": "python3"
  },
  "language_info": {
   "codemirror_mode": {
    "name": "ipython",
    "version": 3
   },
   "file_extension": ".py",
   "mimetype": "text/x-python",
   "name": "python",
   "nbconvert_exporter": "python",
   "pygments_lexer": "ipython3",
   "version": "3.10.7"
  },
  "orig_nbformat": 4,
  "vscode": {
   "interpreter": {
    "hash": "afb734500600fd355917ca529030176ea0ca205570884b88f2f6f7d791fd3fbe"
   }
  }
 },
 "nbformat": 4,
 "nbformat_minor": 2
}
