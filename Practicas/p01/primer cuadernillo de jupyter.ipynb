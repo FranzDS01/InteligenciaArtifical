{
 "cells": [
  {
   "cell_type": "markdown",
   "id": "84a82a27",
   "metadata": {},
   "source": [
    "# Ejemplo de conjuntos listas o diccionarios"
   ]
  },
  {
   "cell_type": "code",
   "execution_count": 1,
   "id": "1e8c8f5f",
   "metadata": {},
   "outputs": [
    {
     "name": "stdout",
     "output_type": "stream",
     "text": [
      "Ejemplo de conjuntos, listas o diccionarios\n"
     ]
    }
   ],
   "source": [
    "print(\"Ejemplo de conjuntos, listas o diccionarios\")"
   ]
  },
  {
   "cell_type": "code",
   "execution_count": null,
   "id": "fb3526a3",
   "metadata": {},
   "outputs": [],
   "source": []
  }
 ],
 "metadata": {
  "kernelspec": {
   "display_name": "Python 3 (ipykernel)",
   "language": "python",
   "name": "python3"
  },
  "language_info": {
   "codemirror_mode": {
    "name": "ipython",
    "version": 3
   },
   "file_extension": ".py",
   "mimetype": "text/x-python",
   "name": "python",
   "nbconvert_exporter": "python",
   "pygments_lexer": "ipython3",
   "version": "3.9.13"
  }
 },
 "nbformat": 4,
 "nbformat_minor": 5
}
