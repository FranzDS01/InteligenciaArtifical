{
 "cells": [
  {
   "cell_type": "code",
   "execution_count": 1,
   "metadata": {},
   "outputs": [],
   "source": [
    "import math\n",
    "from busquedas_02 import ProblemaBusqueda, aestrella\n",
    "\n",
    "MAPA = \"\"\"\n",
    "******************************\n",
    "*                        * Y *\n",
    "******   **********      *   *\n",
    "*  o *   **              *   *\n",
    "*    *   *******    ******   *\n",
    "*        *     *             *\n",
    "*     *        *    **   *****\n",
    "*     **********    *    * X *\n",
    "*              *    *        *\n",
    "******************************\n",
    "\"\"\"\n",
    "MAPA = [list(x) for x in MAPA.split(\"\\n\") if x] #crea una lista de lista donde cada fila del mapa\n",
    "#es un lista ejemplo [['*','*','*',' ',' ',' ',' ',' ',','*'],[......],...]\n",
    "\n",
    "COSTOS = { #diccionario\n",
    "    \"arriba\": 1.0,\n",
    "    \"abajo\": 1.0,\n",
    "    \"izquierda\": 1.0,\n",
    "    \"derecha\": 1.0,\n",
    "    \"arriba izquierda\": 1.4,\n",
    "    \"arriba derecha\": 1.4,\n",
    "    \"abajo izquierda\": 1.4,\n",
    "    \"abajo derecha\": 1.4,\n",
    "}\n"
   ]
  },
  {
   "cell_type": "code",
   "execution_count": 2,
   "metadata": {},
   "outputs": [
    {
     "name": "stdout",
     "output_type": "stream",
     "text": [
      "\n",
      "\n",
      "\n",
      "\n",
      "\n",
      "\n",
      "\n",
      "\n",
      "\n",
      "\n"
     ]
    }
   ],
   "source": [
    "for y in range(len(MAPA)):  # recorre desde 0 hasta el tamaño del MAPA cordenada Y                          \n",
    "    # recorre desde 0 hasta tamaño del primera lista de listas\n",
    "    print()"
   ]
  },
  {
   "cell_type": "markdown",
   "metadata": {},
   "source": []
  },
  {
   "cell_type": "code",
   "execution_count": 3,
   "metadata": {},
   "outputs": [],
   "source": [
    "\n",
    "class JuegoLaberinto(ProblemaBusqueda):\n",
    "\n",
    "    def __init__(self, tablero):#recibe el MAPA\n",
    "        self.tablero = tablero #inicializamos el MAPA\n",
    "        self.estado_objetivo = ((0,0),(0,0))\n",
    "        i=0\n",
    "        for y in range(len(self.tablero)): #recorre desde 0 hasta el tamaño del MAPA cordenada Y\n",
    "            for x in range(len(self.tablero[y])):#recorre desde 0 hasta tamaño del primera lista de listas \n",
    "                if self.tablero[y][x].lower() == \"o\":\n",
    "                    self.estado_inicial = (x, y) #busca las cordendas donde esta la entrada e inicializa\n",
    "                elif self.tablero[y][x].lower() == \"X\" or self.tablero[y][x].lower() == \"Y\":\n",
    "                    self.estado_objetivo[i]= (x, y) #busca las cordendas donde esta la salida e inicializa\n",
    "                    i+=1\n",
    "\n",
    "        super(JuegoLaberinto, self).__init__(estado_inicial=self.estado_inicial)#inicializa el laberinto\n",
    "\n",
    "    def acciones(self, estado):\n",
    "        acciones = []\n",
    "        for accion in list(COSTOS.keys()):# con el metodo .keys obtine las llaves del diccionario y luego todo eso\n",
    "            #se convierte en una lista con el metodo (list()) [\"arriba\",\"abajo\",.....]\n",
    "            nuevox, nuevoy = self.resultado(estado, accion) #resultado((1,6),\"arriba\")\n",
    "            if self.tablero[nuevoy][nuevox] != \"*\": # verificamos si esas nuevas cordenadas no tengan paredes\n",
    "                acciones.append(accion)#si esta libre se agrega a la lista la accion \"arriba\"\n",
    "        return acciones #retorna las acciones que se pueden realizar \n",
    "\n",
    "    def resultado(self, estado, accion): #estado=(2,6) posicion actual \n",
    "        #acccion=representa movimiento en una direccion especifica\n",
    "        x, y = estado \n",
    "\n",
    "        if accion.count(\"arriba\"):#si la accion.contiene(\"arriba\") y disminuye en 1\n",
    "            y -= 1\n",
    "        if accion.count(\"abajo\"):\n",
    "            y += 1\n",
    "        if accion.count(\"izquierda\"):\n",
    "            x -= 1\n",
    "        if accion.count(\"derecha\"):\n",
    "            x += 1\n",
    "\n",
    "        estado_nuevo = (x, y)\n",
    "        return estado_nuevo #retorna las nuevas cordenadas\n",
    "\n",
    "    def es_objetivo(self, estado):\n",
    "        return estado == self.estado_objetivo[0] and estado == self.estado_objetivo[1] # si las cordenas son el objerivo =TRUE si no FALSE\n",
    "\n",
    "    def costo(self, estado, accion, estado2):\n",
    "        return COSTOS[accion] # retorna el costo de tomar una accion \"arriba\"=1.0\n",
    "\n",
    "    def heuristic(self, estado):\n",
    "        x, y = estado #cordenadas actuales\n",
    "        gx, gy = self.estado_objetivo #cordenadas salida\n",
    "        return math.sqrt((x - gx) ** 2 + (y - gy) ** 2) #formula de distancia euclidiana mientras mas bajo mas cerca\n",
    "    #si es = 0 ya esta en la salida "
   ]
  },
  {
   "cell_type": "code",
   "execution_count": 11,
   "metadata": {},
   "outputs": [],
   "source": [
    "def main():\n",
    "    problema = JuegoLaberinto(MAPA) #se crear un objeto de la clase juegoLaberinto\n",
    "    print(problema)\n",
    "    resultado = aestrella(problema, busqueda_en_grafo=True)#encuentra el camino mas corto , resultado es un OBJETO\n",
    "    print(resultado)\n",
    "    camino = [x[1] for x in resultado.camino()] #alamacenamos el camino resultante en la lista camino\n",
    "    # ('abajo derecha', (4, 4)) en x[1] no saca solo las cordenadas \n",
    "    print(camino)\n",
    "    for y in range(len(MAPA)): #imprime el nuevo mapa\n",
    "        for x in range(len(MAPA[y])):\n",
    "            if (x, y) == problema.estado_inicial:\n",
    "                print(\"o\", end='')\n",
    "            elif (x, y) == problema.estado_objetivo[0]:\n",
    "                print(\"x\", end='')\n",
    "            elif (x, y) == problema.estado_objetivo[1]:\n",
    "                print(\"Y\", end='')\n",
    "            elif (x, y) in camino:\n",
    "                print(\"·\", end='')\n",
    "            else:\n",
    "                print(MAPA[y][x], end='')\n",
    "        print()\n"
   ]
  },
  {
   "cell_type": "code",
   "execution_count": 12,
   "metadata": {},
   "outputs": [
    {
     "name": "stdout",
     "output_type": "stream",
     "text": [
      "<__main__.JuegoLaberinto object at 0x000001D4F0CCAB30>\n",
      "None\n"
     ]
    },
    {
     "ename": "AttributeError",
     "evalue": "'NoneType' object has no attribute 'camino'",
     "output_type": "error",
     "traceback": [
      "\u001b[1;31m---------------------------------------------------------------------------\u001b[0m",
      "\u001b[1;31mAttributeError\u001b[0m                            Traceback (most recent call last)",
      "Cell \u001b[1;32mIn[12], line 2\u001b[0m\n\u001b[0;32m      1\u001b[0m \u001b[39mif\u001b[39;00m \u001b[39m__name__\u001b[39m \u001b[39m==\u001b[39m \u001b[39m\"\u001b[39m\u001b[39m__main__\u001b[39m\u001b[39m\"\u001b[39m:\n\u001b[1;32m----> 2\u001b[0m     main()\n",
      "Cell \u001b[1;32mIn[11], line 6\u001b[0m, in \u001b[0;36mmain\u001b[1;34m()\u001b[0m\n\u001b[0;32m      4\u001b[0m resultado \u001b[39m=\u001b[39m aestrella(problema, busqueda_en_grafo\u001b[39m=\u001b[39m\u001b[39mTrue\u001b[39;00m)\u001b[39m#encuentra el camino mas corto , resultado es un OBJETO\u001b[39;00m\n\u001b[0;32m      5\u001b[0m \u001b[39mprint\u001b[39m(resultado)\n\u001b[1;32m----> 6\u001b[0m camino \u001b[39m=\u001b[39m [x[\u001b[39m1\u001b[39m] \u001b[39mfor\u001b[39;00m x \u001b[39min\u001b[39;00m resultado\u001b[39m.\u001b[39;49mcamino()] \u001b[39m#alamacenamos el camino resultante en la lista camino\u001b[39;00m\n\u001b[0;32m      7\u001b[0m \u001b[39m# ('abajo derecha', (4, 4)) en x[1] no saca solo las cordenadas \u001b[39;00m\n\u001b[0;32m      8\u001b[0m \u001b[39mprint\u001b[39m(camino)\n",
      "\u001b[1;31mAttributeError\u001b[0m: 'NoneType' object has no attribute 'camino'"
     ]
    }
   ],
   "source": [
    "if __name__ == \"__main__\":\n",
    "    main()"
   ]
  }
 ],
 "metadata": {
  "kernelspec": {
   "display_name": "Python 3",
   "language": "python",
   "name": "python3"
  },
  "language_info": {
   "codemirror_mode": {
    "name": "ipython",
    "version": 3
   },
   "file_extension": ".py",
   "mimetype": "text/x-python",
   "name": "python",
   "nbconvert_exporter": "python",
   "pygments_lexer": "ipython3",
   "version": "3.10.7"
  },
  "orig_nbformat": 4,
  "vscode": {
   "interpreter": {
    "hash": "afb734500600fd355917ca529030176ea0ca205570884b88f2f6f7d791fd3fbe"
   }
  }
 },
 "nbformat": 4,
 "nbformat_minor": 2
}
