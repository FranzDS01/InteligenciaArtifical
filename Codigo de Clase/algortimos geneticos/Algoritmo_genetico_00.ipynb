{
  "nbformat": 4,
  "nbformat_minor": 0,
  "metadata": {
    "colab": {
      "provenance": []
    },
    "kernelspec": {
      "name": "python3",
      "display_name": "Python 3"
    },
    "language_info": {
      "name": "python"
    }
  },
  "cells": [
    {
      "cell_type": "code",
      "source": [
        "from math import inf as infinity\n",
        "from random import choice\n",
        "import platform\n",
        "import time\n",
        "from os import system\n",
        "import random"
      ],
      "metadata": {
        "id": "OjIxgsoR44Vt"
      },
      "execution_count": null,
      "outputs": []
    },
    {
      "cell_type": "code",
      "execution_count": null,
      "metadata": {
        "id": "jMJCK5bSsjex"
      },
      "outputs": [],
      "source": [
        "# Que valores debe tener X1, X2 y X3 para que y = 4\n",
        "y_buscada = 7\n",
        "# Ecuacion: y = x1 - 2 * X2 + 3 * X3"
      ]
    },
    {
      "cell_type": "code",
      "source": [
        "diferencia_minima_identificada = 10000\n",
        "x1 = 0\n",
        "x2 = 0\n",
        "x3 = 0\n",
        "\n",
        "for i in range(0, 100):\n",
        "  for j in range(0, 100):\n",
        "    for k in range(0, 100):\n",
        "      y_hat = i - 2 * j + 3 * k\n",
        "      if (abs(y_hat - y_buscada) < diferencia_minima_identificada):\n",
        "        print (f\"x1: {i}, x2: {j}, x3: {k}, y_hat: {y_hat}, y_buscada: {y_buscada}, diferencia:{abs(y_hat - y_buscada)}\")\n",
        "        diferencia_minima_identificada = abs(y_hat - y_buscada)\n",
        "        x1 = i\n",
        "        x2 = j\n",
        "        x3 = k\n",
        "        if diferencia_minima_identificada == 0:\n",
        "          break\n",
        "\n",
        "print(f\"La diferencia minima encontrada es: {diferencia_minima_identificada}\")\n",
        "print(f\"con los valores de x1={x1}, x2={x2}, x3={x3}\")\n"
      ],
      "metadata": {
        "colab": {
          "base_uri": "https://localhost:8080/"
        },
        "id": "yqmRycUSu4SJ",
        "outputId": "9fc274a1-fdb3-4fb6-bf42-c95eba2ecf82"
      },
      "execution_count": null,
      "outputs": [
        {
          "output_type": "stream",
          "name": "stdout",
          "text": [
            "x1: 0, x2: 0, x3: 0, y_hat: 0, y_buscada: 7, diferencia:7\n",
            "x1: 0, x2: 0, x3: 1, y_hat: 3, y_buscada: 7, diferencia:4\n",
            "x1: 0, x2: 0, x3: 2, y_hat: 6, y_buscada: 7, diferencia:1\n",
            "x1: 0, x2: 1, x3: 3, y_hat: 7, y_buscada: 7, diferencia:0\n",
            "La diferencia minima encontrada es: 0\n",
            "con los valores de x1=0, x2=1, x3=3\n"
          ]
        }
      ]
    },
    {
      "cell_type": "code",
      "source": [
        "def funcion_adaptacion(individuo):\n",
        "  y = 7\n",
        "  y_hat = individuo[0] - 2 * individuo[1] + 3 * individuo[2]\n",
        "  return abs(y_hat - y)"
      ],
      "metadata": {
        "id": "I337Pl4q3IbW"
      },
      "execution_count": null,
      "outputs": []
    },
    {
      "cell_type": "code",
      "source": [
        "def obtener_mejores_individuos(poblacion, numero_individuos):\n",
        "  individuos_fitness = []\n",
        "  mejor_fitness = infinity;\n",
        "  for individuo in poblacion:\n",
        "    fitness_individuo = funcion_adaptacion(individuo)\n",
        "    individuos_fitness.append([individuo[0], individuo[1], individuo[2], fitness_individuo])\n",
        "\n",
        "  individuos_fitness.sort(key=lambda x: x[3])\n",
        "  \n",
        "  return individuos_fitness[:numero_individuos]\n"
      ],
      "metadata": {
        "id": "qzqTIM5951nV"
      },
      "execution_count": null,
      "outputs": []
    },
    {
      "cell_type": "code",
      "source": [
        "def generar_individuos(numero_individuos, numero_genes):\n",
        "  # Crear una lista vacía para almacenar todas las listas\n",
        "  individuos = []\n",
        "\n",
        "  # Crear 20 listas con 3 números aleatorios cada una\n",
        "  for i in range(numero_individuos):\n",
        "      cromosomas = []\n",
        "      for j in range(numero_genes):\n",
        "          nuevo_gen = random.randint(0, 9)\n",
        "          cromosomas.append(nuevo_gen)\n",
        "      individuos.append(cromosomas)\n",
        "\n",
        "  return individuos\n",
        "\n",
        "def mostrar_individuos(individuos):\n",
        "  # Imprimir todas las listas generadas\n",
        "  print(f\"numero de individuos: {len(individuos)}\")\n",
        "  for individuo in individuos:\n",
        "    print(individuo)"
      ],
      "metadata": {
        "id": "4tsbXyxu1u_a"
      },
      "execution_count": null,
      "outputs": []
    },
    {
      "cell_type": "code",
      "source": [
        "def generar_nuevos_individuos(mejores_individuos):\n",
        "  nuevos_individuos =[]\n",
        "  hijo_1 = [mejores_individuos[0][0], mejores_individuos[0][1], mejores_individuos[len(mejores_individuos)-1][2]]\n",
        "  nuevos_individuos.append(hijo_1)\n",
        "  hijo_2 = [mejores_individuos[len(mejores_individuos)-1][0], mejores_individuos[len(mejores_individuos)-1][1], mejores_individuos[0][2]]\n",
        "  nuevos_individuos.append(hijo_2)\n",
        "\n",
        "  for numero_individuo in range(1, len(mejores_individuos)): \n",
        "    hijo_1 = [mejores_individuos[numero_individuo - 1][0], mejores_individuos[numero_individuo - 1][1], mejores_individuos[numero_individuo][2]]\n",
        "    nuevos_individuos.append(hijo_1)\n",
        "    hijo_2 = [mejores_individuos[numero_individuo][0], mejores_individuos[numero_individuo][1], mejores_individuos[numero_individuo - 1][2]]\n",
        "    nuevos_individuos.append(hijo_2)\n",
        "\n",
        "  return nuevos_individuos"
      ],
      "metadata": {
        "id": "-O0-xRUz-tu8"
      },
      "execution_count": null,
      "outputs": []
    },
    {
      "cell_type": "code",
      "source": [
        "def main():\n",
        "  poblacion = generar_individuos(10, 3)\n",
        "  mostrar_individuos(poblacion)\n",
        "  numero_individuos = len(poblacion) / 2\n",
        "  mejores_individuos = obtener_mejores_individuos(poblacion, 5)\n",
        "  mostrar_individuos(mejores_individuos)\n",
        "  mejores_individuos_sin_fitness = [fila[:3] for fila in mejores_individuos]\n",
        "  nueva_poblacion = generar_nuevos_individuos(mejores_individuos_sin_fitness)\n",
        "  poblacion = nueva_poblacion\n",
        "  mostrar_individuos(poblacion)\n",
        "  numero_individuos = len(poblacion) / 2\n",
        "  mejores_individuos = obtener_mejores_individuos(poblacion, 5)\n",
        "  mostrar_individuos(mejores_individuos)"
      ],
      "metadata": {
        "id": "5ErmxQOb-o6x"
      },
      "execution_count": null,
      "outputs": []
    },
    {
      "cell_type": "code",
      "source": [
        "if __name__ == '__main__':\n",
        "    main()"
      ],
      "metadata": {
        "colab": {
          "base_uri": "https://localhost:8080/"
        },
        "id": "V7OVPqBH5QmO",
        "outputId": "9a38686c-38ab-4b9d-cc0d-269e67043fa4"
      },
      "execution_count": null,
      "outputs": [
        {
          "output_type": "stream",
          "name": "stdout",
          "text": [
            "numero de individuos: 10\n",
            "[6, 6, 5]\n",
            "[3, 0, 0]\n",
            "[3, 1, 1]\n",
            "[3, 1, 7]\n",
            "[6, 0, 5]\n",
            "[0, 1, 2]\n",
            "[9, 9, 5]\n",
            "[7, 4, 2]\n",
            "[6, 4, 4]\n",
            "[9, 2, 5]\n",
            "numero de individuos: 5\n",
            "[9, 9, 5, 1]\n",
            "[6, 6, 5, 2]\n",
            "[7, 4, 2, 2]\n",
            "[3, 1, 1, 3]\n",
            "[0, 1, 2, 3]\n",
            "numero de individuos: 10\n",
            "[9, 9, 2]\n",
            "[0, 1, 5]\n",
            "[9, 9, 5]\n",
            "[6, 6, 5]\n",
            "[6, 6, 2]\n",
            "[7, 4, 5]\n",
            "[7, 4, 1]\n",
            "[3, 1, 2]\n",
            "[3, 1, 2]\n",
            "[0, 1, 1]\n",
            "numero de individuos: 5\n",
            "[3, 1, 2, 0]\n",
            "[3, 1, 2, 0]\n",
            "[9, 9, 5, 1]\n",
            "[6, 6, 5, 2]\n",
            "[7, 4, 1, 5]\n"
          ]
        }
      ]
    }
  ]
}