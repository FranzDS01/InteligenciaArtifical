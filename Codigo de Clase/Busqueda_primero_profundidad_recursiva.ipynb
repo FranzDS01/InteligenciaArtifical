{
  "cells": [
    {
      "cell_type": "code",
      "execution_count": 1,
      "metadata": {
        "colab": {
          "base_uri": "https://localhost:8080/"
        },
        "id": "_mnqG6Aw3m9H",
        "outputId": "f60c7dc8-aee4-435c-a7fe-8fe26003df78"
      },
      "outputs": [
        {
          "name": "stdout",
          "output_type": "stream",
          "text": [
            "Mounted at /content/gdrive/\n"
          ]
        }
      ],
      "source": [
        "from google.colab import drive\n",
        "drive.mount('/content/gdrive/')"
      ]
    },
    {
      "cell_type": "code",
      "execution_count": 1,
      "metadata": {
        "id": "YXCjJi2G7iJe"
      },
      "outputs": [],
      "source": [
        "import sys\n",
        "sys.path.append('/content/gdrive/MyDrive/Colab Notebooks/SIS420/Busquedas')\n",
        "                 \n",
        "class Nodo:\n",
        "    def __init__(self, estado, hijo=None):\n",
        "        self.estado = estado\n",
        "        self.hijo = None\n",
        "        self.padre = None\n",
        "        self.accion = None\n",
        "        self.acciones = None\n",
        "        self.costo = None\n",
        "        self.set_hijo(hijo)\n",
        "\n",
        "    def set_estado(self, estado):\n",
        "        self.estado = estado\n",
        "\n",
        "    def get_estado(self):\n",
        "        return self.estado\n",
        "\n",
        "    def set_hijo(self, hijo):\n",
        "        self.hijo = hijo\n",
        "        if self.hijo is not None:\n",
        "            for s in self.hijo:\n",
        "                s.padre = self\n",
        "\n",
        "    def get_hijo(self):\n",
        "        return self.hijo\n",
        "\n",
        "    def set_padre(self, padre):\n",
        "        self.padre = padre\n",
        "\n",
        "    def get_padre(self):\n",
        "        return self.padre\n",
        "\n",
        "    def set_accion(self, accion):\n",
        "        self.accion = accion\n",
        "\n",
        "    def get_accion(self):\n",
        "        return self.accion\n",
        "\n",
        "    def set_acciones(self, acciones):\n",
        "        self.acciones = acciones\n",
        "\n",
        "    def get_acciones(self):\n",
        "        return self.acciones\n",
        "\n",
        "    def set_costo(self, costo):\n",
        "        self.costo = costo\n",
        "\n",
        "    def get_costo(self):\n",
        "        return self.costo\n",
        "\n",
        "    def equal(self, Nodo):\n",
        "        if self.get_estado() == Nodo.get_estado():\n",
        "            return True\n",
        "        else:\n",
        "            return False\n",
        "\n",
        "    def en_lista(self, lista_nodos):\n",
        "        enlistado = False\n",
        "        for n in lista_nodos:\n",
        "            if self.equal(n):\n",
        "                enlistado = True\n",
        "        return enlistado\n",
        "\n",
        "    def __str__(self):\n",
        "        return str(self.get_estado())\n"
      ]
    },
    {
      "cell_type": "code",
      "execution_count": 2,
      "metadata": {
        "colab": {
          "base_uri": "https://localhost:8080/"
        },
        "id": "YqRxLOZG74x7",
        "outputId": "987df03a-d6a0-48b9-df4a-0f13a3bddede"
      },
      "outputs": [
        {
          "name": "stdout",
          "output_type": "stream",
          "text": [
            "[[4, 2, 3, 1], [2, 4, 3, 1], [2, 3, 4, 1], [3, 2, 4, 1], [3, 4, 2, 1], [4, 3, 2, 1], [4, 3, 1, 2], [3, 4, 1, 2], [3, 1, 4, 2], [1, 3, 4, 2], [1, 4, 3, 2], [4, 1, 3, 2], [4, 1, 2, 3], [1, 4, 2, 3], [1, 2, 4, 3], [2, 1, 4, 3], [2, 1, 3, 4], [1, 2, 3, 4]]\n"
          ]
        }
      ],
      "source": [
        "def busqueda_BPPR(nodo_inicial, solucion, visitado):\n",
        "    visitado.append(nodo_inicial.get_estado()) #agre el nodo actual a visitados\n",
        "    if nodo_inicial.get_estado() == solucion: # compara si ese nodo es la solucion\n",
        "        return nodo_inicial\n",
        "    else:\n",
        "        # Expandir nodos sucesores (hijos)\n",
        "        datos_nodo = nodo_inicial.get_estado()\n",
        "        hijo = [datos_nodo[1], datos_nodo[0], datos_nodo[2], datos_nodo[3]]\n",
        "        hijo_izquierda = Nodo(hijo)\n",
        "        hijo = [datos_nodo[0], datos_nodo[2], datos_nodo[1], datos_nodo[3]]\n",
        "        hijo_centro = Nodo(hijo)\n",
        "        hijo = [datos_nodo[0], datos_nodo[1], datos_nodo[3], datos_nodo[2]]\n",
        "        hijo_derecha = Nodo(hijo)\n",
        "        nodo_inicial.set_hijo([hijo_izquierda, hijo_centro, hijo_derecha])\n",
        "\n",
        "        for nodo_hijo in nodo_inicial.get_hijo():\n",
        "            print(\"esto es :\", nodo_hijo)\n",
        "            if not nodo_hijo.get_estado() in visitado:\n",
        "                # Llamada Recursiva\n",
        "                Solution = busqueda_BPPR(nodo_hijo, solucion, visitado)\n",
        "                if Solution is not None:\n",
        "                    return Solution\n",
        "        return None\n",
        "\n",
        "if __name__ == \"__main__\":\n",
        "    estado_inicial = [4, 2, 3, 1]\n",
        "    solucion = [1, 2, 3, 4]\n",
        "    nodo_solucion = None\n",
        "    visitado = []\n",
        "    nodo_inicial = Nodo(estado_inicial)\n",
        "    nodo_actual = busqueda_BPPR(nodo_inicial, solucion, visitado)\n",
        "\n",
        "    # Mostrar Resultado\n",
        "    resultado = []\n",
        "    while nodo_actual.get_padre() is not None:\n",
        "        resultado.append(nodo_actual.get_estado())\n",
        "        nodo_actual = nodo_actual.get_padre()\n",
        "    resultado.append(estado_inicial)\n",
        "    resultado.reverse()\n",
        "    print(resultado)"
      ]
    }
  ],
  "metadata": {
    "colab": {
      "provenance": []
    },
    "kernelspec": {
      "display_name": "Python 3",
      "language": "python",
      "name": "python3"
    },
    "language_info": {
      "codemirror_mode": {
        "name": "ipython",
        "version": 3
      },
      "file_extension": ".py",
      "mimetype": "text/x-python",
      "name": "python",
      "nbconvert_exporter": "python",
      "pygments_lexer": "ipython3",
      "version": "3.10.7"
    },
    "vscode": {
      "interpreter": {
        "hash": "afb734500600fd355917ca529030176ea0ca205570884b88f2f6f7d791fd3fbe"
      }
    }
  },
  "nbformat": 4,
  "nbformat_minor": 0
}
