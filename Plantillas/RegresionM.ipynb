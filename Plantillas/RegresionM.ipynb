{
 "cells": [
  {
   "cell_type": "code",
   "execution_count": 233,
   "metadata": {},
   "outputs": [],
   "source": [
    "import os\n",
    "import numpy as np\n",
    "import pandas as pd\n",
    "import random\n",
    "from matplotlib import pyplot\n",
    "from scipy import optimize\n",
    "from scipy.io import loadmat\n",
    "from sklearn.model_selection import train_test_split\n",
    "%matplotlib inline"
   ]
  },
  {
   "attachments": {},
   "cell_type": "markdown",
   "metadata": {},
   "source": [
    "### Tratado de los datos "
   ]
  },
  {
   "cell_type": "code",
   "execution_count": 234,
   "metadata": {},
   "outputs": [],
   "source": [
    "def tratadoDatos(dataset,modificarColumnas,eliminarColumnas):\n",
    "    data =pd.read_csv(dataset,encoding='latin-1')\n",
    "    columna = data.columns\n",
    "    for index in modificarColumnas:\n",
    "        name = columna[index]\n",
    "        value = list(data[name].unique())\n",
    "        data[name] = data[name].map(dict(zip(value,[i for i in range(len(value))])))\n",
    "    #print(data.head())\n",
    "    data = data.drop([columna[index]for index in eliminarColumnas], axis=1)\n",
    "    valor_media=data.select_dtypes(include=['number']).mean()\n",
    "    data = data.fillna(valor_media.round(2))\n",
    "    return data"
   ]
  },
  {
   "cell_type": "code",
   "execution_count": 235,
   "metadata": {},
   "outputs": [],
   "source": [
    "def col_categoricas(ruta):\n",
    "    data =pd.read_csv(ruta)\n",
    "    columnas_numericas = data.select_dtypes(include=['object'])\n",
    "    col_numericas = np.array([data.columns.get_loc(col) for col in columnas_numericas.columns])\n",
    "    return col_numericas"
   ]
  },
  {
   "cell_type": "code",
   "execution_count": 236,
   "metadata": {},
   "outputs": [],
   "source": [
    "def reorganizarDataset(data, posicion_columna):\n",
    "    # Obtener el nombre de la columna a mover\n",
    "    nombre_columna = data.columns[posicion_columna]\n",
    "\n",
    "    # Crear una lista con las columnas en el nuevo orden\n",
    "    columnas_nuevas = list(data.columns[:posicion_columna]) + list(data.columns[posicion_columna+1:]) + [nombre_columna]\n",
    "    \n",
    "    # Crear un nuevo DataFrame con las columnas reorganizadas\n",
    "    data_reorganizado = data[columnas_nuevas]\n",
    "    \n",
    "    return data_reorganizado"
   ]
  },
  {
   "cell_type": "code",
   "execution_count": 237,
   "metadata": {},
   "outputs": [],
   "source": [
    "def  featureNormalize(X):\n",
    "    X_norm = X.copy()\n",
    "    mu = np.zeros(X.shape[1])\n",
    "    sigma = np.zeros(X.shape[1])\n",
    "\n",
    "    mu = np.mean(X, axis = 0)\n",
    "    sigma = np.std(X, axis = 0)\n",
    "    X_norm = (X - mu) / sigma\n",
    "    \n",
    "    return X_norm, mu, sigma"
   ]
  },
  {
   "cell_type": "code",
   "execution_count": 238,
   "metadata": {},
   "outputs": [],
   "source": [
    "def DatosSinteticos(data,n_filas,columny):\n",
    "    nuevos_datos=np.empty([n_filas,len(data.columns)])\n",
    "    for i in range(len(data.columns)):\n",
    "        columna_i =data.iloc[:,i]\n",
    "        muestras_i=np.random.choice(columna_i,n_filas,replace=True)\n",
    "        if(i==columny):\n",
    "            nuevos_datos[:,i]=muestras_i.round(2)\n",
    "        else:\n",
    "            nuevos_datos[:,i]=muestras_i.round(0)\n",
    "    columnas =list(data.columns)\n",
    "    nuevos_datos_df=pd.DataFrame(nuevos_datos,columns=columnas)\n",
    "    dataExtend =pd.concat([data,nuevos_datos_df],axis=0)\n",
    "    #print(dataExtend.tail())\n",
    "    return dataExtend"
   ]
  },
  {
   "attachments": {},
   "cell_type": "markdown",
   "metadata": {},
   "source": [
    "### Decenso por gradinte"
   ]
  },
  {
   "cell_type": "code",
   "execution_count": 239,
   "metadata": {},
   "outputs": [],
   "source": [
    "def computeCostMulti(X, y, theta):\n",
    "    # Inicializa algunos valores utiles\n",
    "    m = y.shape[0] # numero de ejemplos de entrenamiento\n",
    "    \n",
    "    J = 0\n",
    "    \n",
    "    h = np.dot(X, theta)\n",
    "    \n",
    "    J = (1/(2 * m)) * np.sum(np.square(np.dot(X, theta) - y))\n",
    "    \n",
    "    return J\n"
   ]
  },
  {
   "cell_type": "code",
   "execution_count": 240,
   "metadata": {},
   "outputs": [],
   "source": [
    "def gradientDescentMulti(X, y, theta, alpha, num_iters):\n",
    "    \n",
    "    # Inicializa algunos valores \n",
    "    m = y.shape[0] # numero de ejemplos de entrenamiento\n",
    "    \n",
    "    # realiza una copia de theta, el cual será acutalizada por el descenso por el gradiente\n",
    "    theta = theta.copy()\n",
    "    \n",
    "    J_history = []\n",
    "    \n",
    "    for i in range(num_iters):\n",
    "        theta = theta - (alpha / m) * (np.dot(X, theta) - y).dot(X)\n",
    "        J_history.append(computeCostMulti(X, y, theta))\n",
    "        \n",
    "    return theta, J_history"
   ]
  },
  {
   "attachments": {},
   "cell_type": "markdown",
   "metadata": {},
   "source": [
    "### Preparacion del dataset"
   ]
  },
  {
   "cell_type": "code",
   "execution_count": 241,
   "metadata": {},
   "outputs": [
    {
     "name": "stdout",
     "output_type": "stream",
     "text": [
      "<class 'pandas.core.frame.DataFrame'>\n",
      "RangeIndex: 400 entries, 0 to 399\n",
      "Data columns (total 9 columns):\n",
      " #   Column             Non-Null Count  Dtype  \n",
      "---  ------             --------------  -----  \n",
      " 0   Serial No.         400 non-null    int64  \n",
      " 1   GRE Score          400 non-null    int64  \n",
      " 2   TOEFL Score        400 non-null    int64  \n",
      " 3   University Rating  400 non-null    int64  \n",
      " 4   SOP                400 non-null    float64\n",
      " 5   LOR                400 non-null    float64\n",
      " 6   CGPA               400 non-null    float64\n",
      " 7   Research           400 non-null    int64  \n",
      " 8   Chance of Admit    400 non-null    float64\n",
      "dtypes: float64(4), int64(5)\n",
      "memory usage: 28.2 KB\n"
     ]
    }
   ],
   "source": [
    "data=pd.read_csv('./Data/data01_admision_UNI.csv')\n",
    "data.info()"
   ]
  },
  {
   "cell_type": "code",
   "execution_count": 242,
   "metadata": {},
   "outputs": [
    {
     "data": {
      "text/html": [
       "<div>\n",
       "<style scoped>\n",
       "    .dataframe tbody tr th:only-of-type {\n",
       "        vertical-align: middle;\n",
       "    }\n",
       "\n",
       "    .dataframe tbody tr th {\n",
       "        vertical-align: top;\n",
       "    }\n",
       "\n",
       "    .dataframe thead th {\n",
       "        text-align: right;\n",
       "    }\n",
       "</style>\n",
       "<table border=\"1\" class=\"dataframe\">\n",
       "  <thead>\n",
       "    <tr style=\"text-align: right;\">\n",
       "      <th></th>\n",
       "      <th>GRE Score</th>\n",
       "      <th>TOEFL Score</th>\n",
       "      <th>University Rating</th>\n",
       "      <th>SOP</th>\n",
       "      <th>LOR</th>\n",
       "      <th>CGPA</th>\n",
       "      <th>Research</th>\n",
       "      <th>Chance of Admit</th>\n",
       "    </tr>\n",
       "  </thead>\n",
       "  <tbody>\n",
       "    <tr>\n",
       "      <th>0</th>\n",
       "      <td>337.0</td>\n",
       "      <td>118.0</td>\n",
       "      <td>4.0</td>\n",
       "      <td>4.5</td>\n",
       "      <td>4.5</td>\n",
       "      <td>9.65</td>\n",
       "      <td>1.0</td>\n",
       "      <td>0.92</td>\n",
       "    </tr>\n",
       "    <tr>\n",
       "      <th>1</th>\n",
       "      <td>324.0</td>\n",
       "      <td>107.0</td>\n",
       "      <td>4.0</td>\n",
       "      <td>4.0</td>\n",
       "      <td>4.5</td>\n",
       "      <td>8.87</td>\n",
       "      <td>1.0</td>\n",
       "      <td>0.76</td>\n",
       "    </tr>\n",
       "    <tr>\n",
       "      <th>2</th>\n",
       "      <td>316.0</td>\n",
       "      <td>104.0</td>\n",
       "      <td>3.0</td>\n",
       "      <td>3.0</td>\n",
       "      <td>3.5</td>\n",
       "      <td>8.00</td>\n",
       "      <td>1.0</td>\n",
       "      <td>0.72</td>\n",
       "    </tr>\n",
       "    <tr>\n",
       "      <th>3</th>\n",
       "      <td>322.0</td>\n",
       "      <td>110.0</td>\n",
       "      <td>3.0</td>\n",
       "      <td>3.5</td>\n",
       "      <td>2.5</td>\n",
       "      <td>8.67</td>\n",
       "      <td>1.0</td>\n",
       "      <td>0.80</td>\n",
       "    </tr>\n",
       "    <tr>\n",
       "      <th>4</th>\n",
       "      <td>314.0</td>\n",
       "      <td>103.0</td>\n",
       "      <td>2.0</td>\n",
       "      <td>2.0</td>\n",
       "      <td>3.0</td>\n",
       "      <td>8.21</td>\n",
       "      <td>0.0</td>\n",
       "      <td>0.65</td>\n",
       "    </tr>\n",
       "    <tr>\n",
       "      <th>...</th>\n",
       "      <td>...</td>\n",
       "      <td>...</td>\n",
       "      <td>...</td>\n",
       "      <td>...</td>\n",
       "      <td>...</td>\n",
       "      <td>...</td>\n",
       "      <td>...</td>\n",
       "      <td>...</td>\n",
       "    </tr>\n",
       "    <tr>\n",
       "      <th>9595</th>\n",
       "      <td>325.0</td>\n",
       "      <td>105.0</td>\n",
       "      <td>4.0</td>\n",
       "      <td>4.0</td>\n",
       "      <td>2.0</td>\n",
       "      <td>9.00</td>\n",
       "      <td>1.0</td>\n",
       "      <td>0.64</td>\n",
       "    </tr>\n",
       "    <tr>\n",
       "      <th>9596</th>\n",
       "      <td>333.0</td>\n",
       "      <td>102.0</td>\n",
       "      <td>4.0</td>\n",
       "      <td>4.0</td>\n",
       "      <td>4.0</td>\n",
       "      <td>9.00</td>\n",
       "      <td>0.0</td>\n",
       "      <td>0.46</td>\n",
       "    </tr>\n",
       "    <tr>\n",
       "      <th>9597</th>\n",
       "      <td>338.0</td>\n",
       "      <td>110.0</td>\n",
       "      <td>3.0</td>\n",
       "      <td>3.0</td>\n",
       "      <td>5.0</td>\n",
       "      <td>8.00</td>\n",
       "      <td>1.0</td>\n",
       "      <td>0.67</td>\n",
       "    </tr>\n",
       "    <tr>\n",
       "      <th>9598</th>\n",
       "      <td>314.0</td>\n",
       "      <td>110.0</td>\n",
       "      <td>3.0</td>\n",
       "      <td>2.0</td>\n",
       "      <td>3.0</td>\n",
       "      <td>8.00</td>\n",
       "      <td>0.0</td>\n",
       "      <td>0.57</td>\n",
       "    </tr>\n",
       "    <tr>\n",
       "      <th>9599</th>\n",
       "      <td>300.0</td>\n",
       "      <td>105.0</td>\n",
       "      <td>4.0</td>\n",
       "      <td>4.0</td>\n",
       "      <td>2.0</td>\n",
       "      <td>10.00</td>\n",
       "      <td>0.0</td>\n",
       "      <td>0.56</td>\n",
       "    </tr>\n",
       "  </tbody>\n",
       "</table>\n",
       "<p>10000 rows × 8 columns</p>\n",
       "</div>"
      ],
      "text/plain": [
       "      GRE Score  TOEFL Score  University Rating  SOP  LOR    CGPA  Research   \n",
       "0         337.0        118.0                4.0  4.5   4.5   9.65       1.0  \\\n",
       "1         324.0        107.0                4.0  4.0   4.5   8.87       1.0   \n",
       "2         316.0        104.0                3.0  3.0   3.5   8.00       1.0   \n",
       "3         322.0        110.0                3.0  3.5   2.5   8.67       1.0   \n",
       "4         314.0        103.0                2.0  2.0   3.0   8.21       0.0   \n",
       "...         ...          ...                ...  ...   ...    ...       ...   \n",
       "9595      325.0        105.0                4.0  4.0   2.0   9.00       1.0   \n",
       "9596      333.0        102.0                4.0  4.0   4.0   9.00       0.0   \n",
       "9597      338.0        110.0                3.0  3.0   5.0   8.00       1.0   \n",
       "9598      314.0        110.0                3.0  2.0   3.0   8.00       0.0   \n",
       "9599      300.0        105.0                4.0  4.0   2.0  10.00       0.0   \n",
       "\n",
       "      Chance of Admit   \n",
       "0                 0.92  \n",
       "1                 0.76  \n",
       "2                 0.72  \n",
       "3                 0.80  \n",
       "4                 0.65  \n",
       "...                ...  \n",
       "9595              0.64  \n",
       "9596              0.46  \n",
       "9597              0.67  \n",
       "9598              0.57  \n",
       "9599              0.56  \n",
       "\n",
       "[10000 rows x 8 columns]"
      ]
     },
     "execution_count": 242,
     "metadata": {},
     "output_type": "execute_result"
    }
   ],
   "source": [
    "#col_categoricas('./Data/data01_admision_UNI.csv')\n",
    "data=tratadoDatos('./Data/data01_admision_UNI.csv',[],[0])\n",
    "data=DatosSinteticos(data,9600,7)\n",
    "data"
   ]
  },
  {
   "cell_type": "code",
   "execution_count": 243,
   "metadata": {},
   "outputs": [],
   "source": [
    "#separar columna objetivo del dataFrame para X  y asignar objetivo a Y\n",
    "def segmentacion(data,columnay):\n",
    "    X = data.drop(columnay, axis=1)\n",
    "    y = data[columnay]\n",
    "    X_entre, X_prueba, y_entre, y_prueba = train_test_split(X, y, test_size=0.2, random_state=42)\n",
    "    return X_entre.to_numpy(), y_entre.to_numpy(),X_prueba.to_numpy(),y_prueba.to_numpy()"
   ]
  },
  {
   "cell_type": "code",
   "execution_count": 244,
   "metadata": {},
   "outputs": [
    {
     "name": "stdout",
     "output_type": "stream",
     "text": [
      "Index(['GRE Score', 'TOEFL Score', 'University Rating', 'SOP', 'LOR ', 'CGPA',\n",
      "       'Research', 'Chance of Admit '],\n",
      "      dtype='object')\n"
     ]
    }
   ],
   "source": [
    "print(data.columns)"
   ]
  },
  {
   "cell_type": "code",
   "execution_count": 245,
   "metadata": {},
   "outputs": [
    {
     "name": "stdout",
     "output_type": "stream",
     "text": [
      "Entrenamiento: (8000, 7) (8000,) Prueba: (2000, 7) (2000,)\n",
      "[330. 114.   3.   2.   4.   9.   1.] [0.64 0.76 0.72 ... 0.84 0.94 0.73]\n"
     ]
    }
   ],
   "source": [
    "X_entre,y_entre,X_prueba,y_prueba=segmentacion(data,\"Chance of Admit \")\n",
    "print('Entrenamiento:',X_entre.shape,y_entre.shape,'Prueba:',X_prueba.shape,y_prueba.shape)\n",
    "print(X_entre[0],y_entre)"
   ]
  },
  {
   "cell_type": "code",
   "execution_count": 246,
   "metadata": {},
   "outputs": [
    {
     "name": "stdout",
     "output_type": "stream",
     "text": [
      "[ 1.          1.12420475  1.07707193 -0.07595584 -1.38084645  0.59121236\n",
      "  0.61217804  0.91416872]\n"
     ]
    }
   ],
   "source": [
    "m=y_entre.size\n",
    "me=y_prueba.size\n",
    "# Normalizar datos \n",
    "X_norm, mu, sigma = featureNormalize(X_entre)\n",
    "X_entre = np.concatenate([np.ones((m, 1)), X_norm], axis=1)\n",
    "\n",
    "X_prueba = np.concatenate([np.ones((me, 1)), X_prueba], axis=1)\n",
    "print(X_entre[0])"
   ]
  },
  {
   "cell_type": "code",
   "execution_count": 247,
   "metadata": {},
   "outputs": [
    {
     "data": {
      "text/plain": [
       "Text(0, 0.5, 'Costo J')"
      ]
     },
     "execution_count": 247,
     "metadata": {},
     "output_type": "execute_result"
    },
    {
     "data": {
      "image/png": "[encoded data removed]",
      "text/plain": [
       "<Figure size 640x480 with 1 Axes>"
      ]
     },
     "metadata": {},
     "output_type": "display_data"
    }
   ],
   "source": [
    "#Generar grafica de funcion de costo\n",
    "alpha = 0.001 # alpha 0.001 mejor valor\n",
    "num_iters = 10000\n",
    "\n",
    "# inicializa theta y ejecuta el descenso por el gradiente\n",
    "theta = np.zeros(8)\n",
    "theta, J_history = gradientDescentMulti(X_entre, y_entre, theta, alpha, num_iters)\n",
    "\n",
    "# Grafica la convergencia del costo\n",
    "pyplot.plot(np.arange(len(J_history)), J_history, lw=2)\n",
    "pyplot.xlabel('Numero de iteraciones')\n",
    "pyplot.ylabel('Costo J')\n"
   ]
  },
  {
   "cell_type": "code",
   "execution_count": 256,
   "metadata": {},
   "outputs": [
    {
     "name": "stdout",
     "output_type": "stream",
     "text": [
      "theta calculado por descenso de gradiente: [0.7250625  0.0026755  0.00195931 0.00280941 0.0038221  0.00415437\n",
      " 0.0017453  0.00430377]\n",
      "Prediccion esperada: 0.65\n",
      "[[334. 110.   3.   4.   2.   9.   0.]]\n",
      "Probabilidad de admision a la U : %72.172\n"
     ]
    }
   ],
   "source": [
    "#Prueba de predicciones \n",
    "\n",
    "print('theta calculado por descenso de gradiente: {:s}'.format(str(theta)))\n",
    "fila=89\n",
    "Xp =X_prueba[fila:fila+1,:].copy()\n",
    "print('Prediccion esperada:',y_entre[fila])\n",
    "print(Xp[:,1:])\n",
    "Xp[:,1:] = (Xp[:,1:] - mu) / sigma\n",
    "price = np.dot(Xp, theta)   # Se debe cambiar esto\n",
    "#print(price[0])\n",
    "print('Probabilidad de admision a la U : %{:.3f}'.format(price[0]*100))\n"
   ]
  },
  {
   "attachments": {},
   "cell_type": "markdown",
   "metadata": {},
   "source": [
    "### ecuacion de la Normal"
   ]
  },
  {
   "cell_type": "code",
   "execution_count": 249,
   "metadata": {},
   "outputs": [],
   "source": [
    "def normalEqn(X, y):\n",
    "  \n",
    "    theta = np.zeros(X.shape[1])\n",
    "    \n",
    "    theta = np.dot(np.dot(np.linalg.inv(np.dot(X.T,X)),X.T),y)\n",
    "    \n",
    "    return theta"
   ]
  },
  {
   "cell_type": "code",
   "execution_count": 253,
   "metadata": {},
   "outputs": [
    {
     "name": "stdout",
     "output_type": "stream",
     "text": [
      "Theta calculado a partir de la ecuación de la normal: [0.7250625  0.0026755  0.00195931 0.00280941 0.0038221  0.00415437\n",
      " 0.0017453  0.00430377]\n"
     ]
    }
   ],
   "source": [
    "# Calcula los parametros con la ecuación de la normal\n",
    "theta_normal = normalEqn(X_entre, y_entre);\n",
    "\n",
    "# Muestra los resultados optenidos a partir de la aplicación de la ecuación de la normal\n",
    "print('Theta calculado a partir de la ecuación de la normal: {:s}'.format(str(theta_normal)));\n"
   ]
  },
  {
   "cell_type": "code",
   "execution_count": 255,
   "metadata": {},
   "outputs": [
    {
     "name": "stdout",
     "output_type": "stream",
     "text": [
      "Prediccion esperada: 0.65\n",
      "[[334. 110.   3.   4.   2.   9.   0.]]\n",
      "Probabilidad de admision a la U: %72.172\n"
     ]
    }
   ],
   "source": [
    "\n",
    "# EPrediccion usando la acuacion de la normal\n",
    "fila=89\n",
    "Xp =X_prueba[fila:fila+1,:].copy()\n",
    "print('Prediccion esperada:',y_entre[fila])\n",
    "print(Xp[:,1:])\n",
    "Xp[:,1:] = (Xp[:,1:] - mu) / sigma\n",
    "price = np.dot(Xp, theta_normal)   # Se debe cambiar esto\n",
    " \n",
    "print('Probabilidad de admision a la U: %{:.3f}'.format(price[0]*100))"
   ]
  }
 ],
 "metadata": {
  "kernelspec": {
   "display_name": "Python 3",
   "language": "python",
   "name": "python3"
  },
  "language_info": {
   "codemirror_mode": {
    "name": "ipython",
    "version": 3
   },
   "file_extension": ".py",
   "mimetype": "text/x-python",
   "name": "python",
   "nbconvert_exporter": "python",
   "pygments_lexer": "ipython3",
   "version": "3.10.11"
  },
  "orig_nbformat": 4
 },
 "nbformat": 4,
 "nbformat_minor": 2
}
