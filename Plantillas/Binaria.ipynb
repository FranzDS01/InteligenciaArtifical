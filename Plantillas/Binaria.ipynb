{
 "cells": [
  {
   "cell_type": "code",
   "execution_count": 2,
   "metadata": {},
   "outputs": [],
   "source": [
    "import os\n",
    "import numpy as np\n",
    "import pandas as pd\n",
    "import random\n",
    "from matplotlib import pyplot\n",
    "from scipy import optimize\n",
    "from scipy.io import loadmat\n",
    "from sklearn.model_selection import train_test_split\n",
    "%matplotlib inline"
   ]
  },
  {
   "attachments": {},
   "cell_type": "markdown",
   "metadata": {},
   "source": [
    "### Tratado de los datos "
   ]
  },
  {
   "cell_type": "code",
   "execution_count": 3,
   "metadata": {},
   "outputs": [],
   "source": [
    "def tratadoDatos(dataset,modificarColumnas,eliminarColumnas):\n",
    "    data =pd.read_csv(dataset,encoding='latin-1')\n",
    "    columna = data.columns\n",
    "    for index in modificarColumnas:\n",
    "        name = columna[index]\n",
    "        value = list(data[name].unique())\n",
    "        data[name] = data[name].map(dict(zip(value,[i for i in range(len(value))])))\n",
    "    #print(data.head())\n",
    "    data = data.drop([columna[index]for index in eliminarColumnas], axis=1)\n",
    "    valor_media=data.select_dtypes(include=['number']).mean()\n",
    "    data = data.fillna(valor_media.round(2))\n",
    "    return data"
   ]
  },
  {
   "cell_type": "code",
   "execution_count": 4,
   "metadata": {},
   "outputs": [],
   "source": [
    "def DatosSinteticos(data,listaData,n_filas,clases):\n",
    "    nuevos_datos=np.empty([n_filas,len(data.columns)])\n",
    "    ColmunaY = np.random.randint(0,clases, n_filas)\n",
    "    #print(ColmunaY)\n",
    "    for i in range(len(data.columns)-1):\n",
    "        for j in range(0,n_filas):\n",
    "            pos=ColmunaY[j]\n",
    "            columna_i =listaData[pos].iloc[:,i]\n",
    "            muestras_i=np.random.choice(columna_i,1,replace=True)\n",
    "\n",
    "            pro_cambio = random.random()\n",
    "            decision = random.randint(0, 1)\n",
    "            if pro_cambio < 0.2:\n",
    "               muestras_i = muestras_i + pro_cambio if decision == 0 else muestras_i - pro_cambio\n",
    "\n",
    "            if(i == 0):\n",
    "                muestras_i=muestras_i.round(5)\n",
    "            else:\n",
    "                muestras_i=muestras_i.round(2)\n",
    "            #np.random.seed()\n",
    "            nuevos_datos[j:,i]=muestras_i\n",
    "            nuevos_datos[j:,len(data.columns)-1]=ColmunaY[j]\n",
    "    columnas =list(data.columns)\n",
    "    print(nuevos_datos)\n",
    "    nuevos_datos_data=pd.DataFrame(nuevos_datos,columns=columnas)\n",
    "    dataExtend =pd.concat([data,nuevos_datos_data],axis=0)\n",
    "    #print(dataExtend.tail())\n",
    "    return dataExtend"
   ]
  },
  {
   "cell_type": "code",
   "execution_count": 5,
   "metadata": {},
   "outputs": [],
   "source": [
    "def listaDataframes(data,clases,columna_y):\n",
    "    ListaData=[]\n",
    "    for i in range(0,clases):\n",
    "        ListaData.append(data[data[columna_y] == i])\n",
    "    return ListaData"
   ]
  },
  {
   "cell_type": "code",
   "execution_count": 6,
   "metadata": {},
   "outputs": [],
   "source": [
    "def col_categoricas(ruta):\n",
    "    data =pd.read_csv(ruta)\n",
    "    columnas_numericas = data.select_dtypes(include=['object'])\n",
    "    col_numericas = np.array([data.columns.get_loc(col) for col in columnas_numericas.columns])\n",
    "    return col_numericas"
   ]
  },
  {
   "cell_type": "code",
   "execution_count": 7,
   "metadata": {},
   "outputs": [],
   "source": [
    "def num_clasificaciones(data,columnay):\n",
    "    value = list(data[columnay].unique())\n",
    "    print(\"clases :\",value)\n",
    "    print('Cantidad:',len(value))\n",
    "    data.info()"
   ]
  },
  {
   "cell_type": "code",
   "execution_count": 8,
   "metadata": {},
   "outputs": [],
   "source": [
    "def reorganizarDataset(data, posicion_columna):\n",
    "    # Obtener el nombre de la columna a mover\n",
    "    nombre_columna = data.columns[posicion_columna]\n",
    "\n",
    "    # Crear una lista con las columnas en el nuevo orden\n",
    "    columnas_nuevas = list(data.columns[:posicion_columna]) + list(data.columns[posicion_columna+1:]) + [nombre_columna]\n",
    "    \n",
    "    # Crear un nuevo DataFrame con las columnas reorganizadas\n",
    "    data_reorganizado = data[columnas_nuevas]\n",
    "    \n",
    "    return data_reorganizado"
   ]
  },
  {
   "attachments": {},
   "cell_type": "markdown",
   "metadata": {},
   "source": [
    "### Algortimo Descenso de Gradiente Clasificacion Binaria"
   ]
  },
  {
   "cell_type": "code",
   "execution_count": 9,
   "metadata": {},
   "outputs": [],
   "source": [
    "def sigmoid(z):\n",
    "    # Calcula la sigmoide de una entrada z\n",
    "    # convierte la intrada a un arreglo numpy\n",
    "    z = np.array(z)\n",
    "  \n",
    "    g = np.zeros(z.shape)\n",
    "\n",
    "    g = 1 / (1 + np.exp(-z))\n",
    "\n",
    "    return g"
   ]
  },
  {
   "cell_type": "code",
   "execution_count": 10,
   "metadata": {},
   "outputs": [],
   "source": [
    "def calcularCosto(theta, X, y):\n",
    "    # Inicializar algunos valores utiles\n",
    "    m = y.size  # numero de ejemplos de entrenamiento\n",
    "\n",
    "    J = 0\n",
    "    h = sigmoid(X.dot(theta.T))\n",
    "    J = (1 / m) * np.sum(-y.dot(np.log(h)) - (1 - y).dot(np.log(1 - h)))\n",
    "    \n",
    "    return J"
   ]
  },
  {
   "cell_type": "code",
   "execution_count": 11,
   "metadata": {},
   "outputs": [],
   "source": [
    "def descensoGradiente(theta, X, y, alpha, num_iters):\n",
    "    # Inicializa algunos valores\n",
    "    m = y.shape[0] # numero de ejemplos de entrenamiento\n",
    "    \n",
    "    # realiza una copia de theta, el cual será acutalizada por el descenso por el gradiente\n",
    "    theta = theta.copy()\n",
    "    J_history = []\n",
    "    \n",
    "    for i in range(num_iters):\n",
    "        h = sigmoid(X.dot(theta.T))\n",
    "        theta = theta - (alpha / m) * (h - y).dot(X)\n",
    "       \n",
    "        J_history.append(calcularCosto(theta, X, y))\n",
    "    return theta, J_history"
   ]
  },
  {
   "attachments": {},
   "cell_type": "markdown",
   "metadata": {},
   "source": [
    "###  Clasificacion Binaria usando `scipy.optimize`\n",
    "En el codigo anterior se encontró los parámetros óptimos usanod el modelo de regresion lineal al implementar el descenso de gradinte\n",
    "ahora se va usar la bilblioteca de scipy.optimize ,Proporciona un módulo de optimización para la búsqueda y minimización de raíces. A partir de `scipy 1.0`, la función` scipy.optimize.minimize` es el método a utilizar para problemas de optimización (tanto restringidos como no restringidos)."
   ]
  },
  {
   "cell_type": "code",
   "execution_count": 12,
   "metadata": {},
   "outputs": [],
   "source": [
    "def costFunction(theta, X, y):\n",
    "    # Inicializar algunos valores utiles\n",
    "    m = y.size  # numero de ejemplos de entrenamiento\n",
    "\n",
    "    J = 0\n",
    "    grad = np.zeros(theta.shape)\n",
    "\n",
    "    h = sigmoid(X.dot(theta.T))\n",
    "    \n",
    "    J = (1 / m) * np.sum(-y.dot(np.log(h)) - (1 - y).dot(np.log(1 - h)))\n",
    "    grad = (1 / m) * (h - y).dot(X)\n",
    "    \n",
    "    return J, grad"
   ]
  },
  {
   "cell_type": "code",
   "execution_count": 13,
   "metadata": {},
   "outputs": [],
   "source": [
    "# Inicializacion de parametros de ajuste\n",
    "def parametro_de_aprendisaje(X,y,n):\n",
    "    initial_theta = np.zeros(n+1)\n",
    "    print(initial_theta)\n",
    "    cost, grad = costFunction(initial_theta, X, y)\n",
    "    return cost, grad,initial_theta\n"
   ]
  },
  {
   "cell_type": "code",
   "execution_count": 46,
   "metadata": {},
   "outputs": [],
   "source": [
    "# Establecer las opciones para optimize.minimize\n",
    "def funcionOptimize(initial_theta,X,y):\n",
    "    options= {'maxfun': 1000}\n",
    "\n",
    "    # revisar la documentacion de scipy's optimize.minimize para mayor descripcion de los parametros\n",
    "    # La funcion devuekve un objeto `OptimizeResult`\n",
    "    # Se utiliza el algoritmo de Newton truncado para la optimización.\n",
    "    res = optimize.minimize(costFunction,\n",
    "                            initial_theta,\n",
    "                            (X, y),\n",
    "                            jac=True,\n",
    "                            method='TNC',\n",
    "                            options=options)\n",
    "\n",
    "    # la propiedad fun del objeto devuelto por `OptimizeResult`\n",
    "    # contiene el valor del costFunction de un theta optimizado\n",
    "    cost = res.fun\n",
    "\n",
    "    # Theta optimizada esta en la propiedad x\n",
    "    theta = res.x\n",
    "\n",
    "    # Imprimir theta en la pantalla\n",
    "    print('Costo con un valor de theta encontrado por optimize.minimize: {:.3f}'.format(cost))\n",
    "\n",
    "    print('theta:')\n",
    "    #print('\\t[{:.3f},]'.format(*theta))\n",
    "    print(theta)\n",
    "    return cost,theta\n"
   ]
  },
  {
   "cell_type": "code",
   "execution_count": 15,
   "metadata": {},
   "outputs": [],
   "source": [
    "#evaluacion dela regresion logistica\n",
    "def predict(theta, X):\n",
    "    \"\"\"\n",
    "    Predecir si la etiqueta es 0 o 1 mediante regresión logística aprendida.\n",
    "    Calcula las predicciones para X usando un umbral en 0.5 (es decir, si sigmoide (theta.T * x)> = 0.5, predice 1)\n",
    "\n",
    "    Parametros\n",
    "    ----------\n",
    "    theta : array_like\n",
    "        Parametros para regresion logistica. Un vecto de la forma (n+1, ).\n",
    "    \n",
    "    X : array_like\n",
    "        Datos utilizados para el calculo de las predicciones. \n",
    "        La fila es el numero de los puntos para calcular las predicciones, \n",
    "        y las columnas con el numero de caracteristicas.\n",
    "\n",
    "    Devuelve\n",
    "    -------\n",
    "    p : array_like\n",
    "        Predicciones y 0 o 1 para cada fila en X. \n",
    "    \"\"\"\n",
    "    m = X.shape[0] # Numero de ejemplo de entrenamiento\n",
    "\n",
    "    p = np.zeros(m)\n",
    "\n",
    "    p = np.round(sigmoid(X.dot(theta.T)))\n",
    "    return p"
   ]
  },
  {
   "attachments": {},
   "cell_type": "markdown",
   "metadata": {},
   "source": [
    "### Preparar Dataset"
   ]
  },
  {
   "cell_type": "code",
   "execution_count": 23,
   "metadata": {},
   "outputs": [
    {
     "name": "stdout",
     "output_type": "stream",
     "text": [
      "clases : ['neutral or dissatisfied', 'satisfied']\n",
      "Cantidad: 2\n",
      "<class 'pandas.core.frame.DataFrame'>\n",
      "RangeIndex: 103904 entries, 0 to 103903\n",
      "Data columns (total 25 columns):\n",
      " #   Column                             Non-Null Count   Dtype  \n",
      "---  ------                             --------------   -----  \n",
      " 0   Unnamed: 0                         103904 non-null  int64  \n",
      " 1   id                                 103904 non-null  int64  \n",
      " 2   Gender                             103904 non-null  object \n",
      " 3   Customer Type                      103904 non-null  object \n",
      " 4   Age                                103904 non-null  int64  \n",
      " 5   Type of Travel                     103904 non-null  object \n",
      " 6   Class                              103904 non-null  object \n",
      " 7   Flight Distance                    103904 non-null  int64  \n",
      " 8   Inflight wifi service              103904 non-null  int64  \n",
      " 9   Departure/Arrival time convenient  103904 non-null  int64  \n",
      " 10  Ease of Online booking             103904 non-null  int64  \n",
      " 11  Gate location                      103904 non-null  int64  \n",
      " 12  Food and drink                     103904 non-null  int64  \n",
      " 13  Online boarding                    103904 non-null  int64  \n",
      " 14  Seat comfort                       103904 non-null  int64  \n",
      " 15  Inflight entertainment             103904 non-null  int64  \n",
      " 16  On-board service                   103904 non-null  int64  \n",
      " 17  Leg room service                   103904 non-null  int64  \n",
      " 18  Baggage handling                   103904 non-null  int64  \n",
      " 19  Checkin service                    103904 non-null  int64  \n",
      " 20  Inflight service                   103904 non-null  int64  \n",
      " 21  Cleanliness                        103904 non-null  int64  \n",
      " 22  Departure Delay in Minutes         103904 non-null  int64  \n",
      " 23  Arrival Delay in Minutes           103594 non-null  float64\n",
      " 24  satisfaction                       103904 non-null  object \n",
      "dtypes: float64(1), int64(19), object(5)\n",
      "memory usage: 19.8+ MB\n"
     ]
    }
   ],
   "source": [
    "data=pd.read_csv('./Data/data03_entrenamiento_satisfacion_servisio_aerolinea.csv')\n",
    "#data.info()\n",
    "num_clasificaciones(data,'satisfaction')"
   ]
  },
  {
   "cell_type": "code",
   "execution_count": 25,
   "metadata": {},
   "outputs": [
    {
     "name": "stdout",
     "output_type": "stream",
     "text": [
      "<class 'pandas.core.frame.DataFrame'>\n",
      "RangeIndex: 103904 entries, 0 to 103903\n",
      "Data columns (total 22 columns):\n",
      " #   Column                             Non-Null Count   Dtype  \n",
      "---  ------                             --------------   -----  \n",
      " 0   Gender                             103904 non-null  int64  \n",
      " 1   Customer Type                      103904 non-null  int64  \n",
      " 2   Age                                103904 non-null  int64  \n",
      " 3   Type of Travel                     103904 non-null  int64  \n",
      " 4   Class                              103904 non-null  int64  \n",
      " 5   Flight Distance                    103904 non-null  int64  \n",
      " 6   Inflight wifi service              103904 non-null  int64  \n",
      " 7   Departure/Arrival time convenient  103904 non-null  int64  \n",
      " 8   Ease of Online booking             103904 non-null  int64  \n",
      " 9   Food and drink                     103904 non-null  int64  \n",
      " 10  Online boarding                    103904 non-null  int64  \n",
      " 11  Seat comfort                       103904 non-null  int64  \n",
      " 12  Inflight entertainment             103904 non-null  int64  \n",
      " 13  On-board service                   103904 non-null  int64  \n",
      " 14  Leg room service                   103904 non-null  int64  \n",
      " 15  Baggage handling                   103904 non-null  int64  \n",
      " 16  Checkin service                    103904 non-null  int64  \n",
      " 17  Inflight service                   103904 non-null  int64  \n",
      " 18  Cleanliness                        103904 non-null  int64  \n",
      " 19  Departure Delay in Minutes         103904 non-null  int64  \n",
      " 20  Arrival Delay in Minutes           103904 non-null  float64\n",
      " 21  satisfaction                       103904 non-null  int64  \n",
      "dtypes: float64(1), int64(21)\n",
      "memory usage: 17.4 MB\n"
     ]
    }
   ],
   "source": [
    "#data = data.fillna(data.mean)\n",
    "#data['salario'] = data['salario'].fillna(100) #esto es para rellenar valores nulos en una columna especifica\n",
    "rutadatset='./Data/data03_entrenamiento_satisfacion_servisio_aerolinea.csv'\n",
    "col_categoricas(rutadatset)\n",
    "data=tratadoDatos(rutadatset,[ 2,  3,  5,  6, 24],[0,1,11])\n",
    "data.info()"
   ]
  },
  {
   "cell_type": "code",
   "execution_count": 26,
   "metadata": {},
   "outputs": [],
   "source": [
    "#num_clasificaciones(data,'Segmentation')\n",
    "#Reorganizar las columnas\n",
    "#datar=reorganizarDataset(data,8)\n",
    "#datar.head()\n",
    "#Listadata=listaDataframes(data,4,'Segmentation')\n",
    "#data=DatosSinteticos(data,Listadata,5000,4)\n",
    "#generar un nuevo archivo cvs del nuevo dataset con datos sinteticos\n",
    "#data.to_csv('TrainSinteticos.csv',index=False)"
   ]
  },
  {
   "cell_type": "code",
   "execution_count": 27,
   "metadata": {},
   "outputs": [],
   "source": [
    "#separar columna objetivo del dataFrame para X  y asignar objetivo a Y\n",
    "def segmantacion(data,columnay):\n",
    "    X = data.drop(columnay, axis=1)\n",
    "    y = data[columnay]\n",
    "    X_entre, X_prueba, y_entre, y_prueba = train_test_split(X, y, test_size=0.2, random_state=42)\n",
    "    return X_entre.to_numpy(), y_entre.to_numpy(),X_prueba.to_numpy(),y_prueba.to_numpy()"
   ]
  },
  {
   "cell_type": "code",
   "execution_count": 28,
   "metadata": {},
   "outputs": [
    {
     "name": "stdout",
     "output_type": "stream",
     "text": [
      "Entrenamiento: (83123, 21) (83123,) Prueba: (20781, 21) (20781,)\n",
      "[1.000e+00 1.000e+00 0.000e+00 5.900e+01 0.000e+00 2.000e+00 1.046e+03\n",
      " 4.000e+00 5.000e+00 4.000e+00 5.000e+00 4.000e+00 5.000e+00 2.000e+00\n",
      " 2.000e+00 4.000e+00 3.000e+00 5.000e+00 2.000e+00 4.000e+00 1.200e+01\n",
      " 3.000e+00]\n"
     ]
    }
   ],
   "source": [
    "X_entre,y_entre,X_prueba,y_prueba=segmantacion(data,'satisfaction')\n",
    "num_labels = 4\n",
    "print('Entrenamiento:',X_entre.shape,y_entre.shape,'Prueba:',X_prueba.shape,y_prueba.shape)\n",
    "\n",
    "#concatenar el 1 en X de entramiento\n",
    "m, n = X_entre.shape\n",
    "me=X_prueba.shape[0]\n",
    "# Agraga el termino de intercepción a A\n",
    "X_entre = np.concatenate([np.ones((m, 1)), X_entre], axis=1)\n",
    "X_prueba = np.concatenate([np.ones((me, 1)), X_prueba], axis=1)\n",
    "print(X_entre[0])"
   ]
  },
  {
   "attachments": {},
   "cell_type": "markdown",
   "metadata": {},
   "source": [
    "### Resultados usando descenso por gradiente"
   ]
  },
  {
   "cell_type": "code",
   "execution_count": 32,
   "metadata": {},
   "outputs": [
    {
     "name": "stdout",
     "output_type": "stream",
     "text": [
      "0.6891788605088415\n"
     ]
    },
    {
     "data": {
      "text/plain": [
       "Text(0, 0.5, 'Costo J')"
      ]
     },
     "execution_count": 32,
     "metadata": {},
     "output_type": "execute_result"
    },
    {
     "data": {
      "image/png": "[encoded data removed]",
      "text/plain": [
       "<Figure size 640x480 with 1 Axes>"
      ]
     },
     "metadata": {},
     "output_type": "display_data"
    }
   ],
   "source": [
    "# Elegir algun valor para alpha (probar varias alternativas)\n",
    "alpha = 0.000000003\n",
    "num_iters = 2500\n",
    "\n",
    "# inicializa theta y ejecuta el descenso por el gradiente\n",
    "theta = np.zeros(22)\n",
    "theta, J_history = descensoGradiente(theta, X_entre, y_entre, alpha, num_iters)\n",
    "print(J_history[-1])\n",
    "# Grafica la convergencia del costo\n",
    "pyplot.plot(np.arange(len(J_history)), J_history, lw=2)\n",
    "pyplot.xlabel('Numero de iteraciones')\n",
    "pyplot.ylabel('Costo J')"
   ]
  },
  {
   "cell_type": "code",
   "execution_count": 43,
   "metadata": {},
   "outputs": [
    {
     "name": "stdout",
     "output_type": "stream",
     "text": [
      "valor esperado : 0\n",
      "prediccion (usando el descenso por el gradiente) [0.52982862]\n",
      "prediccion falso o verdadero es (usando el descenso por el gradiente):1\n"
     ]
    }
   ],
   "source": [
    "#prediccion para un valor\n",
    "fila=69\n",
    "Xp=X_prueba[fila:fila+1,:].copy()\n",
    "print(\"valor esperado :\",y_prueba[5])\n",
    "aprueba = sigmoid(np.dot(Xp, theta))   # Se debe cambiar esto\n",
    "print('prediccion (usando el descenso por el gradiente)',aprueba)\n",
    "print('prediccion falso o verdadero es (usando el descenso por el gradiente):{:.0f}'.format(np.squeeze(aprueba)))\n"
   ]
  },
  {
   "attachments": {},
   "cell_type": "markdown",
   "metadata": {},
   "source": [
    "### Resultados usando Optimizee de cypes.optimize"
   ]
  },
  {
   "cell_type": "code",
   "execution_count": 48,
   "metadata": {},
   "outputs": [
    {
     "name": "stdout",
     "output_type": "stream",
     "text": [
      "[0. 0. 0. 0. 0. 0. 0. 0. 0. 0. 0. 0. 0. 0. 0. 0. 0. 0. 0. 0. 0. 0.]\n",
      "Costo con un valor de theta encontrado por optimize.minimize: 0.338\n",
      "theta:\n",
      "[-9.23929266e+00 -6.25828575e-02 -2.03244262e+00 -7.55717050e-03\n",
      "  3.05194243e+00 -1.92803706e-01  8.71159940e-05  3.40604372e-01\n",
      " -1.11009740e-01 -1.21570154e-01 -1.51631563e-02  6.39660908e-01\n",
      "  8.91748081e-02  2.69581034e-02  3.30614048e-01  2.58483836e-01\n",
      "  1.54269636e-01  3.37513814e-01  1.40479039e-01  2.14833196e-01\n",
      "  4.40942486e-03 -9.29881129e-03]\n",
      "valor esperado : 0\n",
      "Prediccion : 0.014%\n",
      "Precisión de entrenamiento: 87.32 %\n"
     ]
    }
   ],
   "source": [
    "cost,grad,initial_theta=parametro_de_aprendisaje(X_entre,y_entre,n)\n",
    "costo,theta=funcionOptimize(initial_theta,X_entre,y_entre)\n",
    "print(\"valor esperado :\",y_prueba[5])\n",
    "prob = sigmoid(np.dot(Xp, theta))\n",
    "print('Prediccion : {:.3f}%'.format(np.squeeze(prob)))\n",
    "\n",
    "# Compute accuracy on our training set\n",
    "p = predict(theta, X_entre)\n",
    "print('Precisión de entrenamiento: {:.2f} %'.format(np.mean(p == y_entre) * 100))\n",
    "\n",
    "#print(Xp)"
   ]
  },
  {
   "attachments": {},
   "cell_type": "markdown",
   "metadata": {},
   "source": []
  }
 ],
 "metadata": {
  "kernelspec": {
   "display_name": "Python 3",
   "language": "python",
   "name": "python3"
  },
  "language_info": {
   "codemirror_mode": {
    "name": "ipython",
    "version": 3
   },
   "file_extension": ".py",
   "mimetype": "text/x-python",
   "name": "python",
   "nbconvert_exporter": "python",
   "pygments_lexer": "ipython3",
   "version": "3.10.11"
  },
  "orig_nbformat": 4
 },
 "nbformat": 4,
 "nbformat_minor": 2
}
