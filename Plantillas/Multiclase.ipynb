{
 "cells": [
  {
   "cell_type": "code",
   "execution_count": 165,
   "metadata": {},
   "outputs": [],
   "source": [
    "import os\n",
    "import numpy as np\n",
    "import pandas as pd\n",
    "import random\n",
    "from matplotlib import pyplot\n",
    "from scipy import optimize\n",
    "from scipy.io import loadmat\n",
    "from sklearn.model_selection import train_test_split\n",
    "%matplotlib inline"
   ]
  },
  {
   "attachments": {},
   "cell_type": "markdown",
   "metadata": {},
   "source": [
    "### Tratado de los datos "
   ]
  },
  {
   "cell_type": "code",
   "execution_count": 166,
   "metadata": {},
   "outputs": [],
   "source": [
    "def tratadoDatos(dataset,modificarColumnas,eliminarColumnas):\n",
    "    data =pd.read_csv(dataset,encoding='latin-1')\n",
    "    columna = data.columns\n",
    "    for index in modificarColumnas:\n",
    "        name = columna[index]\n",
    "        value = list(data[name].unique())\n",
    "        data[name] = data[name].map(dict(zip(value,[i for i in range(len(value))])))\n",
    "    #print(data.head())\n",
    "    data = data.drop([columna[index]for index in eliminarColumnas], axis=1)\n",
    "    valor_media=data.select_dtypes(include=['number']).mean()\n",
    "    data = data.fillna(valor_media.round(2))\n",
    "    return data"
   ]
  },
  {
   "cell_type": "code",
   "execution_count": 167,
   "metadata": {},
   "outputs": [],
   "source": [
    "def DatosSinteticos(data,listaData,n_filas,clases):\n",
    "    nuevos_datos=np.empty([n_filas,len(data.columns)])\n",
    "    ColmunaY = np.random.randint(0,clases, n_filas)\n",
    "    #print(ColmunaY)\n",
    "    for i in range(len(data.columns)-1):\n",
    "        for j in range(0,n_filas):\n",
    "            pos=ColmunaY[j]\n",
    "            columna_i =listaData[pos].iloc[:,i]\n",
    "            muestras_i=np.random.choice(columna_i,1,replace=True)\n",
    "\n",
    "            pro_cambio = random.random()\n",
    "            decision = random.randint(0, 1)\n",
    "            if pro_cambio < 0.2:\n",
    "               muestras_i = muestras_i + pro_cambio if decision == 0 else muestras_i - pro_cambio\n",
    "\n",
    "            if(i == 0):\n",
    "                muestras_i=muestras_i.round(5)\n",
    "            else:\n",
    "                muestras_i=muestras_i.round(2)\n",
    "            #np.random.seed()\n",
    "            nuevos_datos[j:,i]=muestras_i\n",
    "            nuevos_datos[j:,len(data.columns)-1]=ColmunaY[j]\n",
    "    columnas =list(data.columns)\n",
    "    print(nuevos_datos)\n",
    "    nuevos_datos_data=pd.DataFrame(nuevos_datos,columns=columnas)\n",
    "    dataExtend =pd.concat([data,nuevos_datos_data],axis=0)\n",
    "    #print(dataExtend.tail())\n",
    "    return dataExtend"
   ]
  },
  {
   "cell_type": "code",
   "execution_count": 168,
   "metadata": {},
   "outputs": [],
   "source": [
    "def listaDataframes(data,clases,columna_y):\n",
    "    ListaData=[]\n",
    "    for i in range(0,clases):\n",
    "        ListaData.append(data[data[columna_y] == i])\n",
    "    return ListaData"
   ]
  },
  {
   "cell_type": "code",
   "execution_count": 169,
   "metadata": {},
   "outputs": [],
   "source": [
    "def col_categoricas(ruta):\n",
    "    data =pd.read_csv(ruta)\n",
    "    columnas_numericas = data.select_dtypes(include=['object'])\n",
    "    col_numericas = np.array([data.columns.get_loc(col) for col in columnas_numericas.columns])\n",
    "    return col_numericas"
   ]
  },
  {
   "cell_type": "code",
   "execution_count": 170,
   "metadata": {},
   "outputs": [],
   "source": [
    "def num_clasificaciones(data,columnay):\n",
    "    value = list(data[columnay].unique())\n",
    "    print(\"clases :\",value)\n",
    "    print('Cantidad:',len(value))\n",
    "    data.info()"
   ]
  },
  {
   "cell_type": "code",
   "execution_count": 171,
   "metadata": {},
   "outputs": [],
   "source": [
    "def reorganizarDataset(data, posicion_columna):\n",
    "    # Obtener el nombre de la columna a mover\n",
    "    nombre_columna = data.columns[posicion_columna]\n",
    "\n",
    "    # Crear una lista con las columnas en el nuevo orden\n",
    "    columnas_nuevas = list(data.columns[:posicion_columna]) + list(data.columns[posicion_columna+1:]) + [nombre_columna]\n",
    "    \n",
    "    # Crear un nuevo DataFrame con las columnas reorganizadas\n",
    "    data_reorganizado = data[columnas_nuevas]\n",
    "    \n",
    "    return data_reorganizado"
   ]
  },
  {
   "attachments": {},
   "cell_type": "markdown",
   "metadata": {},
   "source": [
    "### Algortimo one vs all"
   ]
  },
  {
   "cell_type": "code",
   "execution_count": 172,
   "metadata": {},
   "outputs": [],
   "source": [
    "# valores de prueba para los parámetros theta\n",
    "theta_t = np.array([-2, -1, 1, 2], dtype=float)\n",
    "\n",
    "# valores de prueba para las entradas\n",
    "X_t = np.concatenate([np.ones((5, 1)), np.arange(1, 16).reshape(5, 3, order='F')/10.0], axis=1)\n",
    "\n",
    "# valores de testeo para las etiquetas\n",
    "y_t = np.array([1, 0, 1, 0, 1])\n",
    "\n",
    "# valores de testeo para el parametro de regularizacion\n",
    "lambda_t = 3"
   ]
  },
  {
   "cell_type": "code",
   "execution_count": 173,
   "metadata": {},
   "outputs": [],
   "source": [
    "def sigmoid(z):\n",
    "    \"\"\"\n",
    "    Calcula la sigmoide de z.\n",
    "    \"\"\"\n",
    "    return 1.0 / (1.0 + np.exp(-z))"
   ]
  },
  {
   "cell_type": "code",
   "execution_count": 174,
   "metadata": {},
   "outputs": [],
   "source": [
    "def lrCostFunction(theta, X, y, lambda_):\n",
    " \n",
    "#     alpha = 0.003\n",
    "#     theta = theta.copy()\n",
    "    # Inicializa algunos valores utiles\n",
    "    m = y.size\n",
    "    epsilon = 1e-8  #evitar diviciones entre 0\n",
    "    # convierte las etiquetas a valores enteros si son boleanos\n",
    "    if y.dtype == bool:\n",
    "        y = y.astype(int)\n",
    "    \n",
    "    J = 0\n",
    "    grad = np.zeros(theta.shape)\n",
    "    \n",
    "    h = sigmoid(X.dot(theta.T))\n",
    "    \n",
    "    temp = theta\n",
    "    temp[0] = 0\n",
    "    \n",
    "#     J = (1 / m) * np.sum(-y.dot(np.log(h)) - (1 - y).dot(np.log(1 - h)))\n",
    "    J = (1 / m) * np.sum(-y.dot(np.log(h+epsilon)) - (1 - y).dot(np.log(1 - h+epsilon))) + (lambda_ / (2 * m)) * np.sum(np.square(temp))\n",
    "    \n",
    "    grad = (1 / m) * (h - y).dot(X)\n",
    "#     theta = theta - (alpha / m) * (h - y).dot(X)\n",
    "    grad = grad + (lambda_ / m) * temp\n",
    "\n",
    "    return J, grad\n",
    "#    return J, theta"
   ]
  },
  {
   "cell_type": "code",
   "execution_count": 175,
   "metadata": {},
   "outputs": [],
   "source": [
    "def oneVsAll(X, y, num_labels, lambda_,maxiter):\n",
    "    # algunas variables utiles\n",
    "    m, n = X.shape\n",
    "    \n",
    "    all_theta = np.zeros((num_labels, n + 1))\n",
    "\n",
    "    # Agrega unos a la matriz X\n",
    "    X = np.concatenate([np.ones((m, 1)), X], axis=1)\n",
    "\n",
    "    for c in np.arange(num_labels):\n",
    "        initial_theta = np.zeros(n + 1)\n",
    "        options = {'maxiter': maxiter}\n",
    "        res = optimize.minimize(lrCostFunction, \n",
    "                                initial_theta, \n",
    "                                (X, (y == c), lambda_), \n",
    "                                jac=True, \n",
    "                                method='CG',\n",
    "                                options=options) \n",
    "        \n",
    "        all_theta[c] = res.x\n",
    "\n",
    "    return all_theta"
   ]
  },
  {
   "cell_type": "code",
   "execution_count": 176,
   "metadata": {},
   "outputs": [],
   "source": [
    "def predictOneVsAll(all_theta, X):\n",
    "    m = X.shape[0];\n",
    "    num_labels = all_theta.shape[0]\n",
    "    p = np.zeros(m)\n",
    "    # Add ones to the X data matrix\n",
    "    X = np.concatenate([np.ones((m, 1)), X], axis=1)\n",
    "    p = np.argmax(sigmoid(X.dot(all_theta.T)), axis = 1)\n",
    "    return p"
   ]
  },
  {
   "attachments": {},
   "cell_type": "markdown",
   "metadata": {},
   "source": [
    "### Preparar Dataset "
   ]
  },
  {
   "cell_type": "code",
   "execution_count": 177,
   "metadata": {},
   "outputs": [
    {
     "name": "stdout",
     "output_type": "stream",
     "text": [
      "clases : ['D', 'A', 'B', 'C']\n",
      "Cantidad: 4\n",
      "<class 'pandas.core.frame.DataFrame'>\n",
      "RangeIndex: 8068 entries, 0 to 8067\n",
      "Data columns (total 11 columns):\n",
      " #   Column           Non-Null Count  Dtype  \n",
      "---  ------           --------------  -----  \n",
      " 0   ID               8068 non-null   int64  \n",
      " 1   Gender           8068 non-null   object \n",
      " 2   Ever_Married     7928 non-null   object \n",
      " 3   Age              8068 non-null   int64  \n",
      " 4   Graduated        7990 non-null   object \n",
      " 5   Profession       7944 non-null   object \n",
      " 6   Work_Experience  7239 non-null   float64\n",
      " 7   Spending_Score   8068 non-null   object \n",
      " 8   Family_Size      7733 non-null   float64\n",
      " 9   Var_1            7992 non-null   object \n",
      " 10  Segmentation     8068 non-null   object \n",
      "dtypes: float64(2), int64(2), object(7)\n",
      "memory usage: 693.5+ KB\n"
     ]
    }
   ],
   "source": [
    "data=pd.read_csv('./Data/Train.csv')\n",
    "num_clasificaciones(data,'Segmentation')"
   ]
  },
  {
   "cell_type": "code",
   "execution_count": 178,
   "metadata": {},
   "outputs": [
    {
     "name": "stdout",
     "output_type": "stream",
     "text": [
      "<class 'pandas.core.frame.DataFrame'>\n",
      "RangeIndex: 8068 entries, 0 to 8067\n",
      "Data columns (total 10 columns):\n",
      " #   Column           Non-Null Count  Dtype  \n",
      "---  ------           --------------  -----  \n",
      " 0   Gender           8068 non-null   int64  \n",
      " 1   Ever_Married     8068 non-null   int64  \n",
      " 2   Age              8068 non-null   int64  \n",
      " 3   Graduated        8068 non-null   int64  \n",
      " 4   Profession       8068 non-null   int64  \n",
      " 5   Work_Experience  8068 non-null   float64\n",
      " 6   Spending_Score   8068 non-null   int64  \n",
      " 7   Family_Size      8068 non-null   float64\n",
      " 8   Var_1            8068 non-null   int64  \n",
      " 9   Segmentation     8068 non-null   int64  \n",
      "dtypes: float64(2), int64(8)\n",
      "memory usage: 630.4 KB\n"
     ]
    }
   ],
   "source": [
    "#data = data.fillna(data.mean)\n",
    "#data['salario'] = data['salario'].fillna(100) #esto es para rellenar valores nulos en una columna especifica\n",
    "rutadatset='./Data/Train.csv'\n",
    "col_categoricas(rutadatset)\n",
    "data=tratadoDatos(rutadatset,[ 1,  2,  4,  5,  7,  9, 10],[0])\n",
    "data.info()"
   ]
  },
  {
   "cell_type": "code",
   "execution_count": 179,
   "metadata": {},
   "outputs": [
    {
     "data": {
      "text/html": [
       "<div>\n",
       "<style scoped>\n",
       "    .dataframe tbody tr th:only-of-type {\n",
       "        vertical-align: middle;\n",
       "    }\n",
       "\n",
       "    .dataframe tbody tr th {\n",
       "        vertical-align: top;\n",
       "    }\n",
       "\n",
       "    .dataframe thead th {\n",
       "        text-align: right;\n",
       "    }\n",
       "</style>\n",
       "<table border=\"1\" class=\"dataframe\">\n",
       "  <thead>\n",
       "    <tr style=\"text-align: right;\">\n",
       "      <th></th>\n",
       "      <th>Gender</th>\n",
       "      <th>Ever_Married</th>\n",
       "      <th>Age</th>\n",
       "      <th>Graduated</th>\n",
       "      <th>Profession</th>\n",
       "      <th>Work_Experience</th>\n",
       "      <th>Spending_Score</th>\n",
       "      <th>Family_Size</th>\n",
       "      <th>Var_1</th>\n",
       "      <th>Segmentation</th>\n",
       "    </tr>\n",
       "  </thead>\n",
       "  <tbody>\n",
       "    <tr>\n",
       "      <th>0</th>\n",
       "      <td>0</td>\n",
       "      <td>0</td>\n",
       "      <td>22</td>\n",
       "      <td>0</td>\n",
       "      <td>0</td>\n",
       "      <td>1.00</td>\n",
       "      <td>0</td>\n",
       "      <td>4.0</td>\n",
       "      <td>0</td>\n",
       "      <td>0</td>\n",
       "    </tr>\n",
       "    <tr>\n",
       "      <th>1</th>\n",
       "      <td>1</td>\n",
       "      <td>1</td>\n",
       "      <td>38</td>\n",
       "      <td>1</td>\n",
       "      <td>1</td>\n",
       "      <td>2.64</td>\n",
       "      <td>1</td>\n",
       "      <td>3.0</td>\n",
       "      <td>0</td>\n",
       "      <td>1</td>\n",
       "    </tr>\n",
       "    <tr>\n",
       "      <th>2</th>\n",
       "      <td>1</td>\n",
       "      <td>1</td>\n",
       "      <td>67</td>\n",
       "      <td>1</td>\n",
       "      <td>1</td>\n",
       "      <td>1.00</td>\n",
       "      <td>0</td>\n",
       "      <td>1.0</td>\n",
       "      <td>1</td>\n",
       "      <td>2</td>\n",
       "    </tr>\n",
       "    <tr>\n",
       "      <th>3</th>\n",
       "      <td>0</td>\n",
       "      <td>1</td>\n",
       "      <td>67</td>\n",
       "      <td>1</td>\n",
       "      <td>2</td>\n",
       "      <td>0.00</td>\n",
       "      <td>2</td>\n",
       "      <td>2.0</td>\n",
       "      <td>1</td>\n",
       "      <td>2</td>\n",
       "    </tr>\n",
       "    <tr>\n",
       "      <th>4</th>\n",
       "      <td>1</td>\n",
       "      <td>1</td>\n",
       "      <td>40</td>\n",
       "      <td>1</td>\n",
       "      <td>3</td>\n",
       "      <td>2.64</td>\n",
       "      <td>2</td>\n",
       "      <td>6.0</td>\n",
       "      <td>1</td>\n",
       "      <td>1</td>\n",
       "    </tr>\n",
       "  </tbody>\n",
       "</table>\n",
       "</div>"
      ],
      "text/plain": [
       "   Gender  Ever_Married  Age  Graduated  Profession  Work_Experience   \n",
       "0       0             0   22          0           0             1.00  \\\n",
       "1       1             1   38          1           1             2.64   \n",
       "2       1             1   67          1           1             1.00   \n",
       "3       0             1   67          1           2             0.00   \n",
       "4       1             1   40          1           3             2.64   \n",
       "\n",
       "   Spending_Score  Family_Size  Var_1  Segmentation  \n",
       "0               0          4.0      0             0  \n",
       "1               1          3.0      0             1  \n",
       "2               0          1.0      1             2  \n",
       "3               2          2.0      1             2  \n",
       "4               2          6.0      1             1  "
      ]
     },
     "execution_count": 179,
     "metadata": {},
     "output_type": "execute_result"
    }
   ],
   "source": [
    "data.head()"
   ]
  },
  {
   "attachments": {},
   "cell_type": "markdown",
   "metadata": {},
   "source": [
    "##### reoriganizar y crear datos sinteticos si lo requiere"
   ]
  },
  {
   "cell_type": "code",
   "execution_count": 180,
   "metadata": {},
   "outputs": [
    {
     "name": "stdout",
     "output_type": "stream",
     "text": [
      "[[ 0.    1.   39.98 ...  2.    0.    2.  ]\n",
      " [ 1.    1.   46.   ...  3.    1.    3.  ]\n",
      " [ 0.    1.   53.   ...  1.    0.    1.  ]\n",
      " ...\n",
      " [ 1.    1.   53.   ...  4.    3.    3.  ]\n",
      " [ 1.    1.   18.   ...  3.    4.01  0.  ]\n",
      " [ 1.    1.   51.97 ...  2.    1.    2.  ]]\n"
     ]
    }
   ],
   "source": [
    "#num_clasificaciones(data,'Segmentation')\n",
    "#Reorganizar las columnas\n",
    "#datar=reorganizarDataset(data,8)\n",
    "#datar.head()\n",
    "Listadata=listaDataframes(data,4,'Segmentation')\n",
    "data=DatosSinteticos(data,Listadata,5000,4)\n",
    "#generar un nuevo archivo cvs del nuevo dataset con datos sinteticos\n",
    "#data.to_csv('TrainSinteticos.csv',index=False)"
   ]
  },
  {
   "attachments": {},
   "cell_type": "markdown",
   "metadata": {},
   "source": [
    "### segmentacion del DataFrame para entrenamiento y Prueba"
   ]
  },
  {
   "cell_type": "code",
   "execution_count": 181,
   "metadata": {},
   "outputs": [],
   "source": [
    "#separar columna objetivo del dataFrame para X  y asignar objetivo a Y\n",
    "def segmantacion(data,columnay):\n",
    "    X = data.drop(columnay, axis=1)\n",
    "    y = data[columnay]\n",
    "    X_entre, X_prueba, y_entre, y_prueba = train_test_split(X, y, test_size=0.2, random_state=42)\n",
    "    return X_entre.to_numpy(), y_entre.to_numpy(),X_prueba.to_numpy(),y_prueba.to_numpy()"
   ]
  },
  {
   "cell_type": "code",
   "execution_count": 182,
   "metadata": {},
   "outputs": [
    {
     "name": "stdout",
     "output_type": "stream",
     "text": [
      "Entrenamiento: (10454, 9) (10454,) Prueba: (2614, 9) (2614,)\n"
     ]
    }
   ],
   "source": [
    "X_entre,y_entre,X_prueba,y_prueba=segmantacion(data,'Segmentation')\n",
    "num_labels = 4\n",
    "print('Entrenamiento:',X_entre.shape,y_entre.shape,'Prueba:',X_prueba.shape,y_prueba.shape)"
   ]
  },
  {
   "attachments": {},
   "cell_type": "markdown",
   "metadata": {},
   "source": [
    "### Ejecutar algoritmo One vs All"
   ]
  },
  {
   "cell_type": "code",
   "execution_count": 183,
   "metadata": {},
   "outputs": [
    {
     "name": "stdout",
     "output_type": "stream",
     "text": [
      "(4, 10)\n",
      "[[ 2.26523777e+00 -3.13124578e-01 -7.56628959e-01 -4.25158873e-02\n",
      "  -1.15206606e+00 -1.23025064e-01  3.02819071e-02 -6.82862637e-01\n",
      "   8.32417010e-02 -2.80843671e-02]\n",
      " [-8.18113300e-01  7.34396757e-02  6.63306876e-02  5.73494443e-03\n",
      "  -8.88365590e-02  4.00759390e-02  2.67311916e-02 -3.00315582e-01\n",
      "  -2.29390638e-01 -1.53507972e-03]\n",
      " [-2.37496315e+00  6.16889731e-02  3.72494297e-01  1.30347601e-02\n",
      "   3.60959418e-01  4.83080044e-02 -1.71589844e-02  2.01941346e-01\n",
      "  -4.81309886e-02 -3.14608959e-03]\n",
      " [-3.89082545e+00  1.43300192e-01  5.59410316e-01  1.38960699e-02\n",
      "   1.02229062e+00  7.27701279e-02 -3.54370607e-02  4.78602401e-01\n",
      "   1.52004020e-01  2.50693122e-02]]\n"
     ]
    }
   ],
   "source": [
    "lambda_ = 0.003 #mejor lambda es 0.009 maxiter=500\n",
    "all_theta = oneVsAll(X_entre, y_entre, num_labels, lambda_,800)\n",
    "print(all_theta.shape)\n",
    "print(all_theta)"
   ]
  },
  {
   "cell_type": "code",
   "execution_count": 184,
   "metadata": {},
   "outputs": [
    {
     "name": "stdout",
     "output_type": "stream",
     "text": [
      "(2614, 9)\n",
      "Precision del conjuto de entrenamiento: 46.1744%\n",
      "se espera de clase : 3.0\n",
      "La clase es:  [1]\n"
     ]
    }
   ],
   "source": [
    "print(X_prueba.shape)\n",
    "pred = predictOneVsAll(all_theta, X_prueba)\n",
    "print('Precision del conjuto de entrenamiento: {:.4f}%'.format(np.mean(pred == y_prueba) * 100))\n",
    "fila=2\n",
    "Xp = X_prueba[fila:fila+1, :].copy()\n",
    "print(\"se espera de clase :\",y_prueba[fila])\n",
    "\n",
    "Xp = np.concatenate([np.ones((1, 1)), Xp], axis=1)\n",
    "p = np.argmax(sigmoid(Xp.dot(all_theta.T)), axis = 1)\n",
    "print(\"La clase es: \", p)"
   ]
  }
 ],
 "metadata": {
  "kernelspec": {
   "display_name": "Python 3",
   "language": "python",
   "name": "python3"
  },
  "language_info": {
   "codemirror_mode": {
    "name": "ipython",
    "version": 3
   },
   "file_extension": ".py",
   "mimetype": "text/x-python",
   "name": "python",
   "nbconvert_exporter": "python",
   "pygments_lexer": "ipython3",
   "version": "3.10.11"
  },
  "orig_nbformat": 4
 },
 "nbformat": 4,
 "nbformat_minor": 2
}
